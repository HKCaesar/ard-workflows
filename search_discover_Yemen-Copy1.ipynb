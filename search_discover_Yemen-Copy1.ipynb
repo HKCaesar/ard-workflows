{
 "cells": [
  {
   "cell_type": "code",
   "execution_count": 1,
   "metadata": {},
   "outputs": [],
   "source": [
    "%load_ext autoreload\n",
    "%autoreload 2\n",
    "%matplotlib inline\n",
    "\n",
    "import geopandas as gpd\n",
    "from shapely.geometry import Polygon\n",
    "from shapely import wkt\n",
    "from shapely import wkb\n",
    "import matplotlib.pyplot as plt\n",
    "import matplotlib.dates as mdates\n",
    "from matplotlib.dates import DateFormatter\n",
    "import matplotlib.patches as mpatches\n",
    "from sentinelsat import SentinelAPI\n",
    "import pandas as pd\n",
    "from datetime import datetime\n",
    "from datetime import date\n",
    "import glob\n",
    "from collections import OrderedDict\n",
    "import os\n",
    "import csv\n",
    "\n",
    "import requests\n",
    "import json\n",
    "import getpass\n",
    "\n",
    "from utils.prepS2 import *\n",
    "from utils.utils import reproject_wkt_4326_3460"
   ]
  },
  {
   "cell_type": "markdown",
   "metadata": {},
   "source": [
    "## Prep data sets"
   ]
  },
  {
   "cell_type": "code",
   "execution_count": 9,
   "metadata": {},
   "outputs": [],
   "source": [
    "# Load all aois\n",
    "aois_dir = \"../DY/\"\n",
    "aois = [gpd.read_file(x) for x in glob.glob(aois_dir + '*.geojson')] # load aois\n",
    "aois = gpd.GeoDataFrame(pd.concat(aois)) # spatial join aois"
   ]
  },
  {
   "cell_type": "code",
   "execution_count": 6,
   "metadata": {},
   "outputs": [],
   "source": [
    "# Load landsat & sentinel-2 world tiles\n",
    "world_s2_granules = gpd.read_file('../Ancillary_Datasets/sentinel2_tiles_world/sentinel2_tiles_world.shp')\n",
    "# world_ls_granules = gpd.read_file('../Ancillary_Datasets/WRS2_descending.shp')"
   ]
  },
  {
   "cell_type": "code",
   "execution_count": 2,
   "metadata": {},
   "outputs": [],
   "source": [
    "world_borders = gpd.read_file('../Ancillary_Datasets/TM_WORLD_BORDERS-0.2/TM_WORLD_BORDERS-0.2.shp')\n",
    "yem = world_borders.loc[world_borders.NAME == 'Yemen']"
   ]
  },
  {
   "cell_type": "code",
   "execution_count": 5,
   "metadata": {},
   "outputs": [
    {
     "data": {
      "text/plain": [
       "<matplotlib.axes._subplots.AxesSubplot at 0x7f23bf5d0950>"
      ]
     },
     "execution_count": 5,
     "metadata": {},
     "output_type": "execute_result"
    },
    {
     "data": {
      "image/png": "[encoded data removed]",
      "text/plain": [
       "<Figure size 432x288 with 1 Axes>"
      ]
     },
     "metadata": {
      "needs_background": "light"
     },
     "output_type": "display_data"
    }
   ],
   "source": [
    "yem.plot()"
   ]
  },
  {
   "cell_type": "markdown",
   "metadata": {},
   "source": [
    "## Determine overlaping tiles"
   ]
  },
  {
   "cell_type": "code",
   "execution_count": 10,
   "metadata": {},
   "outputs": [],
   "source": [
    "# Create bool for intersection between any tiles \n",
    "for n, g in zip(yem.NAME, yem.geometry):\n",
    "#     world_ls_granules[n] = world_ls_granules.geometry.apply(lambda x: gpd.GeoSeries(x).intersects(g))\n",
    "    world_s2_granules[n] = world_s2_granules.geometry.apply(lambda x: gpd.GeoSeries(x).intersects(g))"
   ]
  },
  {
   "cell_type": "code",
   "execution_count": 13,
   "metadata": {},
   "outputs": [],
   "source": [
    "# Filter based on any intersections\n",
    "world_ls_granules['DY'] = world_ls_granules[world_ls_granules[aois.Name.values]].any(1)\n",
    "dy_ls_grans = world_ls_granules[world_ls_granules.DY==True]\n",
    "world_s2_granules['DY'] = world_s2_granules[world_s2_granules[aois.Name.values]].any(1)\n",
    "dy_s2_grans = world_s2_granules[world_s2_granules.DY==True]"
   ]
  },
  {
   "cell_type": "code",
   "execution_count": null,
   "metadata": {},
   "outputs": [],
   "source": [
    "# Plot coverage\n",
    "fig, ax = plt.subplots(figsize=(10,10),dpi=100)\n",
    "fig.autofmt_xdate()\n",
    "yem.plot(facecolor='', edgecolor='r', ax=ax, alpha=0.5)\n",
    "dy_ls_grans.plot(facecolor='', edgecolor='b', ax=ax, alpha=0.75)\n",
    "dy_s2_grans.plot(facecolor='', edgecolor='g', ax=ax, alpha=0.75)\n",
    "aois.plot(column = 'Name', ax=ax, alpha=0.2);\n",
    "ax.grid(alpha=0.5);\n",
    "ax.tick_params(axis='y', rotation=90);\n",
    "ax.tick_params(axis='x', rotation=0);"
   ]
  },
  {
   "cell_type": "markdown",
   "metadata": {},
   "source": [
    "## Determine availability of desired products"
   ]
  },
  {
   "cell_type": "code",
   "execution_count": 14,
   "metadata": {},
   "outputs": [],
   "source": [
    "base = aois_dir\n",
    "aoi = 'dy'"
   ]
  },
  {
   "cell_type": "code",
   "execution_count": 15,
   "metadata": {},
   "outputs": [],
   "source": [
    "# Landsat\n",
    "sensor = 'ls'\n",
    "src = 'usgs'\n",
    "pr = dy_ls_grans\n",
    "df = pd.read_csv('../Ancillary_Datasets/LANDSAT_8_C1.csv.gz')\n",
    "df = df[df.row.isin(pr.ROW.values)&df.path.isin(pr.PATH.values)]\n",
    "# df.to_csv(\"{}{}_{}_{}_{}.csv\".format(base, aoi, sensor, '8', src))\n",
    "res3 = df"
   ]
  },
  {
   "cell_type": "code",
   "execution_count": 16,
   "metadata": {},
   "outputs": [
    {
     "name": "stderr",
     "output_type": "stream",
     "text": [
      "Querying products: 100%|██████████| 191/191 [00:00<00:00, 128.92 products/s]\n",
      "Querying products: 100%|██████████| 191/191 [00:00<00:00, 110.20 products/s]\n",
      "Querying products: 100%|██████████| 506/506 [00:04<00:00, 102.97 products/s]\n",
      "Querying products: 100%|██████████| 491/491 [00:05<00:00, 68.05 products/s]\n",
      "Querying products: 100%|██████████| 488/488 [00:04<00:00, 82.35 products/s]\n",
      "Querying products: 100%|██████████| 475/475 [00:04<00:00, 77.74 products/s]\n"
     ]
    }
   ],
   "source": [
    "# Sentinel\n",
    "esa_api = SentinelAPI('tmj21','Welcome12!')\n",
    "sensor = 's2'\n",
    "src = 'esa'\n",
    "\n",
    "res1 = {}\n",
    "res2 = {}\n",
    "for g in aois.geometry.values:\n",
    "    g = g.envelope.wkt\n",
    "    res1.update(esa_api.query(g,platformname='Sentinel-2',producttype='S2MSI1C', date=('NOW-60DAYS', 'NOW')))\n",
    "    res2.update(esa_api.query(g,platformname='Sentinel-2',producttype='S2MSI2A', date=('NOW-60DAYS', 'NOW')))"
   ]
  },
  {
   "cell_type": "code",
   "execution_count": 17,
   "metadata": {},
   "outputs": [],
   "source": [
    "res1 = esa_api.to_geodataframe(res1)\n",
    "res2 = esa_api.to_geodataframe(res2)"
   ]
  },
  {
   "cell_type": "code",
   "execution_count": 18,
   "metadata": {},
   "outputs": [
    {
     "name": "stderr",
     "output_type": "stream",
     "text": [
      "/home/tj/miniconda3/envs/cs/lib/python3.7/site-packages/ipykernel_launcher.py:2: FutureWarning: Comparing Series of datetimes with 'datetime.date'.  Currently, the\n",
      "'datetime.date' is coerced to a datetime. In the future pandas will\n",
      "not coerce, and a TypeError will be raised. To retain the current\n",
      "behavior, convert the 'datetime.date' to a datetime with\n",
      "'pd.Timestamp'.\n",
      "  \n"
     ]
    }
   ],
   "source": [
    "res3['AcquisitionDate'] = pd.to_datetime(res3['acquisitionDate'], format='%Y-%m-%d')\n",
    "res3 = res3[(res3.AcquisitionDate>date(2019,5,1)) & (res3.AcquisitionDate<date(2020,1,1))]"
   ]
  },
  {
   "cell_type": "code",
   "execution_count": 19,
   "metadata": {},
   "outputs": [],
   "source": [
    "res2['tileid'] = res2.apply(lambda row: row.title.split('_')[5][1:], axis=1)\n",
    "# df['c'] = df.apply(lambda row: row.a + row.b, axis=1)"
   ]
  },
  {
   "cell_type": "markdown",
   "metadata": {},
   "source": [
    "## Summary of availability"
   ]
  },
  {
   "cell_type": "code",
   "execution_count": 33,
   "metadata": {},
   "outputs": [],
   "source": [
    "search_outputs_dir = aois_dir"
   ]
  },
  {
   "cell_type": "code",
   "execution_count": 34,
   "metadata": {
    "jupyter": {
     "source_hidden": true
    }
   },
   "outputs": [
    {
     "name": "stderr",
     "output_type": "stream",
     "text": [
      "/home/tj/miniconda3/envs/cs/lib/python3.7/site-packages/pandas/plotting/_matplotlib/converter.py:102: FutureWarning: Using an implicitly registered datetime converter for a matplotlib plotting method. The converter was registered by pandas on import. Future versions of pandas will require you to explicitly register matplotlib converters.\n",
      "\n",
      "To register the converters:\n",
      "\t>>> from pandas.plotting import register_matplotlib_converters\n",
      "\t>>> register_matplotlib_converters()\n",
      "  warnings.warn(msg, FutureWarning)\n"
     ]
    },
    {
     "data": {
      "image/png": "[encoded data removed]",
      "text/plain": [
       "<Figure size 1600x800 with 1 Axes>"
      ]
     },
     "metadata": {
      "needs_background": "light"
     },
     "output_type": "display_data"
    }
   ],
   "source": [
    "fig, ax = plt.subplots(figsize=(20,10),dpi=80)\n",
    "fig.autofmt_xdate()\n",
    "\n",
    "df = pd.read_csv(search_outputs_dir + 'dy_s2_l1c_esa.csv')\n",
    "df['Acquisition Date'] = pd.to_datetime(df['beginposition'], format='%Y-%m-%d', utc=True)\n",
    "ax.scatter(df['Acquisition Date'].values, df['cloudcoverpercentage'].values, marker='_');\n",
    "\n",
    "ax.scatter(res3['AcquisitionDate'].values, res3.cloudCover.values, marker='_')\n",
    "\n",
    "ax.set_ylabel(\"Cloud Cover (%)\");\n",
    "ax.set_xlabel(\"Acquisition Date\");\n",
    "ax.legend(['ESA_S2','USGS_L8','USGS_L7','USGS_L4-5TM','USGS_L1-4MSS']);\n",
    "ax.set_title('Landsat & Sentinel-2 Cloud Cover (Fiji)');\n",
    "ax.xaxis.set_major_locator(mdates.AutoDateLocator())\n",
    "ax.xaxis.set_major_formatter(DateFormatter(\"%Y-%m-%d\") ) \n",
    "ax.xaxis.set_minor_locator(mdates.MonthLocator())\n",
    "#ax.xaxis.set_minor_formatter(DateFormatter(\"%m\") ) \n",
    "ax.grid(which='both')\n",
    "fig.tight_layout()"
   ]
  },
  {
   "cell_type": "code",
   "execution_count": 35,
   "metadata": {
    "jupyter": {
     "source_hidden": true
    }
   },
   "outputs": [
    {
     "data": {
      "image/png": "[encoded data removed]",
      "text/plain": [
       "<Figure size 2400x1200 with 1 Axes>"
      ]
     },
     "metadata": {
      "needs_background": "light"
     },
     "output_type": "display_data"
    }
   ],
   "source": [
    "fig, ax = plt.subplots(figsize=(20,10),dpi=120)\n",
    "fig.autofmt_xdate()\n",
    "\n",
    "# df = pd.read_csv(search_outputs_dir + 'dy_s2_l1c_esa.csv')\n",
    "df = res1\n",
    "df['Acquisition Date'] = pd.to_datetime(df['beginposition'], format='%Y-%m-%d', utc=True)\n",
    "ax.scatter(df['Acquisition Date'].values, df['tileid'].values, marker='_', s=200);\n",
    "\n",
    "df = res2\n",
    "# df = pd.read_csv(search_outputs_dir + 'dy_s2_l2a_esa.csv')\n",
    "df['Acquisition Date'] = pd.to_datetime(df['beginposition'], format='%Y-%m-%d', utc=True)\n",
    "ax.scatter(df['Acquisition Date'].values, df['tileid'].values, marker='|');\n",
    "\n",
    "ax.set_ylabel(\"TileID\");\n",
    "ax.set_xlabel(\"Acquisition Date\");\n",
    "ax.legend(['ESA_S2_L1C','ESA_S2_L2A','USGS_L7','USGS_L4-5TM','USGS_L1-4MSS']);\n",
    "ax.set_title('Sentinel-2 L2A availability against L1C');\n",
    "ax.xaxis.set_major_locator(mdates.AutoDateLocator())\n",
    "ax.xaxis.set_major_formatter(DateFormatter(\"%Y-%m-%d\") ) \n",
    "ax.xaxis.set_minor_locator(mdates.MonthLocator())\n",
    "#ax.xaxis.set_minor_formatter(DateFormatter(\"%m\") ) \n",
    "ax.grid(which='both')\n",
    "fig.tight_layout()\n"
   ]
  },
  {
   "cell_type": "markdown",
   "metadata": {},
   "source": [
    "## Download Sentinel-2"
   ]
  },
  {
   "cell_type": "code",
   "execution_count": 20,
   "metadata": {},
   "outputs": [
    {
     "name": "stdout",
     "output_type": "stream",
     "text": [
      "Sentinel-2: 860\n",
      "Landsat-8: 136\n"
     ]
    }
   ],
   "source": [
    "s2ids = res2.uuid.values\n",
    "s2nms = [i +'.SAFE' for i in res2.title.values]\n",
    "print('Sentinel-2:', len(s2ids))\n",
    "print('Landsat-8:', len(res3))\n",
    "\n",
    "# for i,n in zip(s2ids, s2nms):\n",
    "#     print(i,n)"
   ]
  },
  {
   "cell_type": "code",
   "execution_count": 28,
   "metadata": {},
   "outputs": [],
   "source": [
    "non_cogs_dir = \"../DY/L2A/\"\n",
    "cogs_dir = \"../DY/COGS/\"\n",
    "log_file = \"./processLog.csv\""
   ]
  },
  {
   "cell_type": "code",
   "execution_count": 37,
   "metadata": {},
   "outputs": [
    {
     "name": "stdout",
     "output_type": "stream",
     "text": [
      "Scene name: S2A_MSIL2A_20190824T072621_T38PKB\n",
      "Time: 2019-08-28 20:48:03\n",
      "Download scene dir: ../DY/L2A/S2A_MSIL2A_20190824T072621_N0213_R049_T38PKB_20190824T104722.SAFE/\n",
      "Time: 2019-08-28 20:48:04\n",
      "ESA scene already extracted: ../DY/L2A/S2A_MSIL2A_20190824T072621_N0213_R049_T38PKB_20190824T104722.SAFE/\n",
      "Time: 2019-08-28 20:48:04\n",
      "COG dir: ../DY/COGS/S2A_MSIL2A_20190824T072621_T38PKB/\n",
      "cog already exists: ../DY/COGS/S2A_MSIL2A_20190824T072621_T38PKB/S2A_MSIL2A_20190824T072621_T38PKB_B02_10m.tif\n",
      "cog already exists: ../DY/COGS/S2A_MSIL2A_20190824T072621_T38PKB/S2A_MSIL2A_20190824T072621_T38PKB_B03_10m.tif\n",
      "cog already exists: ../DY/COGS/S2A_MSIL2A_20190824T072621_T38PKB/S2A_MSIL2A_20190824T072621_T38PKB_B04_10m.tif\n",
      "cog already exists: ../DY/COGS/S2A_MSIL2A_20190824T072621_T38PKB/S2A_MSIL2A_20190824T072621_T38PKB_B08_10m.tif\n",
      "Time: 2019-08-28 20:48:04\n",
      "../DY/COGS/S2A_MSIL2A_20190824T072621_T38PKB/S2A_MSIL2A_20190824T072621_T38PKB_NDVI_10m_inter.tif ../DY/COGS/S2A_MSIL2A_20190824T072621_T38PKB/S2A_MSIL2A_20190824T072621_T38PKB_NDVI_10m.tif\n",
      "Time: 2019-08-28 20:49:08\n",
      "Scene name: S2A_MSIL2A_20190824T072621_T38PKA\n",
      "Time: 2019-08-28 20:49:08\n",
      "Download scene dir: ../DY/L2A/S2A_MSIL2A_20190824T072621_N0213_R049_T38PKA_20190824T104722.SAFE/\n",
      "Time: 2019-08-28 20:49:09\n",
      "Downloading ESA scene zip: \n"
     ]
    },
    {
     "name": "stderr",
     "output_type": "stream",
     "text": [
      "Downloading: 100%|██████████| 857M/857M [18:33<00:00, 565kB/s]   \n",
      "MD5 checksumming: 100%|██████████| 857M/857M [00:02<00:00, 315MB/s] \n"
     ]
    },
    {
     "name": "stdout",
     "output_type": "stream",
     "text": [
      "Extracting ESA scene: ../DY/L2A/S2A_MSIL2A_20190824T072621_N0213_R049_T38PKA_20190824T104722.SAFE/\n",
      "Deleting ESA scene zip: ../DY/L2A/S2A_MSIL2A_20190824T072621_N0213_R049_T38PKA_20190824T104722.zip\n",
      "Time: 2019-08-28 21:07:51\n",
      "COG dir: ../DY/COGS/S2A_MSIL2A_20190824T072621_T38PKA/\n",
      "Creating scene cog directory: ../DY/COGS/S2A_MSIL2A_20190824T072621_T38PKA/\n",
      "../DY/L2A/S2A_MSIL2A_20190824T072621_N0213_R049_T38PKA_20190824T104722.SAFE/GRANULE/L2A_T38PKA_A021782_20190824T074108/IMG_DATA/R10m/T38PKA_20190824T072621_B02_10m.jp2 ../DY/COGS/S2A_MSIL2A_20190824T072621_T38PKA/S2A_MSIL2A_20190824T072621_T38PKA_B02_10m.tif\n",
      "../DY/L2A/S2A_MSIL2A_20190824T072621_N0213_R049_T38PKA_20190824T104722.SAFE/GRANULE/L2A_T38PKA_A021782_20190824T074108/IMG_DATA/R10m/T38PKA_20190824T072621_B03_10m.jp2 ../DY/COGS/S2A_MSIL2A_20190824T072621_T38PKA/S2A_MSIL2A_20190824T072621_T38PKA_B03_10m.tif\n",
      "../DY/L2A/S2A_MSIL2A_20190824T072621_N0213_R049_T38PKA_20190824T104722.SAFE/GRANULE/L2A_T38PKA_A021782_20190824T074108/IMG_DATA/R10m/T38PKA_20190824T072621_B04_10m.jp2 ../DY/COGS/S2A_MSIL2A_20190824T072621_T38PKA/S2A_MSIL2A_20190824T072621_T38PKA_B04_10m.tif\n",
      "../DY/L2A/S2A_MSIL2A_20190824T072621_N0213_R049_T38PKA_20190824T104722.SAFE/GRANULE/L2A_T38PKA_A021782_20190824T074108/IMG_DATA/R10m/T38PKA_20190824T072621_B08_10m.jp2 ../DY/COGS/S2A_MSIL2A_20190824T072621_T38PKA/S2A_MSIL2A_20190824T072621_T38PKA_B08_10m.tif\n",
      "Time: 2019-08-28 21:10:41\n",
      "../DY/COGS/S2A_MSIL2A_20190824T072621_T38PKA/S2A_MSIL2A_20190824T072621_T38PKA_NDVI_10m_inter.tif ../DY/COGS/S2A_MSIL2A_20190824T072621_T38PKA/S2A_MSIL2A_20190824T072621_T38PKA_NDVI_10m.tif\n",
      "Time: 2019-08-28 21:11:45\n",
      "Scene name: S2A_MSIL2A_20190824T072621_T37PHT\n",
      "Time: 2019-08-28 21:11:45\n",
      "Download scene dir: ../DY/L2A/S2A_MSIL2A_20190824T072621_N0213_R049_T37PHT_20190824T104722.SAFE/\n",
      "Time: 2019-08-28 21:11:47\n",
      "Downloading ESA scene zip: \n"
     ]
    },
    {
     "name": "stderr",
     "output_type": "stream",
     "text": [
      "Downloading: 100%|██████████| 529M/529M [09:42<00:00, 601kB/s]  \n",
      "MD5 checksumming: 100%|██████████| 529M/529M [00:01<00:00, 272MB/s] \n"
     ]
    },
    {
     "name": "stdout",
     "output_type": "stream",
     "text": [
      "Extracting ESA scene: ../DY/L2A/S2A_MSIL2A_20190824T072621_N0213_R049_T37PHT_20190824T104722.SAFE/\n",
      "Deleting ESA scene zip: ../DY/L2A/S2A_MSIL2A_20190824T072621_N0213_R049_T37PHT_20190824T104722.zip\n",
      "Time: 2019-08-28 21:21:35\n",
      "COG dir: ../DY/COGS/S2A_MSIL2A_20190824T072621_T37PHT/\n",
      "Creating scene cog directory: ../DY/COGS/S2A_MSIL2A_20190824T072621_T37PHT/\n",
      "../DY/L2A/S2A_MSIL2A_20190824T072621_N0213_R049_T37PHT_20190824T104722.SAFE/GRANULE/L2A_T37PHT_A021782_20190824T074108/IMG_DATA/R10m/T37PHT_20190824T072621_B02_10m.jp2 ../DY/COGS/S2A_MSIL2A_20190824T072621_T37PHT/S2A_MSIL2A_20190824T072621_T37PHT_B02_10m.tif\n",
      "../DY/L2A/S2A_MSIL2A_20190824T072621_N0213_R049_T37PHT_20190824T104722.SAFE/GRANULE/L2A_T37PHT_A021782_20190824T074108/IMG_DATA/R10m/T37PHT_20190824T072621_B03_10m.jp2 ../DY/COGS/S2A_MSIL2A_20190824T072621_T37PHT/S2A_MSIL2A_20190824T072621_T37PHT_B03_10m.tif\n",
      "../DY/L2A/S2A_MSIL2A_20190824T072621_N0213_R049_T37PHT_20190824T104722.SAFE/GRANULE/L2A_T37PHT_A021782_20190824T074108/IMG_DATA/R10m/T37PHT_20190824T072621_B04_10m.jp2 ../DY/COGS/S2A_MSIL2A_20190824T072621_T37PHT/S2A_MSIL2A_20190824T072621_T37PHT_B04_10m.tif\n",
      "../DY/L2A/S2A_MSIL2A_20190824T072621_N0213_R049_T37PHT_20190824T104722.SAFE/GRANULE/L2A_T37PHT_A021782_20190824T074108/IMG_DATA/R10m/T37PHT_20190824T072621_B08_10m.jp2 ../DY/COGS/S2A_MSIL2A_20190824T072621_T37PHT/S2A_MSIL2A_20190824T072621_T37PHT_B08_10m.tif\n",
      "Time: 2019-08-28 21:23:49\n",
      "../DY/COGS/S2A_MSIL2A_20190824T072621_T37PHT/S2A_MSIL2A_20190824T072621_T37PHT_NDVI_10m_inter.tif ../DY/COGS/S2A_MSIL2A_20190824T072621_T37PHT/S2A_MSIL2A_20190824T072621_T37PHT_NDVI_10m.tif\n",
      "Time: 2019-08-28 21:24:45\n",
      "Scene name: S2A_MSIL2A_20190824T072621_T37QHU\n",
      "Time: 2019-08-28 21:24:45\n",
      "Download scene dir: ../DY/L2A/S2A_MSIL2A_20190824T072621_N0213_R049_T37QHU_20190824T104722.SAFE/\n",
      "Time: 2019-08-28 21:24:47\n",
      "Downloading ESA scene zip: \n"
     ]
    },
    {
     "name": "stderr",
     "output_type": "stream",
     "text": [
      "Downloading: 100%|██████████| 440M/440M [08:23<00:00, 283kB/s]  \n",
      "MD5 checksumming: 100%|██████████| 440M/440M [00:01<00:00, 289MB/s] \n"
     ]
    },
    {
     "name": "stdout",
     "output_type": "stream",
     "text": [
      "Extracting ESA scene: ../DY/L2A/S2A_MSIL2A_20190824T072621_N0213_R049_T37QHU_20190824T104722.SAFE/\n",
      "Deleting ESA scene zip: ../DY/L2A/S2A_MSIL2A_20190824T072621_N0213_R049_T37QHU_20190824T104722.zip\n",
      "Time: 2019-08-28 21:33:16\n",
      "COG dir: ../DY/COGS/S2A_MSIL2A_20190824T072621_T37QHU/\n",
      "Creating scene cog directory: ../DY/COGS/S2A_MSIL2A_20190824T072621_T37QHU/\n",
      "../DY/L2A/S2A_MSIL2A_20190824T072621_N0213_R049_T37QHU_20190824T104722.SAFE/GRANULE/L2A_T37QHU_A021782_20190824T074108/IMG_DATA/R10m/T37QHU_20190824T072621_B02_10m.jp2 ../DY/COGS/S2A_MSIL2A_20190824T072621_T37QHU/S2A_MSIL2A_20190824T072621_T37QHU_B02_10m.tif\n",
      "../DY/L2A/S2A_MSIL2A_20190824T072621_N0213_R049_T37QHU_20190824T104722.SAFE/GRANULE/L2A_T37QHU_A021782_20190824T074108/IMG_DATA/R10m/T37QHU_20190824T072621_B03_10m.jp2 ../DY/COGS/S2A_MSIL2A_20190824T072621_T37QHU/S2A_MSIL2A_20190824T072621_T37QHU_B03_10m.tif\n",
      "../DY/L2A/S2A_MSIL2A_20190824T072621_N0213_R049_T37QHU_20190824T104722.SAFE/GRANULE/L2A_T37QHU_A021782_20190824T074108/IMG_DATA/R10m/T37QHU_20190824T072621_B04_10m.jp2 ../DY/COGS/S2A_MSIL2A_20190824T072621_T37QHU/S2A_MSIL2A_20190824T072621_T37QHU_B04_10m.tif\n",
      "../DY/L2A/S2A_MSIL2A_20190824T072621_N0213_R049_T37QHU_20190824T104722.SAFE/GRANULE/L2A_T37QHU_A021782_20190824T074108/IMG_DATA/R10m/T37QHU_20190824T072621_B08_10m.jp2 ../DY/COGS/S2A_MSIL2A_20190824T072621_T37QHU/S2A_MSIL2A_20190824T072621_T37QHU_B08_10m.tif\n",
      "Time: 2019-08-28 21:34:54\n",
      "../DY/COGS/S2A_MSIL2A_20190824T072621_T37QHU/S2A_MSIL2A_20190824T072621_T37QHU_NDVI_10m_inter.tif ../DY/COGS/S2A_MSIL2A_20190824T072621_T37QHU/S2A_MSIL2A_20190824T072621_T37QHU_NDVI_10m.tif\n",
      "Time: 2019-08-28 21:35:47\n",
      "Scene name: S2A_MSIL2A_20190824T072621_T37PHQ\n",
      "Time: 2019-08-28 21:35:47\n",
      "Download scene dir: ../DY/L2A/S2A_MSIL2A_20190824T072621_N0213_R049_T37PHQ_20190824T104722.SAFE/\n",
      "Time: 2019-08-28 21:35:48\n",
      "Downloading ESA scene zip: \n"
     ]
    },
    {
     "name": "stderr",
     "output_type": "stream",
     "text": [
      "Downloading: 100%|██████████| 1.01G/1.01G [18:09<00:00, 924kB/s] \n",
      "MD5 checksumming: 100%|██████████| 1.01G/1.01G [00:03<00:00, 307MB/s]\n"
     ]
    },
    {
     "name": "stdout",
     "output_type": "stream",
     "text": [
      "Extracting ESA scene: ../DY/L2A/S2A_MSIL2A_20190824T072621_N0213_R049_T37PHQ_20190824T104722.SAFE/\n",
      "Deleting ESA scene zip: ../DY/L2A/S2A_MSIL2A_20190824T072621_N0213_R049_T37PHQ_20190824T104722.zip\n",
      "Time: 2019-08-28 21:54:12\n",
      "COG dir: ../DY/COGS/S2A_MSIL2A_20190824T072621_T37PHQ/\n",
      "Creating scene cog directory: ../DY/COGS/S2A_MSIL2A_20190824T072621_T37PHQ/\n",
      "../DY/L2A/S2A_MSIL2A_20190824T072621_N0213_R049_T37PHQ_20190824T104722.SAFE/GRANULE/L2A_T37PHQ_A021782_20190824T074108/IMG_DATA/R10m/T37PHQ_20190824T072621_B02_10m.jp2 ../DY/COGS/S2A_MSIL2A_20190824T072621_T37PHQ/S2A_MSIL2A_20190824T072621_T37PHQ_B02_10m.tif\n",
      "../DY/L2A/S2A_MSIL2A_20190824T072621_N0213_R049_T37PHQ_20190824T104722.SAFE/GRANULE/L2A_T37PHQ_A021782_20190824T074108/IMG_DATA/R10m/T37PHQ_20190824T072621_B03_10m.jp2 ../DY/COGS/S2A_MSIL2A_20190824T072621_T37PHQ/S2A_MSIL2A_20190824T072621_T37PHQ_B03_10m.tif\n",
      "../DY/L2A/S2A_MSIL2A_20190824T072621_N0213_R049_T37PHQ_20190824T104722.SAFE/GRANULE/L2A_T37PHQ_A021782_20190824T074108/IMG_DATA/R10m/T37PHQ_20190824T072621_B04_10m.jp2 ../DY/COGS/S2A_MSIL2A_20190824T072621_T37PHQ/S2A_MSIL2A_20190824T072621_T37PHQ_B04_10m.tif\n",
      "../DY/L2A/S2A_MSIL2A_20190824T072621_N0213_R049_T37PHQ_20190824T104722.SAFE/GRANULE/L2A_T37PHQ_A021782_20190824T074108/IMG_DATA/R10m/T37PHQ_20190824T072621_B08_10m.jp2 ../DY/COGS/S2A_MSIL2A_20190824T072621_T37PHQ/S2A_MSIL2A_20190824T072621_T37PHQ_B08_10m.tif\n",
      "Time: 2019-08-28 21:57:19\n",
      "../DY/COGS/S2A_MSIL2A_20190824T072621_T37PHQ/S2A_MSIL2A_20190824T072621_T37PHQ_NDVI_10m_inter.tif ../DY/COGS/S2A_MSIL2A_20190824T072621_T37PHQ/S2A_MSIL2A_20190824T072621_T37PHQ_NDVI_10m.tif\n",
      "Time: 2019-08-28 21:58:21\n",
      "Scene name: S2A_MSIL2A_20190824T072621_T37PHR\n",
      "Time: 2019-08-28 21:58:21\n",
      "Download scene dir: ../DY/L2A/S2A_MSIL2A_20190824T072621_N0213_R049_T37PHR_20190824T104722.SAFE/\n",
      "Time: 2019-08-28 21:58:23\n",
      "Downloading ESA scene zip: \n"
     ]
    },
    {
     "name": "stderr",
     "output_type": "stream",
     "text": [
      "Downloading: 100%|██████████| 832M/832M [17:36<00:00, 916kB/s]  \n",
      "MD5 checksumming: 100%|██████████| 832M/832M [00:03<00:00, 256MB/s] \n"
     ]
    },
    {
     "name": "stdout",
     "output_type": "stream",
     "text": [
      "Extracting ESA scene: ../DY/L2A/S2A_MSIL2A_20190824T072621_N0213_R049_T37PHR_20190824T104722.SAFE/\n",
      "Deleting ESA scene zip: ../DY/L2A/S2A_MSIL2A_20190824T072621_N0213_R049_T37PHR_20190824T104722.zip\n",
      "Time: 2019-08-28 22:16:12\n",
      "COG dir: ../DY/COGS/S2A_MSIL2A_20190824T072621_T37PHR/\n",
      "Creating scene cog directory: ../DY/COGS/S2A_MSIL2A_20190824T072621_T37PHR/\n",
      "../DY/L2A/S2A_MSIL2A_20190824T072621_N0213_R049_T37PHR_20190824T104722.SAFE/GRANULE/L2A_T37PHR_A021782_20190824T074108/IMG_DATA/R10m/T37PHR_20190824T072621_B02_10m.jp2 ../DY/COGS/S2A_MSIL2A_20190824T072621_T37PHR/S2A_MSIL2A_20190824T072621_T37PHR_B02_10m.tif\n",
      "../DY/L2A/S2A_MSIL2A_20190824T072621_N0213_R049_T37PHR_20190824T104722.SAFE/GRANULE/L2A_T37PHR_A021782_20190824T074108/IMG_DATA/R10m/T37PHR_20190824T072621_B03_10m.jp2 ../DY/COGS/S2A_MSIL2A_20190824T072621_T37PHR/S2A_MSIL2A_20190824T072621_T37PHR_B03_10m.tif\n",
      "../DY/L2A/S2A_MSIL2A_20190824T072621_N0213_R049_T37PHR_20190824T104722.SAFE/GRANULE/L2A_T37PHR_A021782_20190824T074108/IMG_DATA/R10m/T37PHR_20190824T072621_B04_10m.jp2 ../DY/COGS/S2A_MSIL2A_20190824T072621_T37PHR/S2A_MSIL2A_20190824T072621_T37PHR_B04_10m.tif\n",
      "../DY/L2A/S2A_MSIL2A_20190824T072621_N0213_R049_T37PHR_20190824T104722.SAFE/GRANULE/L2A_T37PHR_A021782_20190824T074108/IMG_DATA/R10m/T37PHR_20190824T072621_B08_10m.jp2 ../DY/COGS/S2A_MSIL2A_20190824T072621_T37PHR/S2A_MSIL2A_20190824T072621_T37PHR_B08_10m.tif\n",
      "Time: 2019-08-28 22:19:24\n",
      "../DY/COGS/S2A_MSIL2A_20190824T072621_T37PHR/S2A_MSIL2A_20190824T072621_T37PHR_NDVI_10m_inter.tif ../DY/COGS/S2A_MSIL2A_20190824T072621_T37PHR/S2A_MSIL2A_20190824T072621_T37PHR_NDVI_10m.tif\n",
      "Time: 2019-08-28 22:20:26\n",
      "Scene name: S2A_MSIL2A_20190824T072621_T37PHS\n",
      "Time: 2019-08-28 22:20:26\n",
      "Download scene dir: ../DY/L2A/S2A_MSIL2A_20190824T072621_N0213_R049_T37PHS_20190824T104722.SAFE/\n",
      "Time: 2019-08-28 22:20:27\n",
      "Downloading ESA scene zip: \n"
     ]
    },
    {
     "name": "stderr",
     "output_type": "stream",
     "text": [
      "Downloading: 100%|██████████| 691M/691M [17:43<00:00, 526kB/s]  \n",
      "MD5 checksumming: 100%|██████████| 691M/691M [00:02<00:00, 281MB/s] \n"
     ]
    },
    {
     "name": "stdout",
     "output_type": "stream",
     "text": [
      "Extracting ESA scene: ../DY/L2A/S2A_MSIL2A_20190824T072621_N0213_R049_T37PHS_20190824T104722.SAFE/\n",
      "Deleting ESA scene zip: ../DY/L2A/S2A_MSIL2A_20190824T072621_N0213_R049_T37PHS_20190824T104722.zip\n",
      "Time: 2019-08-28 22:38:21\n",
      "COG dir: ../DY/COGS/S2A_MSIL2A_20190824T072621_T37PHS/\n",
      "Creating scene cog directory: ../DY/COGS/S2A_MSIL2A_20190824T072621_T37PHS/\n",
      "../DY/L2A/S2A_MSIL2A_20190824T072621_N0213_R049_T37PHS_20190824T104722.SAFE/GRANULE/L2A_T37PHS_A021782_20190824T074108/IMG_DATA/R10m/T37PHS_20190824T072621_B02_10m.jp2 ../DY/COGS/S2A_MSIL2A_20190824T072621_T37PHS/S2A_MSIL2A_20190824T072621_T37PHS_B02_10m.tif\n",
      "../DY/L2A/S2A_MSIL2A_20190824T072621_N0213_R049_T37PHS_20190824T104722.SAFE/GRANULE/L2A_T37PHS_A021782_20190824T074108/IMG_DATA/R10m/T37PHS_20190824T072621_B03_10m.jp2 ../DY/COGS/S2A_MSIL2A_20190824T072621_T37PHS/S2A_MSIL2A_20190824T072621_T37PHS_B03_10m.tif\n",
      "../DY/L2A/S2A_MSIL2A_20190824T072621_N0213_R049_T37PHS_20190824T104722.SAFE/GRANULE/L2A_T37PHS_A021782_20190824T074108/IMG_DATA/R10m/T37PHS_20190824T072621_B04_10m.jp2 ../DY/COGS/S2A_MSIL2A_20190824T072621_T37PHS/S2A_MSIL2A_20190824T072621_T37PHS_B04_10m.tif\n",
      "../DY/L2A/S2A_MSIL2A_20190824T072621_N0213_R049_T37PHS_20190824T104722.SAFE/GRANULE/L2A_T37PHS_A021782_20190824T074108/IMG_DATA/R10m/T37PHS_20190824T072621_B08_10m.jp2 ../DY/COGS/S2A_MSIL2A_20190824T072621_T37PHS/S2A_MSIL2A_20190824T072621_T37PHS_B08_10m.tif\n",
      "Time: 2019-08-28 22:40:51\n",
      "../DY/COGS/S2A_MSIL2A_20190824T072621_T37PHS/S2A_MSIL2A_20190824T072621_T37PHS_NDVI_10m_inter.tif ../DY/COGS/S2A_MSIL2A_20190824T072621_T37PHS/S2A_MSIL2A_20190824T072621_T37PHS_NDVI_10m.tif\n",
      "Time: 2019-08-28 22:41:52\n",
      "Scene name: S2B_MSIL2A_20190819T072619_T38PKV\n",
      "Time: 2019-08-28 22:41:52\n",
      "Download scene dir: ../DY/L2A/S2B_MSIL2A_20190819T072619_N0213_R049_T38PKV_20190819T115802.SAFE/\n",
      "Time: 2019-08-28 22:41:53\n",
      "Downloading ESA scene zip: \n"
     ]
    },
    {
     "name": "stderr",
     "output_type": "stream",
     "text": [
      "Downloading: 100%|██████████| 940M/940M [16:55<00:00, 580kB/s]  \n",
      "MD5 checksumming: 100%|██████████| 940M/940M [00:04<00:00, 233MB/s] \n"
     ]
    },
    {
     "name": "stdout",
     "output_type": "stream",
     "text": [
      "Extracting ESA scene: ../DY/L2A/S2B_MSIL2A_20190819T072619_N0213_R049_T38PKV_20190819T115802.SAFE/\n",
      "Deleting ESA scene zip: ../DY/L2A/S2B_MSIL2A_20190819T072619_N0213_R049_T38PKV_20190819T115802.zip\n",
      "Time: 2019-08-28 22:59:04\n",
      "COG dir: ../DY/COGS/S2B_MSIL2A_20190819T072619_T38PKV/\n",
      "Creating scene cog directory: ../DY/COGS/S2B_MSIL2A_20190819T072619_T38PKV/\n",
      "../DY/L2A/S2B_MSIL2A_20190819T072619_N0213_R049_T38PKV_20190819T115802.SAFE/GRANULE/L2A_T38PKV_A012802_20190819T074242/IMG_DATA/R10m/T38PKV_20190819T072619_B02_10m.jp2 ../DY/COGS/S2B_MSIL2A_20190819T072619_T38PKV/S2B_MSIL2A_20190819T072619_T38PKV_B02_10m.tif\n",
      "../DY/L2A/S2B_MSIL2A_20190819T072619_N0213_R049_T38PKV_20190819T115802.SAFE/GRANULE/L2A_T38PKV_A012802_20190819T074242/IMG_DATA/R10m/T38PKV_20190819T072619_B03_10m.jp2 ../DY/COGS/S2B_MSIL2A_20190819T072619_T38PKV/S2B_MSIL2A_20190819T072619_T38PKV_B03_10m.tif\n",
      "../DY/L2A/S2B_MSIL2A_20190819T072619_N0213_R049_T38PKV_20190819T115802.SAFE/GRANULE/L2A_T38PKV_A012802_20190819T074242/IMG_DATA/R10m/T38PKV_20190819T072619_B04_10m.jp2 ../DY/COGS/S2B_MSIL2A_20190819T072619_T38PKV/S2B_MSIL2A_20190819T072619_T38PKV_B04_10m.tif\n",
      "../DY/L2A/S2B_MSIL2A_20190819T072619_N0213_R049_T38PKV_20190819T115802.SAFE/GRANULE/L2A_T38PKV_A012802_20190819T074242/IMG_DATA/R10m/T38PKV_20190819T072619_B08_10m.jp2 ../DY/COGS/S2B_MSIL2A_20190819T072619_T38PKV/S2B_MSIL2A_20190819T072619_T38PKV_B08_10m.tif\n",
      "Time: 2019-08-28 23:02:06\n",
      "../DY/COGS/S2B_MSIL2A_20190819T072619_T38PKV/S2B_MSIL2A_20190819T072619_T38PKV_NDVI_10m_inter.tif ../DY/COGS/S2B_MSIL2A_20190819T072619_T38PKV/S2B_MSIL2A_20190819T072619_T38PKV_NDVI_10m.tif\n",
      "Time: 2019-08-28 23:03:10\n",
      "Scene name: S2B_MSIL2A_20190819T072619_T38PLC\n",
      "Time: 2019-08-28 23:03:10\n",
      "Download scene dir: ../DY/L2A/S2B_MSIL2A_20190819T072619_N0213_R049_T38PLC_20190819T115802.SAFE/\n",
      "Time: 2019-08-28 23:03:12\n",
      "Downloading ESA scene zip: \n"
     ]
    },
    {
     "name": "stderr",
     "output_type": "stream",
     "text": [
      "Downloading: 100%|██████████| 1.20G/1.20G [19:51<00:00, 1.13MB/s]\n",
      "MD5 checksumming: 100%|██████████| 1.20G/1.20G [00:04<00:00, 249MB/s]\n"
     ]
    },
    {
     "name": "stdout",
     "output_type": "stream",
     "text": [
      "Extracting ESA scene: ../DY/L2A/S2B_MSIL2A_20190819T072619_N0213_R049_T38PLC_20190819T115802.SAFE/\n",
      "Deleting ESA scene zip: ../DY/L2A/S2B_MSIL2A_20190819T072619_N0213_R049_T38PLC_20190819T115802.zip\n",
      "Time: 2019-08-28 23:23:25\n",
      "COG dir: ../DY/COGS/S2B_MSIL2A_20190819T072619_T38PLC/\n",
      "Creating scene cog directory: ../DY/COGS/S2B_MSIL2A_20190819T072619_T38PLC/\n",
      "../DY/L2A/S2B_MSIL2A_20190819T072619_N0213_R049_T38PLC_20190819T115802.SAFE/GRANULE/L2A_T38PLC_A012802_20190819T074242/IMG_DATA/R10m/T38PLC_20190819T072619_B02_10m.jp2 ../DY/COGS/S2B_MSIL2A_20190819T072619_T38PLC/S2B_MSIL2A_20190819T072619_T38PLC_B02_10m.tif\n",
      "../DY/L2A/S2B_MSIL2A_20190819T072619_N0213_R049_T38PLC_20190819T115802.SAFE/GRANULE/L2A_T38PLC_A012802_20190819T074242/IMG_DATA/R10m/T38PLC_20190819T072619_B03_10m.jp2 ../DY/COGS/S2B_MSIL2A_20190819T072619_T38PLC/S2B_MSIL2A_20190819T072619_T38PLC_B03_10m.tif\n",
      "../DY/L2A/S2B_MSIL2A_20190819T072619_N0213_R049_T38PLC_20190819T115802.SAFE/GRANULE/L2A_T38PLC_A012802_20190819T074242/IMG_DATA/R10m/T38PLC_20190819T072619_B04_10m.jp2 ../DY/COGS/S2B_MSIL2A_20190819T072619_T38PLC/S2B_MSIL2A_20190819T072619_T38PLC_B04_10m.tif\n",
      "../DY/L2A/S2B_MSIL2A_20190819T072619_N0213_R049_T38PLC_20190819T115802.SAFE/GRANULE/L2A_T38PLC_A012802_20190819T074242/IMG_DATA/R10m/T38PLC_20190819T072619_B08_10m.jp2 ../DY/COGS/S2B_MSIL2A_20190819T072619_T38PLC/S2B_MSIL2A_20190819T072619_T38PLC_B08_10m.tif\n",
      "Time: 2019-08-28 23:25:31\n",
      "../DY/COGS/S2B_MSIL2A_20190819T072619_T38PLC/S2B_MSIL2A_20190819T072619_T38PLC_NDVI_10m_inter.tif ../DY/COGS/S2B_MSIL2A_20190819T072619_T38PLC/S2B_MSIL2A_20190819T072619_T38PLC_NDVI_10m.tif\n",
      "Time: 2019-08-28 23:26:38\n",
      "Scene name: S2B_MSIL2A_20190819T072619_T38QLD\n",
      "Time: 2019-08-28 23:26:38\n",
      "Download scene dir: ../DY/L2A/S2B_MSIL2A_20190819T072619_N0213_R049_T38QLD_20190819T115802.SAFE/\n",
      "Time: 2019-08-28 23:26:39\n",
      "Downloading ESA scene zip: \n"
     ]
    },
    {
     "name": "stderr",
     "output_type": "stream",
     "text": [
      "Downloading: 100%|██████████| 1.18G/1.18G [20:33<00:00, 834kB/s] \n",
      "MD5 checksumming: 100%|██████████| 1.18G/1.18G [00:05<00:00, 213MB/s]\n"
     ]
    },
    {
     "name": "stdout",
     "output_type": "stream",
     "text": [
      "Extracting ESA scene: ../DY/L2A/S2B_MSIL2A_20190819T072619_N0213_R049_T38QLD_20190819T115802.SAFE/\n",
      "Deleting ESA scene zip: ../DY/L2A/S2B_MSIL2A_20190819T072619_N0213_R049_T38QLD_20190819T115802.zip\n",
      "Time: 2019-08-28 23:47:33\n",
      "COG dir: ../DY/COGS/S2B_MSIL2A_20190819T072619_T38QLD/\n",
      "Creating scene cog directory: ../DY/COGS/S2B_MSIL2A_20190819T072619_T38QLD/\n",
      "../DY/L2A/S2B_MSIL2A_20190819T072619_N0213_R049_T38QLD_20190819T115802.SAFE/GRANULE/L2A_T38QLD_A012802_20190819T074242/IMG_DATA/R10m/T38QLD_20190819T072619_B02_10m.jp2 ../DY/COGS/S2B_MSIL2A_20190819T072619_T38QLD/S2B_MSIL2A_20190819T072619_T38QLD_B02_10m.tif\n",
      "../DY/L2A/S2B_MSIL2A_20190819T072619_N0213_R049_T38QLD_20190819T115802.SAFE/GRANULE/L2A_T38QLD_A012802_20190819T074242/IMG_DATA/R10m/T38QLD_20190819T072619_B03_10m.jp2 ../DY/COGS/S2B_MSIL2A_20190819T072619_T38QLD/S2B_MSIL2A_20190819T072619_T38QLD_B03_10m.tif\n",
      "../DY/L2A/S2B_MSIL2A_20190819T072619_N0213_R049_T38QLD_20190819T115802.SAFE/GRANULE/L2A_T38QLD_A012802_20190819T074242/IMG_DATA/R10m/T38QLD_20190819T072619_B04_10m.jp2 ../DY/COGS/S2B_MSIL2A_20190819T072619_T38QLD/S2B_MSIL2A_20190819T072619_T38QLD_B04_10m.tif\n",
      "../DY/L2A/S2B_MSIL2A_20190819T072619_N0213_R049_T38QLD_20190819T115802.SAFE/GRANULE/L2A_T38QLD_A012802_20190819T074242/IMG_DATA/R10m/T38QLD_20190819T072619_B08_10m.jp2 ../DY/COGS/S2B_MSIL2A_20190819T072619_T38QLD/S2B_MSIL2A_20190819T072619_T38QLD_B08_10m.tif\n",
      "Time: 2019-08-28 23:49:39\n",
      "../DY/COGS/S2B_MSIL2A_20190819T072619_T38QLD/S2B_MSIL2A_20190819T072619_T38QLD_NDVI_10m_inter.tif ../DY/COGS/S2B_MSIL2A_20190819T072619_T38QLD/S2B_MSIL2A_20190819T072619_T38QLD_NDVI_10m.tif\n",
      "Time: 2019-08-28 23:50:46\n",
      "Scene name: S2B_MSIL2A_20190819T072619_T38PLB\n",
      "Time: 2019-08-28 23:50:46\n",
      "Download scene dir: ../DY/L2A/S2B_MSIL2A_20190819T072619_N0213_R049_T38PLB_20190819T115802.SAFE/\n",
      "Time: 2019-08-28 23:50:48\n",
      "Downloading ESA scene zip: \n"
     ]
    },
    {
     "name": "stderr",
     "output_type": "stream",
     "text": [
      "Downloading: 100%|██████████| 1.22G/1.22G [21:55<00:00, 856kB/s] \n",
      "MD5 checksumming: 100%|██████████| 1.22G/1.22G [00:05<00:00, 231MB/s]\n"
     ]
    },
    {
     "name": "stdout",
     "output_type": "stream",
     "text": [
      "Extracting ESA scene: ../DY/L2A/S2B_MSIL2A_20190819T072619_N0213_R049_T38PLB_20190819T115802.SAFE/\n",
      "Deleting ESA scene zip: ../DY/L2A/S2B_MSIL2A_20190819T072619_N0213_R049_T38PLB_20190819T115802.zip\n",
      "Time: 2019-08-29 00:13:03\n",
      "COG dir: ../DY/COGS/S2B_MSIL2A_20190819T072619_T38PLB/\n",
      "Creating scene cog directory: ../DY/COGS/S2B_MSIL2A_20190819T072619_T38PLB/\n",
      "../DY/L2A/S2B_MSIL2A_20190819T072619_N0213_R049_T38PLB_20190819T115802.SAFE/GRANULE/L2A_T38PLB_A012802_20190819T074242/IMG_DATA/R10m/T38PLB_20190819T072619_B02_10m.jp2 ../DY/COGS/S2B_MSIL2A_20190819T072619_T38PLB/S2B_MSIL2A_20190819T072619_T38PLB_B02_10m.tif\n",
      "../DY/L2A/S2B_MSIL2A_20190819T072619_N0213_R049_T38PLB_20190819T115802.SAFE/GRANULE/L2A_T38PLB_A012802_20190819T074242/IMG_DATA/R10m/T38PLB_20190819T072619_B03_10m.jp2 ../DY/COGS/S2B_MSIL2A_20190819T072619_T38PLB/S2B_MSIL2A_20190819T072619_T38PLB_B03_10m.tif\n",
      "../DY/L2A/S2B_MSIL2A_20190819T072619_N0213_R049_T38PLB_20190819T115802.SAFE/GRANULE/L2A_T38PLB_A012802_20190819T074242/IMG_DATA/R10m/T38PLB_20190819T072619_B04_10m.jp2 ../DY/COGS/S2B_MSIL2A_20190819T072619_T38PLB/S2B_MSIL2A_20190819T072619_T38PLB_B04_10m.tif\n",
      "../DY/L2A/S2B_MSIL2A_20190819T072619_N0213_R049_T38PLB_20190819T115802.SAFE/GRANULE/L2A_T38PLB_A012802_20190819T074242/IMG_DATA/R10m/T38PLB_20190819T072619_B08_10m.jp2 ../DY/COGS/S2B_MSIL2A_20190819T072619_T38PLB/S2B_MSIL2A_20190819T072619_T38PLB_B08_10m.tif\n",
      "Time: 2019-08-29 00:14:56\n",
      "../DY/COGS/S2B_MSIL2A_20190819T072619_T38PLB/S2B_MSIL2A_20190819T072619_T38PLB_NDVI_10m_inter.tif ../DY/COGS/S2B_MSIL2A_20190819T072619_T38PLB/S2B_MSIL2A_20190819T072619_T38PLB_NDVI_10m.tif\n",
      "Time: 2019-08-29 00:16:01\n",
      "Scene name: S2B_MSIL2A_20190819T072619_T38PLV\n",
      "Time: 2019-08-29 00:16:01\n",
      "Download scene dir: ../DY/L2A/S2B_MSIL2A_20190819T072619_N0213_R049_T38PLV_20190819T115802.SAFE/\n",
      "Time: 2019-08-29 00:16:05\n",
      "Downloading ESA scene zip: \n"
     ]
    },
    {
     "name": "stderr",
     "output_type": "stream",
     "text": [
      "Downloading: 100%|██████████| 1.08G/1.08G [18:50<00:00, 861kB/s] \n",
      "MD5 checksumming: 100%|██████████| 1.08G/1.08G [00:04<00:00, 229MB/s]\n"
     ]
    },
    {
     "name": "stdout",
     "output_type": "stream",
     "text": [
      "Extracting ESA scene: ../DY/L2A/S2B_MSIL2A_20190819T072619_N0213_R049_T38PLV_20190819T115802.SAFE/\n",
      "Deleting ESA scene zip: ../DY/L2A/S2B_MSIL2A_20190819T072619_N0213_R049_T38PLV_20190819T115802.zip\n",
      "Time: 2019-08-29 00:35:14\n",
      "COG dir: ../DY/COGS/S2B_MSIL2A_20190819T072619_T38PLV/\n",
      "Creating scene cog directory: ../DY/COGS/S2B_MSIL2A_20190819T072619_T38PLV/\n",
      "../DY/L2A/S2B_MSIL2A_20190819T072619_N0213_R049_T38PLV_20190819T115802.SAFE/GRANULE/L2A_T38PLV_A012802_20190819T074242/IMG_DATA/R10m/T38PLV_20190819T072619_B02_10m.jp2 ../DY/COGS/S2B_MSIL2A_20190819T072619_T38PLV/S2B_MSIL2A_20190819T072619_T38PLV_B02_10m.tif\n",
      "../DY/L2A/S2B_MSIL2A_20190819T072619_N0213_R049_T38PLV_20190819T115802.SAFE/GRANULE/L2A_T38PLV_A012802_20190819T074242/IMG_DATA/R10m/T38PLV_20190819T072619_B03_10m.jp2 ../DY/COGS/S2B_MSIL2A_20190819T072619_T38PLV/S2B_MSIL2A_20190819T072619_T38PLV_B03_10m.tif\n",
      "../DY/L2A/S2B_MSIL2A_20190819T072619_N0213_R049_T38PLV_20190819T115802.SAFE/GRANULE/L2A_T38PLV_A012802_20190819T074242/IMG_DATA/R10m/T38PLV_20190819T072619_B04_10m.jp2 ../DY/COGS/S2B_MSIL2A_20190819T072619_T38PLV/S2B_MSIL2A_20190819T072619_T38PLV_B04_10m.tif\n",
      "../DY/L2A/S2B_MSIL2A_20190819T072619_N0213_R049_T38PLV_20190819T115802.SAFE/GRANULE/L2A_T38PLV_A012802_20190819T074242/IMG_DATA/R10m/T38PLV_20190819T072619_B08_10m.jp2 ../DY/COGS/S2B_MSIL2A_20190819T072619_T38PLV/S2B_MSIL2A_20190819T072619_T38PLV_B08_10m.tif\n",
      "Time: 2019-08-29 00:37:39\n",
      "../DY/COGS/S2B_MSIL2A_20190819T072619_T38PLV/S2B_MSIL2A_20190819T072619_T38PLV_NDVI_10m_inter.tif ../DY/COGS/S2B_MSIL2A_20190819T072619_T38PLV/S2B_MSIL2A_20190819T072619_T38PLV_NDVI_10m.tif\n",
      "Time: 2019-08-29 00:38:43\n",
      "Scene name: S2B_MSIL2A_20190819T072619_T38QKD\n",
      "Time: 2019-08-29 00:38:43\n",
      "Download scene dir: ../DY/L2A/S2B_MSIL2A_20190819T072619_N0213_R049_T38QKD_20190819T115802.SAFE/\n",
      "Time: 2019-08-29 00:38:44\n",
      "Downloading ESA scene zip: \n"
     ]
    },
    {
     "name": "stderr",
     "output_type": "stream",
     "text": [
      "Downloading: 100%|██████████| 871M/871M [13:14<00:00, 981kB/s]  \n",
      "MD5 checksumming: 100%|██████████| 871M/871M [00:03<00:00, 230MB/s] \n"
     ]
    },
    {
     "name": "stdout",
     "output_type": "stream",
     "text": [
      "Extracting ESA scene: ../DY/L2A/S2B_MSIL2A_20190819T072619_N0213_R049_T38QKD_20190819T115802.SAFE/\n",
      "Deleting ESA scene zip: ../DY/L2A/S2B_MSIL2A_20190819T072619_N0213_R049_T38QKD_20190819T115802.zip\n",
      "Time: 2019-08-29 00:52:12\n",
      "COG dir: ../DY/COGS/S2B_MSIL2A_20190819T072619_T38QKD/\n",
      "Creating scene cog directory: ../DY/COGS/S2B_MSIL2A_20190819T072619_T38QKD/\n",
      "../DY/L2A/S2B_MSIL2A_20190819T072619_N0213_R049_T38QKD_20190819T115802.SAFE/GRANULE/L2A_T38QKD_A012802_20190819T074242/IMG_DATA/R10m/T38QKD_20190819T072619_B02_10m.jp2 ../DY/COGS/S2B_MSIL2A_20190819T072619_T38QKD/S2B_MSIL2A_20190819T072619_T38QKD_B02_10m.tif\n",
      "../DY/L2A/S2B_MSIL2A_20190819T072619_N0213_R049_T38QKD_20190819T115802.SAFE/GRANULE/L2A_T38QKD_A012802_20190819T074242/IMG_DATA/R10m/T38QKD_20190819T072619_B03_10m.jp2 ../DY/COGS/S2B_MSIL2A_20190819T072619_T38QKD/S2B_MSIL2A_20190819T072619_T38QKD_B03_10m.tif\n",
      "../DY/L2A/S2B_MSIL2A_20190819T072619_N0213_R049_T38QKD_20190819T115802.SAFE/GRANULE/L2A_T38QKD_A012802_20190819T074242/IMG_DATA/R10m/T38QKD_20190819T072619_B04_10m.jp2 ../DY/COGS/S2B_MSIL2A_20190819T072619_T38QKD/S2B_MSIL2A_20190819T072619_T38QKD_B04_10m.tif\n",
      "../DY/L2A/S2B_MSIL2A_20190819T072619_N0213_R049_T38QKD_20190819T115802.SAFE/GRANULE/L2A_T38QKD_A012802_20190819T074242/IMG_DATA/R10m/T38QKD_20190819T072619_B08_10m.jp2 ../DY/COGS/S2B_MSIL2A_20190819T072619_T38QKD/S2B_MSIL2A_20190819T072619_T38QKD_B08_10m.tif\n",
      "Time: 2019-08-29 00:54:39\n",
      "../DY/COGS/S2B_MSIL2A_20190819T072619_T38QKD/S2B_MSIL2A_20190819T072619_T38QKD_NDVI_10m_inter.tif ../DY/COGS/S2B_MSIL2A_20190819T072619_T38QKD/S2B_MSIL2A_20190819T072619_T38QKD_NDVI_10m.tif\n",
      "Time: 2019-08-29 00:55:39\n",
      "Scene name: S2B_MSIL2A_20190819T072619_T37PHS\n",
      "Time: 2019-08-29 00:55:39\n",
      "Download scene dir: ../DY/L2A/S2B_MSIL2A_20190819T072619_N0213_R049_T37PHS_20190819T115802.SAFE/\n",
      "Time: 2019-08-29 00:55:40\n",
      "Downloading ESA scene zip: \n"
     ]
    },
    {
     "name": "stderr",
     "output_type": "stream",
     "text": [
      "Downloading: 100%|██████████| 667M/667M [10:37<00:00, 1.31MB/s] \n",
      "MD5 checksumming: 100%|██████████| 667M/667M [00:02<00:00, 261MB/s] \n"
     ]
    },
    {
     "name": "stdout",
     "output_type": "stream",
     "text": [
      "Extracting ESA scene: ../DY/L2A/S2B_MSIL2A_20190819T072619_N0213_R049_T37PHS_20190819T115802.SAFE/\n",
      "Deleting ESA scene zip: ../DY/L2A/S2B_MSIL2A_20190819T072619_N0213_R049_T37PHS_20190819T115802.zip\n",
      "Time: 2019-08-29 01:06:28\n",
      "COG dir: ../DY/COGS/S2B_MSIL2A_20190819T072619_T37PHS/\n",
      "Creating scene cog directory: ../DY/COGS/S2B_MSIL2A_20190819T072619_T37PHS/\n",
      "../DY/L2A/S2B_MSIL2A_20190819T072619_N0213_R049_T37PHS_20190819T115802.SAFE/GRANULE/L2A_T37PHS_A012802_20190819T074242/IMG_DATA/R10m/T37PHS_20190819T072619_B02_10m.jp2 ../DY/COGS/S2B_MSIL2A_20190819T072619_T37PHS/S2B_MSIL2A_20190819T072619_T37PHS_B02_10m.tif\n",
      "../DY/L2A/S2B_MSIL2A_20190819T072619_N0213_R049_T37PHS_20190819T115802.SAFE/GRANULE/L2A_T37PHS_A012802_20190819T074242/IMG_DATA/R10m/T37PHS_20190819T072619_B03_10m.jp2 ../DY/COGS/S2B_MSIL2A_20190819T072619_T37PHS/S2B_MSIL2A_20190819T072619_T37PHS_B03_10m.tif\n",
      "../DY/L2A/S2B_MSIL2A_20190819T072619_N0213_R049_T37PHS_20190819T115802.SAFE/GRANULE/L2A_T37PHS_A012802_20190819T074242/IMG_DATA/R10m/T37PHS_20190819T072619_B04_10m.jp2 ../DY/COGS/S2B_MSIL2A_20190819T072619_T37PHS/S2B_MSIL2A_20190819T072619_T37PHS_B04_10m.tif\n",
      "../DY/L2A/S2B_MSIL2A_20190819T072619_N0213_R049_T37PHS_20190819T115802.SAFE/GRANULE/L2A_T37PHS_A012802_20190819T074242/IMG_DATA/R10m/T37PHS_20190819T072619_B08_10m.jp2 ../DY/COGS/S2B_MSIL2A_20190819T072619_T37PHS/S2B_MSIL2A_20190819T072619_T37PHS_B08_10m.tif\n",
      "Time: 2019-08-29 01:09:23\n",
      "../DY/COGS/S2B_MSIL2A_20190819T072619_T37PHS/S2B_MSIL2A_20190819T072619_T37PHS_NDVI_10m_inter.tif ../DY/COGS/S2B_MSIL2A_20190819T072619_T37PHS/S2B_MSIL2A_20190819T072619_T37PHS_NDVI_10m.tif\n",
      "Time: 2019-08-29 01:10:26\n",
      "Scene name: S2B_MSIL2A_20190819T072619_T37PHT\n",
      "Time: 2019-08-29 01:10:26\n",
      "Download scene dir: ../DY/L2A/S2B_MSIL2A_20190819T072619_N0213_R049_T37PHT_20190819T115802.SAFE/\n",
      "Time: 2019-08-29 01:10:27\n",
      "Downloading ESA scene zip: \n"
     ]
    },
    {
     "name": "stderr",
     "output_type": "stream",
     "text": [
      "Downloading: 100%|██████████| 524M/524M [08:14<00:00, 692kB/s]  \n",
      "MD5 checksumming: 100%|██████████| 524M/524M [00:01<00:00, 296MB/s] \n"
     ]
    },
    {
     "name": "stdout",
     "output_type": "stream",
     "text": [
      "Extracting ESA scene: ../DY/L2A/S2B_MSIL2A_20190819T072619_N0213_R049_T37PHT_20190819T115802.SAFE/\n",
      "Deleting ESA scene zip: ../DY/L2A/S2B_MSIL2A_20190819T072619_N0213_R049_T37PHT_20190819T115802.zip\n",
      "Time: 2019-08-29 01:18:47\n",
      "COG dir: ../DY/COGS/S2B_MSIL2A_20190819T072619_T37PHT/\n",
      "Creating scene cog directory: ../DY/COGS/S2B_MSIL2A_20190819T072619_T37PHT/\n",
      "../DY/L2A/S2B_MSIL2A_20190819T072619_N0213_R049_T37PHT_20190819T115802.SAFE/GRANULE/L2A_T37PHT_A012802_20190819T074242/IMG_DATA/R10m/T37PHT_20190819T072619_B02_10m.jp2 ../DY/COGS/S2B_MSIL2A_20190819T072619_T37PHT/S2B_MSIL2A_20190819T072619_T37PHT_B02_10m.tif\n",
      "../DY/L2A/S2B_MSIL2A_20190819T072619_N0213_R049_T37PHT_20190819T115802.SAFE/GRANULE/L2A_T37PHT_A012802_20190819T074242/IMG_DATA/R10m/T37PHT_20190819T072619_B03_10m.jp2 ../DY/COGS/S2B_MSIL2A_20190819T072619_T37PHT/S2B_MSIL2A_20190819T072619_T37PHT_B03_10m.tif\n",
      "../DY/L2A/S2B_MSIL2A_20190819T072619_N0213_R049_T37PHT_20190819T115802.SAFE/GRANULE/L2A_T37PHT_A012802_20190819T074242/IMG_DATA/R10m/T37PHT_20190819T072619_B04_10m.jp2 ../DY/COGS/S2B_MSIL2A_20190819T072619_T37PHT/S2B_MSIL2A_20190819T072619_T37PHT_B04_10m.tif\n",
      "../DY/L2A/S2B_MSIL2A_20190819T072619_N0213_R049_T37PHT_20190819T115802.SAFE/GRANULE/L2A_T37PHT_A012802_20190819T074242/IMG_DATA/R10m/T37PHT_20190819T072619_B08_10m.jp2 ../DY/COGS/S2B_MSIL2A_20190819T072619_T37PHT/S2B_MSIL2A_20190819T072619_T37PHT_B08_10m.tif\n",
      "Time: 2019-08-29 01:21:08\n",
      "../DY/COGS/S2B_MSIL2A_20190819T072619_T37PHT/S2B_MSIL2A_20190819T072619_T37PHT_NDVI_10m_inter.tif ../DY/COGS/S2B_MSIL2A_20190819T072619_T37PHT/S2B_MSIL2A_20190819T072619_T37PHT_NDVI_10m.tif\n",
      "Time: 2019-08-29 01:22:07\n",
      "Scene name: S2B_MSIL2A_20190819T072619_T37QHU\n",
      "Time: 2019-08-29 01:22:07\n",
      "Download scene dir: ../DY/L2A/S2B_MSIL2A_20190819T072619_N0213_R049_T37QHU_20190819T115802.SAFE/\n",
      "Time: 2019-08-29 01:22:07\n",
      "Downloading ESA scene zip: \n"
     ]
    },
    {
     "name": "stderr",
     "output_type": "stream",
     "text": [
      "Downloading: 100%|██████████| 432M/432M [07:55<00:00, 896kB/s]  \n",
      "MD5 checksumming: 100%|██████████| 432M/432M [00:01<00:00, 249MB/s] \n"
     ]
    },
    {
     "name": "stdout",
     "output_type": "stream",
     "text": [
      "Extracting ESA scene: ../DY/L2A/S2B_MSIL2A_20190819T072619_N0213_R049_T37QHU_20190819T115802.SAFE/\n",
      "Deleting ESA scene zip: ../DY/L2A/S2B_MSIL2A_20190819T072619_N0213_R049_T37QHU_20190819T115802.zip\n",
      "Time: 2019-08-29 01:30:08\n",
      "COG dir: ../DY/COGS/S2B_MSIL2A_20190819T072619_T37QHU/\n",
      "Creating scene cog directory: ../DY/COGS/S2B_MSIL2A_20190819T072619_T37QHU/\n",
      "../DY/L2A/S2B_MSIL2A_20190819T072619_N0213_R049_T37QHU_20190819T115802.SAFE/GRANULE/L2A_T37QHU_A012802_20190819T074242/IMG_DATA/R10m/T37QHU_20190819T072619_B02_10m.jp2 ../DY/COGS/S2B_MSIL2A_20190819T072619_T37QHU/S2B_MSIL2A_20190819T072619_T37QHU_B02_10m.tif\n",
      "../DY/L2A/S2B_MSIL2A_20190819T072619_N0213_R049_T37QHU_20190819T115802.SAFE/GRANULE/L2A_T37QHU_A012802_20190819T074242/IMG_DATA/R10m/T37QHU_20190819T072619_B03_10m.jp2 ../DY/COGS/S2B_MSIL2A_20190819T072619_T37QHU/S2B_MSIL2A_20190819T072619_T37QHU_B03_10m.tif\n",
      "../DY/L2A/S2B_MSIL2A_20190819T072619_N0213_R049_T37QHU_20190819T115802.SAFE/GRANULE/L2A_T37QHU_A012802_20190819T074242/IMG_DATA/R10m/T37QHU_20190819T072619_B04_10m.jp2 ../DY/COGS/S2B_MSIL2A_20190819T072619_T37QHU/S2B_MSIL2A_20190819T072619_T37QHU_B04_10m.tif\n",
      "../DY/L2A/S2B_MSIL2A_20190819T072619_N0213_R049_T37QHU_20190819T115802.SAFE/GRANULE/L2A_T37QHU_A012802_20190819T074242/IMG_DATA/R10m/T37QHU_20190819T072619_B08_10m.jp2 ../DY/COGS/S2B_MSIL2A_20190819T072619_T37QHU/S2B_MSIL2A_20190819T072619_T37QHU_B08_10m.tif\n",
      "Time: 2019-08-29 01:31:56\n",
      "../DY/COGS/S2B_MSIL2A_20190819T072619_T37QHU/S2B_MSIL2A_20190819T072619_T37QHU_NDVI_10m_inter.tif ../DY/COGS/S2B_MSIL2A_20190819T072619_T37QHU/S2B_MSIL2A_20190819T072619_T37QHU_NDVI_10m.tif\n",
      "Time: 2019-08-29 01:32:51\n",
      "Scene name: S2B_MSIL2A_20190819T072619_T38PKB\n",
      "Time: 2019-08-29 01:32:51\n",
      "Download scene dir: ../DY/L2A/S2B_MSIL2A_20190819T072619_N0213_R049_T38PKB_20190819T115802.SAFE/\n",
      "Time: 2019-08-29 01:32:52\n",
      "Downloading ESA scene zip: \n"
     ]
    },
    {
     "name": "stderr",
     "output_type": "stream",
     "text": [
      "Downloading: 100%|██████████| 914M/914M [14:42<00:00, 1.18MB/s] \n",
      "MD5 checksumming: 100%|██████████| 914M/914M [00:03<00:00, 235MB/s] \n"
     ]
    },
    {
     "name": "stdout",
     "output_type": "stream",
     "text": [
      "Extracting ESA scene: ../DY/L2A/S2B_MSIL2A_20190819T072619_N0213_R049_T38PKB_20190819T115802.SAFE/\n",
      "Deleting ESA scene zip: ../DY/L2A/S2B_MSIL2A_20190819T072619_N0213_R049_T38PKB_20190819T115802.zip\n",
      "Time: 2019-08-29 01:47:49\n",
      "COG dir: ../DY/COGS/S2B_MSIL2A_20190819T072619_T38PKB/\n",
      "Creating scene cog directory: ../DY/COGS/S2B_MSIL2A_20190819T072619_T38PKB/\n",
      "../DY/L2A/S2B_MSIL2A_20190819T072619_N0213_R049_T38PKB_20190819T115802.SAFE/GRANULE/L2A_T38PKB_A012802_20190819T074242/IMG_DATA/R10m/T38PKB_20190819T072619_B02_10m.jp2 ../DY/COGS/S2B_MSIL2A_20190819T072619_T38PKB/S2B_MSIL2A_20190819T072619_T38PKB_B02_10m.tif\n",
      "../DY/L2A/S2B_MSIL2A_20190819T072619_N0213_R049_T38PKB_20190819T115802.SAFE/GRANULE/L2A_T38PKB_A012802_20190819T074242/IMG_DATA/R10m/T38PKB_20190819T072619_B03_10m.jp2 ../DY/COGS/S2B_MSIL2A_20190819T072619_T38PKB/S2B_MSIL2A_20190819T072619_T38PKB_B03_10m.tif\n",
      "../DY/L2A/S2B_MSIL2A_20190819T072619_N0213_R049_T38PKB_20190819T115802.SAFE/GRANULE/L2A_T38PKB_A012802_20190819T074242/IMG_DATA/R10m/T38PKB_20190819T072619_B04_10m.jp2 ../DY/COGS/S2B_MSIL2A_20190819T072619_T38PKB/S2B_MSIL2A_20190819T072619_T38PKB_B04_10m.tif\n",
      "../DY/L2A/S2B_MSIL2A_20190819T072619_N0213_R049_T38PKB_20190819T115802.SAFE/GRANULE/L2A_T38PKB_A012802_20190819T074242/IMG_DATA/R10m/T38PKB_20190819T072619_B08_10m.jp2 ../DY/COGS/S2B_MSIL2A_20190819T072619_T38PKB/S2B_MSIL2A_20190819T072619_T38PKB_B08_10m.tif\n",
      "Time: 2019-08-29 01:50:53\n",
      "../DY/COGS/S2B_MSIL2A_20190819T072619_T38PKB/S2B_MSIL2A_20190819T072619_T38PKB_NDVI_10m_inter.tif ../DY/COGS/S2B_MSIL2A_20190819T072619_T38PKB/S2B_MSIL2A_20190819T072619_T38PKB_NDVI_10m.tif\n",
      "Time: 2019-08-29 01:52:00\n",
      "Scene name: S2B_MSIL2A_20190819T072619_T37PHQ\n",
      "Time: 2019-08-29 01:52:00\n",
      "Download scene dir: ../DY/L2A/S2B_MSIL2A_20190819T072619_N0213_R049_T37PHQ_20190819T115802.SAFE/\n",
      "Time: 2019-08-29 01:52:01\n",
      "Downloading ESA scene zip: \n"
     ]
    },
    {
     "name": "stderr",
     "output_type": "stream",
     "text": [
      "Downloading: 100%|██████████| 1.05G/1.05G [17:55<00:00, 1.33MB/s]\n",
      "MD5 checksumming: 100%|██████████| 1.05G/1.05G [00:04<00:00, 239MB/s]\n"
     ]
    },
    {
     "name": "stdout",
     "output_type": "stream",
     "text": [
      "Extracting ESA scene: ../DY/L2A/S2B_MSIL2A_20190819T072619_N0213_R049_T37PHQ_20190819T115802.SAFE/\n",
      "Deleting ESA scene zip: ../DY/L2A/S2B_MSIL2A_20190819T072619_N0213_R049_T37PHQ_20190819T115802.zip\n",
      "Time: 2019-08-29 02:10:14\n",
      "COG dir: ../DY/COGS/S2B_MSIL2A_20190819T072619_T37PHQ/\n",
      "Creating scene cog directory: ../DY/COGS/S2B_MSIL2A_20190819T072619_T37PHQ/\n",
      "../DY/L2A/S2B_MSIL2A_20190819T072619_N0213_R049_T37PHQ_20190819T115802.SAFE/GRANULE/L2A_T37PHQ_A012802_20190819T074242/IMG_DATA/R10m/T37PHQ_20190819T072619_B02_10m.jp2 ../DY/COGS/S2B_MSIL2A_20190819T072619_T37PHQ/S2B_MSIL2A_20190819T072619_T37PHQ_B02_10m.tif\n",
      "../DY/L2A/S2B_MSIL2A_20190819T072619_N0213_R049_T37PHQ_20190819T115802.SAFE/GRANULE/L2A_T37PHQ_A012802_20190819T074242/IMG_DATA/R10m/T37PHQ_20190819T072619_B03_10m.jp2 ../DY/COGS/S2B_MSIL2A_20190819T072619_T37PHQ/S2B_MSIL2A_20190819T072619_T37PHQ_B03_10m.tif\n",
      "../DY/L2A/S2B_MSIL2A_20190819T072619_N0213_R049_T37PHQ_20190819T115802.SAFE/GRANULE/L2A_T37PHQ_A012802_20190819T074242/IMG_DATA/R10m/T37PHQ_20190819T072619_B04_10m.jp2 ../DY/COGS/S2B_MSIL2A_20190819T072619_T37PHQ/S2B_MSIL2A_20190819T072619_T37PHQ_B04_10m.tif\n",
      "../DY/L2A/S2B_MSIL2A_20190819T072619_N0213_R049_T37PHQ_20190819T115802.SAFE/GRANULE/L2A_T37PHQ_A012802_20190819T074242/IMG_DATA/R10m/T37PHQ_20190819T072619_B08_10m.jp2 ../DY/COGS/S2B_MSIL2A_20190819T072619_T37PHQ/S2B_MSIL2A_20190819T072619_T37PHQ_B08_10m.tif\n",
      "Time: 2019-08-29 02:13:07\n",
      "../DY/COGS/S2B_MSIL2A_20190819T072619_T37PHQ/S2B_MSIL2A_20190819T072619_T37PHQ_NDVI_10m_inter.tif ../DY/COGS/S2B_MSIL2A_20190819T072619_T37PHQ/S2B_MSIL2A_20190819T072619_T37PHQ_NDVI_10m.tif\n",
      "Time: 2019-08-29 02:14:12\n",
      "Scene name: S2B_MSIL2A_20190819T072619_T37PHR\n",
      "Time: 2019-08-29 02:14:12\n",
      "Download scene dir: ../DY/L2A/S2B_MSIL2A_20190819T072619_N0213_R049_T37PHR_20190819T115802.SAFE/\n",
      "Time: 2019-08-29 02:14:14\n",
      "Downloading ESA scene zip: \n"
     ]
    },
    {
     "name": "stderr",
     "output_type": "stream",
     "text": [
      "Downloading: 100%|██████████| 803M/803M [13:05<00:00, 927kB/s]  \n",
      "MD5 checksumming: 100%|██████████| 803M/803M [00:03<00:00, 235MB/s] \n"
     ]
    },
    {
     "name": "stdout",
     "output_type": "stream",
     "text": [
      "Extracting ESA scene: ../DY/L2A/S2B_MSIL2A_20190819T072619_N0213_R049_T37PHR_20190819T115802.SAFE/\n",
      "Deleting ESA scene zip: ../DY/L2A/S2B_MSIL2A_20190819T072619_N0213_R049_T37PHR_20190819T115802.zip\n",
      "Time: 2019-08-29 02:27:32\n",
      "COG dir: ../DY/COGS/S2B_MSIL2A_20190819T072619_T37PHR/\n",
      "Creating scene cog directory: ../DY/COGS/S2B_MSIL2A_20190819T072619_T37PHR/\n",
      "../DY/L2A/S2B_MSIL2A_20190819T072619_N0213_R049_T37PHR_20190819T115802.SAFE/GRANULE/L2A_T37PHR_A012802_20190819T074242/IMG_DATA/R10m/T37PHR_20190819T072619_B02_10m.jp2 ../DY/COGS/S2B_MSIL2A_20190819T072619_T37PHR/S2B_MSIL2A_20190819T072619_T37PHR_B02_10m.tif\n",
      "../DY/L2A/S2B_MSIL2A_20190819T072619_N0213_R049_T37PHR_20190819T115802.SAFE/GRANULE/L2A_T37PHR_A012802_20190819T074242/IMG_DATA/R10m/T37PHR_20190819T072619_B03_10m.jp2 ../DY/COGS/S2B_MSIL2A_20190819T072619_T37PHR/S2B_MSIL2A_20190819T072619_T37PHR_B03_10m.tif\n",
      "../DY/L2A/S2B_MSIL2A_20190819T072619_N0213_R049_T37PHR_20190819T115802.SAFE/GRANULE/L2A_T37PHR_A012802_20190819T074242/IMG_DATA/R10m/T37PHR_20190819T072619_B04_10m.jp2 ../DY/COGS/S2B_MSIL2A_20190819T072619_T37PHR/S2B_MSIL2A_20190819T072619_T37PHR_B04_10m.tif\n",
      "../DY/L2A/S2B_MSIL2A_20190819T072619_N0213_R049_T37PHR_20190819T115802.SAFE/GRANULE/L2A_T37PHR_A012802_20190819T074242/IMG_DATA/R10m/T37PHR_20190819T072619_B08_10m.jp2 ../DY/COGS/S2B_MSIL2A_20190819T072619_T37PHR/S2B_MSIL2A_20190819T072619_T37PHR_B08_10m.tif\n",
      "Time: 2019-08-29 02:30:45\n",
      "../DY/COGS/S2B_MSIL2A_20190819T072619_T37PHR/S2B_MSIL2A_20190819T072619_T37PHR_NDVI_10m_inter.tif ../DY/COGS/S2B_MSIL2A_20190819T072619_T37PHR/S2B_MSIL2A_20190819T072619_T37PHR_NDVI_10m.tif\n",
      "Time: 2019-08-29 02:31:52\n",
      "Scene name: S2B_MSIL2A_20190819T072619_T38PKA\n",
      "Time: 2019-08-29 02:31:52\n",
      "Download scene dir: ../DY/L2A/S2B_MSIL2A_20190819T072619_N0213_R049_T38PKA_20190819T115802.SAFE/\n",
      "Time: 2019-08-29 02:31:53\n",
      "Downloading ESA scene zip: \n"
     ]
    },
    {
     "name": "stderr",
     "output_type": "stream",
     "text": [
      "Downloading: 100%|██████████| 815M/815M [13:41<00:00, 1.06MB/s] \n",
      "MD5 checksumming: 100%|██████████| 815M/815M [00:03<00:00, 223MB/s] \n"
     ]
    },
    {
     "name": "stdout",
     "output_type": "stream",
     "text": [
      "Extracting ESA scene: ../DY/L2A/S2B_MSIL2A_20190819T072619_N0213_R049_T38PKA_20190819T115802.SAFE/\n",
      "Deleting ESA scene zip: ../DY/L2A/S2B_MSIL2A_20190819T072619_N0213_R049_T38PKA_20190819T115802.zip\n",
      "Time: 2019-08-29 02:45:48\n",
      "COG dir: ../DY/COGS/S2B_MSIL2A_20190819T072619_T38PKA/\n",
      "Creating scene cog directory: ../DY/COGS/S2B_MSIL2A_20190819T072619_T38PKA/\n",
      "../DY/L2A/S2B_MSIL2A_20190819T072619_N0213_R049_T38PKA_20190819T115802.SAFE/GRANULE/L2A_T38PKA_A012802_20190819T074242/IMG_DATA/R10m/T38PKA_20190819T072619_B02_10m.jp2 ../DY/COGS/S2B_MSIL2A_20190819T072619_T38PKA/S2B_MSIL2A_20190819T072619_T38PKA_B02_10m.tif\n",
      "../DY/L2A/S2B_MSIL2A_20190819T072619_N0213_R049_T38PKA_20190819T115802.SAFE/GRANULE/L2A_T38PKA_A012802_20190819T074242/IMG_DATA/R10m/T38PKA_20190819T072619_B03_10m.jp2 ../DY/COGS/S2B_MSIL2A_20190819T072619_T38PKA/S2B_MSIL2A_20190819T072619_T38PKA_B03_10m.tif\n",
      "../DY/L2A/S2B_MSIL2A_20190819T072619_N0213_R049_T38PKA_20190819T115802.SAFE/GRANULE/L2A_T38PKA_A012802_20190819T074242/IMG_DATA/R10m/T38PKA_20190819T072619_B04_10m.jp2 ../DY/COGS/S2B_MSIL2A_20190819T072619_T38PKA/S2B_MSIL2A_20190819T072619_T38PKA_B04_10m.tif\n",
      "../DY/L2A/S2B_MSIL2A_20190819T072619_N0213_R049_T38PKA_20190819T115802.SAFE/GRANULE/L2A_T38PKA_A012802_20190819T074242/IMG_DATA/R10m/T38PKA_20190819T072619_B08_10m.jp2 ../DY/COGS/S2B_MSIL2A_20190819T072619_T38PKA/S2B_MSIL2A_20190819T072619_T38PKA_B08_10m.tif\n",
      "Time: 2019-08-29 02:49:04\n",
      "../DY/COGS/S2B_MSIL2A_20190819T072619_T38PKA/S2B_MSIL2A_20190819T072619_T38PKA_NDVI_10m_inter.tif ../DY/COGS/S2B_MSIL2A_20190819T072619_T38PKA/S2B_MSIL2A_20190819T072619_T38PKA_NDVI_10m.tif\n",
      "Time: 2019-08-29 02:50:08\n",
      "Scene name: S2B_MSIL2A_20190819T072619_T38PLA\n",
      "Time: 2019-08-29 02:50:08\n",
      "Download scene dir: ../DY/L2A/S2B_MSIL2A_20190819T072619_N0213_R049_T38PLA_20190819T115802.SAFE/\n",
      "Time: 2019-08-29 02:50:09\n",
      "Downloading ESA scene zip: \n"
     ]
    },
    {
     "name": "stderr",
     "output_type": "stream",
     "text": [
      "Downloading: 100%|██████████| 1.18G/1.18G [17:01<00:00, 1.54MB/s]\n",
      "MD5 checksumming: 100%|██████████| 1.18G/1.18G [00:05<00:00, 229MB/s]\n"
     ]
    },
    {
     "name": "stdout",
     "output_type": "stream",
     "text": [
      "Extracting ESA scene: ../DY/L2A/S2B_MSIL2A_20190819T072619_N0213_R049_T38PLA_20190819T115802.SAFE/\n",
      "Deleting ESA scene zip: ../DY/L2A/S2B_MSIL2A_20190819T072619_N0213_R049_T38PLA_20190819T115802.zip\n",
      "Time: 2019-08-29 03:07:29\n",
      "COG dir: ../DY/COGS/S2B_MSIL2A_20190819T072619_T38PLA/\n",
      "Creating scene cog directory: ../DY/COGS/S2B_MSIL2A_20190819T072619_T38PLA/\n",
      "../DY/L2A/S2B_MSIL2A_20190819T072619_N0213_R049_T38PLA_20190819T115802.SAFE/GRANULE/L2A_T38PLA_A012802_20190819T074242/IMG_DATA/R10m/T38PLA_20190819T072619_B02_10m.jp2 ../DY/COGS/S2B_MSIL2A_20190819T072619_T38PLA/S2B_MSIL2A_20190819T072619_T38PLA_B02_10m.tif\n",
      "../DY/L2A/S2B_MSIL2A_20190819T072619_N0213_R049_T38PLA_20190819T115802.SAFE/GRANULE/L2A_T38PLA_A012802_20190819T074242/IMG_DATA/R10m/T38PLA_20190819T072619_B03_10m.jp2 ../DY/COGS/S2B_MSIL2A_20190819T072619_T38PLA/S2B_MSIL2A_20190819T072619_T38PLA_B03_10m.tif\n",
      "../DY/L2A/S2B_MSIL2A_20190819T072619_N0213_R049_T38PLA_20190819T115802.SAFE/GRANULE/L2A_T38PLA_A012802_20190819T074242/IMG_DATA/R10m/T38PLA_20190819T072619_B04_10m.jp2 ../DY/COGS/S2B_MSIL2A_20190819T072619_T38PLA/S2B_MSIL2A_20190819T072619_T38PLA_B04_10m.tif\n",
      "../DY/L2A/S2B_MSIL2A_20190819T072619_N0213_R049_T38PLA_20190819T115802.SAFE/GRANULE/L2A_T38PLA_A012802_20190819T074242/IMG_DATA/R10m/T38PLA_20190819T072619_B08_10m.jp2 ../DY/COGS/S2B_MSIL2A_20190819T072619_T38PLA/S2B_MSIL2A_20190819T072619_T38PLA_B08_10m.tif\n",
      "Time: 2019-08-29 03:09:31\n",
      "../DY/COGS/S2B_MSIL2A_20190819T072619_T38PLA/S2B_MSIL2A_20190819T072619_T38PLA_NDVI_10m_inter.tif ../DY/COGS/S2B_MSIL2A_20190819T072619_T38PLA/S2B_MSIL2A_20190819T072619_T38PLA_NDVI_10m.tif\n",
      "Time: 2019-08-29 03:10:36\n",
      "Scene name: S2B_MSIL2A_20190819T072619_T38PKC\n",
      "Time: 2019-08-29 03:10:36\n",
      "Download scene dir: ../DY/L2A/S2B_MSIL2A_20190819T072619_N0213_R049_T38PKC_20190819T115802.SAFE/\n",
      "Time: 2019-08-29 03:10:37\n",
      "Downloading ESA scene zip: \n"
     ]
    },
    {
     "name": "stderr",
     "output_type": "stream",
     "text": [
      "Downloading: 100%|██████████| 915M/915M [15:11<00:00, 568kB/s]  \n",
      "MD5 checksumming: 100%|██████████| 915M/915M [00:04<00:00, 215MB/s] \n"
     ]
    },
    {
     "name": "stdout",
     "output_type": "stream",
     "text": [
      "Extracting ESA scene: ../DY/L2A/S2B_MSIL2A_20190819T072619_N0213_R049_T38PKC_20190819T115802.SAFE/\n",
      "Deleting ESA scene zip: ../DY/L2A/S2B_MSIL2A_20190819T072619_N0213_R049_T38PKC_20190819T115802.zip\n",
      "Time: 2019-08-29 03:26:05\n",
      "COG dir: ../DY/COGS/S2B_MSIL2A_20190819T072619_T38PKC/\n",
      "Creating scene cog directory: ../DY/COGS/S2B_MSIL2A_20190819T072619_T38PKC/\n",
      "../DY/L2A/S2B_MSIL2A_20190819T072619_N0213_R049_T38PKC_20190819T115802.SAFE/GRANULE/L2A_T38PKC_A012802_20190819T074242/IMG_DATA/R10m/T38PKC_20190819T072619_B02_10m.jp2 ../DY/COGS/S2B_MSIL2A_20190819T072619_T38PKC/S2B_MSIL2A_20190819T072619_T38PKC_B02_10m.tif\n",
      "../DY/L2A/S2B_MSIL2A_20190819T072619_N0213_R049_T38PKC_20190819T115802.SAFE/GRANULE/L2A_T38PKC_A012802_20190819T074242/IMG_DATA/R10m/T38PKC_20190819T072619_B03_10m.jp2 ../DY/COGS/S2B_MSIL2A_20190819T072619_T38PKC/S2B_MSIL2A_20190819T072619_T38PKC_B03_10m.tif\n",
      "../DY/L2A/S2B_MSIL2A_20190819T072619_N0213_R049_T38PKC_20190819T115802.SAFE/GRANULE/L2A_T38PKC_A012802_20190819T074242/IMG_DATA/R10m/T38PKC_20190819T072619_B04_10m.jp2 ../DY/COGS/S2B_MSIL2A_20190819T072619_T38PKC/S2B_MSIL2A_20190819T072619_T38PKC_B04_10m.tif\n",
      "../DY/L2A/S2B_MSIL2A_20190819T072619_N0213_R049_T38PKC_20190819T115802.SAFE/GRANULE/L2A_T38PKC_A012802_20190819T074242/IMG_DATA/R10m/T38PKC_20190819T072619_B08_10m.jp2 ../DY/COGS/S2B_MSIL2A_20190819T072619_T38PKC/S2B_MSIL2A_20190819T072619_T38PKC_B08_10m.tif\n",
      "Time: 2019-08-29 03:29:15\n",
      "../DY/COGS/S2B_MSIL2A_20190819T072619_T38PKC/S2B_MSIL2A_20190819T072619_T38PKC_NDVI_10m_inter.tif ../DY/COGS/S2B_MSIL2A_20190819T072619_T38PKC/S2B_MSIL2A_20190819T072619_T38PKC_NDVI_10m.tif\n",
      "Time: 2019-08-29 03:30:18\n",
      "Scene name: S2A_MSIL2A_20190814T072621_T38QLD\n",
      "Time: 2019-08-29 03:30:18\n",
      "Download scene dir: ../DY/L2A/S2A_MSIL2A_20190814T072621_N0213_R049_T38QLD_20190814T101421.SAFE/\n",
      "Time: 2019-08-29 03:30:19\n",
      "Downloading ESA scene zip: \n"
     ]
    },
    {
     "name": "stderr",
     "output_type": "stream",
     "text": [
      "Downloading: 100%|██████████| 1.13G/1.13G [15:36<00:00, 994kB/s] \n",
      "MD5 checksumming: 100%|██████████| 1.13G/1.13G [00:04<00:00, 234MB/s]\n"
     ]
    },
    {
     "name": "stdout",
     "output_type": "stream",
     "text": [
      "Extracting ESA scene: ../DY/L2A/S2A_MSIL2A_20190814T072621_N0213_R049_T38QLD_20190814T101421.SAFE/\n",
      "Deleting ESA scene zip: ../DY/L2A/S2A_MSIL2A_20190814T072621_N0213_R049_T38QLD_20190814T101421.zip\n",
      "Time: 2019-08-29 03:46:14\n",
      "COG dir: ../DY/COGS/S2A_MSIL2A_20190814T072621_T38QLD/\n",
      "Creating scene cog directory: ../DY/COGS/S2A_MSIL2A_20190814T072621_T38QLD/\n",
      "../DY/L2A/S2A_MSIL2A_20190814T072621_N0213_R049_T38QLD_20190814T101421.SAFE/GRANULE/L2A_T38QLD_A021639_20190814T073918/IMG_DATA/R10m/T38QLD_20190814T072621_B02_10m.jp2 ../DY/COGS/S2A_MSIL2A_20190814T072621_T38QLD/S2A_MSIL2A_20190814T072621_T38QLD_B02_10m.tif\n",
      "../DY/L2A/S2A_MSIL2A_20190814T072621_N0213_R049_T38QLD_20190814T101421.SAFE/GRANULE/L2A_T38QLD_A021639_20190814T073918/IMG_DATA/R10m/T38QLD_20190814T072621_B03_10m.jp2 ../DY/COGS/S2A_MSIL2A_20190814T072621_T38QLD/S2A_MSIL2A_20190814T072621_T38QLD_B03_10m.tif\n",
      "../DY/L2A/S2A_MSIL2A_20190814T072621_N0213_R049_T38QLD_20190814T101421.SAFE/GRANULE/L2A_T38QLD_A021639_20190814T073918/IMG_DATA/R10m/T38QLD_20190814T072621_B04_10m.jp2 ../DY/COGS/S2A_MSIL2A_20190814T072621_T38QLD/S2A_MSIL2A_20190814T072621_T38QLD_B04_10m.tif\n",
      "../DY/L2A/S2A_MSIL2A_20190814T072621_N0213_R049_T38QLD_20190814T101421.SAFE/GRANULE/L2A_T38QLD_A021639_20190814T073918/IMG_DATA/R10m/T38QLD_20190814T072621_B08_10m.jp2 ../DY/COGS/S2A_MSIL2A_20190814T072621_T38QLD/S2A_MSIL2A_20190814T072621_T38QLD_B08_10m.tif\n",
      "Time: 2019-08-29 03:48:30\n",
      "../DY/COGS/S2A_MSIL2A_20190814T072621_T38QLD/S2A_MSIL2A_20190814T072621_T38QLD_NDVI_10m_inter.tif ../DY/COGS/S2A_MSIL2A_20190814T072621_T38QLD/S2A_MSIL2A_20190814T072621_T38QLD_NDVI_10m.tif\n",
      "Time: 2019-08-29 03:49:34\n",
      "Scene name: S2A_MSIL2A_20190814T072621_T37QHU\n",
      "Time: 2019-08-29 03:49:34\n",
      "Download scene dir: ../DY/L2A/S2A_MSIL2A_20190814T072621_N0213_R049_T37QHU_20190814T101421.SAFE/\n",
      "Time: 2019-08-29 03:49:35\n",
      "Downloading ESA scene zip: \n"
     ]
    },
    {
     "name": "stderr",
     "output_type": "stream",
     "text": [
      "Downloading: 100%|██████████| 409M/409M [06:17<00:00, 820kB/s]  \n",
      "MD5 checksumming: 100%|██████████| 409M/409M [00:01<00:00, 317MB/s] \n"
     ]
    },
    {
     "name": "stdout",
     "output_type": "stream",
     "text": [
      "Extracting ESA scene: ../DY/L2A/S2A_MSIL2A_20190814T072621_N0213_R049_T37QHU_20190814T101421.SAFE/\n",
      "Deleting ESA scene zip: ../DY/L2A/S2A_MSIL2A_20190814T072621_N0213_R049_T37QHU_20190814T101421.zip\n",
      "Time: 2019-08-29 03:55:58\n",
      "COG dir: ../DY/COGS/S2A_MSIL2A_20190814T072621_T37QHU/\n",
      "Creating scene cog directory: ../DY/COGS/S2A_MSIL2A_20190814T072621_T37QHU/\n",
      "../DY/L2A/S2A_MSIL2A_20190814T072621_N0213_R049_T37QHU_20190814T101421.SAFE/GRANULE/L2A_T37QHU_A021639_20190814T073918/IMG_DATA/R10m/T37QHU_20190814T072621_B02_10m.jp2 ../DY/COGS/S2A_MSIL2A_20190814T072621_T37QHU/S2A_MSIL2A_20190814T072621_T37QHU_B02_10m.tif\n",
      "../DY/L2A/S2A_MSIL2A_20190814T072621_N0213_R049_T37QHU_20190814T101421.SAFE/GRANULE/L2A_T37QHU_A021639_20190814T073918/IMG_DATA/R10m/T37QHU_20190814T072621_B03_10m.jp2 ../DY/COGS/S2A_MSIL2A_20190814T072621_T37QHU/S2A_MSIL2A_20190814T072621_T37QHU_B03_10m.tif\n",
      "../DY/L2A/S2A_MSIL2A_20190814T072621_N0213_R049_T37QHU_20190814T101421.SAFE/GRANULE/L2A_T37QHU_A021639_20190814T073918/IMG_DATA/R10m/T37QHU_20190814T072621_B04_10m.jp2 ../DY/COGS/S2A_MSIL2A_20190814T072621_T37QHU/S2A_MSIL2A_20190814T072621_T37QHU_B04_10m.tif\n",
      "../DY/L2A/S2A_MSIL2A_20190814T072621_N0213_R049_T37QHU_20190814T101421.SAFE/GRANULE/L2A_T37QHU_A021639_20190814T073918/IMG_DATA/R10m/T37QHU_20190814T072621_B08_10m.jp2 ../DY/COGS/S2A_MSIL2A_20190814T072621_T37QHU/S2A_MSIL2A_20190814T072621_T37QHU_B08_10m.tif\n",
      "Time: 2019-08-29 03:58:15\n",
      "../DY/COGS/S2A_MSIL2A_20190814T072621_T37QHU/S2A_MSIL2A_20190814T072621_T37QHU_NDVI_10m_inter.tif ../DY/COGS/S2A_MSIL2A_20190814T072621_T37QHU/S2A_MSIL2A_20190814T072621_T37QHU_NDVI_10m.tif\n",
      "Time: 2019-08-29 03:59:09\n",
      "Scene name: S2A_MSIL2A_20190814T072621_T38QKD\n",
      "Time: 2019-08-29 03:59:09\n",
      "Download scene dir: ../DY/L2A/S2A_MSIL2A_20190814T072621_N0213_R049_T38QKD_20190814T101421.SAFE/\n",
      "Time: 2019-08-29 03:59:10\n",
      "Downloading ESA scene zip: \n"
     ]
    },
    {
     "name": "stderr",
     "output_type": "stream",
     "text": [
      "Downloading: 100%|██████████| 749M/749M [10:59<00:00, 1.02MB/s] \n",
      "MD5 checksumming: 100%|██████████| 749M/749M [00:03<00:00, 231MB/s] \n"
     ]
    },
    {
     "name": "stdout",
     "output_type": "stream",
     "text": [
      "Extracting ESA scene: ../DY/L2A/S2A_MSIL2A_20190814T072621_N0213_R049_T38QKD_20190814T101421.SAFE/\n",
      "Deleting ESA scene zip: ../DY/L2A/S2A_MSIL2A_20190814T072621_N0213_R049_T38QKD_20190814T101421.zip\n",
      "Time: 2019-08-29 04:10:23\n",
      "COG dir: ../DY/COGS/S2A_MSIL2A_20190814T072621_T38QKD/\n",
      "Creating scene cog directory: ../DY/COGS/S2A_MSIL2A_20190814T072621_T38QKD/\n",
      "../DY/L2A/S2A_MSIL2A_20190814T072621_N0213_R049_T38QKD_20190814T101421.SAFE/GRANULE/L2A_T38QKD_A021639_20190814T073918/IMG_DATA/R10m/T38QKD_20190814T072621_B02_10m.jp2 ../DY/COGS/S2A_MSIL2A_20190814T072621_T38QKD/S2A_MSIL2A_20190814T072621_T38QKD_B02_10m.tif\n",
      "../DY/L2A/S2A_MSIL2A_20190814T072621_N0213_R049_T38QKD_20190814T101421.SAFE/GRANULE/L2A_T38QKD_A021639_20190814T073918/IMG_DATA/R10m/T38QKD_20190814T072621_B03_10m.jp2 ../DY/COGS/S2A_MSIL2A_20190814T072621_T38QKD/S2A_MSIL2A_20190814T072621_T38QKD_B03_10m.tif\n",
      "../DY/L2A/S2A_MSIL2A_20190814T072621_N0213_R049_T38QKD_20190814T101421.SAFE/GRANULE/L2A_T38QKD_A021639_20190814T073918/IMG_DATA/R10m/T38QKD_20190814T072621_B04_10m.jp2 ../DY/COGS/S2A_MSIL2A_20190814T072621_T38QKD/S2A_MSIL2A_20190814T072621_T38QKD_B04_10m.tif\n",
      "../DY/L2A/S2A_MSIL2A_20190814T072621_N0213_R049_T38QKD_20190814T101421.SAFE/GRANULE/L2A_T38QKD_A021639_20190814T073918/IMG_DATA/R10m/T38QKD_20190814T072621_B08_10m.jp2 ../DY/COGS/S2A_MSIL2A_20190814T072621_T38QKD/S2A_MSIL2A_20190814T072621_T38QKD_B08_10m.tif\n",
      "Time: 2019-08-29 04:13:40\n",
      "../DY/COGS/S2A_MSIL2A_20190814T072621_T38QKD/S2A_MSIL2A_20190814T072621_T38QKD_NDVI_10m_inter.tif ../DY/COGS/S2A_MSIL2A_20190814T072621_T38QKD/S2A_MSIL2A_20190814T072621_T38QKD_NDVI_10m.tif\n",
      "Time: 2019-08-29 04:14:41\n",
      "Scene name: S2A_MSIL2A_20190814T072621_T38PLC\n",
      "Time: 2019-08-29 04:14:41\n",
      "Download scene dir: ../DY/L2A/S2A_MSIL2A_20190814T072621_N0213_R049_T38PLC_20190814T101421.SAFE/\n",
      "Time: 2019-08-29 04:14:42\n",
      "Downloading ESA scene zip: \n"
     ]
    },
    {
     "name": "stderr",
     "output_type": "stream",
     "text": [
      "Downloading: 100%|██████████| 1.08G/1.08G [16:07<00:00, 1.26MB/s]\n",
      "MD5 checksumming: 100%|██████████| 1.08G/1.08G [00:04<00:00, 245MB/s]\n"
     ]
    },
    {
     "name": "stdout",
     "output_type": "stream",
     "text": [
      "Extracting ESA scene: ../DY/L2A/S2A_MSIL2A_20190814T072621_N0213_R049_T38PLC_20190814T101421.SAFE/\n",
      "Deleting ESA scene zip: ../DY/L2A/S2A_MSIL2A_20190814T072621_N0213_R049_T38PLC_20190814T101421.zip\n",
      "Time: 2019-08-29 04:31:09\n",
      "COG dir: ../DY/COGS/S2A_MSIL2A_20190814T072621_T38PLC/\n",
      "Creating scene cog directory: ../DY/COGS/S2A_MSIL2A_20190814T072621_T38PLC/\n",
      "../DY/L2A/S2A_MSIL2A_20190814T072621_N0213_R049_T38PLC_20190814T101421.SAFE/GRANULE/L2A_T38PLC_A021639_20190814T073918/IMG_DATA/R10m/T38PLC_20190814T072621_B02_10m.jp2 ../DY/COGS/S2A_MSIL2A_20190814T072621_T38PLC/S2A_MSIL2A_20190814T072621_T38PLC_B02_10m.tif\n",
      "../DY/L2A/S2A_MSIL2A_20190814T072621_N0213_R049_T38PLC_20190814T101421.SAFE/GRANULE/L2A_T38PLC_A021639_20190814T073918/IMG_DATA/R10m/T38PLC_20190814T072621_B03_10m.jp2 ../DY/COGS/S2A_MSIL2A_20190814T072621_T38PLC/S2A_MSIL2A_20190814T072621_T38PLC_B03_10m.tif\n",
      "../DY/L2A/S2A_MSIL2A_20190814T072621_N0213_R049_T38PLC_20190814T101421.SAFE/GRANULE/L2A_T38PLC_A021639_20190814T073918/IMG_DATA/R10m/T38PLC_20190814T072621_B04_10m.jp2 ../DY/COGS/S2A_MSIL2A_20190814T072621_T38PLC/S2A_MSIL2A_20190814T072621_T38PLC_B04_10m.tif\n",
      "../DY/L2A/S2A_MSIL2A_20190814T072621_N0213_R049_T38PLC_20190814T101421.SAFE/GRANULE/L2A_T38PLC_A021639_20190814T073918/IMG_DATA/R10m/T38PLC_20190814T072621_B08_10m.jp2 ../DY/COGS/S2A_MSIL2A_20190814T072621_T38PLC/S2A_MSIL2A_20190814T072621_T38PLC_B08_10m.tif\n",
      "Time: 2019-08-29 04:33:32\n",
      "../DY/COGS/S2A_MSIL2A_20190814T072621_T38PLC/S2A_MSIL2A_20190814T072621_T38PLC_NDVI_10m_inter.tif ../DY/COGS/S2A_MSIL2A_20190814T072621_T38PLC/S2A_MSIL2A_20190814T072621_T38PLC_NDVI_10m.tif\n",
      "Time: 2019-08-29 04:34:38\n",
      "Scene name: S2A_MSIL2A_20190814T072621_T38PKV\n",
      "Time: 2019-08-29 04:34:38\n",
      "Download scene dir: ../DY/L2A/S2A_MSIL2A_20190814T072621_N0213_R049_T38PKV_20190814T101421.SAFE/\n",
      "Time: 2019-08-29 04:34:38\n",
      "Downloading ESA scene zip: \n"
     ]
    },
    {
     "name": "stderr",
     "output_type": "stream",
     "text": [
      "Downloading: 100%|██████████| 1.05G/1.05G [16:09<00:00, 882kB/s] \n",
      "MD5 checksumming: 100%|██████████| 1.05G/1.05G [00:04<00:00, 233MB/s]\n"
     ]
    },
    {
     "name": "stdout",
     "output_type": "stream",
     "text": [
      "Extracting ESA scene: ../DY/L2A/S2A_MSIL2A_20190814T072621_N0213_R049_T38PKV_20190814T101421.SAFE/\n",
      "Deleting ESA scene zip: ../DY/L2A/S2A_MSIL2A_20190814T072621_N0213_R049_T38PKV_20190814T101421.zip\n",
      "Time: 2019-08-29 04:51:06\n",
      "COG dir: ../DY/COGS/S2A_MSIL2A_20190814T072621_T38PKV/\n",
      "Creating scene cog directory: ../DY/COGS/S2A_MSIL2A_20190814T072621_T38PKV/\n",
      "../DY/L2A/S2A_MSIL2A_20190814T072621_N0213_R049_T38PKV_20190814T101421.SAFE/GRANULE/L2A_T38PKV_A021639_20190814T073918/IMG_DATA/R10m/T38PKV_20190814T072621_B02_10m.jp2 ../DY/COGS/S2A_MSIL2A_20190814T072621_T38PKV/S2A_MSIL2A_20190814T072621_T38PKV_B02_10m.tif\n",
      "../DY/L2A/S2A_MSIL2A_20190814T072621_N0213_R049_T38PKV_20190814T101421.SAFE/GRANULE/L2A_T38PKV_A021639_20190814T073918/IMG_DATA/R10m/T38PKV_20190814T072621_B03_10m.jp2 ../DY/COGS/S2A_MSIL2A_20190814T072621_T38PKV/S2A_MSIL2A_20190814T072621_T38PKV_B03_10m.tif\n",
      "../DY/L2A/S2A_MSIL2A_20190814T072621_N0213_R049_T38PKV_20190814T101421.SAFE/GRANULE/L2A_T38PKV_A021639_20190814T073918/IMG_DATA/R10m/T38PKV_20190814T072621_B04_10m.jp2 ../DY/COGS/S2A_MSIL2A_20190814T072621_T38PKV/S2A_MSIL2A_20190814T072621_T38PKV_B04_10m.tif\n",
      "../DY/L2A/S2A_MSIL2A_20190814T072621_N0213_R049_T38PKV_20190814T101421.SAFE/GRANULE/L2A_T38PKV_A021639_20190814T073918/IMG_DATA/R10m/T38PKV_20190814T072621_B08_10m.jp2 ../DY/COGS/S2A_MSIL2A_20190814T072621_T38PKV/S2A_MSIL2A_20190814T072621_T38PKV_B08_10m.tif\n",
      "Time: 2019-08-29 04:53:25\n",
      "../DY/COGS/S2A_MSIL2A_20190814T072621_T38PKV/S2A_MSIL2A_20190814T072621_T38PKV_NDVI_10m_inter.tif ../DY/COGS/S2A_MSIL2A_20190814T072621_T38PKV/S2A_MSIL2A_20190814T072621_T38PKV_NDVI_10m.tif\n",
      "Time: 2019-08-29 04:54:31\n",
      "Scene name: S2A_MSIL2A_20190814T072621_T38PLB\n",
      "Time: 2019-08-29 04:54:31\n",
      "Download scene dir: ../DY/L2A/S2A_MSIL2A_20190814T072621_N0213_R049_T38PLB_20190814T101421.SAFE/\n",
      "Time: 2019-08-29 04:54:31\n",
      "Downloading ESA scene zip: \n"
     ]
    },
    {
     "name": "stderr",
     "output_type": "stream",
     "text": [
      "Downloading: 100%|██████████| 1.07G/1.07G [15:32<00:00, 1.17MB/s]\n",
      "MD5 checksumming: 100%|██████████| 1.07G/1.07G [00:05<00:00, 206MB/s]\n"
     ]
    },
    {
     "name": "stdout",
     "output_type": "stream",
     "text": [
      "Extracting ESA scene: ../DY/L2A/S2A_MSIL2A_20190814T072621_N0213_R049_T38PLB_20190814T101421.SAFE/\n",
      "Deleting ESA scene zip: ../DY/L2A/S2A_MSIL2A_20190814T072621_N0213_R049_T38PLB_20190814T101421.zip\n",
      "Time: 2019-08-29 05:10:23\n",
      "COG dir: ../DY/COGS/S2A_MSIL2A_20190814T072621_T38PLB/\n",
      "Creating scene cog directory: ../DY/COGS/S2A_MSIL2A_20190814T072621_T38PLB/\n",
      "../DY/L2A/S2A_MSIL2A_20190814T072621_N0213_R049_T38PLB_20190814T101421.SAFE/GRANULE/L2A_T38PLB_A021639_20190814T073918/IMG_DATA/R10m/T38PLB_20190814T072621_B02_10m.jp2 ../DY/COGS/S2A_MSIL2A_20190814T072621_T38PLB/S2A_MSIL2A_20190814T072621_T38PLB_B02_10m.tif\n",
      "../DY/L2A/S2A_MSIL2A_20190814T072621_N0213_R049_T38PLB_20190814T101421.SAFE/GRANULE/L2A_T38PLB_A021639_20190814T073918/IMG_DATA/R10m/T38PLB_20190814T072621_B03_10m.jp2 ../DY/COGS/S2A_MSIL2A_20190814T072621_T38PLB/S2A_MSIL2A_20190814T072621_T38PLB_B03_10m.tif\n",
      "../DY/L2A/S2A_MSIL2A_20190814T072621_N0213_R049_T38PLB_20190814T101421.SAFE/GRANULE/L2A_T38PLB_A021639_20190814T073918/IMG_DATA/R10m/T38PLB_20190814T072621_B04_10m.jp2 ../DY/COGS/S2A_MSIL2A_20190814T072621_T38PLB/S2A_MSIL2A_20190814T072621_T38PLB_B04_10m.tif\n",
      "../DY/L2A/S2A_MSIL2A_20190814T072621_N0213_R049_T38PLB_20190814T101421.SAFE/GRANULE/L2A_T38PLB_A021639_20190814T073918/IMG_DATA/R10m/T38PLB_20190814T072621_B08_10m.jp2 ../DY/COGS/S2A_MSIL2A_20190814T072621_T38PLB/S2A_MSIL2A_20190814T072621_T38PLB_B08_10m.tif\n",
      "Time: 2019-08-29 05:13:02\n",
      "../DY/COGS/S2A_MSIL2A_20190814T072621_T38PLB/S2A_MSIL2A_20190814T072621_T38PLB_NDVI_10m_inter.tif ../DY/COGS/S2A_MSIL2A_20190814T072621_T38PLB/S2A_MSIL2A_20190814T072621_T38PLB_NDVI_10m.tif\n",
      "Time: 2019-08-29 05:14:07\n",
      "Scene name: S2A_MSIL2A_20190814T072621_T38PLV\n",
      "Time: 2019-08-29 05:14:07\n",
      "Download scene dir: ../DY/L2A/S2A_MSIL2A_20190814T072621_N0213_R049_T38PLV_20190814T101421.SAFE/\n",
      "Time: 2019-08-29 05:14:08\n",
      "Downloading ESA scene zip: \n"
     ]
    },
    {
     "name": "stderr",
     "output_type": "stream",
     "text": [
      "Downloading: 100%|██████████| 1.09G/1.09G [15:04<00:00, 1.20MB/s]\n",
      "MD5 checksumming: 100%|██████████| 1.09G/1.09G [00:04<00:00, 225MB/s]\n"
     ]
    },
    {
     "name": "stdout",
     "output_type": "stream",
     "text": [
      "Extracting ESA scene: ../DY/L2A/S2A_MSIL2A_20190814T072621_N0213_R049_T38PLV_20190814T101421.SAFE/\n",
      "Deleting ESA scene zip: ../DY/L2A/S2A_MSIL2A_20190814T072621_N0213_R049_T38PLV_20190814T101421.zip\n",
      "Time: 2019-08-29 05:29:31\n",
      "COG dir: ../DY/COGS/S2A_MSIL2A_20190814T072621_T38PLV/\n",
      "Creating scene cog directory: ../DY/COGS/S2A_MSIL2A_20190814T072621_T38PLV/\n",
      "../DY/L2A/S2A_MSIL2A_20190814T072621_N0213_R049_T38PLV_20190814T101421.SAFE/GRANULE/L2A_T38PLV_A021639_20190814T073918/IMG_DATA/R10m/T38PLV_20190814T072621_B02_10m.jp2 ../DY/COGS/S2A_MSIL2A_20190814T072621_T38PLV/S2A_MSIL2A_20190814T072621_T38PLV_B02_10m.tif\n",
      "../DY/L2A/S2A_MSIL2A_20190814T072621_N0213_R049_T38PLV_20190814T101421.SAFE/GRANULE/L2A_T38PLV_A021639_20190814T073918/IMG_DATA/R10m/T38PLV_20190814T072621_B03_10m.jp2 ../DY/COGS/S2A_MSIL2A_20190814T072621_T38PLV/S2A_MSIL2A_20190814T072621_T38PLV_B03_10m.tif\n",
      "../DY/L2A/S2A_MSIL2A_20190814T072621_N0213_R049_T38PLV_20190814T101421.SAFE/GRANULE/L2A_T38PLV_A021639_20190814T073918/IMG_DATA/R10m/T38PLV_20190814T072621_B04_10m.jp2 ../DY/COGS/S2A_MSIL2A_20190814T072621_T38PLV/S2A_MSIL2A_20190814T072621_T38PLV_B04_10m.tif\n",
      "../DY/L2A/S2A_MSIL2A_20190814T072621_N0213_R049_T38PLV_20190814T101421.SAFE/GRANULE/L2A_T38PLV_A021639_20190814T073918/IMG_DATA/R10m/T38PLV_20190814T072621_B08_10m.jp2 ../DY/COGS/S2A_MSIL2A_20190814T072621_T38PLV/S2A_MSIL2A_20190814T072621_T38PLV_B08_10m.tif\n",
      "Time: 2019-08-29 05:31:56\n",
      "../DY/COGS/S2A_MSIL2A_20190814T072621_T38PLV/S2A_MSIL2A_20190814T072621_T38PLV_NDVI_10m_inter.tif ../DY/COGS/S2A_MSIL2A_20190814T072621_T38PLV/S2A_MSIL2A_20190814T072621_T38PLV_NDVI_10m.tif\n",
      "Time: 2019-08-29 05:32:59\n",
      "Scene name: S2A_MSIL2A_20190814T072621_T38PLA\n",
      "Time: 2019-08-29 05:32:59\n",
      "Download scene dir: ../DY/L2A/S2A_MSIL2A_20190814T072621_N0213_R049_T38PLA_20190814T101421.SAFE/\n",
      "Time: 2019-08-29 05:33:00\n",
      "Downloading ESA scene zip: \n"
     ]
    },
    {
     "name": "stderr",
     "output_type": "stream",
     "text": [
      "Downloading: 100%|██████████| 986M/986M [14:45<00:00, 1.31MB/s] \n",
      "MD5 checksumming: 100%|██████████| 986M/986M [00:03<00:00, 253MB/s] \n"
     ]
    },
    {
     "name": "stdout",
     "output_type": "stream",
     "text": [
      "Extracting ESA scene: ../DY/L2A/S2A_MSIL2A_20190814T072621_N0213_R049_T38PLA_20190814T101421.SAFE/\n",
      "Deleting ESA scene zip: ../DY/L2A/S2A_MSIL2A_20190814T072621_N0213_R049_T38PLA_20190814T101421.zip\n",
      "Time: 2019-08-29 05:48:02\n",
      "COG dir: ../DY/COGS/S2A_MSIL2A_20190814T072621_T38PLA/\n",
      "Creating scene cog directory: ../DY/COGS/S2A_MSIL2A_20190814T072621_T38PLA/\n",
      "../DY/L2A/S2A_MSIL2A_20190814T072621_N0213_R049_T38PLA_20190814T101421.SAFE/GRANULE/L2A_T38PLA_A021639_20190814T073918/IMG_DATA/R10m/T38PLA_20190814T072621_B02_10m.jp2 ../DY/COGS/S2A_MSIL2A_20190814T072621_T38PLA/S2A_MSIL2A_20190814T072621_T38PLA_B02_10m.tif\n",
      "../DY/L2A/S2A_MSIL2A_20190814T072621_N0213_R049_T38PLA_20190814T101421.SAFE/GRANULE/L2A_T38PLA_A021639_20190814T073918/IMG_DATA/R10m/T38PLA_20190814T072621_B03_10m.jp2 ../DY/COGS/S2A_MSIL2A_20190814T072621_T38PLA/S2A_MSIL2A_20190814T072621_T38PLA_B03_10m.tif\n",
      "../DY/L2A/S2A_MSIL2A_20190814T072621_N0213_R049_T38PLA_20190814T101421.SAFE/GRANULE/L2A_T38PLA_A021639_20190814T073918/IMG_DATA/R10m/T38PLA_20190814T072621_B04_10m.jp2 ../DY/COGS/S2A_MSIL2A_20190814T072621_T38PLA/S2A_MSIL2A_20190814T072621_T38PLA_B04_10m.tif\n",
      "../DY/L2A/S2A_MSIL2A_20190814T072621_N0213_R049_T38PLA_20190814T101421.SAFE/GRANULE/L2A_T38PLA_A021639_20190814T073918/IMG_DATA/R10m/T38PLA_20190814T072621_B08_10m.jp2 ../DY/COGS/S2A_MSIL2A_20190814T072621_T38PLA/S2A_MSIL2A_20190814T072621_T38PLA_B08_10m.tif\n",
      "Time: 2019-08-29 05:51:44\n",
      "../DY/COGS/S2A_MSIL2A_20190814T072621_T38PLA/S2A_MSIL2A_20190814T072621_T38PLA_NDVI_10m_inter.tif ../DY/COGS/S2A_MSIL2A_20190814T072621_T38PLA/S2A_MSIL2A_20190814T072621_T38PLA_NDVI_10m.tif\n",
      "Time: 2019-08-29 05:52:51\n",
      "Scene name: S2A_MSIL2A_20190814T072621_T37PHQ\n",
      "Time: 2019-08-29 05:52:51\n",
      "Download scene dir: ../DY/L2A/S2A_MSIL2A_20190814T072621_N0213_R049_T37PHQ_20190814T101421.SAFE/\n",
      "Time: 2019-08-29 05:52:51\n",
      "Downloading ESA scene zip: \n"
     ]
    },
    {
     "name": "stderr",
     "output_type": "stream",
     "text": [
      "Downloading: 100%|██████████| 1.04G/1.04G [16:26<00:00, 1.06MB/s]\n",
      "MD5 checksumming: 100%|██████████| 1.04G/1.04G [00:05<00:00, 207MB/s]\n"
     ]
    },
    {
     "name": "stdout",
     "output_type": "stream",
     "text": [
      "Extracting ESA scene: ../DY/L2A/S2A_MSIL2A_20190814T072621_N0213_R049_T37PHQ_20190814T101421.SAFE/\n",
      "Deleting ESA scene zip: ../DY/L2A/S2A_MSIL2A_20190814T072621_N0213_R049_T37PHQ_20190814T101421.zip\n",
      "Time: 2019-08-29 06:09:36\n",
      "COG dir: ../DY/COGS/S2A_MSIL2A_20190814T072621_T37PHQ/\n",
      "Creating scene cog directory: ../DY/COGS/S2A_MSIL2A_20190814T072621_T37PHQ/\n",
      "../DY/L2A/S2A_MSIL2A_20190814T072621_N0213_R049_T37PHQ_20190814T101421.SAFE/GRANULE/L2A_T37PHQ_A021639_20190814T073918/IMG_DATA/R10m/T37PHQ_20190814T072621_B02_10m.jp2 ../DY/COGS/S2A_MSIL2A_20190814T072621_T37PHQ/S2A_MSIL2A_20190814T072621_T37PHQ_B02_10m.tif\n",
      "../DY/L2A/S2A_MSIL2A_20190814T072621_N0213_R049_T37PHQ_20190814T101421.SAFE/GRANULE/L2A_T37PHQ_A021639_20190814T073918/IMG_DATA/R10m/T37PHQ_20190814T072621_B03_10m.jp2 ../DY/COGS/S2A_MSIL2A_20190814T072621_T37PHQ/S2A_MSIL2A_20190814T072621_T37PHQ_B03_10m.tif\n",
      "../DY/L2A/S2A_MSIL2A_20190814T072621_N0213_R049_T37PHQ_20190814T101421.SAFE/GRANULE/L2A_T37PHQ_A021639_20190814T073918/IMG_DATA/R10m/T37PHQ_20190814T072621_B04_10m.jp2 ../DY/COGS/S2A_MSIL2A_20190814T072621_T37PHQ/S2A_MSIL2A_20190814T072621_T37PHQ_B04_10m.tif\n",
      "../DY/L2A/S2A_MSIL2A_20190814T072621_N0213_R049_T37PHQ_20190814T101421.SAFE/GRANULE/L2A_T37PHQ_A021639_20190814T073918/IMG_DATA/R10m/T37PHQ_20190814T072621_B08_10m.jp2 ../DY/COGS/S2A_MSIL2A_20190814T072621_T37PHQ/S2A_MSIL2A_20190814T072621_T37PHQ_B08_10m.tif\n",
      "Time: 2019-08-29 06:12:12\n",
      "../DY/COGS/S2A_MSIL2A_20190814T072621_T37PHQ/S2A_MSIL2A_20190814T072621_T37PHQ_NDVI_10m_inter.tif ../DY/COGS/S2A_MSIL2A_20190814T072621_T37PHQ/S2A_MSIL2A_20190814T072621_T37PHQ_NDVI_10m.tif\n",
      "Time: 2019-08-29 06:13:15\n",
      "Scene name: S2A_MSIL2A_20190814T072621_T38PKA\n",
      "Time: 2019-08-29 06:13:15\n",
      "Download scene dir: ../DY/L2A/S2A_MSIL2A_20190814T072621_N0213_R049_T38PKA_20190814T101421.SAFE/\n",
      "Time: 2019-08-29 06:13:16\n",
      "Downloading ESA scene zip: \n"
     ]
    },
    {
     "name": "stderr",
     "output_type": "stream",
     "text": [
      "Downloading: 100%|██████████| 888M/888M [13:31<00:00, 1.59MB/s] \n",
      "MD5 checksumming: 100%|██████████| 888M/888M [00:03<00:00, 222MB/s] \n"
     ]
    },
    {
     "name": "stdout",
     "output_type": "stream",
     "text": [
      "Extracting ESA scene: ../DY/L2A/S2A_MSIL2A_20190814T072621_N0213_R049_T38PKA_20190814T101421.SAFE/\n",
      "Deleting ESA scene zip: ../DY/L2A/S2A_MSIL2A_20190814T072621_N0213_R049_T38PKA_20190814T101421.zip\n",
      "Time: 2019-08-29 06:27:05\n",
      "COG dir: ../DY/COGS/S2A_MSIL2A_20190814T072621_T38PKA/\n",
      "Creating scene cog directory: ../DY/COGS/S2A_MSIL2A_20190814T072621_T38PKA/\n",
      "../DY/L2A/S2A_MSIL2A_20190814T072621_N0213_R049_T38PKA_20190814T101421.SAFE/GRANULE/L2A_T38PKA_A021639_20190814T073918/IMG_DATA/R10m/T38PKA_20190814T072621_B02_10m.jp2 ../DY/COGS/S2A_MSIL2A_20190814T072621_T38PKA/S2A_MSIL2A_20190814T072621_T38PKA_B02_10m.tif\n",
      "../DY/L2A/S2A_MSIL2A_20190814T072621_N0213_R049_T38PKA_20190814T101421.SAFE/GRANULE/L2A_T38PKA_A021639_20190814T073918/IMG_DATA/R10m/T38PKA_20190814T072621_B03_10m.jp2 ../DY/COGS/S2A_MSIL2A_20190814T072621_T38PKA/S2A_MSIL2A_20190814T072621_T38PKA_B03_10m.tif\n",
      "../DY/L2A/S2A_MSIL2A_20190814T072621_N0213_R049_T38PKA_20190814T101421.SAFE/GRANULE/L2A_T38PKA_A021639_20190814T073918/IMG_DATA/R10m/T38PKA_20190814T072621_B04_10m.jp2 ../DY/COGS/S2A_MSIL2A_20190814T072621_T38PKA/S2A_MSIL2A_20190814T072621_T38PKA_B04_10m.tif\n",
      "../DY/L2A/S2A_MSIL2A_20190814T072621_N0213_R049_T38PKA_20190814T101421.SAFE/GRANULE/L2A_T38PKA_A021639_20190814T073918/IMG_DATA/R10m/T38PKA_20190814T072621_B08_10m.jp2 ../DY/COGS/S2A_MSIL2A_20190814T072621_T38PKA/S2A_MSIL2A_20190814T072621_T38PKA_B08_10m.tif\n",
      "Time: 2019-08-29 06:30:17\n",
      "../DY/COGS/S2A_MSIL2A_20190814T072621_T38PKA/S2A_MSIL2A_20190814T072621_T38PKA_NDVI_10m_inter.tif ../DY/COGS/S2A_MSIL2A_20190814T072621_T38PKA/S2A_MSIL2A_20190814T072621_T38PKA_NDVI_10m.tif\n",
      "Time: 2019-08-29 06:31:24\n"
     ]
    }
   ],
   "source": [
    "\n",
    "with open(log_file, 'a') as log:\n",
    "    \n",
    "    for des_scene in s2nms[8:40]:\n",
    "        log.write(\"{},{},{}\".format(des_scene, 'Starting', str(datetime.today().strftime('%Y-%m-%d %H:%M:%S'))))\n",
    "        log.write(\"\\n\")\n",
    "        # shorten scene name\n",
    "        scene_name = des_scene[:-21]\n",
    "        scene_name = scene_name[:-17] + scene_name.split('_')[-1]\n",
    "        print ( 'Scene name: {}'.format(scene_name) )\n",
    "        print ( 'Time: {}'.format(str(datetime.today().strftime('%Y-%m-%d %H:%M:%S'))) )\n",
    "\n",
    "        # find uuid for download via esa hub\n",
    "        s2id = find_s2_uuid(des_scene)\n",
    "\n",
    "        down_dir = non_cogs_dir + des_scene + '/'\n",
    "        print ( 'Download scene dir: {}'.format(down_dir) )\n",
    "        print ( 'Time: {}'.format(str(datetime.today().strftime('%Y-%m-%d %H:%M:%S'))) )\n",
    "        #download_s2_granule_gcloud(des_scene, non_cogs_dir)\n",
    "        download_extract_s2_esa(s2id, non_cogs_dir, down_dir) # using esa due to gcloud metadata issues + sedas confidence\n",
    "\n",
    "        log.write(\"{},{},{}\".format(des_scene, 'Downloaded', str(datetime.today().strftime('%Y-%m-%d %H:%M:%S'))))\n",
    "        log.write(\"\\n\")\n",
    "\n",
    "        print ( 'Time: {}'.format(str(datetime.today().strftime('%Y-%m-%d %H:%M:%S'))) )\n",
    "\n",
    "        # convert to cog\n",
    "        cog_dir = cogs_dir + scene_name + '/'\n",
    "        print ( 'COG dir: {}'.format(cog_dir) )\n",
    "        conv_s2scene_cogs(down_dir, cog_dir, scene_name, \n",
    "                          [\"B04_10m\",\"B03_10m\",\"B02_10m\",\"B08_10m\"])\n",
    "\n",
    "        print ( 'Time: {}'.format(str(datetime.today().strftime('%Y-%m-%d %H:%M:%S'))) )\n",
    "        log.write(\"{},{},{}\".format(des_scene, 'COGGED', str(datetime.today().strftime('%Y-%m-%d %H:%M:%S'))))\n",
    "        log.write(\"\\n\")\n",
    "\n",
    "        s2_ndvi(glob.glob(cog_dir + '*4_10m.tif')[0],glob.glob(cog_dir + '*8_10m.tif')[0])\n",
    "\n",
    "        log.write(\"{},{},{}\".format(des_scene, 'NDVIID', str(datetime.today().strftime('%Y-%m-%d %H:%M:%S'))))\n",
    "        log.write(\"\\n\")\n",
    "    \n",
    "        print ( 'Time: {}'.format(str(datetime.today().strftime('%Y-%m-%d %H:%M:%S'))) )\n"
   ]
  },
  {
   "cell_type": "markdown",
   "metadata": {},
   "source": [
    "## Order Landsat"
   ]
  },
  {
   "cell_type": "code",
   "execution_count": 11,
   "metadata": {},
   "outputs": [
    {
     "data": {
      "text/plain": [
       "3015    LC08_L1TP_164048_20190816_20190816_01_T1\n",
       "3016    LC08_L1TP_164049_20190816_20190816_01_T1\n",
       "3023    LC08_L1TP_164050_20190816_20190816_01_T1\n",
       "3024    LC08_L1TP_164051_20190816_20190816_01_T1\n",
       "4459    LC08_L1TP_166048_20190814_20190814_01_RT\n",
       "Name: LANDSAT_PRODUCT_ID, dtype: object"
      ]
     },
     "execution_count": 11,
     "metadata": {},
     "output_type": "execute_result"
    }
   ],
   "source": [
    "res3.LANDSAT_PRODUCT_ID.head()"
   ]
  },
  {
   "cell_type": "code",
   "execution_count": 53,
   "metadata": {},
   "outputs": [],
   "source": [
    "l8_list = list(res3.LANDSAT_PRODUCT_ID.values)"
   ]
  },
  {
   "cell_type": "code",
   "execution_count": 20,
   "metadata": {},
   "outputs": [],
   "source": [
    "# function for basic interaction with ESPA API - hacked together from their 'how to page'\n",
    "def espa_api(endpoint, verb='get', body=None, uauth=None):\n",
    "    \"\"\" Suggested simple way to interact with the ESPA JSON REST API \"\"\"\n",
    "    auth_tup = uauth if uauth else (username, password)\n",
    "    response = getattr(requests, verb)(host + endpoint, auth=auth_tup, json=body)\n",
    "    print('{} {}'.format(response.status_code, response.reason))\n",
    "    data = response.json()\n",
    "    if isinstance(data, dict):\n",
    "        messages = data.pop(\"messages\", None)  \n",
    "        if messages:\n",
    "            print(json.dumps(messages, indent=4))\n",
    "    try:\n",
    "        response.raise_for_status()\n",
    "    except Exception as e:\n",
    "        print(e)\n",
    "        return None\n",
    "    else:\n",
    "        return data"
   ]
  },
  {
   "cell_type": "code",
   "execution_count": 21,
   "metadata": {},
   "outputs": [
    {
     "name": "stdout",
     "output_type": "stream",
     "text": [
      "GET /api/v1/user\n",
      "200 OK\n",
      "{\n",
      "    \"email\": \"tom.jones@sa.catapult.org.uk\",\n",
      "    \"first_name\": \"Thomas\",\n",
      "    \"last_name\": \"Jones\",\n",
      "    \"roles\": [\n",
      "        \"active\"\n",
      "    ],\n",
      "    \"username\": \"tom.jones\"\n",
      "}\n"
     ]
    }
   ],
   "source": [
    "# earth explorer credentials are required\n",
    "host = 'https://espa.cr.usgs.gov/api/v1/'\n",
    "username = 'tom.jones'\n",
    "password = 'Welcome12'\n",
    "# check login\n",
    "print('GET /api/v1/user')\n",
    "resp = espa_api('user')\n",
    "print(json.dumps(resp, indent=4))"
   ]
  },
  {
   "cell_type": "code",
   "execution_count": 22,
   "metadata": {},
   "outputs": [
    {
     "name": "stdout",
     "output_type": "stream",
     "text": [
      "GET /api/v1/list-orders\n",
      "200 OK\n",
      "[]\n"
     ]
    }
   ],
   "source": [
    "## CHECK CONFLICTING ORDERS ###\n",
    "\n",
    "# check for any existing orders that may prevent imediate processing of a fresh requestttttt\n",
    "print('GET /api/v1/list-orders')\n",
    "filters = {\"status\": [\"complete\", \"ordered\"]}  # Here, we ignore any purged orders\n",
    "resp = espa_api('list-orders', body=filters)\n",
    "print(json.dumps(resp, indent=4))"
   ]
  },
  {
   "cell_type": "code",
   "execution_count": 23,
   "metadata": {
    "collapsed": true,
    "jupyter": {
     "outputs_hidden": true
    }
   },
   "outputs": [
    {
     "name": "stdout",
     "output_type": "stream",
     "text": [
      "GET /api/v1/available-products\n",
      "200 OK\n",
      "{\n",
      "    \"olitirs8_collection\": {\n",
      "        \"inputs\": [\n",
      "            \"LC08_L1TP_164048_20190816_20190816_01_T1\",\n",
      "            \"LC08_L1TP_164049_20190816_20190816_01_T1\",\n",
      "            \"LC08_L1TP_164050_20190816_20190816_01_T1\",\n",
      "            \"LC08_L1TP_164051_20190816_20190816_01_T1\",\n",
      "            \"LC08_L1TP_166048_20190814_20190814_01_RT\",\n",
      "            \"LC08_L1TP_166050_20190814_20190814_01_RT\",\n",
      "            \"LC08_L1TP_166051_20190814_20190814_01_RT\",\n",
      "            \"LC08_L1TP_166049_20190814_20190814_01_RT\",\n",
      "            \"LC08_L1TP_163048_20190809_20190820_01_T1\",\n",
      "            \"LC08_L1TP_163049_20190809_20190820_01_T1\",\n",
      "            \"LC08_L1TP_163050_20190809_20190820_01_T1\",\n",
      "            \"LC08_L1TP_163051_20190809_20190820_01_T1\",\n",
      "            \"LC08_L1TP_165048_20190807_20190820_01_T1\",\n",
      "            \"LC08_L1TP_165049_20190807_20190820_01_T1\",\n",
      "            \"LC08_L1TP_165050_20190807_20190820_01_T1\",\n",
      "            \"LC08_L1TP_165051_20190807_20190820_01_T1\",\n",
      "            \"LC08_L1TP_167048_20190805_20190820_01_T1\",\n",
      "            \"LC08_L1TP_167049_20190805_20190820_01_T1\",\n",
      "            \"LC08_L1TP_167050_20190805_20190820_01_T1\",\n",
      "            \"LC08_L1TP_167051_20190805_20190820_01_T1\",\n",
      "            \"LC08_L1TP_164048_20190731_20190819_01_T1\",\n",
      "            \"LC08_L1TP_164049_20190731_20190819_01_T1\",\n",
      "            \"LC08_L1TP_164050_20190731_20190819_01_T1\",\n",
      "            \"LC08_L1TP_164051_20190731_20190819_01_T1\",\n",
      "            \"LC08_L1TP_166048_20190729_20190801_01_T1\",\n",
      "            \"LC08_L1TP_166049_20190729_20190801_01_T1\",\n",
      "            \"LC08_L1TP_166050_20190729_20190801_01_T1\",\n",
      "            \"LC08_L1TP_166051_20190729_20190801_01_T1\",\n",
      "            \"LC08_L1TP_163048_20190724_20190801_01_T1\",\n",
      "            \"LC08_L1TP_163049_20190724_20190801_01_T1\",\n",
      "            \"LC08_L1TP_163050_20190724_20190801_01_T1\",\n",
      "            \"LC08_L1TP_163051_20190724_20190801_01_T1\",\n",
      "            \"LC08_L1TP_165048_20190722_20190801_01_T1\",\n",
      "            \"LC08_L1TP_165049_20190722_20190801_01_T1\",\n",
      "            \"LC08_L1TP_165050_20190722_20190801_01_T1\",\n",
      "            \"LC08_L1TP_165051_20190722_20190801_01_T1\",\n",
      "            \"LC08_L1TP_167048_20190720_20190731_01_T1\",\n",
      "            \"LC08_L1TP_167049_20190720_20190731_01_T1\",\n",
      "            \"LC08_L1TP_167050_20190720_20190731_01_T1\",\n",
      "            \"LC08_L1TP_167051_20190720_20190731_01_T1\",\n",
      "            \"LC08_L1TP_164048_20190715_20190721_01_T1\",\n",
      "            \"LC08_L1TP_164049_20190715_20190721_01_T1\",\n",
      "            \"LC08_L1TP_164050_20190715_20190720_01_T1\",\n",
      "            \"LC08_L1TP_164051_20190715_20190720_01_T1\",\n",
      "            \"LC08_L1TP_166048_20190713_20190719_01_T1\",\n",
      "            \"LC08_L1TP_166049_20190713_20190719_01_T1\",\n",
      "            \"LC08_L1TP_166050_20190713_20190719_01_T1\",\n",
      "            \"LC08_L1TP_166051_20190713_20190719_01_T1\",\n",
      "            \"LC08_L1TP_163048_20190708_20190719_01_T1\",\n",
      "            \"LC08_L1TP_163049_20190708_20190719_01_T1\",\n",
      "            \"LC08_L1TP_163050_20190708_20190719_01_T1\",\n",
      "            \"LC08_L1TP_163051_20190708_20190719_01_T1\",\n",
      "            \"LC08_L1TP_165048_20190706_20190719_01_T1\",\n",
      "            \"LC08_L1TP_165049_20190706_20190719_01_T1\",\n",
      "            \"LC08_L1TP_165050_20190706_20190719_01_T1\",\n",
      "            \"LC08_L1TP_165051_20190706_20190719_01_T1\",\n",
      "            \"LC08_L1TP_167048_20190704_20190718_01_T1\",\n",
      "            \"LC08_L1TP_167049_20190704_20190718_01_T1\",\n",
      "            \"LC08_L1TP_167050_20190704_20190718_01_T1\",\n",
      "            \"LC08_L1TP_167051_20190704_20190718_01_T1\",\n",
      "            \"LC08_L1TP_164048_20190629_20190706_01_T1\",\n",
      "            \"LC08_L1TP_164049_20190629_20190706_01_T1\",\n",
      "            \"LC08_L1TP_164050_20190629_20190706_01_T1\",\n",
      "            \"LC08_L1TP_164051_20190629_20190706_01_T1\",\n",
      "            \"LC08_L1TP_166048_20190627_20190705_01_T1\",\n",
      "            \"LC08_L1TP_166049_20190627_20190705_01_T1\",\n",
      "            \"LC08_L1TP_166050_20190627_20190705_01_T1\",\n",
      "            \"LC08_L1TP_166051_20190627_20190705_01_T1\",\n",
      "            \"LC08_L1TP_163048_20190622_20190704_01_T1\",\n",
      "            \"LC08_L1TP_163049_20190622_20190704_01_T1\",\n",
      "            \"LC08_L1TP_163050_20190622_20190704_01_T1\",\n",
      "            \"LC08_L1TP_163051_20190622_20190704_01_T1\",\n",
      "            \"LC08_L1TP_165048_20190620_20190704_01_T1\",\n",
      "            \"LC08_L1TP_165049_20190620_20190704_01_T1\",\n",
      "            \"LC08_L1TP_165050_20190620_20190704_01_T1\",\n",
      "            \"LC08_L1TP_165051_20190620_20190704_01_T1\",\n",
      "            \"LC08_L1TP_167048_20190618_20190703_01_T1\",\n",
      "            \"LC08_L1TP_167049_20190618_20190703_01_T1\",\n",
      "            \"LC08_L1TP_167050_20190618_20190703_01_T1\",\n",
      "            \"LC08_L1TP_167051_20190618_20190703_01_T1\",\n",
      "            \"LC08_L1TP_164048_20190613_20190619_01_T1\",\n",
      "            \"LC08_L1TP_164049_20190613_20190619_01_T1\",\n",
      "            \"LC08_L1TP_164050_20190613_20190619_01_T1\",\n",
      "            \"LC08_L1TP_164051_20190613_20190619_01_T1\",\n",
      "            \"LC08_L1TP_166048_20190611_20190619_01_T1\",\n",
      "            \"LC08_L1TP_166049_20190611_20190619_01_T1\",\n",
      "            \"LC08_L1TP_166050_20190611_20190619_01_T1\",\n",
      "            \"LC08_L1TP_166051_20190611_20190619_01_T1\",\n",
      "            \"LC08_L1TP_163048_20190606_20190619_01_T1\",\n",
      "            \"LC08_L1TP_163049_20190606_20190619_01_T1\",\n",
      "            \"LC08_L1TP_163050_20190606_20190619_01_T1\",\n",
      "            \"LC08_L1TP_163051_20190606_20190619_01_T1\",\n",
      "            \"LC08_L1TP_165048_20190604_20190618_01_T1\",\n",
      "            \"LC08_L1TP_165049_20190604_20190618_01_T1\",\n",
      "            \"LC08_L1TP_165050_20190604_20190618_01_T1\",\n",
      "            \"LC08_L1TP_165051_20190604_20190618_01_T1\",\n",
      "            \"LC08_L1TP_167048_20190602_20190605_01_T1\",\n",
      "            \"LC08_L1TP_167049_20190602_20190605_01_T1\",\n",
      "            \"LC08_L1TP_167050_20190602_20190605_01_T1\",\n",
      "            \"LC08_L1TP_167051_20190602_20190605_01_T1\",\n",
      "            \"LC08_L1TP_164048_20190528_20190605_01_T1\",\n",
      "            \"LC08_L1TP_164049_20190528_20190605_01_T1\",\n",
      "            \"LC08_L1TP_164050_20190528_20190605_01_T1\",\n",
      "            \"LC08_L1TP_164051_20190528_20190605_01_T1\",\n",
      "            \"LC08_L1TP_166048_20190526_20190605_01_T1\",\n",
      "            \"LC08_L1TP_166049_20190526_20190605_01_T1\",\n",
      "            \"LC08_L1TP_166050_20190526_20190605_01_T1\",\n",
      "            \"LC08_L1TP_166051_20190526_20190605_01_T1\",\n",
      "            \"LC08_L1TP_163048_20190521_20190604_01_T1\",\n",
      "            \"LC08_L1TP_163049_20190521_20190604_01_T1\",\n",
      "            \"LC08_L1TP_163050_20190521_20190604_01_T1\",\n",
      "            \"LC08_L1TP_163051_20190521_20190604_01_T1\",\n",
      "            \"LC08_L1TP_165048_20190519_20190522_01_T1\",\n",
      "            \"LC08_L1TP_165049_20190519_20190522_01_T1\",\n",
      "            \"LC08_L1TP_165050_20190519_20190522_01_T1\",\n",
      "            \"LC08_L1TP_165051_20190519_20190522_01_T1\",\n",
      "            \"LC08_L1TP_167048_20190517_20190521_01_T1\",\n",
      "            \"LC08_L1TP_167049_20190517_20190521_01_T1\",\n",
      "            \"LC08_L1TP_167050_20190517_20190521_01_T1\",\n",
      "            \"LC08_L1TP_167051_20190517_20190521_01_T1\",\n",
      "            \"LC08_L1TP_164048_20190512_20190521_01_T1\",\n",
      "            \"LC08_L1TP_164049_20190512_20190521_01_T1\",\n",
      "            \"LC08_L1TP_164050_20190512_20190521_01_T1\",\n",
      "            \"LC08_L1TP_164051_20190512_20190521_01_T1\",\n",
      "            \"LC08_L1TP_166048_20190510_20190521_01_T1\",\n",
      "            \"LC08_L1TP_166049_20190510_20190521_01_T1\",\n",
      "            \"LC08_L1TP_166050_20190510_20190521_01_T1\",\n",
      "            \"LC08_L1TP_166051_20190510_20190521_01_T1\",\n",
      "            \"LC08_L1TP_163048_20190505_20190520_01_T1\",\n",
      "            \"LC08_L1TP_163049_20190505_20190520_01_T1\",\n",
      "            \"LC08_L1TP_163050_20190505_20190520_01_T1\",\n",
      "            \"LC08_L1TP_163051_20190505_20190520_01_T1\",\n",
      "            \"LC08_L1TP_165048_20190503_20190508_01_T1\",\n",
      "            \"LC08_L1TP_165049_20190503_20190508_01_T1\",\n",
      "            \"LC08_L1TP_165050_20190503_20190508_01_T1\",\n",
      "            \"LC08_L1TP_165051_20190503_20190508_01_T1\"\n",
      "        ],\n",
      "        \"products\": [\n",
      "            \"source_metadata\",\n",
      "            \"l1\",\n",
      "            \"toa\",\n",
      "            \"bt\",\n",
      "            \"sr\",\n",
      "            \"sr_ndvi\",\n",
      "            \"sr_evi\",\n",
      "            \"sr_savi\",\n",
      "            \"sr_msavi\",\n",
      "            \"sr_ndmi\",\n",
      "            \"sr_nbr\",\n",
      "            \"sr_nbr2\",\n",
      "            \"stats\",\n",
      "            \"pixel_qa\"\n",
      "        ]\n",
      "    }\n",
      "}\n"
     ]
    }
   ],
   "source": [
    "### CHECK PRODUCT AVAILABILITY ###\n",
    "\n",
    "# example of how to check available products for desired scenes\n",
    "print('GET /api/v1/available-products')\n",
    "avail_list = {'inputs': l8_list\n",
    "             }\n",
    "resp = espa_api('available-products', body=avail_list)\n",
    "print(json.dumps(resp, indent=4))"
   ]
  },
  {
   "cell_type": "code",
   "execution_count": 59,
   "metadata": {},
   "outputs": [
    {
     "name": "stdout",
     "output_type": "stream",
     "text": [
      "136\n",
      "LC08_L1TP_166051_20190814_20190814_01_RT\n"
     ]
    },
    {
     "ename": "ValueError",
     "evalue": "list.remove(x): x not in list",
     "output_type": "error",
     "traceback": [
      "\u001b[0;31m---------------------------------------------------------------------------\u001b[0m",
      "\u001b[0;31mValueError\u001b[0m                                Traceback (most recent call last)",
      "\u001b[0;32m<ipython-input-59-36242572cf6c>\u001b[0m in \u001b[0;36m<module>\u001b[0;34m\u001b[0m\n\u001b[1;32m      6\u001b[0m \u001b[0;32mfor\u001b[0m \u001b[0mi\u001b[0m \u001b[0;32min\u001b[0m \u001b[0mer\u001b[0m\u001b[0;34m:\u001b[0m\u001b[0;34m\u001b[0m\u001b[0;34m\u001b[0m\u001b[0m\n\u001b[1;32m      7\u001b[0m     \u001b[0mprint\u001b[0m\u001b[0;34m(\u001b[0m\u001b[0mi\u001b[0m\u001b[0;34m)\u001b[0m\u001b[0;34m\u001b[0m\u001b[0;34m\u001b[0m\u001b[0m\n\u001b[0;32m----> 8\u001b[0;31m     \u001b[0mls\u001b[0m\u001b[0;34m.\u001b[0m\u001b[0mremove\u001b[0m\u001b[0;34m(\u001b[0m\u001b[0mer\u001b[0m\u001b[0;34m)\u001b[0m\u001b[0;34m\u001b[0m\u001b[0;34m\u001b[0m\u001b[0m\n\u001b[0m\u001b[1;32m      9\u001b[0m \u001b[0mprint\u001b[0m\u001b[0;34m(\u001b[0m\u001b[0mlen\u001b[0m\u001b[0;34m(\u001b[0m\u001b[0mls\u001b[0m\u001b[0;34m)\u001b[0m\u001b[0;34m)\u001b[0m\u001b[0;34m\u001b[0m\u001b[0;34m\u001b[0m\u001b[0m\n",
      "\u001b[0;31mValueError\u001b[0m: list.remove(x): x not in list"
     ]
    }
   ],
   "source": [
    "l8_list = list(res3.LANDSAT_PRODUCT_ID.values)\n",
    "print(len(l8_list))\n",
    "er = ['LC08_L1TP_166051_20190814_20190814_01_RT', 'LC08_L1TP_166048_20190814_20190814_01_RT']\n",
    "ls = l8_list\n",
    "# ls = [x (if x not in er) for x in l8_list]\n",
    "for i in er: \n",
    "    print(i)\n",
    "    ls.remove(er)\n",
    "print(len(ls))"
   ]
  },
  {
   "cell_type": "code",
   "execution_count": 65,
   "metadata": {},
   "outputs": [
    {
     "name": "stdout",
     "output_type": "stream",
     "text": [
      "GET /api/v1/available-products\n",
      "200 OK\n",
      "{\n",
      "    \"olitirs8_collection\": {\n",
      "        \"inputs\": [\n",
      "            \"LC08_L1TP_164048_20190816_20190816_01_T1\",\n",
      "            \"LC08_L1TP_164049_20190816_20190816_01_T1\",\n",
      "            \"LC08_L1TP_164050_20190816_20190816_01_T1\",\n",
      "            \"LC08_L1TP_164051_20190816_20190816_01_T1\",\n",
      "            \"LC08_L1TP_163048_20190809_20190820_01_T1\",\n",
      "            \"LC08_L1TP_163049_20190809_20190820_01_T1\",\n",
      "            \"LC08_L1TP_163050_20190809_20190820_01_T1\",\n",
      "            \"LC08_L1TP_163051_20190809_20190820_01_T1\",\n",
      "            \"LC08_L1TP_165048_20190807_20190820_01_T1\",\n",
      "            \"LC08_L1TP_165049_20190807_20190820_01_T1\",\n",
      "            \"LC08_L1TP_165050_20190807_20190820_01_T1\",\n",
      "            \"LC08_L1TP_165051_20190807_20190820_01_T1\",\n",
      "            \"LC08_L1TP_167048_20190805_20190820_01_T1\",\n",
      "            \"LC08_L1TP_167049_20190805_20190820_01_T1\",\n",
      "            \"LC08_L1TP_167050_20190805_20190820_01_T1\",\n",
      "            \"LC08_L1TP_167051_20190805_20190820_01_T1\",\n",
      "            \"LC08_L1TP_164048_20190731_20190819_01_T1\",\n",
      "            \"LC08_L1TP_164049_20190731_20190819_01_T1\",\n",
      "            \"LC08_L1TP_164050_20190731_20190819_01_T1\",\n",
      "            \"LC08_L1TP_164051_20190731_20190819_01_T1\",\n",
      "            \"LC08_L1TP_166048_20190729_20190801_01_T1\",\n",
      "            \"LC08_L1TP_166049_20190729_20190801_01_T1\",\n",
      "            \"LC08_L1TP_166050_20190729_20190801_01_T1\",\n",
      "            \"LC08_L1TP_166051_20190729_20190801_01_T1\",\n",
      "            \"LC08_L1TP_163048_20190724_20190801_01_T1\",\n",
      "            \"LC08_L1TP_163049_20190724_20190801_01_T1\",\n",
      "            \"LC08_L1TP_163050_20190724_20190801_01_T1\",\n",
      "            \"LC08_L1TP_163051_20190724_20190801_01_T1\",\n",
      "            \"LC08_L1TP_165048_20190722_20190801_01_T1\",\n",
      "            \"LC08_L1TP_165049_20190722_20190801_01_T1\",\n",
      "            \"LC08_L1TP_165050_20190722_20190801_01_T1\",\n",
      "            \"LC08_L1TP_165051_20190722_20190801_01_T1\",\n",
      "            \"LC08_L1TP_167048_20190720_20190731_01_T1\",\n",
      "            \"LC08_L1TP_167049_20190720_20190731_01_T1\",\n",
      "            \"LC08_L1TP_167050_20190720_20190731_01_T1\",\n",
      "            \"LC08_L1TP_167051_20190720_20190731_01_T1\",\n",
      "            \"LC08_L1TP_164048_20190715_20190721_01_T1\",\n",
      "            \"LC08_L1TP_164049_20190715_20190721_01_T1\",\n",
      "            \"LC08_L1TP_164050_20190715_20190720_01_T1\",\n",
      "            \"LC08_L1TP_164051_20190715_20190720_01_T1\",\n",
      "            \"LC08_L1TP_166048_20190713_20190719_01_T1\",\n",
      "            \"LC08_L1TP_166049_20190713_20190719_01_T1\",\n",
      "            \"LC08_L1TP_166050_20190713_20190719_01_T1\",\n",
      "            \"LC08_L1TP_166051_20190713_20190719_01_T1\",\n",
      "            \"LC08_L1TP_163048_20190708_20190719_01_T1\",\n",
      "            \"LC08_L1TP_163049_20190708_20190719_01_T1\",\n",
      "            \"LC08_L1TP_163050_20190708_20190719_01_T1\",\n",
      "            \"LC08_L1TP_163051_20190708_20190719_01_T1\",\n",
      "            \"LC08_L1TP_165048_20190706_20190719_01_T1\",\n",
      "            \"LC08_L1TP_165049_20190706_20190719_01_T1\",\n",
      "            \"LC08_L1TP_165050_20190706_20190719_01_T1\",\n",
      "            \"LC08_L1TP_165051_20190706_20190719_01_T1\",\n",
      "            \"LC08_L1TP_167048_20190704_20190718_01_T1\",\n",
      "            \"LC08_L1TP_167049_20190704_20190718_01_T1\",\n",
      "            \"LC08_L1TP_167050_20190704_20190718_01_T1\",\n",
      "            \"LC08_L1TP_167051_20190704_20190718_01_T1\",\n",
      "            \"LC08_L1TP_164048_20190629_20190706_01_T1\",\n",
      "            \"LC08_L1TP_164049_20190629_20190706_01_T1\",\n",
      "            \"LC08_L1TP_164050_20190629_20190706_01_T1\",\n",
      "            \"LC08_L1TP_164051_20190629_20190706_01_T1\",\n",
      "            \"LC08_L1TP_166048_20190627_20190705_01_T1\",\n",
      "            \"LC08_L1TP_166049_20190627_20190705_01_T1\",\n",
      "            \"LC08_L1TP_166050_20190627_20190705_01_T1\",\n",
      "            \"LC08_L1TP_166051_20190627_20190705_01_T1\",\n",
      "            \"LC08_L1TP_163048_20190622_20190704_01_T1\",\n",
      "            \"LC08_L1TP_163049_20190622_20190704_01_T1\",\n",
      "            \"LC08_L1TP_163050_20190622_20190704_01_T1\",\n",
      "            \"LC08_L1TP_163051_20190622_20190704_01_T1\",\n",
      "            \"LC08_L1TP_165048_20190620_20190704_01_T1\",\n",
      "            \"LC08_L1TP_165049_20190620_20190704_01_T1\",\n",
      "            \"LC08_L1TP_165050_20190620_20190704_01_T1\",\n",
      "            \"LC08_L1TP_165051_20190620_20190704_01_T1\",\n",
      "            \"LC08_L1TP_167048_20190618_20190703_01_T1\",\n",
      "            \"LC08_L1TP_167049_20190618_20190703_01_T1\",\n",
      "            \"LC08_L1TP_167050_20190618_20190703_01_T1\",\n",
      "            \"LC08_L1TP_167051_20190618_20190703_01_T1\",\n",
      "            \"LC08_L1TP_164048_20190613_20190619_01_T1\",\n",
      "            \"LC08_L1TP_164049_20190613_20190619_01_T1\",\n",
      "            \"LC08_L1TP_164050_20190613_20190619_01_T1\",\n",
      "            \"LC08_L1TP_164051_20190613_20190619_01_T1\",\n",
      "            \"LC08_L1TP_166048_20190611_20190619_01_T1\",\n",
      "            \"LC08_L1TP_166049_20190611_20190619_01_T1\",\n",
      "            \"LC08_L1TP_166050_20190611_20190619_01_T1\",\n",
      "            \"LC08_L1TP_166051_20190611_20190619_01_T1\",\n",
      "            \"LC08_L1TP_163048_20190606_20190619_01_T1\",\n",
      "            \"LC08_L1TP_163049_20190606_20190619_01_T1\",\n",
      "            \"LC08_L1TP_163050_20190606_20190619_01_T1\",\n",
      "            \"LC08_L1TP_163051_20190606_20190619_01_T1\",\n",
      "            \"LC08_L1TP_165048_20190604_20190618_01_T1\",\n",
      "            \"LC08_L1TP_165049_20190604_20190618_01_T1\",\n",
      "            \"LC08_L1TP_165050_20190604_20190618_01_T1\",\n",
      "            \"LC08_L1TP_165051_20190604_20190618_01_T1\",\n",
      "            \"LC08_L1TP_167048_20190602_20190605_01_T1\",\n",
      "            \"LC08_L1TP_167049_20190602_20190605_01_T1\",\n",
      "            \"LC08_L1TP_167050_20190602_20190605_01_T1\",\n",
      "            \"LC08_L1TP_167051_20190602_20190605_01_T1\",\n",
      "            \"LC08_L1TP_164048_20190528_20190605_01_T1\",\n",
      "            \"LC08_L1TP_164049_20190528_20190605_01_T1\",\n",
      "            \"LC08_L1TP_164050_20190528_20190605_01_T1\",\n",
      "            \"LC08_L1TP_164051_20190528_20190605_01_T1\",\n",
      "            \"LC08_L1TP_166048_20190526_20190605_01_T1\",\n",
      "            \"LC08_L1TP_166049_20190526_20190605_01_T1\",\n",
      "            \"LC08_L1TP_166050_20190526_20190605_01_T1\",\n",
      "            \"LC08_L1TP_166051_20190526_20190605_01_T1\",\n",
      "            \"LC08_L1TP_163048_20190521_20190604_01_T1\",\n",
      "            \"LC08_L1TP_163049_20190521_20190604_01_T1\",\n",
      "            \"LC08_L1TP_163050_20190521_20190604_01_T1\",\n",
      "            \"LC08_L1TP_163051_20190521_20190604_01_T1\",\n",
      "            \"LC08_L1TP_165048_20190519_20190522_01_T1\",\n",
      "            \"LC08_L1TP_165049_20190519_20190522_01_T1\",\n",
      "            \"LC08_L1TP_165050_20190519_20190522_01_T1\",\n",
      "            \"LC08_L1TP_165051_20190519_20190522_01_T1\",\n",
      "            \"LC08_L1TP_167048_20190517_20190521_01_T1\",\n",
      "            \"LC08_L1TP_167049_20190517_20190521_01_T1\",\n",
      "            \"LC08_L1TP_167050_20190517_20190521_01_T1\",\n",
      "            \"LC08_L1TP_167051_20190517_20190521_01_T1\",\n",
      "            \"LC08_L1TP_164048_20190512_20190521_01_T1\",\n",
      "            \"LC08_L1TP_164049_20190512_20190521_01_T1\",\n",
      "            \"LC08_L1TP_164050_20190512_20190521_01_T1\",\n",
      "            \"LC08_L1TP_164051_20190512_20190521_01_T1\",\n",
      "            \"LC08_L1TP_166048_20190510_20190521_01_T1\",\n",
      "            \"LC08_L1TP_166049_20190510_20190521_01_T1\",\n",
      "            \"LC08_L1TP_166050_20190510_20190521_01_T1\",\n",
      "            \"LC08_L1TP_166051_20190510_20190521_01_T1\",\n",
      "            \"LC08_L1TP_163048_20190505_20190520_01_T1\",\n",
      "            \"LC08_L1TP_163049_20190505_20190520_01_T1\",\n",
      "            \"LC08_L1TP_163050_20190505_20190520_01_T1\",\n",
      "            \"LC08_L1TP_163051_20190505_20190520_01_T1\",\n",
      "            \"LC08_L1TP_165048_20190503_20190508_01_T1\",\n",
      "            \"LC08_L1TP_165049_20190503_20190508_01_T1\",\n",
      "            \"LC08_L1TP_165050_20190503_20190508_01_T1\",\n",
      "            \"LC08_L1TP_165051_20190503_20190508_01_T1\"\n",
      "        ],\n",
      "        \"products\": [\n",
      "            \"source_metadata\",\n",
      "            \"l1\",\n",
      "            \"toa\",\n",
      "            \"bt\",\n",
      "            \"sr\",\n",
      "            \"sr_ndvi\",\n",
      "            \"sr_evi\",\n",
      "            \"sr_savi\",\n",
      "            \"sr_msavi\",\n",
      "            \"sr_ndmi\",\n",
      "            \"sr_nbr\",\n",
      "            \"sr_nbr2\",\n",
      "            \"stats\",\n",
      "            \"pixel_qa\"\n",
      "        ]\n",
      "    }\n",
      "}\n",
      "{\n",
      "    \"olitirs8_collection\": {\n",
      "        \"inputs\": [\n",
      "            \"LC08_L1TP_164048_20190816_20190816_01_T1\",\n",
      "            \"LC08_L1TP_164049_20190816_20190816_01_T1\",\n",
      "            \"LC08_L1TP_164050_20190816_20190816_01_T1\",\n",
      "            \"LC08_L1TP_164051_20190816_20190816_01_T1\",\n",
      "            \"LC08_L1TP_163048_20190809_20190820_01_T1\",\n",
      "            \"LC08_L1TP_163049_20190809_20190820_01_T1\",\n",
      "            \"LC08_L1TP_163050_20190809_20190820_01_T1\",\n",
      "            \"LC08_L1TP_163051_20190809_20190820_01_T1\",\n",
      "            \"LC08_L1TP_165048_20190807_20190820_01_T1\",\n",
      "            \"LC08_L1TP_165049_20190807_20190820_01_T1\",\n",
      "            \"LC08_L1TP_165050_20190807_20190820_01_T1\",\n",
      "            \"LC08_L1TP_165051_20190807_20190820_01_T1\",\n",
      "            \"LC08_L1TP_167048_20190805_20190820_01_T1\",\n",
      "            \"LC08_L1TP_167049_20190805_20190820_01_T1\",\n",
      "            \"LC08_L1TP_167050_20190805_20190820_01_T1\",\n",
      "            \"LC08_L1TP_167051_20190805_20190820_01_T1\",\n",
      "            \"LC08_L1TP_164048_20190731_20190819_01_T1\",\n",
      "            \"LC08_L1TP_164049_20190731_20190819_01_T1\",\n",
      "            \"LC08_L1TP_164050_20190731_20190819_01_T1\",\n",
      "            \"LC08_L1TP_164051_20190731_20190819_01_T1\",\n",
      "            \"LC08_L1TP_166048_20190729_20190801_01_T1\",\n",
      "            \"LC08_L1TP_166049_20190729_20190801_01_T1\",\n",
      "            \"LC08_L1TP_166050_20190729_20190801_01_T1\",\n",
      "            \"LC08_L1TP_166051_20190729_20190801_01_T1\",\n",
      "            \"LC08_L1TP_163048_20190724_20190801_01_T1\",\n",
      "            \"LC08_L1TP_163049_20190724_20190801_01_T1\",\n",
      "            \"LC08_L1TP_163050_20190724_20190801_01_T1\",\n",
      "            \"LC08_L1TP_163051_20190724_20190801_01_T1\",\n",
      "            \"LC08_L1TP_165048_20190722_20190801_01_T1\",\n",
      "            \"LC08_L1TP_165049_20190722_20190801_01_T1\",\n",
      "            \"LC08_L1TP_165050_20190722_20190801_01_T1\",\n",
      "            \"LC08_L1TP_165051_20190722_20190801_01_T1\",\n",
      "            \"LC08_L1TP_167048_20190720_20190731_01_T1\",\n",
      "            \"LC08_L1TP_167049_20190720_20190731_01_T1\",\n",
      "            \"LC08_L1TP_167050_20190720_20190731_01_T1\",\n",
      "            \"LC08_L1TP_167051_20190720_20190731_01_T1\",\n",
      "            \"LC08_L1TP_164048_20190715_20190721_01_T1\",\n",
      "            \"LC08_L1TP_164049_20190715_20190721_01_T1\",\n",
      "            \"LC08_L1TP_164050_20190715_20190720_01_T1\",\n",
      "            \"LC08_L1TP_164051_20190715_20190720_01_T1\",\n",
      "            \"LC08_L1TP_166048_20190713_20190719_01_T1\",\n",
      "            \"LC08_L1TP_166049_20190713_20190719_01_T1\",\n",
      "            \"LC08_L1TP_166050_20190713_20190719_01_T1\",\n",
      "            \"LC08_L1TP_166051_20190713_20190719_01_T1\",\n",
      "            \"LC08_L1TP_163048_20190708_20190719_01_T1\",\n",
      "            \"LC08_L1TP_163049_20190708_20190719_01_T1\",\n",
      "            \"LC08_L1TP_163050_20190708_20190719_01_T1\",\n",
      "            \"LC08_L1TP_163051_20190708_20190719_01_T1\",\n",
      "            \"LC08_L1TP_165048_20190706_20190719_01_T1\",\n",
      "            \"LC08_L1TP_165049_20190706_20190719_01_T1\",\n",
      "            \"LC08_L1TP_165050_20190706_20190719_01_T1\",\n",
      "            \"LC08_L1TP_165051_20190706_20190719_01_T1\",\n",
      "            \"LC08_L1TP_167048_20190704_20190718_01_T1\",\n",
      "            \"LC08_L1TP_167049_20190704_20190718_01_T1\",\n",
      "            \"LC08_L1TP_167050_20190704_20190718_01_T1\",\n",
      "            \"LC08_L1TP_167051_20190704_20190718_01_T1\",\n",
      "            \"LC08_L1TP_164048_20190629_20190706_01_T1\",\n",
      "            \"LC08_L1TP_164049_20190629_20190706_01_T1\",\n",
      "            \"LC08_L1TP_164050_20190629_20190706_01_T1\",\n",
      "            \"LC08_L1TP_164051_20190629_20190706_01_T1\",\n",
      "            \"LC08_L1TP_166048_20190627_20190705_01_T1\",\n",
      "            \"LC08_L1TP_166049_20190627_20190705_01_T1\",\n",
      "            \"LC08_L1TP_166050_20190627_20190705_01_T1\",\n",
      "            \"LC08_L1TP_166051_20190627_20190705_01_T1\",\n",
      "            \"LC08_L1TP_163048_20190622_20190704_01_T1\",\n",
      "            \"LC08_L1TP_163049_20190622_20190704_01_T1\",\n",
      "            \"LC08_L1TP_163050_20190622_20190704_01_T1\",\n",
      "            \"LC08_L1TP_163051_20190622_20190704_01_T1\",\n",
      "            \"LC08_L1TP_165048_20190620_20190704_01_T1\",\n",
      "            \"LC08_L1TP_165049_20190620_20190704_01_T1\",\n",
      "            \"LC08_L1TP_165050_20190620_20190704_01_T1\",\n",
      "            \"LC08_L1TP_165051_20190620_20190704_01_T1\",\n",
      "            \"LC08_L1TP_167048_20190618_20190703_01_T1\",\n",
      "            \"LC08_L1TP_167049_20190618_20190703_01_T1\",\n",
      "            \"LC08_L1TP_167050_20190618_20190703_01_T1\",\n",
      "            \"LC08_L1TP_167051_20190618_20190703_01_T1\",\n",
      "            \"LC08_L1TP_164048_20190613_20190619_01_T1\",\n",
      "            \"LC08_L1TP_164049_20190613_20190619_01_T1\",\n",
      "            \"LC08_L1TP_164050_20190613_20190619_01_T1\",\n",
      "            \"LC08_L1TP_164051_20190613_20190619_01_T1\",\n",
      "            \"LC08_L1TP_166048_20190611_20190619_01_T1\",\n",
      "            \"LC08_L1TP_166049_20190611_20190619_01_T1\",\n",
      "            \"LC08_L1TP_166050_20190611_20190619_01_T1\",\n",
      "            \"LC08_L1TP_166051_20190611_20190619_01_T1\",\n",
      "            \"LC08_L1TP_163048_20190606_20190619_01_T1\",\n",
      "            \"LC08_L1TP_163049_20190606_20190619_01_T1\",\n",
      "            \"LC08_L1TP_163050_20190606_20190619_01_T1\",\n",
      "            \"LC08_L1TP_163051_20190606_20190619_01_T1\",\n",
      "            \"LC08_L1TP_165048_20190604_20190618_01_T1\",\n",
      "            \"LC08_L1TP_165049_20190604_20190618_01_T1\",\n",
      "            \"LC08_L1TP_165050_20190604_20190618_01_T1\",\n",
      "            \"LC08_L1TP_165051_20190604_20190618_01_T1\",\n",
      "            \"LC08_L1TP_167048_20190602_20190605_01_T1\",\n",
      "            \"LC08_L1TP_167049_20190602_20190605_01_T1\",\n",
      "            \"LC08_L1TP_167050_20190602_20190605_01_T1\",\n",
      "            \"LC08_L1TP_167051_20190602_20190605_01_T1\",\n",
      "            \"LC08_L1TP_164048_20190528_20190605_01_T1\",\n",
      "            \"LC08_L1TP_164049_20190528_20190605_01_T1\",\n",
      "            \"LC08_L1TP_164050_20190528_20190605_01_T1\",\n",
      "            \"LC08_L1TP_164051_20190528_20190605_01_T1\",\n",
      "            \"LC08_L1TP_166048_20190526_20190605_01_T1\",\n",
      "            \"LC08_L1TP_166049_20190526_20190605_01_T1\",\n",
      "            \"LC08_L1TP_166050_20190526_20190605_01_T1\",\n",
      "            \"LC08_L1TP_166051_20190526_20190605_01_T1\",\n",
      "            \"LC08_L1TP_163048_20190521_20190604_01_T1\",\n",
      "            \"LC08_L1TP_163049_20190521_20190604_01_T1\",\n",
      "            \"LC08_L1TP_163050_20190521_20190604_01_T1\",\n",
      "            \"LC08_L1TP_163051_20190521_20190604_01_T1\",\n",
      "            \"LC08_L1TP_165048_20190519_20190522_01_T1\",\n",
      "            \"LC08_L1TP_165049_20190519_20190522_01_T1\",\n",
      "            \"LC08_L1TP_165050_20190519_20190522_01_T1\",\n",
      "            \"LC08_L1TP_165051_20190519_20190522_01_T1\",\n",
      "            \"LC08_L1TP_167048_20190517_20190521_01_T1\",\n",
      "            \"LC08_L1TP_167049_20190517_20190521_01_T1\",\n",
      "            \"LC08_L1TP_167050_20190517_20190521_01_T1\",\n",
      "            \"LC08_L1TP_167051_20190517_20190521_01_T1\",\n",
      "            \"LC08_L1TP_164048_20190512_20190521_01_T1\",\n",
      "            \"LC08_L1TP_164049_20190512_20190521_01_T1\",\n",
      "            \"LC08_L1TP_164050_20190512_20190521_01_T1\",\n",
      "            \"LC08_L1TP_164051_20190512_20190521_01_T1\",\n",
      "            \"LC08_L1TP_166048_20190510_20190521_01_T1\",\n",
      "            \"LC08_L1TP_166049_20190510_20190521_01_T1\",\n",
      "            \"LC08_L1TP_166050_20190510_20190521_01_T1\",\n",
      "            \"LC08_L1TP_166051_20190510_20190521_01_T1\",\n",
      "            \"LC08_L1TP_163048_20190505_20190520_01_T1\",\n",
      "            \"LC08_L1TP_163049_20190505_20190520_01_T1\",\n",
      "            \"LC08_L1TP_163050_20190505_20190520_01_T1\",\n",
      "            \"LC08_L1TP_163051_20190505_20190520_01_T1\",\n",
      "            \"LC08_L1TP_165048_20190503_20190508_01_T1\",\n",
      "            \"LC08_L1TP_165049_20190503_20190508_01_T1\",\n",
      "            \"LC08_L1TP_165050_20190503_20190508_01_T1\",\n",
      "            \"LC08_L1TP_165051_20190503_20190508_01_T1\"\n",
      "        ],\n",
      "        \"products\": [\n",
      "            \"sr\",\n",
      "            \"bt\",\n",
      "            \"source_metadata\",\n",
      "            \"sr_ndvi\",\n",
      "            \"sr_evi\",\n",
      "            \"sr_savi\",\n",
      "            \"sr_msavi\",\n",
      "            \"sr_ndmi\",\n",
      "            \"sr_nbr\",\n",
      "            \"sr_nbr2\",\n",
      "            \"stats\",\n",
      "            \"pixel_qa\"\n",
      "        ]\n",
      "    },\n",
      "    \"format\": \"gtiff\",\n",
      "    \"resampling_method\": \"cc\",\n",
      "    \"note\": \"DY Veg\"\n",
      "}\n"
     ]
    }
   ],
   "source": [
    "### CREATE ORDER ###\n",
    "# if any further subsetting is required. very recently acquired products are categorised as RT (as opposed to T1/T2). these are of insufficient certainty RE quality to be processed to ARD. this latency is unlikely to impact the non-NRT requirements of Common Sensing.\n",
    "er = ['LC08_L1TP_166051_20190814_20190814_01_RT', 'LC08_L1TP_166048_20190814_20190814_01_RT']\n",
    "l8_ls = [e for e in l8_list if e not in (er)]\n",
    "l8_ls = [i for i in l8_list if 'RT' not in i]\n",
    "\n",
    "# specifying differing products across the sensors\n",
    "l8_prods = [\"sr\",\"bt\",\"source_metadata\",\"sr_ndvi\",\"sr_evi\",\"sr_savi\",\"sr_msavi\",\"sr_ndmi\",\"sr_nbr\",\"sr_nbr2\",\"stats\",\"pixel_qa\"]\n",
    "         \n",
    "# determine available-products under their respective sensors\n",
    "ls = l8_ls\n",
    "print('GET /api/v1/available-products')\n",
    "order = espa_api('available-products', body=dict(inputs=ls))\n",
    "print(json.dumps(order, indent=4))\n",
    "\n",
    "# replace available products with what we wish to process\n",
    "for sensor in order.keys():\n",
    "    if isinstance(order[sensor], dict) and order[sensor].get('inputs'):\n",
    "\n",
    "        if set(l8_ls) & set(order[sensor]['inputs']):\n",
    "            order[sensor]['products'] = l8_prods\n",
    "\n",
    "# Add in the rest of the order information\n",
    "#order['projection'] = projection\n",
    "order['format'] = 'gtiff'\n",
    "order['resampling_method'] = 'cc'\n",
    "order['note'] = 'DY Veg'\n",
    "\n",
    "# the order shoud now have changed from the original call available-products\n",
    "print(json.dumps(order, indent=4))"
   ]
  },
  {
   "cell_type": "code",
   "execution_count": 66,
   "metadata": {},
   "outputs": [
    {
     "name": "stdout",
     "output_type": "stream",
     "text": [
      "POST /api/v1/order\n",
      "201 CREATED\n",
      "<built-in method keys of dict object at 0x7fb201234370>\n",
      "{\n",
      "    \"orderid\": \"espa-tom.jones@sa.catapult.org.uk-08282019-125913-960\",\n",
      "    \"status\": \"ordered\"\n",
      "}\n"
     ]
    }
   ],
   "source": [
    "### PLACE ORDER ###\n",
    "print('POST /api/v1/order')\n",
    "resp = espa_api('order', verb='post', body=order)\n",
    "print(resp.keys)\n",
    "print(json.dumps(resp, indent=4))"
   ]
  },
  {
   "cell_type": "code",
   "execution_count": null,
   "metadata": {},
   "outputs": [],
   "source": [
    "### CHECK STATUS OF ORDER ### \n",
    "orderid = resp['orderid']\n",
    "print('GET /api/v1/order-status/{}'.format(orderid))\n",
    "resp = espa_api('order-status/{}'.format(orderid))\n",
    "print(json.dumps(resp, indent=4))"
   ]
  },
  {
   "cell_type": "code",
   "execution_count": null,
   "metadata": {},
   "outputs": [],
   "source": [
    "### EXTRACT URLS ###\n",
    "urls = []\n",
    "for item in resp[orderid]:\n",
    "    urls.append(item.get('product_dload_url'))\n",
    "print(urls)"
   ]
  }
 ],
 "metadata": {
  "kernelspec": {
   "display_name": "Python 3",
   "language": "python",
   "name": "python3"
  },
  "language_info": {
   "codemirror_mode": {
    "name": "ipython",
    "version": 3
   },
   "file_extension": ".py",
   "mimetype": "text/x-python",
   "name": "python",
   "nbconvert_exporter": "python",
   "pygments_lexer": "ipython3",
   "version": "3.7.4"
  }
 },
 "nbformat": 4,
 "nbformat_minor": 4
}
