{
 "cells": [
  {
   "cell_type": "markdown",
   "metadata": {},
   "source": [
    "# Debug notebook\n",
    "This notebook is only used to troubleshoot the Landsat ARD workflow processor."
   ]
  },
  {
   "cell_type": "markdown",
   "metadata": {},
   "source": [
    "## Landsat ARD workflow"
   ]
  },
  {
   "cell_type": "code",
   "execution_count": 1,
   "metadata": {},
   "outputs": [
    {
     "name": "stdout",
     "output_type": "stream",
     "text": [
      "no gsutils installed\n",
      "sentinelsat not installed\n"
     ]
    }
   ],
   "source": [
    "import json\n",
    "from utils.prepLS import prepareLS\n",
    "\n",
    "def process_scene(json_data):\n",
    "    loaded_json = json.loads(json_data)\n",
    "    #for x in loaded_json:\n",
    "    #    print(\"%s: %s\" % (x, loaded_json[x]))\n",
    "    prepareLS(**loaded_json)"
   ]
  },
  {
   "cell_type": "markdown",
   "metadata": {},
   "source": [
    "## Landsat ARD job queue processor"
   ]
  },
  {
   "cell_type": "code",
   "execution_count": 2,
   "metadata": {},
   "outputs": [
    {
     "name": "stdout",
     "output_type": "stream",
     "text": [
      "Worker with sessionID: 032e251c-a1a6-45cb-a80e-e88d9f53bad9\n",
      "Initial queue state: empty=False\n"
     ]
    }
   ],
   "source": [
    "import rediswq\n",
    "\n",
    "import os\n",
    "host = os.getenv(\"REDIS_SERVICE_HOST\", \"redis-master\")\n",
    "\n",
    "q = rediswq.RedisWQ(name=\"jobLS\", host=host)\n",
    "print(\"Worker with sessionID: \" +  q.sessionID())\n",
    "print(\"Initial queue state: empty=\" + str(q.empty()))"
   ]
  },
  {
   "cell_type": "code",
   "execution_count": null,
   "metadata": {},
   "outputs": [
    {
     "name": "stdout",
     "output_type": "stream",
     "text": [
      "Working on {\"in_scene\": \"https://edclpdsftp.cr.usgs.gov/orders/espa-Sarah.Cheesbrough@sa.catapult.org.uk-10252019-060110-664/LC080740722019072401T1-SC20191025121311.tar.gz\", \"s3_bucket\": \"public-eo-data\", \"s3_dir\": \"common_sensing/fiji/landsat_8_luigis_testing/\"}\n",
      "scene: LC08_L1TP_074072_20190724\n",
      "untar: /tmp/data/intermediate/LC08_L1TP_074072_20190724_tmp/LC08_L1TP_074072_20190724_untar/\n",
      "cog_dir/tmp/data/intermediate/LC08_L1TP_074072_20190724_tmp/LC08_L1TP_074072_20190724/\n",
      "Downloading tar.gz: /tmp/data/intermediate/LC08_L1TP_074072_20190724_tmp/LC080740722019072401T1-SC20191025121311.tar.gz\n",
      "Extracting tar.gz: /tmp/data/intermediate/LC08_L1TP_074072_20190724_tmp/LC080740722019072401T1-SC20191025121311.tar.gz\n",
      "/tmp/data/intermediate/LC08_L1TP_074072_20190724_tmp/LC08_L1TP_074072_20190724_untar/LC08_L1TP_074072_20190724_20190801_01_T1_sr_band7.tif\n",
      "/tmp/data/intermediate/LC08_L1TP_074072_20190724_tmp/LC08_L1TP_074072_20190724_untar/LC08_L1TP_074072_20190724_20190801_01_T1_sr_band3.tif\n",
      "/tmp/data/intermediate/LC08_L1TP_074072_20190724_tmp/LC08_L1TP_074072_20190724_untar/LC08_L1TP_074072_20190724_20190801_01_T1_sr_aerosol.tif\n",
      "/tmp/data/intermediate/LC08_L1TP_074072_20190724_tmp/LC08_L1TP_074072_20190724_untar/LC08_L1TP_074072_20190724_20190801_01_T1_bt_band11.tif\n",
      "/tmp/data/intermediate/LC08_L1TP_074072_20190724_tmp/LC08_L1TP_074072_20190724_untar/LC08_L1TP_074072_20190724_20190801_01_T1_radsat_qa.tif\n",
      "/tmp/data/intermediate/LC08_L1TP_074072_20190724_tmp/LC08_L1TP_074072_20190724_untar/LC08_L1TP_074072_20190724_20190801_01_T1_sr_band2.tif\n",
      "/tmp/data/intermediate/LC08_L1TP_074072_20190724_tmp/LC08_L1TP_074072_20190724_untar/LC08_L1TP_074072_20190724_20190801_01_T1_sr_band6.tif\n",
      "/tmp/data/intermediate/LC08_L1TP_074072_20190724_tmp/LC08_L1TP_074072_20190724_untar/LC08_L1TP_074072_20190724_20190801_01_T1_bt_band10.tif\n",
      "/tmp/data/intermediate/LC08_L1TP_074072_20190724_tmp/LC08_L1TP_074072_20190724_untar/LC08_L1TP_074072_20190724_20190801_01_T1_pixel_qa.tif\n",
      "/tmp/data/intermediate/LC08_L1TP_074072_20190724_tmp/LC08_L1TP_074072_20190724_untar/LC08_L1TP_074072_20190724_20190801_01_T1_sr_band1.tif\n",
      "/tmp/data/intermediate/LC08_L1TP_074072_20190724_tmp/LC08_L1TP_074072_20190724_untar/LC08_L1TP_074072_20190724_20190801_01_T1_sr_band5.tif\n",
      "/tmp/data/intermediate/LC08_L1TP_074072_20190724_tmp/LC08_L1TP_074072_20190724_untar/LC08_L1TP_074072_20190724_20190801_01_T1_sr_band4.tif\n",
      "/tmp/data/intermediate/LC08_L1TP_074072_20190724_tmp/LC08_L1TP_074072_20190724_untar/LC08_L1TP_074072_20190724_20190801_01_T1_sr_band7.tif /tmp/data/intermediate/LC08_L1TP_074072_20190724_tmp/LC08_L1TP_074072_20190724/LC08_L1TP_074072_20190724_20190801_01_T1_sr_band7.tif\n",
      "/tmp/data/intermediate/LC08_L1TP_074072_20190724_tmp/LC08_L1TP_074072_20190724_untar/LC08_L1TP_074072_20190724_20190801_01_T1_sr_band3.tif /tmp/data/intermediate/LC08_L1TP_074072_20190724_tmp/LC08_L1TP_074072_20190724/LC08_L1TP_074072_20190724_20190801_01_T1_sr_band3.tif\n",
      "/tmp/data/intermediate/LC08_L1TP_074072_20190724_tmp/LC08_L1TP_074072_20190724_untar/LC08_L1TP_074072_20190724_20190801_01_T1_sr_aerosol.tif /tmp/data/intermediate/LC08_L1TP_074072_20190724_tmp/LC08_L1TP_074072_20190724/LC08_L1TP_074072_20190724_20190801_01_T1_sr_aerosol.tif\n",
      "/tmp/data/intermediate/LC08_L1TP_074072_20190724_tmp/LC08_L1TP_074072_20190724_untar/LC08_L1TP_074072_20190724_20190801_01_T1_bt_band11.tif /tmp/data/intermediate/LC08_L1TP_074072_20190724_tmp/LC08_L1TP_074072_20190724/LC08_L1TP_074072_20190724_20190801_01_T1_bt_band11.tif\n",
      "/tmp/data/intermediate/LC08_L1TP_074072_20190724_tmp/LC08_L1TP_074072_20190724_untar/LC08_L1TP_074072_20190724_20190801_01_T1_radsat_qa.tif /tmp/data/intermediate/LC08_L1TP_074072_20190724_tmp/LC08_L1TP_074072_20190724/LC08_L1TP_074072_20190724_20190801_01_T1_radsat_qa.tif\n",
      "/tmp/data/intermediate/LC08_L1TP_074072_20190724_tmp/LC08_L1TP_074072_20190724_untar/LC08_L1TP_074072_20190724_20190801_01_T1_sr_band2.tif /tmp/data/intermediate/LC08_L1TP_074072_20190724_tmp/LC08_L1TP_074072_20190724/LC08_L1TP_074072_20190724_20190801_01_T1_sr_band2.tif\n",
      "/tmp/data/intermediate/LC08_L1TP_074072_20190724_tmp/LC08_L1TP_074072_20190724_untar/LC08_L1TP_074072_20190724_20190801_01_T1_sr_band6.tif /tmp/data/intermediate/LC08_L1TP_074072_20190724_tmp/LC08_L1TP_074072_20190724/LC08_L1TP_074072_20190724_20190801_01_T1_sr_band6.tif\n",
      "/tmp/data/intermediate/LC08_L1TP_074072_20190724_tmp/LC08_L1TP_074072_20190724_untar/LC08_L1TP_074072_20190724_20190801_01_T1_bt_band10.tif /tmp/data/intermediate/LC08_L1TP_074072_20190724_tmp/LC08_L1TP_074072_20190724/LC08_L1TP_074072_20190724_20190801_01_T1_bt_band10.tif\n",
      "/tmp/data/intermediate/LC08_L1TP_074072_20190724_tmp/LC08_L1TP_074072_20190724_untar/LC08_L1TP_074072_20190724_20190801_01_T1_pixel_qa.tif /tmp/data/intermediate/LC08_L1TP_074072_20190724_tmp/LC08_L1TP_074072_20190724/LC08_L1TP_074072_20190724_20190801_01_T1_pixel_qa.tif\n",
      "/tmp/data/intermediate/LC08_L1TP_074072_20190724_tmp/LC08_L1TP_074072_20190724_untar/LC08_L1TP_074072_20190724_20190801_01_T1_sr_band1.tif /tmp/data/intermediate/LC08_L1TP_074072_20190724_tmp/LC08_L1TP_074072_20190724/LC08_L1TP_074072_20190724_20190801_01_T1_sr_band1.tif\n",
      "/tmp/data/intermediate/LC08_L1TP_074072_20190724_tmp/LC08_L1TP_074072_20190724_untar/LC08_L1TP_074072_20190724_20190801_01_T1_sr_band5.tif /tmp/data/intermediate/LC08_L1TP_074072_20190724_tmp/LC08_L1TP_074072_20190724/LC08_L1TP_074072_20190724_20190801_01_T1_sr_band5.tif\n",
      "/tmp/data/intermediate/LC08_L1TP_074072_20190724_tmp/LC08_L1TP_074072_20190724_untar/LC08_L1TP_074072_20190724_20190801_01_T1_sr_band4.tif /tmp/data/intermediate/LC08_L1TP_074072_20190724_tmp/LC08_L1TP_074072_20190724/LC08_L1TP_074072_20190724_20190801_01_T1_sr_band4.tif\n",
      "['/tmp/data/intermediate/LC08_L1TP_074072_20190724_tmp/LC08_L1TP_074072_20190724_untar/LC08_L1TP_074072_20190724_20190801_01_T1.xml', '/tmp/data/intermediate/LC08_L1TP_074072_20190724_tmp/LC08_L1TP_074072_20190724_untar/LC08_L1TP_074072_20190724_20190801_01_T1_MTL.txt', '/tmp/data/intermediate/LC08_L1TP_074072_20190724_tmp/LC08_L1TP_074072_20190724_untar/LC08_L1TP_074072_20190724_20190801_01_T1_ANG.txt']\n",
      "native_meta: /tmp/data/intermediate/LC08_L1TP_074072_20190724_tmp/LC08_L1TP_074072_20190724/LC08_L1TP_074072_20190724_20190801_01_T1.xml\n",
      "Copying original metadata file to cog dir: /tmp/data/intermediate/LC08_L1TP_074072_20190724_tmp/LC08_L1TP_074072_20190724/LC08_L1TP_074072_20190724_20190801_01_T1.xml\n",
      "native_meta: /tmp/data/intermediate/LC08_L1TP_074072_20190724_tmp/LC08_L1TP_074072_20190724/LC08_L1TP_074072_20190724_20190801_01_T1_MTL.txt\n",
      "Copying original metadata file to cog dir: /tmp/data/intermediate/LC08_L1TP_074072_20190724_tmp/LC08_L1TP_074072_20190724/LC08_L1TP_074072_20190724_20190801_01_T1_MTL.txt\n",
      "native_meta: /tmp/data/intermediate/LC08_L1TP_074072_20190724_tmp/LC08_L1TP_074072_20190724/LC08_L1TP_074072_20190724_20190801_01_T1_ANG.txt\n",
      "Copying original metadata file to cog dir: /tmp/data/intermediate/LC08_L1TP_074072_20190724_tmp/LC08_L1TP_074072_20190724/LC08_L1TP_074072_20190724_20190801_01_T1_ANG.txt\n",
      "Preparing scene LC08_L1TP_074072_20190724\n",
      "Scene path /tmp/data/intermediate/LC08_L1TP_074072_20190724_tmp/LC08_L1TP_074072_20190724/\n",
      "Product name is: sr_band7\n",
      "Product name is: sr_band3\n",
      "Product name is: sr_aerosol\n",
      "Product name is: bt_band11\n",
      "Product name is: radsat_qa\n",
      "Product name is: sr_band2\n",
      "Product name is: sr_band6\n",
      "Product name is: bt_band10\n",
      "Product name is: pixel_qa\n",
      "Product name is: sr_band1\n",
      "Product name is: sr_band5\n",
      "Product name is: sr_band4\n",
      "Created yaml: /tmp/data/intermediate/LC08_L1TP_074072_20190724_tmp/LC08_L1TP_074072_20190724/datacube-metadata.yaml\n",
      "Local source file: /tmp/data/intermediate/LC08_L1TP_074072_20190724_tmp/LC08_L1TP_074072_20190724/LC08_L1TP_074072_20190724_20190801_01_T1_sr_band7.tif\n",
      "S3 target file: common_sensing/fiji/landsat_8_luigis_testing/LC08_L1TP_074072_20190724/LC08_L1TP_074072_20190724_20190801_01_T1_sr_band7.tif\n",
      "Start: /tmp/data/intermediate/LC08_L1TP_074072_20190724_tmp/LC08_L1TP_074072_20190724/LC08_L1TP_074072_20190724_20190801_01_T1_sr_band7.tif 2019-11-01 15:23:17 \n",
      "Finish: /tmp/data/intermediate/LC08_L1TP_074072_20190724_tmp/LC08_L1TP_074072_20190724/LC08_L1TP_074072_20190724_20190801_01_T1_sr_band7.tif 2019-11-01 15:23:22 \n",
      "None\n",
      "Local source file: /tmp/data/intermediate/LC08_L1TP_074072_20190724_tmp/LC08_L1TP_074072_20190724/datacube-metadata.yaml\n",
      "S3 target file: common_sensing/fiji/landsat_8_luigis_testing/LC08_L1TP_074072_20190724/datacube-metadata.yaml\n",
      "Start: /tmp/data/intermediate/LC08_L1TP_074072_20190724_tmp/LC08_L1TP_074072_20190724/datacube-metadata.yaml 2019-11-01 15:23:22 \n",
      "Finish: /tmp/data/intermediate/LC08_L1TP_074072_20190724_tmp/LC08_L1TP_074072_20190724/datacube-metadata.yaml 2019-11-01 15:23:22 \n",
      "None\n",
      "Local source file: /tmp/data/intermediate/LC08_L1TP_074072_20190724_tmp/LC08_L1TP_074072_20190724/LC08_L1TP_074072_20190724_20190801_01_T1_sr_band3.tif\n",
      "S3 target file: common_sensing/fiji/landsat_8_luigis_testing/LC08_L1TP_074072_20190724/LC08_L1TP_074072_20190724_20190801_01_T1_sr_band3.tif\n",
      "Start: /tmp/data/intermediate/LC08_L1TP_074072_20190724_tmp/LC08_L1TP_074072_20190724/LC08_L1TP_074072_20190724_20190801_01_T1_sr_band3.tif 2019-11-01 15:23:23 \n",
      "Finish: /tmp/data/intermediate/LC08_L1TP_074072_20190724_tmp/LC08_L1TP_074072_20190724/LC08_L1TP_074072_20190724_20190801_01_T1_sr_band3.tif 2019-11-01 15:23:25 \n",
      "None\n",
      "Local source file: /tmp/data/intermediate/LC08_L1TP_074072_20190724_tmp/LC08_L1TP_074072_20190724/LC08_L1TP_074072_20190724_20190801_01_T1_sr_aerosol.tif\n",
      "S3 target file: common_sensing/fiji/landsat_8_luigis_testing/LC08_L1TP_074072_20190724/LC08_L1TP_074072_20190724_20190801_01_T1_sr_aerosol.tif\n",
      "Start: /tmp/data/intermediate/LC08_L1TP_074072_20190724_tmp/LC08_L1TP_074072_20190724/LC08_L1TP_074072_20190724_20190801_01_T1_sr_aerosol.tif 2019-11-01 15:23:26 \n",
      "Finish: /tmp/data/intermediate/LC08_L1TP_074072_20190724_tmp/LC08_L1TP_074072_20190724/LC08_L1TP_074072_20190724_20190801_01_T1_sr_aerosol.tif 2019-11-01 15:23:26 \n",
      "None\n",
      "Local source file: /tmp/data/intermediate/LC08_L1TP_074072_20190724_tmp/LC08_L1TP_074072_20190724/LC08_L1TP_074072_20190724_20190801_01_T1_bt_band11.tif\n",
      "S3 target file: common_sensing/fiji/landsat_8_luigis_testing/LC08_L1TP_074072_20190724/LC08_L1TP_074072_20190724_20190801_01_T1_bt_band11.tif\n",
      "Start: /tmp/data/intermediate/LC08_L1TP_074072_20190724_tmp/LC08_L1TP_074072_20190724/LC08_L1TP_074072_20190724_20190801_01_T1_bt_band11.tif 2019-11-01 15:23:26 \n",
      "Finish: /tmp/data/intermediate/LC08_L1TP_074072_20190724_tmp/LC08_L1TP_074072_20190724/LC08_L1TP_074072_20190724_20190801_01_T1_bt_band11.tif 2019-11-01 15:23:27 \n",
      "None\n",
      "Local source file: /tmp/data/intermediate/LC08_L1TP_074072_20190724_tmp/LC08_L1TP_074072_20190724/LC08_L1TP_074072_20190724_20190801_01_T1_radsat_qa.tif\n",
      "S3 target file: common_sensing/fiji/landsat_8_luigis_testing/LC08_L1TP_074072_20190724/LC08_L1TP_074072_20190724_20190801_01_T1_radsat_qa.tif\n",
      "Start: /tmp/data/intermediate/LC08_L1TP_074072_20190724_tmp/LC08_L1TP_074072_20190724/LC08_L1TP_074072_20190724_20190801_01_T1_radsat_qa.tif 2019-11-01 15:23:27 \n",
      "Finish: /tmp/data/intermediate/LC08_L1TP_074072_20190724_tmp/LC08_L1TP_074072_20190724/LC08_L1TP_074072_20190724_20190801_01_T1_radsat_qa.tif 2019-11-01 15:23:27 \n",
      "None\n",
      "Local source file: /tmp/data/intermediate/LC08_L1TP_074072_20190724_tmp/LC08_L1TP_074072_20190724/LC08_L1TP_074072_20190724_20190801_01_T1.xml\n",
      "S3 target file: common_sensing/fiji/landsat_8_luigis_testing/LC08_L1TP_074072_20190724/LC08_L1TP_074072_20190724_20190801_01_T1.xml\n",
      "Start: /tmp/data/intermediate/LC08_L1TP_074072_20190724_tmp/LC08_L1TP_074072_20190724/LC08_L1TP_074072_20190724_20190801_01_T1.xml 2019-11-01 15:23:28 \n",
      "Finish: /tmp/data/intermediate/LC08_L1TP_074072_20190724_tmp/LC08_L1TP_074072_20190724/LC08_L1TP_074072_20190724_20190801_01_T1.xml 2019-11-01 15:23:28 \n",
      "None\n",
      "Local source file: /tmp/data/intermediate/LC08_L1TP_074072_20190724_tmp/LC08_L1TP_074072_20190724/LC08_L1TP_074072_20190724_20190801_01_T1_MTL.txt\n",
      "S3 target file: common_sensing/fiji/landsat_8_luigis_testing/LC08_L1TP_074072_20190724/LC08_L1TP_074072_20190724_20190801_01_T1_MTL.txt\n",
      "Start: /tmp/data/intermediate/LC08_L1TP_074072_20190724_tmp/LC08_L1TP_074072_20190724/LC08_L1TP_074072_20190724_20190801_01_T1_MTL.txt 2019-11-01 15:23:28 \n",
      "Finish: /tmp/data/intermediate/LC08_L1TP_074072_20190724_tmp/LC08_L1TP_074072_20190724/LC08_L1TP_074072_20190724_20190801_01_T1_MTL.txt 2019-11-01 15:23:28 \n",
      "None\n",
      "Local source file: /tmp/data/intermediate/LC08_L1TP_074072_20190724_tmp/LC08_L1TP_074072_20190724/LC08_L1TP_074072_20190724_20190801_01_T1_sr_band2.tif\n",
      "S3 target file: common_sensing/fiji/landsat_8_luigis_testing/LC08_L1TP_074072_20190724/LC08_L1TP_074072_20190724_20190801_01_T1_sr_band2.tif\n",
      "Start: /tmp/data/intermediate/LC08_L1TP_074072_20190724_tmp/LC08_L1TP_074072_20190724/LC08_L1TP_074072_20190724_20190801_01_T1_sr_band2.tif 2019-11-01 15:23:28 \n",
      "Finish: /tmp/data/intermediate/LC08_L1TP_074072_20190724_tmp/LC08_L1TP_074072_20190724/LC08_L1TP_074072_20190724_20190801_01_T1_sr_band2.tif 2019-11-01 15:23:32 \n",
      "None\n",
      "Local source file: /tmp/data/intermediate/LC08_L1TP_074072_20190724_tmp/LC08_L1TP_074072_20190724/LC08_L1TP_074072_20190724_20190801_01_T1_ANG.txt\n",
      "S3 target file: common_sensing/fiji/landsat_8_luigis_testing/LC08_L1TP_074072_20190724/LC08_L1TP_074072_20190724_20190801_01_T1_ANG.txt\n",
      "Start: /tmp/data/intermediate/LC08_L1TP_074072_20190724_tmp/LC08_L1TP_074072_20190724/LC08_L1TP_074072_20190724_20190801_01_T1_ANG.txt 2019-11-01 15:23:32 \n",
      "Finish: /tmp/data/intermediate/LC08_L1TP_074072_20190724_tmp/LC08_L1TP_074072_20190724/LC08_L1TP_074072_20190724_20190801_01_T1_ANG.txt 2019-11-01 15:23:32 \n",
      "None\n",
      "Local source file: /tmp/data/intermediate/LC08_L1TP_074072_20190724_tmp/LC08_L1TP_074072_20190724/LC08_L1TP_074072_20190724_20190801_01_T1_sr_band6.tif\n",
      "S3 target file: common_sensing/fiji/landsat_8_luigis_testing/LC08_L1TP_074072_20190724/LC08_L1TP_074072_20190724_20190801_01_T1_sr_band6.tif\n",
      "Start: /tmp/data/intermediate/LC08_L1TP_074072_20190724_tmp/LC08_L1TP_074072_20190724/LC08_L1TP_074072_20190724_20190801_01_T1_sr_band6.tif 2019-11-01 15:23:32 \n",
      "Finish: /tmp/data/intermediate/LC08_L1TP_074072_20190724_tmp/LC08_L1TP_074072_20190724/LC08_L1TP_074072_20190724_20190801_01_T1_sr_band6.tif 2019-11-01 15:23:34 \n",
      "None\n",
      "Local source file: /tmp/data/intermediate/LC08_L1TP_074072_20190724_tmp/LC08_L1TP_074072_20190724/LC08_L1TP_074072_20190724_20190801_01_T1_bt_band10.tif\n",
      "S3 target file: common_sensing/fiji/landsat_8_luigis_testing/LC08_L1TP_074072_20190724/LC08_L1TP_074072_20190724_20190801_01_T1_bt_band10.tif\n",
      "Start: /tmp/data/intermediate/LC08_L1TP_074072_20190724_tmp/LC08_L1TP_074072_20190724/LC08_L1TP_074072_20190724_20190801_01_T1_bt_band10.tif 2019-11-01 15:23:35 \n",
      "Finish: /tmp/data/intermediate/LC08_L1TP_074072_20190724_tmp/LC08_L1TP_074072_20190724/LC08_L1TP_074072_20190724_20190801_01_T1_bt_band10.tif 2019-11-01 15:23:35 \n",
      "None\n",
      "Local source file: /tmp/data/intermediate/LC08_L1TP_074072_20190724_tmp/LC08_L1TP_074072_20190724/LC08_L1TP_074072_20190724_20190801_01_T1_pixel_qa.tif\n",
      "S3 target file: common_sensing/fiji/landsat_8_luigis_testing/LC08_L1TP_074072_20190724/LC08_L1TP_074072_20190724_20190801_01_T1_pixel_qa.tif\n",
      "Start: /tmp/data/intermediate/LC08_L1TP_074072_20190724_tmp/LC08_L1TP_074072_20190724/LC08_L1TP_074072_20190724_20190801_01_T1_pixel_qa.tif 2019-11-01 15:23:35 \n",
      "Finish: /tmp/data/intermediate/LC08_L1TP_074072_20190724_tmp/LC08_L1TP_074072_20190724/LC08_L1TP_074072_20190724_20190801_01_T1_pixel_qa.tif 2019-11-01 15:23:36 \n",
      "None\n",
      "Local source file: /tmp/data/intermediate/LC08_L1TP_074072_20190724_tmp/LC08_L1TP_074072_20190724/LC08_L1TP_074072_20190724_20190801_01_T1_sr_band1.tif\n",
      "S3 target file: common_sensing/fiji/landsat_8_luigis_testing/LC08_L1TP_074072_20190724/LC08_L1TP_074072_20190724_20190801_01_T1_sr_band1.tif\n",
      "Start: /tmp/data/intermediate/LC08_L1TP_074072_20190724_tmp/LC08_L1TP_074072_20190724/LC08_L1TP_074072_20190724_20190801_01_T1_sr_band1.tif 2019-11-01 15:23:36 \n",
      "Finish: /tmp/data/intermediate/LC08_L1TP_074072_20190724_tmp/LC08_L1TP_074072_20190724/LC08_L1TP_074072_20190724_20190801_01_T1_sr_band1.tif 2019-11-01 15:23:40 \n",
      "None\n",
      "Local source file: /tmp/data/intermediate/LC08_L1TP_074072_20190724_tmp/LC08_L1TP_074072_20190724/LC08_L1TP_074072_20190724_20190801_01_T1_sr_band5.tif\n",
      "S3 target file: common_sensing/fiji/landsat_8_luigis_testing/LC08_L1TP_074072_20190724/LC08_L1TP_074072_20190724_20190801_01_T1_sr_band5.tif\n",
      "Start: /tmp/data/intermediate/LC08_L1TP_074072_20190724_tmp/LC08_L1TP_074072_20190724/LC08_L1TP_074072_20190724_20190801_01_T1_sr_band5.tif 2019-11-01 15:23:40 \n",
      "Finish: /tmp/data/intermediate/LC08_L1TP_074072_20190724_tmp/LC08_L1TP_074072_20190724/LC08_L1TP_074072_20190724_20190801_01_T1_sr_band5.tif 2019-11-01 15:23:43 \n",
      "None\n",
      "Local source file: /tmp/data/intermediate/LC08_L1TP_074072_20190724_tmp/LC08_L1TP_074072_20190724/LC08_L1TP_074072_20190724_20190801_01_T1_sr_band4.tif\n",
      "S3 target file: common_sensing/fiji/landsat_8_luigis_testing/LC08_L1TP_074072_20190724/LC08_L1TP_074072_20190724_20190801_01_T1_sr_band4.tif\n",
      "Start: /tmp/data/intermediate/LC08_L1TP_074072_20190724_tmp/LC08_L1TP_074072_20190724/LC08_L1TP_074072_20190724_20190801_01_T1_sr_band4.tif 2019-11-01 15:23:43 \n",
      "Finish: /tmp/data/intermediate/LC08_L1TP_074072_20190724_tmp/LC08_L1TP_074072_20190724/LC08_L1TP_074072_20190724_20190801_01_T1_sr_band4.tif 2019-11-01 15:23:46 \n",
      "None\n",
      "Local source file: /tmp/data/intermediate/LC08_L1TP_074072_20190724_tmp/LC08_L1TP_074072_20190724/log_file.txt\n",
      "S3 target file: common_sensing/fiji/landsat_8_luigis_testing/LC08_L1TP_074072_20190724/log_file.txt\n",
      "Start: /tmp/data/intermediate/LC08_L1TP_074072_20190724_tmp/LC08_L1TP_074072_20190724/log_file.txt 2019-11-01 15:23:46 \n",
      "Finish: /tmp/data/intermediate/LC08_L1TP_074072_20190724_tmp/LC08_L1TP_074072_20190724/log_file.txt 2019-11-01 15:23:47 \n",
      "None\n",
      "not boo\n"
     ]
    }
   ],
   "source": [
    "while not q.empty():\n",
    "    item = q.lease(lease_secs=1800, block=True, timeout=600)\n",
    "    if item is not None:\n",
    "        itemstr = item.decode(\"utf=8\")\n",
    "        print(\"Working on \" + itemstr)\n",
    "        #time.sleep(10) # Put your actual work here instead of sleep.\n",
    "        process_scene(itemstr)\n",
    "        q.complete(item)\n",
    "    else:\n",
    "        print(\"Waiting for work\")"
   ]
  },
  {
   "cell_type": "code",
   "execution_count": null,
   "metadata": {},
   "outputs": [],
   "source": [
    "print(\"Queue empty!\")"
   ]
  }
 ],
 "metadata": {
  "kernelspec": {
   "display_name": "Python 3",
   "language": "python",
   "name": "python3"
  },
  "language_info": {
   "codemirror_mode": {
    "name": "ipython",
    "version": 3
   },
   "file_extension": ".py",
   "mimetype": "text/x-python",
   "name": "python",
   "nbconvert_exporter": "python",
   "pygments_lexer": "ipython3",
   "version": "3.7.3"
  }
 },
 "nbformat": 4,
 "nbformat_minor": 4
}
