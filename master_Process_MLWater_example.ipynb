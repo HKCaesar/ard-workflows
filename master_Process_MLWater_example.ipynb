{
 "cells": [
  {
   "cell_type": "markdown",
   "metadata": {},
   "source": [
    "# Non-DC ML water masks creation"
   ]
  },
  {
   "cell_type": "code",
   "execution_count": 5,
   "metadata": {},
   "outputs": [
    {
     "name": "stdout",
     "output_type": "stream",
     "text": [
      "The autoreload extension is already loaded. To reload it, use:\n",
      "  %reload_ext autoreload\n"
     ]
    }
   ],
   "source": [
    "%load_ext autoreload\n",
    "%autoreload 2\n",
    "%matplotlib inline\n",
    "import warnings\n",
    "warnings.filterwarnings('ignore')"
   ]
  },
  {
   "cell_type": "code",
   "execution_count": 6,
   "metadata": {},
   "outputs": [],
   "source": [
    "import glob\n",
    "import shutil\n",
    "from datetime import datetime\n",
    "import pandas as pd\n",
    "import time\n",
    "import os\n",
    "\n",
    "from subprocess import Popen, PIPE, STDOUT\n",
    "\n",
    "from utils.genprepWater import per_scene_wofs\n",
    "from utils.prep_utils import s3_list_objects_paths\n",
    "\n",
    "from utils.genprepMLWater import genprepmlwater"
   ]
  },
  {
   "cell_type": "code",
   "execution_count": 7,
   "metadata": {},
   "outputs": [
    {
     "name": "stdout",
     "output_type": "stream",
     "text": [
      "16c353e3c1673eb9556e\n",
      "s3-uk-1.sa-catapult.co.uk\n"
     ]
    }
   ],
   "source": [
    "# # should encode to env vars as with docker, not csv\n",
    "# os.environ['AWS_ACCESS_KEY_ID']= str(pd.read_csv('../aws_creds.csv').AWSAccessKeyId.values[0])\n",
    "# os.environ['AWS_SECRET_ACCESS_KEY']= str(pd.read_csv('../aws_creds.csv').AWSSecretKey.values[0])\n",
    "# # os.environ['AWS_S3_ENDPOINT']=str(pd.read_csv('../aws_creds.csv').AWS_S3_ENDPOINT.values[0])\n",
    "print(os.environ['AWS_ACCESS_KEY_ID'])\n",
    "print(os.environ['AWS_S3_ENDPOINT'])"
   ]
  },
  {
   "cell_type": "markdown",
   "metadata": {},
   "source": [
    "# **Example job**"
   ]
  },
  {
   "cell_type": "markdown",
   "metadata": {},
   "source": [
    "essential **input vars**"
   ]
  },
  {
   "cell_type": "code",
   "execution_count": 8,
   "metadata": {},
   "outputs": [],
   "source": [
    "# essential input vars\n",
    "s3_bucket = 'public-eo-data'\n",
    "s3_dir = 'common_sensing/tom/mlperscene_test2/'\n",
    "inter_dir = '../data/'"
   ]
  },
  {
   "cell_type": "markdown",
   "metadata": {},
   "source": [
    "find **list of scene yamls** - this is essentially input to the job list"
   ]
  },
  {
   "cell_type": "code",
   "execution_count": 9,
   "metadata": {},
   "outputs": [
    {
     "data": {
      "text/plain": [
       "11680"
      ]
     },
     "execution_count": 9,
     "metadata": {},
     "output_type": "execute_result"
    }
   ],
   "source": [
    "s3_dir_allprods = 'common_sensing/fiji/'\n",
    "# prep to single yaml path\n",
    "s3_paths = s3_list_objects_paths(s3_bucket, s3_dir_allprods)\n",
    "yamls = [i for i in s3_paths if i.split('/')[-1][-4:] == 'yaml']\n",
    "len(yamls)"
   ]
  },
  {
   "cell_type": "markdown",
   "metadata": {},
   "source": [
    "filter to **yamls of test scenes** - i.e. scenes from desired sensors that are largely spatially covered by and within preceeding year to Annual Wofs Water Summary test aoi and year"
   ]
  },
  {
   "cell_type": "code",
   "execution_count": 10,
   "metadata": {},
   "outputs": [
    {
     "name": "stdout",
     "output_type": "stream",
     "text": [
      "YEAR  |  L7  |  L8  |  S2  |  S1\n",
      "2000 6 0 0 0\n",
      "2001 11 0 0 9\n",
      "2002 7 0 0 3\n",
      "2003 7 0 0 0\n",
      "2004 13 0 0 0\n",
      "2005 12 0 0 0\n",
      "2006 14 0 0 0\n",
      "2007 8 0 0 0\n",
      "2008 11 0 0 0\n",
      "2009 10 0 0 0\n",
      "2010 16 0 0 0\n",
      "2011 7 0 0 0\n",
      "2012 15 0 0 0\n",
      "2013 14 15 0 0\n",
      "2014 0 22 0 0\n",
      "2015 0 23 0 0\n",
      "2016 0 22 0 0\n",
      "2017 0 23 0 69\n",
      "2018 0 23 34 86\n",
      "2019 0 16 82 86\n",
      "2020 0 0 0 12\n"
     ]
    }
   ],
   "source": [
    "ys = ['2000','2001','2002','2003','2004','2005','2006','2007','2008','2009','2010','2011','2012','2013','2014','2015','2016','2017','2018','2019','2020']\n",
    "print(\"YEAR  |  L7  |  L8  |  S2  |  S1\")\n",
    "for y in ys:\n",
    "    l7_ymls = sorted([i for i in yamls if (i.split('/')[2] == 'landsat_7') & ('074072' in i) & (y == i.split('/')[3].split('_')[-1][:4])])\n",
    "    l8_ymls = sorted([i for i in yamls if (i.split('/')[2] == 'landsat_8') & ('074072' in i) & (y == i.split('/')[3].split('_')[-1][:4])])\n",
    "    s2_ymls = sorted([i for i in yamls if (i.split('/')[2] == 'sentinel_2') & ('60KXF' in i ) & (y in i)])\n",
    "    s1_ymls = sorted([i for i in yamls if (i.split('/')[2] == 'sentinel_1') & (y in i)])\n",
    "    \n",
    "    print(y, len(l7_ymls), len(l8_ymls), len(s2_ymls), len(s1_ymls))"
   ]
  },
  {
   "cell_type": "code",
   "execution_count": 11,
   "metadata": {},
   "outputs": [
    {
     "data": {
      "text/plain": [
       "(16, 82)"
      ]
     },
     "execution_count": 11,
     "metadata": {},
     "output_type": "execute_result"
    }
   ],
   "source": [
    "l8_ymls = sorted([i for i in yamls if (i.split('/')[2] == 'landsat_8') & ('074072' in i) & ('2019' == i.split('/')[3].split('_')[-1][:4])])\n",
    "s2_ymls = sorted([i for i in yamls if (i.split('/')[2] == 'sentinel_2') & ('60KXF' in i ) & ('2019' in i)])\n",
    "len(l8_ymls), len(s2_ymls)"
   ]
  },
  {
   "cell_type": "code",
   "execution_count": 12,
   "metadata": {},
   "outputs": [
    {
     "data": {
      "text/plain": [
       "86"
      ]
     },
     "execution_count": 12,
     "metadata": {},
     "output_type": "execute_result"
    }
   ],
   "source": [
    "s1_ymls = sorted([i for i in yamls if (i.split('/')[2] == 'sentinel_1') & ('2019' in i)])\n",
    "len(s1_ymls)"
   ]
  },
  {
   "cell_type": "code",
   "execution_count": 13,
   "metadata": {},
   "outputs": [],
   "source": [
    "# l8_ymls\n",
    "# s2_ymls\n",
    "# s1_ymls"
   ]
  },
  {
   "cell_type": "markdown",
   "metadata": {},
   "source": [
    "filter yamls to find list of **available annual water summary** products"
   ]
  },
  {
   "cell_type": "code",
   "execution_count": 14,
   "metadata": {},
   "outputs": [
    {
     "name": "stdout",
     "output_type": "stream",
     "text": [
      "common_sensing/fiji/landsat_8/LC08_L1TP_074072_20190113/datacube-metadata.yaml\n",
      "common_sensing/fiji/landsat_8/LC08_L1TP_074072_20190129/datacube-metadata.yaml\n",
      "common_sensing/fiji/landsat_8/LC08_L1TP_074072_20190214/datacube-metadata.yaml\n",
      "common_sensing/fiji/landsat_8/LC08_L1TP_074072_20190302/datacube-metadata.yaml\n",
      "common_sensing/fiji/landsat_8/LC08_L1TP_074072_20190318/datacube-metadata.yaml\n",
      "common_sensing/fiji/landsat_8/LC08_L1TP_074072_20190403/datacube-metadata.yaml\n",
      "common_sensing/fiji/landsat_8/LC08_L1TP_074072_20190419/datacube-metadata.yaml\n",
      "common_sensing/fiji/landsat_8/LC08_L1TP_074072_20190505/datacube-metadata.yaml\n",
      "common_sensing/fiji/landsat_8/LC08_L1TP_074072_20190521/datacube-metadata.yaml\n",
      "common_sensing/fiji/landsat_8/LC08_L1TP_074072_20190606/datacube-metadata.yaml\n",
      "common_sensing/fiji/landsat_8/LC08_L1TP_074072_20190622/datacube-metadata.yaml\n",
      "common_sensing/fiji/landsat_8/LC08_L1TP_074072_20190708/datacube-metadata.yaml\n",
      "common_sensing/fiji/landsat_8/LC08_L1TP_074072_20190724/datacube-metadata.yaml\n",
      "common_sensing/fiji/landsat_8/LC08_L1TP_074072_20190809/datacube-metadata.yaml\n",
      "common_sensing/fiji/landsat_8/LC08_L1TP_074072_20190825/datacube-metadata.yaml\n",
      "common_sensing/fiji/landsat_8/LC08_L1TP_074072_20190910/datacube-metadata.yaml\n"
     ]
    }
   ],
   "source": [
    "for i in l8_ymls: print(i)"
   ]
  },
  {
   "cell_type": "code",
   "execution_count": 15,
   "metadata": {},
   "outputs": [
    {
     "data": {
      "text/plain": [
       "1"
      ]
     },
     "execution_count": 15,
     "metadata": {},
     "output_type": "execute_result"
    }
   ],
   "source": [
    "wofssummary_ymls = [i for i in yamls if (i.split('/')[2] == 'wofs_summary') & ('2013' in i)]\n",
    "len(wofssummary_ymls)"
   ]
  },
  {
   "cell_type": "markdown",
   "metadata": {},
   "source": [
    "example **job function**"
   ]
  },
  {
   "cell_type": "code",
   "execution_count": 16,
   "metadata": {},
   "outputs": [
    {
     "name": "stdout",
     "output_type": "stream",
     "text": [
      "LANDSAT_8 ['blue', 'green', 'red', 'nir', 'swir1', 'swir2', 'pixel_qa']\n"
     ]
    },
    {
     "name": "stderr",
     "output_type": "stream",
     "text": [
      "[Parallel(n_jobs=2)]: Using backend ThreadingBackend with 2 concurrent workers.\n"
     ]
    },
    {
     "name": "stdout",
     "output_type": "stream",
     "text": [
      "building tree 1 of 2\n",
      "building tree 2 of 2\n"
     ]
    },
    {
     "name": "stderr",
     "output_type": "stream",
     "text": [
      "[Parallel(n_jobs=2)]: Done   2 out of   2 | elapsed:   25.2s finished\n",
      "[Parallel(n_jobs=2)]: Using backend ThreadingBackend with 2 concurrent workers.\n",
      "[Parallel(n_jobs=2)]: Done   2 out of   2 | elapsed:    4.3s finished\n",
      "[Parallel(n_jobs=2)]: Using backend ThreadingBackend with 2 concurrent workers.\n",
      "[Parallel(n_jobs=2)]: Done   2 out of   2 | elapsed:    4.6s finished\n"
     ]
    },
    {
     "name": "stdout",
     "output_type": "stream",
     "text": [
      "Preparing scene LC08_L1TP_074072_20190113_mlwater\n",
      "Scene path ../data/LC08_L1TP_074072_20190113_tmp/LC08_L1TP_074072_20190113_mlwater/\n",
      "{'watermask': {'path': 'LC08_L1TP_074072_20190113_watermask.tif'}, 'waterprob': {'path': 'LC08_L1TP_074072_20190113_waterprob.tif'}}\n",
      "{'spatial_reference': 'PROJCS[\"WGS 84 / UTM zone 60N\",GEOGCS[\"WGS 84\",DATUM[\"WGS_1984\",SPHEROID[\"WGS 84\",6378137,298.257223563,AUTHORITY[\"EPSG\",\"7030\"]],AUTHORITY[\"EPSG\",\"6326\"]],PRIMEM[\"Greenwich\",0,AUTHORITY[\"EPSG\",\"8901\"]],UNIT[\"degree\",0.0174532925199433,AUTHORITY[\"EPSG\",\"9122\"]],AUTHORITY[\"EPSG\",\"4326\"]],PROJECTION[\"Transverse_Mercator\"],PARAMETER[\"latitude_of_origin\",0],PARAMETER[\"central_meridian\",177],PARAMETER[\"scale_factor\",0.9996],PARAMETER[\"false_easting\",500000],PARAMETER[\"false_northing\",0],UNIT[\"metre\",1,AUTHORITY[\"EPSG\",\"9001\"]],AXIS[\"Easting\",EAST],AXIS[\"Northing\",NORTH],AUTHORITY[\"EPSG\",\"32660\"]]', 'geo_ref_points': {'ul': {'x': 585300.0, 'y': -1802100.0}, 'ur': {'x': 816000.0, 'y': -1802100.0}, 'll': {'x': 585300.0, 'y': -2036100.0}, 'lr': {'x': 816000.0, 'y': -2036100.0}}} {'ul': {'lon': -16.29830975335732, 'lat': 177.79843257208583}, 'ur': {'lon': -16.279143827950552, 'lat': 179.9565310188495}, 'll': {'lon': -18.413278875369446, 'lat': 177.80764205328157}, 'lr': {'lon': -18.39146302235827, 'lat': 179.99057591454851}}\n",
      "not boo\n",
      "LANDSAT_8 ['blue', 'green', 'red', 'nir', 'swir1', 'swir2', 'pixel_qa']\n"
     ]
    },
    {
     "name": "stderr",
     "output_type": "stream",
     "text": [
      "[Parallel(n_jobs=2)]: Using backend ThreadingBackend with 2 concurrent workers.\n"
     ]
    },
    {
     "name": "stdout",
     "output_type": "stream",
     "text": [
      "building tree 1 of 2building tree 2 of 2\n",
      "\n"
     ]
    },
    {
     "name": "stderr",
     "output_type": "stream",
     "text": [
      "[Parallel(n_jobs=2)]: Done   2 out of   2 | elapsed:   23.6s finished\n",
      "ERROR:root:LC08_L1TP_074072_20190129 Prediction or re-shaping failed\n",
      "Traceback (most recent call last):\n",
      "  File \"/home/dataprep/ard-workflows/utils/genprepMLWater.py\", line 361, in genprepmlwater\n",
      "    X = img_data.stack(z=['x','y']).to_array().transpose() # stack into transposed 2-d arr\n",
      "  File \"/opt/conda/lib/python3.7/site-packages/xarray/core/dataset.py\", line 3329, in stack\n",
      "    result = result._stack_once(dims, new_dim)\n",
      "  File \"/opt/conda/lib/python3.7/site-packages/xarray/core/dataset.py\", line 3276, in _stack_once\n",
      "    stacked_var = exp_var.stack(**{new_dim: dims})\n",
      "  File \"/opt/conda/lib/python3.7/site-packages/xarray/core/variable.py\", line 1446, in stack\n",
      "    result = result._stack_once(dims, new_dim)\n",
      "  File \"/opt/conda/lib/python3.7/site-packages/xarray/core/variable.py\", line 1413, in _stack_once\n",
      "    new_data = reordered.data.reshape(new_shape)\n",
      "KeyboardInterrupt\n",
      "Traceback (most recent call last):\n",
      "  File \"/home/dataprep/ard-workflows/utils/genprepMLWater.py\", line 361, in genprepmlwater\n",
      "    X = img_data.stack(z=['x','y']).to_array().transpose() # stack into transposed 2-d arr\n",
      "  File \"/opt/conda/lib/python3.7/site-packages/xarray/core/dataset.py\", line 3329, in stack\n",
      "    result = result._stack_once(dims, new_dim)\n",
      "  File \"/opt/conda/lib/python3.7/site-packages/xarray/core/dataset.py\", line 3276, in _stack_once\n",
      "    stacked_var = exp_var.stack(**{new_dim: dims})\n",
      "  File \"/opt/conda/lib/python3.7/site-packages/xarray/core/variable.py\", line 1446, in stack\n",
      "    result = result._stack_once(dims, new_dim)\n",
      "  File \"/opt/conda/lib/python3.7/site-packages/xarray/core/variable.py\", line 1413, in _stack_once\n",
      "    new_data = reordered.data.reshape(new_shape)\n",
      "KeyboardInterrupt\n",
      "\n",
      "During handling of the above exception, another exception occurred:\n",
      "\n",
      "Traceback (most recent call last):\n",
      "  File \"/home/dataprep/ard-workflows/utils/genprepMLWater.py\", line 377, in genprepmlwater\n",
      "    raise Exception('Prediction error')\n",
      "Exception: Prediction error\n"
     ]
    },
    {
     "name": "stdout",
     "output_type": "stream",
     "text": [
      "Prediction error\n"
     ]
    },
    {
     "ename": "KeyboardInterrupt",
     "evalue": "",
     "output_type": "error",
     "traceback": [
      "\u001b[0;31m---------------------------------------------------------------------------\u001b[0m",
      "\u001b[0;31mKeyboardInterrupt\u001b[0m                         Traceback (most recent call last)",
      "\u001b[0;32m/home/dataprep/ard-workflows/utils/genprepMLWater.py\u001b[0m in \u001b[0;36mgenprepmlwater\u001b[0;34m(optical_yaml_path, summary_yaml_path, inter_dir, s3_bucket, s3_dir, mask, output_crs)\u001b[0m\n\u001b[1;32m    360\u001b[0m             \u001b[0;31m# PREDICT + ASSIGN CONFIDENCE\u001b[0m\u001b[0;34m\u001b[0m\u001b[0;34m\u001b[0m\u001b[0;34m\u001b[0m\u001b[0m\n\u001b[0;32m--> 361\u001b[0;31m             \u001b[0mX\u001b[0m \u001b[0;34m=\u001b[0m \u001b[0mimg_data\u001b[0m\u001b[0;34m.\u001b[0m\u001b[0mstack\u001b[0m\u001b[0;34m(\u001b[0m\u001b[0mz\u001b[0m\u001b[0;34m=\u001b[0m\u001b[0;34m[\u001b[0m\u001b[0;34m'x'\u001b[0m\u001b[0;34m,\u001b[0m\u001b[0;34m'y'\u001b[0m\u001b[0;34m]\u001b[0m\u001b[0;34m)\u001b[0m\u001b[0;34m.\u001b[0m\u001b[0mto_array\u001b[0m\u001b[0;34m(\u001b[0m\u001b[0;34m)\u001b[0m\u001b[0;34m.\u001b[0m\u001b[0mtranspose\u001b[0m\u001b[0;34m(\u001b[0m\u001b[0;34m)\u001b[0m \u001b[0;31m# stack into transposed 2-d arr\u001b[0m\u001b[0;34m\u001b[0m\u001b[0;34m\u001b[0m\u001b[0m\n\u001b[0m\u001b[1;32m    362\u001b[0m \u001b[0;34m\u001b[0m\u001b[0m\n",
      "\u001b[0;32m/opt/conda/lib/python3.7/site-packages/xarray/core/dataset.py\u001b[0m in \u001b[0;36mstack\u001b[0;34m(self, dimensions, **dimensions_kwargs)\u001b[0m\n\u001b[1;32m   3328\u001b[0m         \u001b[0;32mfor\u001b[0m \u001b[0mnew_dim\u001b[0m\u001b[0;34m,\u001b[0m \u001b[0mdims\u001b[0m \u001b[0;32min\u001b[0m \u001b[0mdimensions\u001b[0m\u001b[0;34m.\u001b[0m\u001b[0mitems\u001b[0m\u001b[0;34m(\u001b[0m\u001b[0;34m)\u001b[0m\u001b[0;34m:\u001b[0m\u001b[0;34m\u001b[0m\u001b[0;34m\u001b[0m\u001b[0m\n\u001b[0;32m-> 3329\u001b[0;31m             \u001b[0mresult\u001b[0m \u001b[0;34m=\u001b[0m \u001b[0mresult\u001b[0m\u001b[0;34m.\u001b[0m\u001b[0m_stack_once\u001b[0m\u001b[0;34m(\u001b[0m\u001b[0mdims\u001b[0m\u001b[0;34m,\u001b[0m \u001b[0mnew_dim\u001b[0m\u001b[0;34m)\u001b[0m\u001b[0;34m\u001b[0m\u001b[0;34m\u001b[0m\u001b[0m\n\u001b[0m\u001b[1;32m   3330\u001b[0m         \u001b[0;32mreturn\u001b[0m \u001b[0mresult\u001b[0m\u001b[0;34m\u001b[0m\u001b[0;34m\u001b[0m\u001b[0m\n",
      "\u001b[0;32m/opt/conda/lib/python3.7/site-packages/xarray/core/dataset.py\u001b[0m in \u001b[0;36m_stack_once\u001b[0;34m(self, dims, new_dim)\u001b[0m\n\u001b[1;32m   3275\u001b[0m                     \u001b[0mexp_var\u001b[0m \u001b[0;34m=\u001b[0m \u001b[0mvar\u001b[0m\u001b[0;34m.\u001b[0m\u001b[0mset_dims\u001b[0m\u001b[0;34m(\u001b[0m\u001b[0mvdims\u001b[0m\u001b[0;34m,\u001b[0m \u001b[0mshape\u001b[0m\u001b[0;34m)\u001b[0m\u001b[0;34m\u001b[0m\u001b[0;34m\u001b[0m\u001b[0m\n\u001b[0;32m-> 3276\u001b[0;31m                     \u001b[0mstacked_var\u001b[0m \u001b[0;34m=\u001b[0m \u001b[0mexp_var\u001b[0m\u001b[0;34m.\u001b[0m\u001b[0mstack\u001b[0m\u001b[0;34m(\u001b[0m\u001b[0;34m**\u001b[0m\u001b[0;34m{\u001b[0m\u001b[0mnew_dim\u001b[0m\u001b[0;34m:\u001b[0m \u001b[0mdims\u001b[0m\u001b[0;34m}\u001b[0m\u001b[0;34m)\u001b[0m\u001b[0;34m\u001b[0m\u001b[0;34m\u001b[0m\u001b[0m\n\u001b[0m\u001b[1;32m   3277\u001b[0m                     \u001b[0mvariables\u001b[0m\u001b[0;34m[\u001b[0m\u001b[0mname\u001b[0m\u001b[0;34m]\u001b[0m \u001b[0;34m=\u001b[0m \u001b[0mstacked_var\u001b[0m\u001b[0;34m\u001b[0m\u001b[0;34m\u001b[0m\u001b[0m\n",
      "\u001b[0;32m/opt/conda/lib/python3.7/site-packages/xarray/core/variable.py\u001b[0m in \u001b[0;36mstack\u001b[0;34m(self, dimensions, **dimensions_kwargs)\u001b[0m\n\u001b[1;32m   1445\u001b[0m         \u001b[0;32mfor\u001b[0m \u001b[0mnew_dim\u001b[0m\u001b[0;34m,\u001b[0m \u001b[0mdims\u001b[0m \u001b[0;32min\u001b[0m \u001b[0mdimensions\u001b[0m\u001b[0;34m.\u001b[0m\u001b[0mitems\u001b[0m\u001b[0;34m(\u001b[0m\u001b[0;34m)\u001b[0m\u001b[0;34m:\u001b[0m\u001b[0;34m\u001b[0m\u001b[0;34m\u001b[0m\u001b[0m\n\u001b[0;32m-> 1446\u001b[0;31m             \u001b[0mresult\u001b[0m \u001b[0;34m=\u001b[0m \u001b[0mresult\u001b[0m\u001b[0;34m.\u001b[0m\u001b[0m_stack_once\u001b[0m\u001b[0;34m(\u001b[0m\u001b[0mdims\u001b[0m\u001b[0;34m,\u001b[0m \u001b[0mnew_dim\u001b[0m\u001b[0;34m)\u001b[0m\u001b[0;34m\u001b[0m\u001b[0;34m\u001b[0m\u001b[0m\n\u001b[0m\u001b[1;32m   1447\u001b[0m         \u001b[0;32mreturn\u001b[0m \u001b[0mresult\u001b[0m\u001b[0;34m\u001b[0m\u001b[0;34m\u001b[0m\u001b[0m\n",
      "\u001b[0;32m/opt/conda/lib/python3.7/site-packages/xarray/core/variable.py\u001b[0m in \u001b[0;36m_stack_once\u001b[0;34m(self, dims, new_dim)\u001b[0m\n\u001b[1;32m   1412\u001b[0m         \u001b[0mnew_shape\u001b[0m \u001b[0;34m=\u001b[0m \u001b[0mreordered\u001b[0m\u001b[0;34m.\u001b[0m\u001b[0mshape\u001b[0m\u001b[0;34m[\u001b[0m\u001b[0;34m:\u001b[0m \u001b[0mlen\u001b[0m\u001b[0;34m(\u001b[0m\u001b[0mother_dims\u001b[0m\u001b[0;34m)\u001b[0m\u001b[0;34m]\u001b[0m \u001b[0;34m+\u001b[0m \u001b[0;34m(\u001b[0m\u001b[0;34m-\u001b[0m\u001b[0;36m1\u001b[0m\u001b[0;34m,\u001b[0m\u001b[0;34m)\u001b[0m\u001b[0;34m\u001b[0m\u001b[0;34m\u001b[0m\u001b[0m\n\u001b[0;32m-> 1413\u001b[0;31m         \u001b[0mnew_data\u001b[0m \u001b[0;34m=\u001b[0m \u001b[0mreordered\u001b[0m\u001b[0;34m.\u001b[0m\u001b[0mdata\u001b[0m\u001b[0;34m.\u001b[0m\u001b[0mreshape\u001b[0m\u001b[0;34m(\u001b[0m\u001b[0mnew_shape\u001b[0m\u001b[0;34m)\u001b[0m\u001b[0;34m\u001b[0m\u001b[0;34m\u001b[0m\u001b[0m\n\u001b[0m\u001b[1;32m   1414\u001b[0m         \u001b[0mnew_dims\u001b[0m \u001b[0;34m=\u001b[0m \u001b[0mreordered\u001b[0m\u001b[0;34m.\u001b[0m\u001b[0mdims\u001b[0m\u001b[0;34m[\u001b[0m\u001b[0;34m:\u001b[0m \u001b[0mlen\u001b[0m\u001b[0;34m(\u001b[0m\u001b[0mother_dims\u001b[0m\u001b[0;34m)\u001b[0m\u001b[0;34m]\u001b[0m \u001b[0;34m+\u001b[0m \u001b[0;34m(\u001b[0m\u001b[0mnew_dim\u001b[0m\u001b[0;34m,\u001b[0m\u001b[0;34m)\u001b[0m\u001b[0;34m\u001b[0m\u001b[0;34m\u001b[0m\u001b[0m\n",
      "\u001b[0;31mKeyboardInterrupt\u001b[0m: ",
      "\nDuring handling of the above exception, another exception occurred:\n",
      "\u001b[0;31mException\u001b[0m                                 Traceback (most recent call last)",
      "\u001b[0;32m/home/dataprep/ard-workflows/utils/genprepMLWater.py\u001b[0m in \u001b[0;36mgenprepmlwater\u001b[0;34m(optical_yaml_path, summary_yaml_path, inter_dir, s3_bucket, s3_dir, mask, output_crs)\u001b[0m\n\u001b[1;32m    376\u001b[0m             \u001b[0mroot\u001b[0m\u001b[0;34m.\u001b[0m\u001b[0mexception\u001b[0m\u001b[0;34m(\u001b[0m\u001b[0;34mf\"{scene_name} Prediction or re-shaping failed\"\u001b[0m\u001b[0;34m)\u001b[0m\u001b[0;34m\u001b[0m\u001b[0;34m\u001b[0m\u001b[0m\n\u001b[0;32m--> 377\u001b[0;31m             \u001b[0;32mraise\u001b[0m \u001b[0mException\u001b[0m\u001b[0;34m(\u001b[0m\u001b[0;34m'Prediction error'\u001b[0m\u001b[0;34m)\u001b[0m\u001b[0;34m\u001b[0m\u001b[0;34m\u001b[0m\u001b[0m\n\u001b[0m\u001b[1;32m    378\u001b[0m \u001b[0;34m\u001b[0m\u001b[0m\n",
      "\u001b[0;31mException\u001b[0m: Prediction error",
      "\nDuring handling of the above exception, another exception occurred:\n",
      "\u001b[0;31mKeyboardInterrupt\u001b[0m                         Traceback (most recent call last)",
      "\u001b[0;32m<ipython-input-16-5a32b2476d0a>\u001b[0m in \u001b[0;36m<module>\u001b[0;34m\u001b[0m\n\u001b[1;32m      1\u001b[0m \u001b[0;32mfor\u001b[0m \u001b[0msc\u001b[0m \u001b[0;32min\u001b[0m \u001b[0ml8_ymls\u001b[0m\u001b[0;34m:\u001b[0m\u001b[0;34m\u001b[0m\u001b[0;34m\u001b[0m\u001b[0m\n\u001b[0;32m----> 2\u001b[0;31m     \u001b[0mgenprepmlwater\u001b[0m\u001b[0;34m(\u001b[0m\u001b[0msc\u001b[0m\u001b[0;34m,\u001b[0m \u001b[0mwofssummary_ymls\u001b[0m\u001b[0;34m[\u001b[0m\u001b[0;36m0\u001b[0m\u001b[0;34m]\u001b[0m\u001b[0;34m,\u001b[0m \u001b[0ms3_bucket\u001b[0m\u001b[0;34m=\u001b[0m\u001b[0ms3_bucket\u001b[0m\u001b[0;34m,\u001b[0m \u001b[0ms3_dir\u001b[0m\u001b[0;34m=\u001b[0m\u001b[0ms3_dir\u001b[0m\u001b[0;34m,\u001b[0m \u001b[0minter_dir\u001b[0m\u001b[0;34m=\u001b[0m\u001b[0minter_dir\u001b[0m\u001b[0;34m)\u001b[0m\u001b[0;34m\u001b[0m\u001b[0;34m\u001b[0m\u001b[0m\n\u001b[0m\u001b[1;32m      3\u001b[0m \u001b[0;34m\u001b[0m\u001b[0m\n",
      "\u001b[0;32m/home/dataprep/ard-workflows/utils/genprepMLWater.py\u001b[0m in \u001b[0;36mgenprepmlwater\u001b[0;34m(optical_yaml_path, summary_yaml_path, inter_dir, s3_bucket, s3_dir, mask, output_crs)\u001b[0m\n\u001b[1;32m    457\u001b[0m \u001b[0;34m\u001b[0m\u001b[0m\n\u001b[1;32m    458\u001b[0m         \u001b[0;31m# Tidy up log file to ensure upload\u001b[0m\u001b[0;34m\u001b[0m\u001b[0;34m\u001b[0m\u001b[0;34m\u001b[0m\u001b[0m\n\u001b[0;32m--> 459\u001b[0;31m         \u001b[0mshutil\u001b[0m\u001b[0;34m.\u001b[0m\u001b[0mmove\u001b[0m\u001b[0;34m(\u001b[0m\u001b[0mlog_file\u001b[0m\u001b[0;34m,\u001b[0m \u001b[0minter_prodir\u001b[0m \u001b[0;34m+\u001b[0m \u001b[0;34m'log_file.txt'\u001b[0m\u001b[0;34m)\u001b[0m\u001b[0;34m\u001b[0m\u001b[0;34m\u001b[0m\u001b[0m\n\u001b[0m\u001b[1;32m    460\u001b[0m         \u001b[0ms3_upload_cogs\u001b[0m\u001b[0;34m(\u001b[0m\u001b[0mglob\u001b[0m\u001b[0;34m.\u001b[0m\u001b[0mglob\u001b[0m\u001b[0;34m(\u001b[0m\u001b[0minter_prodir\u001b[0m \u001b[0;34m+\u001b[0m \u001b[0;34m'*log_file.txt'\u001b[0m\u001b[0;34m)\u001b[0m\u001b[0;34m,\u001b[0m \u001b[0ms3_bucket\u001b[0m\u001b[0;34m,\u001b[0m \u001b[0ms3_dir\u001b[0m\u001b[0;34m)\u001b[0m\u001b[0;34m\u001b[0m\u001b[0;34m\u001b[0m\u001b[0m\n\u001b[1;32m    461\u001b[0m \u001b[0;34m\u001b[0m\u001b[0m\n",
      "\u001b[0;31mKeyboardInterrupt\u001b[0m: "
     ]
    }
   ],
   "source": [
    "for sc in l8_ymls:\n",
    "    genprepmlwater(sc, wofssummary_ymls[0], s3_bucket=s3_bucket, s3_dir=s3_dir, inter_dir=inter_dir)"
   ]
  },
  {
   "cell_type": "markdown",
   "metadata": {},
   "source": [
    "# **Walkthroughs**"
   ]
  },
  {
   "cell_type": "code",
   "execution_count": 12,
   "metadata": {},
   "outputs": [],
   "source": [
    "import yaml\n",
    "import glob\n",
    "import rasterio\n",
    "from rasterio.crs import CRS\n",
    "# from rasterio.transform import Affine\n",
    "from affine import Affine\n",
    "import rioxarray\n",
    "import xarray as xr\n",
    "from matplotlib import pyplot as plt\n",
    "from datetime import datetime\n",
    "from subprocess import Popen, PIPE, STDOUT\n",
    "import pandas as pd\n",
    "import os\n",
    "import numpy as np\n",
    "import shutil\n",
    "import logging\n",
    "import logging.handlers\n",
    "from dateutil.parser import parse\n",
    "import uuid\n",
    "import geopandas as gpd\n",
    "import rasterio\n",
    "import rasterio.features\n",
    "import gdal\n",
    "import gc\n",
    "import traceback\n",
    "\n",
    "# ml stuff\n",
    "from sklearn_xarray import wrap\n",
    "from sklearn.ensemble import RandomForestClassifier\n",
    "\n",
    "from utils.dc_water_classifier import wofs_classify\n",
    "from utils.dc_clean_mask import landsat_qa_clean_mask\n",
    "from utils.prep_utils import s3_list_objects, s3_download, s3_upload_cogs, create_yaml, cog_translate, get_geometry\n",
    "from utils.dc_import_export import export_xarray_to_geotiff"
   ]
  },
  {
   "cell_type": "code",
   "execution_count": 13,
   "metadata": {},
   "outputs": [],
   "source": [
    "def resamp_bands(xr, xrs):\n",
    "    if xr.attrs['res'] == xrs[0].attrs['res']:\n",
    "        return xr\n",
    "    else:\n",
    "        return xr.interp(x=xrs[0]['x'], y=xrs[0]['y'], method='nearest') # nearest as exclusively upsampling\n",
    "    \n",
    "def rename_bands(in_xr, des_bands, position):\n",
    "    in_xr.name = des_bands[position]\n",
    "    return in_xr\n",
    "\n",
    "def get_valid(ds, prod):\n",
    "    # Identify pixels with valid data\n",
    "    if 'LANDSAT_8' in prod:\n",
    "        good_quality = (\n",
    "            (ds.pixel_qa == 322)  | # clear\n",
    "            (ds.pixel_qa == 386)  |\n",
    "            (ds.pixel_qa == 834)  |\n",
    "            (ds.pixel_qa == 898)  |\n",
    "            (ds.pixel_qa == 1346) |\n",
    "            (ds.pixel_qa == 324)  | # water\n",
    "            (ds.pixel_qa == 388)  |\n",
    "            (ds.pixel_qa == 836)  |\n",
    "            (ds.pixel_qa == 900)  |\n",
    "            (ds.pixel_qa == 1348)\n",
    "        )\n",
    "    elif prod in [\"LANDSAT_7\", \"LANDSAT_5\", \"LANDSAT_4\"]:    \n",
    "        good_quality = (\n",
    "            (ds.pixel_qa == 66)   | # clear\n",
    "            (ds.pixel_qa == 130)  |\n",
    "            (ds.pixel_qa == 68)   | # water\n",
    "            (ds.pixel_qa == 132)  \n",
    "        )\n",
    "    elif 'SENTINEL_2' in prod:\n",
    "        good_quality = (\n",
    "            (ds.scene_classification == 2) | # mask in DARK_AREA_PIXELS\n",
    "#             (ds.scene_classification == 3) | # mask in CLOUD_SHADOWS\n",
    "            (ds.scene_classification == 4) | # mask in VEGETATION\n",
    "            (ds.scene_classification == 5) | # mask in NOT_VEGETATED\n",
    "            (ds.scene_classification == 6) | # mask in WATER\n",
    "            (ds.scene_classification == 7)   # mask in UNCLASSIFIED\n",
    "        )\n",
    "    elif 'WOFS_SUMMARY' in prod:\n",
    "        good_quality = (\n",
    "            (ds >= 0)\n",
    "        )\n",
    "    elif 'SENTINEL_1' in prod:\n",
    "        good_quality = (\n",
    "            (ds.vv != 0)\n",
    "        )\n",
    "    return good_quality\n",
    "\n",
    "def get_ref_channel(prod):\n",
    "    if ('LANDSAT' in prod) | ('SENTINEL_2' in prod): return 'swir1'\n",
    "    elif 'SENTINEL_1' in prod: return 'vv'\n",
    "    \n",
    "def get_qa_channel(prod):\n",
    "    if 'LANDSAT' in prod: return 'pixel_qa'\n",
    "    elif 'SENTINEL_2' in prod: return 'scene_classification'\n",
    "    elif 'SENTINEL_1' in prod: return 'layovershadow_mask'\n",
    "    \n",
    "\n",
    "def band_name_water(prod_path):\n",
    "    \"\"\"\n",
    "    Determine l8 band of individual product from product name\n",
    "    from path to specific product file\n",
    "    \"\"\"\n",
    "\n",
    "    prod_name = os.path.basename(prod_path)\n",
    "    parts = prod_name.split('_')\n",
    "    prod_name = f\"{parts[-2]}_{parts[-1][:-4]}\"\n",
    "\n",
    "    prod_map = {\n",
    "        \"watermask\": 'watermask',\n",
    "        \"waterprob\": 'waterprob'\n",
    "    }\n",
    "    layer_name = prod_map[prod_name]\n",
    "    return layer_name\n",
    "\n",
    "def yaml_prep_water(scene_dir, original_yml):\n",
    "    \"\"\"\n",
    "    Prepare individual wofs directory containing L8/S2/S1 cog water products.\n",
    "    \"\"\"\n",
    "    # scene_name = scene_dir.split('/')[-2][:26]\n",
    "    scene_name = scene_dir.split('/')[-2]\n",
    "    print ( \"Preparing scene {}\".format(scene_name) )\n",
    "    print ( \"Scene path {}\".format(scene_dir) )\n",
    "    \n",
    "    # find all cog prods\n",
    "    prod_paths = glob.glob(scene_dir + '*water*.tif')\n",
    "    # print ( 'paths: {}'.format(prod_paths) )\n",
    "    # for i in prod_paths: print ( i )\n",
    "    \n",
    "    # date time assumed eqv for start and stop - this isn't true and could be \n",
    "    # pulled from .xml file (or scene dir) not done yet for sake of progression\n",
    "    t0=parse(str(datetime.strptime(original_yml['extent']['center_dt'], '%Y-%m-%d %H:%M:%S')))\n",
    "    # print ( t0 )\n",
    "    t1=t0\n",
    "    # print ( t1 )\n",
    "    \n",
    "    # name image product\n",
    "    images = {\n",
    "        prod_path.split('_')[-1][:9]: {\n",
    "            'path': str(prod_path.split('/')[-1])\n",
    "        } for prod_path in prod_paths\n",
    "    }\n",
    "    print ( images )\n",
    "\n",
    "    # trusting bands coaligned, use one to generate spatial bounds for all\n",
    "    projection, extent = get_geometry(os.path.join(str(scene_dir), images['watermask']['path']))\n",
    "#     extent = \n",
    "    print(projection, extent)\n",
    "    \n",
    "    new_id = str(uuid.uuid5(uuid.NAMESPACE_URL, f\"{scene_name}_water\"))\n",
    "    \n",
    "    return {\n",
    "        'id': new_id,\n",
    "        'processing_level': original_yml['processing_level'],\n",
    "        'product_type': \"mlwater\",\n",
    "        'creation_dt': str(datetime.today().strftime('%Y-%m-%d %H:%M:%S')),\n",
    "        'platform': {  \n",
    "            'code': original_yml['platform']['code']\n",
    "        },\n",
    "        'instrument': {\n",
    "            'name': original_yml['instrument']['name']\n",
    "        },\n",
    "        'extent': {\n",
    "            'coord': original_yml['extent']['coord'],\n",
    "            'from_dt': str(t0),\n",
    "            'to_dt': str(t1),\n",
    "            'center_dt': str(t0 + (t1 - t0) / 2)\n",
    "        },\n",
    "        'format': {\n",
    "            'name': 'GeoTiff'\n",
    "        },\n",
    "        'grid_spatial': {\n",
    "            'projection': projection\n",
    "        },\n",
    "        'image': {\n",
    "            'bands': images\n",
    "        },\n",
    "        'lineage': {\n",
    "            'source_datasets': original_yml['lineage']['source_datasets'],\n",
    "        }  \n",
    "    }\n",
    "\n",
    "\n",
    "def mlwater(optical_yaml_path, summary_yaml_path, inter_dir='../data/', s3_bucket='public-eo-data', s3_dir='common_sensing/fiji/mlwater_test/',\n",
    "            mask=None, output_crs=None):\n",
    "    \"\"\"\n",
    "    optical_yaml_path: dc yml metadata of single image within S3 bucket\n",
    "    summary_yaml_path: dc yml metadata of wofs-like summary product within S3 bucket\n",
    "    \"\"\"\n",
    "\n",
    "    try: \n",
    "        \n",
    "        scene_name = os.path.dirname(optical_yaml_path).split('/')[-1]\n",
    "        \n",
    "        inter_dir = f\"{inter_dir}{scene_name}_tmp/\"\n",
    "        os.makedirs(inter_dir, exist_ok=True)\n",
    "        cog_dir = f\"{inter_dir}{scene_name}/\"\n",
    "        os.makedirs(cog_dir, exist_ok=True)\n",
    "        \n",
    "        yml = f'{inter_dir}datacube-metadata.yaml'\n",
    "        yml_summary = f'{inter_dir}datacube-metadata_watersummary.yaml'\n",
    "        \n",
    "        des_band_refs = {\n",
    "            \"LANDSAT_8\": ['blue','green','red','nir','swir1','swir2','pixel_qa'],\n",
    "            \"LANDSAT_7\": ['blue','green','red','nir','swir1','swir2','pixel_qa'],\n",
    "            \"LANDSAT_5\": ['blue','green','red','nir','swir1','swir2','pixel_qa'],\n",
    "            \"LANDSAT_4\": ['blue','green','red','nir','swir1','swir2','pixel_qa'],\n",
    "            \"SENTINEL_2\": ['blue','green','red','nir','swir1','swir2','scene_classification'],\n",
    "            \"SENTINEL_1\": ['vv','vh','layovershadow_mask'],\n",
    "            \"WOFS_SUMMARY\": ['pc']}\n",
    "        \n",
    "        if not os.path.exists(yml):\n",
    "            s3_download(s3_bucket, optical_yaml_path, yml)\n",
    "            with open (yml) as stream: yml_meta = yaml.safe_load(stream)\n",
    "            satellite = yml_meta['platform']['code'] # helper to generalise masking \n",
    "            des_bands = des_band_refs[satellite]\n",
    "            print(satellite, des_bands)\n",
    "            band_paths_s3 = [os.path.dirname(optical_yaml_path)+'/'+yml_meta['image']['bands'][b]['path'] for b in des_bands ]\n",
    "            band_paths_local = [inter_dir+os.path.basename(i) for i in band_paths_s3]\n",
    "            for s3, loc in zip(band_paths_s3, band_paths_local): \n",
    "                if not os.path.exists(loc):\n",
    "                    s3_download(s3_bucket, s3, loc)\n",
    "        elif os.path.exists(yml):\n",
    "            with open (yml) as stream: yml_meta = yaml.safe_load(stream)\n",
    "            satellite = yml_meta['platform']['code'] # helper to generalise masking \n",
    "            des_bands = des_band_refs[satellite]\n",
    "            print(satellite, des_bands)\n",
    "        else:\n",
    "            print('boo')\n",
    "\n",
    "        # FIND & DOWNLOAD WATER SUMMARY DATA\n",
    "        if not os.path.exists(yml_summary):\n",
    "            s3_download(s3_bucket, summary_yaml_path, yml_summary)\n",
    "            with open (yml_summary) as stream: yml_summary_meta = yaml.safe_load(stream)\n",
    "            summary = yml_summary_meta['platform']['code']\n",
    "            des_bands_summary = des_band_refs[summary]\n",
    "            print(summary, des_bands_summary)\n",
    "            band_paths_s3 = [os.path.dirname(summary_yaml_path)+'/'+yml_summary_meta['image']['bands'][b]['path'] for b in des_bands_summary ]\n",
    "            band_paths_local = [inter_dir+os.path.basename(i) for i in band_paths_s3]\n",
    "            for s3, loc in zip(band_paths_s3, band_paths_local): \n",
    "                if not os.path.exists(loc):\n",
    "                    s3_download(s3_bucket, s3, loc)\n",
    "        elif os.path.exists(yml_summary):\n",
    "            s3_download(s3_bucket, summary_yaml_path, yml_summary)\n",
    "            with open (yml_summary) as stream: yml_summary_meta = yaml.safe_load(stream)\n",
    "            summary = yml_summary_meta['platform']['code']\n",
    "            des_bands_summary = des_band_refs[summary]\n",
    "            print(summary, des_bands_summary)\n",
    "            band_paths_s3 = [os.path.dirname(summary_yaml_path)+'/'+yml_summary_meta['image']['bands'][b]['path'] for b in des_bands_summary ]\n",
    "            band_paths_local = [inter_dir+os.path.basename(i) for i in band_paths_s3]\n",
    "            for s3, loc in zip(band_paths_s3, band_paths_local): \n",
    "                if not os.path.exists(loc):\n",
    "                    s3_download(s3_bucket, s3, loc)\n",
    "        else:\n",
    "            print('boo')\n",
    "\n",
    "        ref_channel = get_ref_channel(satellite)\n",
    "        qa_channel = get_qa_channel(satellite)\n",
    "        print(ref_channel, qa_channel)\n",
    "\n",
    "        # LOAD & PREP IMAGE DATA\n",
    "        o_bands_data = [ xr.open_rasterio(inter_dir + yml_meta['image']['bands'][b]['path']) for b in des_bands ] # loading\n",
    "        o_bands_data = [ resamp_bands(i, o_bands_data) for i in o_bands_data ] # resamp 2 match band 1\n",
    "        bands_data = xr.merge([rename_bands(bd, des_bands, i) for i,bd in enumerate(o_bands_data)]).rename({'band': 'time'}) # ensure band names & dims consistent\n",
    "        bands_data = bands_data.assign_attrs(o_bands_data[0].attrs) # crs etc. needed later\n",
    "        bands_data['time'] = [datetime.strptime(yml_meta['extent']['center_dt'], '%Y-%m-%d %H:%M:%S')] # time dim needed for wofs\n",
    "\n",
    "        img_data = bands_data.isel(time = 0).drop(['time'])\n",
    "        bands_data = None\n",
    "        o_bands_data = None\n",
    "        \n",
    "        # LOAD & PREP WATER SUMMARY DATA\n",
    "        o_bands_data = [ xr.open_rasterio(inter_dir + yml_summary_meta['image']['bands'][b]['path']) for b in des_bands_summary ] # loading\n",
    "        o_bands_data = [ resamp_bands(i, o_bands_data) for i in o_bands_data ]\n",
    "        sum_data = xr.merge([rename_bands(bd, des_bands_summary, i) for i,bd in enumerate(o_bands_data)]).rename({'band': 'time'}) # ensure band names & dims consistent\n",
    "        sum_data = sum_data.assign_attrs(o_bands_data[0].attrs) # crs etc. needed later\n",
    "        sum_data['time'] = [datetime.strptime(yml_summary_meta['extent']['center_dt'], '%Y-%m-%d %H:%M:%S')] # time dim needed for wofs\n",
    "\n",
    "        class_data = sum_data.isel(time = 0).drop(['time']).pc\n",
    "        sum_data = None\n",
    "        o_bands_data = None\n",
    "        \n",
    "        # REPROJECT & ALIGN CRS+DIMS\n",
    "        class_data = class_data.rio.reproject_match(img_data[ref_channel]) # repro + align grid\n",
    "        img_data, class_data = xr.align(img_data, class_data, join=\"override\") # force alignment of x,y precision\n",
    "        \n",
    "        if satellite == 'SENTINEL_1': # catch s1 and scall and re-fromat dtype\n",
    "            att = img_data.attrs\n",
    "            img_data = img_data*100\n",
    "            img_data = img_data.astype('int16')\n",
    "            img_data.attrs = att\n",
    "        \n",
    "        # VALID REGION MASKS\n",
    "        clearskymask_img = get_valid(img_data, satellite) # img nd mask\n",
    "        clearskymask_class = get_valid(class_data, summary) # water nd mask\n",
    "        clearskymask_train = clearskymask_class.where(clearskymask_class == False, False) # empty mask\n",
    "        clearskymask_train = clearskymask_train.where((clearskymask_img == False) | (clearskymask_class == False), True) # inner true mask\n",
    "        \n",
    "        # ASSIGN WATER/NON WATER CLASS LABELS\n",
    "        water_thresh = 50 # 50% persistence in annual summary\n",
    "        class_data = class_data.where((class_data < water_thresh) | (clearskymask_class == False), 100) # fix > prob to water\n",
    "        class_data = class_data.where((class_data >= water_thresh) | (clearskymask_class == False), 0) # fix < prob to no water \n",
    "        \n",
    "        # MASK TO TRAINING SAMPLES W/ IMPUTED ND\n",
    "        train_data = img_data # dup as use img 4 implementation later\n",
    "        train_data['waterclass'] = class_data # add channel for water mask\n",
    "        train_data = train_data.where(clearskymask_train == True, -9999).drop([qa_channel]) # apply inner mask\n",
    "        \n",
    "        unique, counts = np.unique(train_data.waterclass, return_counts=True)\n",
    "        if (counts[0] < 500) | (counts[1] < 5000):\n",
    "            raise Exception(f'no class labels should be >5000 for ok classifier. no. training class samples: {counts[0]}{counts[1]}')\n",
    "        \n",
    "        # SPEC & TRAIN MODEL\n",
    "        Y = train_data.waterclass.stack(z=['x','y']) # stack into 1-d arr\n",
    "        X = train_data.drop(['waterclass']).stack(z=['x','y']).to_array().transpose() # stack into transposed 2-d arr\n",
    "        # very shallow classifier - this is a super easy problem & we want it to be fast\n",
    "        wrapper = wrap(RandomForestClassifier(n_estimators=2, \n",
    "                                       bootstrap = True,\n",
    "                                       max_features = 'sqrt',\n",
    "                                       max_depth=5,\n",
    "                                       n_jobs=2,\n",
    "                                       verbose=2\n",
    "                                      ))\n",
    "        wrapper.estimator.fit(X, Y) # do training\n",
    "        \n",
    "        # MASK TO FULL VALID IMAGE FOR IMPLEMENTATION\n",
    "        img_data = img_data.drop([qa_channel,'waterclass']) # not sure how these ended up in here(?)\n",
    "        img_data = img_data.where(clearskymask_img == True, -9999) # apply just the img mask this time\n",
    "        \n",
    "        # PREDICT + ASSIGN CONFIDENCE\n",
    "        X = img_data.stack(z=['x','y']).to_array().transpose() # stack into transposed 2-d arr\n",
    "\n",
    "        pred = wrapper.estimator.predict(X) # gen class predictions\n",
    "        pred[pred==100] = 1 # refactor water from 100 to 1\n",
    "        prob = wrapper.estimator.predict_proba(X)[:,2]*100 # gen confidence in assigned labels as int\n",
    "        \n",
    "        # RESHAPE OUTPUTS INTO IMAGE\n",
    "        vars_0 = [i for i in X.transpose().to_dataset(dim='variable').data_vars] # get list of vars within img\n",
    "        X_t = X.transpose().to_dataset(dim='variable') # recreate xrds (but no unstacking yet as need to drop in model outputs)\n",
    "        X_t[vars_0[0]].data = pred # add class predictions as first channel\n",
    "        X_t[vars_0[1]].data = prob # add confidence as second channel\n",
    "        X_t = X_t.rename({vars_0[0]:'water_mask',vars_0[1]:'water_prob'}).drop(vars_0[2:]).unstack('z').transpose().astype('int16') # rename + drop vars + unstack xy dims back to 3-d xrds + transpose predictions back into correct orientation\n",
    "        X_t = X_t.where(clearskymask_img,-9999) # ensure probs rm 4 nd regions\n",
    "        X_t.attrs = img_data.attrs\n",
    "\n",
    "        # EXPORT\n",
    "        inter_prodir = inter_dir + scene_name + '_mlwater/'\n",
    "        os.makedirs(inter_prodir, exist_ok=True)\n",
    "        out_mask_prod = inter_prodir + scene_name + '_watermask.tif'\n",
    "        out_prob_prod = inter_prodir + scene_name + '_waterprob.tif'\n",
    "        output_crs = f\"EPSG:{X_t.attrs['crs'].split(':')[-1]}\"\n",
    "        export_xarray_to_geotiff(X_t, out_mask_prod, bands=['water_mask'], crs=output_crs, x_coord='x', y_coord='y', no_data=-9999)\n",
    "        export_xarray_to_geotiff(X_t, out_prob_prod, bands=['water_prob'], crs=output_crs, x_coord='x', y_coord='y', no_data=-9999)\n",
    "        \n",
    "        # CREATE YML\n",
    "        create_yaml(inter_prodir, yaml_prep_water(inter_prodir, yml_meta)) # assumes majority of meta copied from original product yml\n",
    "        \n",
    "        # UPLOAD\n",
    "        s3_upload_cogs(glob.glob(f'{inter_prodir}*'), s3_bucket, s3_dir)\n",
    "        \n",
    "        class_data = None\n",
    "        att = None\n",
    "        img_data = None\n",
    "        clearskymask_img = None\n",
    "        clearskymask_class = None\n",
    "        clearskymask_train = None\n",
    "        class_data = None\n",
    "        train_data = None\n",
    "        wrapperper = None\n",
    "        X = None     \n",
    "        Y = None\n",
    "        pred = None\n",
    "        prob = None\n",
    "        vars_0 = None\n",
    "        X_t = None\n",
    "        \n",
    "        gc.collect()\n",
    "#         shutil.rmtree(inter_prodir)\n",
    "\n",
    "    except Exception as e:\n",
    "        print(e)\n",
    "        traceback.print_exc()\n",
    "\n",
    "        class_data = None\n",
    "        att = None\n",
    "        img_data = None\n",
    "        clearskymask_img = None\n",
    "        clearskymask_class = None\n",
    "        clearskymask_train = None\n",
    "        class_data = None\n",
    "        train_data = None\n",
    "        wrapperper = None\n",
    "        X = None     \n",
    "        Y = None\n",
    "        pred = None\n",
    "        prob = None\n",
    "        vars_0 = None\n",
    "        X_t = None\n",
    "\n",
    "        gc.collect()\n",
    "#         shutil.rmtree(inter_prodir)\n",
    "        "
   ]
  },
  {
   "cell_type": "code",
   "execution_count": 14,
   "metadata": {},
   "outputs": [],
   "source": [
    "p = l8_ymls[5:] + s1_ymls[:5] +s2_ymls[:5]"
   ]
  },
  {
   "cell_type": "code",
   "execution_count": 20,
   "metadata": {},
   "outputs": [],
   "source": [
    "! mkdir /home/dataprep/data/masks/"
   ]
  },
  {
   "cell_type": "code",
   "execution_count": 21,
   "metadata": {},
   "outputs": [],
   "source": [
    "! cp /home/dataprep/data/*/*/*mask* /home/dataprep/data/masks/"
   ]
  },
  {
   "cell_type": "code",
   "execution_count": 19,
   "metadata": {},
   "outputs": [
    {
     "name": "stdout",
     "output_type": "stream",
     "text": [
      "-rwxr-xr-x 1 root root 115M Apr 20 09:28 /home/dataprep/data/LC08_L1TP_074072_20190113_tmp/LC08_L1TP_074072_20190113_mlwater/LC08_L1TP_074072_20190113_watermask.tif\n",
      "-rwxr-xr-x 1 root root  306 Apr 20 09:42 /home/dataprep/data/LC08_L1TP_074072_20190113_tmp/LC08_L1TP_074072_20190113_mlwater/LC08_L1TP_074072_20190113_watermask.tif.aux.xml\n",
      "-rwxr-xr-x 1 root root 115M Apr 20 09:31 /home/dataprep/data/LC08_L1TP_074072_20190129_tmp/LC08_L1TP_074072_20190129_mlwater/LC08_L1TP_074072_20190129_watermask.tif\n",
      "-rwxr-xr-x 1 root root 115M Apr 20 09:33 /home/dataprep/data/LC08_L1TP_074072_20190214_tmp/LC08_L1TP_074072_20190214_mlwater/LC08_L1TP_074072_20190214_watermask.tif\n",
      "-rwxr-xr-x 1 root root 115M Apr 20 09:36 /home/dataprep/data/LC08_L1TP_074072_20190302_tmp/LC08_L1TP_074072_20190302_mlwater/LC08_L1TP_074072_20190302_watermask.tif\n",
      "-rwxr-xr-x 1 root root 115M Apr 20 09:39 /home/dataprep/data/LC08_L1TP_074072_20190318_tmp/LC08_L1TP_074072_20190318_mlwater/LC08_L1TP_074072_20190318_watermask.tif\n",
      "-rwxr-xr-x 1 root root  306 Apr 20 09:56 /home/dataprep/data/LC08_L1TP_074072_20190318_tmp/LC08_L1TP_074072_20190318_mlwater/LC08_L1TP_074072_20190318_watermask.tif.aux.xml\n",
      "-rwxr-xr-x 1 root root 115M Apr 20 11:33 /home/dataprep/data/LC08_L1TP_074072_20190403_tmp/LC08_L1TP_074072_20190403_mlwater/LC08_L1TP_074072_20190403_watermask.tif\n",
      "-rwxr-xr-x 1 root root 115M Apr 20 11:35 /home/dataprep/data/LC08_L1TP_074072_20190419_tmp/LC08_L1TP_074072_20190419_mlwater/LC08_L1TP_074072_20190419_watermask.tif\n",
      "-rwxr-xr-x 1 root root 115M Apr 20 11:37 /home/dataprep/data/LC08_L1TP_074072_20190505_tmp/LC08_L1TP_074072_20190505_mlwater/LC08_L1TP_074072_20190505_watermask.tif\n",
      "-rwxr-xr-x 1 root root 115M Apr 20 11:39 /home/dataprep/data/LC08_L1TP_074072_20190521_tmp/LC08_L1TP_074072_20190521_mlwater/LC08_L1TP_074072_20190521_watermask.tif\n",
      "-rwxr-xr-x 1 root root 115M Apr 20 11:41 /home/dataprep/data/LC08_L1TP_074072_20190606_tmp/LC08_L1TP_074072_20190606_mlwater/LC08_L1TP_074072_20190606_watermask.tif\n",
      "-rwxr-xr-x 1 root root 115M Apr 20 11:43 /home/dataprep/data/LC08_L1TP_074072_20190622_tmp/LC08_L1TP_074072_20190622_mlwater/LC08_L1TP_074072_20190622_watermask.tif\n",
      "-rwxr-xr-x 1 root root 115M Apr 20 11:45 /home/dataprep/data/LC08_L1TP_074072_20190708_tmp/LC08_L1TP_074072_20190708_mlwater/LC08_L1TP_074072_20190708_watermask.tif\n",
      "-rwxr-xr-x 1 root root 115M Apr 20 11:47 /home/dataprep/data/LC08_L1TP_074072_20190724_tmp/LC08_L1TP_074072_20190724_mlwater/LC08_L1TP_074072_20190724_watermask.tif\n",
      "-rwxr-xr-x 1 root root 115M Apr 20 11:49 /home/dataprep/data/LC08_L1TP_074072_20190809_tmp/LC08_L1TP_074072_20190809_mlwater/LC08_L1TP_074072_20190809_watermask.tif\n",
      "-rwxr-xr-x 1 root root 115M Apr 20 11:51 /home/dataprep/data/LC08_L1TP_074072_20190825_tmp/LC08_L1TP_074072_20190825_mlwater/LC08_L1TP_074072_20190825_watermask.tif\n",
      "-rwxr-xr-x 1 root root 115M Apr 20 11:53 /home/dataprep/data/LC08_L1TP_074072_20190910_tmp/LC08_L1TP_074072_20190910_mlwater/LC08_L1TP_074072_20190910_watermask.tif\n",
      "-rwxr-xr-x 1 root root 109M Apr 20 09:33 /home/dataprep/data/LE07_L1TP_074072_20130104_tmp/LE07_L1TP_074072_20130104_mlwater/LE07_L1TP_074072_20130104_watermask.tif\n",
      "-rwxr-xr-x 1 root root  306 Apr 20 09:42 /home/dataprep/data/LE07_L1TP_074072_20130104_tmp/LE07_L1TP_074072_20130104_mlwater/LE07_L1TP_074072_20130104_watermask.tif.aux.xml\n",
      "-rwxr-xr-x 1 root root 110M Apr 20 09:36 /home/dataprep/data/LE07_L1TP_074072_20130120_tmp/LE07_L1TP_074072_20130120_mlwater/LE07_L1TP_074072_20130120_watermask.tif\n",
      "-rwxr-xr-x 1 root root  306 Apr 20 09:42 /home/dataprep/data/LE07_L1TP_074072_20130120_tmp/LE07_L1TP_074072_20130120_mlwater/LE07_L1TP_074072_20130120_watermask.tif.aux.xml\n",
      "-rwxr-xr-x 1 root root 109M Apr 20 09:39 /home/dataprep/data/LE07_L1TP_074072_20130205_tmp/LE07_L1TP_074072_20130205_mlwater/LE07_L1TP_074072_20130205_watermask.tif\n",
      "-rwxr-xr-x 1 root root 109M Apr 20 09:42 /home/dataprep/data/LE07_L1TP_074072_20130309_tmp/LE07_L1TP_074072_20130309_mlwater/LE07_L1TP_074072_20130309_watermask.tif\n",
      "-rwxr-xr-x 1 root root 110M Apr 20 09:44 /home/dataprep/data/LE07_L1TP_074072_20130325_tmp/LE07_L1TP_074072_20130325_mlwater/LE07_L1TP_074072_20130325_watermask.tif\n",
      "-rwxr-xr-x 1 root root 109M Apr 20 09:46 /home/dataprep/data/LE07_L1TP_074072_20130410_tmp/LE07_L1TP_074072_20130410_mlwater/LE07_L1TP_074072_20130410_watermask.tif\n",
      "-rwxr-xr-x 1 root root 110M Apr 20 09:49 /home/dataprep/data/LE07_L1TP_074072_20130512_tmp/LE07_L1TP_074072_20130512_mlwater/LE07_L1TP_074072_20130512_watermask.tif\n",
      "-rwxr-xr-x 1 root root 110M Apr 20 09:51 /home/dataprep/data/LE07_L1TP_074072_20130629_tmp/LE07_L1TP_074072_20130629_mlwater/LE07_L1TP_074072_20130629_watermask.tif\n",
      "-rwxr-xr-x 1 root root 110M Apr 20 09:54 /home/dataprep/data/LE07_L1TP_074072_20130715_tmp/LE07_L1TP_074072_20130715_mlwater/LE07_L1TP_074072_20130715_watermask.tif\n",
      "-rwxr-xr-x 1 root root 110M Apr 20 09:57 /home/dataprep/data/LE07_L1TP_074072_20130731_tmp/LE07_L1TP_074072_20130731_mlwater/LE07_L1TP_074072_20130731_watermask.tif\n",
      "-rwxr-xr-x 1 root root 110M Apr 20 10:00 /home/dataprep/data/LE07_L1TP_074072_20130816_tmp/LE07_L1TP_074072_20130816_mlwater/LE07_L1TP_074072_20130816_watermask.tif\n",
      "-rwxr-xr-x 1 root root 109M Apr 20 10:02 /home/dataprep/data/LE07_L1TP_074072_20130901_tmp/LE07_L1TP_074072_20130901_mlwater/LE07_L1TP_074072_20130901_watermask.tif\n",
      "-rwxr-xr-x 1 root root 110M Apr 20 10:05 /home/dataprep/data/LE07_L1TP_074072_20130917_tmp/LE07_L1TP_074072_20130917_mlwater/LE07_L1TP_074072_20130917_watermask.tif\n",
      "-rwxr-xr-x 1 root root 109M Apr 20 10:07 /home/dataprep/data/LE07_L1TP_074072_20131104_tmp/LE07_L1TP_074072_20131104_mlwater/LE07_L1TP_074072_20131104_watermask.tif\n",
      "-rwxr-xr-x 1 root root 369M Apr 20 09:46 /home/dataprep/data/S1A_IW_GRDH_1SDV_20190103T174016_tmp/S1A_IW_GRDH_1SDV_20190103T174016_mlwater/S1A_IW_GRDH_1SDV_20190103T174016_watermask.tif\n",
      "-rwxr-xr-x 1 root root  306 Apr 20 10:00 /home/dataprep/data/S1A_IW_GRDH_1SDV_20190103T174016_tmp/S1A_IW_GRDH_1SDV_20190103T174016_mlwater/S1A_IW_GRDH_1SDV_20190103T174016_watermask.tif.aux.xml\n",
      "-rwxr-xr-x 1 root root 302M Apr 20 09:52 /home/dataprep/data/S1A_IW_GRDH_1SDV_20190103T174045_tmp/S1A_IW_GRDH_1SDV_20190103T174045_mlwater/S1A_IW_GRDH_1SDV_20190103T174045_watermask.tif\n",
      "-rwxr-xr-x 1 root root 450M Apr 20 10:00 /home/dataprep/data/S1A_IW_GRDH_1SDV_20190110T064000_tmp/S1A_IW_GRDH_1SDV_20190110T064000_mlwater/S1A_IW_GRDH_1SDV_20190110T064000_watermask.tif\n",
      "-rwxr-xr-x 1 root root 302M Apr 20 10:07 /home/dataprep/data/S1A_IW_GRDH_1SDV_20190115T174045_tmp/S1A_IW_GRDH_1SDV_20190115T174045_mlwater/S1A_IW_GRDH_1SDV_20190115T174045_watermask.tif\n",
      "-rwxr-xr-x 1 root root 450M Apr 20 10:14 /home/dataprep/data/S1A_IW_GRDH_1SDV_20190122T063959_tmp/S1A_IW_GRDH_1SDV_20190122T063959_mlwater/S1A_IW_GRDH_1SDV_20190122T063959_watermask.tif\n",
      "-rwxr-xr-x 1 root root 231M Apr 20 10:21 /home/dataprep/data/S2A_MSIL2A_20190107T223001_T60KXF_tmp/S2A_MSIL2A_20190107T223001_T60KXF_mlwater/S2A_MSIL2A_20190107T223001_T60KXF_watermask.tif\n",
      "-rwxr-xr-x 1 root root 231M Apr 20 10:27 /home/dataprep/data/S2A_MSIL2A_20190114T221941_T60KXF_tmp/S2A_MSIL2A_20190114T221941_T60KXF_mlwater/S2A_MSIL2A_20190114T221941_T60KXF_watermask.tif\n",
      "-rwxr-xr-x 1 root root 231M Apr 20 10:31 /home/dataprep/data/S2A_MSIL2A_20190117T223011_T60KXF_tmp/S2A_MSIL2A_20190117T223011_T60KXF_mlwater/S2A_MSIL2A_20190117T223011_T60KXF_watermask.tif\n",
      "-rwxr-xr-x 1 root root 231M Apr 20 10:36 /home/dataprep/data/S2A_MSIL2A_20190124T221941_T60KXF_tmp/S2A_MSIL2A_20190124T221941_T60KXF_mlwater/S2A_MSIL2A_20190124T221941_T60KXF_watermask.tif\n"
     ]
    }
   ],
   "source": [
    "! ls -lh /home/dataprep/data/*/*/*mask*"
   ]
  },
  {
   "cell_type": "code",
   "execution_count": 16,
   "metadata": {},
   "outputs": [
    {
     "name": "stdout",
     "output_type": "stream",
     "text": [
      "LANDSAT_8 ['blue', 'green', 'red', 'nir', 'swir1', 'swir2', 'pixel_qa']\n",
      "WOFS_SUMMARY ['pc']\n",
      "swir1 pixel_qa\n"
     ]
    },
    {
     "name": "stderr",
     "output_type": "stream",
     "text": [
      "[Parallel(n_jobs=2)]: Using backend ThreadingBackend with 2 concurrent workers.\n"
     ]
    },
    {
     "name": "stdout",
     "output_type": "stream",
     "text": [
      "building tree 1 of 2building tree 2 of 2\n",
      "\n"
     ]
    },
    {
     "name": "stderr",
     "output_type": "stream",
     "text": [
      "[Parallel(n_jobs=2)]: Done   2 out of   2 | elapsed:   35.4s finished\n",
      "[Parallel(n_jobs=2)]: Using backend ThreadingBackend with 2 concurrent workers.\n",
      "[Parallel(n_jobs=2)]: Done   2 out of   2 | elapsed:    4.4s finished\n",
      "[Parallel(n_jobs=2)]: Using backend ThreadingBackend with 2 concurrent workers.\n",
      "[Parallel(n_jobs=2)]: Done   2 out of   2 | elapsed:    4.4s finished\n"
     ]
    },
    {
     "name": "stdout",
     "output_type": "stream",
     "text": [
      "Preparing scene LC08_L1TP_074072_20190403_mlwater\n",
      "Scene path ../data/LC08_L1TP_074072_20190403_tmp/LC08_L1TP_074072_20190403_mlwater/\n",
      "{'watermask': {'path': 'LC08_L1TP_074072_20190403_watermask.tif'}, 'waterprob': {'path': 'LC08_L1TP_074072_20190403_waterprob.tif'}}\n",
      "{'spatial_reference': 'PROJCS[\"WGS 84 / UTM zone 60N\",GEOGCS[\"WGS 84\",DATUM[\"WGS_1984\",SPHEROID[\"WGS 84\",6378137,298.257223563,AUTHORITY[\"EPSG\",\"7030\"]],AUTHORITY[\"EPSG\",\"6326\"]],PRIMEM[\"Greenwich\",0,AUTHORITY[\"EPSG\",\"8901\"]],UNIT[\"degree\",0.0174532925199433,AUTHORITY[\"EPSG\",\"9122\"]],AUTHORITY[\"EPSG\",\"4326\"]],PROJECTION[\"Transverse_Mercator\"],PARAMETER[\"latitude_of_origin\",0],PARAMETER[\"central_meridian\",177],PARAMETER[\"scale_factor\",0.9996],PARAMETER[\"false_easting\",500000],PARAMETER[\"false_northing\",0],UNIT[\"metre\",1,AUTHORITY[\"EPSG\",\"9001\"]],AXIS[\"Easting\",EAST],AXIS[\"Northing\",NORTH],AUTHORITY[\"EPSG\",\"32660\"]]', 'geo_ref_points': {'ul': {'x': 584400.0, 'y': -1802100.0}, 'ur': {'x': 815100.0, 'y': -1802100.0}, 'll': {'x': 584400.0, 'y': -2036100.0}, 'lr': {'x': 815100.0, 'y': -2036100.0}}} {'ul': {'lon': -16.29834140316108, 'lat': 177.79000889487568}, 'ur': {'lon': -16.27926129700365, 'lat': 179.94811858858546}, 'll': {'lon': -18.413314901657106, 'lat': 177.79912123877267}, 'lr': {'lon': -18.39159673111109, 'lat': 179.98206696251242}}\n",
      "LANDSAT_8 ['blue', 'green', 'red', 'nir', 'swir1', 'swir2', 'pixel_qa']\n",
      "WOFS_SUMMARY ['pc']\n",
      "swir1 pixel_qa\n"
     ]
    },
    {
     "name": "stderr",
     "output_type": "stream",
     "text": [
      "[Parallel(n_jobs=2)]: Using backend ThreadingBackend with 2 concurrent workers.\n"
     ]
    },
    {
     "name": "stdout",
     "output_type": "stream",
     "text": [
      "building tree 1 of 2\n",
      "building tree 2 of 2\n"
     ]
    },
    {
     "name": "stderr",
     "output_type": "stream",
     "text": [
      "[Parallel(n_jobs=2)]: Done   2 out of   2 | elapsed:   16.0s finished\n",
      "[Parallel(n_jobs=2)]: Using backend ThreadingBackend with 2 concurrent workers.\n",
      "[Parallel(n_jobs=2)]: Done   2 out of   2 | elapsed:    4.2s finished\n",
      "[Parallel(n_jobs=2)]: Using backend ThreadingBackend with 2 concurrent workers.\n",
      "[Parallel(n_jobs=2)]: Done   2 out of   2 | elapsed:    4.4s finished\n"
     ]
    },
    {
     "name": "stdout",
     "output_type": "stream",
     "text": [
      "Preparing scene LC08_L1TP_074072_20190419_mlwater\n",
      "Scene path ../data/LC08_L1TP_074072_20190419_tmp/LC08_L1TP_074072_20190419_mlwater/\n",
      "{'watermask': {'path': 'LC08_L1TP_074072_20190419_watermask.tif'}, 'waterprob': {'path': 'LC08_L1TP_074072_20190419_waterprob.tif'}}\n",
      "{'spatial_reference': 'PROJCS[\"WGS 84 / UTM zone 60N\",GEOGCS[\"WGS 84\",DATUM[\"WGS_1984\",SPHEROID[\"WGS 84\",6378137,298.257223563,AUTHORITY[\"EPSG\",\"7030\"]],AUTHORITY[\"EPSG\",\"6326\"]],PRIMEM[\"Greenwich\",0,AUTHORITY[\"EPSG\",\"8901\"]],UNIT[\"degree\",0.0174532925199433,AUTHORITY[\"EPSG\",\"9122\"]],AUTHORITY[\"EPSG\",\"4326\"]],PROJECTION[\"Transverse_Mercator\"],PARAMETER[\"latitude_of_origin\",0],PARAMETER[\"central_meridian\",177],PARAMETER[\"scale_factor\",0.9996],PARAMETER[\"false_easting\",500000],PARAMETER[\"false_northing\",0],UNIT[\"metre\",1,AUTHORITY[\"EPSG\",\"9001\"]],AXIS[\"Easting\",EAST],AXIS[\"Northing\",NORTH],AUTHORITY[\"EPSG\",\"32660\"]]', 'geo_ref_points': {'ul': {'x': 583800.0, 'y': -1802100.0}, 'ur': {'x': 814500.0, 'y': -1802100.0}, 'll': {'x': 583800.0, 'y': -2036100.0}, 'lr': {'x': 814500.0, 'y': -2036100.0}}} {'ul': {'lon': -16.298362316582956, 'lat': 177.78439309976784}, 'ur': {'lon': -16.279339424367077, 'lat': 179.94251026341172}, 'll': {'lon': -18.413338706954196, 'lat': 177.79344068490107}, 'lr': {'lon': -18.39168565933123, 'lat': 179.97639428739595}}\n",
      "LANDSAT_8 ['blue', 'green', 'red', 'nir', 'swir1', 'swir2', 'pixel_qa']\n",
      "WOFS_SUMMARY ['pc']\n",
      "swir1 pixel_qa\n"
     ]
    },
    {
     "name": "stderr",
     "output_type": "stream",
     "text": [
      "[Parallel(n_jobs=2)]: Using backend ThreadingBackend with 2 concurrent workers.\n"
     ]
    },
    {
     "name": "stdout",
     "output_type": "stream",
     "text": [
      "building tree 1 of 2\n",
      "building tree 2 of 2\n"
     ]
    },
    {
     "name": "stderr",
     "output_type": "stream",
     "text": [
      "[Parallel(n_jobs=2)]: Done   2 out of   2 | elapsed:   13.1s finished\n",
      "[Parallel(n_jobs=2)]: Using backend ThreadingBackend with 2 concurrent workers.\n",
      "[Parallel(n_jobs=2)]: Done   2 out of   2 | elapsed:    4.3s finished\n",
      "[Parallel(n_jobs=2)]: Using backend ThreadingBackend with 2 concurrent workers.\n",
      "[Parallel(n_jobs=2)]: Done   2 out of   2 | elapsed:    4.3s finished\n"
     ]
    },
    {
     "name": "stdout",
     "output_type": "stream",
     "text": [
      "Preparing scene LC08_L1TP_074072_20190505_mlwater\n",
      "Scene path ../data/LC08_L1TP_074072_20190505_tmp/LC08_L1TP_074072_20190505_mlwater/\n",
      "{'watermask': {'path': 'LC08_L1TP_074072_20190505_watermask.tif'}, 'waterprob': {'path': 'LC08_L1TP_074072_20190505_waterprob.tif'}}\n",
      "{'spatial_reference': 'PROJCS[\"WGS 84 / UTM zone 60N\",GEOGCS[\"WGS 84\",DATUM[\"WGS_1984\",SPHEROID[\"WGS 84\",6378137,298.257223563,AUTHORITY[\"EPSG\",\"7030\"]],AUTHORITY[\"EPSG\",\"6326\"]],PRIMEM[\"Greenwich\",0,AUTHORITY[\"EPSG\",\"8901\"]],UNIT[\"degree\",0.0174532925199433,AUTHORITY[\"EPSG\",\"9122\"]],AUTHORITY[\"EPSG\",\"4326\"]],PROJECTION[\"Transverse_Mercator\"],PARAMETER[\"latitude_of_origin\",0],PARAMETER[\"central_meridian\",177],PARAMETER[\"scale_factor\",0.9996],PARAMETER[\"false_easting\",500000],PARAMETER[\"false_northing\",0],UNIT[\"metre\",1,AUTHORITY[\"EPSG\",\"9001\"]],AXIS[\"Easting\",EAST],AXIS[\"Northing\",NORTH],AUTHORITY[\"EPSG\",\"32660\"]]', 'geo_ref_points': {'ul': {'x': 582600.0, 'y': -1801800.0}, 'ur': {'x': 813300.0, 'y': -1801800.0}, 'll': {'x': 582600.0, 'y': -2036100.0}, 'lr': {'x': 813300.0, 'y': -2036100.0}}} {'ul': {'lon': -16.29569189609128, 'lat': 177.77315085185273}, 'ur': {'lon': -16.27678675001895, 'lat': 179.93125327285904}, 'll': {'lon': -18.413385808196097, 'lat': 177.78207955135795}, 'lr': {'lon': -18.391863009476555, 'lat': 179.96504884041676}}\n",
      "LANDSAT_8 ['blue', 'green', 'red', 'nir', 'swir1', 'swir2', 'pixel_qa']\n",
      "WOFS_SUMMARY ['pc']\n",
      "swir1 pixel_qa\n"
     ]
    },
    {
     "name": "stderr",
     "output_type": "stream",
     "text": [
      "[Parallel(n_jobs=2)]: Using backend ThreadingBackend with 2 concurrent workers.\n"
     ]
    },
    {
     "name": "stdout",
     "output_type": "stream",
     "text": [
      "building tree 1 of 2\n",
      "building tree 2 of 2\n"
     ]
    },
    {
     "name": "stderr",
     "output_type": "stream",
     "text": [
      "[Parallel(n_jobs=2)]: Done   2 out of   2 | elapsed:   24.8s finished\n",
      "[Parallel(n_jobs=2)]: Using backend ThreadingBackend with 2 concurrent workers.\n",
      "[Parallel(n_jobs=2)]: Done   2 out of   2 | elapsed:    4.4s finished\n",
      "[Parallel(n_jobs=2)]: Using backend ThreadingBackend with 2 concurrent workers.\n",
      "[Parallel(n_jobs=2)]: Done   2 out of   2 | elapsed:    4.4s finished\n"
     ]
    },
    {
     "name": "stdout",
     "output_type": "stream",
     "text": [
      "Preparing scene LC08_L1TP_074072_20190521_mlwater\n",
      "Scene path ../data/LC08_L1TP_074072_20190521_tmp/LC08_L1TP_074072_20190521_mlwater/\n",
      "{'watermask': {'path': 'LC08_L1TP_074072_20190521_watermask.tif'}, 'waterprob': {'path': 'LC08_L1TP_074072_20190521_waterprob.tif'}}\n",
      "{'spatial_reference': 'PROJCS[\"WGS 84 / UTM zone 60N\",GEOGCS[\"WGS 84\",DATUM[\"WGS_1984\",SPHEROID[\"WGS 84\",6378137,298.257223563,AUTHORITY[\"EPSG\",\"7030\"]],AUTHORITY[\"EPSG\",\"6326\"]],PRIMEM[\"Greenwich\",0,AUTHORITY[\"EPSG\",\"8901\"]],UNIT[\"degree\",0.0174532925199433,AUTHORITY[\"EPSG\",\"9122\"]],AUTHORITY[\"EPSG\",\"4326\"]],PROJECTION[\"Transverse_Mercator\"],PARAMETER[\"latitude_of_origin\",0],PARAMETER[\"central_meridian\",177],PARAMETER[\"scale_factor\",0.9996],PARAMETER[\"false_easting\",500000],PARAMETER[\"false_northing\",0],UNIT[\"metre\",1,AUTHORITY[\"EPSG\",\"9001\"]],AXIS[\"Easting\",EAST],AXIS[\"Northing\",NORTH],AUTHORITY[\"EPSG\",\"32660\"]]', 'geo_ref_points': {'ul': {'x': 581700.0, 'y': -1801800.0}, 'ur': {'x': 812400.0, 'y': -1801800.0}, 'll': {'x': 581700.0, 'y': -2036100.0}, 'lr': {'x': 812400.0, 'y': -2036100.0}}} {'ul': {'lon': -16.29572253369497, 'lat': 177.76472723549833}, 'ur': {'lon': -16.27690319778178, 'lat': 179.92284075136965}, 'll': {'lon': -18.413420688439892, 'lat': 177.77355867886865}, 'lr': {'lon': -18.391995579061017, 'lat': 179.9565396707704}}\n",
      "LANDSAT_8 ['blue', 'green', 'red', 'nir', 'swir1', 'swir2', 'pixel_qa']\n",
      "WOFS_SUMMARY ['pc']\n",
      "swir1 pixel_qa\n"
     ]
    },
    {
     "name": "stderr",
     "output_type": "stream",
     "text": [
      "[Parallel(n_jobs=2)]: Using backend ThreadingBackend with 2 concurrent workers.\n"
     ]
    },
    {
     "name": "stdout",
     "output_type": "stream",
     "text": [
      "building tree 1 of 2\n",
      "building tree 2 of 2\n"
     ]
    },
    {
     "name": "stderr",
     "output_type": "stream",
     "text": [
      "[Parallel(n_jobs=2)]: Done   2 out of   2 | elapsed:   14.4s finished\n",
      "[Parallel(n_jobs=2)]: Using backend ThreadingBackend with 2 concurrent workers.\n",
      "[Parallel(n_jobs=2)]: Done   2 out of   2 | elapsed:    4.3s finished\n",
      "[Parallel(n_jobs=2)]: Using backend ThreadingBackend with 2 concurrent workers.\n",
      "[Parallel(n_jobs=2)]: Done   2 out of   2 | elapsed:    4.5s finished\n"
     ]
    },
    {
     "name": "stdout",
     "output_type": "stream",
     "text": [
      "Preparing scene LC08_L1TP_074072_20190606_mlwater\n",
      "Scene path ../data/LC08_L1TP_074072_20190606_tmp/LC08_L1TP_074072_20190606_mlwater/\n",
      "{'watermask': {'path': 'LC08_L1TP_074072_20190606_watermask.tif'}, 'waterprob': {'path': 'LC08_L1TP_074072_20190606_waterprob.tif'}}\n",
      "{'spatial_reference': 'PROJCS[\"WGS 84 / UTM zone 60N\",GEOGCS[\"WGS 84\",DATUM[\"WGS_1984\",SPHEROID[\"WGS 84\",6378137,298.257223563,AUTHORITY[\"EPSG\",\"7030\"]],AUTHORITY[\"EPSG\",\"6326\"]],PRIMEM[\"Greenwich\",0,AUTHORITY[\"EPSG\",\"8901\"]],UNIT[\"degree\",0.0174532925199433,AUTHORITY[\"EPSG\",\"9122\"]],AUTHORITY[\"EPSG\",\"4326\"]],PROJECTION[\"Transverse_Mercator\"],PARAMETER[\"latitude_of_origin\",0],PARAMETER[\"central_meridian\",177],PARAMETER[\"scale_factor\",0.9996],PARAMETER[\"false_easting\",500000],PARAMETER[\"false_northing\",0],UNIT[\"metre\",1,AUTHORITY[\"EPSG\",\"9001\"]],AXIS[\"Easting\",EAST],AXIS[\"Northing\",NORTH],AUTHORITY[\"EPSG\",\"32660\"]]', 'geo_ref_points': {'ul': {'x': 581400.0, 'y': -1802100.0}, 'ur': {'x': 812100.0, 'y': -1802100.0}, 'll': {'x': 581400.0, 'y': -2036100.0}, 'lr': {'x': 812100.0, 'y': -2036100.0}}} {'ul': {'lon': -16.298444478671097, 'lat': 177.7619298381955}, 'ur': {'lon': -16.27965045103322, 'lat': 179.9200766573265}, 'll': {'lon': -18.413432230294212, 'lat': 177.7707183838263}, 'lr': {'lon': -18.39203968453411, 'lat': 179.95370326485067}}\n",
      "LANDSAT_8 ['blue', 'green', 'red', 'nir', 'swir1', 'swir2', 'pixel_qa']\n",
      "WOFS_SUMMARY ['pc']\n",
      "swir1 pixel_qa\n"
     ]
    },
    {
     "name": "stderr",
     "output_type": "stream",
     "text": [
      "[Parallel(n_jobs=2)]: Using backend ThreadingBackend with 2 concurrent workers.\n"
     ]
    },
    {
     "name": "stdout",
     "output_type": "stream",
     "text": [
      "building tree 1 of 2building tree 2 of 2\n",
      "\n"
     ]
    },
    {
     "name": "stderr",
     "output_type": "stream",
     "text": [
      "[Parallel(n_jobs=2)]: Done   2 out of   2 | elapsed:   36.5s finished\n",
      "[Parallel(n_jobs=2)]: Using backend ThreadingBackend with 2 concurrent workers.\n",
      "[Parallel(n_jobs=2)]: Done   2 out of   2 | elapsed:    4.5s finished\n",
      "[Parallel(n_jobs=2)]: Using backend ThreadingBackend with 2 concurrent workers.\n",
      "[Parallel(n_jobs=2)]: Done   2 out of   2 | elapsed:    4.6s finished\n"
     ]
    },
    {
     "name": "stdout",
     "output_type": "stream",
     "text": [
      "Preparing scene LC08_L1TP_074072_20190622_mlwater\n",
      "Scene path ../data/LC08_L1TP_074072_20190622_tmp/LC08_L1TP_074072_20190622_mlwater/\n",
      "{'watermask': {'path': 'LC08_L1TP_074072_20190622_watermask.tif'}, 'waterprob': {'path': 'LC08_L1TP_074072_20190622_waterprob.tif'}}\n",
      "{'spatial_reference': 'PROJCS[\"WGS 84 / UTM zone 60N\",GEOGCS[\"WGS 84\",DATUM[\"WGS_1984\",SPHEROID[\"WGS 84\",6378137,298.257223563,AUTHORITY[\"EPSG\",\"7030\"]],AUTHORITY[\"EPSG\",\"6326\"]],PRIMEM[\"Greenwich\",0,AUTHORITY[\"EPSG\",\"8901\"]],UNIT[\"degree\",0.0174532925199433,AUTHORITY[\"EPSG\",\"9122\"]],AUTHORITY[\"EPSG\",\"4326\"]],PROJECTION[\"Transverse_Mercator\"],PARAMETER[\"latitude_of_origin\",0],PARAMETER[\"central_meridian\",177],PARAMETER[\"scale_factor\",0.9996],PARAMETER[\"false_easting\",500000],PARAMETER[\"false_northing\",0],UNIT[\"metre\",1,AUTHORITY[\"EPSG\",\"9001\"]],AXIS[\"Easting\",EAST],AXIS[\"Northing\",NORTH],AUTHORITY[\"EPSG\",\"32660\"]]', 'geo_ref_points': {'ul': {'x': 582000.0, 'y': -1801800.0}, 'ur': {'x': 812700.0, 'y': -1801800.0}, 'll': {'x': 582000.0, 'y': -2036100.0}, 'lr': {'x': 812700.0, 'y': -2036100.0}}} {'ul': {'lon': -16.29571235844429, 'lat': 177.76753510961802}, 'ur': {'lon': -16.276864418925683, 'lat': 179.92564493280707}, 'll': {'lon': -18.41340910413868, 'lat': 177.77639897180987}, 'lr': {'lon': -18.39195143139338, 'lat': 179.95937606867645}}\n",
      "LANDSAT_8 ['blue', 'green', 'red', 'nir', 'swir1', 'swir2', 'pixel_qa']\n",
      "WOFS_SUMMARY ['pc']\n",
      "swir1 pixel_qa\n"
     ]
    },
    {
     "name": "stderr",
     "output_type": "stream",
     "text": [
      "[Parallel(n_jobs=2)]: Using backend ThreadingBackend with 2 concurrent workers.\n"
     ]
    },
    {
     "name": "stdout",
     "output_type": "stream",
     "text": [
      "building tree 1 of 2\n",
      "building tree 2 of 2\n"
     ]
    },
    {
     "name": "stderr",
     "output_type": "stream",
     "text": [
      "[Parallel(n_jobs=2)]: Done   2 out of   2 | elapsed:   16.2s finished\n",
      "[Parallel(n_jobs=2)]: Using backend ThreadingBackend with 2 concurrent workers.\n",
      "[Parallel(n_jobs=2)]: Done   2 out of   2 | elapsed:    4.4s finished\n",
      "[Parallel(n_jobs=2)]: Using backend ThreadingBackend with 2 concurrent workers.\n",
      "[Parallel(n_jobs=2)]: Done   2 out of   2 | elapsed:    4.3s finished\n"
     ]
    },
    {
     "name": "stdout",
     "output_type": "stream",
     "text": [
      "Preparing scene LC08_L1TP_074072_20190708_mlwater\n",
      "Scene path ../data/LC08_L1TP_074072_20190708_tmp/LC08_L1TP_074072_20190708_mlwater/\n",
      "{'watermask': {'path': 'LC08_L1TP_074072_20190708_watermask.tif'}, 'waterprob': {'path': 'LC08_L1TP_074072_20190708_waterprob.tif'}}\n",
      "{'spatial_reference': 'PROJCS[\"WGS 84 / UTM zone 60N\",GEOGCS[\"WGS 84\",DATUM[\"WGS_1984\",SPHEROID[\"WGS 84\",6378137,298.257223563,AUTHORITY[\"EPSG\",\"7030\"]],AUTHORITY[\"EPSG\",\"6326\"]],PRIMEM[\"Greenwich\",0,AUTHORITY[\"EPSG\",\"8901\"]],UNIT[\"degree\",0.0174532925199433,AUTHORITY[\"EPSG\",\"9122\"]],AUTHORITY[\"EPSG\",\"4326\"]],PROJECTION[\"Transverse_Mercator\"],PARAMETER[\"latitude_of_origin\",0],PARAMETER[\"central_meridian\",177],PARAMETER[\"scale_factor\",0.9996],PARAMETER[\"false_easting\",500000],PARAMETER[\"false_northing\",0],UNIT[\"metre\",1,AUTHORITY[\"EPSG\",\"9001\"]],AXIS[\"Easting\",EAST],AXIS[\"Northing\",NORTH],AUTHORITY[\"EPSG\",\"32660\"]]', 'geo_ref_points': {'ul': {'x': 583500.0, 'y': -1802100.0}, 'ur': {'x': 813900.0, 'y': -1802100.0}, 'll': {'x': 583500.0, 'y': -2036100.0}, 'lr': {'x': 813900.0, 'y': -2036100.0}}} {'ul': {'lon': -16.29837271735934, 'lat': 177.78158519914555}, 'ur': {'lon': -16.27941740345536, 'lat': 179.93690190764087}, 'll': {'lon': -18.413350545933916, 'lat': 177.7906004047287}, 'lr': {'lon': -18.39177441878778, 'lat': 179.97072158001035}}\n",
      "LANDSAT_8 ['blue', 'green', 'red', 'nir', 'swir1', 'swir2', 'pixel_qa']\n",
      "WOFS_SUMMARY ['pc']\n",
      "swir1 pixel_qa\n"
     ]
    },
    {
     "name": "stderr",
     "output_type": "stream",
     "text": [
      "[Parallel(n_jobs=2)]: Using backend ThreadingBackend with 2 concurrent workers.\n"
     ]
    },
    {
     "name": "stdout",
     "output_type": "stream",
     "text": [
      "building tree 1 of 2\n",
      "building tree 2 of 2\n"
     ]
    },
    {
     "name": "stderr",
     "output_type": "stream",
     "text": [
      "[Parallel(n_jobs=2)]: Done   2 out of   2 | elapsed:   12.2s finished\n",
      "[Parallel(n_jobs=2)]: Using backend ThreadingBackend with 2 concurrent workers.\n",
      "[Parallel(n_jobs=2)]: Done   2 out of   2 | elapsed:    4.3s finished\n",
      "[Parallel(n_jobs=2)]: Using backend ThreadingBackend with 2 concurrent workers.\n",
      "[Parallel(n_jobs=2)]: Done   2 out of   2 | elapsed:    4.3s finished\n"
     ]
    },
    {
     "name": "stdout",
     "output_type": "stream",
     "text": [
      "Preparing scene LC08_L1TP_074072_20190724_mlwater\n",
      "Scene path ../data/LC08_L1TP_074072_20190724_tmp/LC08_L1TP_074072_20190724_mlwater/\n",
      "{'watermask': {'path': 'LC08_L1TP_074072_20190724_watermask.tif'}, 'waterprob': {'path': 'LC08_L1TP_074072_20190724_waterprob.tif'}}\n",
      "{'spatial_reference': 'PROJCS[\"WGS 84 / UTM zone 60N\",GEOGCS[\"WGS 84\",DATUM[\"WGS_1984\",SPHEROID[\"WGS 84\",6378137,298.257223563,AUTHORITY[\"EPSG\",\"7030\"]],AUTHORITY[\"EPSG\",\"6326\"]],PRIMEM[\"Greenwich\",0,AUTHORITY[\"EPSG\",\"8901\"]],UNIT[\"degree\",0.0174532925199433,AUTHORITY[\"EPSG\",\"9122\"]],AUTHORITY[\"EPSG\",\"4326\"]],PROJECTION[\"Transverse_Mercator\"],PARAMETER[\"latitude_of_origin\",0],PARAMETER[\"central_meridian\",177],PARAMETER[\"scale_factor\",0.9996],PARAMETER[\"false_easting\",500000],PARAMETER[\"false_northing\",0],UNIT[\"metre\",1,AUTHORITY[\"EPSG\",\"9001\"]],AXIS[\"Easting\",EAST],AXIS[\"Northing\",NORTH],AUTHORITY[\"EPSG\",\"32660\"]]', 'geo_ref_points': {'ul': {'x': 584100.0, 'y': -1802100.0}, 'ur': {'x': 814800.0, 'y': -1802100.0}, 'll': {'x': 584100.0, 'y': -2036100.0}, 'lr': {'x': 814800.0, 'y': -2036100.0}}} {'ul': {'lon': -16.29835187851683, 'lat': 177.787200998347}, 'ur': {'lon': -16.27930037921953, 'lat': 179.94531442982685}, 'll': {'lon': -18.413326825528546, 'lat': 177.79628096291827}, 'lr': {'lon': -18.391641216316348, 'lat': 179.97923062899167}}\n",
      "LANDSAT_8 ['blue', 'green', 'red', 'nir', 'swir1', 'swir2', 'pixel_qa']\n",
      "WOFS_SUMMARY ['pc']\n",
      "swir1 pixel_qa\n"
     ]
    },
    {
     "name": "stderr",
     "output_type": "stream",
     "text": [
      "[Parallel(n_jobs=2)]: Using backend ThreadingBackend with 2 concurrent workers.\n"
     ]
    },
    {
     "name": "stdout",
     "output_type": "stream",
     "text": [
      "building tree 1 of 2\n",
      "building tree 2 of 2\n"
     ]
    },
    {
     "name": "stderr",
     "output_type": "stream",
     "text": [
      "[Parallel(n_jobs=2)]: Done   2 out of   2 | elapsed:   27.2s finished\n",
      "[Parallel(n_jobs=2)]: Using backend ThreadingBackend with 2 concurrent workers.\n",
      "[Parallel(n_jobs=2)]: Done   2 out of   2 | elapsed:    4.5s finished\n",
      "[Parallel(n_jobs=2)]: Using backend ThreadingBackend with 2 concurrent workers.\n",
      "[Parallel(n_jobs=2)]: Done   2 out of   2 | elapsed:    4.5s finished\n"
     ]
    },
    {
     "name": "stdout",
     "output_type": "stream",
     "text": [
      "Preparing scene LC08_L1TP_074072_20190809_mlwater\n",
      "Scene path ../data/LC08_L1TP_074072_20190809_tmp/LC08_L1TP_074072_20190809_mlwater/\n",
      "{'watermask': {'path': 'LC08_L1TP_074072_20190809_watermask.tif'}, 'waterprob': {'path': 'LC08_L1TP_074072_20190809_waterprob.tif'}}\n",
      "{'spatial_reference': 'PROJCS[\"WGS 84 / UTM zone 60N\",GEOGCS[\"WGS 84\",DATUM[\"WGS_1984\",SPHEROID[\"WGS 84\",6378137,298.257223563,AUTHORITY[\"EPSG\",\"7030\"]],AUTHORITY[\"EPSG\",\"6326\"]],PRIMEM[\"Greenwich\",0,AUTHORITY[\"EPSG\",\"8901\"]],UNIT[\"degree\",0.0174532925199433,AUTHORITY[\"EPSG\",\"9122\"]],AUTHORITY[\"EPSG\",\"4326\"]],PROJECTION[\"Transverse_Mercator\"],PARAMETER[\"latitude_of_origin\",0],PARAMETER[\"central_meridian\",177],PARAMETER[\"scale_factor\",0.9996],PARAMETER[\"false_easting\",500000],PARAMETER[\"false_northing\",0],UNIT[\"metre\",1,AUTHORITY[\"EPSG\",\"9001\"]],AXIS[\"Easting\",EAST],AXIS[\"Northing\",NORTH],AUTHORITY[\"EPSG\",\"32660\"]]', 'geo_ref_points': {'ul': {'x': 583800.0, 'y': -1801800.0}, 'ur': {'x': 814500.0, 'y': -1801800.0}, 'll': {'x': 583800.0, 'y': -2036100.0}, 'lr': {'x': 814500.0, 'y': -2036100.0}}} {'ul': {'lon': -16.295650523981987, 'lat': 177.78438231209833}, 'ur': {'lon': -16.276630967439946, 'lat': 179.94246986146783}, 'll': {'lon': -18.413338706954196, 'lat': 177.79344068490107}, 'lr': {'lon': -18.39168565933123, 'lat': 179.97639428739595}}\n",
      "LANDSAT_8 ['blue', 'green', 'red', 'nir', 'swir1', 'swir2', 'pixel_qa']\n",
      "WOFS_SUMMARY ['pc']\n",
      "swir1 pixel_qa\n"
     ]
    },
    {
     "name": "stderr",
     "output_type": "stream",
     "text": [
      "[Parallel(n_jobs=2)]: Using backend ThreadingBackend with 2 concurrent workers.\n"
     ]
    },
    {
     "name": "stdout",
     "output_type": "stream",
     "text": [
      "building tree 1 of 2\n",
      "building tree 2 of 2\n"
     ]
    },
    {
     "name": "stderr",
     "output_type": "stream",
     "text": [
      "[Parallel(n_jobs=2)]: Done   2 out of   2 | elapsed:   20.2s finished\n",
      "[Parallel(n_jobs=2)]: Using backend ThreadingBackend with 2 concurrent workers.\n",
      "[Parallel(n_jobs=2)]: Done   2 out of   2 | elapsed:    4.3s finished\n",
      "[Parallel(n_jobs=2)]: Using backend ThreadingBackend with 2 concurrent workers.\n",
      "[Parallel(n_jobs=2)]: Done   2 out of   2 | elapsed:    5.0s finished\n"
     ]
    },
    {
     "name": "stdout",
     "output_type": "stream",
     "text": [
      "Preparing scene LC08_L1TP_074072_20190825_mlwater\n",
      "Scene path ../data/LC08_L1TP_074072_20190825_tmp/LC08_L1TP_074072_20190825_mlwater/\n",
      "{'watermask': {'path': 'LC08_L1TP_074072_20190825_watermask.tif'}, 'waterprob': {'path': 'LC08_L1TP_074072_20190825_waterprob.tif'}}\n",
      "{'spatial_reference': 'PROJCS[\"WGS 84 / UTM zone 60N\",GEOGCS[\"WGS 84\",DATUM[\"WGS_1984\",SPHEROID[\"WGS 84\",6378137,298.257223563,AUTHORITY[\"EPSG\",\"7030\"]],AUTHORITY[\"EPSG\",\"6326\"]],PRIMEM[\"Greenwich\",0,AUTHORITY[\"EPSG\",\"8901\"]],UNIT[\"degree\",0.0174532925199433,AUTHORITY[\"EPSG\",\"9122\"]],AUTHORITY[\"EPSG\",\"4326\"]],PROJECTION[\"Transverse_Mercator\"],PARAMETER[\"latitude_of_origin\",0],PARAMETER[\"central_meridian\",177],PARAMETER[\"scale_factor\",0.9996],PARAMETER[\"false_easting\",500000],PARAMETER[\"false_northing\",0],UNIT[\"metre\",1,AUTHORITY[\"EPSG\",\"9001\"]],AXIS[\"Easting\",EAST],AXIS[\"Northing\",NORTH],AUTHORITY[\"EPSG\",\"32660\"]]', 'geo_ref_points': {'ul': {'x': 584100.0, 'y': -1802100.0}, 'ur': {'x': 814800.0, 'y': -1802100.0}, 'll': {'x': 584100.0, 'y': -2036100.0}, 'lr': {'x': 814800.0, 'y': -2036100.0}}} {'ul': {'lon': -16.29835187851683, 'lat': 177.787200998347}, 'ur': {'lon': -16.27930037921953, 'lat': 179.94531442982685}, 'll': {'lon': -18.413326825528546, 'lat': 177.79628096291827}, 'lr': {'lon': -18.391641216316348, 'lat': 179.97923062899167}}\n",
      "LANDSAT_8 ['blue', 'green', 'red', 'nir', 'swir1', 'swir2', 'pixel_qa']\n",
      "WOFS_SUMMARY ['pc']\n",
      "swir1 pixel_qa\n"
     ]
    },
    {
     "name": "stderr",
     "output_type": "stream",
     "text": [
      "[Parallel(n_jobs=2)]: Using backend ThreadingBackend with 2 concurrent workers.\n"
     ]
    },
    {
     "name": "stdout",
     "output_type": "stream",
     "text": [
      "building tree 1 of 2\n",
      "building tree 2 of 2\n"
     ]
    },
    {
     "name": "stderr",
     "output_type": "stream",
     "text": [
      "[Parallel(n_jobs=2)]: Done   2 out of   2 | elapsed:   16.1s finished\n",
      "[Parallel(n_jobs=2)]: Using backend ThreadingBackend with 2 concurrent workers.\n",
      "[Parallel(n_jobs=2)]: Done   2 out of   2 | elapsed:    4.3s finished\n",
      "[Parallel(n_jobs=2)]: Using backend ThreadingBackend with 2 concurrent workers.\n",
      "[Parallel(n_jobs=2)]: Done   2 out of   2 | elapsed:    4.2s finished\n"
     ]
    },
    {
     "name": "stdout",
     "output_type": "stream",
     "text": [
      "Preparing scene LC08_L1TP_074072_20190910_mlwater\n",
      "Scene path ../data/LC08_L1TP_074072_20190910_tmp/LC08_L1TP_074072_20190910_mlwater/\n",
      "{'watermask': {'path': 'LC08_L1TP_074072_20190910_watermask.tif'}, 'waterprob': {'path': 'LC08_L1TP_074072_20190910_waterprob.tif'}}\n",
      "{'spatial_reference': 'PROJCS[\"WGS 84 / UTM zone 60N\",GEOGCS[\"WGS 84\",DATUM[\"WGS_1984\",SPHEROID[\"WGS 84\",6378137,298.257223563,AUTHORITY[\"EPSG\",\"7030\"]],AUTHORITY[\"EPSG\",\"6326\"]],PRIMEM[\"Greenwich\",0,AUTHORITY[\"EPSG\",\"8901\"]],UNIT[\"degree\",0.0174532925199433,AUTHORITY[\"EPSG\",\"9122\"]],AUTHORITY[\"EPSG\",\"4326\"]],PROJECTION[\"Transverse_Mercator\"],PARAMETER[\"latitude_of_origin\",0],PARAMETER[\"central_meridian\",177],PARAMETER[\"scale_factor\",0.9996],PARAMETER[\"false_easting\",500000],PARAMETER[\"false_northing\",0],UNIT[\"metre\",1,AUTHORITY[\"EPSG\",\"9001\"]],AXIS[\"Easting\",EAST],AXIS[\"Northing\",NORTH],AUTHORITY[\"EPSG\",\"32660\"]]', 'geo_ref_points': {'ul': {'x': 584100.0, 'y': -1802100.0}, 'ur': {'x': 815100.0, 'y': -1802100.0}, 'll': {'x': 584100.0, 'y': -2036100.0}, 'lr': {'x': 815100.0, 'y': -2036100.0}}} {'ul': {'lon': -16.29835187851683, 'lat': 177.787200998347}, 'ur': {'lon': -16.27926129700365, 'lat': 179.94811858858546}, 'll': {'lon': -18.413326825528546, 'lat': 177.79628096291827}, 'lr': {'lon': -18.39159673111109, 'lat': 179.98206696251242}}\n"
     ]
    }
   ],
   "source": [
    "for i in l8_ymls[5:]:\n",
    "    mlwater(i, wofssummary_ymls[0])"
   ]
  },
  {
   "cell_type": "markdown",
   "metadata": {},
   "source": [
    "# Walkthrough"
   ]
  },
  {
   "cell_type": "code",
   "execution_count": 23,
   "metadata": {},
   "outputs": [],
   "source": [
    "optical_yaml_path = l8_ymls[1]\n",
    "# optical_yaml_path = s2_ymls[8]\n",
    "# optical_yaml_path = s1_ymls[8]\n",
    "# summary_yaml_path = wofssummary_ymls[0]"
   ]
  },
  {
   "cell_type": "code",
   "execution_count": 24,
   "metadata": {},
   "outputs": [],
   "source": [
    "# essential input vars\n",
    "s3_bucket = 'public-eo-data'\n",
    "s3_dir = 'common_sensing/fiji/mlwater_test/'\n",
    "inter_dir = '../data/'\n",
    "coast_buffer = 'common_sensing/ancillary_products/Buffers/Fiji_1kmBuffer_shp'\n",
    "\n",
    "scene_name = os.path.dirname(optical_yaml_path).split('/')[-1]\n",
    "\n",
    "inter_dir = f\"{inter_dir}{scene_name}_tmp/\"\n",
    "os.makedirs(inter_dir, exist_ok=True)\n",
    "cog_dir = f\"{inter_dir}{scene_name}/\"\n",
    "os.makedirs(cog_dir, exist_ok=True)\n",
    "\n",
    "yml = f'{inter_dir}datacube-metadata.yaml'\n",
    "yml_summary = f'{inter_dir}datacube-metadata_watersummary.yaml'\n",
    "\n",
    "des_band_refs = {\n",
    "    \"LANDSAT_8\": ['blue','green','red','nir','swir1','swir2','pixel_qa'],\n",
    "    \"LANDSAT_7\": ['blue','green','red','nir','swir1','swir2','pixel_qa'],\n",
    "    \"LANDSAT_5\": ['blue','green','red','nir','swir1','swir2','pixel_qa'],\n",
    "    \"LANDSAT_4\": ['blue','green','red','nir','swir1','swir2','pixel_qa'],\n",
    "    \"SENTINEL_2\": ['blue','green','red','nir','swir1','swir2','scene_classification'],\n",
    "    \"SENTINEL_1\": ['vv','vh','layovershadow_mask'],\n",
    "    \"WOFS_SUMMARY\": ['pc']}\n"
   ]
  },
  {
   "cell_type": "code",
   "execution_count": 25,
   "metadata": {},
   "outputs": [
    {
     "name": "stdout",
     "output_type": "stream",
     "text": [
      "LANDSAT_8 ['blue', 'green', 'red', 'nir', 'swir1', 'swir2', 'pixel_qa']\n",
      "WOFS_SUMMARY ['pc']\n",
      "swir1 pixel_qa\n"
     ]
    }
   ],
   "source": [
    "# FIND & DOWNLOAD IMAGE DATA\n",
    "if not os.path.exists(yml):\n",
    "    s3_download(s3_bucket, optical_yaml_path, yml)\n",
    "    with open (yml) as stream: yml_meta = yaml.safe_load(stream)\n",
    "    satellite = yml_meta['platform']['code'] # helper to generalise masking \n",
    "    des_bands = des_band_refs[satellite]\n",
    "    print(satellite, des_bands)\n",
    "    band_paths_s3 = [os.path.dirname(optical_yaml_path)+'/'+yml_meta['image']['bands'][b]['path'] for b in des_bands ]\n",
    "    band_paths_local = [inter_dir+os.path.basename(i) for i in band_paths_s3]\n",
    "    for s3, loc in zip(band_paths_s3, band_paths_local): \n",
    "        if not os.path.exists(loc):\n",
    "            s3_download(s3_bucket, s3, loc)\n",
    "elif os.path.exists(yml):\n",
    "    with open (yml) as stream: yml_meta = yaml.safe_load(stream)\n",
    "    satellite = yml_meta['platform']['code'] # helper to generalise masking \n",
    "    des_bands = des_band_refs[satellite]\n",
    "    print(satellite, des_bands)\n",
    "else:\n",
    "    print('boo')\n",
    "\n",
    "# FIND & DOWNLOAD WATER SUMMARY DATA\n",
    "if not os.path.exists(yml_summary):\n",
    "    s3_download(s3_bucket, summary_yaml_path, yml_summary)\n",
    "    with open (yml_summary) as stream: yml_summary_meta = yaml.safe_load(stream)\n",
    "    summary = yml_summary_meta['platform']['code']\n",
    "    des_bands_summary = des_band_refs[summary]\n",
    "    print(summary, des_bands_summary)\n",
    "    band_paths_s3 = [os.path.dirname(summary_yaml_path)+'/'+yml_summary_meta['image']['bands'][b]['path'] for b in des_bands_summary ]\n",
    "    band_paths_local = [inter_dir+os.path.basename(i) for i in band_paths_s3]\n",
    "    for s3, loc in zip(band_paths_s3, band_paths_local): \n",
    "        if not os.path.exists(loc):\n",
    "            s3_download(s3_bucket, s3, loc)\n",
    "elif os.path.exists(yml_summary):\n",
    "    s3_download(s3_bucket, summary_yaml_path, yml_summary)\n",
    "    with open (yml_summary) as stream: yml_summary_meta = yaml.safe_load(stream)\n",
    "    summary = yml_summary_meta['platform']['code']\n",
    "    des_bands_summary = des_band_refs[summary]\n",
    "    print(summary, des_bands_summary)\n",
    "    band_paths_s3 = [os.path.dirname(summary_yaml_path)+'/'+yml_summary_meta['image']['bands'][b]['path'] for b in des_bands_summary ]\n",
    "    band_paths_local = [inter_dir+os.path.basename(i) for i in band_paths_s3]\n",
    "    for s3, loc in zip(band_paths_s3, band_paths_local): \n",
    "        if not os.path.exists(loc):\n",
    "            s3_download(s3_bucket, s3, loc)\n",
    "else:\n",
    "    print('boo')\n",
    "\n",
    "ref_channel = get_ref_channel(satellite)\n",
    "qa_channel = get_qa_channel(satellite)\n",
    "print(ref_channel, qa_channel)"
   ]
  },
  {
   "cell_type": "code",
   "execution_count": 26,
   "metadata": {},
   "outputs": [
    {
     "data": {
      "text/plain": [
       "('WOFS_SUMMARY', ['pc'], 'swir1')"
      ]
     },
     "execution_count": 26,
     "metadata": {},
     "output_type": "execute_result"
    }
   ],
   "source": [
    "summary, des_bands_summary, ref_channel"
   ]
  },
  {
   "cell_type": "code",
   "execution_count": 27,
   "metadata": {},
   "outputs": [],
   "source": [
    "# LOAD & PREP IMAGE DATA\n",
    "o_bands_data = [ xr.open_rasterio(inter_dir + yml_meta['image']['bands'][b]['path']) for b in des_bands ] # loading\n",
    "o_bands_data = [ resamp_bands(i, o_bands_data) for i in o_bands_data ] # resamp 2 match band 1\n",
    "bands_data = xr.merge([rename_bands(bd, des_bands, i) for i,bd in enumerate(o_bands_data)]).rename({'band': 'time'}) # ensure band names & dims consistent\n",
    "bands_data = bands_data.assign_attrs(o_bands_data[0].attrs) # crs etc. needed later\n",
    "bands_data['time'] = [datetime.strptime(yml_meta['extent']['center_dt'], '%Y-%m-%d %H:%M:%S')] # time dim needed for wofs\n",
    "\n",
    "img_data = bands_data.isel(time = 0).drop(['time'])\n",
    "bands_data = None\n",
    "o_bands_data = None"
   ]
  },
  {
   "cell_type": "code",
   "execution_count": 28,
   "metadata": {},
   "outputs": [],
   "source": [
    "# LOAD & PREP WATER SUMMARY DATA\n",
    "o_bands_data = [ xr.open_rasterio(inter_dir + yml_summary_meta['image']['bands'][b]['path']) for b in des_bands_summary ] # loading\n",
    "o_bands_data = [ resamp_bands(i, o_bands_data) for i in o_bands_data ]\n",
    "sum_data = xr.merge([rename_bands(bd, des_bands_summary, i) for i,bd in enumerate(o_bands_data)]).rename({'band': 'time'}) # ensure band names & dims consistent\n",
    "sum_data = sum_data.assign_attrs(o_bands_data[0].attrs) # crs etc. needed later\n",
    "sum_data['time'] = [datetime.strptime(yml_summary_meta['extent']['center_dt'], '%Y-%m-%d %H:%M:%S')] # time dim needed for wofs\n",
    "\n",
    "class_data = sum_data.isel(time = 0).drop(['time']).pc\n",
    "sum_data = None\n",
    "o_bands_data = None"
   ]
  },
  {
   "cell_type": "code",
   "execution_count": 29,
   "metadata": {},
   "outputs": [],
   "source": [
    "# REPROJECT & ALIGN CRS+DIMS\n",
    "class_data = class_data.rio.reproject_match(img_data[ref_channel]) # repro + align grid\n",
    "img_data, class_data = xr.align(img_data, class_data, join=\"override\") # force alignment of x,y precision"
   ]
  },
  {
   "cell_type": "code",
   "execution_count": 30,
   "metadata": {},
   "outputs": [],
   "source": [
    "if satellite == 'SENTINEL_1': # catch s1 and scall and re-fromat dtype\n",
    "    att = img_data.attrs\n",
    "    img_data = img_data*100\n",
    "    img_data = img_data.astype('int16')\n",
    "    img_data.attrs = att"
   ]
  },
  {
   "cell_type": "code",
   "execution_count": 31,
   "metadata": {},
   "outputs": [],
   "source": [
    "# VALID REGION MASKS\n",
    "clearskymask_img = get_valid(img_data, satellite) # img nd mask\n",
    "clearskymask_class = get_valid(class_data, summary) # water nd mask\n",
    "clearskymask_train = clearskymask_class.where(clearskymask_class == False, False) # empty mask\n",
    "clearskymask_train = clearskymask_train.where((clearskymask_img == False) | (clearskymask_class == False), True) # inner true mask"
   ]
  },
  {
   "cell_type": "code",
   "execution_count": 32,
   "metadata": {},
   "outputs": [],
   "source": [
    "# ASSIGN WATER/NON WATER CLASS LABELS\n",
    "water_thresh = 50 # 50% persistence in annual summary\n",
    "class_data = class_data.where((class_data < water_thresh) | (clearskymask_class == False), 100) # fix > prob to water\n",
    "class_data = class_data.where((class_data >= water_thresh) | (clearskymask_class == False), 0) # fix < prob to no water "
   ]
  },
  {
   "cell_type": "code",
   "execution_count": 33,
   "metadata": {},
   "outputs": [],
   "source": [
    "# MASK TO TRAINING SAMPLES W/ IMPUTED ND\n",
    "train_data = img_data # dup as use img 4 implementation later\n",
    "train_data['waterclass'] = class_data # add channel for water mask\n",
    "train_data = train_data.where(clearskymask_train == True, -9999).drop([qa_channel]) # apply inner mask"
   ]
  },
  {
   "cell_type": "code",
   "execution_count": 34,
   "metadata": {},
   "outputs": [],
   "source": [
    "unique, counts = np.unique(train_data.waterclass, return_counts=True)\n",
    "\n",
    "if (counts[0] < 500) | (counts[1] < 5000):\n",
    "    raise Exception(f'no class labels should be >5000 for ok classifier. no. training class samples: {counts[0]}{counts[1]}')"
   ]
  },
  {
   "cell_type": "code",
   "execution_count": 35,
   "metadata": {},
   "outputs": [
    {
     "name": "stderr",
     "output_type": "stream",
     "text": [
      "[Parallel(n_jobs=2)]: Using backend ThreadingBackend with 2 concurrent workers.\n"
     ]
    },
    {
     "name": "stdout",
     "output_type": "stream",
     "text": [
      "building tree 1 of 2building tree 2 of 2\n",
      "\n"
     ]
    },
    {
     "name": "stderr",
     "output_type": "stream",
     "text": [
      "[Parallel(n_jobs=2)]: Done   2 out of   2 | elapsed:   32.3s finished\n"
     ]
    },
    {
     "data": {
      "text/plain": [
       "RandomForestClassifier(bootstrap=True, ccp_alpha=0.0, class_weight=None,\n",
       "                       criterion='gini', max_depth=5, max_features='sqrt',\n",
       "                       max_leaf_nodes=None, max_samples=None,\n",
       "                       min_impurity_decrease=0.0, min_impurity_split=None,\n",
       "                       min_samples_leaf=1, min_samples_split=2,\n",
       "                       min_weight_fraction_leaf=0.0, n_estimators=2, n_jobs=2,\n",
       "                       oob_score=False, random_state=None, verbose=2,\n",
       "                       warm_start=False)"
      ]
     },
     "execution_count": 35,
     "metadata": {},
     "output_type": "execute_result"
    }
   ],
   "source": [
    "# SPEC & TRAIN MODEL\n",
    "Y = train_data.waterclass.stack(z=['x','y']) # stack into 1-d arr\n",
    "X = train_data.drop(['waterclass']).stack(z=['x','y']).to_array().transpose() # stack into transposed 2-d arr\n",
    "\n",
    "# very shallow classifier - this is a super easy problem & we want it to be fast\n",
    "wrapper = wrap(RandomForestClassifier(n_estimators=4, \n",
    "                               bootstrap = True,\n",
    "                               max_features = 'sqrt',\n",
    "                               max_depth=5,\n",
    "                               n_jobs=2,\n",
    "                               verbose=2\n",
    "                              ))\n",
    "wrapper.estimator.fit(X, Y) # do training"
   ]
  },
  {
   "cell_type": "code",
   "execution_count": 36,
   "metadata": {},
   "outputs": [],
   "source": [
    "# MASK TO FULL VALID IMAGE FOR IMPLEMENTATION\n",
    "img_data = img_data.drop([qa_channel,'waterclass']) # not sure how these ended up in here(?)\n",
    "img_data = img_data.where(clearskymask_img == True, -9999) # apply just the img mask this time"
   ]
  },
  {
   "cell_type": "code",
   "execution_count": 37,
   "metadata": {},
   "outputs": [
    {
     "name": "stderr",
     "output_type": "stream",
     "text": [
      "[Parallel(n_jobs=2)]: Using backend ThreadingBackend with 2 concurrent workers.\n",
      "[Parallel(n_jobs=2)]: Done   2 out of   2 | elapsed:    4.5s finished\n",
      "[Parallel(n_jobs=2)]: Using backend ThreadingBackend with 2 concurrent workers.\n",
      "[Parallel(n_jobs=2)]: Done   2 out of   2 | elapsed:    4.4s finished\n"
     ]
    }
   ],
   "source": [
    "# PREDICT + ASSIGN CONFIDENCE\n",
    "X = img_data.stack(z=['x','y']).to_array().transpose() # stack into transposed 2-d arr\n",
    "\n",
    "pred = wrapper.estimator.predict(X) # gen class predictions\n",
    "pred[pred==100] = 1\n",
    "prob = wrapper.estimator.predict_proba(X)[:,1]*100 # gen confidence in assigned labels as int"
   ]
  },
  {
   "cell_type": "code",
   "execution_count": 38,
   "metadata": {},
   "outputs": [],
   "source": [
    "# RESHAPE OUTPUTS INTO IMAGE\n",
    "vars_0 = [i for i in X.transpose().to_dataset(dim='variable').data_vars] # get list of vars within img\n",
    "X_t = X.transpose().to_dataset(dim='variable') # recreate xrds (but no unstacking yet as need to drop in model outputs)\n",
    "X_t[vars_0[0]].data = pred # add class predictions as first channel\n",
    "X_t[vars_0[2]].data = prob # add confidence as second channel\n",
    "X_t = X_t.rename({vars_0[0]:'water_mask',vars_0[1]:'water_prob'}).drop(vars_0[2:]).unstack('z').transpose().astype('int16') # rename + drop vars + unstack xy dims back to 3-d xrds + transpose predictions back into correct orientation\n",
    "X_t = X_t.where(clearskymask_img,-9999) # ensure probs rm 4 nd regions\n",
    "X_t.attrs = img_data.attrs"
   ]
  },
  {
   "cell_type": "code",
   "execution_count": 39,
   "metadata": {},
   "outputs": [],
   "source": [
    "inter_prodir = inter_dir + scene_name + '_mlwater/'\n",
    "os.makedirs(inter_prodir, exist_ok=True)\n",
    "out_mask_prod = inter_prodir + scene_name + '_watermask.tif'\n",
    "out_prob_prod = inter_prodir + scene_name + '_waterprob.tif'\n",
    "output_crs = f\"EPSG:{X_t.attrs['crs'].split(':')[-1]}\"\n",
    "export_xarray_to_geotiff(X_t, out_mask_prod, bands=['water_mask'], crs=output_crs, x_coord='x', y_coord='y', no_data=-9999)\n",
    "export_xarray_to_geotiff(X_t, out_prob_prod, bands=['water_prob'], crs=output_crs, x_coord='x', y_coord='y', no_data=-9999)"
   ]
  },
  {
   "cell_type": "code",
   "execution_count": null,
   "metadata": {},
   "outputs": [],
   "source": [
    "create_yaml(inter_prodir, yaml_prep_water(inter_prodir, yml_meta)) # assumes majority of meta copied from original product yml"
   ]
  },
  {
   "cell_type": "code",
   "execution_count": null,
   "metadata": {},
   "outputs": [],
   "source": [
    "s3_upload_cogs(glob.glob(f'{inter_prodir}*'), s3_bucket, s3_dir)"
   ]
  },
  {
   "cell_type": "code",
   "execution_count": null,
   "metadata": {},
   "outputs": [],
   "source": [
    "# Index\n",
    "cmd = f'python3 ./utils/dataset_index_from_s3_bucket.py {s3_bucket} -p {s3_dir}{scene_name + \"_mlwater\"}/ --endpoint_url=\"http://s3-uk-1.sa-catapult.co.uk\" --unsigned_requests --start_date 1960-01-01 --end_date 2030-01-01'\n",
    "p = Popen(cmd, shell=True, stdin=PIPE, stdout=PIPE, stderr=STDOUT, close_fds=True)\n",
    "out = p.stdout.read()\n",
    "print(out)"
   ]
  },
  {
   "cell_type": "code",
   "execution_count": null,
   "metadata": {},
   "outputs": [],
   "source": []
  },
  {
   "cell_type": "code",
   "execution_count": null,
   "metadata": {},
   "outputs": [],
   "source": []
  },
  {
   "cell_type": "code",
   "execution_count": null,
   "metadata": {},
   "outputs": [],
   "source": [
    "fig, ax = plt.subplots(figsize=(50,50))\n",
    "ax.imshow(img_data.where(clearskymask_img)[ref_channel])"
   ]
  },
  {
   "cell_type": "code",
   "execution_count": null,
   "metadata": {},
   "outputs": [],
   "source": [
    "fig, ax = plt.subplots(figsize=(50,50))\n",
    "ax.imshow(X_t.where(X_t.water_mask>=0).water_mask)"
   ]
  },
  {
   "cell_type": "code",
   "execution_count": null,
   "metadata": {},
   "outputs": [],
   "source": [
    "fig, ax = plt.subplots(figsize=(50,50))\n",
    "ax.imshow(X_t.where(X_t.water_prob>=0).water_prob)"
   ]
  },
  {
   "cell_type": "code",
   "execution_count": null,
   "metadata": {},
   "outputs": [],
   "source": []
  },
  {
   "cell_type": "code",
   "execution_count": null,
   "metadata": {},
   "outputs": [],
   "source": []
  }
 ],
 "metadata": {
  "kernelspec": {
   "display_name": "Python 3",
   "language": "python",
   "name": "python3"
  },
  "language_info": {
   "codemirror_mode": {
    "name": "ipython",
    "version": 3
   },
   "file_extension": ".py",
   "mimetype": "text/x-python",
   "name": "python",
   "nbconvert_exporter": "python",
   "pygments_lexer": "ipython3",
   "version": "3.7.4"
  }
 },
 "nbformat": 4,
 "nbformat_minor": 4
}
