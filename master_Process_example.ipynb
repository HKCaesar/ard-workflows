{
 "cells": [
  {
   "cell_type": "code",
   "execution_count": 1,
   "metadata": {},
   "outputs": [],
   "source": [
    "%load_ext autoreload\n",
    "%autoreload 2\n",
    "%matplotlib inline"
   ]
  },
  {
   "cell_type": "markdown",
   "metadata": {},
   "source": [
    "Need to have...\n",
    "- Separated into L1C prepare vs L2A prepare\n",
    "- If L1C: checked availability on GCLoud "
   ]
  },
  {
   "cell_type": "code",
   "execution_count": 2,
   "metadata": {},
   "outputs": [],
   "source": [
    "import glob\n",
    "import shutil\n",
    "from datetime import datetime\n",
    "import pandas as pd\n",
    "import time\n",
    "\n",
    "from utils.prepS2 import *\n",
    "from utils.yamlUtils import *\n"
   ]
  },
  {
   "cell_type": "code",
   "execution_count": 3,
   "metadata": {},
   "outputs": [],
   "source": [
    "non_cogs_dir = \"../S2_Download/\"\n",
    "cogs_dir = \"../S2_ARD/\"\n",
    "log_file = \"./processLog.csv\"\n",
    "sen2cor_8 = \"~/Sen2Cor-02.08.00-Linux64/bin/L2A_Process\"\n",
    "sen2cor_5 = \"~/Sen2Cor-02.08.00-Linux64/bin/L2A_Process\"\n",
    "\n",
    "s3_bucket = \"public-eo-data\"\n",
    "s3_dir = \"catapult/sentinel2/\"\n",
    "aws_creds = pd.read_csv(\"../aws_creds.csv\")\n",
    "access_key = aws_creds.AWSAccessKeyId.values[0]\n",
    "secret_key = aws_creds.AWSSecretKey.values[0]"
   ]
  },
  {
   "cell_type": "code",
   "execution_count": 4,
   "metadata": {},
   "outputs": [],
   "source": [
    "des_scenes_list = [\n",
    "    \"S2A_MSIL1C_20180820T223011_N0206_R072_T60KWE_20180821T013410.SAFE\",\n",
    "    \"S2A_MSIL1C_20180820T223011_N0206_R072_T60KWF_20180821T013410.SAFE\",\n",
    "    \"S2A_MSIL1C_20180820T223011_N0206_R072_T60KXE_20180821T013410.SAFE\",\n",
    "    \"S2B_MSIL1C_20190608T221949_N0207_R029_T60KXE_20190608T233246.SAFE\",\n",
    "    \"S2B_MSIL1C_20190608T221949_N0207_R029_T60KXF_20190608T233246.SAFE\",\n",
    "    \"S2A_MSIL1C_20160930T233812_N0204_R087_T57LWK_20160930T233815.SAFE\",\n",
    "    \"S2A_MSIL1C_20160930T233812_N0204_R087_T57LXK_20160930T233815.SAFE\",\n",
    "    \"S2B_MSIL1C_20171222T234729_N0206_R130_T57LWK_20171223T005857.SAFE\",\n",
    "    \"S2B_MSIL1C_20180725T230019_N0206_R058_T58KHF_20180726T002918.SAFE\"\n",
    "    \n",
    "]"
   ]
  },
  {
   "cell_type": "code",
   "execution_count": 8,
   "metadata": {},
   "outputs": [
    {
     "data": {
      "text/plain": [
       "['da9064f8-5186-408c-8da5-3347d4ae5b76',\n",
       " '77da6be6-ddfb-4a64-ad58-085c07a6fb7f',\n",
       " '56e18fe8-d091-4540-bcff-5e1bb4f7581a',\n",
       " '132890a6-1807-49d7-a7b0-48a3331d0c8d',\n",
       " 'f95fb5bd-ae2a-4285-aa0c-066a8b92a5f4',\n",
       " '39ab4e1d-a52d-47dd-9a98-2c3fa230d0f4',\n",
       " '8ae5481e-b9b8-44fb-9cd3-2d09520a4dd9',\n",
       " '52713300-23ec-4d6d-af8b-92c1fd7bab87',\n",
       " '7b837bd6-4cca-4312-88cc-532fa4b8af76']"
      ]
     },
     "execution_count": 8,
     "metadata": {},
     "output_type": "execute_result"
    }
   ],
   "source": [
    "[find_s2_uuid(x) for x in des_scenes_list]"
   ]
  },
  {
   "cell_type": "code",
   "execution_count": null,
   "metadata": {},
   "outputs": [
    {
     "name": "stdout",
     "output_type": "stream",
     "text": [
      "Scene name: S2A_MSIL1C_20180820T223011_T60KWE\n",
      "Download scene dir: ../S2_Download/S2A_MSIL1C_20180820T223011_N0206_R072_T60KWE_20180821T013410.SAFE/\n",
      "Time: 2019-08-27 16:31:28\n",
      "ESA scene already extracted: ../S2_Download/S2A_MSIL1C_20180820T223011_N0206_R072_T60KWE_20180821T013410.SAFE/\n",
      "Time: 2019-08-27 16:31:28\n",
      "L2A temp dir: ../S2_Download/S2A_MSIL2A_20180820T223011_N0206_R072_T60KWE_20180821T013410.SAFE/\n",
      "Time: 2019-08-27 16:31:28\n",
      "COG dir: ../S2_ARD/S2A_MSIL2A_20180820T223011_T60KWE/\n",
      "cog already exists: ../S2_ARD/S2A_MSIL2A_20180820T223011_T60KWE/S2A_MSIL2A_20180820T223011_T60KWE_AOT_10m.tif\n",
      "cog already exists: ../S2_ARD/S2A_MSIL2A_20180820T223011_T60KWE/S2A_MSIL2A_20180820T223011_T60KWE_B02_10m.tif\n",
      "cog already exists: ../S2_ARD/S2A_MSIL2A_20180820T223011_T60KWE/S2A_MSIL2A_20180820T223011_T60KWE_B03_10m.tif\n",
      "cog already exists: ../S2_ARD/S2A_MSIL2A_20180820T223011_T60KWE/S2A_MSIL2A_20180820T223011_T60KWE_B04_10m.tif\n",
      "cog already exists: ../S2_ARD/S2A_MSIL2A_20180820T223011_T60KWE/S2A_MSIL2A_20180820T223011_T60KWE_B08_10m.tif\n",
      "cog already exists: ../S2_ARD/S2A_MSIL2A_20180820T223011_T60KWE/S2A_MSIL2A_20180820T223011_T60KWE_WVP_10m.tif\n",
      "cog already exists: ../S2_ARD/S2A_MSIL2A_20180820T223011_T60KWE/S2A_MSIL2A_20180820T223011_T60KWE_B05_20m.tif\n",
      "cog already exists: ../S2_ARD/S2A_MSIL2A_20180820T223011_T60KWE/S2A_MSIL2A_20180820T223011_T60KWE_B06_20m.tif\n",
      "cog already exists: ../S2_ARD/S2A_MSIL2A_20180820T223011_T60KWE/S2A_MSIL2A_20180820T223011_T60KWE_B07_20m.tif\n",
      "cog already exists: ../S2_ARD/S2A_MSIL2A_20180820T223011_T60KWE/S2A_MSIL2A_20180820T223011_T60KWE_B11_20m.tif\n",
      "cog already exists: ../S2_ARD/S2A_MSIL2A_20180820T223011_T60KWE/S2A_MSIL2A_20180820T223011_T60KWE_B12_20m.tif\n",
      "cog already exists: ../S2_ARD/S2A_MSIL2A_20180820T223011_T60KWE/S2A_MSIL2A_20180820T223011_T60KWE_B8A_20m.tif\n",
      "cog already exists: ../S2_ARD/S2A_MSIL2A_20180820T223011_T60KWE/S2A_MSIL2A_20180820T223011_T60KWE_SCL_20m.tif\n",
      "Original metadata file already copied to cog_dir: ../S2_ARD/S2A_MSIL2A_20180820T223011_T60KWE/S2A_MSIL2A_20180820T223011_T60KWE_MTD_MSIL2A.xml\n",
      "Preparing scene S2A_MSIL2A_20180820T223011_T60KWE\n",
      "Scene path ../S2_ARD/S2A_MSIL2A_20180820T223011_T60KWE/\n",
      "New uuid: 837c7b11-268b-59cf-bbd5-0fce31b29718\n",
      "Created yaml: ../S2_ARD/S2A_MSIL2A_20180820T223011_T60KWE/datacube-metadata.yaml\n",
      "Time: 2019-08-27 16:31:29\n",
      "Scene name: S2A_MSIL1C_20180820T223011_T60KWF\n",
      "Download scene dir: ../S2_Download/S2A_MSIL1C_20180820T223011_N0206_R072_T60KWF_20180821T013410.SAFE/\n",
      "Time: 2019-08-27 16:31:29\n",
      "Downloading ESA scene zip: \n"
     ]
    },
    {
     "name": "stderr",
     "output_type": "stream",
     "text": [
      "Downloading:   3%|▎         | 23.1M/744M [00:25<11:50, 1.01MB/s]"
     ]
    }
   ],
   "source": [
    "with open(log_file, 'a') as log:\n",
    "\n",
    "    for des_scene in des_scenes_list:\n",
    "        log.write(\"{},{},{}\".format(des_scene, 'Starting', str(datetime.today().strftime('%Y-%m-%d %H:%M:%S'))))\n",
    "        log.write(\"\\n\")\n",
    "        # shorten scene name\n",
    "        scene_name = des_scene[:-21]\n",
    "        scene_name = scene_name[:-17] + scene_name.split('_')[-1]\n",
    "        print ( 'Scene name: {}'.format(scene_name) )\n",
    "\n",
    "        # find uuid for download via esa hub\n",
    "        s2id = find_s2_uuid(des_scene)\n",
    "\n",
    "        down_dir = non_cogs_dir + des_scene + '/'\n",
    "        print ( 'Download scene dir: {}'.format(down_dir) )\n",
    "        print ( 'Time: {}'.format(str(datetime.today().strftime('%Y-%m-%d %H:%M:%S'))) )\n",
    "        download_s2_granule_gcloud(des_scene, non_cogs_dir)\n",
    "#         download_extract_s2_esa(s2id, non_cogs_dir, down_dir) # using esa due to gcloud metadata issues + sedas confidence\n",
    "\n",
    "        log.write(\"{},{},{}\".format(des_scene, 'Downloaded', str(datetime.today().strftime('%Y-%m-%d %H:%M:%S'))))\n",
    "        log.write(\"\\n\")\n",
    "        print ( 'Time: {}'.format(str(datetime.today().strftime('%Y-%m-%d %H:%M:%S'))) )\n",
    "\n",
    "        # process to l2a\n",
    "#         l2a_dir = down_dir.replace('_MSIL1C', '_MSIL2A')\n",
    "#         print ( 'L2A temp dir: {}'.format(l2a_dir) )\n",
    "#         if not os.path.exists(l2a_dir):\n",
    "#             sen2cor_correction(sen2cor_8, down_dir, non_cogs_dir) # May need to include try of version 2.5 before certain date - to be determined...\n",
    "\n",
    "        log.write(\"{},{},{}\".format(des_scene, 'Corrected', str(datetime.today().strftime('%Y-%m-%d %H:%M:%S'))))\n",
    "        log.write(\"\\n\")\n",
    "        print ( 'Time: {}'.format(str(datetime.today().strftime('%Y-%m-%d %H:%M:%S'))) )\n",
    "\n",
    "        # convert to cog\n",
    "        cog_dir = cogs_dir + scene_name.replace('_MSIL1C', '_MSIL2A') + '/'\n",
    "        print ( 'COG dir: {}'.format(cog_dir) )\n",
    "        conv_s2scene_cogs(l2a_dir, cog_dir, scene_name.replace('_MSIL1C', '_MSIL2A'))\n",
    "\n",
    "        log.write(\"{},{},{}\".format(des_scene, 'COGGED', str(datetime.today().strftime('%Y-%m-%d %H:%M:%S'))))\n",
    "        log.write(\"\\n\")\n",
    "        \n",
    "        copy_s2_metadata(l2a_dir, cog_dir, scene_name.replace('_MSIL1C', '_MSIL2A'))\n",
    "\n",
    "        create_yaml(cog_dir, 's2')\n",
    "\n",
    "        log.write(\"{},{},{}\".format(des_scene, 'Yamled', str(datetime.today().strftime('%Y-%m-%d %H:%M:%S'))))\n",
    "        log.write(\"\\n\")\n",
    "        \n",
    "        print ( 'Time: {}'.format(str(datetime.today().strftime('%Y-%m-%d %H:%M:%S'))) )\n",
    "\n"
   ]
  },
  {
   "cell_type": "code",
   "execution_count": null,
   "metadata": {},
   "outputs": [],
   "source": [
    "with open(log_file, 'a') as log:\n",
    "\n",
    "    for des_scene in des_scenes_list:\n",
    "        log.write(\"{},{},{}\".format(des_scene, 'Starting', str(datetime.today().strftime('%Y-%m-%d %H:%M:%S'))))\n",
    "        log.write(\"\\n\")\n",
    "        # shorten scene name\n",
    "        scene_name = des_scene[:-21]\n",
    "        scene_name = scene_name[:-17] + scene_name.split('_')[-1]\n",
    "        print ( 'Scene name: {}'.format(scene_name) )\n",
    "\n",
    "        # find uuid for download via esa hub\n",
    "        s2id = find_s2_uuid(des_scene)\n",
    "\n",
    "        down_dir = non_cogs_dir + des_scene + '/'\n",
    "        print ( 'Download scene dir: {}'.format(down_dir) )\n",
    "        print ( 'Time: {}'.format(str(datetime.today().strftime('%Y-%m-%d %H:%M:%S'))) )\n",
    "        #download_s2_granule_gcloud(des_scene, non_cogs_dir)\n",
    "        download_extract_s2_esa(s2id, non_cogs_dir, down_dir) # using esa due to gcloud metadata issues + sedas confidence\n",
    "\n",
    "        log.write(\"{},{},{}\".format(des_scene, 'Downloaded', str(datetime.today().strftime('%Y-%m-%d %H:%M:%S'))))\n",
    "        log.write(\"\\n\")\n",
    "        print ( 'Time: {}'.format(str(datetime.today().strftime('%Y-%m-%d %H:%M:%S'))) )\n",
    "\n",
    "        # process to l2a\n",
    "        l2a_dir = down_dir.replace('_MSIL1C', '_MSIL2A')\n",
    "        print ( 'L2A temp dir: {}'.format(l2a_dir) )\n",
    "        if not os.path.exists(l2a_dir):\n",
    "            sen2cor_correction(sen2cor_8, down_dir, non_cogs_dir) # May need to include try of version 2.5 before certain date - to be determined...\n",
    "\n",
    "        log.write(\"{},{},{}\".format(des_scene, 'Corrected', str(datetime.today().strftime('%Y-%m-%d %H:%M:%S'))))\n",
    "        log.write(\"\\n\")\n",
    "        print ( 'Time: {}'.format(str(datetime.today().strftime('%Y-%m-%d %H:%M:%S'))) )\n",
    "\n",
    "        # convert to cog\n",
    "        cog_dir = cogs_dir + scene_name.replace('_MSIL1C', '_MSIL2A') + '/'\n",
    "        print ( 'COG dir: {}'.format(cog_dir) )\n",
    "        conv_s2scene_cogs(l2a_dir, cog_dir, scene_name.replace('_MSIL1C', '_MSIL2A'))\n",
    "\n",
    "        log.write(\"{},{},{}\".format(des_scene, 'COGGED', str(datetime.today().strftime('%Y-%m-%d %H:%M:%S'))))\n",
    "        log.write(\"\\n\")\n",
    "        \n",
    "        copy_s2_metadata(l2a_dir, cog_dir, scene_name.replace('_MSIL1C', '_MSIL2A'))\n",
    "\n",
    "        create_yaml(cog_dir, 's2')\n",
    "\n",
    "        log.write(\"{},{},{}\".format(des_scene, 'Yamled', str(datetime.today().strftime('%Y-%m-%d %H:%M:%S'))))\n",
    "        log.write(\"\\n\")\n",
    "        \n",
    "        print ( 'Time: {}'.format(str(datetime.today().strftime('%Y-%m-%d %H:%M:%S'))) )\n",
    "\n"
   ]
  }
 ],
 "metadata": {
  "kernelspec": {
   "display_name": "Python 3",
   "language": "python",
   "name": "python3"
  },
  "language_info": {
   "codemirror_mode": {
    "name": "ipython",
    "version": 3
   },
   "file_extension": ".py",
   "mimetype": "text/x-python",
   "name": "python",
   "nbconvert_exporter": "python",
   "pygments_lexer": "ipython3",
   "version": "3.7.4"
  }
 },
 "nbformat": 4,
 "nbformat_minor": 4
}
