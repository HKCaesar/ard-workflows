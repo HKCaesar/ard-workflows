{
 "cells": [
  {
   "cell_type": "markdown",
   "metadata": {},
   "source": [
    "# Debug notebook\n",
    "This notebook is only used to troubleshoot the ML Water Classification workflow processor."
   ]
  },
  {
   "cell_type": "markdown",
   "metadata": {},
   "source": [
    "## Water Classification workflow"
   ]
  },
  {
   "cell_type": "code",
   "execution_count": 8,
   "metadata": {},
   "outputs": [],
   "source": [
    "import json\n",
    "from utils.genprepMLWater import genprepmlwater\n",
    "\n",
    "def process_scene(json_data):\n",
    "    loaded_json = json.loads(json_data)\n",
    "    #for x in loaded_json:\n",
    "    #    print(\"%s: %s\" % (x, loaded_json[x]))\n",
    "    genprepmlwater(**loaded_json)"
   ]
  },
  {
   "cell_type": "markdown",
   "metadata": {},
   "source": [
    "## Water Classification job queue processor"
   ]
  },
  {
   "cell_type": "code",
   "execution_count": 9,
   "metadata": {},
   "outputs": [
    {
     "name": "stdout",
     "output_type": "stream",
     "text": [
      "Worker with sessionID: 743eaa20-bf0c-4df9-ad73-852c081b7b2a\n",
      "Initial queue state: empty=False\n"
     ]
    }
   ],
   "source": [
    "import rediswq\n",
    "\n",
    "import os\n",
    "host = os.getenv(\"REDIS_SERVICE_HOST\", \"redis-master\")\n",
    "\n",
    "q = rediswq.RedisWQ(name=\"jobMLWater\", host=host)\n",
    "print(\"Worker with sessionID: \" +  q.sessionID())\n",
    "print(\"Initial queue state: empty=\" + str(q.empty()))"
   ]
  },
  {
   "cell_type": "code",
   "execution_count": 10,
   "metadata": {},
   "outputs": [
    {
     "name": "stderr",
     "output_type": "stream",
     "text": [
      "INFO:root:LC08_L1TP_072074_20140728 Starting\n",
      "INFO:root:LC08_L1TP_072074_20140728 Finding & Streaming Image & Labels Yamls\n",
      "INFO:root:LC08_L1TP_072074_20140728 Found & access yamls\n",
      "INFO:root:LC08_L1TP_072074_20140728 Loading & Reformatting bands\n"
     ]
    },
    {
     "name": "stdout",
     "output_type": "stream",
     "text": [
      "Working on {\"img_yml_path\": \"common_sensing/fiji/landsat_8/LC08_L1TP_072074_20140728/datacube-metadata.yaml\", \"lab_yml_path\": \"common_sensing/fiji/wofs_summary/wofssummary_20180101_20190101/datacube-metadata.yaml\", \"s3_bucket\": \"public-eo-data\", \"s3_dir\": \"tom/mlwatermasks/\"}\n"
     ]
    },
    {
     "name": "stderr",
     "output_type": "stream",
     "text": [
      "INFO:botocore.credentials:Found credentials in environment variables.\n",
      "INFO:botocore.credentials:Found credentials in environment variables.\n",
      "INFO:botocore.credentials:Found credentials in environment variables.\n",
      "INFO:botocore.credentials:Found credentials in environment variables.\n",
      "INFO:botocore.credentials:Found credentials in environment variables.\n",
      "INFO:botocore.credentials:Found credentials in environment variables.\n",
      "INFO:botocore.credentials:Found credentials in environment variables.\n",
      "INFO:botocore.credentials:Found credentials in environment variables.\n",
      "INFO:root:LC08_L1TP_072074_20140728 Applying masks\n",
      "ERROR:root:LC08_L1TP_072074_20140728 Masks not applied\n",
      "Traceback (most recent call last):\n",
      "  File \"/opt/notebooks/utils/genprepMLWater.py\", line 300, in genprepmlwater\n",
      "    if (counts[0] < 500) | (counts[1] < 5000):\n",
      "Exception: no class labels should be >5000 for ok classifier. no. training class samples: 245608344222\n",
      "ERROR:root:could not process LC08_L1TP_072074_20140728, Data formatting error\n",
      "INFO:root:LC08_L1TP_072074_20140610 Starting\n",
      "INFO:root:LC08_L1TP_072074_20140610 Finding & Streaming Image & Labels Yamls\n",
      "INFO:root:LC08_L1TP_072074_20140610 Found & access yamls\n",
      "INFO:root:LC08_L1TP_072074_20140610 Loading & Reformatting bands\n"
     ]
    },
    {
     "name": "stdout",
     "output_type": "stream",
     "text": [
      "boo\n",
      "Working on {\"img_yml_path\": \"common_sensing/fiji/landsat_8/LC08_L1TP_072074_20140610/datacube-metadata.yaml\", \"lab_yml_path\": \"common_sensing/fiji/wofs_summary/wofssummary_20180101_20190101/datacube-metadata.yaml\", \"s3_bucket\": \"public-eo-data\", \"s3_dir\": \"tom/mlwatermasks/\"}\n"
     ]
    },
    {
     "name": "stderr",
     "output_type": "stream",
     "text": [
      "INFO:botocore.credentials:Found credentials in environment variables.\n",
      "INFO:botocore.credentials:Found credentials in environment variables.\n",
      "INFO:botocore.credentials:Found credentials in environment variables.\n",
      "INFO:botocore.credentials:Found credentials in environment variables.\n",
      "INFO:botocore.credentials:Found credentials in environment variables.\n",
      "INFO:botocore.credentials:Found credentials in environment variables.\n",
      "INFO:botocore.credentials:Found credentials in environment variables.\n",
      "INFO:botocore.credentials:Found credentials in environment variables.\n",
      "INFO:root:LC08_L1TP_072074_20140610 Applying masks\n",
      "INFO:root:LC08_L1TP_072074_20140610 Training\n",
      "[Parallel(n_jobs=2)]: Using backend ThreadingBackend with 2 concurrent workers.\n"
     ]
    },
    {
     "name": "stdout",
     "output_type": "stream",
     "text": [
      "building tree 1 of 4building tree 2 of 4\n",
      "\n",
      "building tree 3 of 4\n",
      "building tree 4 of 4\n"
     ]
    },
    {
     "name": "stderr",
     "output_type": "stream",
     "text": [
      "[Parallel(n_jobs=2)]: Done   4 out of   4 | elapsed:   59.8s remaining:    0.0s\n",
      "[Parallel(n_jobs=2)]: Done   4 out of   4 | elapsed:   59.9s finished\n",
      "INFO:root:LC08_L1TP_072074_20140610 Prediction\n",
      "[Parallel(n_jobs=2)]: Using backend ThreadingBackend with 2 concurrent workers.\n",
      "[Parallel(n_jobs=2)]: Done   4 out of   4 | elapsed:    8.0s remaining:    0.0s\n",
      "[Parallel(n_jobs=2)]: Done   4 out of   4 | elapsed:    8.0s finished\n",
      "[Parallel(n_jobs=2)]: Using backend ThreadingBackend with 2 concurrent workers.\n",
      "[Parallel(n_jobs=2)]: Done   4 out of   4 | elapsed:    8.0s remaining:    0.0s\n",
      "[Parallel(n_jobs=2)]: Done   4 out of   4 | elapsed:    8.0s finished\n",
      "INFO:root:LC08_L1TP_072074_20140610 Exporting water product\n",
      "INFO:botocore.credentials:Found credentials in environment variables.\n",
      "INFO:botocore.credentials:Found credentials in environment variables.\n",
      "INFO:root:LC08_L1TP_072074_20140610 Creating yaml\n",
      "DEBUG:root:in get geometry ../tmp/data/intermediate/LC08_L1TP_072074_20140610_tmp/LC08_L1TP_072074_20140610_mlwater/LC08_L1TP_072074_20140610_watermask.tif\n",
      "INFO:botocore.credentials:Found credentials in environment variables.\n",
      "DEBUG:root:Created yaml: ../tmp/data/intermediate/LC08_L1TP_072074_20140610_tmp/LC08_L1TP_072074_20140610_mlwater/datacube-metadata.yaml\n",
      "INFO:root:LC08_L1TP_072074_20140610 Uploading to S3 Bucket\n",
      "DEBUG:root:Endpoint URL: http://s3-uk-1.sa-catapult.co.uk\n",
      "INFO:root:Local source file: ../tmp/data/intermediate/LC08_L1TP_072074_20140610_tmp/LC08_L1TP_072074_20140610_mlwater/LC08_L1TP_072074_20140610_watermask.tif\n",
      "INFO:root:S3 target file: tom/mlwatermasks/LC08_L1TP_072074_20140610_mlwater/LC08_L1TP_072074_20140610_watermask.tif\n",
      "INFO:root:Start: ../tmp/data/intermediate/LC08_L1TP_072074_20140610_tmp/LC08_L1TP_072074_20140610_mlwater/LC08_L1TP_072074_20140610_watermask.tif 2020-06-22 08:56:49\n"
     ]
    },
    {
     "name": "stdout",
     "output_type": "stream",
     "text": [
      "Preparing scene LC08_L1TP_072074_20140610_mlwater\n",
      "Scene path ../tmp/data/intermediate/LC08_L1TP_072074_20140610_tmp/LC08_L1TP_072074_20140610_mlwater/\n",
      "{'watermask': {'path': 'LC08_L1TP_072074_20140610_watermask.tif'}, 'waterprob': {'path': 'LC08_L1TP_072074_20140610_waterprob.tif'}}\n",
      "{'spatial_reference': 'PROJCS[\"WGS 84 / UTM zone 1N\",GEOGCS[\"WGS 84\",DATUM[\"WGS_1984\",SPHEROID[\"WGS 84\",6378137,298.257223563,AUTHORITY[\"EPSG\",\"7030\"]],AUTHORITY[\"EPSG\",\"6326\"]],PRIMEM[\"Greenwich\",0,AUTHORITY[\"EPSG\",\"8901\"]],UNIT[\"degree\",0.0174532925199433,AUTHORITY[\"EPSG\",\"9122\"]],AUTHORITY[\"EPSG\",\"4326\"]],PROJECTION[\"Transverse_Mercator\"],PARAMETER[\"latitude_of_origin\",0],PARAMETER[\"central_meridian\",-177],PARAMETER[\"scale_factor\",0.9996],PARAMETER[\"false_easting\",500000],PARAMETER[\"false_northing\",0],UNIT[\"metre\",1,AUTHORITY[\"EPSG\",\"9001\"]],AXIS[\"Easting\",EAST],AXIS[\"Northing\",NORTH],AUTHORITY[\"EPSG\",\"32601\"]]', 'geo_ref_points': {'ul': {'x': 206700.0, 'y': -2122500.0}, 'ur': {'x': 435000.0, 'y': -2122500.0}, 'll': {'x': 206700.0, 'y': -2353800.0}, 'lr': {'x': 435000.0, 'y': -2353800.0}}} {'ul': {'lon': -179.78875506488703, 'lat': -19.17466796804249}, 'ur': {'lon': -177.61829151080434, 'lat': -19.194825477291946}, 'll': {'lon': -179.82624151059179, 'lat': -21.262279354719137}, 'lr': {'lon': -177.62661533285794, 'lat': -21.284828983804857}}\n"
     ]
    },
    {
     "name": "stderr",
     "output_type": "stream",
     "text": [
      "INFO:root:Finish: ../tmp/data/intermediate/LC08_L1TP_072074_20140610_tmp/LC08_L1TP_072074_20140610_mlwater/LC08_L1TP_072074_20140610_watermask.tif 2020-06-22 08:57:01\n",
      "DEBUG:root:Endpoint URL: http://s3-uk-1.sa-catapult.co.uk\n",
      "INFO:root:Local source file: ../tmp/data/intermediate/LC08_L1TP_072074_20140610_tmp/LC08_L1TP_072074_20140610_mlwater/LC08_L1TP_072074_20140610_waterprob.tif\n",
      "INFO:root:S3 target file: tom/mlwatermasks/LC08_L1TP_072074_20140610_mlwater/LC08_L1TP_072074_20140610_waterprob.tif\n",
      "INFO:root:Start: ../tmp/data/intermediate/LC08_L1TP_072074_20140610_tmp/LC08_L1TP_072074_20140610_mlwater/LC08_L1TP_072074_20140610_waterprob.tif 2020-06-22 08:57:01\n",
      "INFO:root:Finish: ../tmp/data/intermediate/LC08_L1TP_072074_20140610_tmp/LC08_L1TP_072074_20140610_mlwater/LC08_L1TP_072074_20140610_waterprob.tif 2020-06-22 08:57:17\n",
      "DEBUG:root:Endpoint URL: http://s3-uk-1.sa-catapult.co.uk\n",
      "INFO:root:Local source file: ../tmp/data/intermediate/LC08_L1TP_072074_20140610_tmp/LC08_L1TP_072074_20140610_mlwater/datacube-metadata.yaml\n",
      "INFO:root:S3 target file: tom/mlwatermasks/LC08_L1TP_072074_20140610_mlwater/datacube-metadata.yaml\n",
      "INFO:root:Start: ../tmp/data/intermediate/LC08_L1TP_072074_20140610_tmp/LC08_L1TP_072074_20140610_mlwater/datacube-metadata.yaml 2020-06-22 08:57:17\n",
      "INFO:root:Finish: ../tmp/data/intermediate/LC08_L1TP_072074_20140610_tmp/LC08_L1TP_072074_20140610_mlwater/datacube-metadata.yaml 2020-06-22 08:57:17\n",
      "INFO:root:LC08_L1TP_072074_20140525 Starting\n",
      "INFO:root:LC08_L1TP_072074_20140525 Finding & Streaming Image & Labels Yamls\n",
      "INFO:root:LC08_L1TP_072074_20140525 Found & access yamls\n",
      "INFO:root:LC08_L1TP_072074_20140525 Loading & Reformatting bands\n"
     ]
    },
    {
     "name": "stdout",
     "output_type": "stream",
     "text": [
      "not boo\n",
      "Working on {\"img_yml_path\": \"common_sensing/fiji/landsat_8/LC08_L1TP_072074_20140525/datacube-metadata.yaml\", \"lab_yml_path\": \"common_sensing/fiji/wofs_summary/wofssummary_20180101_20190101/datacube-metadata.yaml\", \"s3_bucket\": \"public-eo-data\", \"s3_dir\": \"tom/mlwatermasks/\"}\n"
     ]
    },
    {
     "name": "stderr",
     "output_type": "stream",
     "text": [
      "INFO:botocore.credentials:Found credentials in environment variables.\n",
      "INFO:botocore.credentials:Found credentials in environment variables.\n",
      "INFO:botocore.credentials:Found credentials in environment variables.\n",
      "INFO:botocore.credentials:Found credentials in environment variables.\n",
      "INFO:botocore.credentials:Found credentials in environment variables.\n",
      "INFO:botocore.credentials:Found credentials in environment variables.\n",
      "INFO:botocore.credentials:Found credentials in environment variables.\n",
      "INFO:botocore.credentials:Found credentials in environment variables.\n",
      "INFO:root:LC08_L1TP_072074_20140525 Applying masks\n",
      "INFO:root:LC08_L1TP_072074_20140525 Training\n",
      "[Parallel(n_jobs=2)]: Using backend ThreadingBackend with 2 concurrent workers.\n"
     ]
    },
    {
     "name": "stdout",
     "output_type": "stream",
     "text": [
      "building tree 1 of 4building tree 2 of 4\n",
      "\n",
      "building tree 3 of 4\n",
      "building tree 4 of 4\n"
     ]
    },
    {
     "name": "stderr",
     "output_type": "stream",
     "text": [
      "[Parallel(n_jobs=2)]: Done   4 out of   4 | elapsed:   31.5s remaining:    0.0s\n",
      "[Parallel(n_jobs=2)]: Done   4 out of   4 | elapsed:   31.5s finished\n",
      "INFO:root:LC08_L1TP_072074_20140525 Prediction\n",
      "[Parallel(n_jobs=2)]: Using backend ThreadingBackend with 2 concurrent workers.\n",
      "[Parallel(n_jobs=2)]: Done   4 out of   4 | elapsed:    6.5s remaining:    0.0s\n",
      "[Parallel(n_jobs=2)]: Done   4 out of   4 | elapsed:    6.5s finished\n",
      "[Parallel(n_jobs=2)]: Using backend ThreadingBackend with 2 concurrent workers.\n",
      "[Parallel(n_jobs=2)]: Done   4 out of   4 | elapsed:    6.4s remaining:    0.0s\n",
      "[Parallel(n_jobs=2)]: Done   4 out of   4 | elapsed:    6.4s finished\n",
      "INFO:root:LC08_L1TP_072074_20140525 Exporting water product\n",
      "INFO:botocore.credentials:Found credentials in environment variables.\n",
      "INFO:botocore.credentials:Found credentials in environment variables.\n",
      "INFO:root:LC08_L1TP_072074_20140525 Creating yaml\n",
      "DEBUG:root:in get geometry ../tmp/data/intermediate/LC08_L1TP_072074_20140525_tmp/LC08_L1TP_072074_20140525_mlwater/LC08_L1TP_072074_20140525_watermask.tif\n",
      "INFO:botocore.credentials:Found credentials in environment variables.\n",
      "DEBUG:root:Created yaml: ../tmp/data/intermediate/LC08_L1TP_072074_20140525_tmp/LC08_L1TP_072074_20140525_mlwater/datacube-metadata.yaml\n",
      "INFO:root:LC08_L1TP_072074_20140525 Uploading to S3 Bucket\n",
      "DEBUG:root:Endpoint URL: http://s3-uk-1.sa-catapult.co.uk\n",
      "INFO:root:Local source file: ../tmp/data/intermediate/LC08_L1TP_072074_20140525_tmp/LC08_L1TP_072074_20140525_mlwater/LC08_L1TP_072074_20140525_waterprob.tif\n",
      "INFO:root:S3 target file: tom/mlwatermasks/LC08_L1TP_072074_20140525_mlwater/LC08_L1TP_072074_20140525_waterprob.tif\n",
      "INFO:root:Start: ../tmp/data/intermediate/LC08_L1TP_072074_20140525_tmp/LC08_L1TP_072074_20140525_mlwater/LC08_L1TP_072074_20140525_waterprob.tif 2020-06-22 08:59:48\n"
     ]
    },
    {
     "name": "stdout",
     "output_type": "stream",
     "text": [
      "Preparing scene LC08_L1TP_072074_20140525_mlwater\n",
      "Scene path ../tmp/data/intermediate/LC08_L1TP_072074_20140525_tmp/LC08_L1TP_072074_20140525_mlwater/\n",
      "{'waterprob': {'path': 'LC08_L1TP_072074_20140525_waterprob.tif'}, 'watermask': {'path': 'LC08_L1TP_072074_20140525_watermask.tif'}}\n",
      "{'spatial_reference': 'PROJCS[\"WGS 84 / UTM zone 1N\",GEOGCS[\"WGS 84\",DATUM[\"WGS_1984\",SPHEROID[\"WGS 84\",6378137,298.257223563,AUTHORITY[\"EPSG\",\"7030\"]],AUTHORITY[\"EPSG\",\"6326\"]],PRIMEM[\"Greenwich\",0,AUTHORITY[\"EPSG\",\"8901\"]],UNIT[\"degree\",0.0174532925199433,AUTHORITY[\"EPSG\",\"9122\"]],AUTHORITY[\"EPSG\",\"4326\"]],PROJECTION[\"Transverse_Mercator\"],PARAMETER[\"latitude_of_origin\",0],PARAMETER[\"central_meridian\",-177],PARAMETER[\"scale_factor\",0.9996],PARAMETER[\"false_easting\",500000],PARAMETER[\"false_northing\",0],UNIT[\"metre\",1,AUTHORITY[\"EPSG\",\"9001\"]],AXIS[\"Easting\",EAST],AXIS[\"Northing\",NORTH],AUTHORITY[\"EPSG\",\"32601\"]]', 'geo_ref_points': {'ul': {'x': 207900.0, 'y': -2122500.0}, 'ur': {'x': 436200.0, 'y': -2122500.0}, 'll': {'x': 207900.0, 'y': -2353800.0}, 'lr': {'x': 436200.0, 'y': -2353800.0}}} {'ul': {'lon': -179.77735519433097, 'lat': -19.17484092233957}, 'ur': {'lon': -177.60687737807083, 'lat': -19.19486359897818}, 'll': {'lon': -179.81468889408183, 'lat': -21.262472830880736}, 'lr': {'lon': -177.6150475596955, 'lat': -21.284871630083202}}\n"
     ]
    },
    {
     "name": "stderr",
     "output_type": "stream",
     "text": [
      "INFO:root:Finish: ../tmp/data/intermediate/LC08_L1TP_072074_20140525_tmp/LC08_L1TP_072074_20140525_mlwater/LC08_L1TP_072074_20140525_waterprob.tif 2020-06-22 08:59:59\n",
      "DEBUG:root:Endpoint URL: http://s3-uk-1.sa-catapult.co.uk\n",
      "INFO:root:Local source file: ../tmp/data/intermediate/LC08_L1TP_072074_20140525_tmp/LC08_L1TP_072074_20140525_mlwater/datacube-metadata.yaml\n",
      "INFO:root:S3 target file: tom/mlwatermasks/LC08_L1TP_072074_20140525_mlwater/datacube-metadata.yaml\n",
      "INFO:root:Start: ../tmp/data/intermediate/LC08_L1TP_072074_20140525_tmp/LC08_L1TP_072074_20140525_mlwater/datacube-metadata.yaml 2020-06-22 09:00:00\n",
      "INFO:root:Finish: ../tmp/data/intermediate/LC08_L1TP_072074_20140525_tmp/LC08_L1TP_072074_20140525_mlwater/datacube-metadata.yaml 2020-06-22 09:00:00\n",
      "DEBUG:root:Endpoint URL: http://s3-uk-1.sa-catapult.co.uk\n",
      "INFO:root:Local source file: ../tmp/data/intermediate/LC08_L1TP_072074_20140525_tmp/LC08_L1TP_072074_20140525_mlwater/LC08_L1TP_072074_20140525_watermask.tif\n",
      "INFO:root:S3 target file: tom/mlwatermasks/LC08_L1TP_072074_20140525_mlwater/LC08_L1TP_072074_20140525_watermask.tif\n",
      "INFO:root:Start: ../tmp/data/intermediate/LC08_L1TP_072074_20140525_tmp/LC08_L1TP_072074_20140525_mlwater/LC08_L1TP_072074_20140525_watermask.tif 2020-06-22 09:00:00\n",
      "INFO:root:Finish: ../tmp/data/intermediate/LC08_L1TP_072074_20140525_tmp/LC08_L1TP_072074_20140525_mlwater/LC08_L1TP_072074_20140525_watermask.tif 2020-06-22 09:00:10\n",
      "INFO:root:LC08_L1TP_072074_20140509 Starting\n",
      "INFO:root:LC08_L1TP_072074_20140509 Finding & Streaming Image & Labels Yamls\n",
      "INFO:root:LC08_L1TP_072074_20140509 Found & access yamls\n",
      "INFO:root:LC08_L1TP_072074_20140509 Loading & Reformatting bands\n"
     ]
    },
    {
     "name": "stdout",
     "output_type": "stream",
     "text": [
      "not boo\n",
      "Working on {\"img_yml_path\": \"common_sensing/fiji/landsat_8/LC08_L1TP_072074_20140509/datacube-metadata.yaml\", \"lab_yml_path\": \"common_sensing/fiji/wofs_summary/wofssummary_20180101_20190101/datacube-metadata.yaml\", \"s3_bucket\": \"public-eo-data\", \"s3_dir\": \"tom/mlwatermasks/\"}\n"
     ]
    },
    {
     "name": "stderr",
     "output_type": "stream",
     "text": [
      "INFO:botocore.credentials:Found credentials in environment variables.\n",
      "INFO:botocore.credentials:Found credentials in environment variables.\n",
      "INFO:botocore.credentials:Found credentials in environment variables.\n",
      "INFO:botocore.credentials:Found credentials in environment variables.\n",
      "INFO:botocore.credentials:Found credentials in environment variables.\n",
      "INFO:botocore.credentials:Found credentials in environment variables.\n",
      "INFO:botocore.credentials:Found credentials in environment variables.\n",
      "INFO:botocore.credentials:Found credentials in environment variables.\n",
      "INFO:root:LC08_L1TP_072074_20140509 Applying masks\n",
      "ERROR:root:LC08_L1TP_072074_20140509 Masks not applied\n",
      "Traceback (most recent call last):\n",
      "  File \"/opt/notebooks/utils/genprepMLWater.py\", line 300, in genprepmlwater\n",
      "    if (counts[0] < 500) | (counts[1] < 5000):\n",
      "Exception: no class labels should be >5000 for ok classifier. no. training class samples: 228369024473\n",
      "ERROR:root:could not process LC08_L1TP_072074_20140509, Data formatting error\n",
      "INFO:root:LC08_L1TP_072074_20140423 Starting\n",
      "INFO:root:LC08_L1TP_072074_20140423 Finding & Streaming Image & Labels Yamls\n",
      "INFO:root:LC08_L1TP_072074_20140423 Found & access yamls\n",
      "INFO:root:LC08_L1TP_072074_20140423 Loading & Reformatting bands\n"
     ]
    },
    {
     "name": "stdout",
     "output_type": "stream",
     "text": [
      "boo\n",
      "Working on {\"img_yml_path\": \"common_sensing/fiji/landsat_8/LC08_L1TP_072074_20140423/datacube-metadata.yaml\", \"lab_yml_path\": \"common_sensing/fiji/wofs_summary/wofssummary_20180101_20190101/datacube-metadata.yaml\", \"s3_bucket\": \"public-eo-data\", \"s3_dir\": \"tom/mlwatermasks/\"}\n"
     ]
    },
    {
     "name": "stderr",
     "output_type": "stream",
     "text": [
      "INFO:botocore.credentials:Found credentials in environment variables.\n",
      "INFO:botocore.credentials:Found credentials in environment variables.\n",
      "INFO:botocore.credentials:Found credentials in environment variables.\n",
      "INFO:botocore.credentials:Found credentials in environment variables.\n",
      "INFO:botocore.credentials:Found credentials in environment variables.\n",
      "INFO:botocore.credentials:Found credentials in environment variables.\n",
      "INFO:botocore.credentials:Found credentials in environment variables.\n",
      "INFO:botocore.credentials:Found credentials in environment variables.\n",
      "INFO:root:LC08_L1TP_072074_20140423 Applying masks\n",
      "ERROR:root:LC08_L1TP_072074_20140423 Masks not applied\n",
      "Traceback (most recent call last):\n",
      "  File \"/opt/notebooks/utils/genprepMLWater.py\", line 300, in genprepmlwater\n",
      "    if (counts[0] < 500) | (counts[1] < 5000):\n",
      "Exception: no class labels should be >5000 for ok classifier. no. training class samples: 382363793876\n",
      "ERROR:root:could not process LC08_L1TP_072074_20140423, Data formatting error\n",
      "INFO:root:LC08_L1TP_072074_20140322 Starting\n",
      "INFO:root:LC08_L1TP_072074_20140322 Finding & Streaming Image & Labels Yamls\n",
      "INFO:root:LC08_L1TP_072074_20140322 Found & access yamls\n",
      "INFO:root:LC08_L1TP_072074_20140322 Loading & Reformatting bands\n"
     ]
    },
    {
     "name": "stdout",
     "output_type": "stream",
     "text": [
      "boo\n",
      "Working on {\"img_yml_path\": \"common_sensing/fiji/landsat_8/LC08_L1TP_072074_20140322/datacube-metadata.yaml\", \"lab_yml_path\": \"common_sensing/fiji/wofs_summary/wofssummary_20180101_20190101/datacube-metadata.yaml\", \"s3_bucket\": \"public-eo-data\", \"s3_dir\": \"tom/mlwatermasks/\"}\n"
     ]
    },
    {
     "name": "stderr",
     "output_type": "stream",
     "text": [
      "INFO:botocore.credentials:Found credentials in environment variables.\n",
      "INFO:botocore.credentials:Found credentials in environment variables.\n",
      "INFO:botocore.credentials:Found credentials in environment variables.\n",
      "INFO:botocore.credentials:Found credentials in environment variables.\n",
      "INFO:botocore.credentials:Found credentials in environment variables.\n",
      "INFO:botocore.credentials:Found credentials in environment variables.\n",
      "INFO:botocore.credentials:Found credentials in environment variables.\n",
      "INFO:botocore.credentials:Found credentials in environment variables.\n",
      "INFO:root:LC08_L1TP_072074_20140322 Applying masks\n",
      "ERROR:root:LC08_L1TP_072074_20140322 Masks not applied\n",
      "Traceback (most recent call last):\n",
      "  File \"/opt/notebooks/utils/genprepMLWater.py\", line 300, in genprepmlwater\n",
      "    if (counts[0] < 500) | (counts[1] < 5000):\n",
      "Exception: no class labels should be >5000 for ok classifier. no. training class samples: 278419094218\n",
      "ERROR:root:could not process LC08_L1TP_072074_20140322, Data formatting error\n",
      "INFO:root:LC08_L1TP_072074_20140306 Starting\n",
      "INFO:root:LC08_L1TP_072074_20140306 Finding & Streaming Image & Labels Yamls\n",
      "INFO:root:LC08_L1TP_072074_20140306 Found & access yamls\n",
      "INFO:root:LC08_L1TP_072074_20140306 Loading & Reformatting bands\n"
     ]
    },
    {
     "name": "stdout",
     "output_type": "stream",
     "text": [
      "boo\n",
      "Working on {\"img_yml_path\": \"common_sensing/fiji/landsat_8/LC08_L1TP_072074_20140306/datacube-metadata.yaml\", \"lab_yml_path\": \"common_sensing/fiji/wofs_summary/wofssummary_20180101_20190101/datacube-metadata.yaml\", \"s3_bucket\": \"public-eo-data\", \"s3_dir\": \"tom/mlwatermasks/\"}\n"
     ]
    },
    {
     "name": "stderr",
     "output_type": "stream",
     "text": [
      "INFO:botocore.credentials:Found credentials in environment variables.\n",
      "INFO:botocore.credentials:Found credentials in environment variables.\n",
      "INFO:botocore.credentials:Found credentials in environment variables.\n",
      "INFO:botocore.credentials:Found credentials in environment variables.\n",
      "INFO:botocore.credentials:Found credentials in environment variables.\n",
      "INFO:botocore.credentials:Found credentials in environment variables.\n",
      "INFO:botocore.credentials:Found credentials in environment variables.\n",
      "INFO:botocore.credentials:Found credentials in environment variables.\n",
      "INFO:root:LC08_L1TP_072074_20140306 Applying masks\n",
      "INFO:root:LC08_L1TP_072074_20140306 Training\n",
      "[Parallel(n_jobs=2)]: Using backend ThreadingBackend with 2 concurrent workers.\n"
     ]
    },
    {
     "name": "stdout",
     "output_type": "stream",
     "text": [
      "building tree 1 of 4building tree 2 of 4\n",
      "\n",
      "building tree 3 of 4\n",
      "building tree 4 of 4\n"
     ]
    },
    {
     "name": "stderr",
     "output_type": "stream",
     "text": [
      "[Parallel(n_jobs=2)]: Done   4 out of   4 | elapsed:   28.4s remaining:    0.0s\n",
      "[Parallel(n_jobs=2)]: Done   4 out of   4 | elapsed:   28.4s finished\n",
      "INFO:root:LC08_L1TP_072074_20140306 Prediction\n",
      "[Parallel(n_jobs=2)]: Using backend ThreadingBackend with 2 concurrent workers.\n",
      "[Parallel(n_jobs=2)]: Done   4 out of   4 | elapsed:    6.2s remaining:    0.0s\n",
      "[Parallel(n_jobs=2)]: Done   4 out of   4 | elapsed:    6.2s finished\n",
      "[Parallel(n_jobs=2)]: Using backend ThreadingBackend with 2 concurrent workers.\n",
      "[Parallel(n_jobs=2)]: Done   4 out of   4 | elapsed:    6.3s remaining:    0.0s\n",
      "[Parallel(n_jobs=2)]: Done   4 out of   4 | elapsed:    6.3s finished\n",
      "INFO:root:LC08_L1TP_072074_20140306 Exporting water product\n",
      "INFO:botocore.credentials:Found credentials in environment variables.\n",
      "INFO:botocore.credentials:Found credentials in environment variables.\n",
      "INFO:root:LC08_L1TP_072074_20140306 Creating yaml\n",
      "DEBUG:root:in get geometry ../tmp/data/intermediate/LC08_L1TP_072074_20140306_tmp/LC08_L1TP_072074_20140306_mlwater/LC08_L1TP_072074_20140306_watermask.tif\n",
      "INFO:botocore.credentials:Found credentials in environment variables.\n",
      "DEBUG:root:Created yaml: ../tmp/data/intermediate/LC08_L1TP_072074_20140306_tmp/LC08_L1TP_072074_20140306_mlwater/datacube-metadata.yaml\n",
      "INFO:root:LC08_L1TP_072074_20140306 Uploading to S3 Bucket\n",
      "DEBUG:root:Endpoint URL: http://s3-uk-1.sa-catapult.co.uk\n",
      "INFO:root:Local source file: ../tmp/data/intermediate/LC08_L1TP_072074_20140306_tmp/LC08_L1TP_072074_20140306_mlwater/LC08_L1TP_072074_20140306_watermask.tif\n",
      "INFO:root:S3 target file: tom/mlwatermasks/LC08_L1TP_072074_20140306_mlwater/LC08_L1TP_072074_20140306_watermask.tif\n",
      "INFO:root:Start: ../tmp/data/intermediate/LC08_L1TP_072074_20140306_tmp/LC08_L1TP_072074_20140306_mlwater/LC08_L1TP_072074_20140306_watermask.tif 2020-06-22 09:06:27\n"
     ]
    },
    {
     "name": "stdout",
     "output_type": "stream",
     "text": [
      "Preparing scene LC08_L1TP_072074_20140306_mlwater\n",
      "Scene path ../tmp/data/intermediate/LC08_L1TP_072074_20140306_tmp/LC08_L1TP_072074_20140306_mlwater/\n",
      "{'watermask': {'path': 'LC08_L1TP_072074_20140306_watermask.tif'}, 'waterprob': {'path': 'LC08_L1TP_072074_20140306_waterprob.tif'}}\n",
      "{'spatial_reference': 'PROJCS[\"WGS 84 / UTM zone 1N\",GEOGCS[\"WGS 84\",DATUM[\"WGS_1984\",SPHEROID[\"WGS 84\",6378137,298.257223563,AUTHORITY[\"EPSG\",\"7030\"]],AUTHORITY[\"EPSG\",\"6326\"]],PRIMEM[\"Greenwich\",0,AUTHORITY[\"EPSG\",\"8901\"]],UNIT[\"degree\",0.0174532925199433,AUTHORITY[\"EPSG\",\"9122\"]],AUTHORITY[\"EPSG\",\"4326\"]],PROJECTION[\"Transverse_Mercator\"],PARAMETER[\"latitude_of_origin\",0],PARAMETER[\"central_meridian\",-177],PARAMETER[\"scale_factor\",0.9996],PARAMETER[\"false_easting\",500000],PARAMETER[\"false_northing\",0],UNIT[\"metre\",1,AUTHORITY[\"EPSG\",\"9001\"]],AXIS[\"Easting\",EAST],AXIS[\"Northing\",NORTH],AUTHORITY[\"EPSG\",\"32601\"]]', 'geo_ref_points': {'ul': {'x': 210300.0, 'y': -2122500.0}, 'ur': {'x': 438300.0, 'y': -2122500.0}, 'll': {'x': 210300.0, 'y': -2353800.0}, 'lr': {'x': 438300.0, 'y': -2353800.0}}} {'ul': {'lon': -179.75455508622724, 'lat': -19.17518471163965}, 'ur': {'lon': -177.58690258155872, 'lat': -19.194928602967295}, 'll': {'lon': -179.79158327108456, 'lat': -21.262857412592474}, 'lr': {'lon': -177.5948038883991, 'lat': -21.28494434928056}}\n"
     ]
    },
    {
     "name": "stderr",
     "output_type": "stream",
     "text": [
      "INFO:root:Finish: ../tmp/data/intermediate/LC08_L1TP_072074_20140306_tmp/LC08_L1TP_072074_20140306_mlwater/LC08_L1TP_072074_20140306_watermask.tif 2020-06-22 09:06:40\n",
      "DEBUG:root:Endpoint URL: http://s3-uk-1.sa-catapult.co.uk\n",
      "INFO:root:Local source file: ../tmp/data/intermediate/LC08_L1TP_072074_20140306_tmp/LC08_L1TP_072074_20140306_mlwater/LC08_L1TP_072074_20140306_waterprob.tif\n",
      "INFO:root:S3 target file: tom/mlwatermasks/LC08_L1TP_072074_20140306_mlwater/LC08_L1TP_072074_20140306_waterprob.tif\n",
      "INFO:root:Start: ../tmp/data/intermediate/LC08_L1TP_072074_20140306_tmp/LC08_L1TP_072074_20140306_mlwater/LC08_L1TP_072074_20140306_waterprob.tif 2020-06-22 09:06:40\n",
      "INFO:root:Finish: ../tmp/data/intermediate/LC08_L1TP_072074_20140306_tmp/LC08_L1TP_072074_20140306_mlwater/LC08_L1TP_072074_20140306_waterprob.tif 2020-06-22 09:06:51\n",
      "DEBUG:root:Endpoint URL: http://s3-uk-1.sa-catapult.co.uk\n",
      "INFO:root:Local source file: ../tmp/data/intermediate/LC08_L1TP_072074_20140306_tmp/LC08_L1TP_072074_20140306_mlwater/datacube-metadata.yaml\n",
      "INFO:root:S3 target file: tom/mlwatermasks/LC08_L1TP_072074_20140306_mlwater/datacube-metadata.yaml\n",
      "INFO:root:Start: ../tmp/data/intermediate/LC08_L1TP_072074_20140306_tmp/LC08_L1TP_072074_20140306_mlwater/datacube-metadata.yaml 2020-06-22 09:06:51\n",
      "INFO:root:Finish: ../tmp/data/intermediate/LC08_L1TP_072074_20140306_tmp/LC08_L1TP_072074_20140306_mlwater/datacube-metadata.yaml 2020-06-22 09:06:51\n"
     ]
    },
    {
     "name": "stdout",
     "output_type": "stream",
     "text": [
      "not boo\n"
     ]
    }
   ],
   "source": [
    "while not q.empty():\n",
    "    item = q.lease(lease_secs=1800, block=True, timeout=600)\n",
    "    if item is not None:\n",
    "        itemstr = item.decode(\"utf=8\")\n",
    "        print(\"Working on \" + itemstr)\n",
    "        #time.sleep(10) # Put your actual work here instead of sleep.\n",
    "        process_scene(itemstr)\n",
    "        q.complete(item)\n",
    "    else:\n",
    "        print(\"Waiting for work\")"
   ]
  },
  {
   "cell_type": "code",
   "execution_count": 4,
   "metadata": {},
   "outputs": [
    {
     "name": "stdout",
     "output_type": "stream",
     "text": [
      "Queue empty!\n"
     ]
    }
   ],
   "source": [
    "print(\"Queue empty!\")"
   ]
  }
 ],
 "metadata": {
  "kernelspec": {
   "display_name": "Python 3",
   "language": "python",
   "name": "python3"
  },
  "language_info": {
   "codemirror_mode": {
    "name": "ipython",
    "version": 3
   },
   "file_extension": ".py",
   "mimetype": "text/x-python",
   "name": "python",
   "nbconvert_exporter": "python",
   "pygments_lexer": "ipython3",
   "version": "3.7.4"
  }
 },
 "nbformat": 4,
 "nbformat_minor": 4
}
