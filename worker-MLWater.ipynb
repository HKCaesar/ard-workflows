{
 "cells": [
  {
   "cell_type": "markdown",
   "metadata": {},
   "source": [
    "# Debug notebook\n",
    "This notebook is only used to troubleshoot the ML Water Classification workflow processor."
   ]
  },
  {
   "cell_type": "markdown",
   "metadata": {},
   "source": [
    "## Water Classification workflow"
   ]
  },
  {
   "cell_type": "code",
   "execution_count": 4,
   "metadata": {},
   "outputs": [],
   "source": [
    "import json\n",
    "from utils.genprepMLWater import genprepmlwater\n",
    "\n",
    "def process_scene(json_data):\n",
    "    loaded_json = json.loads(json_data)\n",
    "    #for x in loaded_json:\n",
    "    #    print(\"%s: %s\" % (x, loaded_json[x]))\n",
    "    genprepmlwater(**loaded_json)"
   ]
  },
  {
   "cell_type": "markdown",
   "metadata": {},
   "source": [
    "## Water Classification job queue processor"
   ]
  },
  {
   "cell_type": "code",
   "execution_count": 7,
   "metadata": {},
   "outputs": [
    {
     "name": "stdout",
     "output_type": "stream",
     "text": [
      "Worker with sessionID: a47f81d3-f306-4ac0-9297-906e22b036f1\n",
      "Initial queue state: empty=False\n"
     ]
    }
   ],
   "source": [
    "import rediswq\n",
    "\n",
    "import os\n",
    "host = os.getenv(\"REDIS_SERVICE_HOST\", \"redis-master\")\n",
    "\n",
    "q = rediswq.RedisWQ(name=\"jobMLWater\", host=host)\n",
    "print(\"Worker with sessionID: \" +  q.sessionID())\n",
    "print(\"Initial queue state: empty=\" + str(q.empty()))"
   ]
  },
  {
   "cell_type": "code",
   "execution_count": 8,
   "metadata": {},
   "outputs": [
    {
     "name": "stderr",
     "output_type": "stream",
     "text": [
      "INFO:root:S1A_IW_GRDH_1SDV_20190103T174045 Starting\n",
      "INFO:root:S1A_IW_GRDH_1SDV_20190103T174045 Finding & Streaming Image & Labels Yamls\n",
      "INFO:root:S1A_IW_GRDH_1SDV_20190103T174045 Found & access yamls\n",
      "INFO:root:S1A_IW_GRDH_1SDV_20190103T174045 Loading & Reformatting bands\n"
     ]
    },
    {
     "name": "stdout",
     "output_type": "stream",
     "text": [
      "Working on {\"img_yml_path\": \"common_sensing/fiji/sentinel_1/S1A_IW_GRDH_1SDV_20190103T174045/datacube-metadata.yaml\", \"lab_yml_path\": \"common_sensing/fiji/wofs_summary/wofssummary_20180101_20190101/datacube-metadata.yaml\", \"s3_bucket\": \"public-eo-data\", \"s3_dir\": \"common_sensing/fiji/mlwater_finaltest/\"}\n"
     ]
    },
    {
     "name": "stderr",
     "output_type": "stream",
     "text": [
      "INFO:botocore.credentials:Found credentials in environment variables.\n",
      "INFO:botocore.credentials:Found credentials in environment variables.\n",
      "INFO:botocore.credentials:Found credentials in environment variables.\n",
      "INFO:botocore.credentials:Found credentials in environment variables.\n",
      "INFO:root:S1A_IW_GRDH_1SDV_20190103T174045 Applying masks\n",
      "INFO:root:S1A_IW_GRDH_1SDV_20190103T174045 Training\n",
      "[Parallel(n_jobs=2)]: Using backend ThreadingBackend with 2 concurrent workers.\n"
     ]
    },
    {
     "name": "stdout",
     "output_type": "stream",
     "text": [
      "building tree 1 of 4\n",
      "building tree 2 of 4\n",
      "building tree 3 of 4\n",
      "building tree 4 of 4\n"
     ]
    },
    {
     "name": "stderr",
     "output_type": "stream",
     "text": [
      "[Parallel(n_jobs=2)]: Done   4 out of   4 | elapsed:  4.7min remaining:    0.0s\n",
      "[Parallel(n_jobs=2)]: Done   4 out of   4 | elapsed:  4.7min finished\n",
      "INFO:root:S1A_IW_GRDH_1SDV_20190103T174045 Prediction\n",
      "[Parallel(n_jobs=2)]: Using backend ThreadingBackend with 2 concurrent workers.\n",
      "[Parallel(n_jobs=2)]: Done   4 out of   4 | elapsed:   20.4s remaining:    0.0s\n",
      "[Parallel(n_jobs=2)]: Done   4 out of   4 | elapsed:   20.4s finished\n",
      "[Parallel(n_jobs=2)]: Using backend ThreadingBackend with 2 concurrent workers.\n",
      "[Parallel(n_jobs=2)]: Done   4 out of   4 | elapsed:   20.1s remaining:    0.0s\n",
      "[Parallel(n_jobs=2)]: Done   4 out of   4 | elapsed:   20.1s finished\n",
      "INFO:root:S1A_IW_GRDH_1SDV_20190103T174045 Exporting water product\n",
      "INFO:botocore.credentials:Found credentials in environment variables.\n",
      "INFO:botocore.credentials:Found credentials in environment variables.\n",
      "INFO:root:S1A_IW_GRDH_1SDV_20190103T174045 Creating yaml\n",
      "DEBUG:root:in get geometry ../data/S1A_IW_GRDH_1SDV_20190103T174045_tmp/S1A_IW_GRDH_1SDV_20190103T174045_mlwater/S1A_IW_GRDH_1SDV_20190103T174045_watermask.tif\n",
      "INFO:botocore.credentials:Found credentials in environment variables.\n",
      "DEBUG:root:Created yaml: ../data/S1A_IW_GRDH_1SDV_20190103T174045_tmp/S1A_IW_GRDH_1SDV_20190103T174045_mlwater/datacube-metadata.yaml\n",
      "INFO:root:S1A_IW_GRDH_1SDV_20190103T174045 Uploading to S3 Bucket\n",
      "DEBUG:root:Endpoint URL: http://s3-uk-1.sa-catapult.co.uk\n",
      "INFO:root:Local source file: ../data/S1A_IW_GRDH_1SDV_20190103T174045_tmp/S1A_IW_GRDH_1SDV_20190103T174045_mlwater/S1A_IW_GRDH_1SDV_20190103T174045_waterprob.tif\n",
      "INFO:root:S3 target file: common_sensing/fiji/mlwater_finaltest/S1A_IW_GRDH_1SDV_20190103T174045_mlwater/S1A_IW_GRDH_1SDV_20190103T174045_waterprob.tif\n",
      "INFO:root:Start: ../data/S1A_IW_GRDH_1SDV_20190103T174045_tmp/S1A_IW_GRDH_1SDV_20190103T174045_mlwater/S1A_IW_GRDH_1SDV_20190103T174045_waterprob.tif 2020-06-02 13:39:54\n"
     ]
    },
    {
     "name": "stdout",
     "output_type": "stream",
     "text": [
      "Preparing scene S1A_IW_GRDH_1SDV_20190103T174045_mlwater\n",
      "Scene path ../data/S1A_IW_GRDH_1SDV_20190103T174045_tmp/S1A_IW_GRDH_1SDV_20190103T174045_mlwater/\n",
      "{'waterprob': {'path': 'S1A_IW_GRDH_1SDV_20190103T174045_waterprob.tif'}, 'watermask': {'path': 'S1A_IW_GRDH_1SDV_20190103T174045_watermask.tif'}}\n",
      "{'spatial_reference': 'GEOGCS[\"WGS 84\",DATUM[\"WGS_1984\",SPHEROID[\"WGS 84\",6378137,298.257223563,AUTHORITY[\"EPSG\",\"7030\"]],AUTHORITY[\"EPSG\",\"6326\"]],PRIMEM[\"Greenwich\",0],UNIT[\"degree\",0.0174532925199433],AUTHORITY[\"EPSG\",\"4326\"]]', 'geo_ref_points': {'ul': {'x': 176.243629286539, 'y': -17.367452665874147}, 'ur': {'x': 178.90623578866925, 'y': -17.367452665874147}, 'll': {'x': 176.243629286539, 'y': -19.28319984078743}, 'lr': {'x': 178.90623578866925, 'y': -19.28319984078743}}} {'ul': {'lon': 176.243629286539, 'lat': -17.367452665874147}, 'ur': {'lon': 178.90623578866925, 'lat': -17.367452665874147}, 'll': {'lon': 176.243629286539, 'lat': -19.28319984078743}, 'lr': {'lon': 178.90623578866925, 'lat': -19.28319984078743}}\n"
     ]
    },
    {
     "name": "stderr",
     "output_type": "stream",
     "text": [
      "INFO:root:Finish: ../data/S1A_IW_GRDH_1SDV_20190103T174045_tmp/S1A_IW_GRDH_1SDV_20190103T174045_mlwater/S1A_IW_GRDH_1SDV_20190103T174045_waterprob.tif 2020-06-02 13:40:30\n",
      "DEBUG:root:Endpoint URL: http://s3-uk-1.sa-catapult.co.uk\n",
      "INFO:root:Local source file: ../data/S1A_IW_GRDH_1SDV_20190103T174045_tmp/S1A_IW_GRDH_1SDV_20190103T174045_mlwater/datacube-metadata.yaml\n",
      "INFO:root:S3 target file: common_sensing/fiji/mlwater_finaltest/S1A_IW_GRDH_1SDV_20190103T174045_mlwater/datacube-metadata.yaml\n",
      "INFO:root:Start: ../data/S1A_IW_GRDH_1SDV_20190103T174045_tmp/S1A_IW_GRDH_1SDV_20190103T174045_mlwater/datacube-metadata.yaml 2020-06-02 13:40:32\n",
      "INFO:root:Finish: ../data/S1A_IW_GRDH_1SDV_20190103T174045_tmp/S1A_IW_GRDH_1SDV_20190103T174045_mlwater/datacube-metadata.yaml 2020-06-02 13:40:32\n",
      "DEBUG:root:Endpoint URL: http://s3-uk-1.sa-catapult.co.uk\n",
      "INFO:root:Local source file: ../data/S1A_IW_GRDH_1SDV_20190103T174045_tmp/S1A_IW_GRDH_1SDV_20190103T174045_mlwater/S1A_IW_GRDH_1SDV_20190103T174045_watermask.tif\n",
      "INFO:root:S3 target file: common_sensing/fiji/mlwater_finaltest/S1A_IW_GRDH_1SDV_20190103T174045_mlwater/S1A_IW_GRDH_1SDV_20190103T174045_watermask.tif\n",
      "INFO:root:Start: ../data/S1A_IW_GRDH_1SDV_20190103T174045_tmp/S1A_IW_GRDH_1SDV_20190103T174045_mlwater/S1A_IW_GRDH_1SDV_20190103T174045_watermask.tif 2020-06-02 13:40:32\n",
      "INFO:root:Finish: ../data/S1A_IW_GRDH_1SDV_20190103T174045_tmp/S1A_IW_GRDH_1SDV_20190103T174045_mlwater/S1A_IW_GRDH_1SDV_20190103T174045_watermask.tif 2020-06-02 13:41:00\n",
      "INFO:root:LE07_L1TP_074072_20130120 Starting\n",
      "INFO:root:LE07_L1TP_074072_20130120 Finding & Streaming Image & Labels Yamls\n",
      "INFO:root:LE07_L1TP_074072_20130120 Found & access yamls\n",
      "INFO:root:LE07_L1TP_074072_20130120 Loading & Reformatting bands\n"
     ]
    },
    {
     "name": "stdout",
     "output_type": "stream",
     "text": [
      "not boo\n",
      "Working on {\"img_yml_path\": \"common_sensing/fiji/landsat_7/LE07_L1TP_074072_20130120/datacube-metadata.yaml\", \"lab_yml_path\": \"common_sensing/fiji/wofs_summary/wofssummary_20180101_20190101/datacube-metadata.yaml\", \"s3_bucket\": \"public-eo-data\", \"s3_dir\": \"common_sensing/fiji/mlwater_finaltest/\"}\n"
     ]
    },
    {
     "name": "stderr",
     "output_type": "stream",
     "text": [
      "INFO:botocore.credentials:Found credentials in environment variables.\n",
      "INFO:botocore.credentials:Found credentials in environment variables.\n",
      "INFO:botocore.credentials:Found credentials in environment variables.\n",
      "INFO:botocore.credentials:Found credentials in environment variables.\n",
      "INFO:botocore.credentials:Found credentials in environment variables.\n",
      "INFO:botocore.credentials:Found credentials in environment variables.\n",
      "INFO:botocore.credentials:Found credentials in environment variables.\n",
      "INFO:botocore.credentials:Found credentials in environment variables.\n",
      "INFO:root:LE07_L1TP_074072_20130120 Applying masks\n",
      "INFO:root:LE07_L1TP_074072_20130120 Training\n",
      "[Parallel(n_jobs=2)]: Using backend ThreadingBackend with 2 concurrent workers.\n"
     ]
    },
    {
     "name": "stdout",
     "output_type": "stream",
     "text": [
      "building tree 1 of 4\n",
      "building tree 2 of 4\n",
      "building tree 3 of 4\n",
      "building tree 4 of 4\n"
     ]
    },
    {
     "name": "stderr",
     "output_type": "stream",
     "text": [
      "[Parallel(n_jobs=2)]: Done   4 out of   4 | elapsed:   50.0s remaining:    0.0s\n",
      "[Parallel(n_jobs=2)]: Done   4 out of   4 | elapsed:   50.0s finished\n",
      "INFO:root:LE07_L1TP_074072_20130120 Prediction\n",
      "[Parallel(n_jobs=2)]: Using backend ThreadingBackend with 2 concurrent workers.\n",
      "[Parallel(n_jobs=2)]: Done   4 out of   4 | elapsed:    7.0s remaining:    0.0s\n",
      "[Parallel(n_jobs=2)]: Done   4 out of   4 | elapsed:    7.0s finished\n",
      "[Parallel(n_jobs=2)]: Using backend ThreadingBackend with 2 concurrent workers.\n",
      "[Parallel(n_jobs=2)]: Done   4 out of   4 | elapsed:    7.1s remaining:    0.0s\n",
      "[Parallel(n_jobs=2)]: Done   4 out of   4 | elapsed:    7.1s finished\n",
      "INFO:root:LE07_L1TP_074072_20130120 Exporting water product\n",
      "INFO:botocore.credentials:Found credentials in environment variables.\n",
      "INFO:botocore.credentials:Found credentials in environment variables.\n",
      "INFO:root:LE07_L1TP_074072_20130120 Creating yaml\n",
      "DEBUG:root:in get geometry ../data/LE07_L1TP_074072_20130120_tmp/LE07_L1TP_074072_20130120_mlwater/LE07_L1TP_074072_20130120_watermask.tif\n"
     ]
    },
    {
     "name": "stdout",
     "output_type": "stream",
     "text": [
      "Preparing scene LE07_L1TP_074072_20130120_mlwater\n",
      "Scene path ../data/LE07_L1TP_074072_20130120_tmp/LE07_L1TP_074072_20130120_mlwater/\n",
      "{'watermask': {'path': 'LE07_L1TP_074072_20130120_watermask.tif'}, 'waterprob': {'path': 'LE07_L1TP_074072_20130120_waterprob.tif'}}\n"
     ]
    },
    {
     "name": "stderr",
     "output_type": "stream",
     "text": [
      "INFO:botocore.credentials:Found credentials in environment variables.\n",
      "DEBUG:root:Created yaml: ../data/LE07_L1TP_074072_20130120_tmp/LE07_L1TP_074072_20130120_mlwater/datacube-metadata.yaml\n",
      "INFO:root:LE07_L1TP_074072_20130120 Uploading to S3 Bucket\n",
      "DEBUG:root:Endpoint URL: http://s3-uk-1.sa-catapult.co.uk\n",
      "INFO:root:Local source file: ../data/LE07_L1TP_074072_20130120_tmp/LE07_L1TP_074072_20130120_mlwater/datacube-metadata.yaml\n",
      "INFO:root:S3 target file: common_sensing/fiji/mlwater_finaltest/LE07_L1TP_074072_20130120_mlwater/datacube-metadata.yaml\n",
      "INFO:root:Start: ../data/LE07_L1TP_074072_20130120_tmp/LE07_L1TP_074072_20130120_mlwater/datacube-metadata.yaml 2020-06-02 13:43:29\n",
      "INFO:root:Finish: ../data/LE07_L1TP_074072_20130120_tmp/LE07_L1TP_074072_20130120_mlwater/datacube-metadata.yaml 2020-06-02 13:43:29\n",
      "DEBUG:root:Endpoint URL: http://s3-uk-1.sa-catapult.co.uk\n"
     ]
    },
    {
     "name": "stdout",
     "output_type": "stream",
     "text": [
      "{'spatial_reference': 'PROJCS[\"WGS 84 / UTM zone 60N\",GEOGCS[\"WGS 84\",DATUM[\"WGS_1984\",SPHEROID[\"WGS 84\",6378137,298.257223563,AUTHORITY[\"EPSG\",\"7030\"]],AUTHORITY[\"EPSG\",\"6326\"]],PRIMEM[\"Greenwich\",0,AUTHORITY[\"EPSG\",\"8901\"]],UNIT[\"degree\",0.0174532925199433,AUTHORITY[\"EPSG\",\"9122\"]],AUTHORITY[\"EPSG\",\"4326\"]],PROJECTION[\"Transverse_Mercator\"],PARAMETER[\"latitude_of_origin\",0],PARAMETER[\"central_meridian\",177],PARAMETER[\"scale_factor\",0.9996],PARAMETER[\"false_easting\",500000],PARAMETER[\"false_northing\",0],UNIT[\"metre\",1,AUTHORITY[\"EPSG\",\"9001\"]],AXIS[\"Easting\",EAST],AXIS[\"Northing\",NORTH],AUTHORITY[\"EPSG\",\"32660\"]]', 'geo_ref_points': {'ul': {'x': 576300.0, 'y': -1812600.0}, 'ur': {'x': 819600.0, 'y': -1812600.0}, 'll': {'x': 576300.0, 'y': -2024100.0}, 'lr': {'x': 819600.0, 'y': -2024100.0}}} {'ul': {'lon': 177.7145399489992, 'lat': -16.393524975049758}, 'ur': {'lon': 179.9916218404828, 'lat': -16.37346200362568}, 'll': {'lon': 177.72198209806703, 'lat': -18.30517098654163}, 'lr': {'lon': -179.97727372415585, 'lat': -18.28261633039153}}\n"
     ]
    },
    {
     "name": "stderr",
     "output_type": "stream",
     "text": [
      "INFO:root:Local source file: ../data/LE07_L1TP_074072_20130120_tmp/LE07_L1TP_074072_20130120_mlwater/LE07_L1TP_074072_20130120_watermask.tif\n",
      "INFO:root:S3 target file: common_sensing/fiji/mlwater_finaltest/LE07_L1TP_074072_20130120_mlwater/LE07_L1TP_074072_20130120_watermask.tif\n",
      "INFO:root:Start: ../data/LE07_L1TP_074072_20130120_tmp/LE07_L1TP_074072_20130120_mlwater/LE07_L1TP_074072_20130120_watermask.tif 2020-06-02 13:43:29\n",
      "INFO:root:Finish: ../data/LE07_L1TP_074072_20130120_tmp/LE07_L1TP_074072_20130120_mlwater/LE07_L1TP_074072_20130120_watermask.tif 2020-06-02 13:43:40\n",
      "DEBUG:root:Endpoint URL: http://s3-uk-1.sa-catapult.co.uk\n",
      "INFO:root:Local source file: ../data/LE07_L1TP_074072_20130120_tmp/LE07_L1TP_074072_20130120_mlwater/LE07_L1TP_074072_20130120_waterprob.tif\n",
      "INFO:root:S3 target file: common_sensing/fiji/mlwater_finaltest/LE07_L1TP_074072_20130120_mlwater/LE07_L1TP_074072_20130120_waterprob.tif\n",
      "INFO:root:Start: ../data/LE07_L1TP_074072_20130120_tmp/LE07_L1TP_074072_20130120_mlwater/LE07_L1TP_074072_20130120_waterprob.tif 2020-06-02 13:43:40\n",
      "INFO:root:Finish: ../data/LE07_L1TP_074072_20130120_tmp/LE07_L1TP_074072_20130120_mlwater/LE07_L1TP_074072_20130120_waterprob.tif 2020-06-02 13:43:52\n",
      "INFO:root:LC08_L1TP_074072_20190129 Starting\n",
      "INFO:root:LC08_L1TP_074072_20190129 Finding & Streaming Image & Labels Yamls\n",
      "INFO:root:LC08_L1TP_074072_20190129 Found & access yamls\n",
      "INFO:root:LC08_L1TP_074072_20190129 Loading & Reformatting bands\n"
     ]
    },
    {
     "name": "stdout",
     "output_type": "stream",
     "text": [
      "not boo\n",
      "Working on {\"img_yml_path\": \"common_sensing/fiji/landsat_8/LC08_L1TP_074072_20190129/datacube-metadata.yaml\", \"lab_yml_path\": \"common_sensing/fiji/wofs_summary/wofssummary_20180101_20190101/datacube-metadata.yaml\", \"s3_bucket\": \"public-eo-data\", \"s3_dir\": \"common_sensing/fiji/mlwater_finaltest/\"}\n"
     ]
    },
    {
     "name": "stderr",
     "output_type": "stream",
     "text": [
      "INFO:botocore.credentials:Found credentials in environment variables.\n",
      "INFO:botocore.credentials:Found credentials in environment variables.\n",
      "INFO:botocore.credentials:Found credentials in environment variables.\n",
      "INFO:botocore.credentials:Found credentials in environment variables.\n",
      "INFO:botocore.credentials:Found credentials in environment variables.\n",
      "INFO:botocore.credentials:Found credentials in environment variables.\n",
      "INFO:botocore.credentials:Found credentials in environment variables.\n",
      "INFO:botocore.credentials:Found credentials in environment variables.\n",
      "INFO:root:LC08_L1TP_074072_20190129 Applying masks\n",
      "INFO:root:LC08_L1TP_074072_20190129 Training\n",
      "[Parallel(n_jobs=2)]: Using backend ThreadingBackend with 2 concurrent workers.\n"
     ]
    },
    {
     "name": "stdout",
     "output_type": "stream",
     "text": [
      "building tree 1 of 4\n",
      "building tree 2 of 4\n",
      "building tree 3 of 4\n",
      "building tree 4 of 4\n"
     ]
    },
    {
     "name": "stderr",
     "output_type": "stream",
     "text": [
      "[Parallel(n_jobs=2)]: Done   4 out of   4 | elapsed:  1.2min remaining:    0.0s\n",
      "[Parallel(n_jobs=2)]: Done   4 out of   4 | elapsed:  1.2min finished\n",
      "INFO:root:LC08_L1TP_074072_20190129 Prediction\n",
      "[Parallel(n_jobs=2)]: Using backend ThreadingBackend with 2 concurrent workers.\n",
      "[Parallel(n_jobs=2)]: Done   4 out of   4 | elapsed:    7.6s remaining:    0.0s\n",
      "[Parallel(n_jobs=2)]: Done   4 out of   4 | elapsed:    7.6s finished\n",
      "[Parallel(n_jobs=2)]: Using backend ThreadingBackend with 2 concurrent workers.\n",
      "[Parallel(n_jobs=2)]: Done   4 out of   4 | elapsed:    7.2s remaining:    0.0s\n",
      "[Parallel(n_jobs=2)]: Done   4 out of   4 | elapsed:    7.2s finished\n",
      "INFO:root:LC08_L1TP_074072_20190129 Exporting water product\n",
      "INFO:botocore.credentials:Found credentials in environment variables.\n",
      "INFO:botocore.credentials:Found credentials in environment variables.\n",
      "INFO:root:LC08_L1TP_074072_20190129 Creating yaml\n",
      "DEBUG:root:in get geometry ../data/LC08_L1TP_074072_20190129_tmp/LC08_L1TP_074072_20190129_mlwater/LC08_L1TP_074072_20190129_watermask.tif\n"
     ]
    },
    {
     "name": "stdout",
     "output_type": "stream",
     "text": [
      "Preparing scene LC08_L1TP_074072_20190129_mlwater\n",
      "Scene path ../data/LC08_L1TP_074072_20190129_tmp/LC08_L1TP_074072_20190129_mlwater/\n",
      "{'watermask': {'path': 'LC08_L1TP_074072_20190129_watermask.tif'}, 'waterprob': {'path': 'LC08_L1TP_074072_20190129_waterprob.tif'}}\n"
     ]
    },
    {
     "name": "stderr",
     "output_type": "stream",
     "text": [
      "INFO:botocore.credentials:Found credentials in environment variables.\n",
      "DEBUG:root:Created yaml: ../data/LC08_L1TP_074072_20190129_tmp/LC08_L1TP_074072_20190129_mlwater/datacube-metadata.yaml\n",
      "INFO:root:LC08_L1TP_074072_20190129 Uploading to S3 Bucket\n",
      "DEBUG:root:Endpoint URL: http://s3-uk-1.sa-catapult.co.uk\n"
     ]
    },
    {
     "name": "stdout",
     "output_type": "stream",
     "text": [
      "{'spatial_reference': 'PROJCS[\"WGS 84 / UTM zone 60N\",GEOGCS[\"WGS 84\",DATUM[\"WGS_1984\",SPHEROID[\"WGS 84\",6378137,298.257223563,AUTHORITY[\"EPSG\",\"7030\"]],AUTHORITY[\"EPSG\",\"6326\"]],PRIMEM[\"Greenwich\",0,AUTHORITY[\"EPSG\",\"8901\"]],UNIT[\"degree\",0.0174532925199433,AUTHORITY[\"EPSG\",\"9122\"]],AUTHORITY[\"EPSG\",\"4326\"]],PROJECTION[\"Transverse_Mercator\"],PARAMETER[\"latitude_of_origin\",0],PARAMETER[\"central_meridian\",177],PARAMETER[\"scale_factor\",0.9996],PARAMETER[\"false_easting\",500000],PARAMETER[\"false_northing\",0],UNIT[\"metre\",1,AUTHORITY[\"EPSG\",\"9001\"]],AXIS[\"Easting\",EAST],AXIS[\"Northing\",NORTH],AUTHORITY[\"EPSG\",\"32660\"]]', 'geo_ref_points': {'ul': {'x': 586200.0, 'y': -1802100.0}, 'ur': {'x': 816900.0, 'y': -1802100.0}, 'll': {'x': 586200.0, 'y': -2036100.0}, 'lr': {'x': 816900.0, 'y': -2036100.0}}} {'ul': {'lon': 177.80685623057866, 'lat': -16.298277767951376}, 'ur': {'lon': 179.96494337994346, 'lat': -16.279026025298805}, 'll': {'lon': 177.81616284804724, 'lat': -18.413242467074767}, 'lr': {'lon': 179.9990847936346, 'lat': -18.39132893391092}}\n"
     ]
    },
    {
     "name": "stderr",
     "output_type": "stream",
     "text": [
      "INFO:root:Local source file: ../data/LC08_L1TP_074072_20190129_tmp/LC08_L1TP_074072_20190129_mlwater/datacube-metadata.yaml\n",
      "INFO:root:S3 target file: common_sensing/fiji/mlwater_finaltest/LC08_L1TP_074072_20190129_mlwater/datacube-metadata.yaml\n",
      "INFO:root:Start: ../data/LC08_L1TP_074072_20190129_tmp/LC08_L1TP_074072_20190129_mlwater/datacube-metadata.yaml 2020-06-02 13:46:54\n",
      "INFO:root:Finish: ../data/LC08_L1TP_074072_20190129_tmp/LC08_L1TP_074072_20190129_mlwater/datacube-metadata.yaml 2020-06-02 13:46:55\n",
      "DEBUG:root:Endpoint URL: http://s3-uk-1.sa-catapult.co.uk\n",
      "INFO:root:Local source file: ../data/LC08_L1TP_074072_20190129_tmp/LC08_L1TP_074072_20190129_mlwater/LC08_L1TP_074072_20190129_watermask.tif\n",
      "INFO:root:S3 target file: common_sensing/fiji/mlwater_finaltest/LC08_L1TP_074072_20190129_mlwater/LC08_L1TP_074072_20190129_watermask.tif\n",
      "INFO:root:Start: ../data/LC08_L1TP_074072_20190129_tmp/LC08_L1TP_074072_20190129_mlwater/LC08_L1TP_074072_20190129_watermask.tif 2020-06-02 13:46:55\n",
      "INFO:root:Finish: ../data/LC08_L1TP_074072_20190129_tmp/LC08_L1TP_074072_20190129_mlwater/LC08_L1TP_074072_20190129_watermask.tif 2020-06-02 13:47:05\n",
      "DEBUG:root:Endpoint URL: http://s3-uk-1.sa-catapult.co.uk\n",
      "INFO:root:Local source file: ../data/LC08_L1TP_074072_20190129_tmp/LC08_L1TP_074072_20190129_mlwater/LC08_L1TP_074072_20190129_waterprob.tif\n",
      "INFO:root:S3 target file: common_sensing/fiji/mlwater_finaltest/LC08_L1TP_074072_20190129_mlwater/LC08_L1TP_074072_20190129_waterprob.tif\n",
      "INFO:root:Start: ../data/LC08_L1TP_074072_20190129_tmp/LC08_L1TP_074072_20190129_mlwater/LC08_L1TP_074072_20190129_waterprob.tif 2020-06-02 13:47:05\n",
      "INFO:root:Finish: ../data/LC08_L1TP_074072_20190129_tmp/LC08_L1TP_074072_20190129_mlwater/LC08_L1TP_074072_20190129_waterprob.tif 2020-06-02 13:47:16\n"
     ]
    },
    {
     "name": "stdout",
     "output_type": "stream",
     "text": [
      "not boo\n"
     ]
    }
   ],
   "source": [
    "while not q.empty():\n",
    "    item = q.lease(lease_secs=1800, block=True, timeout=600)\n",
    "    if item is not None:\n",
    "        itemstr = item.decode(\"utf=8\")\n",
    "        print(\"Working on \" + itemstr)\n",
    "        #time.sleep(10) # Put your actual work here instead of sleep.\n",
    "        process_scene(itemstr)\n",
    "        q.complete(item)\n",
    "    else:\n",
    "        print(\"Waiting for work\")"
   ]
  },
  {
   "cell_type": "code",
   "execution_count": 4,
   "metadata": {},
   "outputs": [
    {
     "name": "stdout",
     "output_type": "stream",
     "text": [
      "Queue empty!\n"
     ]
    }
   ],
   "source": [
    "print(\"Queue empty!\")"
   ]
  }
 ],
 "metadata": {
  "kernelspec": {
   "display_name": "Python 3",
   "language": "python",
   "name": "python3"
  },
  "language_info": {
   "codemirror_mode": {
    "name": "ipython",
    "version": 3
   },
   "file_extension": ".py",
   "mimetype": "text/x-python",
   "name": "python",
   "nbconvert_exporter": "python",
   "pygments_lexer": "ipython3",
   "version": "3.7.4"
  }
 },
 "nbformat": 4,
 "nbformat_minor": 4
}
