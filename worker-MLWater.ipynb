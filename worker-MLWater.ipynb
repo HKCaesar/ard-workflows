{
 "cells": [
  {
   "cell_type": "markdown",
   "metadata": {},
   "source": [
    "# Debug notebook\n",
    "This notebook is only used to troubleshoot the ML Water Classification workflow processor."
   ]
  },
  {
   "cell_type": "markdown",
   "metadata": {},
   "source": [
    "## Water Classification workflow"
   ]
  },
  {
   "cell_type": "code",
   "execution_count": null,
   "metadata": {},
   "outputs": [],
   "source": [
    "import json\n",
    "from utils.genprepMLWater import genprepmlwater\n",
    "\n",
    "def process_scene(json_data):\n",
    "    loaded_json = json.loads(json_data)\n",
    "    #for x in loaded_json:\n",
    "    #    print(\"%s: %s\" % (x, loaded_json[x]))\n",
    "    genprepmlwater(**loaded_json)"
   ]
  },
  {
   "cell_type": "markdown",
   "metadata": {},
   "source": [
    "## Water Classification job queue processor"
   ]
  },
  {
   "cell_type": "code",
   "execution_count": null,
   "metadata": {},
   "outputs": [],
   "source": [
    "import rediswq\n",
    "\n",
    "import os\n",
    "host = os.getenv(\"REDIS_SERVICE_HOST\", \"redis-master\")\n",
    "\n",
    "q = rediswq.RedisWQ(name=\"jobMLWater\", host=host)\n",
    "print(\"Worker with sessionID: \" +  q.sessionID())\n",
    "print(\"Initial queue state: empty=\" + str(q.empty()))"
   ]
  },
  {
   "cell_type": "code",
   "execution_count": 3,
   "metadata": {},
   "outputs": [
    {
     "name": "stderr",
     "output_type": "stream",
     "text": [
      "INFO:root:S2B_MSIL2A_20200403T221939_T60KYF Starting\n",
      "INFO:root:S2B_MSIL2A_20200403T221939_T60KYF Finding & Streaming Image & Labels Yamls\n",
      "INFO:root:S2B_MSIL2A_20200403T221939_T60KYF Found & access yamls\n",
      "INFO:root:S2B_MSIL2A_20200403T221939_T60KYF Loading & Reformatting bands\n"
     ]
    },
    {
     "name": "stdout",
     "output_type": "stream",
     "text": [
      "Working on {\"img_yml_path\": \"common_sensing/fiji/sentinel_2/S2B_MSIL2A_20200403T221939_T60KYF/datacube-metadata.yaml\", \"lab_yml_path\": \"common_sensing/fiji/wofs_summary/wofssummary_20180101_20190101/datacube-metadata.yaml\", \"s3_bucket\": \"public-eo-data\", \"s3_dir\": \"common_sensing/fiji/mlwatermasks/\"}\n"
     ]
    },
    {
     "name": "stderr",
     "output_type": "stream",
     "text": [
      "INFO:botocore.credentials:Found credentials in environment variables.\n",
      "INFO:botocore.credentials:Found credentials in environment variables.\n",
      "INFO:botocore.credentials:Found credentials in environment variables.\n",
      "INFO:botocore.credentials:Found credentials in environment variables.\n",
      "INFO:botocore.credentials:Found credentials in environment variables.\n",
      "INFO:botocore.credentials:Found credentials in environment variables.\n",
      "INFO:botocore.credentials:Found credentials in environment variables.\n",
      "INFO:botocore.credentials:Found credentials in environment variables.\n",
      "INFO:root:S2B_MSIL2A_20200403T221939_T60KYF Applying masks\n",
      "ERROR:root:S2B_MSIL2A_20200403T221939_T60KYF Masks not applied\n",
      "Traceback (most recent call last):\n",
      "  File \"/opt/notebooks/utils/genprepMLWater.py\", line 301, in genprepmlwater\n",
      "    raise Exception(f'no class labels should be >5000 for ok classifier. no. training class samples: {counts[0]}{counts[1]}')\n",
      "Exception: no class labels should be >5000 for ok classifier. no. training class samples: 1200622564218\n",
      "ERROR:root:could not process S2B_MSIL2A_20200403T221939_T60KYF, Data formatting error\n",
      "INFO:root:S2B_MSIL2A_20200403T221939_T60KYG Starting\n",
      "INFO:root:S2B_MSIL2A_20200403T221939_T60KYG Finding & Streaming Image & Labels Yamls\n",
      "INFO:root:S2B_MSIL2A_20200403T221939_T60KYG Found & access yamls\n",
      "INFO:root:S2B_MSIL2A_20200403T221939_T60KYG Loading & Reformatting bands\n"
     ]
    },
    {
     "name": "stdout",
     "output_type": "stream",
     "text": [
      "boo\n",
      "Working on {\"img_yml_path\": \"common_sensing/fiji/sentinel_2/S2B_MSIL2A_20200403T221939_T60KYG/datacube-metadata.yaml\", \"lab_yml_path\": \"common_sensing/fiji/wofs_summary/wofssummary_20180101_20190101/datacube-metadata.yaml\", \"s3_bucket\": \"public-eo-data\", \"s3_dir\": \"common_sensing/fiji/mlwatermasks/\"}\n"
     ]
    },
    {
     "name": "stderr",
     "output_type": "stream",
     "text": [
      "INFO:botocore.credentials:Found credentials in environment variables.\n",
      "INFO:botocore.credentials:Found credentials in environment variables.\n",
      "INFO:botocore.credentials:Found credentials in environment variables.\n",
      "INFO:botocore.credentials:Found credentials in environment variables.\n",
      "INFO:botocore.credentials:Found credentials in environment variables.\n",
      "INFO:botocore.credentials:Found credentials in environment variables.\n",
      "INFO:botocore.credentials:Found credentials in environment variables.\n",
      "INFO:botocore.credentials:Found credentials in environment variables.\n",
      "INFO:root:S2B_MSIL2A_20200403T221939_T60KYG Applying masks\n",
      "INFO:root:S2B_MSIL2A_20200403T221939_T60KYG Training\n",
      "[Parallel(n_jobs=2)]: Using backend ThreadingBackend with 2 concurrent workers.\n"
     ]
    },
    {
     "name": "stdout",
     "output_type": "stream",
     "text": [
      "building tree 1 of 4building tree 2 of 4\n",
      "\n",
      "building tree 3 of 4\n",
      "building tree 4 of 4\n"
     ]
    },
    {
     "name": "stderr",
     "output_type": "stream",
     "text": [
      "[Parallel(n_jobs=2)]: Done   4 out of   4 | elapsed:  1.1min remaining:    0.0s\n",
      "[Parallel(n_jobs=2)]: Done   4 out of   4 | elapsed:  1.1min finished\n",
      "INFO:root:S2B_MSIL2A_20200403T221939_T60KYG Prediction\n",
      "[Parallel(n_jobs=2)]: Using backend ThreadingBackend with 2 concurrent workers.\n",
      "[Parallel(n_jobs=2)]: Done   4 out of   4 | elapsed:   15.7s remaining:    0.0s\n",
      "[Parallel(n_jobs=2)]: Done   4 out of   4 | elapsed:   15.7s finished\n",
      "[Parallel(n_jobs=2)]: Using backend ThreadingBackend with 2 concurrent workers.\n",
      "[Parallel(n_jobs=2)]: Done   4 out of   4 | elapsed:   16.3s remaining:    0.0s\n",
      "[Parallel(n_jobs=2)]: Done   4 out of   4 | elapsed:   16.3s finished\n",
      "INFO:root:S2B_MSIL2A_20200403T221939_T60KYG Exporting water product\n",
      "INFO:botocore.credentials:Found credentials in environment variables.\n",
      "INFO:botocore.credentials:Found credentials in environment variables.\n",
      "INFO:root:S2B_MSIL2A_20200403T221939_T60KYG Creating yaml\n",
      "DEBUG:root:in get geometry ../tmp/data/intermediate/S2B_MSIL2A_20200403T221939_T60KYG_tmp/S2B_MSIL2A_20200403T221939_T60KYG_mlwater/S2B_MSIL2A_20200403T221939_T60KYG_watermask.tif\n",
      "INFO:botocore.credentials:Found credentials in environment variables.\n",
      "DEBUG:root:Created yaml: ../tmp/data/intermediate/S2B_MSIL2A_20200403T221939_T60KYG_tmp/S2B_MSIL2A_20200403T221939_T60KYG_mlwater/datacube-metadata.yaml\n",
      "INFO:root:S2B_MSIL2A_20200403T221939_T60KYG Uploading to S3 Bucket\n",
      "DEBUG:root:Endpoint URL: http://s3-uk-1.sa-catapult.co.uk\n"
     ]
    },
    {
     "name": "stdout",
     "output_type": "stream",
     "text": [
      "Preparing scene S2B_MSIL2A_20200403T221939_T60KYG_mlwater\n",
      "Scene path ../tmp/data/intermediate/S2B_MSIL2A_20200403T221939_T60KYG_tmp/S2B_MSIL2A_20200403T221939_T60KYG_mlwater/\n",
      "{'waterprob': {'path': 'S2B_MSIL2A_20200403T221939_T60KYG_waterprob.tif'}, 'watermask': {'path': 'S2B_MSIL2A_20200403T221939_T60KYG_watermask.tif'}}\n",
      "{'spatial_reference': 'PROJCS[\"WGS 84 / UTM zone 60S\",GEOGCS[\"WGS 84\",DATUM[\"WGS_1984\",SPHEROID[\"WGS 84\",6378137,298.257223563,AUTHORITY[\"EPSG\",\"7030\"]],AUTHORITY[\"EPSG\",\"6326\"]],PRIMEM[\"Greenwich\",0,AUTHORITY[\"EPSG\",\"8901\"]],UNIT[\"degree\",0.0174532925199433,AUTHORITY[\"EPSG\",\"9122\"]],AUTHORITY[\"EPSG\",\"4326\"]],PROJECTION[\"Transverse_Mercator\"],PARAMETER[\"latitude_of_origin\",0],PARAMETER[\"central_meridian\",177],PARAMETER[\"scale_factor\",0.9996],PARAMETER[\"false_easting\",500000],PARAMETER[\"false_northing\",10000000],UNIT[\"metre\",1,AUTHORITY[\"EPSG\",\"9001\"]],AXIS[\"Easting\",EAST],AXIS[\"Northing\",NORTH],AUTHORITY[\"EPSG\",\"32760\"]]', 'geo_ref_points': {'ul': {'x': 699965.0, 'y': 8199995.0}, 'ur': {'x': 809755.0, 'y': 8199995.0}, 'll': {'x': 699965.0, 'y': 8090205.0}, 'lr': {'x': 809755.0, 'y': 8090205.0}}} {'ul': {'lon': 178.87125520999626, 'lat': -16.272604765528875}, 'ur': {'lon': 179.89787894074132, 'lat': -16.261037234211827}, 'll': {'lon': 178.88098591346997, 'lat': -17.26454401651915}, 'lr': {'lon': 179.91293308498075, 'lat': -17.252229728310596}}\n"
     ]
    },
    {
     "name": "stderr",
     "output_type": "stream",
     "text": [
      "INFO:root:Local source file: ../tmp/data/intermediate/S2B_MSIL2A_20200403T221939_T60KYG_tmp/S2B_MSIL2A_20200403T221939_T60KYG_mlwater/S2B_MSIL2A_20200403T221939_T60KYG_waterprob.tif\n",
      "INFO:root:S3 target file: common_sensing/fiji/mlwatermasks/S2B_MSIL2A_20200403T221939_T60KYG_mlwater/S2B_MSIL2A_20200403T221939_T60KYG_waterprob.tif\n",
      "INFO:root:Start: ../tmp/data/intermediate/S2B_MSIL2A_20200403T221939_T60KYG_tmp/S2B_MSIL2A_20200403T221939_T60KYG_mlwater/S2B_MSIL2A_20200403T221939_T60KYG_waterprob.tif 2020-06-22 14:07:32\n",
      "INFO:root:Finish: ../tmp/data/intermediate/S2B_MSIL2A_20200403T221939_T60KYG_tmp/S2B_MSIL2A_20200403T221939_T60KYG_mlwater/S2B_MSIL2A_20200403T221939_T60KYG_waterprob.tif 2020-06-22 14:07:53\n",
      "DEBUG:root:Endpoint URL: http://s3-uk-1.sa-catapult.co.uk\n",
      "INFO:root:Local source file: ../tmp/data/intermediate/S2B_MSIL2A_20200403T221939_T60KYG_tmp/S2B_MSIL2A_20200403T221939_T60KYG_mlwater/datacube-metadata.yaml\n",
      "INFO:root:S3 target file: common_sensing/fiji/mlwatermasks/S2B_MSIL2A_20200403T221939_T60KYG_mlwater/datacube-metadata.yaml\n",
      "INFO:root:Start: ../tmp/data/intermediate/S2B_MSIL2A_20200403T221939_T60KYG_tmp/S2B_MSIL2A_20200403T221939_T60KYG_mlwater/datacube-metadata.yaml 2020-06-22 14:07:53\n",
      "INFO:root:Finish: ../tmp/data/intermediate/S2B_MSIL2A_20200403T221939_T60KYG_tmp/S2B_MSIL2A_20200403T221939_T60KYG_mlwater/datacube-metadata.yaml 2020-06-22 14:07:53\n",
      "DEBUG:root:Endpoint URL: http://s3-uk-1.sa-catapult.co.uk\n",
      "INFO:root:Local source file: ../tmp/data/intermediate/S2B_MSIL2A_20200403T221939_T60KYG_tmp/S2B_MSIL2A_20200403T221939_T60KYG_mlwater/S2B_MSIL2A_20200403T221939_T60KYG_watermask.tif\n",
      "INFO:root:S3 target file: common_sensing/fiji/mlwatermasks/S2B_MSIL2A_20200403T221939_T60KYG_mlwater/S2B_MSIL2A_20200403T221939_T60KYG_watermask.tif\n",
      "INFO:root:Start: ../tmp/data/intermediate/S2B_MSIL2A_20200403T221939_T60KYG_tmp/S2B_MSIL2A_20200403T221939_T60KYG_mlwater/S2B_MSIL2A_20200403T221939_T60KYG_watermask.tif 2020-06-22 14:07:53\n",
      "INFO:root:Finish: ../tmp/data/intermediate/S2B_MSIL2A_20200403T221939_T60KYG_tmp/S2B_MSIL2A_20200403T221939_T60KYG_mlwater/S2B_MSIL2A_20200403T221939_T60KYG_watermask.tif 2020-06-22 14:08:19\n",
      "INFO:root:S2B_MSIL2A_20200406T223009_T60KXF Starting\n",
      "INFO:root:S2B_MSIL2A_20200406T223009_T60KXF Finding & Streaming Image & Labels Yamls\n",
      "INFO:root:S2B_MSIL2A_20200406T223009_T60KXF Found & access yamls\n",
      "INFO:root:S2B_MSIL2A_20200406T223009_T60KXF Loading & Reformatting bands\n"
     ]
    },
    {
     "name": "stdout",
     "output_type": "stream",
     "text": [
      "not boo\n",
      "Working on {\"img_yml_path\": \"common_sensing/fiji/sentinel_2/S2B_MSIL2A_20200406T223009_T60KXF/datacube-metadata.yaml\", \"lab_yml_path\": \"common_sensing/fiji/wofs_summary/wofssummary_20180101_20190101/datacube-metadata.yaml\", \"s3_bucket\": \"public-eo-data\", \"s3_dir\": \"common_sensing/fiji/mlwatermasks/\"}\n"
     ]
    },
    {
     "name": "stderr",
     "output_type": "stream",
     "text": [
      "INFO:botocore.credentials:Found credentials in environment variables.\n",
      "INFO:botocore.credentials:Found credentials in environment variables.\n",
      "INFO:botocore.credentials:Found credentials in environment variables.\n",
      "INFO:botocore.credentials:Found credentials in environment variables.\n",
      "INFO:botocore.credentials:Found credentials in environment variables.\n",
      "INFO:botocore.credentials:Found credentials in environment variables.\n",
      "INFO:botocore.credentials:Found credentials in environment variables.\n",
      "INFO:botocore.credentials:Found credentials in environment variables.\n",
      "INFO:root:S2B_MSIL2A_20200406T223009_T60KXF Applying masks\n",
      "INFO:root:S2B_MSIL2A_20200406T223009_T60KXF Training\n",
      "[Parallel(n_jobs=2)]: Using backend ThreadingBackend with 2 concurrent workers.\n"
     ]
    },
    {
     "name": "stdout",
     "output_type": "stream",
     "text": [
      "building tree 1 of 4building tree 2 of 4\n",
      "\n",
      "building tree 3 of 4\n",
      "building tree 4 of 4\n"
     ]
    },
    {
     "name": "stderr",
     "output_type": "stream",
     "text": [
      "[Parallel(n_jobs=2)]: Done   4 out of   4 | elapsed:   56.5s remaining:    0.0s\n",
      "[Parallel(n_jobs=2)]: Done   4 out of   4 | elapsed:   56.5s finished\n",
      "INFO:root:S2B_MSIL2A_20200406T223009_T60KXF Prediction\n",
      "[Parallel(n_jobs=2)]: Using backend ThreadingBackend with 2 concurrent workers.\n",
      "[Parallel(n_jobs=2)]: Done   4 out of   4 | elapsed:   13.0s remaining:    0.0s\n",
      "[Parallel(n_jobs=2)]: Done   4 out of   4 | elapsed:   13.0s finished\n",
      "[Parallel(n_jobs=2)]: Using backend ThreadingBackend with 2 concurrent workers.\n",
      "[Parallel(n_jobs=2)]: Done   4 out of   4 | elapsed:   13.0s remaining:    0.0s\n",
      "[Parallel(n_jobs=2)]: Done   4 out of   4 | elapsed:   13.0s finished\n",
      "INFO:root:S2B_MSIL2A_20200406T223009_T60KXF Exporting water product\n",
      "INFO:botocore.credentials:Found credentials in environment variables.\n",
      "INFO:botocore.credentials:Found credentials in environment variables.\n",
      "INFO:root:S2B_MSIL2A_20200406T223009_T60KXF Creating yaml\n",
      "DEBUG:root:in get geometry ../tmp/data/intermediate/S2B_MSIL2A_20200406T223009_T60KXF_tmp/S2B_MSIL2A_20200406T223009_T60KXF_mlwater/S2B_MSIL2A_20200406T223009_T60KXF_watermask.tif\n",
      "INFO:botocore.credentials:Found credentials in environment variables.\n",
      "DEBUG:root:Created yaml: ../tmp/data/intermediate/S2B_MSIL2A_20200406T223009_T60KXF_tmp/S2B_MSIL2A_20200406T223009_T60KXF_mlwater/datacube-metadata.yaml\n",
      "INFO:root:S2B_MSIL2A_20200406T223009_T60KXF Uploading to S3 Bucket\n",
      "DEBUG:root:Endpoint URL: http://s3-uk-1.sa-catapult.co.uk\n",
      "INFO:root:Local source file: ../tmp/data/intermediate/S2B_MSIL2A_20200406T223009_T60KXF_tmp/S2B_MSIL2A_20200406T223009_T60KXF_mlwater/S2B_MSIL2A_20200406T223009_T60KXF_watermask.tif\n",
      "INFO:root:S3 target file: common_sensing/fiji/mlwatermasks/S2B_MSIL2A_20200406T223009_T60KXF_mlwater/S2B_MSIL2A_20200406T223009_T60KXF_watermask.tif\n",
      "INFO:root:Start: ../tmp/data/intermediate/S2B_MSIL2A_20200406T223009_T60KXF_tmp/S2B_MSIL2A_20200406T223009_T60KXF_mlwater/S2B_MSIL2A_20200406T223009_T60KXF_watermask.tif 2020-06-22 14:12:10\n"
     ]
    },
    {
     "name": "stdout",
     "output_type": "stream",
     "text": [
      "Preparing scene S2B_MSIL2A_20200406T223009_T60KXF_mlwater\n",
      "Scene path ../tmp/data/intermediate/S2B_MSIL2A_20200406T223009_T60KXF_tmp/S2B_MSIL2A_20200406T223009_T60KXF_mlwater/\n",
      "{'watermask': {'path': 'S2B_MSIL2A_20200406T223009_T60KXF_watermask.tif'}, 'waterprob': {'path': 'S2B_MSIL2A_20200406T223009_T60KXF_waterprob.tif'}}\n",
      "{'spatial_reference': 'PROJCS[\"WGS 84 / UTM zone 60S\",GEOGCS[\"WGS 84\",DATUM[\"WGS_1984\",SPHEROID[\"WGS 84\",6378137,298.257223563,AUTHORITY[\"EPSG\",\"7030\"]],AUTHORITY[\"EPSG\",\"6326\"]],PRIMEM[\"Greenwich\",0,AUTHORITY[\"EPSG\",\"8901\"]],UNIT[\"degree\",0.0174532925199433,AUTHORITY[\"EPSG\",\"9122\"]],AUTHORITY[\"EPSG\",\"4326\"]],PROJECTION[\"Transverse_Mercator\"],PARAMETER[\"latitude_of_origin\",0],PARAMETER[\"central_meridian\",177],PARAMETER[\"scale_factor\",0.9996],PARAMETER[\"false_easting\",500000],PARAMETER[\"false_northing\",10000000],UNIT[\"metre\",1,AUTHORITY[\"EPSG\",\"9001\"]],AXIS[\"Easting\",EAST],AXIS[\"Northing\",NORTH],AUTHORITY[\"EPSG\",\"32760\"]]', 'geo_ref_points': {'ul': {'x': 600005.0, 'y': 8100035.0}, 'ur': {'x': 709795.0, 'y': 8100035.0}, 'll': {'x': 600005.0, 'y': 7990245.0}, 'lr': {'x': 709795.0, 'y': 7990245.0}}} {'ul': {'lon': 177.94039370455036, 'lat': -17.182303526159554}, 'ur': {'lon': 178.97247120667822, 'lat': -17.174853308574782}, 'll': {'lon': 177.94556763367254, 'lat': -18.174553081137606}, 'lr': {'lon': 178.98331681851872, 'lat': -18.166644279587533}}\n"
     ]
    },
    {
     "name": "stderr",
     "output_type": "stream",
     "text": [
      "INFO:root:Finish: ../tmp/data/intermediate/S2B_MSIL2A_20200406T223009_T60KXF_tmp/S2B_MSIL2A_20200406T223009_T60KXF_mlwater/S2B_MSIL2A_20200406T223009_T60KXF_watermask.tif 2020-06-22 14:12:33\n",
      "DEBUG:root:Endpoint URL: http://s3-uk-1.sa-catapult.co.uk\n",
      "INFO:root:Local source file: ../tmp/data/intermediate/S2B_MSIL2A_20200406T223009_T60KXF_tmp/S2B_MSIL2A_20200406T223009_T60KXF_mlwater/S2B_MSIL2A_20200406T223009_T60KXF_waterprob.tif\n",
      "INFO:root:S3 target file: common_sensing/fiji/mlwatermasks/S2B_MSIL2A_20200406T223009_T60KXF_mlwater/S2B_MSIL2A_20200406T223009_T60KXF_waterprob.tif\n",
      "INFO:root:Start: ../tmp/data/intermediate/S2B_MSIL2A_20200406T223009_T60KXF_tmp/S2B_MSIL2A_20200406T223009_T60KXF_mlwater/S2B_MSIL2A_20200406T223009_T60KXF_waterprob.tif 2020-06-22 14:12:33\n",
      "INFO:root:Finish: ../tmp/data/intermediate/S2B_MSIL2A_20200406T223009_T60KXF_tmp/S2B_MSIL2A_20200406T223009_T60KXF_mlwater/S2B_MSIL2A_20200406T223009_T60KXF_waterprob.tif 2020-06-22 14:12:59\n",
      "DEBUG:root:Endpoint URL: http://s3-uk-1.sa-catapult.co.uk\n",
      "INFO:root:Local source file: ../tmp/data/intermediate/S2B_MSIL2A_20200406T223009_T60KXF_tmp/S2B_MSIL2A_20200406T223009_T60KXF_mlwater/datacube-metadata.yaml\n",
      "INFO:root:S3 target file: common_sensing/fiji/mlwatermasks/S2B_MSIL2A_20200406T223009_T60KXF_mlwater/datacube-metadata.yaml\n",
      "INFO:root:Start: ../tmp/data/intermediate/S2B_MSIL2A_20200406T223009_T60KXF_tmp/S2B_MSIL2A_20200406T223009_T60KXF_mlwater/datacube-metadata.yaml 2020-06-22 14:12:59\n",
      "INFO:root:Finish: ../tmp/data/intermediate/S2B_MSIL2A_20200406T223009_T60KXF_tmp/S2B_MSIL2A_20200406T223009_T60KXF_mlwater/datacube-metadata.yaml 2020-06-22 14:12:59\n",
      "INFO:root:S2B_MSIL2A_20200406T223009_T60KXG Starting\n",
      "INFO:root:S2B_MSIL2A_20200406T223009_T60KXG Finding & Streaming Image & Labels Yamls\n",
      "INFO:root:S2B_MSIL2A_20200406T223009_T60KXG Found & access yamls\n",
      "INFO:root:S2B_MSIL2A_20200406T223009_T60KXG Loading & Reformatting bands\n"
     ]
    },
    {
     "name": "stdout",
     "output_type": "stream",
     "text": [
      "not boo\n",
      "Working on {\"img_yml_path\": \"common_sensing/fiji/sentinel_2/S2B_MSIL2A_20200406T223009_T60KXG/datacube-metadata.yaml\", \"lab_yml_path\": \"common_sensing/fiji/wofs_summary/wofssummary_20180101_20190101/datacube-metadata.yaml\", \"s3_bucket\": \"public-eo-data\", \"s3_dir\": \"common_sensing/fiji/mlwatermasks/\"}\n"
     ]
    },
    {
     "name": "stderr",
     "output_type": "stream",
     "text": [
      "INFO:botocore.credentials:Found credentials in environment variables.\n",
      "INFO:botocore.credentials:Found credentials in environment variables.\n",
      "INFO:botocore.credentials:Found credentials in environment variables.\n",
      "INFO:botocore.credentials:Found credentials in environment variables.\n",
      "INFO:botocore.credentials:Found credentials in environment variables.\n",
      "INFO:botocore.credentials:Found credentials in environment variables.\n",
      "INFO:botocore.credentials:Found credentials in environment variables.\n",
      "INFO:botocore.credentials:Found credentials in environment variables.\n",
      "INFO:root:S2B_MSIL2A_20200406T223009_T60KXG Applying masks\n",
      "INFO:root:S2B_MSIL2A_20200406T223009_T60KXG Training\n",
      "[Parallel(n_jobs=2)]: Using backend ThreadingBackend with 2 concurrent workers.\n"
     ]
    },
    {
     "name": "stdout",
     "output_type": "stream",
     "text": [
      "building tree 1 of 4\n",
      "building tree 2 of 4\n",
      "building tree 3 of 4\n",
      "building tree 4 of 4\n"
     ]
    },
    {
     "name": "stderr",
     "output_type": "stream",
     "text": [
      "[Parallel(n_jobs=2)]: Done   4 out of   4 | elapsed:   58.1s remaining:    0.0s\n",
      "[Parallel(n_jobs=2)]: Done   4 out of   4 | elapsed:   58.1s finished\n",
      "INFO:root:S2B_MSIL2A_20200406T223009_T60KXG Prediction\n",
      "[Parallel(n_jobs=2)]: Using backend ThreadingBackend with 2 concurrent workers.\n",
      "[Parallel(n_jobs=2)]: Done   4 out of   4 | elapsed:   12.6s remaining:    0.0s\n",
      "[Parallel(n_jobs=2)]: Done   4 out of   4 | elapsed:   12.6s finished\n",
      "[Parallel(n_jobs=2)]: Using backend ThreadingBackend with 2 concurrent workers.\n",
      "[Parallel(n_jobs=2)]: Done   4 out of   4 | elapsed:   12.9s remaining:    0.0s\n",
      "[Parallel(n_jobs=2)]: Done   4 out of   4 | elapsed:   12.9s finished\n",
      "INFO:root:S2B_MSIL2A_20200406T223009_T60KXG Exporting water product\n",
      "INFO:botocore.credentials:Found credentials in environment variables.\n",
      "INFO:botocore.credentials:Found credentials in environment variables.\n",
      "INFO:root:S2B_MSIL2A_20200406T223009_T60KXG Creating yaml\n",
      "DEBUG:root:in get geometry ../tmp/data/intermediate/S2B_MSIL2A_20200406T223009_T60KXG_tmp/S2B_MSIL2A_20200406T223009_T60KXG_mlwater/S2B_MSIL2A_20200406T223009_T60KXG_watermask.tif\n",
      "INFO:botocore.credentials:Found credentials in environment variables.\n",
      "DEBUG:root:Created yaml: ../tmp/data/intermediate/S2B_MSIL2A_20200406T223009_T60KXG_tmp/S2B_MSIL2A_20200406T223009_T60KXG_mlwater/datacube-metadata.yaml\n",
      "INFO:root:S2B_MSIL2A_20200406T223009_T60KXG Uploading to S3 Bucket\n",
      "DEBUG:root:Endpoint URL: http://s3-uk-1.sa-catapult.co.uk\n",
      "INFO:root:Local source file: ../tmp/data/intermediate/S2B_MSIL2A_20200406T223009_T60KXG_tmp/S2B_MSIL2A_20200406T223009_T60KXG_mlwater/datacube-metadata.yaml\n",
      "INFO:root:S3 target file: common_sensing/fiji/mlwatermasks/S2B_MSIL2A_20200406T223009_T60KXG_mlwater/datacube-metadata.yaml\n",
      "INFO:root:Start: ../tmp/data/intermediate/S2B_MSIL2A_20200406T223009_T60KXG_tmp/S2B_MSIL2A_20200406T223009_T60KXG_mlwater/datacube-metadata.yaml 2020-06-22 14:17:00\n",
      "INFO:root:Finish: ../tmp/data/intermediate/S2B_MSIL2A_20200406T223009_T60KXG_tmp/S2B_MSIL2A_20200406T223009_T60KXG_mlwater/datacube-metadata.yaml 2020-06-22 14:17:00\n"
     ]
    },
    {
     "name": "stdout",
     "output_type": "stream",
     "text": [
      "Preparing scene S2B_MSIL2A_20200406T223009_T60KXG_mlwater\n",
      "Scene path ../tmp/data/intermediate/S2B_MSIL2A_20200406T223009_T60KXG_tmp/S2B_MSIL2A_20200406T223009_T60KXG_mlwater/\n",
      "{'waterprob': {'path': 'S2B_MSIL2A_20200406T223009_T60KXG_waterprob.tif'}, 'watermask': {'path': 'S2B_MSIL2A_20200406T223009_T60KXG_watermask.tif'}}\n",
      "{'spatial_reference': 'PROJCS[\"WGS 84 / UTM zone 60S\",GEOGCS[\"WGS 84\",DATUM[\"WGS_1984\",SPHEROID[\"WGS 84\",6378137,298.257223563,AUTHORITY[\"EPSG\",\"7030\"]],AUTHORITY[\"EPSG\",\"6326\"]],PRIMEM[\"Greenwich\",0,AUTHORITY[\"EPSG\",\"8901\"]],UNIT[\"degree\",0.0174532925199433,AUTHORITY[\"EPSG\",\"9122\"]],AUTHORITY[\"EPSG\",\"4326\"]],PROJECTION[\"Transverse_Mercator\"],PARAMETER[\"latitude_of_origin\",0],PARAMETER[\"central_meridian\",177],PARAMETER[\"scale_factor\",0.9996],PARAMETER[\"false_easting\",500000],PARAMETER[\"false_northing\",10000000],UNIT[\"metre\",1,AUTHORITY[\"EPSG\",\"9001\"]],AXIS[\"Easting\",EAST],AXIS[\"Northing\",NORTH],AUTHORITY[\"EPSG\",\"32760\"]]', 'geo_ref_points': {'ul': {'x': 600005.0, 'y': 8199995.0}, 'ur': {'x': 709795.0, 'y': 8199995.0}, 'll': {'x': 600005.0, 'y': 8090205.0}, 'lr': {'x': 709795.0, 'y': 8090205.0}}} {'ul': {'lon': 177.93597345903606, 'lat': -16.278808485001736}, 'ur': {'lon': 178.96320538299548, 'lat': -16.27177171358243}, 'll': {'lon': 177.94084322572849, 'lat': -17.27114826364198}, 'lr': {'lon': 178.97341349919242, 'lat': -17.26365718270488}}\n"
     ]
    },
    {
     "name": "stderr",
     "output_type": "stream",
     "text": [
      "DEBUG:root:Endpoint URL: http://s3-uk-1.sa-catapult.co.uk\n",
      "INFO:root:Local source file: ../tmp/data/intermediate/S2B_MSIL2A_20200406T223009_T60KXG_tmp/S2B_MSIL2A_20200406T223009_T60KXG_mlwater/S2B_MSIL2A_20200406T223009_T60KXG_waterprob.tif\n",
      "INFO:root:S3 target file: common_sensing/fiji/mlwatermasks/S2B_MSIL2A_20200406T223009_T60KXG_mlwater/S2B_MSIL2A_20200406T223009_T60KXG_waterprob.tif\n",
      "INFO:root:Start: ../tmp/data/intermediate/S2B_MSIL2A_20200406T223009_T60KXG_tmp/S2B_MSIL2A_20200406T223009_T60KXG_mlwater/S2B_MSIL2A_20200406T223009_T60KXG_waterprob.tif 2020-06-22 14:17:00\n",
      "INFO:root:Finish: ../tmp/data/intermediate/S2B_MSIL2A_20200406T223009_T60KXG_tmp/S2B_MSIL2A_20200406T223009_T60KXG_mlwater/S2B_MSIL2A_20200406T223009_T60KXG_waterprob.tif 2020-06-22 14:17:26\n",
      "DEBUG:root:Endpoint URL: http://s3-uk-1.sa-catapult.co.uk\n",
      "INFO:root:Local source file: ../tmp/data/intermediate/S2B_MSIL2A_20200406T223009_T60KXG_tmp/S2B_MSIL2A_20200406T223009_T60KXG_mlwater/S2B_MSIL2A_20200406T223009_T60KXG_watermask.tif\n",
      "INFO:root:S3 target file: common_sensing/fiji/mlwatermasks/S2B_MSIL2A_20200406T223009_T60KXG_mlwater/S2B_MSIL2A_20200406T223009_T60KXG_watermask.tif\n",
      "INFO:root:Start: ../tmp/data/intermediate/S2B_MSIL2A_20200406T223009_T60KXG_tmp/S2B_MSIL2A_20200406T223009_T60KXG_mlwater/S2B_MSIL2A_20200406T223009_T60KXG_watermask.tif 2020-06-22 14:17:26\n",
      "INFO:root:Finish: ../tmp/data/intermediate/S2B_MSIL2A_20200406T223009_T60KXG_tmp/S2B_MSIL2A_20200406T223009_T60KXG_mlwater/S2B_MSIL2A_20200406T223009_T60KXG_watermask.tif 2020-06-22 14:17:47\n",
      "INFO:root:S2B_MSIL2A_20200413T221939_T60KXF Starting\n",
      "INFO:root:S2B_MSIL2A_20200413T221939_T60KXF Finding & Streaming Image & Labels Yamls\n",
      "INFO:root:S2B_MSIL2A_20200413T221939_T60KXF Found & access yamls\n",
      "INFO:root:S2B_MSIL2A_20200413T221939_T60KXF Loading & Reformatting bands\n"
     ]
    },
    {
     "name": "stdout",
     "output_type": "stream",
     "text": [
      "not boo\n",
      "Working on {\"img_yml_path\": \"common_sensing/fiji/sentinel_2/S2B_MSIL2A_20200413T221939_T60KXF/datacube-metadata.yaml\", \"lab_yml_path\": \"common_sensing/fiji/wofs_summary/wofssummary_20180101_20190101/datacube-metadata.yaml\", \"s3_bucket\": \"public-eo-data\", \"s3_dir\": \"common_sensing/fiji/mlwatermasks/\"}\n"
     ]
    },
    {
     "name": "stderr",
     "output_type": "stream",
     "text": [
      "INFO:botocore.credentials:Found credentials in environment variables.\n",
      "INFO:botocore.credentials:Found credentials in environment variables.\n",
      "INFO:botocore.credentials:Found credentials in environment variables.\n",
      "INFO:botocore.credentials:Found credentials in environment variables.\n",
      "INFO:botocore.credentials:Found credentials in environment variables.\n",
      "INFO:botocore.credentials:Found credentials in environment variables.\n",
      "INFO:botocore.credentials:Found credentials in environment variables.\n",
      "INFO:botocore.credentials:Found credentials in environment variables.\n",
      "INFO:root:S2B_MSIL2A_20200413T221939_T60KXF Applying masks\n",
      "INFO:root:S2B_MSIL2A_20200413T221939_T60KXF Training\n",
      "[Parallel(n_jobs=2)]: Using backend ThreadingBackend with 2 concurrent workers.\n"
     ]
    },
    {
     "name": "stdout",
     "output_type": "stream",
     "text": [
      "building tree 1 of 4\n",
      "building tree 2 of 4\n",
      "building tree 3 of 4building tree 4 of 4\n",
      "\n"
     ]
    },
    {
     "name": "stderr",
     "output_type": "stream",
     "text": [
      "[Parallel(n_jobs=2)]: Done   4 out of   4 | elapsed:  1.3min remaining:    0.0s\n",
      "[Parallel(n_jobs=2)]: Done   4 out of   4 | elapsed:  1.3min finished\n",
      "INFO:root:S2B_MSIL2A_20200413T221939_T60KXF Prediction\n",
      "[Parallel(n_jobs=2)]: Using backend ThreadingBackend with 2 concurrent workers.\n",
      "[Parallel(n_jobs=2)]: Done   4 out of   4 | elapsed:   15.5s remaining:    0.0s\n",
      "[Parallel(n_jobs=2)]: Done   4 out of   4 | elapsed:   15.5s finished\n",
      "[Parallel(n_jobs=2)]: Using backend ThreadingBackend with 2 concurrent workers.\n",
      "[Parallel(n_jobs=2)]: Done   4 out of   4 | elapsed:   15.5s remaining:    0.0s\n",
      "[Parallel(n_jobs=2)]: Done   4 out of   4 | elapsed:   15.5s finished\n",
      "INFO:root:S2B_MSIL2A_20200413T221939_T60KXF Exporting water product\n",
      "INFO:botocore.credentials:Found credentials in environment variables.\n",
      "INFO:botocore.credentials:Found credentials in environment variables.\n",
      "INFO:root:S2B_MSIL2A_20200413T221939_T60KXF Creating yaml\n",
      "DEBUG:root:in get geometry ../tmp/data/intermediate/S2B_MSIL2A_20200413T221939_T60KXF_tmp/S2B_MSIL2A_20200413T221939_T60KXF_mlwater/S2B_MSIL2A_20200413T221939_T60KXF_watermask.tif\n",
      "INFO:botocore.credentials:Found credentials in environment variables.\n",
      "DEBUG:root:Created yaml: ../tmp/data/intermediate/S2B_MSIL2A_20200413T221939_T60KXF_tmp/S2B_MSIL2A_20200413T221939_T60KXF_mlwater/datacube-metadata.yaml\n",
      "INFO:root:S2B_MSIL2A_20200413T221939_T60KXF Uploading to S3 Bucket\n",
      "DEBUG:root:Endpoint URL: http://s3-uk-1.sa-catapult.co.uk\n",
      "INFO:root:Local source file: ../tmp/data/intermediate/S2B_MSIL2A_20200413T221939_T60KXF_tmp/S2B_MSIL2A_20200413T221939_T60KXF_mlwater/S2B_MSIL2A_20200413T221939_T60KXF_watermask.tif\n",
      "INFO:root:S3 target file: common_sensing/fiji/mlwatermasks/S2B_MSIL2A_20200413T221939_T60KXF_mlwater/S2B_MSIL2A_20200413T221939_T60KXF_watermask.tif\n",
      "INFO:root:Start: ../tmp/data/intermediate/S2B_MSIL2A_20200413T221939_T60KXF_tmp/S2B_MSIL2A_20200413T221939_T60KXF_mlwater/S2B_MSIL2A_20200413T221939_T60KXF_watermask.tif 2020-06-22 14:22:28\n"
     ]
    },
    {
     "name": "stdout",
     "output_type": "stream",
     "text": [
      "Preparing scene S2B_MSIL2A_20200413T221939_T60KXF_mlwater\n",
      "Scene path ../tmp/data/intermediate/S2B_MSIL2A_20200413T221939_T60KXF_tmp/S2B_MSIL2A_20200413T221939_T60KXF_mlwater/\n",
      "{'watermask': {'path': 'S2B_MSIL2A_20200413T221939_T60KXF_watermask.tif'}, 'waterprob': {'path': 'S2B_MSIL2A_20200413T221939_T60KXF_waterprob.tif'}}\n",
      "{'spatial_reference': 'PROJCS[\"WGS 84 / UTM zone 60S\",GEOGCS[\"WGS 84\",DATUM[\"WGS_1984\",SPHEROID[\"WGS 84\",6378137,298.257223563,AUTHORITY[\"EPSG\",\"7030\"]],AUTHORITY[\"EPSG\",\"6326\"]],PRIMEM[\"Greenwich\",0,AUTHORITY[\"EPSG\",\"8901\"]],UNIT[\"degree\",0.0174532925199433,AUTHORITY[\"EPSG\",\"9122\"]],AUTHORITY[\"EPSG\",\"4326\"]],PROJECTION[\"Transverse_Mercator\"],PARAMETER[\"latitude_of_origin\",0],PARAMETER[\"central_meridian\",177],PARAMETER[\"scale_factor\",0.9996],PARAMETER[\"false_easting\",500000],PARAMETER[\"false_northing\",10000000],UNIT[\"metre\",1,AUTHORITY[\"EPSG\",\"9001\"]],AXIS[\"Easting\",EAST],AXIS[\"Northing\",NORTH],AUTHORITY[\"EPSG\",\"32760\"]]', 'geo_ref_points': {'ul': {'x': 600005.0, 'y': 8100035.0}, 'ur': {'x': 709795.0, 'y': 8100035.0}, 'll': {'x': 600005.0, 'y': 7990245.0}, 'lr': {'x': 709795.0, 'y': 7990245.0}}} {'ul': {'lon': 177.94039370455036, 'lat': -17.182303526159554}, 'ur': {'lon': 178.97247120667822, 'lat': -17.174853308574782}, 'll': {'lon': 177.94556763367254, 'lat': -18.174553081137606}, 'lr': {'lon': 178.98331681851872, 'lat': -18.166644279587533}}\n"
     ]
    },
    {
     "name": "stderr",
     "output_type": "stream",
     "text": [
      "INFO:root:Finish: ../tmp/data/intermediate/S2B_MSIL2A_20200413T221939_T60KXF_tmp/S2B_MSIL2A_20200413T221939_T60KXF_mlwater/S2B_MSIL2A_20200413T221939_T60KXF_watermask.tif 2020-06-22 14:22:57\n",
      "DEBUG:root:Endpoint URL: http://s3-uk-1.sa-catapult.co.uk\n",
      "INFO:root:Local source file: ../tmp/data/intermediate/S2B_MSIL2A_20200413T221939_T60KXF_tmp/S2B_MSIL2A_20200413T221939_T60KXF_mlwater/S2B_MSIL2A_20200413T221939_T60KXF_waterprob.tif\n",
      "INFO:root:S3 target file: common_sensing/fiji/mlwatermasks/S2B_MSIL2A_20200413T221939_T60KXF_mlwater/S2B_MSIL2A_20200413T221939_T60KXF_waterprob.tif\n",
      "INFO:root:Start: ../tmp/data/intermediate/S2B_MSIL2A_20200413T221939_T60KXF_tmp/S2B_MSIL2A_20200413T221939_T60KXF_mlwater/S2B_MSIL2A_20200413T221939_T60KXF_waterprob.tif 2020-06-22 14:22:57\n",
      "INFO:root:Finish: ../tmp/data/intermediate/S2B_MSIL2A_20200413T221939_T60KXF_tmp/S2B_MSIL2A_20200413T221939_T60KXF_mlwater/S2B_MSIL2A_20200413T221939_T60KXF_waterprob.tif 2020-06-22 14:23:23\n",
      "DEBUG:root:Endpoint URL: http://s3-uk-1.sa-catapult.co.uk\n",
      "INFO:root:Local source file: ../tmp/data/intermediate/S2B_MSIL2A_20200413T221939_T60KXF_tmp/S2B_MSIL2A_20200413T221939_T60KXF_mlwater/datacube-metadata.yaml\n",
      "INFO:root:S3 target file: common_sensing/fiji/mlwatermasks/S2B_MSIL2A_20200413T221939_T60KXF_mlwater/datacube-metadata.yaml\n",
      "INFO:root:Start: ../tmp/data/intermediate/S2B_MSIL2A_20200413T221939_T60KXF_tmp/S2B_MSIL2A_20200413T221939_T60KXF_mlwater/datacube-metadata.yaml 2020-06-22 14:23:23\n",
      "INFO:root:Finish: ../tmp/data/intermediate/S2B_MSIL2A_20200413T221939_T60KXF_tmp/S2B_MSIL2A_20200413T221939_T60KXF_mlwater/datacube-metadata.yaml 2020-06-22 14:23:23\n",
      "INFO:root:S2B_MSIL2A_20200413T221939_T60KXG Starting\n",
      "INFO:root:S2B_MSIL2A_20200413T221939_T60KXG Finding & Streaming Image & Labels Yamls\n",
      "INFO:root:S2B_MSIL2A_20200413T221939_T60KXG Found & access yamls\n",
      "INFO:root:S2B_MSIL2A_20200413T221939_T60KXG Loading & Reformatting bands\n"
     ]
    },
    {
     "name": "stdout",
     "output_type": "stream",
     "text": [
      "not boo\n",
      "Working on {\"img_yml_path\": \"common_sensing/fiji/sentinel_2/S2B_MSIL2A_20200413T221939_T60KXG/datacube-metadata.yaml\", \"lab_yml_path\": \"common_sensing/fiji/wofs_summary/wofssummary_20180101_20190101/datacube-metadata.yaml\", \"s3_bucket\": \"public-eo-data\", \"s3_dir\": \"common_sensing/fiji/mlwatermasks/\"}\n"
     ]
    },
    {
     "name": "stderr",
     "output_type": "stream",
     "text": [
      "INFO:botocore.credentials:Found credentials in environment variables.\n",
      "INFO:botocore.credentials:Found credentials in environment variables.\n",
      "INFO:botocore.credentials:Found credentials in environment variables.\n",
      "INFO:botocore.credentials:Found credentials in environment variables.\n",
      "INFO:botocore.credentials:Found credentials in environment variables.\n",
      "INFO:botocore.credentials:Found credentials in environment variables.\n",
      "INFO:botocore.credentials:Found credentials in environment variables.\n",
      "INFO:botocore.credentials:Found credentials in environment variables.\n",
      "INFO:root:S2B_MSIL2A_20200413T221939_T60KXG Applying masks\n",
      "INFO:root:S2B_MSIL2A_20200413T221939_T60KXG Training\n",
      "[Parallel(n_jobs=2)]: Using backend ThreadingBackend with 2 concurrent workers.\n"
     ]
    },
    {
     "name": "stdout",
     "output_type": "stream",
     "text": [
      "building tree 1 of 4building tree 2 of 4\n",
      "\n",
      "building tree 3 of 4\n",
      "building tree 4 of 4\n"
     ]
    },
    {
     "name": "stderr",
     "output_type": "stream",
     "text": [
      "[Parallel(n_jobs=2)]: Done   4 out of   4 | elapsed:  1.7min remaining:    0.0s\n",
      "[Parallel(n_jobs=2)]: Done   4 out of   4 | elapsed:  1.7min finished\n",
      "INFO:root:S2B_MSIL2A_20200413T221939_T60KXG Prediction\n",
      "[Parallel(n_jobs=2)]: Using backend ThreadingBackend with 2 concurrent workers.\n",
      "[Parallel(n_jobs=2)]: Done   4 out of   4 | elapsed:   15.8s remaining:    0.0s\n",
      "[Parallel(n_jobs=2)]: Done   4 out of   4 | elapsed:   15.8s finished\n",
      "[Parallel(n_jobs=2)]: Using backend ThreadingBackend with 2 concurrent workers.\n",
      "[Parallel(n_jobs=2)]: Done   4 out of   4 | elapsed:   15.9s remaining:    0.0s\n",
      "[Parallel(n_jobs=2)]: Done   4 out of   4 | elapsed:   15.9s finished\n",
      "INFO:root:S2B_MSIL2A_20200413T221939_T60KXG Exporting water product\n",
      "INFO:botocore.credentials:Found credentials in environment variables.\n",
      "INFO:botocore.credentials:Found credentials in environment variables.\n",
      "INFO:root:S2B_MSIL2A_20200413T221939_T60KXG Creating yaml\n",
      "DEBUG:root:in get geometry ../tmp/data/intermediate/S2B_MSIL2A_20200413T221939_T60KXG_tmp/S2B_MSIL2A_20200413T221939_T60KXG_mlwater/S2B_MSIL2A_20200413T221939_T60KXG_watermask.tif\n",
      "INFO:botocore.credentials:Found credentials in environment variables.\n",
      "DEBUG:root:Created yaml: ../tmp/data/intermediate/S2B_MSIL2A_20200413T221939_T60KXG_tmp/S2B_MSIL2A_20200413T221939_T60KXG_mlwater/datacube-metadata.yaml\n",
      "INFO:root:S2B_MSIL2A_20200413T221939_T60KXG Uploading to S3 Bucket\n",
      "DEBUG:root:Endpoint URL: http://s3-uk-1.sa-catapult.co.uk\n",
      "INFO:root:Local source file: ../tmp/data/intermediate/S2B_MSIL2A_20200413T221939_T60KXG_tmp/S2B_MSIL2A_20200413T221939_T60KXG_mlwater/S2B_MSIL2A_20200413T221939_T60KXG_waterprob.tif\n",
      "INFO:root:S3 target file: common_sensing/fiji/mlwatermasks/S2B_MSIL2A_20200413T221939_T60KXG_mlwater/S2B_MSIL2A_20200413T221939_T60KXG_waterprob.tif\n",
      "INFO:root:Start: ../tmp/data/intermediate/S2B_MSIL2A_20200413T221939_T60KXG_tmp/S2B_MSIL2A_20200413T221939_T60KXG_mlwater/S2B_MSIL2A_20200413T221939_T60KXG_waterprob.tif 2020-06-22 14:28:14\n"
     ]
    },
    {
     "name": "stdout",
     "output_type": "stream",
     "text": [
      "Preparing scene S2B_MSIL2A_20200413T221939_T60KXG_mlwater\n",
      "Scene path ../tmp/data/intermediate/S2B_MSIL2A_20200413T221939_T60KXG_tmp/S2B_MSIL2A_20200413T221939_T60KXG_mlwater/\n",
      "{'waterprob': {'path': 'S2B_MSIL2A_20200413T221939_T60KXG_waterprob.tif'}, 'watermask': {'path': 'S2B_MSIL2A_20200413T221939_T60KXG_watermask.tif'}}\n",
      "{'spatial_reference': 'PROJCS[\"WGS 84 / UTM zone 60S\",GEOGCS[\"WGS 84\",DATUM[\"WGS_1984\",SPHEROID[\"WGS 84\",6378137,298.257223563,AUTHORITY[\"EPSG\",\"7030\"]],AUTHORITY[\"EPSG\",\"6326\"]],PRIMEM[\"Greenwich\",0,AUTHORITY[\"EPSG\",\"8901\"]],UNIT[\"degree\",0.0174532925199433,AUTHORITY[\"EPSG\",\"9122\"]],AUTHORITY[\"EPSG\",\"4326\"]],PROJECTION[\"Transverse_Mercator\"],PARAMETER[\"latitude_of_origin\",0],PARAMETER[\"central_meridian\",177],PARAMETER[\"scale_factor\",0.9996],PARAMETER[\"false_easting\",500000],PARAMETER[\"false_northing\",10000000],UNIT[\"metre\",1,AUTHORITY[\"EPSG\",\"9001\"]],AXIS[\"Easting\",EAST],AXIS[\"Northing\",NORTH],AUTHORITY[\"EPSG\",\"32760\"]]', 'geo_ref_points': {'ul': {'x': 600005.0, 'y': 8199995.0}, 'ur': {'x': 709795.0, 'y': 8199995.0}, 'll': {'x': 600005.0, 'y': 8090205.0}, 'lr': {'x': 709795.0, 'y': 8090205.0}}} {'ul': {'lon': 177.93597345903606, 'lat': -16.278808485001736}, 'ur': {'lon': 178.96320538299548, 'lat': -16.27177171358243}, 'll': {'lon': 177.94084322572849, 'lat': -17.27114826364198}, 'lr': {'lon': 178.97341349919242, 'lat': -17.26365718270488}}\n"
     ]
    },
    {
     "name": "stderr",
     "output_type": "stream",
     "text": [
      "INFO:root:Finish: ../tmp/data/intermediate/S2B_MSIL2A_20200413T221939_T60KXG_tmp/S2B_MSIL2A_20200413T221939_T60KXG_mlwater/S2B_MSIL2A_20200413T221939_T60KXG_waterprob.tif 2020-06-22 14:28:43\n",
      "DEBUG:root:Endpoint URL: http://s3-uk-1.sa-catapult.co.uk\n",
      "INFO:root:Local source file: ../tmp/data/intermediate/S2B_MSIL2A_20200413T221939_T60KXG_tmp/S2B_MSIL2A_20200413T221939_T60KXG_mlwater/S2B_MSIL2A_20200413T221939_T60KXG_watermask.tif\n",
      "INFO:root:S3 target file: common_sensing/fiji/mlwatermasks/S2B_MSIL2A_20200413T221939_T60KXG_mlwater/S2B_MSIL2A_20200413T221939_T60KXG_watermask.tif\n",
      "INFO:root:Start: ../tmp/data/intermediate/S2B_MSIL2A_20200413T221939_T60KXG_tmp/S2B_MSIL2A_20200413T221939_T60KXG_mlwater/S2B_MSIL2A_20200413T221939_T60KXG_watermask.tif 2020-06-22 14:28:43\n",
      "INFO:root:Finish: ../tmp/data/intermediate/S2B_MSIL2A_20200413T221939_T60KXG_tmp/S2B_MSIL2A_20200413T221939_T60KXG_mlwater/S2B_MSIL2A_20200413T221939_T60KXG_watermask.tif 2020-06-22 14:29:07\n",
      "DEBUG:root:Endpoint URL: http://s3-uk-1.sa-catapult.co.uk\n",
      "INFO:root:Local source file: ../tmp/data/intermediate/S2B_MSIL2A_20200413T221939_T60KXG_tmp/S2B_MSIL2A_20200413T221939_T60KXG_mlwater/datacube-metadata.yaml\n",
      "INFO:root:S3 target file: common_sensing/fiji/mlwatermasks/S2B_MSIL2A_20200413T221939_T60KXG_mlwater/datacube-metadata.yaml\n",
      "INFO:root:Start: ../tmp/data/intermediate/S2B_MSIL2A_20200413T221939_T60KXG_tmp/S2B_MSIL2A_20200413T221939_T60KXG_mlwater/datacube-metadata.yaml 2020-06-22 14:29:07\n",
      "INFO:root:Finish: ../tmp/data/intermediate/S2B_MSIL2A_20200413T221939_T60KXG_tmp/S2B_MSIL2A_20200413T221939_T60KXG_mlwater/datacube-metadata.yaml 2020-06-22 14:29:07\n",
      "INFO:root:S2B_MSIL2A_20200413T221939_T60KYF Starting\n",
      "INFO:root:S2B_MSIL2A_20200413T221939_T60KYF Finding & Streaming Image & Labels Yamls\n",
      "INFO:root:S2B_MSIL2A_20200413T221939_T60KYF Found & access yamls\n",
      "INFO:root:S2B_MSIL2A_20200413T221939_T60KYF Loading & Reformatting bands\n"
     ]
    },
    {
     "name": "stdout",
     "output_type": "stream",
     "text": [
      "not boo\n",
      "Working on {\"img_yml_path\": \"common_sensing/fiji/sentinel_2/S2B_MSIL2A_20200413T221939_T60KYF/datacube-metadata.yaml\", \"lab_yml_path\": \"common_sensing/fiji/wofs_summary/wofssummary_20180101_20190101/datacube-metadata.yaml\", \"s3_bucket\": \"public-eo-data\", \"s3_dir\": \"common_sensing/fiji/mlwatermasks/\"}\n"
     ]
    },
    {
     "name": "stderr",
     "output_type": "stream",
     "text": [
      "INFO:botocore.credentials:Found credentials in environment variables.\n",
      "INFO:botocore.credentials:Found credentials in environment variables.\n",
      "INFO:botocore.credentials:Found credentials in environment variables.\n",
      "INFO:botocore.credentials:Found credentials in environment variables.\n",
      "INFO:botocore.credentials:Found credentials in environment variables.\n",
      "INFO:botocore.credentials:Found credentials in environment variables.\n",
      "INFO:botocore.credentials:Found credentials in environment variables.\n",
      "INFO:botocore.credentials:Found credentials in environment variables.\n",
      "INFO:root:S2B_MSIL2A_20200413T221939_T60KYF Applying masks\n",
      "INFO:root:S2B_MSIL2A_20200413T221939_T60KYF Training\n",
      "[Parallel(n_jobs=2)]: Using backend ThreadingBackend with 2 concurrent workers.\n"
     ]
    },
    {
     "name": "stdout",
     "output_type": "stream",
     "text": [
      "building tree 1 of 4building tree 2 of 4\n",
      "\n",
      "building tree 3 of 4\n",
      "building tree 4 of 4\n"
     ]
    },
    {
     "name": "stderr",
     "output_type": "stream",
     "text": [
      "[Parallel(n_jobs=2)]: Done   4 out of   4 | elapsed:  1.8min remaining:    0.0s\n",
      "[Parallel(n_jobs=2)]: Done   4 out of   4 | elapsed:  1.8min finished\n",
      "INFO:root:S2B_MSIL2A_20200413T221939_T60KYF Prediction\n",
      "[Parallel(n_jobs=2)]: Using backend ThreadingBackend with 2 concurrent workers.\n",
      "[Parallel(n_jobs=2)]: Done   4 out of   4 | elapsed:   16.0s remaining:    0.0s\n",
      "[Parallel(n_jobs=2)]: Done   4 out of   4 | elapsed:   16.0s finished\n",
      "[Parallel(n_jobs=2)]: Using backend ThreadingBackend with 2 concurrent workers.\n",
      "[Parallel(n_jobs=2)]: Done   4 out of   4 | elapsed:   17.4s remaining:    0.0s\n",
      "[Parallel(n_jobs=2)]: Done   4 out of   4 | elapsed:   17.4s finished\n",
      "INFO:root:S2B_MSIL2A_20200413T221939_T60KYF Exporting water product\n",
      "INFO:botocore.credentials:Found credentials in environment variables.\n",
      "INFO:botocore.credentials:Found credentials in environment variables.\n",
      "INFO:root:S2B_MSIL2A_20200413T221939_T60KYF Creating yaml\n",
      "DEBUG:root:in get geometry ../tmp/data/intermediate/S2B_MSIL2A_20200413T221939_T60KYF_tmp/S2B_MSIL2A_20200413T221939_T60KYF_mlwater/S2B_MSIL2A_20200413T221939_T60KYF_watermask.tif\n",
      "INFO:botocore.credentials:Found credentials in environment variables.\n",
      "DEBUG:root:Created yaml: ../tmp/data/intermediate/S2B_MSIL2A_20200413T221939_T60KYF_tmp/S2B_MSIL2A_20200413T221939_T60KYF_mlwater/datacube-metadata.yaml\n",
      "INFO:root:S2B_MSIL2A_20200413T221939_T60KYF Uploading to S3 Bucket\n",
      "DEBUG:root:Endpoint URL: http://s3-uk-1.sa-catapult.co.uk\n",
      "INFO:root:Local source file: ../tmp/data/intermediate/S2B_MSIL2A_20200413T221939_T60KYF_tmp/S2B_MSIL2A_20200413T221939_T60KYF_mlwater/S2B_MSIL2A_20200413T221939_T60KYF_waterprob.tif\n",
      "INFO:root:S3 target file: common_sensing/fiji/mlwatermasks/S2B_MSIL2A_20200413T221939_T60KYF_mlwater/S2B_MSIL2A_20200413T221939_T60KYF_waterprob.tif\n",
      "INFO:root:Start: ../tmp/data/intermediate/S2B_MSIL2A_20200413T221939_T60KYF_tmp/S2B_MSIL2A_20200413T221939_T60KYF_mlwater/S2B_MSIL2A_20200413T221939_T60KYF_waterprob.tif 2020-06-22 14:34:27\n"
     ]
    },
    {
     "name": "stdout",
     "output_type": "stream",
     "text": [
      "Preparing scene S2B_MSIL2A_20200413T221939_T60KYF_mlwater\n",
      "Scene path ../tmp/data/intermediate/S2B_MSIL2A_20200413T221939_T60KYF_tmp/S2B_MSIL2A_20200413T221939_T60KYF_mlwater/\n",
      "{'waterprob': {'path': 'S2B_MSIL2A_20200413T221939_T60KYF_waterprob.tif'}, 'watermask': {'path': 'S2B_MSIL2A_20200413T221939_T60KYF_watermask.tif'}}\n",
      "{'spatial_reference': 'PROJCS[\"WGS 84 / UTM zone 60S\",GEOGCS[\"WGS 84\",DATUM[\"WGS_1984\",SPHEROID[\"WGS 84\",6378137,298.257223563,AUTHORITY[\"EPSG\",\"7030\"]],AUTHORITY[\"EPSG\",\"6326\"]],PRIMEM[\"Greenwich\",0,AUTHORITY[\"EPSG\",\"8901\"]],UNIT[\"degree\",0.0174532925199433,AUTHORITY[\"EPSG\",\"9122\"]],AUTHORITY[\"EPSG\",\"4326\"]],PROJECTION[\"Transverse_Mercator\"],PARAMETER[\"latitude_of_origin\",0],PARAMETER[\"central_meridian\",177],PARAMETER[\"scale_factor\",0.9996],PARAMETER[\"false_easting\",500000],PARAMETER[\"false_northing\",10000000],UNIT[\"metre\",1,AUTHORITY[\"EPSG\",\"9001\"]],AXIS[\"Easting\",EAST],AXIS[\"Northing\",NORTH],AUTHORITY[\"EPSG\",\"32760\"]]', 'geo_ref_points': {'ul': {'x': 699965.0, 'y': 8100035.0}, 'ur': {'x': 809755.0, 'y': 8100035.0}, 'll': {'x': 699965.0, 'y': 7990245.0}, 'lr': {'x': 809755.0, 'y': 7990245.0}}} {'ul': {'lon': 178.8800876895932, 'lat': -17.17573530493544}, 'ur': {'lon': 179.91154347359486, 'lat': -17.163488184051882}, 'll': {'lon': 178.89042608524016, 'lat': -18.16758056351763}, 'lr': {'lon': 179.9275375302092, 'lat': -18.154579671659445}}\n"
     ]
    },
    {
     "name": "stderr",
     "output_type": "stream",
     "text": [
      "INFO:root:Finish: ../tmp/data/intermediate/S2B_MSIL2A_20200413T221939_T60KYF_tmp/S2B_MSIL2A_20200413T221939_T60KYF_mlwater/S2B_MSIL2A_20200413T221939_T60KYF_waterprob.tif 2020-06-22 14:34:58\n",
      "DEBUG:root:Endpoint URL: http://s3-uk-1.sa-catapult.co.uk\n",
      "INFO:root:Local source file: ../tmp/data/intermediate/S2B_MSIL2A_20200413T221939_T60KYF_tmp/S2B_MSIL2A_20200413T221939_T60KYF_mlwater/datacube-metadata.yaml\n",
      "INFO:root:S3 target file: common_sensing/fiji/mlwatermasks/S2B_MSIL2A_20200413T221939_T60KYF_mlwater/datacube-metadata.yaml\n",
      "INFO:root:Start: ../tmp/data/intermediate/S2B_MSIL2A_20200413T221939_T60KYF_tmp/S2B_MSIL2A_20200413T221939_T60KYF_mlwater/datacube-metadata.yaml 2020-06-22 14:34:58\n",
      "INFO:root:Finish: ../tmp/data/intermediate/S2B_MSIL2A_20200413T221939_T60KYF_tmp/S2B_MSIL2A_20200413T221939_T60KYF_mlwater/datacube-metadata.yaml 2020-06-22 14:34:58\n",
      "DEBUG:root:Endpoint URL: http://s3-uk-1.sa-catapult.co.uk\n",
      "INFO:root:Local source file: ../tmp/data/intermediate/S2B_MSIL2A_20200413T221939_T60KYF_tmp/S2B_MSIL2A_20200413T221939_T60KYF_mlwater/S2B_MSIL2A_20200413T221939_T60KYF_watermask.tif\n",
      "INFO:root:S3 target file: common_sensing/fiji/mlwatermasks/S2B_MSIL2A_20200413T221939_T60KYF_mlwater/S2B_MSIL2A_20200413T221939_T60KYF_watermask.tif\n",
      "INFO:root:Start: ../tmp/data/intermediate/S2B_MSIL2A_20200413T221939_T60KYF_tmp/S2B_MSIL2A_20200413T221939_T60KYF_mlwater/S2B_MSIL2A_20200413T221939_T60KYF_watermask.tif 2020-06-22 14:34:58\n",
      "INFO:root:Finish: ../tmp/data/intermediate/S2B_MSIL2A_20200413T221939_T60KYF_tmp/S2B_MSIL2A_20200413T221939_T60KYF_mlwater/S2B_MSIL2A_20200413T221939_T60KYF_watermask.tif 2020-06-22 14:35:25\n",
      "INFO:root:S2B_MSIL2A_20200413T221939_T60KYG Starting\n",
      "INFO:root:S2B_MSIL2A_20200413T221939_T60KYG Finding & Streaming Image & Labels Yamls\n",
      "INFO:root:S2B_MSIL2A_20200413T221939_T60KYG Found & access yamls\n",
      "INFO:root:S2B_MSIL2A_20200413T221939_T60KYG Loading & Reformatting bands\n"
     ]
    },
    {
     "name": "stdout",
     "output_type": "stream",
     "text": [
      "not boo\n",
      "Working on {\"img_yml_path\": \"common_sensing/fiji/sentinel_2/S2B_MSIL2A_20200413T221939_T60KYG/datacube-metadata.yaml\", \"lab_yml_path\": \"common_sensing/fiji/wofs_summary/wofssummary_20180101_20190101/datacube-metadata.yaml\", \"s3_bucket\": \"public-eo-data\", \"s3_dir\": \"common_sensing/fiji/mlwatermasks/\"}\n"
     ]
    },
    {
     "name": "stderr",
     "output_type": "stream",
     "text": [
      "INFO:botocore.credentials:Found credentials in environment variables.\n",
      "INFO:botocore.credentials:Found credentials in environment variables.\n",
      "INFO:botocore.credentials:Found credentials in environment variables.\n",
      "INFO:botocore.credentials:Found credentials in environment variables.\n",
      "INFO:botocore.credentials:Found credentials in environment variables.\n",
      "INFO:botocore.credentials:Found credentials in environment variables.\n",
      "INFO:botocore.credentials:Found credentials in environment variables.\n",
      "INFO:botocore.credentials:Found credentials in environment variables.\n",
      "INFO:root:S2B_MSIL2A_20200413T221939_T60KYG Applying masks\n",
      "INFO:root:S2B_MSIL2A_20200413T221939_T60KYG Training\n",
      "[Parallel(n_jobs=2)]: Using backend ThreadingBackend with 2 concurrent workers.\n"
     ]
    },
    {
     "name": "stdout",
     "output_type": "stream",
     "text": [
      "building tree 1 of 4\n",
      "building tree 2 of 4\n",
      "building tree 3 of 4\n",
      "building tree 4 of 4\n"
     ]
    },
    {
     "name": "stderr",
     "output_type": "stream",
     "text": [
      "[Parallel(n_jobs=2)]: Done   4 out of   4 | elapsed:  1.5min remaining:    0.0s\n",
      "[Parallel(n_jobs=2)]: Done   4 out of   4 | elapsed:  1.5min finished\n",
      "INFO:root:S2B_MSIL2A_20200413T221939_T60KYG Prediction\n",
      "[Parallel(n_jobs=2)]: Using backend ThreadingBackend with 2 concurrent workers.\n",
      "[Parallel(n_jobs=2)]: Done   4 out of   4 | elapsed:   14.9s remaining:    0.0s\n",
      "[Parallel(n_jobs=2)]: Done   4 out of   4 | elapsed:   14.9s finished\n",
      "[Parallel(n_jobs=2)]: Using backend ThreadingBackend with 2 concurrent workers.\n",
      "[Parallel(n_jobs=2)]: Done   4 out of   4 | elapsed:   15.0s remaining:    0.0s\n",
      "[Parallel(n_jobs=2)]: Done   4 out of   4 | elapsed:   15.0s finished\n",
      "INFO:root:S2B_MSIL2A_20200413T221939_T60KYG Exporting water product\n",
      "INFO:botocore.credentials:Found credentials in environment variables.\n",
      "INFO:botocore.credentials:Found credentials in environment variables.\n",
      "INFO:root:S2B_MSIL2A_20200413T221939_T60KYG Creating yaml\n",
      "DEBUG:root:in get geometry ../tmp/data/intermediate/S2B_MSIL2A_20200413T221939_T60KYG_tmp/S2B_MSIL2A_20200413T221939_T60KYG_mlwater/S2B_MSIL2A_20200413T221939_T60KYG_watermask.tif\n",
      "INFO:botocore.credentials:Found credentials in environment variables.\n",
      "DEBUG:root:Created yaml: ../tmp/data/intermediate/S2B_MSIL2A_20200413T221939_T60KYG_tmp/S2B_MSIL2A_20200413T221939_T60KYG_mlwater/datacube-metadata.yaml\n",
      "INFO:root:S2B_MSIL2A_20200413T221939_T60KYG Uploading to S3 Bucket\n",
      "DEBUG:root:Endpoint URL: http://s3-uk-1.sa-catapult.co.uk\n",
      "INFO:root:Local source file: ../tmp/data/intermediate/S2B_MSIL2A_20200413T221939_T60KYG_tmp/S2B_MSIL2A_20200413T221939_T60KYG_mlwater/S2B_MSIL2A_20200413T221939_T60KYG_waterprob.tif\n",
      "INFO:root:S3 target file: common_sensing/fiji/mlwatermasks/S2B_MSIL2A_20200413T221939_T60KYG_mlwater/S2B_MSIL2A_20200413T221939_T60KYG_waterprob.tif\n",
      "INFO:root:Start: ../tmp/data/intermediate/S2B_MSIL2A_20200413T221939_T60KYG_tmp/S2B_MSIL2A_20200413T221939_T60KYG_mlwater/S2B_MSIL2A_20200413T221939_T60KYG_waterprob.tif 2020-06-22 14:40:04\n"
     ]
    },
    {
     "name": "stdout",
     "output_type": "stream",
     "text": [
      "Preparing scene S2B_MSIL2A_20200413T221939_T60KYG_mlwater\n",
      "Scene path ../tmp/data/intermediate/S2B_MSIL2A_20200413T221939_T60KYG_tmp/S2B_MSIL2A_20200413T221939_T60KYG_mlwater/\n",
      "{'waterprob': {'path': 'S2B_MSIL2A_20200413T221939_T60KYG_waterprob.tif'}, 'watermask': {'path': 'S2B_MSIL2A_20200413T221939_T60KYG_watermask.tif'}}\n",
      "{'spatial_reference': 'PROJCS[\"WGS 84 / UTM zone 60S\",GEOGCS[\"WGS 84\",DATUM[\"WGS_1984\",SPHEROID[\"WGS 84\",6378137,298.257223563,AUTHORITY[\"EPSG\",\"7030\"]],AUTHORITY[\"EPSG\",\"6326\"]],PRIMEM[\"Greenwich\",0,AUTHORITY[\"EPSG\",\"8901\"]],UNIT[\"degree\",0.0174532925199433,AUTHORITY[\"EPSG\",\"9122\"]],AUTHORITY[\"EPSG\",\"4326\"]],PROJECTION[\"Transverse_Mercator\"],PARAMETER[\"latitude_of_origin\",0],PARAMETER[\"central_meridian\",177],PARAMETER[\"scale_factor\",0.9996],PARAMETER[\"false_easting\",500000],PARAMETER[\"false_northing\",10000000],UNIT[\"metre\",1,AUTHORITY[\"EPSG\",\"9001\"]],AXIS[\"Easting\",EAST],AXIS[\"Northing\",NORTH],AUTHORITY[\"EPSG\",\"32760\"]]', 'geo_ref_points': {'ul': {'x': 699965.0, 'y': 8199995.0}, 'ur': {'x': 809755.0, 'y': 8199995.0}, 'll': {'x': 699965.0, 'y': 8090205.0}, 'lr': {'x': 809755.0, 'y': 8090205.0}}} {'ul': {'lon': 178.87125520999626, 'lat': -16.272604765528875}, 'ur': {'lon': 179.89787894074132, 'lat': -16.261037234211827}, 'll': {'lon': 178.88098591346997, 'lat': -17.26454401651915}, 'lr': {'lon': 179.91293308498075, 'lat': -17.252229728310596}}\n"
     ]
    },
    {
     "name": "stderr",
     "output_type": "stream",
     "text": [
      "INFO:root:Finish: ../tmp/data/intermediate/S2B_MSIL2A_20200413T221939_T60KYG_tmp/S2B_MSIL2A_20200413T221939_T60KYG_mlwater/S2B_MSIL2A_20200413T221939_T60KYG_waterprob.tif 2020-06-22 14:40:28\n",
      "DEBUG:root:Endpoint URL: http://s3-uk-1.sa-catapult.co.uk\n",
      "INFO:root:Local source file: ../tmp/data/intermediate/S2B_MSIL2A_20200413T221939_T60KYG_tmp/S2B_MSIL2A_20200413T221939_T60KYG_mlwater/datacube-metadata.yaml\n",
      "INFO:root:S3 target file: common_sensing/fiji/mlwatermasks/S2B_MSIL2A_20200413T221939_T60KYG_mlwater/datacube-metadata.yaml\n",
      "INFO:root:Start: ../tmp/data/intermediate/S2B_MSIL2A_20200413T221939_T60KYG_tmp/S2B_MSIL2A_20200413T221939_T60KYG_mlwater/datacube-metadata.yaml 2020-06-22 14:40:28\n",
      "INFO:root:Finish: ../tmp/data/intermediate/S2B_MSIL2A_20200413T221939_T60KYG_tmp/S2B_MSIL2A_20200413T221939_T60KYG_mlwater/datacube-metadata.yaml 2020-06-22 14:40:28\n",
      "DEBUG:root:Endpoint URL: http://s3-uk-1.sa-catapult.co.uk\n",
      "INFO:root:Local source file: ../tmp/data/intermediate/S2B_MSIL2A_20200413T221939_T60KYG_tmp/S2B_MSIL2A_20200413T221939_T60KYG_mlwater/S2B_MSIL2A_20200413T221939_T60KYG_watermask.tif\n",
      "INFO:root:S3 target file: common_sensing/fiji/mlwatermasks/S2B_MSIL2A_20200413T221939_T60KYG_mlwater/S2B_MSIL2A_20200413T221939_T60KYG_watermask.tif\n",
      "INFO:root:Start: ../tmp/data/intermediate/S2B_MSIL2A_20200413T221939_T60KYG_tmp/S2B_MSIL2A_20200413T221939_T60KYG_mlwater/S2B_MSIL2A_20200413T221939_T60KYG_watermask.tif 2020-06-22 14:40:28\n",
      "INFO:root:Finish: ../tmp/data/intermediate/S2B_MSIL2A_20200413T221939_T60KYG_tmp/S2B_MSIL2A_20200413T221939_T60KYG_mlwater/S2B_MSIL2A_20200413T221939_T60KYG_watermask.tif 2020-06-22 14:40:49\n",
      "INFO:root:S2B_MSIL2A_20200416T223009_T60KXF Starting\n",
      "INFO:root:S2B_MSIL2A_20200416T223009_T60KXF Finding & Streaming Image & Labels Yamls\n",
      "INFO:root:S2B_MSIL2A_20200416T223009_T60KXF Found & access yamls\n",
      "INFO:root:S2B_MSIL2A_20200416T223009_T60KXF Loading & Reformatting bands\n"
     ]
    },
    {
     "name": "stdout",
     "output_type": "stream",
     "text": [
      "not boo\n",
      "Working on {\"img_yml_path\": \"common_sensing/fiji/sentinel_2/S2B_MSIL2A_20200416T223009_T60KXF/datacube-metadata.yaml\", \"lab_yml_path\": \"common_sensing/fiji/wofs_summary/wofssummary_20180101_20190101/datacube-metadata.yaml\", \"s3_bucket\": \"public-eo-data\", \"s3_dir\": \"common_sensing/fiji/mlwatermasks/\"}\n"
     ]
    },
    {
     "name": "stderr",
     "output_type": "stream",
     "text": [
      "INFO:botocore.credentials:Found credentials in environment variables.\n",
      "INFO:botocore.credentials:Found credentials in environment variables.\n",
      "INFO:botocore.credentials:Found credentials in environment variables.\n",
      "INFO:botocore.credentials:Found credentials in environment variables.\n",
      "INFO:botocore.credentials:Found credentials in environment variables.\n",
      "INFO:botocore.credentials:Found credentials in environment variables.\n",
      "INFO:botocore.credentials:Found credentials in environment variables.\n",
      "INFO:botocore.credentials:Found credentials in environment variables.\n",
      "INFO:root:S2B_MSIL2A_20200416T223009_T60KXF Applying masks\n",
      "INFO:root:S2B_MSIL2A_20200416T223009_T60KXF Training\n",
      "[Parallel(n_jobs=2)]: Using backend ThreadingBackend with 2 concurrent workers.\n"
     ]
    },
    {
     "name": "stdout",
     "output_type": "stream",
     "text": [
      "building tree 1 of 4building tree 2 of 4\n",
      "\n",
      "building tree 3 of 4\n",
      "building tree 4 of 4\n"
     ]
    },
    {
     "name": "stderr",
     "output_type": "stream",
     "text": [
      "[Parallel(n_jobs=2)]: Done   4 out of   4 | elapsed:  1.2min remaining:    0.0s\n",
      "[Parallel(n_jobs=2)]: Done   4 out of   4 | elapsed:  1.2min finished\n",
      "INFO:root:S2B_MSIL2A_20200416T223009_T60KXF Prediction\n",
      "[Parallel(n_jobs=2)]: Using backend ThreadingBackend with 2 concurrent workers.\n",
      "[Parallel(n_jobs=2)]: Done   4 out of   4 | elapsed:   14.3s remaining:    0.0s\n",
      "[Parallel(n_jobs=2)]: Done   4 out of   4 | elapsed:   14.3s finished\n",
      "[Parallel(n_jobs=2)]: Using backend ThreadingBackend with 2 concurrent workers.\n",
      "[Parallel(n_jobs=2)]: Done   4 out of   4 | elapsed:   14.2s remaining:    0.0s\n",
      "[Parallel(n_jobs=2)]: Done   4 out of   4 | elapsed:   14.2s finished\n",
      "INFO:root:S2B_MSIL2A_20200416T223009_T60KXF Exporting water product\n",
      "INFO:botocore.credentials:Found credentials in environment variables.\n",
      "INFO:botocore.credentials:Found credentials in environment variables.\n",
      "INFO:root:S2B_MSIL2A_20200416T223009_T60KXF Creating yaml\n",
      "DEBUG:root:in get geometry ../tmp/data/intermediate/S2B_MSIL2A_20200416T223009_T60KXF_tmp/S2B_MSIL2A_20200416T223009_T60KXF_mlwater/S2B_MSIL2A_20200416T223009_T60KXF_watermask.tif\n",
      "INFO:botocore.credentials:Found credentials in environment variables.\n",
      "DEBUG:root:Created yaml: ../tmp/data/intermediate/S2B_MSIL2A_20200416T223009_T60KXF_tmp/S2B_MSIL2A_20200416T223009_T60KXF_mlwater/datacube-metadata.yaml\n",
      "INFO:root:S2B_MSIL2A_20200416T223009_T60KXF Uploading to S3 Bucket\n",
      "DEBUG:root:Endpoint URL: http://s3-uk-1.sa-catapult.co.uk\n",
      "INFO:root:Local source file: ../tmp/data/intermediate/S2B_MSIL2A_20200416T223009_T60KXF_tmp/S2B_MSIL2A_20200416T223009_T60KXF_mlwater/datacube-metadata.yaml\n",
      "INFO:root:S3 target file: common_sensing/fiji/mlwatermasks/S2B_MSIL2A_20200416T223009_T60KXF_mlwater/datacube-metadata.yaml\n",
      "INFO:root:Start: ../tmp/data/intermediate/S2B_MSIL2A_20200416T223009_T60KXF_tmp/S2B_MSIL2A_20200416T223009_T60KXF_mlwater/datacube-metadata.yaml 2020-06-22 14:45:06\n",
      "INFO:root:Finish: ../tmp/data/intermediate/S2B_MSIL2A_20200416T223009_T60KXF_tmp/S2B_MSIL2A_20200416T223009_T60KXF_mlwater/datacube-metadata.yaml 2020-06-22 14:45:06\n"
     ]
    },
    {
     "name": "stdout",
     "output_type": "stream",
     "text": [
      "Preparing scene S2B_MSIL2A_20200416T223009_T60KXF_mlwater\n",
      "Scene path ../tmp/data/intermediate/S2B_MSIL2A_20200416T223009_T60KXF_tmp/S2B_MSIL2A_20200416T223009_T60KXF_mlwater/\n",
      "{'watermask': {'path': 'S2B_MSIL2A_20200416T223009_T60KXF_watermask.tif'}, 'waterprob': {'path': 'S2B_MSIL2A_20200416T223009_T60KXF_waterprob.tif'}}\n",
      "{'spatial_reference': 'PROJCS[\"WGS 84 / UTM zone 60S\",GEOGCS[\"WGS 84\",DATUM[\"WGS_1984\",SPHEROID[\"WGS 84\",6378137,298.257223563,AUTHORITY[\"EPSG\",\"7030\"]],AUTHORITY[\"EPSG\",\"6326\"]],PRIMEM[\"Greenwich\",0,AUTHORITY[\"EPSG\",\"8901\"]],UNIT[\"degree\",0.0174532925199433,AUTHORITY[\"EPSG\",\"9122\"]],AUTHORITY[\"EPSG\",\"4326\"]],PROJECTION[\"Transverse_Mercator\"],PARAMETER[\"latitude_of_origin\",0],PARAMETER[\"central_meridian\",177],PARAMETER[\"scale_factor\",0.9996],PARAMETER[\"false_easting\",500000],PARAMETER[\"false_northing\",10000000],UNIT[\"metre\",1,AUTHORITY[\"EPSG\",\"9001\"]],AXIS[\"Easting\",EAST],AXIS[\"Northing\",NORTH],AUTHORITY[\"EPSG\",\"32760\"]]', 'geo_ref_points': {'ul': {'x': 600005.0, 'y': 8100035.0}, 'ur': {'x': 709795.0, 'y': 8100035.0}, 'll': {'x': 600005.0, 'y': 7990245.0}, 'lr': {'x': 709795.0, 'y': 7990245.0}}} {'ul': {'lon': 177.94039370455036, 'lat': -17.182303526159554}, 'ur': {'lon': 178.97247120667822, 'lat': -17.174853308574782}, 'll': {'lon': 177.94556763367254, 'lat': -18.174553081137606}, 'lr': {'lon': 178.98331681851872, 'lat': -18.166644279587533}}\n"
     ]
    },
    {
     "name": "stderr",
     "output_type": "stream",
     "text": [
      "DEBUG:root:Endpoint URL: http://s3-uk-1.sa-catapult.co.uk\n",
      "INFO:root:Local source file: ../tmp/data/intermediate/S2B_MSIL2A_20200416T223009_T60KXF_tmp/S2B_MSIL2A_20200416T223009_T60KXF_mlwater/S2B_MSIL2A_20200416T223009_T60KXF_watermask.tif\n",
      "INFO:root:S3 target file: common_sensing/fiji/mlwatermasks/S2B_MSIL2A_20200416T223009_T60KXF_mlwater/S2B_MSIL2A_20200416T223009_T60KXF_watermask.tif\n",
      "INFO:root:Start: ../tmp/data/intermediate/S2B_MSIL2A_20200416T223009_T60KXF_tmp/S2B_MSIL2A_20200416T223009_T60KXF_mlwater/S2B_MSIL2A_20200416T223009_T60KXF_watermask.tif 2020-06-22 14:45:06\n",
      "INFO:root:Finish: ../tmp/data/intermediate/S2B_MSIL2A_20200416T223009_T60KXF_tmp/S2B_MSIL2A_20200416T223009_T60KXF_mlwater/S2B_MSIL2A_20200416T223009_T60KXF_watermask.tif 2020-06-22 14:45:27\n",
      "DEBUG:root:Endpoint URL: http://s3-uk-1.sa-catapult.co.uk\n",
      "INFO:root:Local source file: ../tmp/data/intermediate/S2B_MSIL2A_20200416T223009_T60KXF_tmp/S2B_MSIL2A_20200416T223009_T60KXF_mlwater/S2B_MSIL2A_20200416T223009_T60KXF_waterprob.tif\n",
      "INFO:root:S3 target file: common_sensing/fiji/mlwatermasks/S2B_MSIL2A_20200416T223009_T60KXF_mlwater/S2B_MSIL2A_20200416T223009_T60KXF_waterprob.tif\n",
      "INFO:root:Start: ../tmp/data/intermediate/S2B_MSIL2A_20200416T223009_T60KXF_tmp/S2B_MSIL2A_20200416T223009_T60KXF_mlwater/S2B_MSIL2A_20200416T223009_T60KXF_waterprob.tif 2020-06-22 14:45:27\n",
      "INFO:root:Finish: ../tmp/data/intermediate/S2B_MSIL2A_20200416T223009_T60KXF_tmp/S2B_MSIL2A_20200416T223009_T60KXF_mlwater/S2B_MSIL2A_20200416T223009_T60KXF_waterprob.tif 2020-06-22 14:45:48\n",
      "INFO:root:S2B_MSIL2A_20200416T223009_T60KXG Starting\n",
      "INFO:root:S2B_MSIL2A_20200416T223009_T60KXG Finding & Streaming Image & Labels Yamls\n",
      "INFO:root:S2B_MSIL2A_20200416T223009_T60KXG Found & access yamls\n",
      "INFO:root:S2B_MSIL2A_20200416T223009_T60KXG Loading & Reformatting bands\n"
     ]
    },
    {
     "name": "stdout",
     "output_type": "stream",
     "text": [
      "not boo\n",
      "Working on {\"img_yml_path\": \"common_sensing/fiji/sentinel_2/S2B_MSIL2A_20200416T223009_T60KXG/datacube-metadata.yaml\", \"lab_yml_path\": \"common_sensing/fiji/wofs_summary/wofssummary_20180101_20190101/datacube-metadata.yaml\", \"s3_bucket\": \"public-eo-data\", \"s3_dir\": \"common_sensing/fiji/mlwatermasks/\"}\n"
     ]
    },
    {
     "name": "stderr",
     "output_type": "stream",
     "text": [
      "INFO:botocore.credentials:Found credentials in environment variables.\n",
      "INFO:botocore.credentials:Found credentials in environment variables.\n",
      "INFO:botocore.credentials:Found credentials in environment variables.\n",
      "INFO:botocore.credentials:Found credentials in environment variables.\n",
      "INFO:botocore.credentials:Found credentials in environment variables.\n",
      "INFO:botocore.credentials:Found credentials in environment variables.\n",
      "INFO:botocore.credentials:Found credentials in environment variables.\n",
      "INFO:botocore.credentials:Found credentials in environment variables.\n",
      "INFO:root:S2B_MSIL2A_20200416T223009_T60KXG Applying masks\n",
      "ERROR:root:S2B_MSIL2A_20200416T223009_T60KXG Masks not applied\n",
      "Traceback (most recent call last):\n",
      "  File \"/opt/notebooks/utils/genprepMLWater.py\", line 301, in genprepmlwater\n",
      "    root.exception(f'no class labels should be >500 for ok classifier. no. training class samples: {counts[0]}{counts[1]}')\n",
      "Exception: no class labels should be >5000 for ok classifier. no. training class samples: 113191024338\n",
      "ERROR:root:could not process S2B_MSIL2A_20200416T223009_T60KXG, Data formatting error\n"
     ]
    },
    {
     "name": "stdout",
     "output_type": "stream",
     "text": [
      "boo\n"
     ]
    }
   ],
   "source": [
    "while not q.empty():\n",
    "    item = q.lease(lease_secs=1800, block=True, timeout=600)\n",
    "    if item is not None:\n",
    "        itemstr = item.decode(\"utf=8\")\n",
    "        print(\"Working on \" + itemstr)\n",
    "        #time.sleep(10) # Put your actual work here instead of sleep.\n",
    "        process_scene(itemstr)\n",
    "        q.complete(item)\n",
    "    else:\n",
    "        print(\"Waiting for work\")"
   ]
  },
  {
   "cell_type": "code",
   "execution_count": 4,
   "metadata": {},
   "outputs": [
    {
     "name": "stdout",
     "output_type": "stream",
     "text": [
      "Queue empty!\n"
     ]
    }
   ],
   "source": [
    "print(\"Queue empty!\")"
   ]
  }
 ],
 "metadata": {
  "kernelspec": {
   "display_name": "Python 3",
   "language": "python",
   "name": "python3"
  },
  "language_info": {
   "codemirror_mode": {
    "name": "ipython",
    "version": 3
   },
   "file_extension": ".py",
   "mimetype": "text/x-python",
   "name": "python",
   "nbconvert_exporter": "python",
   "pygments_lexer": "ipython3",
   "version": "3.7.4"
  }
 },
 "nbformat": 4,
 "nbformat_minor": 4
}
