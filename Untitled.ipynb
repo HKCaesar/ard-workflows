{
 "cells": [
  {
   "cell_type": "code",
   "execution_count": null,
   "metadata": {},
   "outputs": [],
   "source": [
    "upload_envars = ['AWS_ACCESS_KEY_ID','AWS_S3_ENDPOINT','AWS_SECRET_ACCESS_KEY']    \n",
    "source_envars = {\n",
    "    'SENTINEL_2': ['COPERNICUS_USERNAME','COPERNICUS_PWD'],\n",
    "    'SENTINEL_1': ['COPERNICUS_USERNAME','COPERNICUS_PWD','ASF_USERNAME','ASF_PWD']\n",
    "}\n",
    "sources = {\n",
    "    'SENTINEL_2': ['ESAHUB','GCLOUD'],\n",
    "    'SENTINEL_1': ['ESAHUB','ASF'],\n",
    "    'LANDSAT_8': ['USGS']\n",
    "}"
   ]
  },
  {
   "cell_type": "code",
   "execution_count": null,
   "metadata": {},
   "outputs": [],
   "source": []
  },
  {
   "cell_type": "code",
   "execution_count": 42,
   "metadata": {},
   "outputs": [],
   "source": []
  },
  {
   "cell_type": "code",
   "execution_count": 21,
   "metadata": {},
   "outputs": [],
   "source": [
    "products = {\n",
    "    'SENTINEL_2':['L1C','L2A'],\n",
    "    'SENTINEL_1':['GRD','SLC']\n",
    "           }"
   ]
  },
  {
   "cell_type": "code",
   "execution_count": 30,
   "metadata": {},
   "outputs": [],
   "source": [
    "sources = {\n",
    "    'SENTINEL_2':['ESAHUB','GCLOUD'],\n",
    "    'SENTINEL_1':['ESAHUB','ASF']\n",
    "         }"
   ]
  },
  {
   "cell_type": "code",
   "execution_count": 27,
   "metadata": {},
   "outputs": [],
   "source": [
    "source_envars = {\n",
    "    'ESAHUB':['COPERNICUS_USERNAME','COPERNICUS_PWD'],\n",
    "    'ASF':['ASF_USERNAME','ASF_PWD'],\n",
    "    'GCLOUD':[None]\n",
    "                }"
   ]
  },
  {
   "cell_type": "code",
   "execution_count": null,
   "metadata": {},
   "outputs": [],
   "source": []
  },
  {
   "cell_type": "code",
   "execution_count": 2,
   "metadata": {},
   "outputs": [],
   "source": [
    "from datetime import datetime"
   ]
  },
  {
   "cell_type": "code",
   "execution_count": 7,
   "metadata": {},
   "outputs": [],
   "source": [
    "td = datetime.today()"
   ]
  },
  {
   "cell_type": "code",
   "execution_count": 21,
   "metadata": {},
   "outputs": [
    {
     "data": {
      "text/plain": [
       "'search_20200428'"
      ]
     },
     "execution_count": 21,
     "metadata": {},
     "output_type": "execute_result"
    }
   ],
   "source": [
    "f\"search_{td.strftime('%Y')}{td.strftime('%m')}{td.strftime('%d')}\""
   ]
  },
  {
   "cell_type": "code",
   "execution_count": 14,
   "metadata": {},
   "outputs": [
    {
     "data": {
      "text/plain": [
       "'04'"
      ]
     },
     "execution_count": 14,
     "metadata": {},
     "output_type": "execute_result"
    }
   ],
   "source": [
    "td.strftime('%m')"
   ]
  },
  {
   "cell_type": "code",
   "execution_count": 18,
   "metadata": {},
   "outputs": [
    {
     "data": {
      "text/plain": [
       "'28'"
      ]
     },
     "execution_count": 18,
     "metadata": {},
     "output_type": "execute_result"
    }
   ],
   "source": [
    "td.strftime('%d')"
   ]
  },
  {
   "cell_type": "code",
   "execution_count": null,
   "metadata": {},
   "outputs": [],
   "source": []
  },
  {
   "cell_type": "code",
   "execution_count": 1,
   "metadata": {},
   "outputs": [],
   "source": [
    "import os"
   ]
  },
  {
   "cell_type": "code",
   "execution_count": null,
   "metadata": {},
   "outputs": [],
   "source": []
  },
  {
   "cell_type": "code",
   "execution_count": null,
   "metadata": {},
   "outputs": [],
   "source": []
  },
  {
   "cell_type": "code",
   "execution_count": 7,
   "metadata": {},
   "outputs": [],
   "source": [
    "def rm_invalidsensors(prod_dict):\n",
    "    sensors, invalid = [\n",
    "        'SENTINEL_2',\n",
    "        'SENTINEL_1',\n",
    "        'LANDSAT_8',\n",
    "        'LANDSAT_7',\n",
    "        'LANDSAT_5',\n",
    "        'LANDSAT_4'\n",
    "                       ], []\n",
    "    for sensor in prod_dict:\n",
    "        if sensor not in sensors:\n",
    "            invalid.append(sensor)\n",
    "    for i in invalid: \n",
    "        print(f\"'{i}' not a valid sensor so omitting from S&D.\")\n",
    "        del prod_dict[i]\n",
    "    return prod_dict\n",
    "\n",
    "def rm_invaldprods():\n",
    "    print('TBD')\n",
    "    \n",
    "def rm_invalidenvars(prod_dict):\n",
    "    \"\"\"\n",
    "    prod_dict: {sensor:[prod],...}\n",
    "    returns: list of sources that may be tried\n",
    "    Assumes all sensors are valid.\n",
    "    \"\"\"\n",
    "    invalid = []\n",
    "    sources = {\n",
    "        'SENTINEL_2':['ESAHUBS','GCLOUD'],\n",
    "        'SENTINEL_1':['ESAHUB','ASF']\n",
    "             }\n",
    "    source_envars = {\n",
    "        'ESAHUB':['COPERNICUS_USERNAME','COPERNICUS_PWD'],\n",
    "        'ASF':['ASF_USERNAME','ASF_PWD'],\n",
    "        'GCLOUD':[None]\n",
    "                    }\n",
    "    for sensor in prod_dict:\n",
    "        if 'LANDSAT' in sensor: # no creds neeeded for landsat\n",
    "            print(f'Will check USGS for {sensor}, no cred envars req.')\n",
    "            continue\n",
    "        for source in sources[sensor]:\n",
    "            for envar in source_envars[source]:\n",
    "                if os.getenv(envar) == None:\n",
    "                    invalid.append(envar)\n",
    "    for i in invalid: \n",
    "        print(f\"'{i}' not found as envar so omitting from S&D.\")\n",
    "        del sources[i]\n",
    "        \n",
    "    for k,v in sources.items():\n",
    "        if v in invalid:\n",
    "            del your_dict[k]\n",
    "\n",
    "    return sources\n",
    "                "
   ]
  },
  {
   "cell_type": "code",
   "execution_count": 8,
   "metadata": {},
   "outputs": [
    {
     "name": "stdout",
     "output_type": "stream",
     "text": [
      "{'SENTINEL2': ['L2A'], 'SENTINEL_1': ['GRD']}\n",
      "'SENTINEL2' not a valid sensor so omitting from S&D.\n",
      "{'SENTINEL_1': ['GRD']}\n",
      "{'SENTINEL_1': ['GRD']} {'SENTINEL_2': ['ESAHUBS', 'GCLOUD'], 'SENTINEL_1': ['ESAHUB', 'ASF']}\n"
     ]
    }
   ],
   "source": [
    "des_products = {'SENTINEL2':['L2A'],'SENTINEL_1':['GRD']}\n",
    "print(des_products)\n",
    "des_products = rm_invalidsensors(des_products)\n",
    "print(des_products)\n",
    "sources = rm_invalidenvars(des_products)\n",
    "print(des_products, sources)"
   ]
  },
  {
   "cell_type": "code",
   "execution_count": 49,
   "metadata": {},
   "outputs": [
    {
     "data": {
      "text/plain": [
       "{'SENTINEL_1': ['GRD']}"
      ]
     },
     "execution_count": 49,
     "metadata": {},
     "output_type": "execute_result"
    }
   ],
   "source": [
    "rm_invalidprods(des_products)"
   ]
  },
  {
   "cell_type": "code",
   "execution_count": null,
   "metadata": {},
   "outputs": [],
   "source": []
  },
  {
   "cell_type": "code",
   "execution_count": null,
   "metadata": {},
   "outputs": [],
   "source": []
  },
  {
   "cell_type": "code",
   "execution_count": null,
   "metadata": {},
   "outputs": [],
   "source": []
  },
  {
   "cell_type": "code",
   "execution_count": null,
   "metadata": {},
   "outputs": [],
   "source": [
    "for des_sensor in des_products:\n",
    "    if des_sensor not in sensors:\n",
    "        print(f\"'{des_sensor}' not a valid sensor so removing from S&D.\")\n",
    "        del des_products[des_sensor]"
   ]
  },
  {
   "cell_type": "code",
   "execution_count": null,
   "metadata": {},
   "outputs": [],
   "source": []
  },
  {
   "cell_type": "code",
   "execution_count": null,
   "metadata": {},
   "outputs": [],
   "source": []
  },
  {
   "cell_type": "code",
   "execution_count": 41,
   "metadata": {},
   "outputs": [
    {
     "name": "stdout",
     "output_type": "stream",
     "text": [
      "SENTINEL2\n",
      "boo\n",
      "SENTINEL_1\n",
      "ESAHUB\n",
      "COPERNICUS_USERNAME tmj21\n",
      "COPERNICUS_PWD Welcome12!\n",
      "ASF\n",
      "ASF_USERNAME tom_jones\n",
      "ASF_PWD Welcome12!\n"
     ]
    }
   ],
   "source": [
    "for des_sensor in des_products:\n",
    "    \n",
    "    if des_sensor in sources:\n",
    "        for src in sources[des_sensor]:\n",
    "            print(src)\n",
    "\n",
    "            for req_envar in source_envars[src]:\n",
    "                \n",
    "                if req_envar != None:\n",
    "                if req_envar != None :\n",
    "                    print(req_envar,os.getenv(req_envar))\n",
    "    else:\n",
    "        print('boo, canna find your sensor')"
   ]
  },
  {
   "cell_type": "code",
   "execution_count": null,
   "metadata": {},
   "outputs": [],
   "source": []
  }
 ],
 "metadata": {
  "kernelspec": {
   "display_name": "Python 3",
   "language": "python",
   "name": "python3"
  },
  "language_info": {
   "codemirror_mode": {
    "name": "ipython",
    "version": 3
   },
   "file_extension": ".py",
   "mimetype": "text/x-python",
   "name": "python",
   "nbconvert_exporter": "python",
   "pygments_lexer": "ipython3",
   "version": "3.7.4"
  }
 },
 "nbformat": 4,
 "nbformat_minor": 4
}
