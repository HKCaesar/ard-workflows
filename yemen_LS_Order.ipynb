{
 "cells": [
  {
   "cell_type": "code",
   "execution_count": 15,
   "metadata": {},
   "outputs": [
    {
     "name": "stdout",
     "output_type": "stream",
     "text": [
      "The autoreload extension is already loaded. To reload it, use:\n",
      "  %reload_ext autoreload\n"
     ]
    }
   ],
   "source": [
    "%load_ext autoreload\n",
    "%autoreload 2\n",
    "%matplotlib inline"
   ]
  },
  {
   "cell_type": "code",
   "execution_count": 16,
   "metadata": {},
   "outputs": [],
   "source": [
    "import geopandas as gpd\n",
    "from shapely.geometry import Polygon\n",
    "from shapely import wkt\n",
    "from shapely import wkb\n",
    "import matplotlib.pyplot as plt\n",
    "import matplotlib.dates as mdates\n",
    "from matplotlib.dates import DateFormatter\n",
    "import matplotlib.patches as mpatches\n",
    "from sentinelsat import SentinelAPI\n",
    "import pandas as pd\n",
    "from datetime import datetime\n",
    "from datetime import date\n",
    "import glob\n",
    "from collections import OrderedDict\n",
    "import os\n",
    "import csv\n",
    "import random\n",
    "\n",
    "import numpy as np\n",
    "\n",
    "import requests\n",
    "import json\n",
    "import getpass\n",
    "\n",
    "from utils.prepS2 import *\n",
    "from utils.utils import reproject_wkt_4326_3460\n"
   ]
  },
  {
   "cell_type": "markdown",
   "metadata": {},
   "source": [
    "# Landsat Query & Order"
   ]
  },
  {
   "cell_type": "markdown",
   "metadata": {},
   "source": [
    "## Prep AoI Vectors and Ancillary datasets\n",
    "- single or directory of shapefiles (anything readable by gpd)\n",
    "- global sentinel-2 tile shapefile\n",
    "- global landsat tile shapefile\n",
    "- world borders shapefile (from TM_WORLD_BORDERS)"
   ]
  },
  {
   "cell_type": "code",
   "execution_count": 17,
   "metadata": {},
   "outputs": [],
   "source": [
    "# Load all aois\n",
    "# aois_dir = \"../DY/\"\n",
    "# aois = [gpd.read_file(x) for x in glob.glob(aois_dir + '*.geojson')] # load aois\n",
    "# aois = gpd.GeoDataFrame(pd.concat(aois)) # spatial join aois\n",
    "aois = gpd.read_file('../DY/DY_AoI.geojson')"
   ]
  },
  {
   "cell_type": "code",
   "execution_count": 18,
   "metadata": {},
   "outputs": [],
   "source": [
    "# Load landsat & sentinel-2 world tiles\n",
    "# world_s2_granules = gpd.read_file('../Ancillary_Datasets/sentinel2_tiles_world/sentinel2_tiles_world.shp')\n",
    "world_ls_granules = gpd.read_file('../Ancillary_Datasets/WRS2_descending.shp') # https://www.usgs.gov/land-resources/nli/landsat/landsat-shapefiles-and-kml-files\n"
   ]
  },
  {
   "cell_type": "code",
   "execution_count": 19,
   "metadata": {},
   "outputs": [
    {
     "data": {
      "image/png": "[encoded data removed]",
      "text/plain": [
       "<Figure size 432x288 with 1 Axes>"
      ]
     },
     "metadata": {
      "needs_background": "light"
     },
     "output_type": "display_data"
    }
   ],
   "source": [
    "world_borders = gpd.read_file('../Ancillary_Datasets/TM_WORLD_BORDERS-0.2/TM_WORLD_BORDERS-0.2.shp')\n",
    "country_name = 'Yemen'\n",
    "country = world_borders.loc[world_borders.NAME == country_name]\n",
    "country.plot();"
   ]
  },
  {
   "cell_type": "markdown",
   "metadata": {},
   "source": [
    "## Determine overlaping tiles & plot along with AoI and country border(s)"
   ]
  },
  {
   "cell_type": "code",
   "execution_count": 20,
   "metadata": {},
   "outputs": [
    {
     "data": {
      "text/html": [
       "<div>\n",
       "<style scoped>\n",
       "    .dataframe tbody tr th:only-of-type {\n",
       "        vertical-align: middle;\n",
       "    }\n",
       "\n",
       "    .dataframe tbody tr th {\n",
       "        vertical-align: top;\n",
       "    }\n",
       "\n",
       "    .dataframe thead th {\n",
       "        text-align: right;\n",
       "    }\n",
       "</style>\n",
       "<table border=\"1\" class=\"dataframe\">\n",
       "  <thead>\n",
       "    <tr style=\"text-align: right;\">\n",
       "      <th></th>\n",
       "      <th>id</th>\n",
       "      <th>geometry</th>\n",
       "      <th>NAME</th>\n",
       "    </tr>\n",
       "  </thead>\n",
       "  <tbody>\n",
       "    <tr>\n",
       "      <th>0</th>\n",
       "      <td>None</td>\n",
       "      <td>(POLYGON ((43.02425010375117 15.69745692446694...</td>\n",
       "      <td>DY</td>\n",
       "    </tr>\n",
       "  </tbody>\n",
       "</table>\n",
       "</div>"
      ],
      "text/plain": [
       "     id                                           geometry NAME\n",
       "0  None  (POLYGON ((43.02425010375117 15.69745692446694...   DY"
      ]
     },
     "execution_count": 20,
     "metadata": {},
     "output_type": "execute_result"
    }
   ],
   "source": [
    "# Check column NAME exists within aoi(s) gpd\n",
    "aois['NAME'] = 'DY'\n",
    "aois"
   ]
  },
  {
   "cell_type": "code",
   "execution_count": 21,
   "metadata": {},
   "outputs": [],
   "source": [
    "# Create bool for intersection between any tiles \n",
    "for n, g in zip(country.NAME, country.geometry):\n",
    "    world_ls_granules[n] = world_ls_granules.geometry.apply(lambda x: gpd.GeoSeries(x).intersects(g))\n",
    "#     world_s2_granules[n] = world_s2_granules.geometry.apply(lambda x: gpd.GeoSeries(x).intersects(g))"
   ]
  },
  {
   "cell_type": "code",
   "execution_count": 22,
   "metadata": {},
   "outputs": [],
   "source": [
    "# Filter based on any True intersections\n",
    "world_ls_granules[country_name] = world_ls_granules[world_ls_granules[country.NAME.values]].any(1)\n",
    "country_ls_grans = world_ls_granules[world_ls_granules[country_name]==True]\n",
    "# world_s2_granules[country_name] = world_s2_granules[world_s2_granules[country.NAME.values]].any(1)\n",
    "# country_s2_grans = world_s2_granules[world_s2_granules[country_name]==True]"
   ]
  },
  {
   "cell_type": "code",
   "execution_count": 23,
   "metadata": {},
   "outputs": [
    {
     "name": "stderr",
     "output_type": "stream",
     "text": [
      "/home/tj/miniconda3/envs/cs/lib/python3.7/site-packages/ipykernel_launcher.py:4: SettingWithCopyWarning: \n",
      "A value is trying to be set on a copy of a slice from a DataFrame.\n",
      "Try using .loc[row_indexer,col_indexer] = value instead\n",
      "\n",
      "See the caveats in the documentation: http://pandas.pydata.org/pandas-docs/stable/user_guide/indexing.html#returning-a-view-versus-a-copy\n",
      "  after removing the cwd from sys.path.\n"
     ]
    }
   ],
   "source": [
    "# # bonus filter for aoi subset within country\n",
    "# country_s2_grans['AOI'] = country_s2_grans.geometry.apply(lambda x: gpd.GeoSeries(x).intersects(aois))\n",
    "# aois_s2_grans = country_s2_grans[country_s2_grans.AOI==True]\n",
    "country_ls_grans['AOI'] = country_ls_grans.geometry.apply(lambda x: gpd.GeoSeries(x).intersects(aois))\n",
    "aois_ls_grans = country_ls_grans[country_ls_grans.AOI==True]"
   ]
  },
  {
   "cell_type": "code",
   "execution_count": 24,
   "metadata": {},
   "outputs": [
    {
     "data": {
      "image/png": "[encoded data removed]",
      "text/plain": [
       "<Figure size 1000x1000 with 1 Axes>"
      ]
     },
     "metadata": {
      "needs_background": "light"
     },
     "output_type": "display_data"
    }
   ],
   "source": [
    "# Plot coverage\n",
    "fig, ax = plt.subplots(figsize=(10,10),dpi=100)\n",
    "fig.autofmt_xdate()\n",
    "leg_patches=[]\n",
    "\n",
    "country.plot(facecolor=\"g\", edgecolor='g', ax=ax, alpha=0.2);\n",
    "leg_patches.append(mpatches.Patch(facecolor=\"g\", edgecolor='g', alpha=0.25, lw=0.7, label=country_name))\n",
    "\n",
    "# country_s2_grans.plot(facecolor=\"none\", edgecolor='r', lw=0.7, ax=ax)\n",
    "# leg_patches.append(mpatches.Patch(facecolor=\"none\", edgecolor='r', lw=0.7, label='Sentinel-2 Tiles'))\n",
    "# country_s2_grans.apply(lambda x: ax.annotate(s=x.Name, xy=x.geometry.centroid.coords[0], ha='center', fontsize=6),axis=1)\n",
    "\n",
    "# aois_s2_grans.plot(facecolor=\"none\", edgecolor='b', lw=0.7, ax=ax)\n",
    "# leg_patches.append(mpatches.Patch(facecolor=\"none\", edgecolor='r', lw=0.7, label='Landsat Tiles'))\n",
    "# aois_s2_grans.apply(lambda x: ax.annotate(s=x.PR, xy=x.geometry.centroid.coords[0], ha='center', fontsize=6),axis=1)\n",
    "\n",
    "# country_ls_grans.plot(facecolor=\"none\", edgecolor='b', lw=0.7, ax=ax)\n",
    "# leg_patches.append(mpatches.Patch(facecolor=\"none\", edgecolor='r', lw=0.7, label='Landsat Tiles'))\n",
    "# country_ls_grans.apply(lambda x: ax.annotate(s=x.PR, xy=x.geometry.centroid.coords[0], ha='center', fontsize=6),axis=1)\n",
    "\n",
    "aois_ls_grans.plot(facecolor=\"none\", edgecolor='b', lw=0.7, ax=ax)\n",
    "leg_patches.append(mpatches.Patch(facecolor=\"none\", edgecolor='b', lw=0.7, label='Landsat Tiles'))\n",
    "aois_ls_grans.apply(lambda x: ax.annotate(s=x.PR, xy=x.geometry.centroid.coords[0], ha='center', fontsize=6),axis=1)\n",
    "\n",
    "ax.set_title('asf')\n",
    "ax.legend(handles=leg_patches, loc='upper center', shadow=True, ncol=5);\n",
    "ax.grid(alpha=0.5);\n",
    "ax.tick_params(axis='y', rotation=90);\n",
    "ax.tick_params(axis='x', rotation=0);"
   ]
  },
  {
   "cell_type": "markdown",
   "metadata": {},
   "source": [
    "# Landsat Order"
   ]
  },
  {
   "cell_type": "code",
   "execution_count": 61,
   "metadata": {},
   "outputs": [],
   "source": [
    "pr = aois_ls_grans\n",
    "df = pd.read_csv('../Ancillary_Datasets/LANDSAT_8_C1_new.csv.gz') # latest csv can be found at - https://www.usgs.gov/land-resources/nli/landsat/bulk-metadata-service\n",
    "df = df[df.row.isin(pr.ROW.values)&df.path.isin(pr.PATH.values)]\n",
    "res3 = df\n"
   ]
  },
  {
   "cell_type": "code",
   "execution_count": 62,
   "metadata": {},
   "outputs": [
    {
     "name": "stdout",
     "output_type": "stream",
     "text": [
      "done\n"
     ]
    },
    {
     "name": "stderr",
     "output_type": "stream",
     "text": [
      "/home/tj/miniconda3/envs/cs/lib/python3.7/site-packages/ipykernel_launcher.py:2: FutureWarning: Comparing Series of datetimes with 'datetime.date'.  Currently, the\n",
      "'datetime.date' is coerced to a datetime. In the future pandas will\n",
      "not coerce, and a TypeError will be raised. To retain the current\n",
      "behavior, convert the 'datetime.date' to a datetime with\n",
      "'pd.Timestamp'.\n",
      "  \n"
     ]
    }
   ],
   "source": [
    "res3['AcquisitionDate'] = pd.to_datetime(res3['acquisitionDate'], format='%Y-%m-%d')\n",
    "res3 = res3[(res3.AcquisitionDate>date(2019,9,8)) & (res3.AcquisitionDate<date(2020,1,1))] # SET TIME PERIOD\n",
    "print('done')"
   ]
  },
  {
   "cell_type": "code",
   "execution_count": null,
   "metadata": {},
   "outputs": [],
   "source": []
  },
  {
   "cell_type": "code",
   "execution_count": 63,
   "metadata": {},
   "outputs": [
    {
     "name": "stdout",
     "output_type": "stream",
     "text": [
      "done\n"
     ]
    }
   ],
   "source": [
    "res3.LANDSAT_PRODUCT_ID.head()\n",
    "print('done')"
   ]
  },
  {
   "cell_type": "code",
   "execution_count": 64,
   "metadata": {},
   "outputs": [],
   "source": [
    "l8_list = list(res3.LANDSAT_PRODUCT_ID.values)"
   ]
  },
  {
   "cell_type": "code",
   "execution_count": 65,
   "metadata": {},
   "outputs": [],
   "source": [
    "# function for basic interaction with ESPA API - hacked together from their 'how to page'\n",
    "def espa_api(endpoint, verb='get', body=None, uauth=None):\n",
    "    \"\"\" Suggested simple way to interact with the ESPA JSON REST API \"\"\"\n",
    "    auth_tup = uauth if uauth else (username, password)\n",
    "    response = getattr(requests, verb)(host + endpoint, auth=auth_tup, json=body)\n",
    "    print('{} {}'.format(response.status_code, response.reason))\n",
    "    data = response.json()\n",
    "    if isinstance(data, dict):\n",
    "        messages = data.pop(\"messages\", None)  \n",
    "        if messages:\n",
    "            print(json.dumps(messages, indent=4))\n",
    "    try:\n",
    "        response.raise_for_status()\n",
    "    except Exception as e:\n",
    "        print(e)\n",
    "        return None\n",
    "    else:\n",
    "        return data"
   ]
  },
  {
   "cell_type": "code",
   "execution_count": 66,
   "metadata": {},
   "outputs": [
    {
     "name": "stdout",
     "output_type": "stream",
     "text": [
      "GET /api/v1/user\n",
      "200 OK\n",
      "{\n",
      "    \"email\": \"Sarah.Cheesbrough@sa.catapult.org.uk\",\n",
      "    \"first_name\": \"Sarah\",\n",
      "    \"last_name\": \"Cheesbrough\",\n",
      "    \"roles\": [\n",
      "        \"active\"\n",
      "    ],\n",
      "    \"username\": \"sarah.cheesbrough\"\n",
      "}\n"
     ]
    }
   ],
   "source": [
    "# earth explorer credentials are required\n",
    "host = 'https://espa.cr.usgs.gov/api/v1/'\n",
    "#username = 'tom.jones'\n",
    "#password = 'Welcome12'\n",
    "username = 'sarah.cheesbrough'\n",
    "password = 'SaCh_SatApps_USGS1'\n",
    "# check login\n",
    "print('GET /api/v1/user')\n",
    "resp = espa_api('user')\n",
    "print(json.dumps(resp, indent=4))"
   ]
  },
  {
   "cell_type": "code",
   "execution_count": 67,
   "metadata": {},
   "outputs": [
    {
     "name": "stdout",
     "output_type": "stream",
     "text": [
      "GET /api/v1/list-orders\n",
      "200 OK\n",
      "[]\n"
     ]
    }
   ],
   "source": [
    "## CHECK CONFLICTING ORDERS ###\n",
    "\n",
    "# check for any existing orders that may prevent imediate processing of a fresh requestttttt\n",
    "print('GET /api/v1/list-orders')\n",
    "filters = {\"status\": [\"complete\", \"ordered\"]}  # Here, we ignore any purged orders\n",
    "resp = espa_api('list-orders', body=filters)\n",
    "print(json.dumps(resp, indent=4))"
   ]
  },
  {
   "cell_type": "code",
   "execution_count": 68,
   "metadata": {},
   "outputs": [
    {
     "name": "stdout",
     "output_type": "stream",
     "text": [
      "GET /api/v1/available-products\n",
      "200 OK\n",
      "{\n",
      "    \"olitirs8_collection\": {\n",
      "        \"inputs\": [\n",
      "            \"LC08_L1TP_164049_20191003_20191003_01_RT\",\n",
      "            \"LC08_L1TP_164050_20191003_20191003_01_RT\",\n",
      "            \"LC08_L1TP_164051_20191003_20191003_01_RT\",\n",
      "            \"LC08_L1TP_166049_20191001_20191001_01_RT\",\n",
      "            \"LC08_L1TP_166050_20191001_20191001_01_RT\",\n",
      "            \"LC08_L1TP_166051_20191001_20191001_01_RT\",\n",
      "            \"LC08_L1TP_165049_20190924_20191001_01_RT\",\n",
      "            \"LC08_L1TP_165050_20190924_20191001_01_RT\",\n",
      "            \"LC08_L1TP_165051_20190924_20191001_01_RT\",\n",
      "            \"LC08_L1TP_167049_20190922_20190926_01_T1\",\n",
      "            \"LC08_L1TP_167050_20190922_20190926_01_T1\",\n",
      "            \"LC08_L1TP_167051_20190922_20190926_01_T1\",\n",
      "            \"LC08_L1TP_164049_20190917_20190926_01_T1\",\n",
      "            \"LC08_L1TP_164050_20190917_20190926_01_T1\",\n",
      "            \"LC08_L1TP_164051_20190917_20190926_01_T1\",\n",
      "            \"LC08_L1TP_166049_20190915_20190925_01_T1\",\n",
      "            \"LC08_L1TP_166050_20190915_20190925_01_T1\",\n",
      "            \"LC08_L1TP_166051_20190915_20190925_01_T1\"\n",
      "        ],\n",
      "        \"products\": [\n",
      "            \"source_metadata\",\n",
      "            \"l1\",\n",
      "            \"toa\",\n",
      "            \"bt\",\n",
      "            \"sr\",\n",
      "            \"sr_ndvi\",\n",
      "            \"sr_evi\",\n",
      "            \"sr_savi\",\n",
      "            \"sr_msavi\",\n",
      "            \"sr_ndmi\",\n",
      "            \"sr_nbr\",\n",
      "            \"sr_nbr2\",\n",
      "            \"stats\",\n",
      "            \"pixel_qa\"\n",
      "        ]\n",
      "    }\n",
      "}\n"
     ]
    }
   ],
   "source": [
    "### CHECK PRODUCT AVAILABILITY ###\n",
    "\n",
    "# example of how to check available products for desired scenes\n",
    "print('GET /api/v1/available-products')\n",
    "avail_list = {'inputs': l8_list\n",
    "             }\n",
    "resp = espa_api('available-products', body=avail_list)\n",
    "print(json.dumps(resp, indent=4))"
   ]
  },
  {
   "cell_type": "code",
   "execution_count": 69,
   "metadata": {},
   "outputs": [
    {
     "name": "stdout",
     "output_type": "stream",
     "text": [
      "18\n",
      "18\n"
     ]
    }
   ],
   "source": [
    "l8_list = list(res3.LANDSAT_PRODUCT_ID.values)\n",
    "print(len(l8_list))\n",
    "er = []\n",
    "#er = ['LC08_L1TP_166051_20190814_20190814_01_RT', 'LC08_L1TP_166048_20190814_20190814_01_RT']\n",
    "ls = l8_list\n",
    "#ls = [x (if x is not in er) for x in l8_list]\n",
    "for i in er: \n",
    "    print(i)\n",
    "    ls.remove(er)\n",
    "print(len(ls))"
   ]
  },
  {
   "cell_type": "code",
   "execution_count": 71,
   "metadata": {},
   "outputs": [
    {
     "name": "stdout",
     "output_type": "stream",
     "text": [
      "GET /api/v1/available-products\n",
      "200 OK\n",
      "{\n",
      "    \"olitirs8_collection\": {\n",
      "        \"inputs\": [\n",
      "            \"LC08_L1TP_167049_20190922_20190926_01_T1\",\n",
      "            \"LC08_L1TP_167050_20190922_20190926_01_T1\",\n",
      "            \"LC08_L1TP_167051_20190922_20190926_01_T1\",\n",
      "            \"LC08_L1TP_164049_20190917_20190926_01_T1\",\n",
      "            \"LC08_L1TP_164050_20190917_20190926_01_T1\",\n",
      "            \"LC08_L1TP_164051_20190917_20190926_01_T1\",\n",
      "            \"LC08_L1TP_166049_20190915_20190925_01_T1\",\n",
      "            \"LC08_L1TP_166050_20190915_20190925_01_T1\",\n",
      "            \"LC08_L1TP_166051_20190915_20190925_01_T1\"\n",
      "        ],\n",
      "        \"products\": [\n",
      "            \"source_metadata\",\n",
      "            \"l1\",\n",
      "            \"toa\",\n",
      "            \"bt\",\n",
      "            \"sr\",\n",
      "            \"sr_ndvi\",\n",
      "            \"sr_evi\",\n",
      "            \"sr_savi\",\n",
      "            \"sr_msavi\",\n",
      "            \"sr_ndmi\",\n",
      "            \"sr_nbr\",\n",
      "            \"sr_nbr2\",\n",
      "            \"stats\",\n",
      "            \"pixel_qa\"\n",
      "        ]\n",
      "    }\n",
      "}\n",
      "{\n",
      "    \"olitirs8_collection\": {\n",
      "        \"inputs\": [\n",
      "            \"LC08_L1TP_167049_20190922_20190926_01_T1\",\n",
      "            \"LC08_L1TP_167050_20190922_20190926_01_T1\",\n",
      "            \"LC08_L1TP_167051_20190922_20190926_01_T1\",\n",
      "            \"LC08_L1TP_164049_20190917_20190926_01_T1\",\n",
      "            \"LC08_L1TP_164050_20190917_20190926_01_T1\",\n",
      "            \"LC08_L1TP_164051_20190917_20190926_01_T1\",\n",
      "            \"LC08_L1TP_166049_20190915_20190925_01_T1\",\n",
      "            \"LC08_L1TP_166050_20190915_20190925_01_T1\",\n",
      "            \"LC08_L1TP_166051_20190915_20190925_01_T1\"\n",
      "        ],\n",
      "        \"products\": [\n",
      "            \"sr\",\n",
      "            \"bt\",\n",
      "            \"source_metadata\",\n",
      "            \"sr_ndvi\",\n",
      "            \"sr_evi\",\n",
      "            \"sr_savi\",\n",
      "            \"sr_msavi\",\n",
      "            \"sr_ndmi\",\n",
      "            \"sr_nbr\",\n",
      "            \"sr_nbr2\",\n",
      "            \"stats\",\n",
      "            \"pixel_qa\"\n",
      "        ]\n",
      "    },\n",
      "    \"format\": \"gtiff\",\n",
      "    \"resampling_method\": \"cc\",\n",
      "    \"note\": \"DY Veg\"\n",
      "}\n"
     ]
    }
   ],
   "source": [
    "### CREATE ORDER ###\n",
    "# if any further subsetting is required. very recently acquired products are categorised as RT (as opposed to T1/T2). these are of insufficient certainty RE quality to be processed to ARD. this latency is unlikely to impact the non-NRT requirements of Common Sensing.\n",
    "er = []\n",
    "#er = ['LC08_L1TP_166051_20190814_20190814_01_RT', 'LC08_L1TP_166048_20190814_20190814_01_RT']\n",
    "l8_ls = [e for e in l8_list if e not in (er)]\n",
    "l8_ls = [i for i in l8_list if 'RT' not in i]\n",
    "\n",
    "# specifying differing products across the sensors\n",
    "l8_prods = [\"sr\",\"bt\",\"source_metadata\",\"sr_ndvi\",\"sr_evi\",\"sr_savi\",\"sr_msavi\",\"sr_ndmi\",\"sr_nbr\",\"sr_nbr2\",\"stats\",\"pixel_qa\"]\n",
    "         \n",
    "# determine available-products under their respective sensors\n",
    "ls = l8_ls\n",
    "print('GET /api/v1/available-products')\n",
    "order = espa_api('available-products', body=dict(inputs=ls))\n",
    "print(json.dumps(order, indent=4))\n",
    "\n",
    "# replace available products with what we wish to process\n",
    "for sensor in order.keys():\n",
    "    if isinstance(order[sensor], dict) and order[sensor].get('inputs'):\n",
    "\n",
    "        if set(l8_ls) & set(order[sensor]['inputs']):\n",
    "            order[sensor]['products'] = l8_prods\n",
    "\n",
    "# Add in the rest of the order information\n",
    "#order['projection'] = projection\n",
    "order['format'] = 'gtiff'\n",
    "order['resampling_method'] = 'cc'\n",
    "order['note'] = 'DY Veg'\n",
    "\n",
    "# the order shoud now have changed from the original call available-products\n",
    "print(json.dumps(order, indent=4))"
   ]
  },
  {
   "cell_type": "code",
   "execution_count": 72,
   "metadata": {},
   "outputs": [
    {
     "name": "stdout",
     "output_type": "stream",
     "text": [
      "POST /api/v1/order\n",
      "201 CREATED\n",
      "<built-in method keys of dict object at 0x7f8e26310190>\n",
      "{\n",
      "    \"orderid\": \"espa-Sarah.Cheesbrough@sa.catapult.org.uk-10102019-051603-151\",\n",
      "    \"status\": \"ordered\"\n",
      "}\n"
     ]
    }
   ],
   "source": [
    "### PLACE ORDER ###\n",
    "print('POST /api/v1/order')\n",
    "resp = espa_api('order', verb='post', body=order)\n",
    "print(resp.keys)\n",
    "print(json.dumps(resp, indent=4))"
   ]
  },
  {
   "cell_type": "code",
   "execution_count": 74,
   "metadata": {},
   "outputs": [
    {
     "name": "stdout",
     "output_type": "stream",
     "text": [
      "GET /api/v1/order-status/espa-Sarah.Cheesbrough@sa.catapult.org.uk-10102019-051603-151\n",
      "200 OK\n",
      "{\n",
      "    \"orderid\": \"espa-Sarah.Cheesbrough@sa.catapult.org.uk-10102019-051603-151\",\n",
      "    \"status\": \"ordered\"\n",
      "}\n"
     ]
    }
   ],
   "source": [
    "### CHECK STATUS OF ORDER ### \n",
    "orderid = resp['orderid']\n",
    "print('GET /api/v1/order-status/{}'.format(orderid))\n",
    "resp = espa_api('order-status/{}'.format(orderid))\n",
    "print(json.dumps(resp, indent=4))"
   ]
  },
  {
   "cell_type": "code",
   "execution_count": 290,
   "metadata": {},
   "outputs": [
    {
     "ename": "KeyError",
     "evalue": "'espa-Sarah.Cheesbrough@sa.catapult.org.uk-09262019-102739-043'",
     "output_type": "error",
     "traceback": [
      "\u001b[0;31m---------------------------------------------------------------------------\u001b[0m",
      "\u001b[0;31mKeyError\u001b[0m                                  Traceback (most recent call last)",
      "\u001b[0;32m<ipython-input-290-f7df48bd820e>\u001b[0m in \u001b[0;36m<module>\u001b[0;34m\u001b[0m\n\u001b[1;32m      1\u001b[0m \u001b[0;31m### EXTRACT URLS ###\u001b[0m\u001b[0;34m\u001b[0m\u001b[0;34m\u001b[0m\u001b[0;34m\u001b[0m\u001b[0m\n\u001b[1;32m      2\u001b[0m \u001b[0murls\u001b[0m \u001b[0;34m=\u001b[0m \u001b[0;34m[\u001b[0m\u001b[0;34m]\u001b[0m\u001b[0;34m\u001b[0m\u001b[0;34m\u001b[0m\u001b[0m\n\u001b[0;32m----> 3\u001b[0;31m \u001b[0;32mfor\u001b[0m \u001b[0mitem\u001b[0m \u001b[0;32min\u001b[0m \u001b[0mresp\u001b[0m\u001b[0;34m[\u001b[0m\u001b[0morderid\u001b[0m\u001b[0;34m]\u001b[0m\u001b[0;34m:\u001b[0m\u001b[0;34m\u001b[0m\u001b[0;34m\u001b[0m\u001b[0m\n\u001b[0m\u001b[1;32m      4\u001b[0m     \u001b[0murls\u001b[0m\u001b[0;34m.\u001b[0m\u001b[0mappend\u001b[0m\u001b[0;34m(\u001b[0m\u001b[0mitem\u001b[0m\u001b[0;34m.\u001b[0m\u001b[0mget\u001b[0m\u001b[0;34m(\u001b[0m\u001b[0;34m'product_dload_url'\u001b[0m\u001b[0;34m)\u001b[0m\u001b[0;34m)\u001b[0m\u001b[0;34m\u001b[0m\u001b[0;34m\u001b[0m\u001b[0m\n\u001b[1;32m      5\u001b[0m \u001b[0mprint\u001b[0m\u001b[0;34m(\u001b[0m\u001b[0murls\u001b[0m\u001b[0;34m)\u001b[0m\u001b[0;34m\u001b[0m\u001b[0;34m\u001b[0m\u001b[0m\n",
      "\u001b[0;31mKeyError\u001b[0m: 'espa-Sarah.Cheesbrough@sa.catapult.org.uk-09262019-102739-043'"
     ]
    }
   ],
   "source": [
    "### EXTRACT URLS ###\n",
    "urls = []\n",
    "for item in resp[orderid]:\n",
    "    urls.append(item.get('product_dload_url'))\n",
    "print(urls)"
   ]
  },
  {
   "cell_type": "code",
   "execution_count": null,
   "metadata": {},
   "outputs": [],
   "source": []
  },
  {
   "cell_type": "code",
   "execution_count": null,
   "metadata": {},
   "outputs": [],
   "source": []
  }
 ],
 "metadata": {
  "kernelspec": {
   "display_name": "Python 3",
   "language": "python",
   "name": "python3"
  },
  "language_info": {
   "codemirror_mode": {
    "name": "ipython",
    "version": 3
   },
   "file_extension": ".py",
   "mimetype": "text/x-python",
   "name": "python",
   "nbconvert_exporter": "python",
   "pygments_lexer": "ipython3",
   "version": "3.7.4"
  }
 },
 "nbformat": 4,
 "nbformat_minor": 4
}
