{
 "cells": [
  {
   "cell_type": "code",
   "execution_count": 8,
   "metadata": {},
   "outputs": [
    {
     "name": "stdout",
     "output_type": "stream",
     "text": [
      "Requirement already satisfied: redis in /opt/conda/lib/python3.7/site-packages (3.3.8)\r\n"
     ]
    }
   ],
   "source": [
    "!pip install redis"
   ]
  },
  {
   "cell_type": "code",
   "execution_count": 12,
   "metadata": {},
   "outputs": [
    {
     "name": "stdout",
     "output_type": "stream",
     "text": [
      "Worker with sessionID: 5139e4ce-91f6-4096-891c-b518b8e30783\n",
      "Initial queue state: empty=True\n"
     ]
    }
   ],
   "source": [
    "import time\n",
    "import rediswq\n",
    "\n",
    "host=\"10.21.14.25\"\n",
    "# Uncomment next two lines if you do not have Kube-DNS working.\n",
    "# import os\n",
    "# host = os.getenv(\"REDIS_SERVICE_HOST\")\n",
    "\n",
    "q = rediswq.RedisWQ(name=\"job2\", host=host)\n",
    "print(\"Worker with sessionID: \" +  q.sessionID())\n",
    "print(\"Initial queue state: empty=\" + str(q.empty()))"
   ]
  },
  {
   "cell_type": "code",
   "execution_count": 13,
   "metadata": {},
   "outputs": [],
   "source": [
    "while not q.empty():\n",
    "  item = q.lease(lease_secs=10, block=True, timeout=2) \n",
    "  if item is not None:\n",
    "    itemstr = item.decode(\"utf=8\")\n",
    "    print(\"Working on \" + itemstr)\n",
    "    time.sleep(10) # Put your actual work here instead of sleep.\n",
    "    q.complete(item)\n",
    "  else:\n",
    "    print(\"Waiting for work\")"
   ]
  },
  {
   "cell_type": "code",
   "execution_count": 14,
   "metadata": {},
   "outputs": [
    {
     "name": "stdout",
     "output_type": "stream",
     "text": [
      "Queue empty!\n"
     ]
    }
   ],
   "source": [
    "print(\"Queue empty!\")"
   ]
  }
 ],
 "metadata": {
  "kernelspec": {
   "display_name": "Python 3",
   "language": "python",
   "name": "python3"
  },
  "language_info": {
   "codemirror_mode": {
    "name": "ipython",
    "version": 3
   },
   "file_extension": ".py",
   "mimetype": "text/x-python",
   "name": "python",
   "nbconvert_exporter": "python",
   "pygments_lexer": "ipython3",
   "version": "3.7.3"
  }
 },
 "nbformat": 4,
 "nbformat_minor": 2
}

