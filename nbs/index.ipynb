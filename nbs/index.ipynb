{
 "cells": [
  {
   "cell_type": "code",
   "execution_count": null,
   "metadata": {},
   "outputs": [],
   "source": [
    "#hide\n",
    "# from sac_stac.utils import *"
   ]
  },
  {
   "cell_type": "markdown",
   "metadata": {},
   "source": [
    "# ARD Workflows\n",
    "\n",
    "> Data preparation (a la ARD) workflows for common satellite Earth observation datasets"
   ]
  },
  {
   "cell_type": "code",
   "execution_count": null,
   "metadata": {},
   "outputs": [],
   "source": [
    "#hide\n",
    "%load_ext autoreload\n",
    "%autoreload 2"
   ]
  },
  {
   "cell_type": "markdown",
   "metadata": {},
   "source": [
    "Catapult works with a variety of satellite Earth Observation (EO) datasets. Here we collate some of the most common 'data preparation' workfows that we apply to them so that they can be...\n",
    "1. hosted on publicly accessible object storage\n",
    "2. formatted to be cloud-optimised\n",
    "3. consistently catalogued \n",
    "\n",
    "Most notable workflows inc.\n",
    "- NovaSAR\n",
    "- Sentinel-2\n",
    "- Sentinel-1\n",
    "- UKSA/SSGP VHR\n",
    "- MODIS\n",
    "- Sentinel-3\n",
    "- ...\n",
    "\n",
    "\n"
   ]
  },
  {
   "cell_type": "markdown",
   "metadata": {},
   "source": [
    "## Install"
   ]
  },
  {
   "cell_type": "markdown",
   "metadata": {},
   "source": [
    "`pip install ard_workflows` (package not created, we use Docker images - see ard-docker-images)"
   ]
  },
  {
   "cell_type": "code",
   "execution_count": null,
   "metadata": {},
   "outputs": [
    {
     "name": "stdout",
     "output_type": "stream",
     "text": [
      "Converted 1_prep_utils.ipynb.\n",
      "Converted 2_prep_novasar.ipynb.\n",
      "Converted index.ipynb.\n"
     ]
    }
   ],
   "source": [
    "#hide\n",
    "from nbdev.export import notebook2script; notebook2script()"
   ]
  }
 ],
 "metadata": {
  "kernelspec": {
   "display_name": "Python 3",
   "language": "python",
   "name": "python3"
  }
 },
 "nbformat": 4,
 "nbformat_minor": 4
}
