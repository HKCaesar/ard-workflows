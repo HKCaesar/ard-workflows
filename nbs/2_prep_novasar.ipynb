{
 "cells": [
  {
   "cell_type": "code",
   "execution_count": null,
   "metadata": {},
   "outputs": [],
   "source": [
    "#default_exp prep_novasar"
   ]
  },
  {
   "cell_type": "markdown",
   "metadata": {},
   "source": [
    "# Prep NovaSAR\n",
    "\n",
    "> Data preparation for NovaSAR acquisitions. SLC to dB for Gamma0."
   ]
  },
  {
   "cell_type": "code",
   "execution_count": null,
   "metadata": {},
   "outputs": [],
   "source": [
    "#hide\n",
    "%load_ext autoreload\n",
    "%autoreload 2"
   ]
  },
  {
   "cell_type": "code",
   "execution_count": null,
   "metadata": {},
   "outputs": [],
   "source": [
    "#hide\n",
    "from nbdev.showdoc import *"
   ]
  },
  {
   "cell_type": "code",
   "execution_count": null,
   "metadata": {},
   "outputs": [],
   "source": [
    "#export\n",
    "import os\n",
    "import time\n",
    "from glob import glob\n",
    "import shutil\n",
    "\n",
    "from ard_workflows.prep_utils import sedas_client, sedas_download, sedas_extract, sedas_find_datasets\n",
    "from ard_workflows.prep_utils import run_snap_command, setup_logging\n",
    "from ard_workflows.prep_utils import convert2cog, s3_upload_dir"
   ]
  },
  {
   "cell_type": "code",
   "execution_count": null,
   "metadata": {},
   "outputs": [],
   "source": [
    "import pandas as pd"
   ]
  },
  {
   "cell_type": "code",
   "execution_count": null,
   "metadata": {},
   "outputs": [],
   "source": [
    "os.environ['NOVASAR_PROCESS'] = '/opt/notebooks/anc/novasar_slc_tf_tc.xml'"
   ]
  },
  {
   "cell_type": "markdown",
   "metadata": {},
   "source": [
    "notes\n",
    "- default dem of auto-downloading srtm 1-arc sec\n",
    "- ML+TC+TF default (and currently only) workflow\n",
    "- gamma0 and HH ONLY (need to parse polarisations into snap chain, won't generalise)\n",
    "- explode sub-scenes to scenes\n",
    "- no compression on cog\n",
    "- copy original metadata, but not outmetadata"
   ]
  },
  {
   "cell_type": "code",
   "execution_count": null,
   "metadata": {},
   "outputs": [],
   "source": [
    "#export\n",
    "def prep_novasar(sedas_supplierId, inter_dir=\"/tmp/data/intermediate/\", \n",
    "                  s3_bucket=\"public-eo-data\", s3_dir=\"novasar_uk_test/\"):\n",
    "    \"\"\"\n",
    "    Prepare a Sedas-hosted NovaSAR .zip scene(/strip) by suppliedId into a flavour of ARD\n",
    "    using SNAP and upload output COGs to Catapult object storage. \n",
    "    \"\"\"\n",
    "    try:\n",
    "        snap_gpt = os.environ['SNAP_GPT']\n",
    "        novasar_process = os.environ['NOVASAR_PROCESS']\n",
    "        root = setup_logging()\n",
    "\n",
    "        inter_dir = f\"{inter_dir}{sedas_supplierId}_tmp/\"\n",
    "        os.makedirs(inter_dir, exist_ok=True)\n",
    "        master_scene_name = sedas_supplierId\n",
    "        down_zip = f\"{inter_dir}{master_scene_name}.zip\"\n",
    "        master_scene_dir = f\"{down_zip[:-4]}/\"\n",
    "        \n",
    "        \n",
    "        print(f\"{time.strftime('%Y-%m-%d %H:%M:%S')} Preparing {master_scene_name} within {inter_dir}\")\n",
    "        # find & download\n",
    "        sedas_scene_res = sedas_client().search_product(sedas_supplierId)[0]\n",
    "        sedas_download([sedas_scene_res], inter_dir)\n",
    "        sedas_extract(down_zip, master_scene_dir)\n",
    "\n",
    "        scenes_metadata = glob(f\"{inter_dir}**/*metadata.xml\", recursive=True)\n",
    "        \n",
    "        for scene_metadata in scenes_metadata:\n",
    "            \n",
    "            scene_name = scene_metadata.split('/')[-2]\n",
    "            print(scene_name)\n",
    "            \n",
    "            out_dim = f\"{inter_dir}{scene_name}_ML_TC_TF.dim\"\n",
    "            out_dimdir = f\"{out_dim[:-4]}.data/\"\n",
    "            print(out_dimdir)\n",
    "            \n",
    "            out_cog_dir = f\"{out_dimdir.replace('.data','_cog')}\"\n",
    "            os.makedirs(out_cog_dir, exist_ok=True)\n",
    "            print(out_cog_dir)\n",
    "            \n",
    "            cmd = [snap_gpt, novasar_process, f\"-Pinput={scene_metadata}\", f\"-Poutput={out_dim}\"]\n",
    "            run_snap_command(cmd)\n",
    "            \n",
    "            scene_bands = glob(f\"{out_dimdir}**/*.img\", recursive=True)\n",
    "            for band_path in scene_bands:\n",
    "                out_cog = f\"{out_cog_dir}{scene_name}_{os.path.basename(band_path)[:-4]}.tif\"\n",
    "                print(out_cog)\n",
    "                convert2cog(band_path, out_cog, 1)\n",
    "            \n",
    "            shutil.copy(scene_metadata, f\"{out_cog_dir}original_metadata.xml\")\n",
    "            shutil.copy(out_dim, f\"{out_cog_dir}process_metadata.dim\")\n",
    "            \n",
    "            # upload\n",
    "            s3_upload_dir(out_cog_dir, s3_bucket, s3_dir)\n",
    "        print(f\"{time.strftime('%Y-%m-%d %H:%M:%S')} Prepared {master_scene_name} at {s3_dir}\")\n",
    "#         clean_up(inter_dir) \n",
    "    except Exception as e:\n",
    "        print(f\"{time.strftime('%Y-%m-%d %H:%M:%S')} Failed with {e}\")    \n",
    "#         clean_up(inter_dir)"
   ]
  },
  {
   "cell_type": "code",
   "execution_count": null,
   "metadata": {},
   "outputs": [],
   "source": [
    "done = ['NovaSAR_01_14295_slc_200823_233848_HH']"
   ]
  },
  {
   "cell_type": "code",
   "execution_count": null,
   "metadata": {},
   "outputs": [
    {
     "data": {
      "text/html": [
       "<div>\n",
       "<style scoped>\n",
       "    .dataframe tbody tr th:only-of-type {\n",
       "        vertical-align: middle;\n",
       "    }\n",
       "\n",
       "    .dataframe tbody tr th {\n",
       "        vertical-align: top;\n",
       "    }\n",
       "\n",
       "    .dataframe thead th {\n",
       "        text-align: right;\n",
       "    }\n",
       "</style>\n",
       "<table border=\"1\" class=\"dataframe\">\n",
       "  <thead>\n",
       "    <tr style=\"text-align: right;\">\n",
       "      <th></th>\n",
       "      <th>productId</th>\n",
       "      <th>supplierId</th>\n",
       "      <th>type</th>\n",
       "      <th>satelliteName</th>\n",
       "      <th>instrumentName</th>\n",
       "      <th>modeName</th>\n",
       "      <th>sensorType</th>\n",
       "      <th>sensorResolution</th>\n",
       "      <th>coordinatesWKT</th>\n",
       "      <th>start</th>\n",
       "      <th>...</th>\n",
       "      <th>area</th>\n",
       "      <th>aoiCoveragePercent</th>\n",
       "      <th>usefulAreaPercent</th>\n",
       "      <th>polarisation</th>\n",
       "      <th>productType</th>\n",
       "      <th>latency</th>\n",
       "      <th>ql</th>\n",
       "      <th>thumbnail</th>\n",
       "      <th>vendorSpecific</th>\n",
       "      <th>downloadUrl</th>\n",
       "    </tr>\n",
       "  </thead>\n",
       "  <tbody>\n",
       "    <tr>\n",
       "      <th>0</th>\n",
       "      <td>8b3308d59e50811022980dd83595b7ea</td>\n",
       "      <td>NovaSAR_01_16359_grd_201025_231828_HH</td>\n",
       "      <td>ARCHIVE</td>\n",
       "      <td>NovaSAR-1</td>\n",
       "      <td>6m-Stripmap</td>\n",
       "      <td>F3</td>\n",
       "      <td>SAR</td>\n",
       "      <td>6.0</td>\n",
       "      <td>POLYGON((1.929749 51.297417,1.65757 51.349038,...</td>\n",
       "      <td>2020-10-25T23:18:29Z</td>\n",
       "      <td>...</td>\n",
       "      <td>1.240146e+09</td>\n",
       "      <td>0.0</td>\n",
       "      <td>100.0</td>\n",
       "      <td>HH</td>\n",
       "      <td>GRD</td>\n",
       "      <td>Standard</td>\n",
       "      <td>https://geobrowsertest.satapps.org/archiveql/a...</td>\n",
       "      <td>https://sedasdmtest.satapps.org/qls/qlmgr.php?...</td>\n",
       "      <td>{'property': 'vendorSpecific', 'Filehash': '6d...</td>\n",
       "      <td>https://sedasdmtest.satapps.org/datamgr/datamg...</td>\n",
       "    </tr>\n",
       "    <tr>\n",
       "      <th>1</th>\n",
       "      <td>005751e56c8744048cb3c28f10b5de48</td>\n",
       "      <td>NovaSAR_01_16359_slc_201025_231828_HH</td>\n",
       "      <td>ARCHIVE</td>\n",
       "      <td>NovaSAR-1</td>\n",
       "      <td>6m-Stripmap</td>\n",
       "      <td>F3</td>\n",
       "      <td>SAR</td>\n",
       "      <td>6.0</td>\n",
       "      <td>POLYGON((1.930699 51.298686,1.658025 51.350401...</td>\n",
       "      <td>2020-10-25T23:18:29Z</td>\n",
       "      <td>...</td>\n",
       "      <td>5.129263e+08</td>\n",
       "      <td>0.0</td>\n",
       "      <td>100.0</td>\n",
       "      <td>HH</td>\n",
       "      <td>SLC</td>\n",
       "      <td>Standard</td>\n",
       "      <td>https://geobrowsertest.satapps.org/archiveql/a...</td>\n",
       "      <td>https://sedasdmtest.satapps.org/qls/qlmgr.php?...</td>\n",
       "      <td>{'property': 'vendorSpecific', 'Filehash': 'e5...</td>\n",
       "      <td>https://sedasdmtest.satapps.org/datamgr/datamg...</td>\n",
       "    </tr>\n",
       "    <tr>\n",
       "      <th>2</th>\n",
       "      <td>dc6039d27c8168a4d8728f80f021ed0e</td>\n",
       "      <td>NovaSAR_01_16343_scd_201025_100728_HH</td>\n",
       "      <td>ARCHIVE</td>\n",
       "      <td>NovaSAR-1</td>\n",
       "      <td>20m-ScanSAR</td>\n",
       "      <td>I1-4</td>\n",
       "      <td>SAR</td>\n",
       "      <td>20.0</td>\n",
       "      <td>POLYGON((-7.327612 51.945704,-6.642753 52.0838...</td>\n",
       "      <td>2020-10-25T10:07:29Z</td>\n",
       "      <td>...</td>\n",
       "      <td>2.452427e+09</td>\n",
       "      <td>0.0</td>\n",
       "      <td>100.0</td>\n",
       "      <td>HH</td>\n",
       "      <td>SCD</td>\n",
       "      <td>Standard</td>\n",
       "      <td>https://geobrowsertest.satapps.org/archiveql/a...</td>\n",
       "      <td>https://sedasdmtest.satapps.org/qls/qlmgr.php?...</td>\n",
       "      <td>{'property': 'vendorSpecific', 'Filehash': '07...</td>\n",
       "      <td>https://sedasdmtest.satapps.org/datamgr/datamg...</td>\n",
       "    </tr>\n",
       "    <tr>\n",
       "      <th>3</th>\n",
       "      <td>c79a5b656156b88cd5edab70676f27d0</td>\n",
       "      <td>NovaSAR_01_16328_grd_201024_231245_HH</td>\n",
       "      <td>ARCHIVE</td>\n",
       "      <td>NovaSAR-1</td>\n",
       "      <td>6m-Stripmap</td>\n",
       "      <td>F1</td>\n",
       "      <td>SAR</td>\n",
       "      <td>6.0</td>\n",
       "      <td>POLYGON((-1.882012 51.888391,-1.601727 51.8484...</td>\n",
       "      <td>2020-10-24T23:12:46Z</td>\n",
       "      <td>...</td>\n",
       "      <td>4.893804e+08</td>\n",
       "      <td>0.0</td>\n",
       "      <td>100.0</td>\n",
       "      <td>HH</td>\n",
       "      <td>GRD</td>\n",
       "      <td>Standard</td>\n",
       "      <td>https://geobrowsertest.satapps.org/archiveql/a...</td>\n",
       "      <td>https://sedasdmtest.satapps.org/qls/qlmgr.php?...</td>\n",
       "      <td>{'property': 'vendorSpecific', 'Filehash': '3b...</td>\n",
       "      <td>https://sedasdmtest.satapps.org/datamgr/datamg...</td>\n",
       "    </tr>\n",
       "    <tr>\n",
       "      <th>4</th>\n",
       "      <td>5bd6293c2ffd4a63cf9b0373db3d636c</td>\n",
       "      <td>NovaSAR_01_16328_slc_201024_231245_HH</td>\n",
       "      <td>ARCHIVE</td>\n",
       "      <td>NovaSAR-1</td>\n",
       "      <td>6m-Stripmap</td>\n",
       "      <td>F1</td>\n",
       "      <td>SAR</td>\n",
       "      <td>6.0</td>\n",
       "      <td>POLYGON((-1.881807 51.889758,-1.601037 51.8497...</td>\n",
       "      <td>2020-10-24T23:12:46Z</td>\n",
       "      <td>...</td>\n",
       "      <td>5.644068e+08</td>\n",
       "      <td>0.0</td>\n",
       "      <td>100.0</td>\n",
       "      <td>HH</td>\n",
       "      <td>SLC</td>\n",
       "      <td>Standard</td>\n",
       "      <td>https://geobrowsertest.satapps.org/archiveql/a...</td>\n",
       "      <td>https://sedasdmtest.satapps.org/qls/qlmgr.php?...</td>\n",
       "      <td>{'property': 'vendorSpecific', 'Filehash': 'a8...</td>\n",
       "      <td>https://sedasdmtest.satapps.org/datamgr/datamg...</td>\n",
       "    </tr>\n",
       "    <tr>\n",
       "      <th>...</th>\n",
       "      <td>...</td>\n",
       "      <td>...</td>\n",
       "      <td>...</td>\n",
       "      <td>...</td>\n",
       "      <td>...</td>\n",
       "      <td>...</td>\n",
       "      <td>...</td>\n",
       "      <td>...</td>\n",
       "      <td>...</td>\n",
       "      <td>...</td>\n",
       "      <td>...</td>\n",
       "      <td>...</td>\n",
       "      <td>...</td>\n",
       "      <td>...</td>\n",
       "      <td>...</td>\n",
       "      <td>...</td>\n",
       "      <td>...</td>\n",
       "      <td>...</td>\n",
       "      <td>...</td>\n",
       "      <td>...</td>\n",
       "      <td>...</td>\n",
       "    </tr>\n",
       "    <tr>\n",
       "      <th>396</th>\n",
       "      <td>1f5f48e9cc14133e1c2149757f4d7ae3</td>\n",
       "      <td>NovaSAR_01_8868_scd_191220_235108_HH</td>\n",
       "      <td>ARCHIVE</td>\n",
       "      <td>NovaSAR-1</td>\n",
       "      <td>20m-ScanSAR</td>\n",
       "      <td>H1-5</td>\n",
       "      <td>SAR</td>\n",
       "      <td>20.0</td>\n",
       "      <td>POLYGON((-2.226299 59.422195,-3.059788 59.5821...</td>\n",
       "      <td>2019-12-20T23:51:09Z</td>\n",
       "      <td>...</td>\n",
       "      <td>1.005670e+10</td>\n",
       "      <td>1.0</td>\n",
       "      <td>100.0</td>\n",
       "      <td>HH</td>\n",
       "      <td>SCD</td>\n",
       "      <td>Standard</td>\n",
       "      <td>https://geobrowsertest.satapps.org/archiveql/a...</td>\n",
       "      <td>https://sedasdmtest.satapps.org/qls/qlmgr.php?...</td>\n",
       "      <td>{'property': 'vendorSpecific', 'Filehash': '3a...</td>\n",
       "      <td>https://sedasdmtest.satapps.org/datamgr/datamg...</td>\n",
       "    </tr>\n",
       "    <tr>\n",
       "      <th>397</th>\n",
       "      <td>0840e7f1c9e9377547019a739aa430b8</td>\n",
       "      <td>NovaSAR_01_8846_scd_191219_103615_HH</td>\n",
       "      <td>ARCHIVE</td>\n",
       "      <td>NovaSAR-1</td>\n",
       "      <td>20m-ScanSAR</td>\n",
       "      <td>H1-5</td>\n",
       "      <td>SAR</td>\n",
       "      <td>20.0</td>\n",
       "      <td>POLYGON((-7.511056 51.589988,-8.902553 51.3958...</td>\n",
       "      <td>2019-12-19T10:36:16Z</td>\n",
       "      <td>...</td>\n",
       "      <td>9.847858e+09</td>\n",
       "      <td>1.0</td>\n",
       "      <td>100.0</td>\n",
       "      <td>HH</td>\n",
       "      <td>SCD</td>\n",
       "      <td>Standard</td>\n",
       "      <td>https://geobrowsertest.satapps.org/archiveql/a...</td>\n",
       "      <td>https://sedasdmtest.satapps.org/qls/qlmgr.php?...</td>\n",
       "      <td>{'property': 'vendorSpecific', 'Filehash': '62...</td>\n",
       "      <td>https://sedasdmtest.satapps.org/datamgr/datamg...</td>\n",
       "    </tr>\n",
       "    <tr>\n",
       "      <th>398</th>\n",
       "      <td>b54c5e99d709067f574d7c43dcdcabe0</td>\n",
       "      <td>NovaSAR_01_8727_scd_22_191212_095704_VV_HH_HV_4</td>\n",
       "      <td>ARCHIVE</td>\n",
       "      <td>NovaSAR-1</td>\n",
       "      <td>30m-3Pol-ScanSAR</td>\n",
       "      <td>MidA</td>\n",
       "      <td>SAR</td>\n",
       "      <td>30.0</td>\n",
       "      <td>POLYGON((-6.741796 54.971063,-6.010241 55.1133...</td>\n",
       "      <td>2019-12-12T09:57:05Z</td>\n",
       "      <td>...</td>\n",
       "      <td>1.676575e+09</td>\n",
       "      <td>0.0</td>\n",
       "      <td>100.0</td>\n",
       "      <td>VV/HH/HV</td>\n",
       "      <td>SCD</td>\n",
       "      <td>Standard</td>\n",
       "      <td>https://geobrowsertest.satapps.org/archiveql/a...</td>\n",
       "      <td>https://sedasdmtest.satapps.org/qls/qlmgr.php?...</td>\n",
       "      <td>{'property': 'vendorSpecific', 'Filehash': 'c1...</td>\n",
       "      <td>https://sedasdmtest.satapps.org/datamgr/datamg...</td>\n",
       "    </tr>\n",
       "    <tr>\n",
       "      <th>399</th>\n",
       "      <td>c37b950cef38aeedd5049ed49b1126c5</td>\n",
       "      <td>NovaSAR_01_8727_scd_22_191212_095657_VV_HH_HV_3</td>\n",
       "      <td>ARCHIVE</td>\n",
       "      <td>NovaSAR-1</td>\n",
       "      <td>30m-3Pol-ScanSAR</td>\n",
       "      <td>MidA</td>\n",
       "      <td>SAR</td>\n",
       "      <td>30.0</td>\n",
       "      <td>POLYGON((-6.495051 54.55122,-5.770831 54.69217...</td>\n",
       "      <td>2019-12-12T09:56:58Z</td>\n",
       "      <td>...</td>\n",
       "      <td>2.435120e+09</td>\n",
       "      <td>0.0</td>\n",
       "      <td>100.0</td>\n",
       "      <td>VV/HH/HV</td>\n",
       "      <td>SCD</td>\n",
       "      <td>Standard</td>\n",
       "      <td>https://geobrowsertest.satapps.org/archiveql/a...</td>\n",
       "      <td>https://sedasdmtest.satapps.org/qls/qlmgr.php?...</td>\n",
       "      <td>{'property': 'vendorSpecific', 'Filehash': '57...</td>\n",
       "      <td>https://sedasdmtest.satapps.org/datamgr/datamg...</td>\n",
       "    </tr>\n",
       "    <tr>\n",
       "      <th>400</th>\n",
       "      <td>e78228897f2a7b86fe8e711685934c7c</td>\n",
       "      <td>NovaSAR_01_8727_scd_22_191212_095650_VV_HH_HV_2</td>\n",
       "      <td>ARCHIVE</td>\n",
       "      <td>NovaSAR-1</td>\n",
       "      <td>30m-3Pol-ScanSAR</td>\n",
       "      <td>MidA</td>\n",
       "      <td>SAR</td>\n",
       "      <td>30.0</td>\n",
       "      <td>POLYGON((-6.252954 54.130926,-5.535917 54.2706...</td>\n",
       "      <td>2019-12-12T09:56:51Z</td>\n",
       "      <td>...</td>\n",
       "      <td>2.433515e+09</td>\n",
       "      <td>0.0</td>\n",
       "      <td>100.0</td>\n",
       "      <td>VV/HH/HV</td>\n",
       "      <td>SCD</td>\n",
       "      <td>Standard</td>\n",
       "      <td>https://geobrowsertest.satapps.org/archiveql/a...</td>\n",
       "      <td>https://sedasdmtest.satapps.org/qls/qlmgr.php?...</td>\n",
       "      <td>{'property': 'vendorSpecific', 'Filehash': '5f...</td>\n",
       "      <td>https://sedasdmtest.satapps.org/datamgr/datamg...</td>\n",
       "    </tr>\n",
       "  </tbody>\n",
       "</table>\n",
       "<p>401 rows × 22 columns</p>\n",
       "</div>"
      ],
      "text/plain": [
       "                            productId  \\\n",
       "0    8b3308d59e50811022980dd83595b7ea   \n",
       "1    005751e56c8744048cb3c28f10b5de48   \n",
       "2    dc6039d27c8168a4d8728f80f021ed0e   \n",
       "3    c79a5b656156b88cd5edab70676f27d0   \n",
       "4    5bd6293c2ffd4a63cf9b0373db3d636c   \n",
       "..                                ...   \n",
       "396  1f5f48e9cc14133e1c2149757f4d7ae3   \n",
       "397  0840e7f1c9e9377547019a739aa430b8   \n",
       "398  b54c5e99d709067f574d7c43dcdcabe0   \n",
       "399  c37b950cef38aeedd5049ed49b1126c5   \n",
       "400  e78228897f2a7b86fe8e711685934c7c   \n",
       "\n",
       "                                          supplierId     type satelliteName  \\\n",
       "0              NovaSAR_01_16359_grd_201025_231828_HH  ARCHIVE     NovaSAR-1   \n",
       "1              NovaSAR_01_16359_slc_201025_231828_HH  ARCHIVE     NovaSAR-1   \n",
       "2              NovaSAR_01_16343_scd_201025_100728_HH  ARCHIVE     NovaSAR-1   \n",
       "3              NovaSAR_01_16328_grd_201024_231245_HH  ARCHIVE     NovaSAR-1   \n",
       "4              NovaSAR_01_16328_slc_201024_231245_HH  ARCHIVE     NovaSAR-1   \n",
       "..                                               ...      ...           ...   \n",
       "396             NovaSAR_01_8868_scd_191220_235108_HH  ARCHIVE     NovaSAR-1   \n",
       "397             NovaSAR_01_8846_scd_191219_103615_HH  ARCHIVE     NovaSAR-1   \n",
       "398  NovaSAR_01_8727_scd_22_191212_095704_VV_HH_HV_4  ARCHIVE     NovaSAR-1   \n",
       "399  NovaSAR_01_8727_scd_22_191212_095657_VV_HH_HV_3  ARCHIVE     NovaSAR-1   \n",
       "400  NovaSAR_01_8727_scd_22_191212_095650_VV_HH_HV_2  ARCHIVE     NovaSAR-1   \n",
       "\n",
       "       instrumentName modeName sensorType  sensorResolution  \\\n",
       "0         6m-Stripmap       F3        SAR               6.0   \n",
       "1         6m-Stripmap       F3        SAR               6.0   \n",
       "2         20m-ScanSAR     I1-4        SAR              20.0   \n",
       "3         6m-Stripmap       F1        SAR               6.0   \n",
       "4         6m-Stripmap       F1        SAR               6.0   \n",
       "..                ...      ...        ...               ...   \n",
       "396       20m-ScanSAR     H1-5        SAR              20.0   \n",
       "397       20m-ScanSAR     H1-5        SAR              20.0   \n",
       "398  30m-3Pol-ScanSAR     MidA        SAR              30.0   \n",
       "399  30m-3Pol-ScanSAR     MidA        SAR              30.0   \n",
       "400  30m-3Pol-ScanSAR     MidA        SAR              30.0   \n",
       "\n",
       "                                        coordinatesWKT                 start  \\\n",
       "0    POLYGON((1.929749 51.297417,1.65757 51.349038,...  2020-10-25T23:18:29Z   \n",
       "1    POLYGON((1.930699 51.298686,1.658025 51.350401...  2020-10-25T23:18:29Z   \n",
       "2    POLYGON((-7.327612 51.945704,-6.642753 52.0838...  2020-10-25T10:07:29Z   \n",
       "3    POLYGON((-1.882012 51.888391,-1.601727 51.8484...  2020-10-24T23:12:46Z   \n",
       "4    POLYGON((-1.881807 51.889758,-1.601037 51.8497...  2020-10-24T23:12:46Z   \n",
       "..                                                 ...                   ...   \n",
       "396  POLYGON((-2.226299 59.422195,-3.059788 59.5821...  2019-12-20T23:51:09Z   \n",
       "397  POLYGON((-7.511056 51.589988,-8.902553 51.3958...  2019-12-19T10:36:16Z   \n",
       "398  POLYGON((-6.741796 54.971063,-6.010241 55.1133...  2019-12-12T09:57:05Z   \n",
       "399  POLYGON((-6.495051 54.55122,-5.770831 54.69217...  2019-12-12T09:56:58Z   \n",
       "400  POLYGON((-6.252954 54.130926,-5.535917 54.2706...  2019-12-12T09:56:51Z   \n",
       "\n",
       "     ...          area aoiCoveragePercent  usefulAreaPercent  polarisation  \\\n",
       "0    ...  1.240146e+09                0.0              100.0            HH   \n",
       "1    ...  5.129263e+08                0.0              100.0            HH   \n",
       "2    ...  2.452427e+09                0.0              100.0            HH   \n",
       "3    ...  4.893804e+08                0.0              100.0            HH   \n",
       "4    ...  5.644068e+08                0.0              100.0            HH   \n",
       "..   ...           ...                ...                ...           ...   \n",
       "396  ...  1.005670e+10                1.0              100.0            HH   \n",
       "397  ...  9.847858e+09                1.0              100.0            HH   \n",
       "398  ...  1.676575e+09                0.0              100.0      VV/HH/HV   \n",
       "399  ...  2.435120e+09                0.0              100.0      VV/HH/HV   \n",
       "400  ...  2.433515e+09                0.0              100.0      VV/HH/HV   \n",
       "\n",
       "     productType   latency                                                 ql  \\\n",
       "0            GRD  Standard  https://geobrowsertest.satapps.org/archiveql/a...   \n",
       "1            SLC  Standard  https://geobrowsertest.satapps.org/archiveql/a...   \n",
       "2            SCD  Standard  https://geobrowsertest.satapps.org/archiveql/a...   \n",
       "3            GRD  Standard  https://geobrowsertest.satapps.org/archiveql/a...   \n",
       "4            SLC  Standard  https://geobrowsertest.satapps.org/archiveql/a...   \n",
       "..           ...       ...                                                ...   \n",
       "396          SCD  Standard  https://geobrowsertest.satapps.org/archiveql/a...   \n",
       "397          SCD  Standard  https://geobrowsertest.satapps.org/archiveql/a...   \n",
       "398          SCD  Standard  https://geobrowsertest.satapps.org/archiveql/a...   \n",
       "399          SCD  Standard  https://geobrowsertest.satapps.org/archiveql/a...   \n",
       "400          SCD  Standard  https://geobrowsertest.satapps.org/archiveql/a...   \n",
       "\n",
       "                                             thumbnail  \\\n",
       "0    https://sedasdmtest.satapps.org/qls/qlmgr.php?...   \n",
       "1    https://sedasdmtest.satapps.org/qls/qlmgr.php?...   \n",
       "2    https://sedasdmtest.satapps.org/qls/qlmgr.php?...   \n",
       "3    https://sedasdmtest.satapps.org/qls/qlmgr.php?...   \n",
       "4    https://sedasdmtest.satapps.org/qls/qlmgr.php?...   \n",
       "..                                                 ...   \n",
       "396  https://sedasdmtest.satapps.org/qls/qlmgr.php?...   \n",
       "397  https://sedasdmtest.satapps.org/qls/qlmgr.php?...   \n",
       "398  https://sedasdmtest.satapps.org/qls/qlmgr.php?...   \n",
       "399  https://sedasdmtest.satapps.org/qls/qlmgr.php?...   \n",
       "400  https://sedasdmtest.satapps.org/qls/qlmgr.php?...   \n",
       "\n",
       "                                        vendorSpecific  \\\n",
       "0    {'property': 'vendorSpecific', 'Filehash': '6d...   \n",
       "1    {'property': 'vendorSpecific', 'Filehash': 'e5...   \n",
       "2    {'property': 'vendorSpecific', 'Filehash': '07...   \n",
       "3    {'property': 'vendorSpecific', 'Filehash': '3b...   \n",
       "4    {'property': 'vendorSpecific', 'Filehash': 'a8...   \n",
       "..                                                 ...   \n",
       "396  {'property': 'vendorSpecific', 'Filehash': '3a...   \n",
       "397  {'property': 'vendorSpecific', 'Filehash': '62...   \n",
       "398  {'property': 'vendorSpecific', 'Filehash': 'c1...   \n",
       "399  {'property': 'vendorSpecific', 'Filehash': '57...   \n",
       "400  {'property': 'vendorSpecific', 'Filehash': '5f...   \n",
       "\n",
       "                                           downloadUrl  \n",
       "0    https://sedasdmtest.satapps.org/datamgr/datamg...  \n",
       "1    https://sedasdmtest.satapps.org/datamgr/datamg...  \n",
       "2    https://sedasdmtest.satapps.org/datamgr/datamg...  \n",
       "3    https://sedasdmtest.satapps.org/datamgr/datamg...  \n",
       "4    https://sedasdmtest.satapps.org/datamgr/datamg...  \n",
       "..                                                 ...  \n",
       "396  https://sedasdmtest.satapps.org/datamgr/datamg...  \n",
       "397  https://sedasdmtest.satapps.org/datamgr/datamg...  \n",
       "398  https://sedasdmtest.satapps.org/datamgr/datamg...  \n",
       "399  https://sedasdmtest.satapps.org/datamgr/datamg...  \n",
       "400  https://sedasdmtest.satapps.org/datamgr/datamg...  \n",
       "\n",
       "[401 rows x 22 columns]"
      ]
     },
     "execution_count": null,
     "metadata": {},
     "output_type": "execute_result"
    }
   ],
   "source": [
    "result = sedas_find_datasets(\"POLYGON((-13.670367818336414 62.73764682827376,3.0947689004135848 62.73764682827376,3.0947689004135848 49.333035369023754,-13.670367818336414 49.333035369023754,-13.670367818336414 62.73764682827376))\", \n",
    "                             \"2000-01-01T00:00:00Z\", \n",
    "                             \"2020-10-27T00:00:00Z\",\n",
    "                             \"NovaSAR\"\n",
    "                            )\n",
    "pd.DataFrame(result['products'])\n"
   ]
  },
  {
   "cell_type": "code",
   "execution_count": null,
   "metadata": {},
   "outputs": [
    {
     "data": {
      "text/html": [
       "<div>\n",
       "<style scoped>\n",
       "    .dataframe tbody tr th:only-of-type {\n",
       "        vertical-align: middle;\n",
       "    }\n",
       "\n",
       "    .dataframe tbody tr th {\n",
       "        vertical-align: top;\n",
       "    }\n",
       "\n",
       "    .dataframe thead th {\n",
       "        text-align: right;\n",
       "    }\n",
       "</style>\n",
       "<table border=\"1\" class=\"dataframe\">\n",
       "  <thead>\n",
       "    <tr style=\"text-align: right;\">\n",
       "      <th></th>\n",
       "      <th>productId</th>\n",
       "      <th>supplierId</th>\n",
       "      <th>type</th>\n",
       "      <th>satelliteName</th>\n",
       "      <th>instrumentName</th>\n",
       "      <th>modeName</th>\n",
       "      <th>sensorType</th>\n",
       "      <th>sensorResolution</th>\n",
       "      <th>coordinatesWKT</th>\n",
       "      <th>start</th>\n",
       "      <th>...</th>\n",
       "      <th>area</th>\n",
       "      <th>aoiCoveragePercent</th>\n",
       "      <th>usefulAreaPercent</th>\n",
       "      <th>polarisation</th>\n",
       "      <th>productType</th>\n",
       "      <th>latency</th>\n",
       "      <th>ql</th>\n",
       "      <th>thumbnail</th>\n",
       "      <th>vendorSpecific</th>\n",
       "      <th>downloadUrl</th>\n",
       "    </tr>\n",
       "  </thead>\n",
       "  <tbody>\n",
       "    <tr>\n",
       "      <th>1</th>\n",
       "      <td>005751e56c8744048cb3c28f10b5de48</td>\n",
       "      <td>NovaSAR_01_16359_slc_201025_231828_HH</td>\n",
       "      <td>ARCHIVE</td>\n",
       "      <td>NovaSAR-1</td>\n",
       "      <td>6m-Stripmap</td>\n",
       "      <td>F3</td>\n",
       "      <td>SAR</td>\n",
       "      <td>6.0</td>\n",
       "      <td>POLYGON((1.930699 51.298686,1.658025 51.350401...</td>\n",
       "      <td>2020-10-25T23:18:29Z</td>\n",
       "      <td>...</td>\n",
       "      <td>5.129263e+08</td>\n",
       "      <td>0.0</td>\n",
       "      <td>100.0</td>\n",
       "      <td>HH</td>\n",
       "      <td>SLC</td>\n",
       "      <td>Standard</td>\n",
       "      <td>https://geobrowsertest.satapps.org/archiveql/a...</td>\n",
       "      <td>https://sedasdmtest.satapps.org/qls/qlmgr.php?...</td>\n",
       "      <td>{'property': 'vendorSpecific', 'Filehash': 'e5...</td>\n",
       "      <td>https://sedasdmtest.satapps.org/datamgr/datamg...</td>\n",
       "    </tr>\n",
       "    <tr>\n",
       "      <th>4</th>\n",
       "      <td>5bd6293c2ffd4a63cf9b0373db3d636c</td>\n",
       "      <td>NovaSAR_01_16328_slc_201024_231245_HH</td>\n",
       "      <td>ARCHIVE</td>\n",
       "      <td>NovaSAR-1</td>\n",
       "      <td>6m-Stripmap</td>\n",
       "      <td>F1</td>\n",
       "      <td>SAR</td>\n",
       "      <td>6.0</td>\n",
       "      <td>POLYGON((-1.881807 51.889758,-1.601037 51.8497...</td>\n",
       "      <td>2020-10-24T23:12:46Z</td>\n",
       "      <td>...</td>\n",
       "      <td>5.644068e+08</td>\n",
       "      <td>0.0</td>\n",
       "      <td>100.0</td>\n",
       "      <td>HH</td>\n",
       "      <td>SLC</td>\n",
       "      <td>Standard</td>\n",
       "      <td>https://geobrowsertest.satapps.org/archiveql/a...</td>\n",
       "      <td>https://sedasdmtest.satapps.org/qls/qlmgr.php?...</td>\n",
       "      <td>{'property': 'vendorSpecific', 'Filehash': 'a8...</td>\n",
       "      <td>https://sedasdmtest.satapps.org/datamgr/datamg...</td>\n",
       "    </tr>\n",
       "    <tr>\n",
       "      <th>7</th>\n",
       "      <td>d19710357d9fcbc949600286100de7b4</td>\n",
       "      <td>NovaSAR_01_16231_slc_201021_225532_HH</td>\n",
       "      <td>ARCHIVE</td>\n",
       "      <td>NovaSAR-1</td>\n",
       "      <td>6m-Stripmap</td>\n",
       "      <td>F7</td>\n",
       "      <td>SAR</td>\n",
       "      <td>6.0</td>\n",
       "      <td>POLYGON((1.418476 51.529169,1.698445 51.491299...</td>\n",
       "      <td>2020-10-21T22:55:33Z</td>\n",
       "      <td>...</td>\n",
       "      <td>6.123630e+08</td>\n",
       "      <td>0.0</td>\n",
       "      <td>100.0</td>\n",
       "      <td>HH</td>\n",
       "      <td>SLC</td>\n",
       "      <td>Standard</td>\n",
       "      <td>https://geobrowsertest.satapps.org/archiveql/a...</td>\n",
       "      <td>https://sedasdmtest.satapps.org/qls/qlmgr.php?...</td>\n",
       "      <td>{'property': 'vendorSpecific', 'Filehash': 'a2...</td>\n",
       "      <td>https://sedasdmtest.satapps.org/datamgr/datamg...</td>\n",
       "    </tr>\n",
       "    <tr>\n",
       "      <th>9</th>\n",
       "      <td>1532628f93676e3de8fe19b8139cafa1</td>\n",
       "      <td>NovaSAR_01_15861_slc_201009_232225_VV</td>\n",
       "      <td>ARCHIVE</td>\n",
       "      <td>NovaSAR-1</td>\n",
       "      <td>6m-Stripmap</td>\n",
       "      <td>F2</td>\n",
       "      <td>SAR</td>\n",
       "      <td>6.0</td>\n",
       "      <td>POLYGON((-4.623971 51.59883,-4.344839 51.55943...</td>\n",
       "      <td>2020-10-09T23:22:25Z</td>\n",
       "      <td>...</td>\n",
       "      <td>4.952167e+08</td>\n",
       "      <td>0.0</td>\n",
       "      <td>100.0</td>\n",
       "      <td>VV</td>\n",
       "      <td>SLC</td>\n",
       "      <td>Standard</td>\n",
       "      <td>https://geobrowsertest.satapps.org/archiveql/a...</td>\n",
       "      <td>https://sedasdmtest.satapps.org/qls/qlmgr.php?...</td>\n",
       "      <td>{'property': 'vendorSpecific', 'Filehash': 'd4...</td>\n",
       "      <td>https://sedasdmtest.satapps.org/datamgr/datamg...</td>\n",
       "    </tr>\n",
       "    <tr>\n",
       "      <th>11</th>\n",
       "      <td>7089c949264262d25b5a8e8881465cb6</td>\n",
       "      <td>NovaSAR_01_15785_slc_201007_095918_HH</td>\n",
       "      <td>ARCHIVE</td>\n",
       "      <td>NovaSAR-1</td>\n",
       "      <td>6m-Stripmap</td>\n",
       "      <td>G7</td>\n",
       "      <td>SAR</td>\n",
       "      <td>6.0</td>\n",
       "      <td>POLYGON((-4.535956 50.656215,-4.335914 50.6967...</td>\n",
       "      <td>2020-10-07T09:59:19Z</td>\n",
       "      <td>...</td>\n",
       "      <td>4.038991e+08</td>\n",
       "      <td>0.0</td>\n",
       "      <td>100.0</td>\n",
       "      <td>HH</td>\n",
       "      <td>SLC</td>\n",
       "      <td>Standard</td>\n",
       "      <td>https://geobrowsertest.satapps.org/archiveql/a...</td>\n",
       "      <td>https://sedasdmtest.satapps.org/qls/qlmgr.php?...</td>\n",
       "      <td>{'property': 'vendorSpecific', 'Filehash': 'fe...</td>\n",
       "      <td>https://sedasdmtest.satapps.org/datamgr/datamg...</td>\n",
       "    </tr>\n",
       "    <tr>\n",
       "      <th>...</th>\n",
       "      <td>...</td>\n",
       "      <td>...</td>\n",
       "      <td>...</td>\n",
       "      <td>...</td>\n",
       "      <td>...</td>\n",
       "      <td>...</td>\n",
       "      <td>...</td>\n",
       "      <td>...</td>\n",
       "      <td>...</td>\n",
       "      <td>...</td>\n",
       "      <td>...</td>\n",
       "      <td>...</td>\n",
       "      <td>...</td>\n",
       "      <td>...</td>\n",
       "      <td>...</td>\n",
       "      <td>...</td>\n",
       "      <td>...</td>\n",
       "      <td>...</td>\n",
       "      <td>...</td>\n",
       "      <td>...</td>\n",
       "      <td>...</td>\n",
       "    </tr>\n",
       "    <tr>\n",
       "      <th>350</th>\n",
       "      <td>92826e5e4297ceb2544b793704f44dc3</td>\n",
       "      <td>NovaSAR_01_11109_slc_200410_232727_HH</td>\n",
       "      <td>ARCHIVE</td>\n",
       "      <td>NovaSAR-1</td>\n",
       "      <td>6m-Stripmap</td>\n",
       "      <td>F9</td>\n",
       "      <td>SAR</td>\n",
       "      <td>6.0</td>\n",
       "      <td>POLYGON((0.127337 51.623769,-0.146315 51.67790...</td>\n",
       "      <td>2020-04-10T23:27:28Z</td>\n",
       "      <td>...</td>\n",
       "      <td>6.531617e+08</td>\n",
       "      <td>0.0</td>\n",
       "      <td>100.0</td>\n",
       "      <td>HH</td>\n",
       "      <td>SLC</td>\n",
       "      <td>Standard</td>\n",
       "      <td>https://geobrowsertest.satapps.org/archiveql/a...</td>\n",
       "      <td>https://sedasdmtest.satapps.org/qls/qlmgr.php?...</td>\n",
       "      <td>{'property': 'vendorSpecific', 'Filehash': '37...</td>\n",
       "      <td>https://sedasdmtest.satapps.org/datamgr/datamg...</td>\n",
       "    </tr>\n",
       "    <tr>\n",
       "      <th>365</th>\n",
       "      <td>8914808c20aeedd69a2570dd174da9e9</td>\n",
       "      <td>NovaSAR_01_10387_slc_200307_101114_HH</td>\n",
       "      <td>ARCHIVE</td>\n",
       "      <td>NovaSAR-1</td>\n",
       "      <td>6m-Stripmap</td>\n",
       "      <td>G1</td>\n",
       "      <td>SAR</td>\n",
       "      <td>6.0</td>\n",
       "      <td>POLYGON((-0.706368 50.36297,-0.977687 50.32551...</td>\n",
       "      <td>2020-03-07T10:11:15Z</td>\n",
       "      <td>...</td>\n",
       "      <td>5.934961e+08</td>\n",
       "      <td>0.0</td>\n",
       "      <td>100.0</td>\n",
       "      <td>HH</td>\n",
       "      <td>SLC</td>\n",
       "      <td>Standard</td>\n",
       "      <td>https://geobrowsertest.satapps.org/archiveql/a...</td>\n",
       "      <td>https://sedasdmtest.satapps.org/qls/qlmgr.php?...</td>\n",
       "      <td>{'property': 'vendorSpecific', 'Filehash': '16...</td>\n",
       "      <td>https://sedasdmtest.satapps.org/datamgr/datamg...</td>\n",
       "    </tr>\n",
       "    <tr>\n",
       "      <th>373</th>\n",
       "      <td>1c75ecc9c8d90894ca62281b06948a3a</td>\n",
       "      <td>NovaSAR_01_10135_slc_200215_094557_HH</td>\n",
       "      <td>ARCHIVE</td>\n",
       "      <td>NovaSAR-1</td>\n",
       "      <td>6m-Stripmap</td>\n",
       "      <td>F5</td>\n",
       "      <td>SAR</td>\n",
       "      <td>6.0</td>\n",
       "      <td>POLYGON((-0.933414 50.397584,-0.667054 50.4491...</td>\n",
       "      <td>2020-02-15T09:45:57Z</td>\n",
       "      <td>...</td>\n",
       "      <td>5.611157e+08</td>\n",
       "      <td>0.0</td>\n",
       "      <td>100.0</td>\n",
       "      <td>HH</td>\n",
       "      <td>SLC</td>\n",
       "      <td>Standard</td>\n",
       "      <td>https://geobrowsertest.satapps.org/archiveql/a...</td>\n",
       "      <td>https://sedasdmtest.satapps.org/qls/qlmgr.php?...</td>\n",
       "      <td>{'property': 'vendorSpecific', 'Filehash': '4f...</td>\n",
       "      <td>https://sedasdmtest.satapps.org/datamgr/datamg...</td>\n",
       "    </tr>\n",
       "    <tr>\n",
       "      <th>382</th>\n",
       "      <td>7d7e03c57d7739baaccfc4770544f18a</td>\n",
       "      <td>NovaSAR_01_9669_slc_200130_095029_HH</td>\n",
       "      <td>ARCHIVE</td>\n",
       "      <td>NovaSAR-1</td>\n",
       "      <td>6m-Stripmap</td>\n",
       "      <td>G7</td>\n",
       "      <td>SAR</td>\n",
       "      <td>6.0</td>\n",
       "      <td>POLYGON((-4.623299 53.646621,-4.41069 53.68954...</td>\n",
       "      <td>2020-01-30T09:50:30Z</td>\n",
       "      <td>...</td>\n",
       "      <td>4.038746e+08</td>\n",
       "      <td>0.0</td>\n",
       "      <td>100.0</td>\n",
       "      <td>HH</td>\n",
       "      <td>SLC</td>\n",
       "      <td>Standard</td>\n",
       "      <td>https://geobrowsertest.satapps.org/archiveql/a...</td>\n",
       "      <td>https://sedasdmtest.satapps.org/qls/qlmgr.php?...</td>\n",
       "      <td>{'property': 'vendorSpecific', 'Filehash': 'e7...</td>\n",
       "      <td>https://sedasdmtest.satapps.org/datamgr/datamg...</td>\n",
       "    </tr>\n",
       "    <tr>\n",
       "      <th>385</th>\n",
       "      <td>627d45de2bb402ce2e120d410502ab09</td>\n",
       "      <td>NovaSAR_01_9629_slc_200129_094345_HH</td>\n",
       "      <td>ARCHIVE</td>\n",
       "      <td>NovaSAR-1</td>\n",
       "      <td>6m-Stripmap</td>\n",
       "      <td>F9</td>\n",
       "      <td>SAR</td>\n",
       "      <td>6.0</td>\n",
       "      <td>POLYGON((-0.960816 50.265038,-0.695456 50.3177...</td>\n",
       "      <td>2020-01-29T09:43:46Z</td>\n",
       "      <td>...</td>\n",
       "      <td>6.516824e+08</td>\n",
       "      <td>0.0</td>\n",
       "      <td>100.0</td>\n",
       "      <td>HH</td>\n",
       "      <td>SLC</td>\n",
       "      <td>Standard</td>\n",
       "      <td>https://geobrowsertest.satapps.org/archiveql/a...</td>\n",
       "      <td>https://sedasdmtest.satapps.org/qls/qlmgr.php?...</td>\n",
       "      <td>{'property': 'vendorSpecific', 'Filehash': 'ff...</td>\n",
       "      <td>https://sedasdmtest.satapps.org/datamgr/datamg...</td>\n",
       "    </tr>\n",
       "  </tbody>\n",
       "</table>\n",
       "<p>70 rows × 22 columns</p>\n",
       "</div>"
      ],
      "text/plain": [
       "                            productId                             supplierId  \\\n",
       "1    005751e56c8744048cb3c28f10b5de48  NovaSAR_01_16359_slc_201025_231828_HH   \n",
       "4    5bd6293c2ffd4a63cf9b0373db3d636c  NovaSAR_01_16328_slc_201024_231245_HH   \n",
       "7    d19710357d9fcbc949600286100de7b4  NovaSAR_01_16231_slc_201021_225532_HH   \n",
       "9    1532628f93676e3de8fe19b8139cafa1  NovaSAR_01_15861_slc_201009_232225_VV   \n",
       "11   7089c949264262d25b5a8e8881465cb6  NovaSAR_01_15785_slc_201007_095918_HH   \n",
       "..                                ...                                    ...   \n",
       "350  92826e5e4297ceb2544b793704f44dc3  NovaSAR_01_11109_slc_200410_232727_HH   \n",
       "365  8914808c20aeedd69a2570dd174da9e9  NovaSAR_01_10387_slc_200307_101114_HH   \n",
       "373  1c75ecc9c8d90894ca62281b06948a3a  NovaSAR_01_10135_slc_200215_094557_HH   \n",
       "382  7d7e03c57d7739baaccfc4770544f18a   NovaSAR_01_9669_slc_200130_095029_HH   \n",
       "385  627d45de2bb402ce2e120d410502ab09   NovaSAR_01_9629_slc_200129_094345_HH   \n",
       "\n",
       "        type satelliteName instrumentName modeName sensorType  \\\n",
       "1    ARCHIVE     NovaSAR-1    6m-Stripmap       F3        SAR   \n",
       "4    ARCHIVE     NovaSAR-1    6m-Stripmap       F1        SAR   \n",
       "7    ARCHIVE     NovaSAR-1    6m-Stripmap       F7        SAR   \n",
       "9    ARCHIVE     NovaSAR-1    6m-Stripmap       F2        SAR   \n",
       "11   ARCHIVE     NovaSAR-1    6m-Stripmap       G7        SAR   \n",
       "..       ...           ...            ...      ...        ...   \n",
       "350  ARCHIVE     NovaSAR-1    6m-Stripmap       F9        SAR   \n",
       "365  ARCHIVE     NovaSAR-1    6m-Stripmap       G1        SAR   \n",
       "373  ARCHIVE     NovaSAR-1    6m-Stripmap       F5        SAR   \n",
       "382  ARCHIVE     NovaSAR-1    6m-Stripmap       G7        SAR   \n",
       "385  ARCHIVE     NovaSAR-1    6m-Stripmap       F9        SAR   \n",
       "\n",
       "     sensorResolution                                     coordinatesWKT  \\\n",
       "1                 6.0  POLYGON((1.930699 51.298686,1.658025 51.350401...   \n",
       "4                 6.0  POLYGON((-1.881807 51.889758,-1.601037 51.8497...   \n",
       "7                 6.0  POLYGON((1.418476 51.529169,1.698445 51.491299...   \n",
       "9                 6.0  POLYGON((-4.623971 51.59883,-4.344839 51.55943...   \n",
       "11                6.0  POLYGON((-4.535956 50.656215,-4.335914 50.6967...   \n",
       "..                ...                                                ...   \n",
       "350               6.0  POLYGON((0.127337 51.623769,-0.146315 51.67790...   \n",
       "365               6.0  POLYGON((-0.706368 50.36297,-0.977687 50.32551...   \n",
       "373               6.0  POLYGON((-0.933414 50.397584,-0.667054 50.4491...   \n",
       "382               6.0  POLYGON((-4.623299 53.646621,-4.41069 53.68954...   \n",
       "385               6.0  POLYGON((-0.960816 50.265038,-0.695456 50.3177...   \n",
       "\n",
       "                    start  ...          area aoiCoveragePercent  \\\n",
       "1    2020-10-25T23:18:29Z  ...  5.129263e+08                0.0   \n",
       "4    2020-10-24T23:12:46Z  ...  5.644068e+08                0.0   \n",
       "7    2020-10-21T22:55:33Z  ...  6.123630e+08                0.0   \n",
       "9    2020-10-09T23:22:25Z  ...  4.952167e+08                0.0   \n",
       "11   2020-10-07T09:59:19Z  ...  4.038991e+08                0.0   \n",
       "..                    ...  ...           ...                ...   \n",
       "350  2020-04-10T23:27:28Z  ...  6.531617e+08                0.0   \n",
       "365  2020-03-07T10:11:15Z  ...  5.934961e+08                0.0   \n",
       "373  2020-02-15T09:45:57Z  ...  5.611157e+08                0.0   \n",
       "382  2020-01-30T09:50:30Z  ...  4.038746e+08                0.0   \n",
       "385  2020-01-29T09:43:46Z  ...  6.516824e+08                0.0   \n",
       "\n",
       "     usefulAreaPercent  polarisation  productType   latency  \\\n",
       "1                100.0            HH          SLC  Standard   \n",
       "4                100.0            HH          SLC  Standard   \n",
       "7                100.0            HH          SLC  Standard   \n",
       "9                100.0            VV          SLC  Standard   \n",
       "11               100.0            HH          SLC  Standard   \n",
       "..                 ...           ...          ...       ...   \n",
       "350              100.0            HH          SLC  Standard   \n",
       "365              100.0            HH          SLC  Standard   \n",
       "373              100.0            HH          SLC  Standard   \n",
       "382              100.0            HH          SLC  Standard   \n",
       "385              100.0            HH          SLC  Standard   \n",
       "\n",
       "                                                    ql  \\\n",
       "1    https://geobrowsertest.satapps.org/archiveql/a...   \n",
       "4    https://geobrowsertest.satapps.org/archiveql/a...   \n",
       "7    https://geobrowsertest.satapps.org/archiveql/a...   \n",
       "9    https://geobrowsertest.satapps.org/archiveql/a...   \n",
       "11   https://geobrowsertest.satapps.org/archiveql/a...   \n",
       "..                                                 ...   \n",
       "350  https://geobrowsertest.satapps.org/archiveql/a...   \n",
       "365  https://geobrowsertest.satapps.org/archiveql/a...   \n",
       "373  https://geobrowsertest.satapps.org/archiveql/a...   \n",
       "382  https://geobrowsertest.satapps.org/archiveql/a...   \n",
       "385  https://geobrowsertest.satapps.org/archiveql/a...   \n",
       "\n",
       "                                             thumbnail  \\\n",
       "1    https://sedasdmtest.satapps.org/qls/qlmgr.php?...   \n",
       "4    https://sedasdmtest.satapps.org/qls/qlmgr.php?...   \n",
       "7    https://sedasdmtest.satapps.org/qls/qlmgr.php?...   \n",
       "9    https://sedasdmtest.satapps.org/qls/qlmgr.php?...   \n",
       "11   https://sedasdmtest.satapps.org/qls/qlmgr.php?...   \n",
       "..                                                 ...   \n",
       "350  https://sedasdmtest.satapps.org/qls/qlmgr.php?...   \n",
       "365  https://sedasdmtest.satapps.org/qls/qlmgr.php?...   \n",
       "373  https://sedasdmtest.satapps.org/qls/qlmgr.php?...   \n",
       "382  https://sedasdmtest.satapps.org/qls/qlmgr.php?...   \n",
       "385  https://sedasdmtest.satapps.org/qls/qlmgr.php?...   \n",
       "\n",
       "                                        vendorSpecific  \\\n",
       "1    {'property': 'vendorSpecific', 'Filehash': 'e5...   \n",
       "4    {'property': 'vendorSpecific', 'Filehash': 'a8...   \n",
       "7    {'property': 'vendorSpecific', 'Filehash': 'a2...   \n",
       "9    {'property': 'vendorSpecific', 'Filehash': 'd4...   \n",
       "11   {'property': 'vendorSpecific', 'Filehash': 'fe...   \n",
       "..                                                 ...   \n",
       "350  {'property': 'vendorSpecific', 'Filehash': '37...   \n",
       "365  {'property': 'vendorSpecific', 'Filehash': '16...   \n",
       "373  {'property': 'vendorSpecific', 'Filehash': '4f...   \n",
       "382  {'property': 'vendorSpecific', 'Filehash': 'e7...   \n",
       "385  {'property': 'vendorSpecific', 'Filehash': 'ff...   \n",
       "\n",
       "                                           downloadUrl  \n",
       "1    https://sedasdmtest.satapps.org/datamgr/datamg...  \n",
       "4    https://sedasdmtest.satapps.org/datamgr/datamg...  \n",
       "7    https://sedasdmtest.satapps.org/datamgr/datamg...  \n",
       "9    https://sedasdmtest.satapps.org/datamgr/datamg...  \n",
       "11   https://sedasdmtest.satapps.org/datamgr/datamg...  \n",
       "..                                                 ...  \n",
       "350  https://sedasdmtest.satapps.org/datamgr/datamg...  \n",
       "365  https://sedasdmtest.satapps.org/datamgr/datamg...  \n",
       "373  https://sedasdmtest.satapps.org/datamgr/datamg...  \n",
       "382  https://sedasdmtest.satapps.org/datamgr/datamg...  \n",
       "385  https://sedasdmtest.satapps.org/datamgr/datamg...  \n",
       "\n",
       "[70 rows x 22 columns]"
      ]
     },
     "execution_count": null,
     "metadata": {},
     "output_type": "execute_result"
    }
   ],
   "source": [
    "res = pd.DataFrame(result['products'])\n",
    "\n",
    "res[res.productType == 'SLC']"
   ]
  },
  {
   "cell_type": "code",
   "execution_count": null,
   "metadata": {},
   "outputs": [
    {
     "name": "stdout",
     "output_type": "stream",
     "text": [
      "2020-11-17 18:20:30 Preparing NovaSAR_01_16359_slc_201025_231828_HH within /tmp/data/intermediate/NovaSAR_01_16359_slc_201025_231828_HH_tmp/\n"
     ]
    },
    {
     "name": "stderr",
     "output_type": "stream",
     "text": [
      "DEBUG:sedas_api:successful login.\n",
      "DEBUG:sedas_api:successful login.\n",
      "DEBUG:sedas_api:successful login.\n",
      "DEBUG:sedas_api:successful login.\n",
      "DEBUG:sedas_api:successful login.\n",
      "INFO:bulk_downloader:0 downloads pending, 0 downloads in progress, 0 requests pending\n",
      "INFO:bulk_downloader:2 active threads, 0 restarted.\n"
     ]
    },
    {
     "name": "stdout",
     "output_type": "stream",
     "text": [
      "2020-11-17 18:20:31 Downloading\n"
     ]
    },
    {
     "name": "stderr",
     "output_type": "stream",
     "text": [
      "DEBUG:bulk_downloader:1 downloads pending\n",
      "DEBUG:bulk_downloader:1 downloads pending\n",
      "INFO:bulk_downloader:downloading NovaSAR_01_16359_slc_201025_231828_HH to /tmp/data/intermediate/NovaSAR_01_16359_slc_201025_231828_HH_tmp/NovaSAR_01_16359_slc_201025_231828_HH.zip\n",
      "DEBUG:sedas_api:successful login.\n",
      "INFO:bulk_downloader:0 downloads pending, 1 downloads in progress, 0 requests pending\n",
      "INFO:bulk_downloader:2 active threads, 0 restarted.\n",
      "INFO:bulk_downloader:0 downloads pending, 1 downloads in progress, 0 requests pending\n",
      "INFO:bulk_downloader:2 active threads, 0 restarted.\n",
      "INFO:bulk_downloader:0 downloads pending, 1 downloads in progress, 0 requests pending\n",
      "INFO:bulk_downloader:2 active threads, 0 restarted.\n",
      "INFO:bulk_downloader:0 downloads pending, 1 downloads in progress, 0 requests pending\n",
      "INFO:bulk_downloader:2 active threads, 0 restarted.\n",
      "INFO:bulk_downloader:0 downloads pending, 1 downloads in progress, 0 requests pending\n",
      "INFO:bulk_downloader:2 active threads, 0 restarted.\n",
      "INFO:bulk_downloader:0 downloads pending, 1 downloads in progress, 0 requests pending\n",
      "INFO:bulk_downloader:2 active threads, 0 restarted.\n",
      "INFO:bulk_downloader:0 downloads pending, 1 downloads in progress, 0 requests pending\n",
      "INFO:bulk_downloader:2 active threads, 0 restarted.\n",
      "INFO:bulk_downloader:0 downloads pending, 0 downloads in progress, 0 requests pending\n",
      "INFO:bulk_downloader:2 active threads, 0 restarted.\n",
      "DEBUG:bulk_downloader:0 downloads pending\n",
      "DEBUG:bulk_downloader:monitor thread stopping\n"
     ]
    },
    {
     "name": "stdout",
     "output_type": "stream",
     "text": [
      "2020-11-17 18:21:16 Downloaded\n",
      "2020-11-17 18:21:16 Extracting /tmp/data/intermediate/NovaSAR_01_16359_slc_201025_231828_HH_tmp/NovaSAR_01_16359_slc_201025_231828_HH.zip\n"
     ]
    },
    {
     "name": "stderr",
     "output_type": "stream",
     "text": [
      "DEBUG:bulk_downloader:requests thread stopping\n",
      "DEBUG:root:running ['/opt/snap/bin/gpt', '/opt/notebooks/anc/novasar_slc_tf_tc.xml', '-Pinput=/tmp/data/intermediate/NovaSAR_01_16359_slc_201025_231828_HH_tmp/NovaSAR_01_16359_slc_201025_231828_HH/SV229/Image_Products$/NovaSAR_01_16359_slc_201025_231828_HH_/NovaSAR_01_16359_slc_11_201025_231828_HH_1/metadata.xml', '-Poutput=/tmp/data/intermediate/NovaSAR_01_16359_slc_201025_231828_HH_tmp/NovaSAR_01_16359_slc_11_201025_231828_HH_1_ML_TC_TF.dim']\n"
     ]
    },
    {
     "name": "stdout",
     "output_type": "stream",
     "text": [
      "2020-11-17 18:21:43 Extracted to /tmp/data/intermediate/NovaSAR_01_16359_slc_201025_231828_HH_tmp/NovaSAR_01_16359_slc_201025_231828_HH/\n",
      "NovaSAR_01_16359_slc_11_201025_231828_HH_1\n",
      "/tmp/data/intermediate/NovaSAR_01_16359_slc_201025_231828_HH_tmp/NovaSAR_01_16359_slc_11_201025_231828_HH_1_ML_TC_TF.data/\n",
      "/tmp/data/intermediate/NovaSAR_01_16359_slc_201025_231828_HH_tmp/NovaSAR_01_16359_slc_11_201025_231828_HH_1_ML_TC_TF_cog/\n"
     ]
    },
    {
     "name": "stderr",
     "output_type": "stream",
     "text": [
      "INFO:snap_stderr:stderr:INFO: org.esa.snap.core.gpf.operators.tooladapter.ToolAdapterIO: Initializing external tool adapters\n",
      "INFO:snap_stderr:stderr:INFO: org.esa.s2tbx.dataio.gdal.GDALVersion: Incompatible GDAL 3.1.4 found on system. Internal GDAL 3.0.0 from distribution will be used.\n",
      "INFO:snap_stderr:stderr:INFO: org.esa.s2tbx.dataio.gdal.GDALVersion: Internal GDAL 3.0.0 set to be used by SNAP.\n",
      "INFO:snap_stderr:stderr:INFO: org.esa.snap.core.util.EngineVersionCheckActivator: Please check regularly for new updates for the best SNAP experience.\n",
      "INFO:snap_stderr:stderr:INFO: org.esa.s2tbx.dataio.gdal.GDALVersion: Internal GDAL 3.0.0 set to be used by SNAP.\n",
      "INFO:snap_stdout:Executing processing graph\n",
      "INFO:snap_stderr:stderr:INFO: org.hsqldb.persist.Logger: dataFileCache open start\n",
      "INFO:snap_stderr:stderr:INFO: org.esa.snap.core.dataop.dem.ElevationFile: http retrieving http://step.esa.int/auxdata/dem/SRTMGL1/N51E001.SRTMGL1.hgt.zip\n",
      "INFO:snap_stdout:....10%....20%....30%....40%....50%....60%....70%....80%....90% done.\n"
     ]
    },
    {
     "name": "stdout",
     "output_type": "stream",
     "text": [
      "/tmp/data/intermediate/NovaSAR_01_16359_slc_201025_231828_HH_tmp/NovaSAR_01_16359_slc_11_201025_231828_HH_1_ML_TC_TF_cog/NovaSAR_01_16359_slc_11_201025_231828_HH_1_Gamma0_Intensity_HH_db.tif\n",
      "2020-11-17 18:25:45 Starting conversion: /tmp/data/intermediate/NovaSAR_01_16359_slc_201025_231828_HH_tmp/NovaSAR_01_16359_slc_11_201025_231828_HH_1_ML_TC_TF.data/Gamma0_Intensity_HH_db.img.\n",
      "2020-11-17 18:25:52 Conversion complete: True.\n"
     ]
    },
    {
     "name": "stderr",
     "output_type": "stream",
     "text": [
      "DEBUG:root:running ['/opt/snap/bin/gpt', '/opt/notebooks/anc/novasar_slc_tf_tc.xml', '-Pinput=/tmp/data/intermediate/NovaSAR_01_16359_slc_201025_231828_HH_tmp/NovaSAR_01_16359_slc_201025_231828_HH/SV229/Image_Products$/NovaSAR_01_16359_slc_201025_231828_HH_/NovaSAR_01_16359_slc_11_201025_231831_HH_2/metadata.xml', '-Poutput=/tmp/data/intermediate/NovaSAR_01_16359_slc_201025_231828_HH_tmp/NovaSAR_01_16359_slc_11_201025_231831_HH_2_ML_TC_TF.dim']\n"
     ]
    },
    {
     "name": "stdout",
     "output_type": "stream",
     "text": [
      "NovaSAR_01_16359_slc_11_201025_231831_HH_2\n",
      "/tmp/data/intermediate/NovaSAR_01_16359_slc_201025_231828_HH_tmp/NovaSAR_01_16359_slc_11_201025_231831_HH_2_ML_TC_TF.data/\n",
      "/tmp/data/intermediate/NovaSAR_01_16359_slc_201025_231828_HH_tmp/NovaSAR_01_16359_slc_11_201025_231831_HH_2_ML_TC_TF_cog/\n"
     ]
    },
    {
     "name": "stderr",
     "output_type": "stream",
     "text": [
      "INFO:snap_stderr:stderr:INFO: org.esa.snap.core.gpf.operators.tooladapter.ToolAdapterIO: Initializing external tool adapters\n",
      "INFO:snap_stderr:stderr:INFO: org.esa.s2tbx.dataio.gdal.GDALVersion: Incompatible GDAL 3.1.4 found on system. Internal GDAL 3.0.0 from distribution will be used.\n",
      "INFO:snap_stderr:stderr:INFO: org.esa.s2tbx.dataio.gdal.GDALVersion: Internal GDAL 3.0.0 set to be used by SNAP.\n",
      "INFO:snap_stderr:stderr:INFO: org.esa.snap.core.util.EngineVersionCheckActivator: Please check regularly for new updates for the best SNAP experience.\n",
      "INFO:snap_stderr:stderr:INFO: org.esa.s2tbx.dataio.gdal.GDALVersion: Internal GDAL 3.0.0 set to be used by SNAP.\n",
      "INFO:snap_stdout:Executing processing graph\n",
      "INFO:snap_stderr:stderr:INFO: org.hsqldb.persist.Logger: dataFileCache open start\n",
      "INFO:snap_stderr:stderr:INFO: org.esa.snap.core.dataop.dem.ElevationFile: http retrieving http://step.esa.int/auxdata/dem/SRTMGL1/N50E001.SRTMGL1.hgt.zip\n",
      "INFO:snap_stdout:....10%....20%....30%....40%....50%....60%....70%....80%....90% done.\n"
     ]
    },
    {
     "name": "stdout",
     "output_type": "stream",
     "text": [
      "/tmp/data/intermediate/NovaSAR_01_16359_slc_201025_231828_HH_tmp/NovaSAR_01_16359_slc_11_201025_231831_HH_2_ML_TC_TF_cog/NovaSAR_01_16359_slc_11_201025_231831_HH_2_Gamma0_Intensity_HH_db.tif\n",
      "2020-11-17 18:32:47 Starting conversion: /tmp/data/intermediate/NovaSAR_01_16359_slc_201025_231828_HH_tmp/NovaSAR_01_16359_slc_11_201025_231831_HH_2_ML_TC_TF.data/Gamma0_Intensity_HH_db.img.\n",
      "2020-11-17 18:32:58 Conversion complete: True.\n"
     ]
    },
    {
     "name": "stderr",
     "output_type": "stream",
     "text": [
      "DEBUG:sedas_api:successful login.\n"
     ]
    },
    {
     "name": "stdout",
     "output_type": "stream",
     "text": [
      "2020-11-17 18:34:22 Prepared NovaSAR_01_16359_slc_201025_231828_HH at novasar_uk_test/\n",
      "2020-11-17 18:34:22 Preparing NovaSAR_01_16328_slc_201024_231245_HH within /tmp/data/intermediate/NovaSAR_01_16328_slc_201024_231245_HH_tmp/\n"
     ]
    },
    {
     "name": "stderr",
     "output_type": "stream",
     "text": [
      "DEBUG:sedas_api:successful login.\n",
      "DEBUG:sedas_api:successful login.\n",
      "DEBUG:sedas_api:successful login.\n",
      "DEBUG:sedas_api:successful login.\n",
      "INFO:bulk_downloader:0 downloads pending, 0 downloads in progress, 0 requests pending\n",
      "INFO:bulk_downloader:2 active threads, 0 restarted.\n"
     ]
    },
    {
     "name": "stdout",
     "output_type": "stream",
     "text": [
      "2020-11-17 18:34:23 Downloading\n"
     ]
    },
    {
     "name": "stderr",
     "output_type": "stream",
     "text": [
      "DEBUG:bulk_downloader:1 downloads pending\n",
      "DEBUG:bulk_downloader:1 downloads pending\n",
      "INFO:bulk_downloader:downloading NovaSAR_01_16328_slc_201024_231245_HH to /tmp/data/intermediate/NovaSAR_01_16328_slc_201024_231245_HH_tmp/NovaSAR_01_16328_slc_201024_231245_HH.zip\n",
      "DEBUG:sedas_api:successful login.\n",
      "INFO:bulk_downloader:0 downloads pending, 1 downloads in progress, 0 requests pending\n",
      "INFO:bulk_downloader:2 active threads, 0 restarted.\n",
      "INFO:bulk_downloader:0 downloads pending, 1 downloads in progress, 0 requests pending\n",
      "INFO:bulk_downloader:2 active threads, 0 restarted.\n",
      "INFO:bulk_downloader:0 downloads pending, 1 downloads in progress, 0 requests pending\n",
      "INFO:bulk_downloader:2 active threads, 0 restarted.\n",
      "DEBUG:bulk_downloader:0 downloads pending\n",
      "DEBUG:bulk_downloader:monitor thread stopping\n"
     ]
    },
    {
     "name": "stdout",
     "output_type": "stream",
     "text": [
      "2020-11-17 18:34:43 Downloaded\n",
      "2020-11-17 18:34:43 Extracting /tmp/data/intermediate/NovaSAR_01_16328_slc_201024_231245_HH_tmp/NovaSAR_01_16328_slc_201024_231245_HH.zip\n"
     ]
    },
    {
     "name": "stderr",
     "output_type": "stream",
     "text": [
      "DEBUG:bulk_downloader:requests thread stopping\n",
      "DEBUG:root:running ['/opt/snap/bin/gpt', '/opt/notebooks/anc/novasar_slc_tf_tc.xml', '-Pinput=/tmp/data/intermediate/NovaSAR_01_16328_slc_201024_231245_HH_tmp/NovaSAR_01_16328_slc_201024_231245_HH/SV229/Image_Products$/NovaSAR_01_16328_slc_201024_231245_HH_/NovaSAR_01_16328_slc_11_201024_231245_HH/metadata.xml', '-Poutput=/tmp/data/intermediate/NovaSAR_01_16328_slc_201024_231245_HH_tmp/NovaSAR_01_16328_slc_11_201024_231245_HH_ML_TC_TF.dim']\n"
     ]
    },
    {
     "name": "stdout",
     "output_type": "stream",
     "text": [
      "2020-11-17 18:34:54 Extracted to /tmp/data/intermediate/NovaSAR_01_16328_slc_201024_231245_HH_tmp/NovaSAR_01_16328_slc_201024_231245_HH/\n",
      "NovaSAR_01_16328_slc_11_201024_231245_HH\n",
      "/tmp/data/intermediate/NovaSAR_01_16328_slc_201024_231245_HH_tmp/NovaSAR_01_16328_slc_11_201024_231245_HH_ML_TC_TF.data/\n",
      "/tmp/data/intermediate/NovaSAR_01_16328_slc_201024_231245_HH_tmp/NovaSAR_01_16328_slc_11_201024_231245_HH_ML_TC_TF_cog/\n"
     ]
    },
    {
     "name": "stderr",
     "output_type": "stream",
     "text": [
      "INFO:snap_stderr:stderr:INFO: org.esa.snap.core.gpf.operators.tooladapter.ToolAdapterIO: Initializing external tool adapters\n",
      "INFO:snap_stderr:stderr:INFO: org.esa.s2tbx.dataio.gdal.GDALVersion: Incompatible GDAL 3.1.4 found on system. Internal GDAL 3.0.0 from distribution will be used.\n",
      "INFO:snap_stderr:stderr:INFO: org.esa.s2tbx.dataio.gdal.GDALVersion: Internal GDAL 3.0.0 set to be used by SNAP.\n",
      "INFO:snap_stderr:stderr:INFO: org.esa.snap.core.util.EngineVersionCheckActivator: Please check regularly for new updates for the best SNAP experience.\n",
      "INFO:snap_stderr:stderr:INFO: org.esa.s2tbx.dataio.gdal.GDALVersion: Internal GDAL 3.0.0 set to be used by SNAP.\n",
      "INFO:snap_stdout:Executing processing graph\n",
      "INFO:snap_stderr:stderr:INFO: org.hsqldb.persist.Logger: dataFileCache open start\n",
      "INFO:snap_stdout:....10%....20%....30%....40%....50%....60%....70%....80%....90% done.\n"
     ]
    },
    {
     "name": "stdout",
     "output_type": "stream",
     "text": [
      "/tmp/data/intermediate/NovaSAR_01_16328_slc_201024_231245_HH_tmp/NovaSAR_01_16328_slc_11_201024_231245_HH_ML_TC_TF_cog/NovaSAR_01_16328_slc_11_201024_231245_HH_Gamma0_Intensity_HH_db.tif\n",
      "2020-11-17 18:40:40 Starting conversion: /tmp/data/intermediate/NovaSAR_01_16328_slc_201024_231245_HH_tmp/NovaSAR_01_16328_slc_11_201024_231245_HH_ML_TC_TF.data/Gamma0_Intensity_HH_db.img.\n",
      "2020-11-17 18:40:47 Conversion complete: True.\n",
      "2020-11-17 18:41:31 Prepared NovaSAR_01_16328_slc_201024_231245_HH at novasar_uk_test/\n",
      "2020-11-17 18:41:31 Preparing NovaSAR_01_16231_slc_201021_225532_HH within /tmp/data/intermediate/NovaSAR_01_16231_slc_201021_225532_HH_tmp/\n"
     ]
    },
    {
     "name": "stderr",
     "output_type": "stream",
     "text": [
      "DEBUG:sedas_api:successful login.\n",
      "DEBUG:sedas_api:successful login.\n",
      "DEBUG:sedas_api:successful login.\n",
      "DEBUG:sedas_api:successful login.\n",
      "DEBUG:sedas_api:successful login.\n",
      "INFO:bulk_downloader:0 downloads pending, 0 downloads in progress, 0 requests pending\n",
      "INFO:bulk_downloader:2 active threads, 0 restarted.\n"
     ]
    },
    {
     "name": "stdout",
     "output_type": "stream",
     "text": [
      "2020-11-17 18:41:33 Downloading\n"
     ]
    },
    {
     "name": "stderr",
     "output_type": "stream",
     "text": [
      "DEBUG:bulk_downloader:1 downloads pending\n",
      "INFO:bulk_downloader:downloading NovaSAR_01_16231_slc_201021_225532_HH to /tmp/data/intermediate/NovaSAR_01_16231_slc_201021_225532_HH_tmp/NovaSAR_01_16231_slc_201021_225532_HH.zip\n",
      "DEBUG:bulk_downloader:0 downloads pending\n",
      "DEBUG:sedas_api:successful login.\n",
      "INFO:bulk_downloader:0 downloads pending, 1 downloads in progress, 0 requests pending\n",
      "INFO:bulk_downloader:2 active threads, 0 restarted.\n",
      "INFO:bulk_downloader:0 downloads pending, 1 downloads in progress, 0 requests pending\n",
      "INFO:bulk_downloader:2 active threads, 0 restarted.\n",
      "INFO:bulk_downloader:0 downloads pending, 1 downloads in progress, 0 requests pending\n",
      "INFO:bulk_downloader:2 active threads, 0 restarted.\n",
      "INFO:bulk_downloader:0 downloads pending, 1 downloads in progress, 0 requests pending\n",
      "INFO:bulk_downloader:2 active threads, 0 restarted.\n",
      "INFO:bulk_downloader:0 downloads pending, 1 downloads in progress, 0 requests pending\n",
      "INFO:bulk_downloader:2 active threads, 0 restarted.\n",
      "INFO:bulk_downloader:0 downloads pending, 1 downloads in progress, 0 requests pending\n",
      "INFO:bulk_downloader:2 active threads, 0 restarted.\n",
      "INFO:bulk_downloader:0 downloads pending, 1 downloads in progress, 0 requests pending\n",
      "INFO:bulk_downloader:2 active threads, 0 restarted.\n",
      "INFO:bulk_downloader:0 downloads pending, 1 downloads in progress, 0 requests pending\n",
      "INFO:bulk_downloader:2 active threads, 0 restarted.\n",
      "INFO:bulk_downloader:0 downloads pending, 1 downloads in progress, 0 requests pending\n",
      "INFO:bulk_downloader:2 active threads, 0 restarted.\n",
      "DEBUG:bulk_downloader:0 downloads pending\n",
      "DEBUG:bulk_downloader:requests thread stopping\n",
      "DEBUG:bulk_downloader:monitor thread stopping\n"
     ]
    },
    {
     "name": "stdout",
     "output_type": "stream",
     "text": [
      "2020-11-17 18:42:23 Downloaded\n",
      "2020-11-17 18:42:23 Extracting /tmp/data/intermediate/NovaSAR_01_16231_slc_201021_225532_HH_tmp/NovaSAR_01_16231_slc_201021_225532_HH.zip\n"
     ]
    },
    {
     "name": "stderr",
     "output_type": "stream",
     "text": [
      "DEBUG:root:running ['/opt/snap/bin/gpt', '/opt/notebooks/anc/novasar_slc_tf_tc.xml', '-Pinput=/tmp/data/intermediate/NovaSAR_01_16231_slc_201021_225532_HH_tmp/NovaSAR_01_16231_slc_201021_225532_HH/SV229/Image_Products$/NovaSAR_01_16231_slc_201021_225532_HH_/NovaSAR_01_16231_slc_11_201021_225532_HH_1/metadata.xml', '-Poutput=/tmp/data/intermediate/NovaSAR_01_16231_slc_201021_225532_HH_tmp/NovaSAR_01_16231_slc_11_201021_225532_HH_1_ML_TC_TF.dim']\n"
     ]
    },
    {
     "name": "stdout",
     "output_type": "stream",
     "text": [
      "2020-11-17 18:42:55 Extracted to /tmp/data/intermediate/NovaSAR_01_16231_slc_201021_225532_HH_tmp/NovaSAR_01_16231_slc_201021_225532_HH/\n",
      "NovaSAR_01_16231_slc_11_201021_225532_HH_1\n",
      "/tmp/data/intermediate/NovaSAR_01_16231_slc_201021_225532_HH_tmp/NovaSAR_01_16231_slc_11_201021_225532_HH_1_ML_TC_TF.data/\n",
      "/tmp/data/intermediate/NovaSAR_01_16231_slc_201021_225532_HH_tmp/NovaSAR_01_16231_slc_11_201021_225532_HH_1_ML_TC_TF_cog/\n"
     ]
    },
    {
     "name": "stderr",
     "output_type": "stream",
     "text": [
      "INFO:snap_stderr:stderr:INFO: org.esa.snap.core.gpf.operators.tooladapter.ToolAdapterIO: Initializing external tool adapters\n",
      "INFO:snap_stderr:stderr:INFO: org.esa.s2tbx.dataio.gdal.GDALVersion: Incompatible GDAL 3.1.4 found on system. Internal GDAL 3.0.0 from distribution will be used.\n",
      "INFO:snap_stderr:stderr:INFO: org.esa.s2tbx.dataio.gdal.GDALVersion: Internal GDAL 3.0.0 set to be used by SNAP.\n",
      "INFO:snap_stderr:stderr:INFO: org.esa.snap.core.util.EngineVersionCheckActivator: Please check regularly for new updates for the best SNAP experience.\n",
      "INFO:snap_stderr:stderr:INFO: org.esa.s2tbx.dataio.gdal.GDALVersion: Internal GDAL 3.0.0 set to be used by SNAP.\n",
      "INFO:snap_stdout:Executing processing graph\n",
      "INFO:snap_stderr:stderr:INFO: org.hsqldb.persist.Logger: dataFileCache open start\n",
      "INFO:snap_stdout:....10%....20%....30%....40%....50%....60%....70%....80%....90% done.\n"
     ]
    },
    {
     "name": "stdout",
     "output_type": "stream",
     "text": [
      "/tmp/data/intermediate/NovaSAR_01_16231_slc_201021_225532_HH_tmp/NovaSAR_01_16231_slc_11_201021_225532_HH_1_ML_TC_TF_cog/NovaSAR_01_16231_slc_11_201021_225532_HH_1_Gamma0_Intensity_HH_db.tif\n",
      "2020-11-17 18:47:00 Starting conversion: /tmp/data/intermediate/NovaSAR_01_16231_slc_201021_225532_HH_tmp/NovaSAR_01_16231_slc_11_201021_225532_HH_1_ML_TC_TF.data/Gamma0_Intensity_HH_db.img.\n",
      "2020-11-17 18:47:08 Conversion complete: True.\n"
     ]
    },
    {
     "name": "stderr",
     "output_type": "stream",
     "text": [
      "DEBUG:root:running ['/opt/snap/bin/gpt', '/opt/notebooks/anc/novasar_slc_tf_tc.xml', '-Pinput=/tmp/data/intermediate/NovaSAR_01_16231_slc_201021_225532_HH_tmp/NovaSAR_01_16231_slc_201021_225532_HH/SV229/Image_Products$/NovaSAR_01_16231_slc_201021_225532_HH_/NovaSAR_01_16231_slc_11_201021_225536_HH_2/metadata.xml', '-Poutput=/tmp/data/intermediate/NovaSAR_01_16231_slc_201021_225532_HH_tmp/NovaSAR_01_16231_slc_11_201021_225536_HH_2_ML_TC_TF.dim']\n"
     ]
    },
    {
     "name": "stdout",
     "output_type": "stream",
     "text": [
      "NovaSAR_01_16231_slc_11_201021_225536_HH_2\n",
      "/tmp/data/intermediate/NovaSAR_01_16231_slc_201021_225532_HH_tmp/NovaSAR_01_16231_slc_11_201021_225536_HH_2_ML_TC_TF.data/\n",
      "/tmp/data/intermediate/NovaSAR_01_16231_slc_201021_225532_HH_tmp/NovaSAR_01_16231_slc_11_201021_225536_HH_2_ML_TC_TF_cog/\n"
     ]
    },
    {
     "name": "stderr",
     "output_type": "stream",
     "text": [
      "INFO:snap_stderr:stderr:INFO: org.esa.snap.core.gpf.operators.tooladapter.ToolAdapterIO: Initializing external tool adapters\n",
      "INFO:snap_stderr:stderr:INFO: org.esa.s2tbx.dataio.gdal.GDALVersion: Incompatible GDAL 3.1.4 found on system. Internal GDAL 3.0.0 from distribution will be used.\n",
      "INFO:snap_stderr:stderr:INFO: org.esa.s2tbx.dataio.gdal.GDALVersion: Internal GDAL 3.0.0 set to be used by SNAP.\n",
      "INFO:snap_stderr:stderr:INFO: org.esa.snap.core.util.EngineVersionCheckActivator: Please check regularly for new updates for the best SNAP experience.\n",
      "INFO:snap_stderr:stderr:INFO: org.esa.s2tbx.dataio.gdal.GDALVersion: Internal GDAL 3.0.0 set to be used by SNAP.\n",
      "INFO:snap_stdout:Executing processing graph\n",
      "INFO:snap_stderr:stderr:INFO: org.hsqldb.persist.Logger: dataFileCache open start\n",
      "INFO:snap_stdout:....10%....20%....30%....40%....50%....60%....70%....80%....90% done.\n"
     ]
    },
    {
     "name": "stdout",
     "output_type": "stream",
     "text": [
      "/tmp/data/intermediate/NovaSAR_01_16231_slc_201021_225532_HH_tmp/NovaSAR_01_16231_slc_11_201021_225536_HH_2_ML_TC_TF_cog/NovaSAR_01_16231_slc_11_201021_225536_HH_2_Gamma0_Intensity_HH_db.tif\n",
      "2020-11-17 18:54:14 Starting conversion: /tmp/data/intermediate/NovaSAR_01_16231_slc_201021_225532_HH_tmp/NovaSAR_01_16231_slc_11_201021_225536_HH_2_ML_TC_TF.data/Gamma0_Intensity_HH_db.img.\n",
      "2020-11-17 18:54:26 Conversion complete: True.\n"
     ]
    },
    {
     "name": "stderr",
     "output_type": "stream",
     "text": [
      "DEBUG:sedas_api:successful login.\n"
     ]
    },
    {
     "name": "stdout",
     "output_type": "stream",
     "text": [
      "2020-11-17 18:55:40 Prepared NovaSAR_01_16231_slc_201021_225532_HH at novasar_uk_test/\n",
      "2020-11-17 18:55:40 Preparing NovaSAR_01_15785_slc_201007_095918_HH within /tmp/data/intermediate/NovaSAR_01_15785_slc_201007_095918_HH_tmp/\n"
     ]
    },
    {
     "name": "stderr",
     "output_type": "stream",
     "text": [
      "DEBUG:sedas_api:successful login.\n",
      "DEBUG:sedas_api:successful login.\n",
      "DEBUG:sedas_api:successful login.\n",
      "DEBUG:sedas_api:successful login.\n",
      "INFO:bulk_downloader:0 downloads pending, 0 downloads in progress, 0 requests pending\n",
      "INFO:bulk_downloader:2 active threads, 0 restarted.\n"
     ]
    },
    {
     "name": "stdout",
     "output_type": "stream",
     "text": [
      "2020-11-17 18:55:41 Downloading\n"
     ]
    },
    {
     "name": "stderr",
     "output_type": "stream",
     "text": [
      "DEBUG:bulk_downloader:1 downloads pending\n",
      "DEBUG:bulk_downloader:1 downloads pending\n",
      "INFO:bulk_downloader:downloading NovaSAR_01_15785_slc_201007_095918_HH to /tmp/data/intermediate/NovaSAR_01_15785_slc_201007_095918_HH_tmp/NovaSAR_01_15785_slc_201007_095918_HH.zip\n",
      "DEBUG:sedas_api:successful login.\n",
      "INFO:bulk_downloader:0 downloads pending, 1 downloads in progress, 0 requests pending\n",
      "INFO:bulk_downloader:2 active threads, 0 restarted.\n",
      "INFO:bulk_downloader:0 downloads pending, 1 downloads in progress, 0 requests pending\n",
      "INFO:bulk_downloader:2 active threads, 0 restarted.\n",
      "INFO:bulk_downloader:0 downloads pending, 1 downloads in progress, 0 requests pending\n",
      "INFO:bulk_downloader:2 active threads, 0 restarted.\n",
      "INFO:bulk_downloader:0 downloads pending, 1 downloads in progress, 0 requests pending\n",
      "INFO:bulk_downloader:2 active threads, 0 restarted.\n",
      "INFO:bulk_downloader:0 downloads pending, 1 downloads in progress, 0 requests pending\n",
      "INFO:bulk_downloader:2 active threads, 0 restarted.\n",
      "INFO:bulk_downloader:0 downloads pending, 1 downloads in progress, 0 requests pending\n",
      "INFO:bulk_downloader:2 active threads, 0 restarted.\n",
      "DEBUG:bulk_downloader:0 downloads pending\n",
      "DEBUG:bulk_downloader:requests thread stopping\n",
      "DEBUG:bulk_downloader:monitor thread stopping\n"
     ]
    },
    {
     "name": "stdout",
     "output_type": "stream",
     "text": [
      "2020-11-17 18:56:16 Downloaded\n",
      "2020-11-17 18:56:16 Extracting /tmp/data/intermediate/NovaSAR_01_15785_slc_201007_095918_HH_tmp/NovaSAR_01_15785_slc_201007_095918_HH.zip\n"
     ]
    },
    {
     "name": "stderr",
     "output_type": "stream",
     "text": [
      "DEBUG:root:running ['/opt/snap/bin/gpt', '/opt/notebooks/anc/novasar_slc_tf_tc.xml', '-Pinput=/tmp/data/intermediate/NovaSAR_01_15785_slc_201007_095918_HH_tmp/NovaSAR_01_15785_slc_201007_095918_HH/SV229/Image_Products$/NovaSAR_01_15785_slc_201007_095918_HH_/NovaSAR_01_15785_slc_11_201007_095918_HH_1/metadata.xml', '-Poutput=/tmp/data/intermediate/NovaSAR_01_15785_slc_201007_095918_HH_tmp/NovaSAR_01_15785_slc_11_201007_095918_HH_1_ML_TC_TF.dim']\n"
     ]
    },
    {
     "name": "stdout",
     "output_type": "stream",
     "text": [
      "2020-11-17 18:56:42 Extracted to /tmp/data/intermediate/NovaSAR_01_15785_slc_201007_095918_HH_tmp/NovaSAR_01_15785_slc_201007_095918_HH/\n",
      "NovaSAR_01_15785_slc_11_201007_095918_HH_1\n",
      "/tmp/data/intermediate/NovaSAR_01_15785_slc_201007_095918_HH_tmp/NovaSAR_01_15785_slc_11_201007_095918_HH_1_ML_TC_TF.data/\n",
      "/tmp/data/intermediate/NovaSAR_01_15785_slc_201007_095918_HH_tmp/NovaSAR_01_15785_slc_11_201007_095918_HH_1_ML_TC_TF_cog/\n"
     ]
    },
    {
     "name": "stderr",
     "output_type": "stream",
     "text": [
      "INFO:snap_stderr:stderr:INFO: org.esa.snap.core.gpf.operators.tooladapter.ToolAdapterIO: Initializing external tool adapters\n",
      "INFO:snap_stderr:stderr:INFO: org.esa.s2tbx.dataio.gdal.GDALVersion: Incompatible GDAL 3.1.4 found on system. Internal GDAL 3.0.0 from distribution will be used.\n",
      "INFO:snap_stderr:stderr:INFO: org.esa.s2tbx.dataio.gdal.GDALVersion: Internal GDAL 3.0.0 set to be used by SNAP.\n",
      "INFO:snap_stderr:stderr:INFO: org.esa.snap.core.util.EngineVersionCheckActivator: Please check regularly for new updates for the best SNAP experience.\n",
      "INFO:snap_stderr:stderr:INFO: org.esa.s2tbx.dataio.gdal.GDALVersion: Internal GDAL 3.0.0 set to be used by SNAP.\n",
      "INFO:snap_stdout:Executing processing graph\n",
      "INFO:snap_stderr:stderr:INFO: org.hsqldb.persist.Logger: dataFileCache open start\n",
      "INFO:snap_stderr:stderr:INFO: org.esa.snap.core.dataop.dem.ElevationFile: http retrieving http://step.esa.int/auxdata/dem/SRTMGL1/N50W005.SRTMGL1.hgt.zip\n",
      "INFO:snap_stdout:....10%....20%....30%....40%....50%....60%....70%....80%....90% done.\n"
     ]
    },
    {
     "name": "stdout",
     "output_type": "stream",
     "text": [
      "/tmp/data/intermediate/NovaSAR_01_15785_slc_201007_095918_HH_tmp/NovaSAR_01_15785_slc_11_201007_095918_HH_1_ML_TC_TF_cog/NovaSAR_01_15785_slc_11_201007_095918_HH_1_Gamma0_Intensity_HH_db.tif\n",
      "2020-11-17 18:58:37 Starting conversion: /tmp/data/intermediate/NovaSAR_01_15785_slc_201007_095918_HH_tmp/NovaSAR_01_15785_slc_11_201007_095918_HH_1_ML_TC_TF.data/Gamma0_Intensity_HH_db.img.\n",
      "2020-11-17 18:58:43 Conversion complete: True.\n"
     ]
    },
    {
     "name": "stderr",
     "output_type": "stream",
     "text": [
      "DEBUG:root:running ['/opt/snap/bin/gpt', '/opt/notebooks/anc/novasar_slc_tf_tc.xml', '-Pinput=/tmp/data/intermediate/NovaSAR_01_15785_slc_201007_095918_HH_tmp/NovaSAR_01_15785_slc_201007_095918_HH/SV229/Image_Products$/NovaSAR_01_15785_slc_201007_095918_HH_/NovaSAR_01_15785_slc_11_201007_095922_HH_2/metadata.xml', '-Poutput=/tmp/data/intermediate/NovaSAR_01_15785_slc_201007_095918_HH_tmp/NovaSAR_01_15785_slc_11_201007_095922_HH_2_ML_TC_TF.dim']\n"
     ]
    },
    {
     "name": "stdout",
     "output_type": "stream",
     "text": [
      "NovaSAR_01_15785_slc_11_201007_095922_HH_2\n",
      "/tmp/data/intermediate/NovaSAR_01_15785_slc_201007_095918_HH_tmp/NovaSAR_01_15785_slc_11_201007_095922_HH_2_ML_TC_TF.data/\n",
      "/tmp/data/intermediate/NovaSAR_01_15785_slc_201007_095918_HH_tmp/NovaSAR_01_15785_slc_11_201007_095922_HH_2_ML_TC_TF_cog/\n"
     ]
    },
    {
     "name": "stderr",
     "output_type": "stream",
     "text": [
      "INFO:snap_stderr:stderr:INFO: org.esa.snap.core.gpf.operators.tooladapter.ToolAdapterIO: Initializing external tool adapters\n",
      "INFO:snap_stderr:stderr:INFO: org.esa.s2tbx.dataio.gdal.GDALVersion: Incompatible GDAL 3.1.4 found on system. Internal GDAL 3.0.0 from distribution will be used.\n",
      "INFO:snap_stderr:stderr:INFO: org.esa.s2tbx.dataio.gdal.GDALVersion: Internal GDAL 3.0.0 set to be used by SNAP.\n",
      "INFO:snap_stderr:stderr:INFO: org.esa.snap.core.util.EngineVersionCheckActivator: Please check regularly for new updates for the best SNAP experience.\n",
      "INFO:snap_stderr:stderr:INFO: org.esa.s2tbx.dataio.gdal.GDALVersion: Internal GDAL 3.0.0 set to be used by SNAP.\n",
      "INFO:snap_stdout:Executing processing graph\n",
      "INFO:snap_stderr:stderr:INFO: org.hsqldb.persist.Logger: dataFileCache open start\n",
      "INFO:snap_stderr:stderr:INFO: org.esa.snap.core.dataop.dem.ElevationFile: http retrieving http://step.esa.int/auxdata/dem/SRTMGL1/N51W005.SRTMGL1.hgt.zip\n",
      "INFO:snap_stdout:....10%....20%....30%....40%....50%....60%....70%....80%....90% done.\n"
     ]
    },
    {
     "name": "stdout",
     "output_type": "stream",
     "text": [
      "/tmp/data/intermediate/NovaSAR_01_15785_slc_201007_095918_HH_tmp/NovaSAR_01_15785_slc_11_201007_095922_HH_2_ML_TC_TF_cog/NovaSAR_01_15785_slc_11_201007_095922_HH_2_Gamma0_Intensity_HH_db.tif\n",
      "2020-11-17 19:02:53 Starting conversion: /tmp/data/intermediate/NovaSAR_01_15785_slc_201007_095918_HH_tmp/NovaSAR_01_15785_slc_11_201007_095922_HH_2_ML_TC_TF.data/Gamma0_Intensity_HH_db.img.\n",
      "2020-11-17 19:03:06 Conversion complete: True.\n",
      "2020-11-17 19:04:20 Prepared NovaSAR_01_15785_slc_201007_095918_HH at novasar_uk_test/\n",
      "2020-11-17 19:04:20 Preparing NovaSAR_01_15443_slc_200926_234322_HH within /tmp/data/intermediate/NovaSAR_01_15443_slc_200926_234322_HH_tmp/\n"
     ]
    },
    {
     "name": "stderr",
     "output_type": "stream",
     "text": [
      "DEBUG:sedas_api:successful login.\n",
      "DEBUG:sedas_api:successful login.\n",
      "DEBUG:sedas_api:successful login.\n",
      "DEBUG:sedas_api:successful login.\n",
      "DEBUG:sedas_api:successful login.\n",
      "INFO:bulk_downloader:0 downloads pending, 0 downloads in progress, 0 requests pending\n",
      "INFO:bulk_downloader:2 active threads, 0 restarted.\n"
     ]
    },
    {
     "name": "stdout",
     "output_type": "stream",
     "text": [
      "2020-11-17 19:04:21 Downloading\n"
     ]
    },
    {
     "name": "stderr",
     "output_type": "stream",
     "text": [
      "DEBUG:bulk_downloader:1 downloads pending\n",
      "DEBUG:bulk_downloader:1 downloads pending\n",
      "INFO:bulk_downloader:downloading NovaSAR_01_15443_slc_200926_234322_HH to /tmp/data/intermediate/NovaSAR_01_15443_slc_200926_234322_HH_tmp/NovaSAR_01_15443_slc_200926_234322_HH.zip\n",
      "DEBUG:sedas_api:successful login.\n",
      "INFO:bulk_downloader:0 downloads pending, 1 downloads in progress, 0 requests pending\n",
      "INFO:bulk_downloader:2 active threads, 0 restarted.\n",
      "INFO:bulk_downloader:0 downloads pending, 1 downloads in progress, 0 requests pending\n",
      "INFO:bulk_downloader:2 active threads, 0 restarted.\n",
      "INFO:bulk_downloader:0 downloads pending, 1 downloads in progress, 0 requests pending\n",
      "INFO:bulk_downloader:2 active threads, 0 restarted.\n",
      "INFO:bulk_downloader:0 downloads pending, 1 downloads in progress, 0 requests pending\n",
      "INFO:bulk_downloader:2 active threads, 0 restarted.\n",
      "INFO:bulk_downloader:0 downloads pending, 1 downloads in progress, 0 requests pending\n",
      "INFO:bulk_downloader:2 active threads, 0 restarted.\n",
      "INFO:bulk_downloader:0 downloads pending, 1 downloads in progress, 0 requests pending\n",
      "INFO:bulk_downloader:2 active threads, 0 restarted.\n",
      "INFO:bulk_downloader:0 downloads pending, 1 downloads in progress, 0 requests pending\n",
      "INFO:bulk_downloader:2 active threads, 0 restarted.\n",
      "INFO:bulk_downloader:0 downloads pending, 1 downloads in progress, 0 requests pending\n",
      "INFO:bulk_downloader:2 active threads, 0 restarted.\n",
      "INFO:bulk_downloader:0 downloads pending, 1 downloads in progress, 0 requests pending\n",
      "INFO:bulk_downloader:2 active threads, 0 restarted.\n",
      "DEBUG:bulk_downloader:0 downloads pending\n",
      "DEBUG:bulk_downloader:monitor thread stopping\n"
     ]
    },
    {
     "name": "stdout",
     "output_type": "stream",
     "text": [
      "2020-11-17 19:05:11 Downloaded\n",
      "2020-11-17 19:05:11 Extracting /tmp/data/intermediate/NovaSAR_01_15443_slc_200926_234322_HH_tmp/NovaSAR_01_15443_slc_200926_234322_HH.zip\n"
     ]
    },
    {
     "name": "stderr",
     "output_type": "stream",
     "text": [
      "DEBUG:bulk_downloader:requests thread stopping\n",
      "DEBUG:root:running ['/opt/snap/bin/gpt', '/opt/notebooks/anc/novasar_slc_tf_tc.xml', '-Pinput=/tmp/data/intermediate/NovaSAR_01_15443_slc_200926_234322_HH_tmp/NovaSAR_01_15443_slc_200926_234322_HH/SV229/Image_Products$/NovaSAR_01_15443_slc_200926_234322_HH_/NovaSAR_01_15443_slc_11_200926_234322_HH_1/metadata.xml', '-Poutput=/tmp/data/intermediate/NovaSAR_01_15443_slc_200926_234322_HH_tmp/NovaSAR_01_15443_slc_11_200926_234322_HH_1_ML_TC_TF.dim']\n"
     ]
    },
    {
     "name": "stdout",
     "output_type": "stream",
     "text": [
      "2020-11-17 19:05:41 Extracted to /tmp/data/intermediate/NovaSAR_01_15443_slc_200926_234322_HH_tmp/NovaSAR_01_15443_slc_200926_234322_HH/\n",
      "NovaSAR_01_15443_slc_11_200926_234322_HH_1\n",
      "/tmp/data/intermediate/NovaSAR_01_15443_slc_200926_234322_HH_tmp/NovaSAR_01_15443_slc_11_200926_234322_HH_1_ML_TC_TF.data/\n",
      "/tmp/data/intermediate/NovaSAR_01_15443_slc_200926_234322_HH_tmp/NovaSAR_01_15443_slc_11_200926_234322_HH_1_ML_TC_TF_cog/\n"
     ]
    },
    {
     "name": "stderr",
     "output_type": "stream",
     "text": [
      "INFO:snap_stderr:stderr:INFO: org.esa.snap.core.gpf.operators.tooladapter.ToolAdapterIO: Initializing external tool adapters\n",
      "INFO:snap_stderr:stderr:INFO: org.esa.s2tbx.dataio.gdal.GDALVersion: Incompatible GDAL 3.1.4 found on system. Internal GDAL 3.0.0 from distribution will be used.\n",
      "INFO:snap_stderr:stderr:INFO: org.esa.s2tbx.dataio.gdal.GDALVersion: Internal GDAL 3.0.0 set to be used by SNAP.\n",
      "INFO:snap_stderr:stderr:INFO: org.esa.snap.core.util.EngineVersionCheckActivator: Please check regularly for new updates for the best SNAP experience.\n",
      "INFO:snap_stderr:stderr:INFO: org.esa.s2tbx.dataio.gdal.GDALVersion: Internal GDAL 3.0.0 set to be used by SNAP.\n",
      "INFO:snap_stdout:Executing processing graph\n",
      "INFO:snap_stderr:stderr:INFO: org.hsqldb.persist.Logger: dataFileCache open start\n",
      "INFO:snap_stdout:....10%....20%....30%....40%....50%....60%....70%....80%....90% done.\n"
     ]
    },
    {
     "name": "stdout",
     "output_type": "stream",
     "text": [
      "/tmp/data/intermediate/NovaSAR_01_15443_slc_200926_234322_HH_tmp/NovaSAR_01_15443_slc_11_200926_234322_HH_1_ML_TC_TF_cog/NovaSAR_01_15443_slc_11_200926_234322_HH_1_Gamma0_Intensity_HH_db.tif\n",
      "2020-11-17 19:09:44 Starting conversion: /tmp/data/intermediate/NovaSAR_01_15443_slc_200926_234322_HH_tmp/NovaSAR_01_15443_slc_11_200926_234322_HH_1_ML_TC_TF.data/Gamma0_Intensity_HH_db.img.\n",
      "2020-11-17 19:09:51 Conversion complete: True.\n"
     ]
    },
    {
     "name": "stderr",
     "output_type": "stream",
     "text": [
      "DEBUG:root:running ['/opt/snap/bin/gpt', '/opt/notebooks/anc/novasar_slc_tf_tc.xml', '-Pinput=/tmp/data/intermediate/NovaSAR_01_15443_slc_200926_234322_HH_tmp/NovaSAR_01_15443_slc_200926_234322_HH/SV229/Image_Products$/NovaSAR_01_15443_slc_200926_234322_HH_/NovaSAR_01_15443_slc_11_200926_234325_HH_2/metadata.xml', '-Poutput=/tmp/data/intermediate/NovaSAR_01_15443_slc_200926_234322_HH_tmp/NovaSAR_01_15443_slc_11_200926_234325_HH_2_ML_TC_TF.dim']\n"
     ]
    },
    {
     "name": "stdout",
     "output_type": "stream",
     "text": [
      "NovaSAR_01_15443_slc_11_200926_234325_HH_2\n",
      "/tmp/data/intermediate/NovaSAR_01_15443_slc_200926_234322_HH_tmp/NovaSAR_01_15443_slc_11_200926_234325_HH_2_ML_TC_TF.data/\n",
      "/tmp/data/intermediate/NovaSAR_01_15443_slc_200926_234322_HH_tmp/NovaSAR_01_15443_slc_11_200926_234325_HH_2_ML_TC_TF_cog/\n"
     ]
    },
    {
     "name": "stderr",
     "output_type": "stream",
     "text": [
      "INFO:snap_stderr:stderr:INFO: org.esa.snap.core.gpf.operators.tooladapter.ToolAdapterIO: Initializing external tool adapters\n",
      "INFO:snap_stderr:stderr:INFO: org.esa.s2tbx.dataio.gdal.GDALVersion: Incompatible GDAL 3.1.4 found on system. Internal GDAL 3.0.0 from distribution will be used.\n",
      "INFO:snap_stderr:stderr:INFO: org.esa.s2tbx.dataio.gdal.GDALVersion: Internal GDAL 3.0.0 set to be used by SNAP.\n",
      "INFO:snap_stderr:stderr:INFO: org.esa.snap.core.util.EngineVersionCheckActivator: Please check regularly for new updates for the best SNAP experience.\n",
      "INFO:snap_stderr:stderr:INFO: org.esa.s2tbx.dataio.gdal.GDALVersion: Internal GDAL 3.0.0 set to be used by SNAP.\n",
      "INFO:snap_stdout:Executing processing graph\n",
      "INFO:snap_stderr:stderr:INFO: org.hsqldb.persist.Logger: dataFileCache open start\n",
      "INFO:snap_stdout:....10%....20%....30%....40%....50%....60%....70%....80%....90% done.\n"
     ]
    },
    {
     "name": "stdout",
     "output_type": "stream",
     "text": [
      "/tmp/data/intermediate/NovaSAR_01_15443_slc_200926_234322_HH_tmp/NovaSAR_01_15443_slc_11_200926_234325_HH_2_ML_TC_TF_cog/NovaSAR_01_15443_slc_11_200926_234325_HH_2_Gamma0_Intensity_HH_db.tif\n",
      "2020-11-17 19:14:44 Starting conversion: /tmp/data/intermediate/NovaSAR_01_15443_slc_200926_234322_HH_tmp/NovaSAR_01_15443_slc_11_200926_234325_HH_2_ML_TC_TF.data/Gamma0_Intensity_HH_db.img.\n",
      "2020-11-17 19:14:50 Conversion complete: True.\n"
     ]
    },
    {
     "name": "stderr",
     "output_type": "stream",
     "text": [
      "DEBUG:root:running ['/opt/snap/bin/gpt', '/opt/notebooks/anc/novasar_slc_tf_tc.xml', '-Pinput=/tmp/data/intermediate/NovaSAR_01_15443_slc_200926_234322_HH_tmp/NovaSAR_01_15443_slc_200926_234322_HH/SV229/Image_Products$/NovaSAR_01_15443_slc_200926_234322_HH_/NovaSAR_01_15443_slc_11_200926_234329_HH_3/metadata.xml', '-Poutput=/tmp/data/intermediate/NovaSAR_01_15443_slc_200926_234322_HH_tmp/NovaSAR_01_15443_slc_11_200926_234329_HH_3_ML_TC_TF.dim']\n"
     ]
    },
    {
     "name": "stdout",
     "output_type": "stream",
     "text": [
      "NovaSAR_01_15443_slc_11_200926_234329_HH_3\n",
      "/tmp/data/intermediate/NovaSAR_01_15443_slc_200926_234322_HH_tmp/NovaSAR_01_15443_slc_11_200926_234329_HH_3_ML_TC_TF.data/\n",
      "/tmp/data/intermediate/NovaSAR_01_15443_slc_200926_234322_HH_tmp/NovaSAR_01_15443_slc_11_200926_234329_HH_3_ML_TC_TF_cog/\n"
     ]
    },
    {
     "name": "stderr",
     "output_type": "stream",
     "text": [
      "INFO:snap_stderr:stderr:INFO: org.esa.snap.core.gpf.operators.tooladapter.ToolAdapterIO: Initializing external tool adapters\n",
      "INFO:snap_stderr:stderr:INFO: org.esa.s2tbx.dataio.gdal.GDALVersion: Incompatible GDAL 3.1.4 found on system. Internal GDAL 3.0.0 from distribution will be used.\n",
      "INFO:snap_stderr:stderr:INFO: org.esa.s2tbx.dataio.gdal.GDALVersion: Internal GDAL 3.0.0 set to be used by SNAP.\n",
      "INFO:snap_stderr:stderr:INFO: org.esa.snap.core.util.EngineVersionCheckActivator: Please check regularly for new updates for the best SNAP experience.\n",
      "INFO:snap_stderr:stderr:INFO: org.esa.s2tbx.dataio.gdal.GDALVersion: Internal GDAL 3.0.0 set to be used by SNAP.\n",
      "INFO:snap_stdout:Executing processing graph\n",
      "INFO:snap_stderr:stderr:INFO: org.hsqldb.persist.Logger: dataFileCache open start\n",
      "INFO:snap_stdout:....10%....20%....30%....40%....50%....60%....70%....80%....90% done.\n"
     ]
    },
    {
     "name": "stdout",
     "output_type": "stream",
     "text": [
      "/tmp/data/intermediate/NovaSAR_01_15443_slc_200926_234322_HH_tmp/NovaSAR_01_15443_slc_11_200926_234329_HH_3_ML_TC_TF_cog/NovaSAR_01_15443_slc_11_200926_234329_HH_3_Gamma0_Intensity_HH_db.tif\n",
      "2020-11-17 19:19:38 Starting conversion: /tmp/data/intermediate/NovaSAR_01_15443_slc_200926_234322_HH_tmp/NovaSAR_01_15443_slc_11_200926_234329_HH_3_ML_TC_TF.data/Gamma0_Intensity_HH_db.img.\n",
      "2020-11-17 19:19:44 Conversion complete: True.\n",
      "2020-11-17 19:20:22 Prepared NovaSAR_01_15443_slc_200926_234322_HH at novasar_uk_test/\n",
      "2020-11-17 19:20:22 Preparing NovaSAR_01_15394_slc_200925_102554_HH within /tmp/data/intermediate/NovaSAR_01_15394_slc_200925_102554_HH_tmp/\n"
     ]
    },
    {
     "name": "stderr",
     "output_type": "stream",
     "text": [
      "DEBUG:sedas_api:successful login.\n",
      "DEBUG:sedas_api:successful login.\n",
      "DEBUG:sedas_api:successful login.\n",
      "DEBUG:sedas_api:successful login.\n",
      "DEBUG:sedas_api:successful login.\n",
      "INFO:bulk_downloader:0 downloads pending, 0 downloads in progress, 0 requests pending\n",
      "INFO:bulk_downloader:2 active threads, 0 restarted.\n"
     ]
    },
    {
     "name": "stdout",
     "output_type": "stream",
     "text": [
      "2020-11-17 19:20:23 Downloading\n"
     ]
    },
    {
     "name": "stderr",
     "output_type": "stream",
     "text": [
      "DEBUG:bulk_downloader:1 downloads pending\n",
      "DEBUG:bulk_downloader:1 downloads pending\n",
      "INFO:bulk_downloader:downloading NovaSAR_01_15394_slc_200925_102554_HH to /tmp/data/intermediate/NovaSAR_01_15394_slc_200925_102554_HH_tmp/NovaSAR_01_15394_slc_200925_102554_HH.zip\n",
      "DEBUG:sedas_api:successful login.\n",
      "INFO:bulk_downloader:0 downloads pending, 1 downloads in progress, 0 requests pending\n",
      "INFO:bulk_downloader:2 active threads, 0 restarted.\n",
      "INFO:bulk_downloader:0 downloads pending, 1 downloads in progress, 0 requests pending\n",
      "INFO:bulk_downloader:2 active threads, 0 restarted.\n",
      "INFO:bulk_downloader:0 downloads pending, 1 downloads in progress, 0 requests pending\n",
      "INFO:bulk_downloader:2 active threads, 0 restarted.\n",
      "INFO:bulk_downloader:0 downloads pending, 1 downloads in progress, 0 requests pending\n",
      "INFO:bulk_downloader:2 active threads, 0 restarted.\n",
      "INFO:bulk_downloader:0 downloads pending, 1 downloads in progress, 0 requests pending\n",
      "INFO:bulk_downloader:2 active threads, 0 restarted.\n",
      "INFO:bulk_downloader:0 downloads pending, 1 downloads in progress, 0 requests pending\n",
      "INFO:bulk_downloader:2 active threads, 0 restarted.\n",
      "INFO:bulk_downloader:0 downloads pending, 1 downloads in progress, 0 requests pending\n",
      "INFO:bulk_downloader:2 active threads, 0 restarted.\n",
      "INFO:bulk_downloader:0 downloads pending, 1 downloads in progress, 0 requests pending\n",
      "INFO:bulk_downloader:2 active threads, 0 restarted.\n",
      "INFO:bulk_downloader:0 downloads pending, 1 downloads in progress, 0 requests pending\n",
      "INFO:bulk_downloader:2 active threads, 0 restarted.\n",
      "INFO:bulk_downloader:0 downloads pending, 1 downloads in progress, 0 requests pending\n",
      "INFO:bulk_downloader:2 active threads, 0 restarted.\n",
      "INFO:bulk_downloader:0 downloads pending, 1 downloads in progress, 0 requests pending\n",
      "INFO:bulk_downloader:2 active threads, 0 restarted.\n",
      "INFO:bulk_downloader:0 downloads pending, 1 downloads in progress, 0 requests pending\n",
      "INFO:bulk_downloader:2 active threads, 0 restarted.\n",
      "INFO:bulk_downloader:0 downloads pending, 1 downloads in progress, 0 requests pending\n",
      "INFO:bulk_downloader:2 active threads, 0 restarted.\n",
      "DEBUG:bulk_downloader:0 downloads pending\n",
      "DEBUG:bulk_downloader:requests thread stopping\n",
      "DEBUG:bulk_downloader:monitor thread stopping\n"
     ]
    },
    {
     "name": "stdout",
     "output_type": "stream",
     "text": [
      "2020-11-17 19:21:34 Downloaded\n",
      "2020-11-17 19:21:34 Extracting /tmp/data/intermediate/NovaSAR_01_15394_slc_200925_102554_HH_tmp/NovaSAR_01_15394_slc_200925_102554_HH.zip\n"
     ]
    },
    {
     "name": "stderr",
     "output_type": "stream",
     "text": [
      "DEBUG:root:running ['/opt/snap/bin/gpt', '/opt/notebooks/anc/novasar_slc_tf_tc.xml', '-Pinput=/tmp/data/intermediate/NovaSAR_01_15394_slc_200925_102554_HH_tmp/NovaSAR_01_15394_slc_200925_102554_HH/SV229/Image_Products$/NovaSAR_01_15394_slc_200925_102554_HH_/NovaSAR_01_15394_slc_11_200925_102554_HH_1/metadata.xml', '-Poutput=/tmp/data/intermediate/NovaSAR_01_15394_slc_200925_102554_HH_tmp/NovaSAR_01_15394_slc_11_200925_102554_HH_1_ML_TC_TF.dim']\n"
     ]
    },
    {
     "name": "stdout",
     "output_type": "stream",
     "text": [
      "2020-11-17 19:22:16 Extracted to /tmp/data/intermediate/NovaSAR_01_15394_slc_200925_102554_HH_tmp/NovaSAR_01_15394_slc_200925_102554_HH/\n",
      "NovaSAR_01_15394_slc_11_200925_102554_HH_1\n",
      "/tmp/data/intermediate/NovaSAR_01_15394_slc_200925_102554_HH_tmp/NovaSAR_01_15394_slc_11_200925_102554_HH_1_ML_TC_TF.data/\n",
      "/tmp/data/intermediate/NovaSAR_01_15394_slc_200925_102554_HH_tmp/NovaSAR_01_15394_slc_11_200925_102554_HH_1_ML_TC_TF_cog/\n"
     ]
    },
    {
     "name": "stderr",
     "output_type": "stream",
     "text": [
      "INFO:snap_stderr:stderr:INFO: org.esa.snap.core.gpf.operators.tooladapter.ToolAdapterIO: Initializing external tool adapters\n",
      "INFO:snap_stderr:stderr:INFO: org.esa.s2tbx.dataio.gdal.GDALVersion: Incompatible GDAL 3.1.4 found on system. Internal GDAL 3.0.0 from distribution will be used.\n",
      "INFO:snap_stderr:stderr:INFO: org.esa.s2tbx.dataio.gdal.GDALVersion: Internal GDAL 3.0.0 set to be used by SNAP.\n",
      "INFO:snap_stderr:stderr:INFO: org.esa.snap.core.util.EngineVersionCheckActivator: Please check regularly for new updates for the best SNAP experience.\n",
      "INFO:snap_stderr:stderr:INFO: org.esa.s2tbx.dataio.gdal.GDALVersion: Internal GDAL 3.0.0 set to be used by SNAP.\n",
      "INFO:snap_stdout:Executing processing graph\n",
      "INFO:snap_stderr:stderr:INFO: org.hsqldb.persist.Logger: dataFileCache open start\n",
      "INFO:snap_stdout:....10%....20%....30%....40%....50%....60%....70%....80%....90% done.\n"
     ]
    },
    {
     "name": "stdout",
     "output_type": "stream",
     "text": [
      "/tmp/data/intermediate/NovaSAR_01_15394_slc_200925_102554_HH_tmp/NovaSAR_01_15394_slc_11_200925_102554_HH_1_ML_TC_TF_cog/NovaSAR_01_15394_slc_11_200925_102554_HH_1_Gamma0_Intensity_HH_db.tif\n",
      "2020-11-17 19:27:32 Starting conversion: /tmp/data/intermediate/NovaSAR_01_15394_slc_200925_102554_HH_tmp/NovaSAR_01_15394_slc_11_200925_102554_HH_1_ML_TC_TF.data/Gamma0_Intensity_HH_db.img.\n",
      "2020-11-17 19:27:38 Conversion complete: True.\n"
     ]
    },
    {
     "name": "stderr",
     "output_type": "stream",
     "text": [
      "DEBUG:root:running ['/opt/snap/bin/gpt', '/opt/notebooks/anc/novasar_slc_tf_tc.xml', '-Pinput=/tmp/data/intermediate/NovaSAR_01_15394_slc_200925_102554_HH_tmp/NovaSAR_01_15394_slc_200925_102554_HH/SV229/Image_Products$/NovaSAR_01_15394_slc_200925_102554_HH_/NovaSAR_01_15394_slc_11_200925_102557_HH_2/metadata.xml', '-Poutput=/tmp/data/intermediate/NovaSAR_01_15394_slc_200925_102554_HH_tmp/NovaSAR_01_15394_slc_11_200925_102557_HH_2_ML_TC_TF.dim']\n"
     ]
    },
    {
     "name": "stdout",
     "output_type": "stream",
     "text": [
      "NovaSAR_01_15394_slc_11_200925_102557_HH_2\n",
      "/tmp/data/intermediate/NovaSAR_01_15394_slc_200925_102554_HH_tmp/NovaSAR_01_15394_slc_11_200925_102557_HH_2_ML_TC_TF.data/\n",
      "/tmp/data/intermediate/NovaSAR_01_15394_slc_200925_102554_HH_tmp/NovaSAR_01_15394_slc_11_200925_102557_HH_2_ML_TC_TF_cog/\n"
     ]
    },
    {
     "name": "stderr",
     "output_type": "stream",
     "text": [
      "INFO:snap_stderr:stderr:INFO: org.esa.snap.core.gpf.operators.tooladapter.ToolAdapterIO: Initializing external tool adapters\n",
      "INFO:snap_stderr:stderr:INFO: org.esa.s2tbx.dataio.gdal.GDALVersion: Incompatible GDAL 3.1.4 found on system. Internal GDAL 3.0.0 from distribution will be used.\n",
      "INFO:snap_stderr:stderr:INFO: org.esa.s2tbx.dataio.gdal.GDALVersion: Internal GDAL 3.0.0 set to be used by SNAP.\n",
      "INFO:snap_stderr:stderr:INFO: org.esa.snap.core.util.EngineVersionCheckActivator: Please check regularly for new updates for the best SNAP experience.\n",
      "INFO:snap_stderr:stderr:INFO: org.esa.s2tbx.dataio.gdal.GDALVersion: Internal GDAL 3.0.0 set to be used by SNAP.\n",
      "INFO:snap_stdout:Executing processing graph\n",
      "INFO:snap_stderr:stderr:INFO: org.hsqldb.persist.Logger: dataFileCache open start\n",
      "INFO:snap_stdout:....10%....20%....30%....40%....50%....60%....70%....80%....90% done.\n"
     ]
    },
    {
     "name": "stdout",
     "output_type": "stream",
     "text": [
      "/tmp/data/intermediate/NovaSAR_01_15394_slc_200925_102554_HH_tmp/NovaSAR_01_15394_slc_11_200925_102557_HH_2_ML_TC_TF_cog/NovaSAR_01_15394_slc_11_200925_102557_HH_2_Gamma0_Intensity_HH_db.tif\n",
      "2020-11-17 19:32:01 Starting conversion: /tmp/data/intermediate/NovaSAR_01_15394_slc_200925_102554_HH_tmp/NovaSAR_01_15394_slc_11_200925_102557_HH_2_ML_TC_TF.data/Gamma0_Intensity_HH_db.img.\n",
      "2020-11-17 19:32:07 Conversion complete: True.\n"
     ]
    },
    {
     "name": "stderr",
     "output_type": "stream",
     "text": [
      "DEBUG:root:running ['/opt/snap/bin/gpt', '/opt/notebooks/anc/novasar_slc_tf_tc.xml', '-Pinput=/tmp/data/intermediate/NovaSAR_01_15394_slc_200925_102554_HH_tmp/NovaSAR_01_15394_slc_200925_102554_HH/SV229/Image_Products$/NovaSAR_01_15394_slc_200925_102554_HH_/NovaSAR_01_15394_slc_11_200925_102601_HH_3/metadata.xml', '-Poutput=/tmp/data/intermediate/NovaSAR_01_15394_slc_200925_102554_HH_tmp/NovaSAR_01_15394_slc_11_200925_102601_HH_3_ML_TC_TF.dim']\n"
     ]
    },
    {
     "name": "stdout",
     "output_type": "stream",
     "text": [
      "NovaSAR_01_15394_slc_11_200925_102601_HH_3\n",
      "/tmp/data/intermediate/NovaSAR_01_15394_slc_200925_102554_HH_tmp/NovaSAR_01_15394_slc_11_200925_102601_HH_3_ML_TC_TF.data/\n",
      "/tmp/data/intermediate/NovaSAR_01_15394_slc_200925_102554_HH_tmp/NovaSAR_01_15394_slc_11_200925_102601_HH_3_ML_TC_TF_cog/\n"
     ]
    },
    {
     "name": "stderr",
     "output_type": "stream",
     "text": [
      "INFO:snap_stderr:stderr:INFO: org.esa.snap.core.gpf.operators.tooladapter.ToolAdapterIO: Initializing external tool adapters\n",
      "INFO:snap_stderr:stderr:INFO: org.esa.s2tbx.dataio.gdal.GDALVersion: Incompatible GDAL 3.1.4 found on system. Internal GDAL 3.0.0 from distribution will be used.\n",
      "INFO:snap_stderr:stderr:INFO: org.esa.s2tbx.dataio.gdal.GDALVersion: Internal GDAL 3.0.0 set to be used by SNAP.\n",
      "INFO:snap_stderr:stderr:INFO: org.esa.snap.core.util.EngineVersionCheckActivator: Please check regularly for new updates for the best SNAP experience.\n",
      "INFO:snap_stderr:stderr:INFO: org.esa.s2tbx.dataio.gdal.GDALVersion: Internal GDAL 3.0.0 set to be used by SNAP.\n",
      "INFO:snap_stdout:Executing processing graph\n",
      "INFO:snap_stderr:stderr:INFO: org.hsqldb.persist.Logger: dataFileCache open start\n",
      "INFO:snap_stdout:....10%....20%....30%....40%....50%....60%....70%....80%....90% done.\n"
     ]
    },
    {
     "name": "stdout",
     "output_type": "stream",
     "text": [
      "/tmp/data/intermediate/NovaSAR_01_15394_slc_200925_102554_HH_tmp/NovaSAR_01_15394_slc_11_200925_102601_HH_3_ML_TC_TF_cog/NovaSAR_01_15394_slc_11_200925_102601_HH_3_Gamma0_Intensity_HH_db.tif\n",
      "2020-11-17 19:37:36 Starting conversion: /tmp/data/intermediate/NovaSAR_01_15394_slc_200925_102554_HH_tmp/NovaSAR_01_15394_slc_11_200925_102601_HH_3_ML_TC_TF.data/Gamma0_Intensity_HH_db.img.\n",
      "2020-11-17 19:37:42 Conversion complete: True.\n"
     ]
    },
    {
     "name": "stderr",
     "output_type": "stream",
     "text": [
      "DEBUG:root:running ['/opt/snap/bin/gpt', '/opt/notebooks/anc/novasar_slc_tf_tc.xml', '-Pinput=/tmp/data/intermediate/NovaSAR_01_15394_slc_200925_102554_HH_tmp/NovaSAR_01_15394_slc_200925_102554_HH/SV229/Image_Products$/NovaSAR_01_15394_slc_200925_102554_HH_/NovaSAR_01_15394_slc_11_200925_102605_HH_4/metadata.xml', '-Poutput=/tmp/data/intermediate/NovaSAR_01_15394_slc_200925_102554_HH_tmp/NovaSAR_01_15394_slc_11_200925_102605_HH_4_ML_TC_TF.dim']\n"
     ]
    },
    {
     "name": "stdout",
     "output_type": "stream",
     "text": [
      "NovaSAR_01_15394_slc_11_200925_102605_HH_4\n",
      "/tmp/data/intermediate/NovaSAR_01_15394_slc_200925_102554_HH_tmp/NovaSAR_01_15394_slc_11_200925_102605_HH_4_ML_TC_TF.data/\n",
      "/tmp/data/intermediate/NovaSAR_01_15394_slc_200925_102554_HH_tmp/NovaSAR_01_15394_slc_11_200925_102605_HH_4_ML_TC_TF_cog/\n"
     ]
    },
    {
     "name": "stderr",
     "output_type": "stream",
     "text": [
      "INFO:snap_stderr:stderr:INFO: org.esa.snap.core.gpf.operators.tooladapter.ToolAdapterIO: Initializing external tool adapters\n",
      "INFO:snap_stderr:stderr:INFO: org.esa.s2tbx.dataio.gdal.GDALVersion: Incompatible GDAL 3.1.4 found on system. Internal GDAL 3.0.0 from distribution will be used.\n",
      "INFO:snap_stderr:stderr:INFO: org.esa.s2tbx.dataio.gdal.GDALVersion: Internal GDAL 3.0.0 set to be used by SNAP.\n",
      "INFO:snap_stderr:stderr:INFO: org.esa.snap.core.util.EngineVersionCheckActivator: Please check regularly for new updates for the best SNAP experience.\n",
      "INFO:snap_stderr:stderr:INFO: org.esa.s2tbx.dataio.gdal.GDALVersion: Internal GDAL 3.0.0 set to be used by SNAP.\n",
      "INFO:snap_stdout:Executing processing graph\n",
      "INFO:snap_stderr:stderr:INFO: org.hsqldb.persist.Logger: dataFileCache open start\n",
      "INFO:snap_stdout:....10%....20%....30%....40%....50%....60%....70%....80%....90% done.\n"
     ]
    },
    {
     "name": "stdout",
     "output_type": "stream",
     "text": [
      "/tmp/data/intermediate/NovaSAR_01_15394_slc_200925_102554_HH_tmp/NovaSAR_01_15394_slc_11_200925_102605_HH_4_ML_TC_TF_cog/NovaSAR_01_15394_slc_11_200925_102605_HH_4_Gamma0_Intensity_HH_db.tif\n",
      "2020-11-17 19:42:52 Starting conversion: /tmp/data/intermediate/NovaSAR_01_15394_slc_200925_102554_HH_tmp/NovaSAR_01_15394_slc_11_200925_102605_HH_4_ML_TC_TF.data/Gamma0_Intensity_HH_db.img.\n",
      "2020-11-17 19:42:59 Conversion complete: True.\n",
      "2020-11-17 19:43:36 Prepared NovaSAR_01_15394_slc_200925_102554_HH at novasar_uk_test/\n",
      "2020-11-17 19:43:36 Preparing NovaSAR_01_15310_slc_200922_232026_HH within /tmp/data/intermediate/NovaSAR_01_15310_slc_200922_232026_HH_tmp/\n"
     ]
    },
    {
     "name": "stderr",
     "output_type": "stream",
     "text": [
      "DEBUG:sedas_api:successful login.\n",
      "DEBUG:sedas_api:successful login.\n",
      "DEBUG:sedas_api:successful login.\n",
      "DEBUG:sedas_api:successful login.\n",
      "DEBUG:sedas_api:successful login.\n",
      "INFO:bulk_downloader:0 downloads pending, 0 downloads in progress, 0 requests pending\n",
      "INFO:bulk_downloader:2 active threads, 0 restarted.\n"
     ]
    },
    {
     "name": "stdout",
     "output_type": "stream",
     "text": [
      "2020-11-17 19:43:37 Downloading\n"
     ]
    },
    {
     "name": "stderr",
     "output_type": "stream",
     "text": [
      "DEBUG:bulk_downloader:1 downloads pending\n",
      "DEBUG:bulk_downloader:1 downloads pending\n",
      "INFO:bulk_downloader:downloading NovaSAR_01_15310_slc_200922_232026_HH to /tmp/data/intermediate/NovaSAR_01_15310_slc_200922_232026_HH_tmp/NovaSAR_01_15310_slc_200922_232026_HH.zip\n",
      "DEBUG:sedas_api:successful login.\n",
      "INFO:bulk_downloader:0 downloads pending, 1 downloads in progress, 0 requests pending\n",
      "INFO:bulk_downloader:2 active threads, 0 restarted.\n",
      "INFO:bulk_downloader:0 downloads pending, 1 downloads in progress, 0 requests pending\n",
      "INFO:bulk_downloader:2 active threads, 0 restarted.\n",
      "INFO:bulk_downloader:0 downloads pending, 1 downloads in progress, 0 requests pending\n",
      "INFO:bulk_downloader:2 active threads, 0 restarted.\n",
      "INFO:bulk_downloader:0 downloads pending, 1 downloads in progress, 0 requests pending\n",
      "INFO:bulk_downloader:2 active threads, 0 restarted.\n",
      "INFO:bulk_downloader:0 downloads pending, 1 downloads in progress, 0 requests pending\n",
      "INFO:bulk_downloader:2 active threads, 0 restarted.\n",
      "INFO:bulk_downloader:0 downloads pending, 1 downloads in progress, 0 requests pending\n",
      "INFO:bulk_downloader:2 active threads, 0 restarted.\n",
      "INFO:bulk_downloader:0 downloads pending, 1 downloads in progress, 0 requests pending\n",
      "INFO:bulk_downloader:2 active threads, 0 restarted.\n",
      "DEBUG:bulk_downloader:0 downloads pending\n",
      "DEBUG:bulk_downloader:requests thread stopping\n",
      "DEBUG:bulk_downloader:monitor thread stopping\n"
     ]
    },
    {
     "name": "stdout",
     "output_type": "stream",
     "text": [
      "2020-11-17 19:44:17 Downloaded\n",
      "2020-11-17 19:44:17 Extracting /tmp/data/intermediate/NovaSAR_01_15310_slc_200922_232026_HH_tmp/NovaSAR_01_15310_slc_200922_232026_HH.zip\n"
     ]
    },
    {
     "name": "stderr",
     "output_type": "stream",
     "text": [
      "DEBUG:root:running ['/opt/snap/bin/gpt', '/opt/notebooks/anc/novasar_slc_tf_tc.xml', '-Pinput=/tmp/data/intermediate/NovaSAR_01_15310_slc_200922_232026_HH_tmp/NovaSAR_01_15310_slc_200922_232026_HH/SV229/Image_Products$/NovaSAR_01_15310_slc_200922_232026_HH_/NovaSAR_01_15310_slc_11_200922_232026_HH_1/metadata.xml', '-Poutput=/tmp/data/intermediate/NovaSAR_01_15310_slc_200922_232026_HH_tmp/NovaSAR_01_15310_slc_11_200922_232026_HH_1_ML_TC_TF.dim']\n"
     ]
    },
    {
     "name": "stdout",
     "output_type": "stream",
     "text": [
      "2020-11-17 19:44:45 Extracted to /tmp/data/intermediate/NovaSAR_01_15310_slc_200922_232026_HH_tmp/NovaSAR_01_15310_slc_200922_232026_HH/\n",
      "NovaSAR_01_15310_slc_11_200922_232026_HH_1\n",
      "/tmp/data/intermediate/NovaSAR_01_15310_slc_200922_232026_HH_tmp/NovaSAR_01_15310_slc_11_200922_232026_HH_1_ML_TC_TF.data/\n",
      "/tmp/data/intermediate/NovaSAR_01_15310_slc_200922_232026_HH_tmp/NovaSAR_01_15310_slc_11_200922_232026_HH_1_ML_TC_TF_cog/\n"
     ]
    },
    {
     "name": "stderr",
     "output_type": "stream",
     "text": [
      "INFO:snap_stderr:stderr:INFO: org.esa.snap.core.gpf.operators.tooladapter.ToolAdapterIO: Initializing external tool adapters\n",
      "INFO:snap_stderr:stderr:INFO: org.esa.s2tbx.dataio.gdal.GDALVersion: Incompatible GDAL 3.1.4 found on system. Internal GDAL 3.0.0 from distribution will be used.\n",
      "INFO:snap_stderr:stderr:INFO: org.esa.s2tbx.dataio.gdal.GDALVersion: Internal GDAL 3.0.0 set to be used by SNAP.\n",
      "INFO:snap_stderr:stderr:INFO: org.esa.snap.core.util.EngineVersionCheckActivator: Please check regularly for new updates for the best SNAP experience.\n",
      "INFO:snap_stderr:stderr:INFO: org.esa.s2tbx.dataio.gdal.GDALVersion: Internal GDAL 3.0.0 set to be used by SNAP.\n",
      "INFO:snap_stdout:Executing processing graph\n",
      "INFO:snap_stderr:stderr:INFO: org.hsqldb.persist.Logger: dataFileCache open start\n",
      "INFO:snap_stdout:....10%....20%....30%....40%....50%....60%....70%....80%....90% done.\n"
     ]
    },
    {
     "name": "stdout",
     "output_type": "stream",
     "text": [
      "/tmp/data/intermediate/NovaSAR_01_15310_slc_200922_232026_HH_tmp/NovaSAR_01_15310_slc_11_200922_232026_HH_1_ML_TC_TF_cog/NovaSAR_01_15310_slc_11_200922_232026_HH_1_Gamma0_Intensity_HH_db.tif\n",
      "2020-11-17 19:48:57 Starting conversion: /tmp/data/intermediate/NovaSAR_01_15310_slc_200922_232026_HH_tmp/NovaSAR_01_15310_slc_11_200922_232026_HH_1_ML_TC_TF.data/Gamma0_Intensity_HH_db.img.\n",
      "2020-11-17 19:49:04 Conversion complete: True.\n"
     ]
    },
    {
     "name": "stderr",
     "output_type": "stream",
     "text": [
      "DEBUG:root:running ['/opt/snap/bin/gpt', '/opt/notebooks/anc/novasar_slc_tf_tc.xml', '-Pinput=/tmp/data/intermediate/NovaSAR_01_15310_slc_200922_232026_HH_tmp/NovaSAR_01_15310_slc_200922_232026_HH/SV229/Image_Products$/NovaSAR_01_15310_slc_200922_232026_HH_/NovaSAR_01_15310_slc_11_200922_232030_HH_2/metadata.xml', '-Poutput=/tmp/data/intermediate/NovaSAR_01_15310_slc_200922_232026_HH_tmp/NovaSAR_01_15310_slc_11_200922_232030_HH_2_ML_TC_TF.dim']\n"
     ]
    },
    {
     "name": "stdout",
     "output_type": "stream",
     "text": [
      "NovaSAR_01_15310_slc_11_200922_232030_HH_2\n",
      "/tmp/data/intermediate/NovaSAR_01_15310_slc_200922_232026_HH_tmp/NovaSAR_01_15310_slc_11_200922_232030_HH_2_ML_TC_TF.data/\n",
      "/tmp/data/intermediate/NovaSAR_01_15310_slc_200922_232026_HH_tmp/NovaSAR_01_15310_slc_11_200922_232030_HH_2_ML_TC_TF_cog/\n"
     ]
    },
    {
     "name": "stderr",
     "output_type": "stream",
     "text": [
      "INFO:snap_stderr:stderr:INFO: org.esa.snap.core.gpf.operators.tooladapter.ToolAdapterIO: Initializing external tool adapters\n",
      "INFO:snap_stderr:stderr:INFO: org.esa.s2tbx.dataio.gdal.GDALVersion: Incompatible GDAL 3.1.4 found on system. Internal GDAL 3.0.0 from distribution will be used.\n",
      "INFO:snap_stderr:stderr:INFO: org.esa.s2tbx.dataio.gdal.GDALVersion: Internal GDAL 3.0.0 set to be used by SNAP.\n",
      "INFO:snap_stderr:stderr:INFO: org.esa.snap.core.util.EngineVersionCheckActivator: Please check regularly for new updates for the best SNAP experience.\n",
      "INFO:snap_stderr:stderr:INFO: org.esa.s2tbx.dataio.gdal.GDALVersion: Internal GDAL 3.0.0 set to be used by SNAP.\n",
      "INFO:snap_stdout:Executing processing graph\n",
      "INFO:snap_stderr:stderr:INFO: org.hsqldb.persist.Logger: dataFileCache open start\n",
      "INFO:snap_stdout:....10%....20%....30%....40%....50%....60%....70%....80%....90% done.\n"
     ]
    },
    {
     "name": "stdout",
     "output_type": "stream",
     "text": [
      "/tmp/data/intermediate/NovaSAR_01_15310_slc_200922_232026_HH_tmp/NovaSAR_01_15310_slc_11_200922_232030_HH_2_ML_TC_TF_cog/NovaSAR_01_15310_slc_11_200922_232030_HH_2_Gamma0_Intensity_HH_db.tif\n",
      "2020-11-17 19:55:54 Starting conversion: /tmp/data/intermediate/NovaSAR_01_15310_slc_200922_232026_HH_tmp/NovaSAR_01_15310_slc_11_200922_232030_HH_2_ML_TC_TF.data/Gamma0_Intensity_HH_db.img.\n",
      "2020-11-17 19:56:04 Conversion complete: True.\n"
     ]
    },
    {
     "name": "stderr",
     "output_type": "stream",
     "text": [
      "DEBUG:sedas_api:successful login.\n"
     ]
    },
    {
     "name": "stdout",
     "output_type": "stream",
     "text": [
      "2020-11-17 19:56:59 Prepared NovaSAR_01_15310_slc_200922_232026_HH at novasar_uk_test/\n",
      "2020-11-17 19:56:59 Preparing NovaSAR_01_15277_slc_200921_231437_HH within /tmp/data/intermediate/NovaSAR_01_15277_slc_200921_231437_HH_tmp/\n"
     ]
    },
    {
     "name": "stderr",
     "output_type": "stream",
     "text": [
      "DEBUG:sedas_api:successful login.\n",
      "DEBUG:sedas_api:successful login.\n",
      "DEBUG:sedas_api:successful login.\n",
      "DEBUG:sedas_api:successful login.\n",
      "INFO:bulk_downloader:0 downloads pending, 0 downloads in progress, 0 requests pending\n",
      "INFO:bulk_downloader:2 active threads, 0 restarted.\n"
     ]
    },
    {
     "name": "stdout",
     "output_type": "stream",
     "text": [
      "2020-11-17 19:57:00 Downloading\n"
     ]
    },
    {
     "name": "stderr",
     "output_type": "stream",
     "text": [
      "DEBUG:bulk_downloader:1 downloads pending\n",
      "DEBUG:bulk_downloader:1 downloads pending\n",
      "INFO:bulk_downloader:downloading NovaSAR_01_15277_slc_200921_231437_HH to /tmp/data/intermediate/NovaSAR_01_15277_slc_200921_231437_HH_tmp/NovaSAR_01_15277_slc_200921_231437_HH.zip\n",
      "DEBUG:sedas_api:successful login.\n",
      "INFO:bulk_downloader:0 downloads pending, 1 downloads in progress, 0 requests pending\n",
      "INFO:bulk_downloader:2 active threads, 0 restarted.\n",
      "INFO:bulk_downloader:0 downloads pending, 1 downloads in progress, 0 requests pending\n",
      "INFO:bulk_downloader:2 active threads, 0 restarted.\n",
      "INFO:bulk_downloader:0 downloads pending, 1 downloads in progress, 0 requests pending\n",
      "INFO:bulk_downloader:2 active threads, 0 restarted.\n",
      "INFO:bulk_downloader:0 downloads pending, 1 downloads in progress, 0 requests pending\n",
      "INFO:bulk_downloader:2 active threads, 0 restarted.\n",
      "INFO:bulk_downloader:0 downloads pending, 1 downloads in progress, 0 requests pending\n",
      "INFO:bulk_downloader:2 active threads, 0 restarted.\n",
      "INFO:bulk_downloader:0 downloads pending, 1 downloads in progress, 0 requests pending\n",
      "INFO:bulk_downloader:2 active threads, 0 restarted.\n",
      "DEBUG:bulk_downloader:monitor thread stopping\n"
     ]
    },
    {
     "name": "stdout",
     "output_type": "stream",
     "text": [
      "2020-11-17 19:57:35 Downloaded\n",
      "2020-11-17 19:57:35 Extracting /tmp/data/intermediate/NovaSAR_01_15277_slc_200921_231437_HH_tmp/NovaSAR_01_15277_slc_200921_231437_HH.zip\n"
     ]
    },
    {
     "name": "stderr",
     "output_type": "stream",
     "text": [
      "DEBUG:bulk_downloader:0 downloads pending\n",
      "DEBUG:bulk_downloader:requests thread stopping\n",
      "DEBUG:root:running ['/opt/snap/bin/gpt', '/opt/notebooks/anc/novasar_slc_tf_tc.xml', '-Pinput=/tmp/data/intermediate/NovaSAR_01_15277_slc_200921_231437_HH_tmp/NovaSAR_01_15277_slc_200921_231437_HH/SV229/Image_Products$/NovaSAR_01_15277_slc_200921_231437_HH_/NovaSAR_01_15277_slc_11_200921_231437_HH_1/metadata.xml', '-Poutput=/tmp/data/intermediate/NovaSAR_01_15277_slc_200921_231437_HH_tmp/NovaSAR_01_15277_slc_11_200921_231437_HH_1_ML_TC_TF.dim']\n"
     ]
    },
    {
     "name": "stdout",
     "output_type": "stream",
     "text": [
      "2020-11-17 19:58:03 Extracted to /tmp/data/intermediate/NovaSAR_01_15277_slc_200921_231437_HH_tmp/NovaSAR_01_15277_slc_200921_231437_HH/\n",
      "NovaSAR_01_15277_slc_11_200921_231437_HH_1\n",
      "/tmp/data/intermediate/NovaSAR_01_15277_slc_200921_231437_HH_tmp/NovaSAR_01_15277_slc_11_200921_231437_HH_1_ML_TC_TF.data/\n",
      "/tmp/data/intermediate/NovaSAR_01_15277_slc_200921_231437_HH_tmp/NovaSAR_01_15277_slc_11_200921_231437_HH_1_ML_TC_TF_cog/\n"
     ]
    },
    {
     "name": "stderr",
     "output_type": "stream",
     "text": [
      "INFO:snap_stderr:stderr:INFO: org.esa.snap.core.gpf.operators.tooladapter.ToolAdapterIO: Initializing external tool adapters\n",
      "INFO:snap_stderr:stderr:INFO: org.esa.s2tbx.dataio.gdal.GDALVersion: Incompatible GDAL 3.1.4 found on system. Internal GDAL 3.0.0 from distribution will be used.\n",
      "INFO:snap_stderr:stderr:INFO: org.esa.s2tbx.dataio.gdal.GDALVersion: Internal GDAL 3.0.0 set to be used by SNAP.\n",
      "INFO:snap_stderr:stderr:INFO: org.esa.snap.core.util.EngineVersionCheckActivator: Please check regularly for new updates for the best SNAP experience.\n",
      "INFO:snap_stderr:stderr:INFO: org.esa.s2tbx.dataio.gdal.GDALVersion: Internal GDAL 3.0.0 set to be used by SNAP.\n",
      "INFO:snap_stdout:Executing processing graph\n",
      "INFO:snap_stderr:stderr:INFO: org.hsqldb.persist.Logger: dataFileCache open start\n",
      "INFO:snap_stdout:....10%....20%....30%....40%....50%....60%....70%....80%....90% done.\n"
     ]
    },
    {
     "name": "stdout",
     "output_type": "stream",
     "text": [
      "/tmp/data/intermediate/NovaSAR_01_15277_slc_200921_231437_HH_tmp/NovaSAR_01_15277_slc_11_200921_231437_HH_1_ML_TC_TF_cog/NovaSAR_01_15277_slc_11_200921_231437_HH_1_Gamma0_Intensity_HH_db.tif\n",
      "2020-11-17 19:59:54 Starting conversion: /tmp/data/intermediate/NovaSAR_01_15277_slc_200921_231437_HH_tmp/NovaSAR_01_15277_slc_11_200921_231437_HH_1_ML_TC_TF.data/Gamma0_Intensity_HH_db.img.\n",
      "2020-11-17 20:00:01 Conversion complete: True.\n"
     ]
    },
    {
     "name": "stderr",
     "output_type": "stream",
     "text": [
      "DEBUG:root:running ['/opt/snap/bin/gpt', '/opt/notebooks/anc/novasar_slc_tf_tc.xml', '-Pinput=/tmp/data/intermediate/NovaSAR_01_15277_slc_200921_231437_HH_tmp/NovaSAR_01_15277_slc_200921_231437_HH/SV229/Image_Products$/NovaSAR_01_15277_slc_200921_231437_HH_/NovaSAR_01_15277_slc_11_200921_231441_HH_2/metadata.xml', '-Poutput=/tmp/data/intermediate/NovaSAR_01_15277_slc_200921_231437_HH_tmp/NovaSAR_01_15277_slc_11_200921_231441_HH_2_ML_TC_TF.dim']\n"
     ]
    },
    {
     "name": "stdout",
     "output_type": "stream",
     "text": [
      "NovaSAR_01_15277_slc_11_200921_231441_HH_2\n",
      "/tmp/data/intermediate/NovaSAR_01_15277_slc_200921_231437_HH_tmp/NovaSAR_01_15277_slc_11_200921_231441_HH_2_ML_TC_TF.data/\n",
      "/tmp/data/intermediate/NovaSAR_01_15277_slc_200921_231437_HH_tmp/NovaSAR_01_15277_slc_11_200921_231441_HH_2_ML_TC_TF_cog/\n"
     ]
    },
    {
     "name": "stderr",
     "output_type": "stream",
     "text": [
      "INFO:snap_stderr:stderr:INFO: org.esa.snap.core.gpf.operators.tooladapter.ToolAdapterIO: Initializing external tool adapters\n",
      "INFO:snap_stderr:stderr:INFO: org.esa.s2tbx.dataio.gdal.GDALVersion: Incompatible GDAL 3.1.4 found on system. Internal GDAL 3.0.0 from distribution will be used.\n",
      "INFO:snap_stderr:stderr:INFO: org.esa.s2tbx.dataio.gdal.GDALVersion: Internal GDAL 3.0.0 set to be used by SNAP.\n",
      "INFO:snap_stderr:stderr:INFO: org.esa.snap.core.util.EngineVersionCheckActivator: Please check regularly for new updates for the best SNAP experience.\n",
      "INFO:snap_stderr:stderr:INFO: org.esa.s2tbx.dataio.gdal.GDALVersion: Internal GDAL 3.0.0 set to be used by SNAP.\n",
      "INFO:snap_stdout:Executing processing graph\n",
      "INFO:snap_stderr:stderr:INFO: org.hsqldb.persist.Logger: dataFileCache open start\n",
      "INFO:snap_stdout:....10%....20%....30%....40%....50%....60%....70%....80%....90% done.\n"
     ]
    },
    {
     "name": "stdout",
     "output_type": "stream",
     "text": [
      "/tmp/data/intermediate/NovaSAR_01_15277_slc_200921_231437_HH_tmp/NovaSAR_01_15277_slc_11_200921_231441_HH_2_ML_TC_TF_cog/NovaSAR_01_15277_slc_11_200921_231441_HH_2_Gamma0_Intensity_HH_db.tif\n",
      "2020-11-17 20:02:26 Starting conversion: /tmp/data/intermediate/NovaSAR_01_15277_slc_200921_231437_HH_tmp/NovaSAR_01_15277_slc_11_200921_231441_HH_2_ML_TC_TF.data/Gamma0_Intensity_HH_db.img.\n",
      "2020-11-17 20:02:32 Conversion complete: True.\n"
     ]
    },
    {
     "name": "stderr",
     "output_type": "stream",
     "text": [
      "DEBUG:root:running ['/opt/snap/bin/gpt', '/opt/notebooks/anc/novasar_slc_tf_tc.xml', '-Pinput=/tmp/data/intermediate/NovaSAR_01_15277_slc_200921_231437_HH_tmp/NovaSAR_01_15277_slc_200921_231437_HH/SV229/Image_Products$/NovaSAR_01_15277_slc_200921_231437_HH_/NovaSAR_01_15277_slc_11_200921_231446_HH_3/metadata.xml', '-Poutput=/tmp/data/intermediate/NovaSAR_01_15277_slc_200921_231437_HH_tmp/NovaSAR_01_15277_slc_11_200921_231446_HH_3_ML_TC_TF.dim']\n"
     ]
    },
    {
     "name": "stdout",
     "output_type": "stream",
     "text": [
      "NovaSAR_01_15277_slc_11_200921_231446_HH_3\n",
      "/tmp/data/intermediate/NovaSAR_01_15277_slc_200921_231437_HH_tmp/NovaSAR_01_15277_slc_11_200921_231446_HH_3_ML_TC_TF.data/\n",
      "/tmp/data/intermediate/NovaSAR_01_15277_slc_200921_231437_HH_tmp/NovaSAR_01_15277_slc_11_200921_231446_HH_3_ML_TC_TF_cog/\n"
     ]
    },
    {
     "name": "stderr",
     "output_type": "stream",
     "text": [
      "INFO:snap_stderr:stderr:INFO: org.esa.snap.core.gpf.operators.tooladapter.ToolAdapterIO: Initializing external tool adapters\n",
      "INFO:snap_stderr:stderr:INFO: org.esa.s2tbx.dataio.gdal.GDALVersion: Incompatible GDAL 3.1.4 found on system. Internal GDAL 3.0.0 from distribution will be used.\n",
      "INFO:snap_stderr:stderr:INFO: org.esa.s2tbx.dataio.gdal.GDALVersion: Internal GDAL 3.0.0 set to be used by SNAP.\n",
      "INFO:snap_stderr:stderr:INFO: org.esa.snap.core.util.EngineVersionCheckActivator: Please check regularly for new updates for the best SNAP experience.\n",
      "INFO:snap_stderr:stderr:INFO: org.esa.s2tbx.dataio.gdal.GDALVersion: Internal GDAL 3.0.0 set to be used by SNAP.\n",
      "INFO:snap_stdout:Executing processing graph\n",
      "INFO:snap_stderr:stderr:INFO: org.hsqldb.persist.Logger: dataFileCache open start\n",
      "INFO:snap_stdout:....10%....20%....30%....40%....50%....60%....70%....80%....90% done.\n"
     ]
    },
    {
     "name": "stdout",
     "output_type": "stream",
     "text": [
      "/tmp/data/intermediate/NovaSAR_01_15277_slc_200921_231437_HH_tmp/NovaSAR_01_15277_slc_11_200921_231446_HH_3_ML_TC_TF_cog/NovaSAR_01_15277_slc_11_200921_231446_HH_3_Gamma0_Intensity_HH_db.tif\n",
      "2020-11-17 20:05:44 Starting conversion: /tmp/data/intermediate/NovaSAR_01_15277_slc_200921_231437_HH_tmp/NovaSAR_01_15277_slc_11_200921_231446_HH_3_ML_TC_TF.data/Gamma0_Intensity_HH_db.img.\n",
      "2020-11-17 20:05:58 Conversion complete: True.\n",
      "2020-11-17 20:06:49 Prepared NovaSAR_01_15277_slc_200921_231437_HH at novasar_uk_test/\n",
      "2020-11-17 20:06:49 Preparing NovaSAR_01_15228_slc_200920_095717_HH within /tmp/data/intermediate/NovaSAR_01_15228_slc_200920_095717_HH_tmp/\n"
     ]
    },
    {
     "name": "stderr",
     "output_type": "stream",
     "text": [
      "DEBUG:sedas_api:successful login.\n",
      "DEBUG:sedas_api:successful login.\n",
      "DEBUG:sedas_api:successful login.\n",
      "DEBUG:sedas_api:successful login.\n",
      "DEBUG:sedas_api:successful login.\n",
      "INFO:bulk_downloader:0 downloads pending, 0 downloads in progress, 0 requests pending\n",
      "INFO:bulk_downloader:2 active threads, 0 restarted.\n"
     ]
    },
    {
     "name": "stdout",
     "output_type": "stream",
     "text": [
      "2020-11-17 20:06:51 Downloading\n"
     ]
    },
    {
     "name": "stderr",
     "output_type": "stream",
     "text": [
      "DEBUG:bulk_downloader:1 downloads pending\n",
      "INFO:bulk_downloader:downloading NovaSAR_01_15228_slc_200920_095717_HH to /tmp/data/intermediate/NovaSAR_01_15228_slc_200920_095717_HH_tmp/NovaSAR_01_15228_slc_200920_095717_HH.zip\n",
      "DEBUG:bulk_downloader:0 downloads pending\n",
      "DEBUG:sedas_api:successful login.\n",
      "INFO:bulk_downloader:0 downloads pending, 1 downloads in progress, 0 requests pending\n",
      "INFO:bulk_downloader:2 active threads, 0 restarted.\n",
      "INFO:bulk_downloader:0 downloads pending, 1 downloads in progress, 0 requests pending\n",
      "INFO:bulk_downloader:2 active threads, 0 restarted.\n",
      "INFO:bulk_downloader:0 downloads pending, 1 downloads in progress, 0 requests pending\n",
      "INFO:bulk_downloader:2 active threads, 0 restarted.\n",
      "INFO:bulk_downloader:0 downloads pending, 1 downloads in progress, 0 requests pending\n",
      "INFO:bulk_downloader:2 active threads, 0 restarted.\n",
      "INFO:bulk_downloader:0 downloads pending, 1 downloads in progress, 0 requests pending\n",
      "INFO:bulk_downloader:2 active threads, 0 restarted.\n",
      "INFO:bulk_downloader:0 downloads pending, 1 downloads in progress, 0 requests pending\n",
      "INFO:bulk_downloader:2 active threads, 0 restarted.\n",
      "DEBUG:bulk_downloader:0 downloads pending\n",
      "DEBUG:bulk_downloader:monitor thread stopping\n"
     ]
    },
    {
     "name": "stdout",
     "output_type": "stream",
     "text": [
      "2020-11-17 20:07:26 Downloaded\n",
      "2020-11-17 20:07:26 Extracting /tmp/data/intermediate/NovaSAR_01_15228_slc_200920_095717_HH_tmp/NovaSAR_01_15228_slc_200920_095717_HH.zip\n"
     ]
    },
    {
     "name": "stderr",
     "output_type": "stream",
     "text": [
      "DEBUG:bulk_downloader:requests thread stopping\n",
      "DEBUG:root:running ['/opt/snap/bin/gpt', '/opt/notebooks/anc/novasar_slc_tf_tc.xml', '-Pinput=/tmp/data/intermediate/NovaSAR_01_15228_slc_200920_095717_HH_tmp/NovaSAR_01_15228_slc_200920_095717_HH/SV229/Image_Products$/NovaSAR_01_15228_slc_200920_095717_HH_/NovaSAR_01_15228_slc_11_200920_095717_HH_1/metadata.xml', '-Poutput=/tmp/data/intermediate/NovaSAR_01_15228_slc_200920_095717_HH_tmp/NovaSAR_01_15228_slc_11_200920_095717_HH_1_ML_TC_TF.dim']\n"
     ]
    },
    {
     "name": "stdout",
     "output_type": "stream",
     "text": [
      "2020-11-17 20:07:49 Extracted to /tmp/data/intermediate/NovaSAR_01_15228_slc_200920_095717_HH_tmp/NovaSAR_01_15228_slc_200920_095717_HH/\n",
      "NovaSAR_01_15228_slc_11_200920_095717_HH_1\n",
      "/tmp/data/intermediate/NovaSAR_01_15228_slc_200920_095717_HH_tmp/NovaSAR_01_15228_slc_11_200920_095717_HH_1_ML_TC_TF.data/\n",
      "/tmp/data/intermediate/NovaSAR_01_15228_slc_200920_095717_HH_tmp/NovaSAR_01_15228_slc_11_200920_095717_HH_1_ML_TC_TF_cog/\n"
     ]
    },
    {
     "name": "stderr",
     "output_type": "stream",
     "text": [
      "INFO:snap_stderr:stderr:INFO: org.esa.snap.core.gpf.operators.tooladapter.ToolAdapterIO: Initializing external tool adapters\n",
      "INFO:snap_stderr:stderr:INFO: org.esa.s2tbx.dataio.gdal.GDALVersion: Incompatible GDAL 3.1.4 found on system. Internal GDAL 3.0.0 from distribution will be used.\n",
      "INFO:snap_stderr:stderr:INFO: org.esa.s2tbx.dataio.gdal.GDALVersion: Internal GDAL 3.0.0 set to be used by SNAP.\n",
      "INFO:snap_stderr:stderr:INFO: org.esa.snap.core.util.EngineVersionCheckActivator: Please check regularly for new updates for the best SNAP experience.\n",
      "INFO:snap_stderr:stderr:INFO: org.esa.s2tbx.dataio.gdal.GDALVersion: Internal GDAL 3.0.0 set to be used by SNAP.\n",
      "INFO:snap_stdout:Executing processing graph\n",
      "INFO:snap_stderr:stderr:INFO: org.hsqldb.persist.Logger: dataFileCache open start\n",
      "INFO:snap_stdout:....10%....20%....30%....40%....50%....60%....70%....80%....90% done.\n"
     ]
    },
    {
     "name": "stdout",
     "output_type": "stream",
     "text": [
      "/tmp/data/intermediate/NovaSAR_01_15228_slc_200920_095717_HH_tmp/NovaSAR_01_15228_slc_11_200920_095717_HH_1_ML_TC_TF_cog/NovaSAR_01_15228_slc_11_200920_095717_HH_1_Gamma0_Intensity_HH_db.tif\n",
      "2020-11-17 20:09:32 Starting conversion: /tmp/data/intermediate/NovaSAR_01_15228_slc_200920_095717_HH_tmp/NovaSAR_01_15228_slc_11_200920_095717_HH_1_ML_TC_TF.data/Gamma0_Intensity_HH_db.img.\n",
      "2020-11-17 20:09:39 Conversion complete: True.\n"
     ]
    },
    {
     "name": "stderr",
     "output_type": "stream",
     "text": [
      "DEBUG:root:running ['/opt/snap/bin/gpt', '/opt/notebooks/anc/novasar_slc_tf_tc.xml', '-Pinput=/tmp/data/intermediate/NovaSAR_01_15228_slc_200920_095717_HH_tmp/NovaSAR_01_15228_slc_200920_095717_HH/SV229/Image_Products$/NovaSAR_01_15228_slc_200920_095717_HH_/NovaSAR_01_15228_slc_11_200920_095721_HH_2/metadata.xml', '-Poutput=/tmp/data/intermediate/NovaSAR_01_15228_slc_200920_095717_HH_tmp/NovaSAR_01_15228_slc_11_200920_095721_HH_2_ML_TC_TF.dim']\n"
     ]
    },
    {
     "name": "stdout",
     "output_type": "stream",
     "text": [
      "NovaSAR_01_15228_slc_11_200920_095721_HH_2\n",
      "/tmp/data/intermediate/NovaSAR_01_15228_slc_200920_095717_HH_tmp/NovaSAR_01_15228_slc_11_200920_095721_HH_2_ML_TC_TF.data/\n",
      "/tmp/data/intermediate/NovaSAR_01_15228_slc_200920_095717_HH_tmp/NovaSAR_01_15228_slc_11_200920_095721_HH_2_ML_TC_TF_cog/\n"
     ]
    },
    {
     "name": "stderr",
     "output_type": "stream",
     "text": [
      "INFO:snap_stderr:stderr:INFO: org.esa.snap.core.gpf.operators.tooladapter.ToolAdapterIO: Initializing external tool adapters\n",
      "INFO:snap_stderr:stderr:INFO: org.esa.s2tbx.dataio.gdal.GDALVersion: Incompatible GDAL 3.1.4 found on system. Internal GDAL 3.0.0 from distribution will be used.\n",
      "INFO:snap_stderr:stderr:INFO: org.esa.s2tbx.dataio.gdal.GDALVersion: Internal GDAL 3.0.0 set to be used by SNAP.\n",
      "INFO:snap_stderr:stderr:INFO: org.esa.snap.core.util.EngineVersionCheckActivator: Please check regularly for new updates for the best SNAP experience.\n",
      "INFO:snap_stderr:stderr:INFO: org.esa.s2tbx.dataio.gdal.GDALVersion: Internal GDAL 3.0.0 set to be used by SNAP.\n",
      "INFO:snap_stdout:Executing processing graph\n",
      "INFO:snap_stderr:stderr:INFO: org.hsqldb.persist.Logger: dataFileCache open start\n",
      "INFO:snap_stdout:....10%....20%....30%....40%....50%....60%....70%....80%....90% done.\n"
     ]
    },
    {
     "name": "stdout",
     "output_type": "stream",
     "text": [
      "/tmp/data/intermediate/NovaSAR_01_15228_slc_200920_095717_HH_tmp/NovaSAR_01_15228_slc_11_200920_095721_HH_2_ML_TC_TF_cog/NovaSAR_01_15228_slc_11_200920_095721_HH_2_Gamma0_Intensity_HH_db.tif\n",
      "2020-11-17 20:13:33 Starting conversion: /tmp/data/intermediate/NovaSAR_01_15228_slc_200920_095717_HH_tmp/NovaSAR_01_15228_slc_11_200920_095721_HH_2_ML_TC_TF.data/Gamma0_Intensity_HH_db.img.\n",
      "2020-11-17 20:13:45 Conversion complete: True.\n"
     ]
    },
    {
     "name": "stderr",
     "output_type": "stream",
     "text": [
      "DEBUG:sedas_api:successful login.\n"
     ]
    },
    {
     "name": "stdout",
     "output_type": "stream",
     "text": [
      "2020-11-17 20:15:09 Prepared NovaSAR_01_15228_slc_200920_095717_HH at novasar_uk_test/\n",
      "2020-11-17 20:15:09 Preparing NovaSAR_01_14265_slc_200822_233314_HH within /tmp/data/intermediate/NovaSAR_01_14265_slc_200822_233314_HH_tmp/\n"
     ]
    },
    {
     "name": "stderr",
     "output_type": "stream",
     "text": [
      "DEBUG:sedas_api:successful login.\n",
      "DEBUG:sedas_api:successful login.\n",
      "DEBUG:sedas_api:successful login.\n",
      "DEBUG:sedas_api:successful login.\n",
      "INFO:bulk_downloader:0 downloads pending, 0 downloads in progress, 0 requests pending\n",
      "INFO:bulk_downloader:2 active threads, 0 restarted.\n"
     ]
    },
    {
     "name": "stdout",
     "output_type": "stream",
     "text": [
      "2020-11-17 20:15:10 Downloading\n"
     ]
    },
    {
     "name": "stderr",
     "output_type": "stream",
     "text": [
      "DEBUG:bulk_downloader:1 downloads pending\n",
      "DEBUG:bulk_downloader:1 downloads pending\n",
      "INFO:bulk_downloader:downloading NovaSAR_01_14265_slc_200822_233314_HH to /tmp/data/intermediate/NovaSAR_01_14265_slc_200822_233314_HH_tmp/NovaSAR_01_14265_slc_200822_233314_HH.zip\n",
      "DEBUG:sedas_api:successful login.\n",
      "INFO:bulk_downloader:0 downloads pending, 1 downloads in progress, 0 requests pending\n",
      "INFO:bulk_downloader:2 active threads, 0 restarted.\n",
      "INFO:bulk_downloader:0 downloads pending, 1 downloads in progress, 0 requests pending\n",
      "INFO:bulk_downloader:2 active threads, 0 restarted.\n",
      "INFO:bulk_downloader:0 downloads pending, 1 downloads in progress, 0 requests pending\n",
      "INFO:bulk_downloader:2 active threads, 0 restarted.\n",
      "INFO:bulk_downloader:0 downloads pending, 1 downloads in progress, 0 requests pending\n",
      "INFO:bulk_downloader:2 active threads, 0 restarted.\n",
      "INFO:bulk_downloader:0 downloads pending, 1 downloads in progress, 0 requests pending\n",
      "INFO:bulk_downloader:2 active threads, 0 restarted.\n",
      "INFO:bulk_downloader:0 downloads pending, 1 downloads in progress, 0 requests pending\n",
      "INFO:bulk_downloader:2 active threads, 0 restarted.\n",
      "INFO:bulk_downloader:0 downloads pending, 1 downloads in progress, 0 requests pending\n",
      "INFO:bulk_downloader:2 active threads, 0 restarted.\n",
      "INFO:bulk_downloader:0 downloads pending, 1 downloads in progress, 0 requests pending\n",
      "INFO:bulk_downloader:2 active threads, 0 restarted.\n",
      "INFO:bulk_downloader:0 downloads pending, 1 downloads in progress, 0 requests pending\n",
      "INFO:bulk_downloader:2 active threads, 0 restarted.\n",
      "INFO:bulk_downloader:0 downloads pending, 1 downloads in progress, 0 requests pending\n",
      "INFO:bulk_downloader:2 active threads, 0 restarted.\n",
      "INFO:bulk_downloader:0 downloads pending, 1 downloads in progress, 0 requests pending\n",
      "INFO:bulk_downloader:2 active threads, 0 restarted.\n",
      "INFO:bulk_downloader:0 downloads pending, 1 downloads in progress, 0 requests pending\n",
      "INFO:bulk_downloader:2 active threads, 0 restarted.\n",
      "INFO:bulk_downloader:0 downloads pending, 1 downloads in progress, 0 requests pending\n",
      "INFO:bulk_downloader:2 active threads, 0 restarted.\n",
      "INFO:bulk_downloader:0 downloads pending, 1 downloads in progress, 0 requests pending\n",
      "INFO:bulk_downloader:2 active threads, 0 restarted.\n",
      "INFO:bulk_downloader:0 downloads pending, 1 downloads in progress, 0 requests pending\n",
      "INFO:bulk_downloader:2 active threads, 0 restarted.\n",
      "INFO:bulk_downloader:0 downloads pending, 1 downloads in progress, 0 requests pending\n",
      "INFO:bulk_downloader:2 active threads, 0 restarted.\n",
      "INFO:bulk_downloader:0 downloads pending, 1 downloads in progress, 0 requests pending\n",
      "INFO:bulk_downloader:2 active threads, 0 restarted.\n",
      "INFO:bulk_downloader:0 downloads pending, 1 downloads in progress, 0 requests pending\n",
      "INFO:bulk_downloader:2 active threads, 0 restarted.\n",
      "INFO:bulk_downloader:0 downloads pending, 1 downloads in progress, 0 requests pending\n",
      "INFO:bulk_downloader:2 active threads, 0 restarted.\n",
      "INFO:bulk_downloader:0 downloads pending, 1 downloads in progress, 0 requests pending\n",
      "INFO:bulk_downloader:2 active threads, 0 restarted.\n",
      "INFO:bulk_downloader:0 downloads pending, 1 downloads in progress, 0 requests pending\n",
      "INFO:bulk_downloader:2 active threads, 0 restarted.\n",
      "INFO:bulk_downloader:0 downloads pending, 1 downloads in progress, 0 requests pending\n",
      "INFO:bulk_downloader:2 active threads, 0 restarted.\n",
      "INFO:bulk_downloader:0 downloads pending, 1 downloads in progress, 0 requests pending\n",
      "INFO:bulk_downloader:2 active threads, 0 restarted.\n",
      "INFO:bulk_downloader:0 downloads pending, 1 downloads in progress, 0 requests pending\n",
      "INFO:bulk_downloader:2 active threads, 0 restarted.\n",
      "INFO:bulk_downloader:0 downloads pending, 1 downloads in progress, 0 requests pending\n",
      "INFO:bulk_downloader:2 active threads, 0 restarted.\n",
      "INFO:bulk_downloader:0 downloads pending, 1 downloads in progress, 0 requests pending\n",
      "INFO:bulk_downloader:2 active threads, 0 restarted.\n",
      "INFO:bulk_downloader:0 downloads pending, 1 downloads in progress, 0 requests pending\n",
      "INFO:bulk_downloader:2 active threads, 0 restarted.\n",
      "INFO:bulk_downloader:0 downloads pending, 1 downloads in progress, 0 requests pending\n",
      "INFO:bulk_downloader:2 active threads, 0 restarted.\n",
      "INFO:bulk_downloader:0 downloads pending, 1 downloads in progress, 0 requests pending\n",
      "INFO:bulk_downloader:2 active threads, 0 restarted.\n",
      "INFO:bulk_downloader:0 downloads pending, 1 downloads in progress, 0 requests pending\n",
      "INFO:bulk_downloader:2 active threads, 0 restarted.\n",
      "INFO:bulk_downloader:0 downloads pending, 1 downloads in progress, 0 requests pending\n",
      "INFO:bulk_downloader:2 active threads, 0 restarted.\n",
      "INFO:bulk_downloader:0 downloads pending, 1 downloads in progress, 0 requests pending\n",
      "INFO:bulk_downloader:2 active threads, 0 restarted.\n",
      "INFO:bulk_downloader:0 downloads pending, 1 downloads in progress, 0 requests pending\n",
      "INFO:bulk_downloader:2 active threads, 0 restarted.\n",
      "INFO:bulk_downloader:0 downloads pending, 1 downloads in progress, 0 requests pending\n",
      "INFO:bulk_downloader:2 active threads, 0 restarted.\n",
      "DEBUG:bulk_downloader:0 downloads pending\n",
      "DEBUG:bulk_downloader:requests thread stopping\n",
      "DEBUG:bulk_downloader:monitor thread stopping\n"
     ]
    },
    {
     "name": "stdout",
     "output_type": "stream",
     "text": [
      "2020-11-17 20:18:05 Downloaded\n",
      "2020-11-17 20:18:05 Extracting /tmp/data/intermediate/NovaSAR_01_14265_slc_200822_233314_HH_tmp/NovaSAR_01_14265_slc_200822_233314_HH.zip\n"
     ]
    },
    {
     "name": "stderr",
     "output_type": "stream",
     "text": [
      "DEBUG:root:running ['/opt/snap/bin/gpt', '/opt/notebooks/anc/novasar_slc_tf_tc.xml', '-Pinput=/tmp/data/intermediate/NovaSAR_01_14265_slc_200822_233314_HH_tmp/NovaSAR_01_14265_slc_200822_233314_HH/SV229/Image_Products$/NovaSAR_01_14265_slc_200822_233314_HH_/NovaSAR_01_14265_slc_11_200822_233314_HH_1/metadata.xml', '-Poutput=/tmp/data/intermediate/NovaSAR_01_14265_slc_200822_233314_HH_tmp/NovaSAR_01_14265_slc_11_200822_233314_HH_1_ML_TC_TF.dim']\n"
     ]
    },
    {
     "name": "stdout",
     "output_type": "stream",
     "text": [
      "2020-11-17 20:20:15 Extracted to /tmp/data/intermediate/NovaSAR_01_14265_slc_200822_233314_HH_tmp/NovaSAR_01_14265_slc_200822_233314_HH/\n",
      "NovaSAR_01_14265_slc_11_200822_233314_HH_1\n",
      "/tmp/data/intermediate/NovaSAR_01_14265_slc_200822_233314_HH_tmp/NovaSAR_01_14265_slc_11_200822_233314_HH_1_ML_TC_TF.data/\n",
      "/tmp/data/intermediate/NovaSAR_01_14265_slc_200822_233314_HH_tmp/NovaSAR_01_14265_slc_11_200822_233314_HH_1_ML_TC_TF_cog/\n"
     ]
    },
    {
     "name": "stderr",
     "output_type": "stream",
     "text": [
      "INFO:snap_stderr:stderr:INFO: org.esa.snap.core.gpf.operators.tooladapter.ToolAdapterIO: Initializing external tool adapters\n",
      "INFO:snap_stderr:stderr:INFO: org.esa.s2tbx.dataio.gdal.GDALVersion: Incompatible GDAL 3.1.4 found on system. Internal GDAL 3.0.0 from distribution will be used.\n",
      "INFO:snap_stderr:stderr:INFO: org.esa.s2tbx.dataio.gdal.GDALVersion: Internal GDAL 3.0.0 set to be used by SNAP.\n",
      "INFO:snap_stderr:stderr:INFO: org.esa.snap.core.util.EngineVersionCheckActivator: Please check regularly for new updates for the best SNAP experience.\n",
      "INFO:snap_stderr:stderr:INFO: org.esa.s2tbx.dataio.gdal.GDALVersion: Internal GDAL 3.0.0 set to be used by SNAP.\n",
      "INFO:snap_stdout:Executing processing graph\n",
      "INFO:snap_stderr:stderr:INFO: org.hsqldb.persist.Logger: dataFileCache open start\n",
      "INFO:snap_stdout:....10%....20%....30%....40%....50%....60%....70%....80%....90% done.\n"
     ]
    },
    {
     "name": "stdout",
     "output_type": "stream",
     "text": [
      "/tmp/data/intermediate/NovaSAR_01_14265_slc_200822_233314_HH_tmp/NovaSAR_01_14265_slc_11_200822_233314_HH_1_ML_TC_TF_cog/NovaSAR_01_14265_slc_11_200822_233314_HH_1_Gamma0_Intensity_HH_db.tif\n",
      "2020-11-17 20:24:53 Starting conversion: /tmp/data/intermediate/NovaSAR_01_14265_slc_200822_233314_HH_tmp/NovaSAR_01_14265_slc_11_200822_233314_HH_1_ML_TC_TF.data/Gamma0_Intensity_HH_db.img.\n",
      "2020-11-17 20:25:02 Conversion complete: True.\n"
     ]
    },
    {
     "name": "stderr",
     "output_type": "stream",
     "text": [
      "DEBUG:root:running ['/opt/snap/bin/gpt', '/opt/notebooks/anc/novasar_slc_tf_tc.xml', '-Pinput=/tmp/data/intermediate/NovaSAR_01_14265_slc_200822_233314_HH_tmp/NovaSAR_01_14265_slc_200822_233314_HH/SV229/Image_Products$/NovaSAR_01_14265_slc_200822_233314_HH_/NovaSAR_01_14265_slc_11_200822_233319_HH_2/metadata.xml', '-Poutput=/tmp/data/intermediate/NovaSAR_01_14265_slc_200822_233314_HH_tmp/NovaSAR_01_14265_slc_11_200822_233319_HH_2_ML_TC_TF.dim']\n"
     ]
    },
    {
     "name": "stdout",
     "output_type": "stream",
     "text": [
      "NovaSAR_01_14265_slc_11_200822_233319_HH_2\n",
      "/tmp/data/intermediate/NovaSAR_01_14265_slc_200822_233314_HH_tmp/NovaSAR_01_14265_slc_11_200822_233319_HH_2_ML_TC_TF.data/\n",
      "/tmp/data/intermediate/NovaSAR_01_14265_slc_200822_233314_HH_tmp/NovaSAR_01_14265_slc_11_200822_233319_HH_2_ML_TC_TF_cog/\n"
     ]
    },
    {
     "name": "stderr",
     "output_type": "stream",
     "text": [
      "INFO:snap_stderr:stderr:INFO: org.esa.snap.core.gpf.operators.tooladapter.ToolAdapterIO: Initializing external tool adapters\n",
      "INFO:snap_stderr:stderr:INFO: org.esa.s2tbx.dataio.gdal.GDALVersion: Incompatible GDAL 3.1.4 found on system. Internal GDAL 3.0.0 from distribution will be used.\n",
      "INFO:snap_stderr:stderr:INFO: org.esa.s2tbx.dataio.gdal.GDALVersion: Internal GDAL 3.0.0 set to be used by SNAP.\n",
      "INFO:snap_stderr:stderr:INFO: org.esa.snap.core.util.EngineVersionCheckActivator: Please check regularly for new updates for the best SNAP experience.\n",
      "INFO:snap_stderr:stderr:INFO: org.esa.s2tbx.dataio.gdal.GDALVersion: Internal GDAL 3.0.0 set to be used by SNAP.\n",
      "INFO:snap_stdout:Executing processing graph\n",
      "INFO:snap_stderr:stderr:INFO: org.hsqldb.persist.Logger: dataFileCache open start\n",
      "INFO:snap_stdout:....10%....20%....30%....40%....50%....60%....70%....80%....90% done.\n"
     ]
    },
    {
     "name": "stdout",
     "output_type": "stream",
     "text": [
      "/tmp/data/intermediate/NovaSAR_01_14265_slc_200822_233314_HH_tmp/NovaSAR_01_14265_slc_11_200822_233319_HH_2_ML_TC_TF_cog/NovaSAR_01_14265_slc_11_200822_233319_HH_2_Gamma0_Intensity_HH_db.tif\n",
      "2020-11-17 20:31:14 Starting conversion: /tmp/data/intermediate/NovaSAR_01_14265_slc_200822_233314_HH_tmp/NovaSAR_01_14265_slc_11_200822_233319_HH_2_ML_TC_TF.data/Gamma0_Intensity_HH_db.img.\n",
      "2020-11-17 20:31:22 Conversion complete: True.\n"
     ]
    },
    {
     "name": "stderr",
     "output_type": "stream",
     "text": [
      "DEBUG:root:running ['/opt/snap/bin/gpt', '/opt/notebooks/anc/novasar_slc_tf_tc.xml', '-Pinput=/tmp/data/intermediate/NovaSAR_01_14265_slc_200822_233314_HH_tmp/NovaSAR_01_14265_slc_200822_233314_HH/SV229/Image_Products$/NovaSAR_01_14265_slc_200822_233314_HH_/NovaSAR_01_14265_slc_11_200822_233323_HH_3/metadata.xml', '-Poutput=/tmp/data/intermediate/NovaSAR_01_14265_slc_200822_233314_HH_tmp/NovaSAR_01_14265_slc_11_200822_233323_HH_3_ML_TC_TF.dim']\n"
     ]
    },
    {
     "name": "stdout",
     "output_type": "stream",
     "text": [
      "NovaSAR_01_14265_slc_11_200822_233323_HH_3\n",
      "/tmp/data/intermediate/NovaSAR_01_14265_slc_200822_233314_HH_tmp/NovaSAR_01_14265_slc_11_200822_233323_HH_3_ML_TC_TF.data/\n",
      "/tmp/data/intermediate/NovaSAR_01_14265_slc_200822_233314_HH_tmp/NovaSAR_01_14265_slc_11_200822_233323_HH_3_ML_TC_TF_cog/\n"
     ]
    },
    {
     "name": "stderr",
     "output_type": "stream",
     "text": [
      "INFO:snap_stderr:stderr:INFO: org.esa.snap.core.gpf.operators.tooladapter.ToolAdapterIO: Initializing external tool adapters\n",
      "INFO:snap_stderr:stderr:INFO: org.esa.s2tbx.dataio.gdal.GDALVersion: Incompatible GDAL 3.1.4 found on system. Internal GDAL 3.0.0 from distribution will be used.\n",
      "INFO:snap_stderr:stderr:INFO: org.esa.s2tbx.dataio.gdal.GDALVersion: Internal GDAL 3.0.0 set to be used by SNAP.\n",
      "INFO:snap_stderr:stderr:INFO: org.esa.snap.core.util.EngineVersionCheckActivator: Please check regularly for new updates for the best SNAP experience.\n",
      "INFO:snap_stderr:stderr:INFO: org.esa.s2tbx.dataio.gdal.GDALVersion: Internal GDAL 3.0.0 set to be used by SNAP.\n",
      "INFO:snap_stdout:Executing processing graph\n",
      "INFO:snap_stderr:stderr:INFO: org.hsqldb.persist.Logger: dataFileCache open start\n",
      "INFO:snap_stdout:....10%....20%....30%....40%....50%....60%....70%....80%....90% done.\n"
     ]
    },
    {
     "name": "stdout",
     "output_type": "stream",
     "text": [
      "/tmp/data/intermediate/NovaSAR_01_14265_slc_200822_233314_HH_tmp/NovaSAR_01_14265_slc_11_200822_233323_HH_3_ML_TC_TF_cog/NovaSAR_01_14265_slc_11_200822_233323_HH_3_Gamma0_Intensity_HH_db.tif\n",
      "2020-11-17 20:36:47 Starting conversion: /tmp/data/intermediate/NovaSAR_01_14265_slc_200822_233314_HH_tmp/NovaSAR_01_14265_slc_11_200822_233323_HH_3_ML_TC_TF.data/Gamma0_Intensity_HH_db.img.\n",
      "2020-11-17 20:36:55 Conversion complete: True.\n"
     ]
    },
    {
     "name": "stderr",
     "output_type": "stream",
     "text": [
      "DEBUG:root:running ['/opt/snap/bin/gpt', '/opt/notebooks/anc/novasar_slc_tf_tc.xml', '-Pinput=/tmp/data/intermediate/NovaSAR_01_14265_slc_200822_233314_HH_tmp/NovaSAR_01_14265_slc_200822_233314_HH/SV229/Image_Products$/NovaSAR_01_14265_slc_200822_233314_HH_/NovaSAR_01_14265_slc_11_200822_233327_HH_4/metadata.xml', '-Poutput=/tmp/data/intermediate/NovaSAR_01_14265_slc_200822_233314_HH_tmp/NovaSAR_01_14265_slc_11_200822_233327_HH_4_ML_TC_TF.dim']\n"
     ]
    },
    {
     "name": "stdout",
     "output_type": "stream",
     "text": [
      "NovaSAR_01_14265_slc_11_200822_233327_HH_4\n",
      "/tmp/data/intermediate/NovaSAR_01_14265_slc_200822_233314_HH_tmp/NovaSAR_01_14265_slc_11_200822_233327_HH_4_ML_TC_TF.data/\n",
      "/tmp/data/intermediate/NovaSAR_01_14265_slc_200822_233314_HH_tmp/NovaSAR_01_14265_slc_11_200822_233327_HH_4_ML_TC_TF_cog/\n"
     ]
    },
    {
     "name": "stderr",
     "output_type": "stream",
     "text": [
      "INFO:snap_stderr:stderr:INFO: org.esa.snap.core.gpf.operators.tooladapter.ToolAdapterIO: Initializing external tool adapters\n",
      "INFO:snap_stderr:stderr:INFO: org.esa.s2tbx.dataio.gdal.GDALVersion: Incompatible GDAL 3.1.4 found on system. Internal GDAL 3.0.0 from distribution will be used.\n",
      "INFO:snap_stderr:stderr:INFO: org.esa.s2tbx.dataio.gdal.GDALVersion: Internal GDAL 3.0.0 set to be used by SNAP.\n",
      "INFO:snap_stderr:stderr:INFO: org.esa.snap.core.util.EngineVersionCheckActivator: Please check regularly for new updates for the best SNAP experience.\n",
      "INFO:snap_stderr:stderr:INFO: org.esa.s2tbx.dataio.gdal.GDALVersion: Internal GDAL 3.0.0 set to be used by SNAP.\n",
      "INFO:snap_stdout:Executing processing graph\n",
      "INFO:snap_stderr:stderr:INFO: org.hsqldb.persist.Logger: dataFileCache open start\n",
      "INFO:snap_stdout:....10%....20%....30%....40%....50%....60%....70%....80%....90% done.\n"
     ]
    },
    {
     "name": "stdout",
     "output_type": "stream",
     "text": [
      "/tmp/data/intermediate/NovaSAR_01_14265_slc_200822_233314_HH_tmp/NovaSAR_01_14265_slc_11_200822_233327_HH_4_ML_TC_TF_cog/NovaSAR_01_14265_slc_11_200822_233327_HH_4_Gamma0_Intensity_HH_db.tif\n",
      "2020-11-17 20:41:54 Starting conversion: /tmp/data/intermediate/NovaSAR_01_14265_slc_200822_233314_HH_tmp/NovaSAR_01_14265_slc_11_200822_233327_HH_4_ML_TC_TF.data/Gamma0_Intensity_HH_db.img.\n",
      "2020-11-17 20:42:02 Conversion complete: True.\n"
     ]
    },
    {
     "name": "stderr",
     "output_type": "stream",
     "text": [
      "DEBUG:root:running ['/opt/snap/bin/gpt', '/opt/notebooks/anc/novasar_slc_tf_tc.xml', '-Pinput=/tmp/data/intermediate/NovaSAR_01_14265_slc_200822_233314_HH_tmp/NovaSAR_01_14265_slc_200822_233314_HH/SV229/Image_Products$/NovaSAR_01_14265_slc_200822_233314_HH_/NovaSAR_01_14265_slc_11_200822_233331_HH_5/metadata.xml', '-Poutput=/tmp/data/intermediate/NovaSAR_01_14265_slc_200822_233314_HH_tmp/NovaSAR_01_14265_slc_11_200822_233331_HH_5_ML_TC_TF.dim']\n"
     ]
    },
    {
     "name": "stdout",
     "output_type": "stream",
     "text": [
      "NovaSAR_01_14265_slc_11_200822_233331_HH_5\n",
      "/tmp/data/intermediate/NovaSAR_01_14265_slc_200822_233314_HH_tmp/NovaSAR_01_14265_slc_11_200822_233331_HH_5_ML_TC_TF.data/\n",
      "/tmp/data/intermediate/NovaSAR_01_14265_slc_200822_233314_HH_tmp/NovaSAR_01_14265_slc_11_200822_233331_HH_5_ML_TC_TF_cog/\n"
     ]
    },
    {
     "name": "stderr",
     "output_type": "stream",
     "text": [
      "INFO:snap_stderr:stderr:INFO: org.esa.snap.core.gpf.operators.tooladapter.ToolAdapterIO: Initializing external tool adapters\n",
      "INFO:snap_stderr:stderr:INFO: org.esa.s2tbx.dataio.gdal.GDALVersion: Incompatible GDAL 3.1.4 found on system. Internal GDAL 3.0.0 from distribution will be used.\n",
      "INFO:snap_stderr:stderr:INFO: org.esa.s2tbx.dataio.gdal.GDALVersion: Internal GDAL 3.0.0 set to be used by SNAP.\n",
      "INFO:snap_stderr:stderr:INFO: org.esa.snap.core.util.EngineVersionCheckActivator: Please check regularly for new updates for the best SNAP experience.\n",
      "INFO:snap_stderr:stderr:INFO: org.esa.s2tbx.dataio.gdal.GDALVersion: Internal GDAL 3.0.0 set to be used by SNAP.\n",
      "INFO:snap_stdout:Executing processing graph\n",
      "INFO:snap_stderr:stderr:INFO: org.hsqldb.persist.Logger: dataFileCache open start\n",
      "INFO:snap_stdout:....10%....20%....30%....40%....50%....60%....70%....80%....90% done.\n"
     ]
    },
    {
     "name": "stdout",
     "output_type": "stream",
     "text": [
      "/tmp/data/intermediate/NovaSAR_01_14265_slc_200822_233314_HH_tmp/NovaSAR_01_14265_slc_11_200822_233331_HH_5_ML_TC_TF_cog/NovaSAR_01_14265_slc_11_200822_233331_HH_5_Gamma0_Intensity_HH_db.tif\n",
      "2020-11-17 20:46:55 Starting conversion: /tmp/data/intermediate/NovaSAR_01_14265_slc_200822_233314_HH_tmp/NovaSAR_01_14265_slc_11_200822_233331_HH_5_ML_TC_TF.data/Gamma0_Intensity_HH_db.img.\n",
      "2020-11-17 20:47:03 Conversion complete: True.\n"
     ]
    },
    {
     "name": "stderr",
     "output_type": "stream",
     "text": [
      "DEBUG:root:running ['/opt/snap/bin/gpt', '/opt/notebooks/anc/novasar_slc_tf_tc.xml', '-Pinput=/tmp/data/intermediate/NovaSAR_01_14265_slc_200822_233314_HH_tmp/NovaSAR_01_14265_slc_200822_233314_HH/SV229/Image_Products$/NovaSAR_01_14265_slc_200822_233314_HH_/NovaSAR_01_14265_slc_11_200822_233335_HH_6/metadata.xml', '-Poutput=/tmp/data/intermediate/NovaSAR_01_14265_slc_200822_233314_HH_tmp/NovaSAR_01_14265_slc_11_200822_233335_HH_6_ML_TC_TF.dim']\n"
     ]
    },
    {
     "name": "stdout",
     "output_type": "stream",
     "text": [
      "NovaSAR_01_14265_slc_11_200822_233335_HH_6\n",
      "/tmp/data/intermediate/NovaSAR_01_14265_slc_200822_233314_HH_tmp/NovaSAR_01_14265_slc_11_200822_233335_HH_6_ML_TC_TF.data/\n",
      "/tmp/data/intermediate/NovaSAR_01_14265_slc_200822_233314_HH_tmp/NovaSAR_01_14265_slc_11_200822_233335_HH_6_ML_TC_TF_cog/\n"
     ]
    },
    {
     "name": "stderr",
     "output_type": "stream",
     "text": [
      "INFO:snap_stderr:stderr:INFO: org.esa.snap.core.gpf.operators.tooladapter.ToolAdapterIO: Initializing external tool adapters\n",
      "INFO:snap_stderr:stderr:INFO: org.esa.s2tbx.dataio.gdal.GDALVersion: Incompatible GDAL 3.1.4 found on system. Internal GDAL 3.0.0 from distribution will be used.\n",
      "INFO:snap_stderr:stderr:INFO: org.esa.s2tbx.dataio.gdal.GDALVersion: Internal GDAL 3.0.0 set to be used by SNAP.\n",
      "INFO:snap_stderr:stderr:INFO: org.esa.snap.core.util.EngineVersionCheckActivator: Please check regularly for new updates for the best SNAP experience.\n",
      "INFO:snap_stderr:stderr:INFO: org.esa.s2tbx.dataio.gdal.GDALVersion: Internal GDAL 3.0.0 set to be used by SNAP.\n",
      "INFO:snap_stdout:Executing processing graph\n",
      "INFO:snap_stderr:stderr:INFO: org.hsqldb.persist.Logger: dataFileCache open start\n",
      "INFO:snap_stdout:....10%....20%....30%....40%....50%....60%....70%....80%....90% done.\n"
     ]
    },
    {
     "name": "stdout",
     "output_type": "stream",
     "text": [
      "/tmp/data/intermediate/NovaSAR_01_14265_slc_200822_233314_HH_tmp/NovaSAR_01_14265_slc_11_200822_233335_HH_6_ML_TC_TF_cog/NovaSAR_01_14265_slc_11_200822_233335_HH_6_Gamma0_Intensity_HH_db.tif\n",
      "2020-11-17 20:52:45 Starting conversion: /tmp/data/intermediate/NovaSAR_01_14265_slc_200822_233314_HH_tmp/NovaSAR_01_14265_slc_11_200822_233335_HH_6_ML_TC_TF.data/Gamma0_Intensity_HH_db.img.\n",
      "2020-11-17 20:53:00 Conversion complete: True.\n"
     ]
    },
    {
     "name": "stderr",
     "output_type": "stream",
     "text": [
      "DEBUG:root:running ['/opt/snap/bin/gpt', '/opt/notebooks/anc/novasar_slc_tf_tc.xml', '-Pinput=/tmp/data/intermediate/NovaSAR_01_14265_slc_200822_233314_HH_tmp/NovaSAR_01_14265_slc_200822_233314_HH/SV229/Image_Products$/NovaSAR_01_14265_slc_200822_233314_HH_/NovaSAR_01_14265_slc_11_200822_233340_HH_7/metadata.xml', '-Poutput=/tmp/data/intermediate/NovaSAR_01_14265_slc_200822_233314_HH_tmp/NovaSAR_01_14265_slc_11_200822_233340_HH_7_ML_TC_TF.dim']\n"
     ]
    },
    {
     "name": "stdout",
     "output_type": "stream",
     "text": [
      "NovaSAR_01_14265_slc_11_200822_233340_HH_7\n",
      "/tmp/data/intermediate/NovaSAR_01_14265_slc_200822_233314_HH_tmp/NovaSAR_01_14265_slc_11_200822_233340_HH_7_ML_TC_TF.data/\n",
      "/tmp/data/intermediate/NovaSAR_01_14265_slc_200822_233314_HH_tmp/NovaSAR_01_14265_slc_11_200822_233340_HH_7_ML_TC_TF_cog/\n"
     ]
    },
    {
     "name": "stderr",
     "output_type": "stream",
     "text": [
      "INFO:snap_stderr:stderr:INFO: org.esa.snap.core.gpf.operators.tooladapter.ToolAdapterIO: Initializing external tool adapters\n",
      "INFO:snap_stderr:stderr:INFO: org.esa.s2tbx.dataio.gdal.GDALVersion: Incompatible GDAL 3.1.4 found on system. Internal GDAL 3.0.0 from distribution will be used.\n",
      "INFO:snap_stderr:stderr:INFO: org.esa.s2tbx.dataio.gdal.GDALVersion: Internal GDAL 3.0.0 set to be used by SNAP.\n",
      "INFO:snap_stderr:stderr:INFO: org.esa.snap.core.util.EngineVersionCheckActivator: Please check regularly for new updates for the best SNAP experience.\n",
      "INFO:snap_stderr:stderr:INFO: org.esa.s2tbx.dataio.gdal.GDALVersion: Internal GDAL 3.0.0 set to be used by SNAP.\n",
      "INFO:snap_stdout:Executing processing graph\n",
      "INFO:snap_stderr:stderr:INFO: org.hsqldb.persist.Logger: dataFileCache open start\n",
      "INFO:snap_stdout:....10%....20%....30%....40%....50%....60%....70%....80%....90% done.\n"
     ]
    },
    {
     "name": "stdout",
     "output_type": "stream",
     "text": [
      "/tmp/data/intermediate/NovaSAR_01_14265_slc_200822_233314_HH_tmp/NovaSAR_01_14265_slc_11_200822_233340_HH_7_ML_TC_TF_cog/NovaSAR_01_14265_slc_11_200822_233340_HH_7_Gamma0_Intensity_HH_db.tif\n",
      "2020-11-17 20:57:30 Starting conversion: /tmp/data/intermediate/NovaSAR_01_14265_slc_200822_233314_HH_tmp/NovaSAR_01_14265_slc_11_200822_233340_HH_7_ML_TC_TF.data/Gamma0_Intensity_HH_db.img.\n",
      "2020-11-17 20:57:38 Conversion complete: True.\n"
     ]
    },
    {
     "name": "stderr",
     "output_type": "stream",
     "text": [
      "DEBUG:root:running ['/opt/snap/bin/gpt', '/opt/notebooks/anc/novasar_slc_tf_tc.xml', '-Pinput=/tmp/data/intermediate/NovaSAR_01_14265_slc_200822_233314_HH_tmp/NovaSAR_01_14265_slc_200822_233314_HH/SV229/Image_Products$/NovaSAR_01_14265_slc_200822_233314_HH_/NovaSAR_01_14265_slc_11_200822_233344_HH_8/metadata.xml', '-Poutput=/tmp/data/intermediate/NovaSAR_01_14265_slc_200822_233314_HH_tmp/NovaSAR_01_14265_slc_11_200822_233344_HH_8_ML_TC_TF.dim']\n"
     ]
    },
    {
     "name": "stdout",
     "output_type": "stream",
     "text": [
      "NovaSAR_01_14265_slc_11_200822_233344_HH_8\n",
      "/tmp/data/intermediate/NovaSAR_01_14265_slc_200822_233314_HH_tmp/NovaSAR_01_14265_slc_11_200822_233344_HH_8_ML_TC_TF.data/\n",
      "/tmp/data/intermediate/NovaSAR_01_14265_slc_200822_233314_HH_tmp/NovaSAR_01_14265_slc_11_200822_233344_HH_8_ML_TC_TF_cog/\n"
     ]
    },
    {
     "name": "stderr",
     "output_type": "stream",
     "text": [
      "INFO:snap_stderr:stderr:INFO: org.esa.snap.core.gpf.operators.tooladapter.ToolAdapterIO: Initializing external tool adapters\n",
      "INFO:snap_stderr:stderr:INFO: org.esa.s2tbx.dataio.gdal.GDALVersion: Incompatible GDAL 3.1.4 found on system. Internal GDAL 3.0.0 from distribution will be used.\n",
      "INFO:snap_stderr:stderr:INFO: org.esa.s2tbx.dataio.gdal.GDALVersion: Internal GDAL 3.0.0 set to be used by SNAP.\n",
      "INFO:snap_stderr:stderr:INFO: org.esa.snap.core.util.EngineVersionCheckActivator: Please check regularly for new updates for the best SNAP experience.\n",
      "INFO:snap_stderr:stderr:INFO: org.esa.s2tbx.dataio.gdal.GDALVersion: Internal GDAL 3.0.0 set to be used by SNAP.\n",
      "INFO:snap_stdout:Executing processing graph\n",
      "INFO:snap_stderr:stderr:INFO: org.hsqldb.persist.Logger: dataFileCache open start\n",
      "INFO:snap_stderr:stderr:INFO: org.esa.snap.core.dataop.dem.ElevationFile: http retrieving http://step.esa.int/auxdata/dem/SRTMGL1/N49W003.SRTMGL1.hgt.zip\n",
      "INFO:snap_stdout:....10%....20%....30%....40%....50%....60%....70%....80%....90% done.\n"
     ]
    },
    {
     "name": "stdout",
     "output_type": "stream",
     "text": [
      "/tmp/data/intermediate/NovaSAR_01_14265_slc_200822_233314_HH_tmp/NovaSAR_01_14265_slc_11_200822_233344_HH_8_ML_TC_TF_cog/NovaSAR_01_14265_slc_11_200822_233344_HH_8_Gamma0_Intensity_HH_db.tif\n",
      "2020-11-17 21:02:08 Starting conversion: /tmp/data/intermediate/NovaSAR_01_14265_slc_200822_233314_HH_tmp/NovaSAR_01_14265_slc_11_200822_233344_HH_8_ML_TC_TF.data/Gamma0_Intensity_HH_db.img.\n",
      "2020-11-17 21:02:15 Conversion complete: True.\n"
     ]
    },
    {
     "name": "stderr",
     "output_type": "stream",
     "text": [
      "DEBUG:root:running ['/opt/snap/bin/gpt', '/opt/notebooks/anc/novasar_slc_tf_tc.xml', '-Pinput=/tmp/data/intermediate/NovaSAR_01_14265_slc_200822_233314_HH_tmp/NovaSAR_01_14265_slc_200822_233314_HH/SV229/Image_Products$/NovaSAR_01_14265_slc_200822_233314_HH_/NovaSAR_01_14265_slc_11_200822_233348_HH_9/metadata.xml', '-Poutput=/tmp/data/intermediate/NovaSAR_01_14265_slc_200822_233314_HH_tmp/NovaSAR_01_14265_slc_11_200822_233348_HH_9_ML_TC_TF.dim']\n"
     ]
    },
    {
     "name": "stdout",
     "output_type": "stream",
     "text": [
      "NovaSAR_01_14265_slc_11_200822_233348_HH_9\n",
      "/tmp/data/intermediate/NovaSAR_01_14265_slc_200822_233314_HH_tmp/NovaSAR_01_14265_slc_11_200822_233348_HH_9_ML_TC_TF.data/\n",
      "/tmp/data/intermediate/NovaSAR_01_14265_slc_200822_233314_HH_tmp/NovaSAR_01_14265_slc_11_200822_233348_HH_9_ML_TC_TF_cog/\n"
     ]
    },
    {
     "name": "stderr",
     "output_type": "stream",
     "text": [
      "INFO:snap_stderr:stderr:INFO: org.esa.snap.core.gpf.operators.tooladapter.ToolAdapterIO: Initializing external tool adapters\n",
      "INFO:snap_stderr:stderr:INFO: org.esa.s2tbx.dataio.gdal.GDALVersion: Incompatible GDAL 3.1.4 found on system. Internal GDAL 3.0.0 from distribution will be used.\n",
      "INFO:snap_stderr:stderr:INFO: org.esa.s2tbx.dataio.gdal.GDALVersion: Internal GDAL 3.0.0 set to be used by SNAP.\n",
      "INFO:snap_stderr:stderr:INFO: org.esa.snap.core.util.EngineVersionCheckActivator: Please check regularly for new updates for the best SNAP experience.\n",
      "INFO:snap_stderr:stderr:INFO: org.esa.s2tbx.dataio.gdal.GDALVersion: Internal GDAL 3.0.0 set to be used by SNAP.\n",
      "INFO:snap_stdout:Executing processing graph\n",
      "INFO:snap_stderr:stderr:INFO: org.hsqldb.persist.Logger: dataFileCache open start\n",
      "INFO:snap_stdout:....10%....20%....30%....40%....50%....60%....70%....80%....90% done.\n"
     ]
    },
    {
     "name": "stdout",
     "output_type": "stream",
     "text": [
      "/tmp/data/intermediate/NovaSAR_01_14265_slc_200822_233314_HH_tmp/NovaSAR_01_14265_slc_11_200822_233348_HH_9_ML_TC_TF_cog/NovaSAR_01_14265_slc_11_200822_233348_HH_9_Gamma0_Intensity_HH_db.tif\n",
      "2020-11-17 21:07:08 Starting conversion: /tmp/data/intermediate/NovaSAR_01_14265_slc_200822_233314_HH_tmp/NovaSAR_01_14265_slc_11_200822_233348_HH_9_ML_TC_TF.data/Gamma0_Intensity_HH_db.img.\n",
      "2020-11-17 21:07:16 Conversion complete: True.\n"
     ]
    },
    {
     "name": "stderr",
     "output_type": "stream",
     "text": [
      "DEBUG:root:running ['/opt/snap/bin/gpt', '/opt/notebooks/anc/novasar_slc_tf_tc.xml', '-Pinput=/tmp/data/intermediate/NovaSAR_01_14265_slc_200822_233314_HH_tmp/NovaSAR_01_14265_slc_200822_233314_HH/SV229/Image_Products$/NovaSAR_01_14265_slc_200822_233314_HH_/NovaSAR_01_14265_slc_11_200822_233352_HH_10/metadata.xml', '-Poutput=/tmp/data/intermediate/NovaSAR_01_14265_slc_200822_233314_HH_tmp/NovaSAR_01_14265_slc_11_200822_233352_HH_10_ML_TC_TF.dim']\n"
     ]
    },
    {
     "name": "stdout",
     "output_type": "stream",
     "text": [
      "NovaSAR_01_14265_slc_11_200822_233352_HH_10\n",
      "/tmp/data/intermediate/NovaSAR_01_14265_slc_200822_233314_HH_tmp/NovaSAR_01_14265_slc_11_200822_233352_HH_10_ML_TC_TF.data/\n",
      "/tmp/data/intermediate/NovaSAR_01_14265_slc_200822_233314_HH_tmp/NovaSAR_01_14265_slc_11_200822_233352_HH_10_ML_TC_TF_cog/\n"
     ]
    },
    {
     "name": "stderr",
     "output_type": "stream",
     "text": [
      "INFO:snap_stderr:stderr:INFO: org.esa.snap.core.gpf.operators.tooladapter.ToolAdapterIO: Initializing external tool adapters\n",
      "INFO:snap_stderr:stderr:INFO: org.esa.s2tbx.dataio.gdal.GDALVersion: Incompatible GDAL 3.1.4 found on system. Internal GDAL 3.0.0 from distribution will be used.\n",
      "INFO:snap_stderr:stderr:INFO: org.esa.s2tbx.dataio.gdal.GDALVersion: Internal GDAL 3.0.0 set to be used by SNAP.\n",
      "INFO:snap_stderr:stderr:INFO: org.esa.snap.core.util.EngineVersionCheckActivator: Please check regularly for new updates for the best SNAP experience.\n",
      "INFO:snap_stderr:stderr:INFO: org.esa.s2tbx.dataio.gdal.GDALVersion: Internal GDAL 3.0.0 set to be used by SNAP.\n",
      "INFO:snap_stdout:Executing processing graph\n",
      "INFO:snap_stderr:stderr:INFO: org.hsqldb.persist.Logger: dataFileCache open start\n",
      "INFO:snap_stdout:....10%....20%....30%....40%....50%....60%....70%....80%....90% done.\n"
     ]
    },
    {
     "name": "stdout",
     "output_type": "stream",
     "text": [
      "/tmp/data/intermediate/NovaSAR_01_14265_slc_200822_233314_HH_tmp/NovaSAR_01_14265_slc_11_200822_233352_HH_10_ML_TC_TF_cog/NovaSAR_01_14265_slc_11_200822_233352_HH_10_Gamma0_Intensity_HH_db.tif\n",
      "2020-11-17 21:13:21 Starting conversion: /tmp/data/intermediate/NovaSAR_01_14265_slc_200822_233314_HH_tmp/NovaSAR_01_14265_slc_11_200822_233352_HH_10_ML_TC_TF.data/Gamma0_Intensity_HH_db.img.\n",
      "2020-11-17 21:13:34 Conversion complete: True.\n",
      "2020-11-17 21:14:49 Prepared NovaSAR_01_14265_slc_200822_233314_HH at novasar_uk_test/\n",
      "2020-11-17 21:14:49 Preparing NovaSAR_01_13612_slc_11_200803_231954_HH_5 within /tmp/data/intermediate/NovaSAR_01_13612_slc_11_200803_231954_HH_5_tmp/\n"
     ]
    },
    {
     "name": "stderr",
     "output_type": "stream",
     "text": [
      "DEBUG:sedas_api:successful login.\n",
      "DEBUG:sedas_api:successful login.\n",
      "DEBUG:sedas_api:successful login.\n",
      "DEBUG:sedas_api:successful login.\n",
      "DEBUG:sedas_api:successful login.\n",
      "INFO:bulk_downloader:0 downloads pending, 0 downloads in progress, 0 requests pending\n",
      "INFO:bulk_downloader:2 active threads, 0 restarted.\n"
     ]
    },
    {
     "name": "stdout",
     "output_type": "stream",
     "text": [
      "2020-11-17 21:14:50 Downloading\n"
     ]
    },
    {
     "name": "stderr",
     "output_type": "stream",
     "text": [
      "DEBUG:bulk_downloader:1 downloads pending\n",
      "DEBUG:bulk_downloader:1 downloads pending\n",
      "INFO:bulk_downloader:downloading NovaSAR_01_13612_slc_11_200803_231954_HH_5 to /tmp/data/intermediate/NovaSAR_01_13612_slc_11_200803_231954_HH_5_tmp/NovaSAR_01_13612_slc_11_200803_231954_HH_5.zip\n",
      "DEBUG:sedas_api:successful login.\n",
      "INFO:bulk_downloader:0 downloads pending, 1 downloads in progress, 0 requests pending\n",
      "INFO:bulk_downloader:2 active threads, 0 restarted.\n",
      "INFO:bulk_downloader:0 downloads pending, 1 downloads in progress, 0 requests pending\n",
      "INFO:bulk_downloader:2 active threads, 0 restarted.\n",
      "INFO:bulk_downloader:0 downloads pending, 1 downloads in progress, 0 requests pending\n",
      "INFO:bulk_downloader:2 active threads, 0 restarted.\n",
      "INFO:bulk_downloader:0 downloads pending, 1 downloads in progress, 0 requests pending\n",
      "INFO:bulk_downloader:2 active threads, 0 restarted.\n",
      "INFO:bulk_downloader:0 downloads pending, 1 downloads in progress, 0 requests pending\n",
      "INFO:bulk_downloader:2 active threads, 0 restarted.\n",
      "DEBUG:bulk_downloader:monitor thread stopping\n"
     ]
    },
    {
     "name": "stdout",
     "output_type": "stream",
     "text": [
      "2020-11-17 21:15:20 Downloaded\n",
      "2020-11-17 21:15:20 Extracting /tmp/data/intermediate/NovaSAR_01_13612_slc_11_200803_231954_HH_5_tmp/NovaSAR_01_13612_slc_11_200803_231954_HH_5.zip\n"
     ]
    },
    {
     "name": "stderr",
     "output_type": "stream",
     "text": [
      "DEBUG:bulk_downloader:0 downloads pending\n",
      "DEBUG:bulk_downloader:requests thread stopping\n",
      "DEBUG:root:running ['/opt/snap/bin/gpt', '/opt/notebooks/anc/novasar_slc_tf_tc.xml', '-Pinput=/tmp/data/intermediate/NovaSAR_01_13612_slc_11_200803_231954_HH_5_tmp/NovaSAR_01_13612_slc_11_200803_231954_HH_5/NovaSAR_01_13612_slc_11_200803_231954_HH_5/metadata.xml', '-Poutput=/tmp/data/intermediate/NovaSAR_01_13612_slc_11_200803_231954_HH_5_tmp/NovaSAR_01_13612_slc_11_200803_231954_HH_5_ML_TC_TF.dim']\n"
     ]
    },
    {
     "name": "stdout",
     "output_type": "stream",
     "text": [
      "2020-11-17 21:15:40 Extracted to /tmp/data/intermediate/NovaSAR_01_13612_slc_11_200803_231954_HH_5_tmp/NovaSAR_01_13612_slc_11_200803_231954_HH_5/\n",
      "NovaSAR_01_13612_slc_11_200803_231954_HH_5\n",
      "/tmp/data/intermediate/NovaSAR_01_13612_slc_11_200803_231954_HH_5_tmp/NovaSAR_01_13612_slc_11_200803_231954_HH_5_ML_TC_TF.data/\n",
      "/tmp/data/intermediate/NovaSAR_01_13612_slc_11_200803_231954_HH_5_tmp/NovaSAR_01_13612_slc_11_200803_231954_HH_5_ML_TC_TF_cog/\n"
     ]
    },
    {
     "name": "stderr",
     "output_type": "stream",
     "text": [
      "INFO:snap_stderr:stderr:INFO: org.esa.snap.core.gpf.operators.tooladapter.ToolAdapterIO: Initializing external tool adapters\n",
      "INFO:snap_stderr:stderr:INFO: org.esa.s2tbx.dataio.gdal.GDALVersion: Incompatible GDAL 3.1.4 found on system. Internal GDAL 3.0.0 from distribution will be used.\n",
      "INFO:snap_stderr:stderr:INFO: org.esa.s2tbx.dataio.gdal.GDALVersion: Internal GDAL 3.0.0 set to be used by SNAP.\n",
      "INFO:snap_stderr:stderr:INFO: org.esa.snap.core.util.EngineVersionCheckActivator: Please check regularly for new updates for the best SNAP experience.\n",
      "INFO:snap_stderr:stderr:INFO: org.esa.s2tbx.dataio.gdal.GDALVersion: Internal GDAL 3.0.0 set to be used by SNAP.\n",
      "INFO:snap_stdout:Executing processing graph\n",
      "INFO:snap_stderr:stderr:INFO: org.hsqldb.persist.Logger: dataFileCache open start\n",
      "INFO:snap_stdout:....10%....20%....30%....40%....50%....60%....70%....80%....90% done.\n"
     ]
    },
    {
     "name": "stdout",
     "output_type": "stream",
     "text": [
      "/tmp/data/intermediate/NovaSAR_01_13612_slc_11_200803_231954_HH_5_tmp/NovaSAR_01_13612_slc_11_200803_231954_HH_5_ML_TC_TF_cog/NovaSAR_01_13612_slc_11_200803_231954_HH_5_Gamma0_Intensity_HH_db.tif\n",
      "2020-11-17 21:21:47 Starting conversion: /tmp/data/intermediate/NovaSAR_01_13612_slc_11_200803_231954_HH_5_tmp/NovaSAR_01_13612_slc_11_200803_231954_HH_5_ML_TC_TF.data/Gamma0_Intensity_HH_db.img.\n",
      "2020-11-17 21:21:59 Conversion complete: True.\n"
     ]
    },
    {
     "name": "stderr",
     "output_type": "stream",
     "text": [
      "DEBUG:sedas_api:successful login.\n"
     ]
    },
    {
     "name": "stdout",
     "output_type": "stream",
     "text": [
      "2020-11-17 21:23:25 Prepared NovaSAR_01_13612_slc_11_200803_231954_HH_5 at novasar_uk_test/\n",
      "2020-11-17 21:23:25 Preparing NovaSAR_01_13612_slc_11_200803_231949_HH_4 within /tmp/data/intermediate/NovaSAR_01_13612_slc_11_200803_231949_HH_4_tmp/\n"
     ]
    },
    {
     "name": "stderr",
     "output_type": "stream",
     "text": [
      "DEBUG:sedas_api:successful login.\n",
      "DEBUG:sedas_api:successful login.\n",
      "DEBUG:sedas_api:successful login.\n",
      "DEBUG:sedas_api:successful login.\n",
      "INFO:bulk_downloader:0 downloads pending, 0 downloads in progress, 0 requests pending\n",
      "INFO:bulk_downloader:2 active threads, 0 restarted.\n"
     ]
    },
    {
     "name": "stdout",
     "output_type": "stream",
     "text": [
      "2020-11-17 21:23:26 Downloading\n"
     ]
    },
    {
     "name": "stderr",
     "output_type": "stream",
     "text": [
      "DEBUG:bulk_downloader:1 downloads pending\n",
      "DEBUG:bulk_downloader:1 downloads pending\n",
      "INFO:bulk_downloader:downloading NovaSAR_01_13612_slc_11_200803_231949_HH_4 to /tmp/data/intermediate/NovaSAR_01_13612_slc_11_200803_231949_HH_4_tmp/NovaSAR_01_13612_slc_11_200803_231949_HH_4.zip\n",
      "DEBUG:sedas_api:successful login.\n",
      "INFO:bulk_downloader:0 downloads pending, 1 downloads in progress, 0 requests pending\n",
      "INFO:bulk_downloader:2 active threads, 0 restarted.\n",
      "INFO:bulk_downloader:0 downloads pending, 1 downloads in progress, 0 requests pending\n",
      "INFO:bulk_downloader:2 active threads, 0 restarted.\n",
      "INFO:bulk_downloader:0 downloads pending, 1 downloads in progress, 0 requests pending\n",
      "INFO:bulk_downloader:2 active threads, 0 restarted.\n",
      "DEBUG:bulk_downloader:0 downloads pending\n",
      "DEBUG:bulk_downloader:requests thread stopping\n",
      "DEBUG:bulk_downloader:monitor thread stopping\n"
     ]
    },
    {
     "name": "stdout",
     "output_type": "stream",
     "text": [
      "2020-11-17 21:23:46 Downloaded\n",
      "2020-11-17 21:23:46 Extracting /tmp/data/intermediate/NovaSAR_01_13612_slc_11_200803_231949_HH_4_tmp/NovaSAR_01_13612_slc_11_200803_231949_HH_4.zip\n"
     ]
    },
    {
     "name": "stderr",
     "output_type": "stream",
     "text": [
      "DEBUG:root:running ['/opt/snap/bin/gpt', '/opt/notebooks/anc/novasar_slc_tf_tc.xml', '-Pinput=/tmp/data/intermediate/NovaSAR_01_13612_slc_11_200803_231949_HH_4_tmp/NovaSAR_01_13612_slc_11_200803_231949_HH_4/NovaSAR_01_13612_slc_11_200803_231949_HH_4/metadata.xml', '-Poutput=/tmp/data/intermediate/NovaSAR_01_13612_slc_11_200803_231949_HH_4_tmp/NovaSAR_01_13612_slc_11_200803_231949_HH_4_ML_TC_TF.dim']\n"
     ]
    },
    {
     "name": "stdout",
     "output_type": "stream",
     "text": [
      "2020-11-17 21:23:59 Extracted to /tmp/data/intermediate/NovaSAR_01_13612_slc_11_200803_231949_HH_4_tmp/NovaSAR_01_13612_slc_11_200803_231949_HH_4/\n",
      "NovaSAR_01_13612_slc_11_200803_231949_HH_4\n",
      "/tmp/data/intermediate/NovaSAR_01_13612_slc_11_200803_231949_HH_4_tmp/NovaSAR_01_13612_slc_11_200803_231949_HH_4_ML_TC_TF.data/\n",
      "/tmp/data/intermediate/NovaSAR_01_13612_slc_11_200803_231949_HH_4_tmp/NovaSAR_01_13612_slc_11_200803_231949_HH_4_ML_TC_TF_cog/\n"
     ]
    },
    {
     "name": "stderr",
     "output_type": "stream",
     "text": [
      "INFO:snap_stderr:stderr:INFO: org.esa.snap.core.gpf.operators.tooladapter.ToolAdapterIO: Initializing external tool adapters\n",
      "INFO:snap_stderr:stderr:INFO: org.esa.s2tbx.dataio.gdal.GDALVersion: Incompatible GDAL 3.1.4 found on system. Internal GDAL 3.0.0 from distribution will be used.\n",
      "INFO:snap_stderr:stderr:INFO: org.esa.s2tbx.dataio.gdal.GDALVersion: Internal GDAL 3.0.0 set to be used by SNAP.\n",
      "INFO:snap_stderr:stderr:INFO: org.esa.snap.core.util.EngineVersionCheckActivator: Please check regularly for new updates for the best SNAP experience.\n",
      "INFO:snap_stderr:stderr:INFO: org.esa.s2tbx.dataio.gdal.GDALVersion: Internal GDAL 3.0.0 set to be used by SNAP.\n",
      "INFO:snap_stdout:Executing processing graph\n",
      "INFO:snap_stderr:stderr:INFO: org.hsqldb.persist.Logger: dataFileCache open start\n",
      "INFO:snap_stdout:....10%....20%....30%....40%....50%....60%....70%....80%....90% done.\n"
     ]
    },
    {
     "name": "stdout",
     "output_type": "stream",
     "text": [
      "/tmp/data/intermediate/NovaSAR_01_13612_slc_11_200803_231949_HH_4_tmp/NovaSAR_01_13612_slc_11_200803_231949_HH_4_ML_TC_TF_cog/NovaSAR_01_13612_slc_11_200803_231949_HH_4_Gamma0_Intensity_HH_db.tif\n",
      "2020-11-17 21:27:51 Starting conversion: /tmp/data/intermediate/NovaSAR_01_13612_slc_11_200803_231949_HH_4_tmp/NovaSAR_01_13612_slc_11_200803_231949_HH_4_ML_TC_TF.data/Gamma0_Intensity_HH_db.img.\n",
      "2020-11-17 21:27:59 Conversion complete: True.\n",
      "2020-11-17 21:28:46 Prepared NovaSAR_01_13612_slc_11_200803_231949_HH_4 at novasar_uk_test/\n",
      "2020-11-17 21:28:46 Preparing NovaSAR_01_13612_slc_11_200803_231945_HH_3 within /tmp/data/intermediate/NovaSAR_01_13612_slc_11_200803_231945_HH_3_tmp/\n"
     ]
    },
    {
     "name": "stderr",
     "output_type": "stream",
     "text": [
      "DEBUG:sedas_api:successful login.\n",
      "DEBUG:sedas_api:successful login.\n",
      "DEBUG:sedas_api:successful login.\n",
      "DEBUG:sedas_api:successful login.\n",
      "DEBUG:sedas_api:successful login.\n",
      "INFO:bulk_downloader:0 downloads pending, 0 downloads in progress, 0 requests pending\n",
      "INFO:bulk_downloader:2 active threads, 0 restarted.\n"
     ]
    },
    {
     "name": "stdout",
     "output_type": "stream",
     "text": [
      "2020-11-17 21:28:47 Downloading\n"
     ]
    },
    {
     "name": "stderr",
     "output_type": "stream",
     "text": [
      "DEBUG:bulk_downloader:1 downloads pending\n",
      "DEBUG:bulk_downloader:1 downloads pending\n",
      "INFO:bulk_downloader:downloading NovaSAR_01_13612_slc_11_200803_231945_HH_3 to /tmp/data/intermediate/NovaSAR_01_13612_slc_11_200803_231945_HH_3_tmp/NovaSAR_01_13612_slc_11_200803_231945_HH_3.zip\n",
      "DEBUG:sedas_api:successful login.\n",
      "INFO:bulk_downloader:0 downloads pending, 1 downloads in progress, 0 requests pending\n",
      "INFO:bulk_downloader:2 active threads, 0 restarted.\n",
      "INFO:bulk_downloader:0 downloads pending, 1 downloads in progress, 0 requests pending\n",
      "INFO:bulk_downloader:2 active threads, 0 restarted.\n",
      "INFO:bulk_downloader:0 downloads pending, 1 downloads in progress, 0 requests pending\n",
      "INFO:bulk_downloader:2 active threads, 0 restarted.\n",
      "DEBUG:bulk_downloader:0 downloads pending\n",
      "DEBUG:bulk_downloader:requests thread stopping\n",
      "DEBUG:bulk_downloader:monitor thread stopping\n"
     ]
    },
    {
     "name": "stdout",
     "output_type": "stream",
     "text": [
      "2020-11-17 21:29:07 Downloaded\n",
      "2020-11-17 21:29:07 Extracting /tmp/data/intermediate/NovaSAR_01_13612_slc_11_200803_231945_HH_3_tmp/NovaSAR_01_13612_slc_11_200803_231945_HH_3.zip\n"
     ]
    },
    {
     "name": "stderr",
     "output_type": "stream",
     "text": [
      "DEBUG:root:running ['/opt/snap/bin/gpt', '/opt/notebooks/anc/novasar_slc_tf_tc.xml', '-Pinput=/tmp/data/intermediate/NovaSAR_01_13612_slc_11_200803_231945_HH_3_tmp/NovaSAR_01_13612_slc_11_200803_231945_HH_3/NovaSAR_01_13612_slc_11_200803_231945_HH_3/metadata.xml', '-Poutput=/tmp/data/intermediate/NovaSAR_01_13612_slc_11_200803_231945_HH_3_tmp/NovaSAR_01_13612_slc_11_200803_231945_HH_3_ML_TC_TF.dim']\n"
     ]
    },
    {
     "name": "stdout",
     "output_type": "stream",
     "text": [
      "2020-11-17 21:29:19 Extracted to /tmp/data/intermediate/NovaSAR_01_13612_slc_11_200803_231945_HH_3_tmp/NovaSAR_01_13612_slc_11_200803_231945_HH_3/\n",
      "NovaSAR_01_13612_slc_11_200803_231945_HH_3\n",
      "/tmp/data/intermediate/NovaSAR_01_13612_slc_11_200803_231945_HH_3_tmp/NovaSAR_01_13612_slc_11_200803_231945_HH_3_ML_TC_TF.data/\n",
      "/tmp/data/intermediate/NovaSAR_01_13612_slc_11_200803_231945_HH_3_tmp/NovaSAR_01_13612_slc_11_200803_231945_HH_3_ML_TC_TF_cog/\n"
     ]
    },
    {
     "name": "stderr",
     "output_type": "stream",
     "text": [
      "INFO:snap_stderr:stderr:INFO: org.esa.snap.core.gpf.operators.tooladapter.ToolAdapterIO: Initializing external tool adapters\n",
      "INFO:snap_stderr:stderr:INFO: org.esa.s2tbx.dataio.gdal.GDALVersion: Incompatible GDAL 3.1.4 found on system. Internal GDAL 3.0.0 from distribution will be used.\n",
      "INFO:snap_stderr:stderr:INFO: org.esa.s2tbx.dataio.gdal.GDALVersion: Internal GDAL 3.0.0 set to be used by SNAP.\n",
      "INFO:snap_stderr:stderr:INFO: org.esa.snap.core.util.EngineVersionCheckActivator: Please check regularly for new updates for the best SNAP experience.\n",
      "INFO:snap_stderr:stderr:INFO: org.esa.s2tbx.dataio.gdal.GDALVersion: Internal GDAL 3.0.0 set to be used by SNAP.\n",
      "INFO:snap_stdout:Executing processing graph\n",
      "INFO:snap_stderr:stderr:INFO: org.hsqldb.persist.Logger: dataFileCache open start\n",
      "INFO:snap_stdout:....10%....20%....30%....40%....50%....60%....70%....80%....90% done.\n"
     ]
    },
    {
     "name": "stdout",
     "output_type": "stream",
     "text": [
      "/tmp/data/intermediate/NovaSAR_01_13612_slc_11_200803_231945_HH_3_tmp/NovaSAR_01_13612_slc_11_200803_231945_HH_3_ML_TC_TF_cog/NovaSAR_01_13612_slc_11_200803_231945_HH_3_Gamma0_Intensity_HH_db.tif\n",
      "2020-11-17 21:33:09 Starting conversion: /tmp/data/intermediate/NovaSAR_01_13612_slc_11_200803_231945_HH_3_tmp/NovaSAR_01_13612_slc_11_200803_231945_HH_3_ML_TC_TF.data/Gamma0_Intensity_HH_db.img.\n",
      "2020-11-17 21:33:17 Conversion complete: True.\n",
      "2020-11-17 21:34:03 Prepared NovaSAR_01_13612_slc_11_200803_231945_HH_3 at novasar_uk_test/\n",
      "2020-11-17 21:34:03 Preparing NovaSAR_01_13612_slc_11_200803_231941_HH_2 within /tmp/data/intermediate/NovaSAR_01_13612_slc_11_200803_231941_HH_2_tmp/\n"
     ]
    },
    {
     "name": "stderr",
     "output_type": "stream",
     "text": [
      "DEBUG:sedas_api:successful login.\n",
      "DEBUG:sedas_api:successful login.\n",
      "DEBUG:sedas_api:successful login.\n",
      "DEBUG:sedas_api:successful login.\n",
      "DEBUG:sedas_api:successful login.\n",
      "INFO:bulk_downloader:0 downloads pending, 0 downloads in progress, 0 requests pending\n",
      "INFO:bulk_downloader:2 active threads, 0 restarted.\n"
     ]
    },
    {
     "name": "stdout",
     "output_type": "stream",
     "text": [
      "2020-11-17 21:34:04 Downloading\n"
     ]
    },
    {
     "name": "stderr",
     "output_type": "stream",
     "text": [
      "DEBUG:bulk_downloader:1 downloads pending\n",
      "DEBUG:bulk_downloader:1 downloads pending\n",
      "INFO:bulk_downloader:downloading NovaSAR_01_13612_slc_11_200803_231941_HH_2 to /tmp/data/intermediate/NovaSAR_01_13612_slc_11_200803_231941_HH_2_tmp/NovaSAR_01_13612_slc_11_200803_231941_HH_2.zip\n",
      "DEBUG:sedas_api:successful login.\n",
      "INFO:bulk_downloader:0 downloads pending, 1 downloads in progress, 0 requests pending\n",
      "INFO:bulk_downloader:2 active threads, 0 restarted.\n",
      "INFO:bulk_downloader:0 downloads pending, 1 downloads in progress, 0 requests pending\n",
      "INFO:bulk_downloader:2 active threads, 0 restarted.\n",
      "INFO:bulk_downloader:0 downloads pending, 1 downloads in progress, 0 requests pending\n",
      "INFO:bulk_downloader:2 active threads, 0 restarted.\n",
      "DEBUG:bulk_downloader:0 downloads pending\n",
      "DEBUG:bulk_downloader:monitor thread stopping\n"
     ]
    },
    {
     "name": "stdout",
     "output_type": "stream",
     "text": [
      "2020-11-17 21:34:24 Downloaded\n",
      "2020-11-17 21:34:24 Extracting /tmp/data/intermediate/NovaSAR_01_13612_slc_11_200803_231941_HH_2_tmp/NovaSAR_01_13612_slc_11_200803_231941_HH_2.zip\n"
     ]
    },
    {
     "name": "stderr",
     "output_type": "stream",
     "text": [
      "DEBUG:bulk_downloader:requests thread stopping\n",
      "DEBUG:root:running ['/opt/snap/bin/gpt', '/opt/notebooks/anc/novasar_slc_tf_tc.xml', '-Pinput=/tmp/data/intermediate/NovaSAR_01_13612_slc_11_200803_231941_HH_2_tmp/NovaSAR_01_13612_slc_11_200803_231941_HH_2/NovaSAR_01_13612_slc_11_200803_231941_HH_2/metadata.xml', '-Poutput=/tmp/data/intermediate/NovaSAR_01_13612_slc_11_200803_231941_HH_2_tmp/NovaSAR_01_13612_slc_11_200803_231941_HH_2_ML_TC_TF.dim']\n"
     ]
    },
    {
     "name": "stdout",
     "output_type": "stream",
     "text": [
      "2020-11-17 21:34:36 Extracted to /tmp/data/intermediate/NovaSAR_01_13612_slc_11_200803_231941_HH_2_tmp/NovaSAR_01_13612_slc_11_200803_231941_HH_2/\n",
      "NovaSAR_01_13612_slc_11_200803_231941_HH_2\n",
      "/tmp/data/intermediate/NovaSAR_01_13612_slc_11_200803_231941_HH_2_tmp/NovaSAR_01_13612_slc_11_200803_231941_HH_2_ML_TC_TF.data/\n",
      "/tmp/data/intermediate/NovaSAR_01_13612_slc_11_200803_231941_HH_2_tmp/NovaSAR_01_13612_slc_11_200803_231941_HH_2_ML_TC_TF_cog/\n"
     ]
    },
    {
     "name": "stderr",
     "output_type": "stream",
     "text": [
      "INFO:snap_stderr:stderr:INFO: org.esa.snap.core.gpf.operators.tooladapter.ToolAdapterIO: Initializing external tool adapters\n",
      "INFO:snap_stderr:stderr:INFO: org.esa.s2tbx.dataio.gdal.GDALVersion: Incompatible GDAL 3.1.4 found on system. Internal GDAL 3.0.0 from distribution will be used.\n",
      "INFO:snap_stderr:stderr:INFO: org.esa.s2tbx.dataio.gdal.GDALVersion: Internal GDAL 3.0.0 set to be used by SNAP.\n",
      "INFO:snap_stderr:stderr:INFO: org.esa.snap.core.util.EngineVersionCheckActivator: Please check regularly for new updates for the best SNAP experience.\n",
      "INFO:snap_stderr:stderr:INFO: org.esa.s2tbx.dataio.gdal.GDALVersion: Internal GDAL 3.0.0 set to be used by SNAP.\n",
      "INFO:snap_stdout:Executing processing graph\n",
      "INFO:snap_stderr:stderr:INFO: org.hsqldb.persist.Logger: dataFileCache open start\n",
      "INFO:snap_stdout:....10%....20%....30%....40%....50%....60%....70%....80%....90% done.\n"
     ]
    },
    {
     "name": "stdout",
     "output_type": "stream",
     "text": [
      "/tmp/data/intermediate/NovaSAR_01_13612_slc_11_200803_231941_HH_2_tmp/NovaSAR_01_13612_slc_11_200803_231941_HH_2_ML_TC_TF_cog/NovaSAR_01_13612_slc_11_200803_231941_HH_2_Gamma0_Intensity_HH_db.tif\n",
      "2020-11-17 21:39:30 Starting conversion: /tmp/data/intermediate/NovaSAR_01_13612_slc_11_200803_231941_HH_2_tmp/NovaSAR_01_13612_slc_11_200803_231941_HH_2_ML_TC_TF.data/Gamma0_Intensity_HH_db.img.\n",
      "2020-11-17 21:39:38 Conversion complete: True.\n"
     ]
    },
    {
     "name": "stderr",
     "output_type": "stream",
     "text": [
      "DEBUG:sedas_api:successful login.\n"
     ]
    },
    {
     "name": "stdout",
     "output_type": "stream",
     "text": [
      "2020-11-17 21:40:26 Prepared NovaSAR_01_13612_slc_11_200803_231941_HH_2 at novasar_uk_test/\n",
      "2020-11-17 21:40:26 Preparing NovaSAR_01_13612_slc_11_200803_231937_HH_1 within /tmp/data/intermediate/NovaSAR_01_13612_slc_11_200803_231937_HH_1_tmp/\n"
     ]
    },
    {
     "name": "stderr",
     "output_type": "stream",
     "text": [
      "DEBUG:sedas_api:successful login.\n",
      "DEBUG:sedas_api:successful login.\n",
      "DEBUG:sedas_api:successful login.\n",
      "DEBUG:sedas_api:successful login.\n",
      "INFO:bulk_downloader:0 downloads pending, 0 downloads in progress, 0 requests pending\n",
      "INFO:bulk_downloader:2 active threads, 0 restarted.\n"
     ]
    },
    {
     "name": "stdout",
     "output_type": "stream",
     "text": [
      "2020-11-17 21:40:27 Downloading\n"
     ]
    },
    {
     "name": "stderr",
     "output_type": "stream",
     "text": [
      "DEBUG:bulk_downloader:1 downloads pending\n",
      "DEBUG:bulk_downloader:1 downloads pending\n",
      "INFO:bulk_downloader:downloading NovaSAR_01_13612_slc_11_200803_231937_HH_1 to /tmp/data/intermediate/NovaSAR_01_13612_slc_11_200803_231937_HH_1_tmp/NovaSAR_01_13612_slc_11_200803_231937_HH_1.zip\n",
      "DEBUG:sedas_api:successful login.\n",
      "INFO:bulk_downloader:0 downloads pending, 1 downloads in progress, 0 requests pending\n",
      "INFO:bulk_downloader:2 active threads, 0 restarted.\n",
      "INFO:bulk_downloader:0 downloads pending, 1 downloads in progress, 0 requests pending\n",
      "INFO:bulk_downloader:2 active threads, 0 restarted.\n",
      "DEBUG:bulk_downloader:monitor thread stopping\n"
     ]
    },
    {
     "name": "stdout",
     "output_type": "stream",
     "text": [
      "2020-11-17 21:40:42 Downloaded\n",
      "2020-11-17 21:40:42 Extracting /tmp/data/intermediate/NovaSAR_01_13612_slc_11_200803_231937_HH_1_tmp/NovaSAR_01_13612_slc_11_200803_231937_HH_1.zip\n"
     ]
    },
    {
     "name": "stderr",
     "output_type": "stream",
     "text": [
      "DEBUG:bulk_downloader:0 downloads pending\n",
      "DEBUG:bulk_downloader:requests thread stopping\n",
      "DEBUG:root:running ['/opt/snap/bin/gpt', '/opt/notebooks/anc/novasar_slc_tf_tc.xml', '-Pinput=/tmp/data/intermediate/NovaSAR_01_13612_slc_11_200803_231937_HH_1_tmp/NovaSAR_01_13612_slc_11_200803_231937_HH_1/NovaSAR_01_13612_slc_11_200803_231937_HH_1/metadata.xml', '-Poutput=/tmp/data/intermediate/NovaSAR_01_13612_slc_11_200803_231937_HH_1_tmp/NovaSAR_01_13612_slc_11_200803_231937_HH_1_ML_TC_TF.dim']\n"
     ]
    },
    {
     "name": "stdout",
     "output_type": "stream",
     "text": [
      "2020-11-17 21:40:52 Extracted to /tmp/data/intermediate/NovaSAR_01_13612_slc_11_200803_231937_HH_1_tmp/NovaSAR_01_13612_slc_11_200803_231937_HH_1/\n",
      "NovaSAR_01_13612_slc_11_200803_231937_HH_1\n",
      "/tmp/data/intermediate/NovaSAR_01_13612_slc_11_200803_231937_HH_1_tmp/NovaSAR_01_13612_slc_11_200803_231937_HH_1_ML_TC_TF.data/\n",
      "/tmp/data/intermediate/NovaSAR_01_13612_slc_11_200803_231937_HH_1_tmp/NovaSAR_01_13612_slc_11_200803_231937_HH_1_ML_TC_TF_cog/\n"
     ]
    },
    {
     "name": "stderr",
     "output_type": "stream",
     "text": [
      "INFO:snap_stderr:stderr:INFO: org.esa.snap.core.gpf.operators.tooladapter.ToolAdapterIO: Initializing external tool adapters\n",
      "INFO:snap_stderr:stderr:INFO: org.esa.s2tbx.dataio.gdal.GDALVersion: Incompatible GDAL 3.1.4 found on system. Internal GDAL 3.0.0 from distribution will be used.\n",
      "INFO:snap_stderr:stderr:INFO: org.esa.s2tbx.dataio.gdal.GDALVersion: Internal GDAL 3.0.0 set to be used by SNAP.\n",
      "INFO:snap_stderr:stderr:INFO: org.esa.snap.core.util.EngineVersionCheckActivator: Please check regularly for new updates for the best SNAP experience.\n",
      "INFO:snap_stderr:stderr:INFO: org.esa.s2tbx.dataio.gdal.GDALVersion: Internal GDAL 3.0.0 set to be used by SNAP.\n",
      "INFO:snap_stdout:Executing processing graph\n",
      "INFO:snap_stderr:stderr:INFO: org.hsqldb.persist.Logger: dataFileCache open start\n",
      "INFO:snap_stderr:stderr:INFO: org.esa.snap.core.dataop.dem.ElevationFile: http retrieving http://step.esa.int/auxdata/dem/SRTMGL1/N51E002.SRTMGL1.hgt.zip\n",
      "INFO:snap_stdout:....10%....20%....30%....40%....50%....60%....70%....80%....90% done.\n"
     ]
    },
    {
     "name": "stdout",
     "output_type": "stream",
     "text": [
      "/tmp/data/intermediate/NovaSAR_01_13612_slc_11_200803_231937_HH_1_tmp/NovaSAR_01_13612_slc_11_200803_231937_HH_1_ML_TC_TF_cog/NovaSAR_01_13612_slc_11_200803_231937_HH_1_Gamma0_Intensity_HH_db.tif\n",
      "2020-11-17 21:45:22 Starting conversion: /tmp/data/intermediate/NovaSAR_01_13612_slc_11_200803_231937_HH_1_tmp/NovaSAR_01_13612_slc_11_200803_231937_HH_1_ML_TC_TF.data/Gamma0_Intensity_HH_db.img.\n",
      "2020-11-17 21:45:30 Conversion complete: True.\n"
     ]
    },
    {
     "name": "stderr",
     "output_type": "stream",
     "text": [
      "DEBUG:sedas_api:successful login.\n"
     ]
    },
    {
     "name": "stdout",
     "output_type": "stream",
     "text": [
      "2020-11-17 21:46:19 Prepared NovaSAR_01_13612_slc_11_200803_231937_HH_1 at novasar_uk_test/\n",
      "2020-11-17 21:46:19 Preparing NovaSAR_01_13449_slc_200729_225102_HH within /tmp/data/intermediate/NovaSAR_01_13449_slc_200729_225102_HH_tmp/\n"
     ]
    },
    {
     "name": "stderr",
     "output_type": "stream",
     "text": [
      "DEBUG:sedas_api:successful login.\n",
      "DEBUG:sedas_api:successful login.\n",
      "DEBUG:sedas_api:successful login.\n",
      "DEBUG:sedas_api:successful login.\n",
      "INFO:bulk_downloader:0 downloads pending, 0 downloads in progress, 0 requests pending\n",
      "INFO:bulk_downloader:2 active threads, 0 restarted.\n"
     ]
    },
    {
     "name": "stdout",
     "output_type": "stream",
     "text": [
      "2020-11-17 21:46:20 Downloading\n"
     ]
    },
    {
     "name": "stderr",
     "output_type": "stream",
     "text": [
      "DEBUG:bulk_downloader:1 downloads pending\n",
      "DEBUG:bulk_downloader:1 downloads pending\n",
      "INFO:bulk_downloader:downloading NovaSAR_01_13449_slc_200729_225102_HH to /tmp/data/intermediate/NovaSAR_01_13449_slc_200729_225102_HH_tmp/NovaSAR_01_13449_slc_200729_225102_HH.zip\n",
      "DEBUG:sedas_api:successful login.\n",
      "INFO:bulk_downloader:0 downloads pending, 1 downloads in progress, 0 requests pending\n",
      "INFO:bulk_downloader:2 active threads, 0 restarted.\n",
      "INFO:bulk_downloader:0 downloads pending, 1 downloads in progress, 0 requests pending\n",
      "INFO:bulk_downloader:2 active threads, 0 restarted.\n",
      "INFO:bulk_downloader:0 downloads pending, 1 downloads in progress, 0 requests pending\n",
      "INFO:bulk_downloader:2 active threads, 0 restarted.\n",
      "DEBUG:bulk_downloader:monitor thread stopping\n"
     ]
    },
    {
     "name": "stdout",
     "output_type": "stream",
     "text": [
      "2020-11-17 21:46:40 Downloaded\n",
      "2020-11-17 21:46:40 Extracting /tmp/data/intermediate/NovaSAR_01_13449_slc_200729_225102_HH_tmp/NovaSAR_01_13449_slc_200729_225102_HH.zip\n"
     ]
    },
    {
     "name": "stderr",
     "output_type": "stream",
     "text": [
      "DEBUG:bulk_downloader:0 downloads pending\n",
      "DEBUG:bulk_downloader:requests thread stopping\n",
      "DEBUG:root:running ['/opt/snap/bin/gpt', '/opt/notebooks/anc/novasar_slc_tf_tc.xml', '-Pinput=/tmp/data/intermediate/NovaSAR_01_13449_slc_200729_225102_HH_tmp/NovaSAR_01_13449_slc_200729_225102_HH/NovaSAR_01_13449_slc_11_200729_225102_HH/metadata.xml', '-Poutput=/tmp/data/intermediate/NovaSAR_01_13449_slc_200729_225102_HH_tmp/NovaSAR_01_13449_slc_11_200729_225102_HH_ML_TC_TF.dim']\n"
     ]
    },
    {
     "name": "stdout",
     "output_type": "stream",
     "text": [
      "2020-11-17 21:46:54 Extracted to /tmp/data/intermediate/NovaSAR_01_13449_slc_200729_225102_HH_tmp/NovaSAR_01_13449_slc_200729_225102_HH/\n",
      "NovaSAR_01_13449_slc_11_200729_225102_HH\n",
      "/tmp/data/intermediate/NovaSAR_01_13449_slc_200729_225102_HH_tmp/NovaSAR_01_13449_slc_11_200729_225102_HH_ML_TC_TF.data/\n",
      "/tmp/data/intermediate/NovaSAR_01_13449_slc_200729_225102_HH_tmp/NovaSAR_01_13449_slc_11_200729_225102_HH_ML_TC_TF_cog/\n"
     ]
    },
    {
     "name": "stderr",
     "output_type": "stream",
     "text": [
      "INFO:snap_stderr:stderr:INFO: org.esa.snap.core.gpf.operators.tooladapter.ToolAdapterIO: Initializing external tool adapters\n",
      "INFO:snap_stderr:stderr:INFO: org.esa.s2tbx.dataio.gdal.GDALVersion: Incompatible GDAL 3.1.4 found on system. Internal GDAL 3.0.0 from distribution will be used.\n",
      "INFO:snap_stderr:stderr:INFO: org.esa.s2tbx.dataio.gdal.GDALVersion: Internal GDAL 3.0.0 set to be used by SNAP.\n",
      "INFO:snap_stderr:stderr:INFO: org.esa.snap.core.util.EngineVersionCheckActivator: Please check regularly for new updates for the best SNAP experience.\n",
      "INFO:snap_stderr:stderr:INFO: org.esa.s2tbx.dataio.gdal.GDALVersion: Internal GDAL 3.0.0 set to be used by SNAP.\n",
      "INFO:snap_stdout:Executing processing graph\n",
      "INFO:snap_stderr:stderr:INFO: org.hsqldb.persist.Logger: dataFileCache open start\n",
      "INFO:snap_stderr:stderr:INFO: org.esa.snap.core.dataop.dem.ElevationFile: http retrieving http://step.esa.int/auxdata/dem/SRTMGL1/N50E002.SRTMGL1.hgt.zip\n",
      "INFO:snap_stdout:....10%....20%....30%....40%....50%....60%....70%....80%....90% done.\n"
     ]
    },
    {
     "name": "stdout",
     "output_type": "stream",
     "text": [
      "/tmp/data/intermediate/NovaSAR_01_13449_slc_200729_225102_HH_tmp/NovaSAR_01_13449_slc_11_200729_225102_HH_ML_TC_TF_cog/NovaSAR_01_13449_slc_11_200729_225102_HH_Gamma0_Intensity_HH_db.tif\n",
      "2020-11-17 21:50:38 Starting conversion: /tmp/data/intermediate/NovaSAR_01_13449_slc_200729_225102_HH_tmp/NovaSAR_01_13449_slc_11_200729_225102_HH_ML_TC_TF.data/Gamma0_Intensity_HH_db.img.\n",
      "2020-11-17 21:50:47 Conversion complete: True.\n",
      "2020-11-17 21:51:41 Prepared NovaSAR_01_13449_slc_200729_225102_HH at novasar_uk_test/\n",
      "2020-11-17 21:51:41 Preparing NovaSAR_01_13145_slc_200720_233418_HH within /tmp/data/intermediate/NovaSAR_01_13145_slc_200720_233418_HH_tmp/\n"
     ]
    },
    {
     "name": "stderr",
     "output_type": "stream",
     "text": [
      "DEBUG:sedas_api:successful login.\n",
      "DEBUG:sedas_api:successful login.\n",
      "DEBUG:sedas_api:successful login.\n",
      "DEBUG:sedas_api:successful login.\n",
      "DEBUG:sedas_api:successful login.\n",
      "INFO:bulk_downloader:0 downloads pending, 0 downloads in progress, 0 requests pending\n",
      "INFO:bulk_downloader:2 active threads, 0 restarted.\n"
     ]
    },
    {
     "name": "stdout",
     "output_type": "stream",
     "text": [
      "2020-11-17 21:51:42 Downloading\n"
     ]
    },
    {
     "name": "stderr",
     "output_type": "stream",
     "text": [
      "DEBUG:bulk_downloader:1 downloads pending\n",
      "DEBUG:bulk_downloader:1 downloads pending\n",
      "INFO:bulk_downloader:downloading NovaSAR_01_13145_slc_200720_233418_HH to /tmp/data/intermediate/NovaSAR_01_13145_slc_200720_233418_HH_tmp/NovaSAR_01_13145_slc_200720_233418_HH.zip\n",
      "DEBUG:sedas_api:successful login.\n",
      "INFO:bulk_downloader:0 downloads pending, 1 downloads in progress, 0 requests pending\n",
      "INFO:bulk_downloader:2 active threads, 0 restarted.\n",
      "INFO:bulk_downloader:0 downloads pending, 1 downloads in progress, 0 requests pending\n",
      "INFO:bulk_downloader:2 active threads, 0 restarted.\n",
      "INFO:bulk_downloader:0 downloads pending, 1 downloads in progress, 0 requests pending\n",
      "INFO:bulk_downloader:2 active threads, 0 restarted.\n",
      "INFO:bulk_downloader:0 downloads pending, 1 downloads in progress, 0 requests pending\n",
      "INFO:bulk_downloader:2 active threads, 0 restarted.\n",
      "INFO:bulk_downloader:0 downloads pending, 1 downloads in progress, 0 requests pending\n",
      "INFO:bulk_downloader:2 active threads, 0 restarted.\n",
      "INFO:bulk_downloader:0 downloads pending, 1 downloads in progress, 0 requests pending\n",
      "INFO:bulk_downloader:2 active threads, 0 restarted.\n",
      "INFO:bulk_downloader:0 downloads pending, 1 downloads in progress, 0 requests pending\n",
      "INFO:bulk_downloader:2 active threads, 0 restarted.\n",
      "INFO:bulk_downloader:0 downloads pending, 1 downloads in progress, 0 requests pending\n",
      "INFO:bulk_downloader:2 active threads, 0 restarted.\n",
      "INFO:bulk_downloader:0 downloads pending, 1 downloads in progress, 0 requests pending\n",
      "INFO:bulk_downloader:2 active threads, 0 restarted.\n",
      "INFO:bulk_downloader:0 downloads pending, 1 downloads in progress, 0 requests pending\n",
      "INFO:bulk_downloader:2 active threads, 0 restarted.\n",
      "INFO:bulk_downloader:0 downloads pending, 1 downloads in progress, 0 requests pending\n",
      "INFO:bulk_downloader:2 active threads, 0 restarted.\n",
      "INFO:bulk_downloader:0 downloads pending, 1 downloads in progress, 0 requests pending\n",
      "INFO:bulk_downloader:2 active threads, 0 restarted.\n",
      "INFO:bulk_downloader:0 downloads pending, 1 downloads in progress, 0 requests pending\n",
      "INFO:bulk_downloader:2 active threads, 0 restarted.\n",
      "INFO:bulk_downloader:0 downloads pending, 1 downloads in progress, 0 requests pending\n",
      "INFO:bulk_downloader:2 active threads, 0 restarted.\n",
      "INFO:bulk_downloader:0 downloads pending, 1 downloads in progress, 0 requests pending\n",
      "INFO:bulk_downloader:2 active threads, 0 restarted.\n",
      "INFO:bulk_downloader:0 downloads pending, 1 downloads in progress, 0 requests pending\n",
      "INFO:bulk_downloader:2 active threads, 0 restarted.\n",
      "INFO:bulk_downloader:0 downloads pending, 1 downloads in progress, 0 requests pending\n",
      "INFO:bulk_downloader:2 active threads, 0 restarted.\n",
      "INFO:bulk_downloader:0 downloads pending, 1 downloads in progress, 0 requests pending\n",
      "INFO:bulk_downloader:2 active threads, 0 restarted.\n",
      "INFO:bulk_downloader:0 downloads pending, 1 downloads in progress, 0 requests pending\n",
      "INFO:bulk_downloader:2 active threads, 0 restarted.\n",
      "INFO:bulk_downloader:0 downloads pending, 1 downloads in progress, 0 requests pending\n",
      "INFO:bulk_downloader:2 active threads, 0 restarted.\n",
      "INFO:bulk_downloader:0 downloads pending, 1 downloads in progress, 0 requests pending\n",
      "INFO:bulk_downloader:2 active threads, 0 restarted.\n",
      "INFO:bulk_downloader:0 downloads pending, 1 downloads in progress, 0 requests pending\n",
      "INFO:bulk_downloader:2 active threads, 0 restarted.\n",
      "INFO:bulk_downloader:0 downloads pending, 1 downloads in progress, 0 requests pending\n",
      "INFO:bulk_downloader:2 active threads, 0 restarted.\n",
      "INFO:bulk_downloader:0 downloads pending, 1 downloads in progress, 0 requests pending\n",
      "INFO:bulk_downloader:2 active threads, 0 restarted.\n",
      "INFO:bulk_downloader:0 downloads pending, 1 downloads in progress, 0 requests pending\n",
      "INFO:bulk_downloader:2 active threads, 0 restarted.\n",
      "INFO:bulk_downloader:0 downloads pending, 1 downloads in progress, 0 requests pending\n",
      "INFO:bulk_downloader:2 active threads, 0 restarted.\n",
      "DEBUG:bulk_downloader:0 downloads pending\n",
      "DEBUG:bulk_downloader:monitor thread stopping\n"
     ]
    },
    {
     "name": "stdout",
     "output_type": "stream",
     "text": [
      "2020-11-17 21:53:57 Downloaded\n",
      "2020-11-17 21:53:57 Extracting /tmp/data/intermediate/NovaSAR_01_13145_slc_200720_233418_HH_tmp/NovaSAR_01_13145_slc_200720_233418_HH.zip\n"
     ]
    },
    {
     "name": "stderr",
     "output_type": "stream",
     "text": [
      "DEBUG:bulk_downloader:requests thread stopping\n",
      "DEBUG:root:running ['/opt/snap/bin/gpt', '/opt/notebooks/anc/novasar_slc_tf_tc.xml', '-Pinput=/tmp/data/intermediate/NovaSAR_01_13145_slc_200720_233418_HH_tmp/NovaSAR_01_13145_slc_200720_233418_HH/SV229/Image_Products$/NovaSAR_01_13145_slc_200720_233418_HH_/NovaSAR_01_13145_slc_11_200720_233418_HH_1/metadata.xml', '-Poutput=/tmp/data/intermediate/NovaSAR_01_13145_slc_200720_233418_HH_tmp/NovaSAR_01_13145_slc_11_200720_233418_HH_1_ML_TC_TF.dim']\n"
     ]
    },
    {
     "name": "stdout",
     "output_type": "stream",
     "text": [
      "2020-11-17 21:55:42 Extracted to /tmp/data/intermediate/NovaSAR_01_13145_slc_200720_233418_HH_tmp/NovaSAR_01_13145_slc_200720_233418_HH/\n",
      "NovaSAR_01_13145_slc_11_200720_233418_HH_1\n",
      "/tmp/data/intermediate/NovaSAR_01_13145_slc_200720_233418_HH_tmp/NovaSAR_01_13145_slc_11_200720_233418_HH_1_ML_TC_TF.data/\n",
      "/tmp/data/intermediate/NovaSAR_01_13145_slc_200720_233418_HH_tmp/NovaSAR_01_13145_slc_11_200720_233418_HH_1_ML_TC_TF_cog/\n"
     ]
    },
    {
     "name": "stderr",
     "output_type": "stream",
     "text": [
      "INFO:snap_stderr:stderr:INFO: org.esa.snap.core.gpf.operators.tooladapter.ToolAdapterIO: Initializing external tool adapters\n",
      "INFO:snap_stderr:stderr:INFO: org.esa.s2tbx.dataio.gdal.GDALVersion: Incompatible GDAL 3.1.4 found on system. Internal GDAL 3.0.0 from distribution will be used.\n",
      "INFO:snap_stderr:stderr:INFO: org.esa.s2tbx.dataio.gdal.GDALVersion: Internal GDAL 3.0.0 set to be used by SNAP.\n",
      "INFO:snap_stderr:stderr:INFO: org.esa.snap.core.util.EngineVersionCheckActivator: Please check regularly for new updates for the best SNAP experience.\n",
      "INFO:snap_stderr:stderr:INFO: org.esa.s2tbx.dataio.gdal.GDALVersion: Internal GDAL 3.0.0 set to be used by SNAP.\n",
      "INFO:snap_stdout:Executing processing graph\n",
      "INFO:snap_stderr:stderr:INFO: org.hsqldb.persist.Logger: dataFileCache open start\n",
      "INFO:snap_stderr:stderr:INFO: org.esa.snap.core.dataop.dem.ElevationFile: http retrieving http://step.esa.int/auxdata/dem/SRTMGL1/N53E000.SRTMGL1.hgt.zip\n",
      "INFO:snap_stdout:....10%....20%....30%....40%....50%....60%....70%....80%....90% done.\n"
     ]
    },
    {
     "name": "stdout",
     "output_type": "stream",
     "text": [
      "/tmp/data/intermediate/NovaSAR_01_13145_slc_200720_233418_HH_tmp/NovaSAR_01_13145_slc_11_200720_233418_HH_1_ML_TC_TF_cog/NovaSAR_01_13145_slc_11_200720_233418_HH_1_Gamma0_Intensity_HH_db.tif\n",
      "2020-11-17 21:57:37 Starting conversion: /tmp/data/intermediate/NovaSAR_01_13145_slc_200720_233418_HH_tmp/NovaSAR_01_13145_slc_11_200720_233418_HH_1_ML_TC_TF.data/Gamma0_Intensity_HH_db.img.\n",
      "2020-11-17 21:57:44 Conversion complete: True.\n"
     ]
    },
    {
     "name": "stderr",
     "output_type": "stream",
     "text": [
      "DEBUG:root:running ['/opt/snap/bin/gpt', '/opt/notebooks/anc/novasar_slc_tf_tc.xml', '-Pinput=/tmp/data/intermediate/NovaSAR_01_13145_slc_200720_233418_HH_tmp/NovaSAR_01_13145_slc_200720_233418_HH/SV229/Image_Products$/NovaSAR_01_13145_slc_200720_233418_HH_/NovaSAR_01_13145_slc_11_200720_233423_HH_2/metadata.xml', '-Poutput=/tmp/data/intermediate/NovaSAR_01_13145_slc_200720_233418_HH_tmp/NovaSAR_01_13145_slc_11_200720_233423_HH_2_ML_TC_TF.dim']\n"
     ]
    },
    {
     "name": "stdout",
     "output_type": "stream",
     "text": [
      "NovaSAR_01_13145_slc_11_200720_233423_HH_2\n",
      "/tmp/data/intermediate/NovaSAR_01_13145_slc_200720_233418_HH_tmp/NovaSAR_01_13145_slc_11_200720_233423_HH_2_ML_TC_TF.data/\n",
      "/tmp/data/intermediate/NovaSAR_01_13145_slc_200720_233418_HH_tmp/NovaSAR_01_13145_slc_11_200720_233423_HH_2_ML_TC_TF_cog/\n"
     ]
    },
    {
     "name": "stderr",
     "output_type": "stream",
     "text": [
      "INFO:snap_stderr:stderr:INFO: org.esa.snap.core.gpf.operators.tooladapter.ToolAdapterIO: Initializing external tool adapters\n",
      "INFO:snap_stderr:stderr:INFO: org.esa.s2tbx.dataio.gdal.GDALVersion: Incompatible GDAL 3.1.4 found on system. Internal GDAL 3.0.0 from distribution will be used.\n",
      "INFO:snap_stderr:stderr:INFO: org.esa.s2tbx.dataio.gdal.GDALVersion: Internal GDAL 3.0.0 set to be used by SNAP.\n",
      "INFO:snap_stderr:stderr:INFO: org.esa.snap.core.util.EngineVersionCheckActivator: Please check regularly for new updates for the best SNAP experience.\n",
      "INFO:snap_stderr:stderr:INFO: org.esa.s2tbx.dataio.gdal.GDALVersion: Internal GDAL 3.0.0 set to be used by SNAP.\n",
      "INFO:snap_stdout:Executing processing graph\n",
      "INFO:snap_stderr:stderr:INFO: org.hsqldb.persist.Logger: dataFileCache open start\n",
      "INFO:snap_stderr:stderr:INFO: org.esa.snap.core.dataop.dem.ElevationFile: http retrieving http://step.esa.int/auxdata/dem/SRTMGL1/N52E000.SRTMGL1.hgt.zip\n",
      "INFO:snap_stdout:....10%....20%....30%....40%....50%....60%....70%....80%....90% done.\n"
     ]
    },
    {
     "name": "stdout",
     "output_type": "stream",
     "text": [
      "/tmp/data/intermediate/NovaSAR_01_13145_slc_200720_233418_HH_tmp/NovaSAR_01_13145_slc_11_200720_233423_HH_2_ML_TC_TF_cog/NovaSAR_01_13145_slc_11_200720_233423_HH_2_Gamma0_Intensity_HH_db.tif\n",
      "2020-11-17 22:00:22 Starting conversion: /tmp/data/intermediate/NovaSAR_01_13145_slc_200720_233418_HH_tmp/NovaSAR_01_13145_slc_11_200720_233423_HH_2_ML_TC_TF.data/Gamma0_Intensity_HH_db.img.\n",
      "2020-11-17 22:00:29 Conversion complete: True.\n"
     ]
    },
    {
     "name": "stderr",
     "output_type": "stream",
     "text": [
      "DEBUG:root:running ['/opt/snap/bin/gpt', '/opt/notebooks/anc/novasar_slc_tf_tc.xml', '-Pinput=/tmp/data/intermediate/NovaSAR_01_13145_slc_200720_233418_HH_tmp/NovaSAR_01_13145_slc_200720_233418_HH/SV229/Image_Products$/NovaSAR_01_13145_slc_200720_233418_HH_/NovaSAR_01_13145_slc_11_200720_233427_HH_3/metadata.xml', '-Poutput=/tmp/data/intermediate/NovaSAR_01_13145_slc_200720_233418_HH_tmp/NovaSAR_01_13145_slc_11_200720_233427_HH_3_ML_TC_TF.dim']\n"
     ]
    },
    {
     "name": "stdout",
     "output_type": "stream",
     "text": [
      "NovaSAR_01_13145_slc_11_200720_233427_HH_3\n",
      "/tmp/data/intermediate/NovaSAR_01_13145_slc_200720_233418_HH_tmp/NovaSAR_01_13145_slc_11_200720_233427_HH_3_ML_TC_TF.data/\n",
      "/tmp/data/intermediate/NovaSAR_01_13145_slc_200720_233418_HH_tmp/NovaSAR_01_13145_slc_11_200720_233427_HH_3_ML_TC_TF_cog/\n"
     ]
    },
    {
     "name": "stderr",
     "output_type": "stream",
     "text": [
      "INFO:snap_stderr:stderr:INFO: org.esa.snap.core.gpf.operators.tooladapter.ToolAdapterIO: Initializing external tool adapters\n",
      "INFO:snap_stderr:stderr:INFO: org.esa.s2tbx.dataio.gdal.GDALVersion: Incompatible GDAL 3.1.4 found on system. Internal GDAL 3.0.0 from distribution will be used.\n",
      "INFO:snap_stderr:stderr:INFO: org.esa.s2tbx.dataio.gdal.GDALVersion: Internal GDAL 3.0.0 set to be used by SNAP.\n",
      "INFO:snap_stderr:stderr:INFO: org.esa.snap.core.util.EngineVersionCheckActivator: Please check regularly for new updates for the best SNAP experience.\n",
      "INFO:snap_stderr:stderr:INFO: org.esa.s2tbx.dataio.gdal.GDALVersion: Internal GDAL 3.0.0 set to be used by SNAP.\n",
      "INFO:snap_stdout:Executing processing graph\n",
      "INFO:snap_stderr:stderr:INFO: org.hsqldb.persist.Logger: dataFileCache open start\n",
      "INFO:snap_stdout:....10%....20%....30%....40%....50%....60%....70%....80%....90% done.\n"
     ]
    },
    {
     "name": "stdout",
     "output_type": "stream",
     "text": [
      "/tmp/data/intermediate/NovaSAR_01_13145_slc_200720_233418_HH_tmp/NovaSAR_01_13145_slc_11_200720_233427_HH_3_ML_TC_TF_cog/NovaSAR_01_13145_slc_11_200720_233427_HH_3_Gamma0_Intensity_HH_db.tif\n",
      "2020-11-17 22:03:34 Starting conversion: /tmp/data/intermediate/NovaSAR_01_13145_slc_200720_233418_HH_tmp/NovaSAR_01_13145_slc_11_200720_233427_HH_3_ML_TC_TF.data/Gamma0_Intensity_HH_db.img.\n",
      "2020-11-17 22:03:41 Conversion complete: True.\n"
     ]
    },
    {
     "name": "stderr",
     "output_type": "stream",
     "text": [
      "DEBUG:root:running ['/opt/snap/bin/gpt', '/opt/notebooks/anc/novasar_slc_tf_tc.xml', '-Pinput=/tmp/data/intermediate/NovaSAR_01_13145_slc_200720_233418_HH_tmp/NovaSAR_01_13145_slc_200720_233418_HH/SV229/Image_Products$/NovaSAR_01_13145_slc_200720_233418_HH_/NovaSAR_01_13145_slc_11_200720_233431_HH_4/metadata.xml', '-Poutput=/tmp/data/intermediate/NovaSAR_01_13145_slc_200720_233418_HH_tmp/NovaSAR_01_13145_slc_11_200720_233431_HH_4_ML_TC_TF.dim']\n"
     ]
    },
    {
     "name": "stdout",
     "output_type": "stream",
     "text": [
      "NovaSAR_01_13145_slc_11_200720_233431_HH_4\n",
      "/tmp/data/intermediate/NovaSAR_01_13145_slc_200720_233418_HH_tmp/NovaSAR_01_13145_slc_11_200720_233431_HH_4_ML_TC_TF.data/\n",
      "/tmp/data/intermediate/NovaSAR_01_13145_slc_200720_233418_HH_tmp/NovaSAR_01_13145_slc_11_200720_233431_HH_4_ML_TC_TF_cog/\n"
     ]
    },
    {
     "name": "stderr",
     "output_type": "stream",
     "text": [
      "INFO:snap_stderr:stderr:INFO: org.esa.snap.core.gpf.operators.tooladapter.ToolAdapterIO: Initializing external tool adapters\n",
      "INFO:snap_stderr:stderr:INFO: org.esa.s2tbx.dataio.gdal.GDALVersion: Incompatible GDAL 3.1.4 found on system. Internal GDAL 3.0.0 from distribution will be used.\n",
      "INFO:snap_stderr:stderr:INFO: org.esa.s2tbx.dataio.gdal.GDALVersion: Internal GDAL 3.0.0 set to be used by SNAP.\n",
      "INFO:snap_stderr:stderr:INFO: org.esa.snap.core.util.EngineVersionCheckActivator: Please check regularly for new updates for the best SNAP experience.\n",
      "INFO:snap_stderr:stderr:INFO: org.esa.s2tbx.dataio.gdal.GDALVersion: Internal GDAL 3.0.0 set to be used by SNAP.\n",
      "INFO:snap_stdout:Executing processing graph\n",
      "INFO:snap_stderr:stderr:INFO: org.hsqldb.persist.Logger: dataFileCache open start\n",
      "INFO:snap_stdout:....10%....20%....30%....40%....50%....60%....70%....80%....90% done.\n"
     ]
    },
    {
     "name": "stdout",
     "output_type": "stream",
     "text": [
      "/tmp/data/intermediate/NovaSAR_01_13145_slc_200720_233418_HH_tmp/NovaSAR_01_13145_slc_11_200720_233431_HH_4_ML_TC_TF_cog/NovaSAR_01_13145_slc_11_200720_233431_HH_4_Gamma0_Intensity_HH_db.tif\n",
      "2020-11-17 22:06:34 Starting conversion: /tmp/data/intermediate/NovaSAR_01_13145_slc_200720_233418_HH_tmp/NovaSAR_01_13145_slc_11_200720_233431_HH_4_ML_TC_TF.data/Gamma0_Intensity_HH_db.img.\n",
      "2020-11-17 22:06:40 Conversion complete: True.\n"
     ]
    },
    {
     "name": "stderr",
     "output_type": "stream",
     "text": [
      "DEBUG:root:running ['/opt/snap/bin/gpt', '/opt/notebooks/anc/novasar_slc_tf_tc.xml', '-Pinput=/tmp/data/intermediate/NovaSAR_01_13145_slc_200720_233418_HH_tmp/NovaSAR_01_13145_slc_200720_233418_HH/SV229/Image_Products$/NovaSAR_01_13145_slc_200720_233418_HH_/NovaSAR_01_13145_slc_11_200720_233435_HH_5/metadata.xml', '-Poutput=/tmp/data/intermediate/NovaSAR_01_13145_slc_200720_233418_HH_tmp/NovaSAR_01_13145_slc_11_200720_233435_HH_5_ML_TC_TF.dim']\n"
     ]
    },
    {
     "name": "stdout",
     "output_type": "stream",
     "text": [
      "NovaSAR_01_13145_slc_11_200720_233435_HH_5\n",
      "/tmp/data/intermediate/NovaSAR_01_13145_slc_200720_233418_HH_tmp/NovaSAR_01_13145_slc_11_200720_233435_HH_5_ML_TC_TF.data/\n",
      "/tmp/data/intermediate/NovaSAR_01_13145_slc_200720_233418_HH_tmp/NovaSAR_01_13145_slc_11_200720_233435_HH_5_ML_TC_TF_cog/\n"
     ]
    },
    {
     "name": "stderr",
     "output_type": "stream",
     "text": [
      "INFO:snap_stderr:stderr:INFO: org.esa.snap.core.gpf.operators.tooladapter.ToolAdapterIO: Initializing external tool adapters\n",
      "INFO:snap_stderr:stderr:INFO: org.esa.s2tbx.dataio.gdal.GDALVersion: Incompatible GDAL 3.1.4 found on system. Internal GDAL 3.0.0 from distribution will be used.\n",
      "INFO:snap_stderr:stderr:INFO: org.esa.s2tbx.dataio.gdal.GDALVersion: Internal GDAL 3.0.0 set to be used by SNAP.\n",
      "INFO:snap_stderr:stderr:INFO: org.esa.snap.core.util.EngineVersionCheckActivator: Please check regularly for new updates for the best SNAP experience.\n",
      "INFO:snap_stderr:stderr:INFO: org.esa.s2tbx.dataio.gdal.GDALVersion: Internal GDAL 3.0.0 set to be used by SNAP.\n",
      "INFO:snap_stdout:Executing processing graph\n",
      "INFO:snap_stderr:stderr:INFO: org.hsqldb.persist.Logger: dataFileCache open start\n",
      "INFO:snap_stdout:....10%....20%....30%....40%....50%....60%....70%....80%....90% done.\n"
     ]
    },
    {
     "name": "stdout",
     "output_type": "stream",
     "text": [
      "/tmp/data/intermediate/NovaSAR_01_13145_slc_200720_233418_HH_tmp/NovaSAR_01_13145_slc_11_200720_233435_HH_5_ML_TC_TF_cog/NovaSAR_01_13145_slc_11_200720_233435_HH_5_Gamma0_Intensity_HH_db.tif\n",
      "2020-11-17 22:09:29 Starting conversion: /tmp/data/intermediate/NovaSAR_01_13145_slc_200720_233418_HH_tmp/NovaSAR_01_13145_slc_11_200720_233435_HH_5_ML_TC_TF.data/Gamma0_Intensity_HH_db.img.\n",
      "2020-11-17 22:09:36 Conversion complete: True.\n"
     ]
    },
    {
     "name": "stderr",
     "output_type": "stream",
     "text": [
      "DEBUG:root:running ['/opt/snap/bin/gpt', '/opt/notebooks/anc/novasar_slc_tf_tc.xml', '-Pinput=/tmp/data/intermediate/NovaSAR_01_13145_slc_200720_233418_HH_tmp/NovaSAR_01_13145_slc_200720_233418_HH/SV229/Image_Products$/NovaSAR_01_13145_slc_200720_233418_HH_/NovaSAR_01_13145_slc_11_200720_233439_HH_6/metadata.xml', '-Poutput=/tmp/data/intermediate/NovaSAR_01_13145_slc_200720_233418_HH_tmp/NovaSAR_01_13145_slc_11_200720_233439_HH_6_ML_TC_TF.dim']\n"
     ]
    },
    {
     "name": "stdout",
     "output_type": "stream",
     "text": [
      "NovaSAR_01_13145_slc_11_200720_233439_HH_6\n",
      "/tmp/data/intermediate/NovaSAR_01_13145_slc_200720_233418_HH_tmp/NovaSAR_01_13145_slc_11_200720_233439_HH_6_ML_TC_TF.data/\n",
      "/tmp/data/intermediate/NovaSAR_01_13145_slc_200720_233418_HH_tmp/NovaSAR_01_13145_slc_11_200720_233439_HH_6_ML_TC_TF_cog/\n"
     ]
    },
    {
     "name": "stderr",
     "output_type": "stream",
     "text": [
      "INFO:snap_stderr:stderr:INFO: org.esa.snap.core.gpf.operators.tooladapter.ToolAdapterIO: Initializing external tool adapters\n",
      "INFO:snap_stderr:stderr:INFO: org.esa.s2tbx.dataio.gdal.GDALVersion: Incompatible GDAL 3.1.4 found on system. Internal GDAL 3.0.0 from distribution will be used.\n",
      "INFO:snap_stderr:stderr:INFO: org.esa.s2tbx.dataio.gdal.GDALVersion: Internal GDAL 3.0.0 set to be used by SNAP.\n",
      "INFO:snap_stderr:stderr:INFO: org.esa.snap.core.util.EngineVersionCheckActivator: Please check regularly for new updates for the best SNAP experience.\n",
      "INFO:snap_stderr:stderr:INFO: org.esa.s2tbx.dataio.gdal.GDALVersion: Internal GDAL 3.0.0 set to be used by SNAP.\n",
      "INFO:snap_stdout:Executing processing graph\n",
      "INFO:snap_stderr:stderr:INFO: org.hsqldb.persist.Logger: dataFileCache open start\n",
      "INFO:snap_stdout:....10%....20%....30%....40%....50%....60%....70%....80%....90% done.\n"
     ]
    },
    {
     "name": "stdout",
     "output_type": "stream",
     "text": [
      "/tmp/data/intermediate/NovaSAR_01_13145_slc_200720_233418_HH_tmp/NovaSAR_01_13145_slc_11_200720_233439_HH_6_ML_TC_TF_cog/NovaSAR_01_13145_slc_11_200720_233439_HH_6_Gamma0_Intensity_HH_db.tif\n",
      "2020-11-17 22:12:59 Starting conversion: /tmp/data/intermediate/NovaSAR_01_13145_slc_200720_233418_HH_tmp/NovaSAR_01_13145_slc_11_200720_233439_HH_6_ML_TC_TF.data/Gamma0_Intensity_HH_db.img.\n",
      "2020-11-17 22:13:05 Conversion complete: True.\n"
     ]
    },
    {
     "name": "stderr",
     "output_type": "stream",
     "text": [
      "DEBUG:root:running ['/opt/snap/bin/gpt', '/opt/notebooks/anc/novasar_slc_tf_tc.xml', '-Pinput=/tmp/data/intermediate/NovaSAR_01_13145_slc_200720_233418_HH_tmp/NovaSAR_01_13145_slc_200720_233418_HH/SV229/Image_Products$/NovaSAR_01_13145_slc_200720_233418_HH_/NovaSAR_01_13145_slc_11_200720_233444_HH_7/metadata.xml', '-Poutput=/tmp/data/intermediate/NovaSAR_01_13145_slc_200720_233418_HH_tmp/NovaSAR_01_13145_slc_11_200720_233444_HH_7_ML_TC_TF.dim']\n"
     ]
    },
    {
     "name": "stdout",
     "output_type": "stream",
     "text": [
      "NovaSAR_01_13145_slc_11_200720_233444_HH_7\n",
      "/tmp/data/intermediate/NovaSAR_01_13145_slc_200720_233418_HH_tmp/NovaSAR_01_13145_slc_11_200720_233444_HH_7_ML_TC_TF.data/\n",
      "/tmp/data/intermediate/NovaSAR_01_13145_slc_200720_233418_HH_tmp/NovaSAR_01_13145_slc_11_200720_233444_HH_7_ML_TC_TF_cog/\n"
     ]
    },
    {
     "name": "stderr",
     "output_type": "stream",
     "text": [
      "INFO:snap_stderr:stderr:INFO: org.esa.snap.core.gpf.operators.tooladapter.ToolAdapterIO: Initializing external tool adapters\n",
      "INFO:snap_stderr:stderr:INFO: org.esa.s2tbx.dataio.gdal.GDALVersion: Incompatible GDAL 3.1.4 found on system. Internal GDAL 3.0.0 from distribution will be used.\n",
      "INFO:snap_stderr:stderr:INFO: org.esa.s2tbx.dataio.gdal.GDALVersion: Internal GDAL 3.0.0 set to be used by SNAP.\n",
      "INFO:snap_stderr:stderr:INFO: org.esa.snap.core.util.EngineVersionCheckActivator: Please check regularly for new updates for the best SNAP experience.\n",
      "INFO:snap_stderr:stderr:INFO: org.esa.s2tbx.dataio.gdal.GDALVersion: Internal GDAL 3.0.0 set to be used by SNAP.\n",
      "INFO:snap_stdout:Executing processing graph\n",
      "INFO:snap_stderr:stderr:INFO: org.hsqldb.persist.Logger: dataFileCache open start\n",
      "INFO:snap_stdout:....10%....20%....30%....40%....50%....60%....70%....80%....90% done.\n"
     ]
    },
    {
     "name": "stdout",
     "output_type": "stream",
     "text": [
      "/tmp/data/intermediate/NovaSAR_01_13145_slc_200720_233418_HH_tmp/NovaSAR_01_13145_slc_11_200720_233444_HH_7_ML_TC_TF_cog/NovaSAR_01_13145_slc_11_200720_233444_HH_7_Gamma0_Intensity_HH_db.tif\n",
      "2020-11-17 22:15:47 Starting conversion: /tmp/data/intermediate/NovaSAR_01_13145_slc_200720_233418_HH_tmp/NovaSAR_01_13145_slc_11_200720_233444_HH_7_ML_TC_TF.data/Gamma0_Intensity_HH_db.img.\n",
      "2020-11-17 22:15:54 Conversion complete: True.\n"
     ]
    },
    {
     "name": "stderr",
     "output_type": "stream",
     "text": [
      "DEBUG:root:running ['/opt/snap/bin/gpt', '/opt/notebooks/anc/novasar_slc_tf_tc.xml', '-Pinput=/tmp/data/intermediate/NovaSAR_01_13145_slc_200720_233418_HH_tmp/NovaSAR_01_13145_slc_200720_233418_HH/SV229/Image_Products$/NovaSAR_01_13145_slc_200720_233418_HH_/NovaSAR_01_13145_slc_11_200720_233448_HH_8/metadata.xml', '-Poutput=/tmp/data/intermediate/NovaSAR_01_13145_slc_200720_233418_HH_tmp/NovaSAR_01_13145_slc_11_200720_233448_HH_8_ML_TC_TF.dim']\n"
     ]
    },
    {
     "name": "stdout",
     "output_type": "stream",
     "text": [
      "NovaSAR_01_13145_slc_11_200720_233448_HH_8\n",
      "/tmp/data/intermediate/NovaSAR_01_13145_slc_200720_233418_HH_tmp/NovaSAR_01_13145_slc_11_200720_233448_HH_8_ML_TC_TF.data/\n",
      "/tmp/data/intermediate/NovaSAR_01_13145_slc_200720_233418_HH_tmp/NovaSAR_01_13145_slc_11_200720_233448_HH_8_ML_TC_TF_cog/\n"
     ]
    },
    {
     "name": "stderr",
     "output_type": "stream",
     "text": [
      "INFO:snap_stderr:stderr:INFO: org.esa.snap.core.gpf.operators.tooladapter.ToolAdapterIO: Initializing external tool adapters\n",
      "INFO:snap_stderr:stderr:INFO: org.esa.s2tbx.dataio.gdal.GDALVersion: Incompatible GDAL 3.1.4 found on system. Internal GDAL 3.0.0 from distribution will be used.\n",
      "INFO:snap_stderr:stderr:INFO: org.esa.s2tbx.dataio.gdal.GDALVersion: Internal GDAL 3.0.0 set to be used by SNAP.\n",
      "INFO:snap_stderr:stderr:INFO: org.esa.snap.core.util.EngineVersionCheckActivator: Please check regularly for new updates for the best SNAP experience.\n",
      "INFO:snap_stderr:stderr:INFO: org.esa.s2tbx.dataio.gdal.GDALVersion: Internal GDAL 3.0.0 set to be used by SNAP.\n",
      "INFO:snap_stdout:Executing processing graph\n",
      "INFO:snap_stderr:stderr:INFO: org.hsqldb.persist.Logger: dataFileCache open start\n",
      "INFO:snap_stdout:....10%....20%....30%....40%....50%....60%....70%....80%....90% done.\n"
     ]
    },
    {
     "name": "stdout",
     "output_type": "stream",
     "text": [
      "/tmp/data/intermediate/NovaSAR_01_13145_slc_200720_233418_HH_tmp/NovaSAR_01_13145_slc_11_200720_233448_HH_8_ML_TC_TF_cog/NovaSAR_01_13145_slc_11_200720_233448_HH_8_Gamma0_Intensity_HH_db.tif\n",
      "2020-11-17 22:18:31 Starting conversion: /tmp/data/intermediate/NovaSAR_01_13145_slc_200720_233418_HH_tmp/NovaSAR_01_13145_slc_11_200720_233448_HH_8_ML_TC_TF.data/Gamma0_Intensity_HH_db.img.\n",
      "2020-11-17 22:18:42 Conversion complete: True.\n"
     ]
    },
    {
     "name": "stderr",
     "output_type": "stream",
     "text": [
      "DEBUG:root:running ['/opt/snap/bin/gpt', '/opt/notebooks/anc/novasar_slc_tf_tc.xml', '-Pinput=/tmp/data/intermediate/NovaSAR_01_13145_slc_200720_233418_HH_tmp/NovaSAR_01_13145_slc_200720_233418_HH/SV229/Image_Products$/NovaSAR_01_13145_slc_200720_233418_HH_/NovaSAR_01_13145_slc_11_200720_233452_HH_9/metadata.xml', '-Poutput=/tmp/data/intermediate/NovaSAR_01_13145_slc_200720_233418_HH_tmp/NovaSAR_01_13145_slc_11_200720_233452_HH_9_ML_TC_TF.dim']\n"
     ]
    },
    {
     "name": "stdout",
     "output_type": "stream",
     "text": [
      "NovaSAR_01_13145_slc_11_200720_233452_HH_9\n",
      "/tmp/data/intermediate/NovaSAR_01_13145_slc_200720_233418_HH_tmp/NovaSAR_01_13145_slc_11_200720_233452_HH_9_ML_TC_TF.data/\n",
      "/tmp/data/intermediate/NovaSAR_01_13145_slc_200720_233418_HH_tmp/NovaSAR_01_13145_slc_11_200720_233452_HH_9_ML_TC_TF_cog/\n"
     ]
    },
    {
     "name": "stderr",
     "output_type": "stream",
     "text": [
      "INFO:snap_stderr:stderr:INFO: org.esa.snap.core.gpf.operators.tooladapter.ToolAdapterIO: Initializing external tool adapters\n",
      "INFO:snap_stderr:stderr:INFO: org.esa.s2tbx.dataio.gdal.GDALVersion: Incompatible GDAL 3.1.4 found on system. Internal GDAL 3.0.0 from distribution will be used.\n",
      "INFO:snap_stderr:stderr:INFO: org.esa.s2tbx.dataio.gdal.GDALVersion: Internal GDAL 3.0.0 set to be used by SNAP.\n",
      "INFO:snap_stderr:stderr:INFO: org.esa.snap.core.util.EngineVersionCheckActivator: Please check regularly for new updates for the best SNAP experience.\n",
      "INFO:snap_stderr:stderr:INFO: org.esa.s2tbx.dataio.gdal.GDALVersion: Internal GDAL 3.0.0 set to be used by SNAP.\n",
      "INFO:snap_stdout:Executing processing graph\n",
      "INFO:snap_stderr:stderr:INFO: org.hsqldb.persist.Logger: dataFileCache open start\n",
      "INFO:snap_stdout:....10%....20%....30%....40%....50%....60%....70%....80%....90% done.\n"
     ]
    },
    {
     "name": "stdout",
     "output_type": "stream",
     "text": [
      "/tmp/data/intermediate/NovaSAR_01_13145_slc_200720_233418_HH_tmp/NovaSAR_01_13145_slc_11_200720_233452_HH_9_ML_TC_TF_cog/NovaSAR_01_13145_slc_11_200720_233452_HH_9_Gamma0_Intensity_HH_db.tif\n",
      "2020-11-17 22:21:38 Starting conversion: /tmp/data/intermediate/NovaSAR_01_13145_slc_200720_233418_HH_tmp/NovaSAR_01_13145_slc_11_200720_233452_HH_9_ML_TC_TF.data/Gamma0_Intensity_HH_db.img.\n",
      "2020-11-17 22:21:45 Conversion complete: True.\n"
     ]
    },
    {
     "name": "stderr",
     "output_type": "stream",
     "text": [
      "DEBUG:root:running ['/opt/snap/bin/gpt', '/opt/notebooks/anc/novasar_slc_tf_tc.xml', '-Pinput=/tmp/data/intermediate/NovaSAR_01_13145_slc_200720_233418_HH_tmp/NovaSAR_01_13145_slc_200720_233418_HH/SV229/Image_Products$/NovaSAR_01_13145_slc_200720_233418_HH_/NovaSAR_01_13145_slc_11_200720_233456_HH_10/metadata.xml', '-Poutput=/tmp/data/intermediate/NovaSAR_01_13145_slc_200720_233418_HH_tmp/NovaSAR_01_13145_slc_11_200720_233456_HH_10_ML_TC_TF.dim']\n"
     ]
    },
    {
     "name": "stdout",
     "output_type": "stream",
     "text": [
      "NovaSAR_01_13145_slc_11_200720_233456_HH_10\n",
      "/tmp/data/intermediate/NovaSAR_01_13145_slc_200720_233418_HH_tmp/NovaSAR_01_13145_slc_11_200720_233456_HH_10_ML_TC_TF.data/\n",
      "/tmp/data/intermediate/NovaSAR_01_13145_slc_200720_233418_HH_tmp/NovaSAR_01_13145_slc_11_200720_233456_HH_10_ML_TC_TF_cog/\n"
     ]
    },
    {
     "name": "stderr",
     "output_type": "stream",
     "text": [
      "INFO:snap_stderr:stderr:INFO: org.esa.snap.core.gpf.operators.tooladapter.ToolAdapterIO: Initializing external tool adapters\n",
      "INFO:snap_stderr:stderr:INFO: org.esa.s2tbx.dataio.gdal.GDALVersion: Incompatible GDAL 3.1.4 found on system. Internal GDAL 3.0.0 from distribution will be used.\n",
      "INFO:snap_stderr:stderr:INFO: org.esa.s2tbx.dataio.gdal.GDALVersion: Internal GDAL 3.0.0 set to be used by SNAP.\n",
      "INFO:snap_stderr:stderr:INFO: org.esa.snap.core.util.EngineVersionCheckActivator: Please check regularly for new updates for the best SNAP experience.\n",
      "INFO:snap_stderr:stderr:INFO: org.esa.s2tbx.dataio.gdal.GDALVersion: Internal GDAL 3.0.0 set to be used by SNAP.\n",
      "INFO:snap_stdout:Executing processing graph\n",
      "INFO:snap_stderr:stderr:INFO: org.hsqldb.persist.Logger: dataFileCache open start\n",
      "INFO:snap_stderr:stderr:INFO: org.esa.snap.core.dataop.dem.ElevationFile: http retrieving http://step.esa.int/auxdata/dem/SRTMGL1/N50W001.SRTMGL1.hgt.zip\n",
      "INFO:snap_stdout:....10%....20%....30%....40%....50%....60%....70%....80%....90% done.\n"
     ]
    },
    {
     "name": "stdout",
     "output_type": "stream",
     "text": [
      "/tmp/data/intermediate/NovaSAR_01_13145_slc_200720_233418_HH_tmp/NovaSAR_01_13145_slc_11_200720_233456_HH_10_ML_TC_TF_cog/NovaSAR_01_13145_slc_11_200720_233456_HH_10_Gamma0_Intensity_HH_db.tif\n",
      "2020-11-17 22:24:54 Starting conversion: /tmp/data/intermediate/NovaSAR_01_13145_slc_200720_233418_HH_tmp/NovaSAR_01_13145_slc_11_200720_233456_HH_10_ML_TC_TF.data/Gamma0_Intensity_HH_db.img.\n",
      "2020-11-17 22:25:01 Conversion complete: True.\n"
     ]
    },
    {
     "name": "stderr",
     "output_type": "stream",
     "text": [
      "DEBUG:root:running ['/opt/snap/bin/gpt', '/opt/notebooks/anc/novasar_slc_tf_tc.xml', '-Pinput=/tmp/data/intermediate/NovaSAR_01_13145_slc_200720_233418_HH_tmp/NovaSAR_01_13145_slc_200720_233418_HH/SV229/Image_Products$/NovaSAR_01_13145_slc_200720_233418_HH_/NovaSAR_01_13145_slc_11_200720_233500_HH_11/metadata.xml', '-Poutput=/tmp/data/intermediate/NovaSAR_01_13145_slc_200720_233418_HH_tmp/NovaSAR_01_13145_slc_11_200720_233500_HH_11_ML_TC_TF.dim']\n"
     ]
    },
    {
     "name": "stdout",
     "output_type": "stream",
     "text": [
      "NovaSAR_01_13145_slc_11_200720_233500_HH_11\n",
      "/tmp/data/intermediate/NovaSAR_01_13145_slc_200720_233418_HH_tmp/NovaSAR_01_13145_slc_11_200720_233500_HH_11_ML_TC_TF.data/\n",
      "/tmp/data/intermediate/NovaSAR_01_13145_slc_200720_233418_HH_tmp/NovaSAR_01_13145_slc_11_200720_233500_HH_11_ML_TC_TF_cog/\n"
     ]
    },
    {
     "name": "stderr",
     "output_type": "stream",
     "text": [
      "INFO:snap_stderr:stderr:INFO: org.esa.snap.core.gpf.operators.tooladapter.ToolAdapterIO: Initializing external tool adapters\n",
      "INFO:snap_stderr:stderr:INFO: org.esa.s2tbx.dataio.gdal.GDALVersion: Incompatible GDAL 3.1.4 found on system. Internal GDAL 3.0.0 from distribution will be used.\n",
      "INFO:snap_stderr:stderr:INFO: org.esa.s2tbx.dataio.gdal.GDALVersion: Internal GDAL 3.0.0 set to be used by SNAP.\n",
      "INFO:snap_stderr:stderr:INFO: org.esa.snap.core.util.EngineVersionCheckActivator: Please check regularly for new updates for the best SNAP experience.\n",
      "INFO:snap_stderr:stderr:INFO: org.esa.s2tbx.dataio.gdal.GDALVersion: Internal GDAL 3.0.0 set to be used by SNAP.\n",
      "INFO:snap_stdout:Executing processing graph\n",
      "INFO:snap_stderr:stderr:INFO: org.hsqldb.persist.Logger: dataFileCache open start\n",
      "INFO:snap_stdout:....10%....20%....30%....40%....50%....60%....70%....80%....90% done.\n"
     ]
    },
    {
     "name": "stdout",
     "output_type": "stream",
     "text": [
      "/tmp/data/intermediate/NovaSAR_01_13145_slc_200720_233418_HH_tmp/NovaSAR_01_13145_slc_11_200720_233500_HH_11_ML_TC_TF_cog/NovaSAR_01_13145_slc_11_200720_233500_HH_11_Gamma0_Intensity_HH_db.tif\n",
      "2020-11-17 22:29:13 Starting conversion: /tmp/data/intermediate/NovaSAR_01_13145_slc_200720_233418_HH_tmp/NovaSAR_01_13145_slc_11_200720_233500_HH_11_ML_TC_TF.data/Gamma0_Intensity_HH_db.img.\n",
      "2020-11-17 22:29:26 Conversion complete: True.\n",
      "2020-11-17 22:30:50 Prepared NovaSAR_01_13145_slc_200720_233418_HH at novasar_uk_test/\n",
      "2020-11-17 22:30:50 Preparing NovaSAR_01_13098_slc_200719_101727_HH within /tmp/data/intermediate/NovaSAR_01_13098_slc_200719_101727_HH_tmp/\n"
     ]
    },
    {
     "name": "stderr",
     "output_type": "stream",
     "text": [
      "DEBUG:sedas_api:successful login.\n",
      "DEBUG:sedas_api:successful login.\n",
      "DEBUG:sedas_api:successful login.\n",
      "DEBUG:sedas_api:successful login.\n",
      "DEBUG:sedas_api:successful login.\n",
      "INFO:bulk_downloader:0 downloads pending, 0 downloads in progress, 0 requests pending\n",
      "INFO:bulk_downloader:2 active threads, 0 restarted.\n"
     ]
    },
    {
     "name": "stdout",
     "output_type": "stream",
     "text": [
      "2020-11-17 22:30:51 Downloading\n"
     ]
    },
    {
     "name": "stderr",
     "output_type": "stream",
     "text": [
      "DEBUG:bulk_downloader:1 downloads pending\n",
      "DEBUG:bulk_downloader:1 downloads pending\n",
      "INFO:bulk_downloader:downloading NovaSAR_01_13098_slc_200719_101727_HH to /tmp/data/intermediate/NovaSAR_01_13098_slc_200719_101727_HH_tmp/NovaSAR_01_13098_slc_200719_101727_HH.zip\n",
      "DEBUG:sedas_api:successful login.\n",
      "INFO:bulk_downloader:0 downloads pending, 1 downloads in progress, 0 requests pending\n",
      "INFO:bulk_downloader:2 active threads, 0 restarted.\n",
      "INFO:bulk_downloader:0 downloads pending, 1 downloads in progress, 0 requests pending\n",
      "INFO:bulk_downloader:2 active threads, 0 restarted.\n",
      "INFO:bulk_downloader:0 downloads pending, 1 downloads in progress, 0 requests pending\n",
      "INFO:bulk_downloader:2 active threads, 0 restarted.\n",
      "INFO:bulk_downloader:0 downloads pending, 1 downloads in progress, 0 requests pending\n",
      "INFO:bulk_downloader:2 active threads, 0 restarted.\n",
      "INFO:bulk_downloader:0 downloads pending, 1 downloads in progress, 0 requests pending\n",
      "INFO:bulk_downloader:2 active threads, 0 restarted.\n",
      "INFO:bulk_downloader:0 downloads pending, 1 downloads in progress, 0 requests pending\n",
      "INFO:bulk_downloader:2 active threads, 0 restarted.\n",
      "INFO:bulk_downloader:0 downloads pending, 1 downloads in progress, 0 requests pending\n",
      "INFO:bulk_downloader:2 active threads, 0 restarted.\n",
      "INFO:bulk_downloader:0 downloads pending, 1 downloads in progress, 0 requests pending\n",
      "INFO:bulk_downloader:2 active threads, 0 restarted.\n",
      "INFO:bulk_downloader:0 downloads pending, 1 downloads in progress, 0 requests pending\n",
      "INFO:bulk_downloader:2 active threads, 0 restarted.\n",
      "INFO:bulk_downloader:0 downloads pending, 1 downloads in progress, 0 requests pending\n",
      "INFO:bulk_downloader:2 active threads, 0 restarted.\n",
      "INFO:bulk_downloader:0 downloads pending, 1 downloads in progress, 0 requests pending\n",
      "INFO:bulk_downloader:2 active threads, 0 restarted.\n",
      "INFO:bulk_downloader:0 downloads pending, 1 downloads in progress, 0 requests pending\n",
      "INFO:bulk_downloader:2 active threads, 0 restarted.\n",
      "INFO:bulk_downloader:0 downloads pending, 1 downloads in progress, 0 requests pending\n",
      "INFO:bulk_downloader:2 active threads, 0 restarted.\n",
      "INFO:bulk_downloader:0 downloads pending, 1 downloads in progress, 0 requests pending\n",
      "INFO:bulk_downloader:2 active threads, 0 restarted.\n",
      "INFO:bulk_downloader:0 downloads pending, 1 downloads in progress, 0 requests pending\n",
      "INFO:bulk_downloader:2 active threads, 0 restarted.\n",
      "INFO:bulk_downloader:0 downloads pending, 1 downloads in progress, 0 requests pending\n",
      "INFO:bulk_downloader:2 active threads, 0 restarted.\n",
      "INFO:bulk_downloader:0 downloads pending, 1 downloads in progress, 0 requests pending\n",
      "INFO:bulk_downloader:2 active threads, 0 restarted.\n",
      "INFO:bulk_downloader:0 downloads pending, 1 downloads in progress, 0 requests pending\n",
      "INFO:bulk_downloader:2 active threads, 0 restarted.\n",
      "INFO:bulk_downloader:0 downloads pending, 1 downloads in progress, 0 requests pending\n",
      "INFO:bulk_downloader:2 active threads, 0 restarted.\n",
      "INFO:bulk_downloader:0 downloads pending, 1 downloads in progress, 0 requests pending\n",
      "INFO:bulk_downloader:2 active threads, 0 restarted.\n",
      "INFO:bulk_downloader:0 downloads pending, 1 downloads in progress, 0 requests pending\n",
      "INFO:bulk_downloader:2 active threads, 0 restarted.\n",
      "INFO:bulk_downloader:0 downloads pending, 1 downloads in progress, 0 requests pending\n",
      "INFO:bulk_downloader:2 active threads, 0 restarted.\n",
      "INFO:bulk_downloader:0 downloads pending, 1 downloads in progress, 0 requests pending\n",
      "INFO:bulk_downloader:2 active threads, 0 restarted.\n",
      "INFO:bulk_downloader:0 downloads pending, 1 downloads in progress, 0 requests pending\n",
      "INFO:bulk_downloader:2 active threads, 0 restarted.\n",
      "INFO:bulk_downloader:0 downloads pending, 1 downloads in progress, 0 requests pending\n",
      "INFO:bulk_downloader:2 active threads, 0 restarted.\n",
      "INFO:bulk_downloader:0 downloads pending, 1 downloads in progress, 0 requests pending\n",
      "INFO:bulk_downloader:2 active threads, 0 restarted.\n",
      "INFO:bulk_downloader:0 downloads pending, 1 downloads in progress, 0 requests pending\n",
      "INFO:bulk_downloader:2 active threads, 0 restarted.\n",
      "DEBUG:bulk_downloader:0 downloads pending\n",
      "DEBUG:bulk_downloader:requests thread stopping\n",
      "DEBUG:bulk_downloader:monitor thread stopping\n"
     ]
    },
    {
     "name": "stdout",
     "output_type": "stream",
     "text": [
      "2020-11-17 22:33:11 Downloaded\n",
      "2020-11-17 22:33:11 Extracting /tmp/data/intermediate/NovaSAR_01_13098_slc_200719_101727_HH_tmp/NovaSAR_01_13098_slc_200719_101727_HH.zip\n"
     ]
    },
    {
     "name": "stderr",
     "output_type": "stream",
     "text": [
      "DEBUG:root:running ['/opt/snap/bin/gpt', '/opt/notebooks/anc/novasar_slc_tf_tc.xml', '-Pinput=/tmp/data/intermediate/NovaSAR_01_13098_slc_200719_101727_HH_tmp/NovaSAR_01_13098_slc_200719_101727_HH/SV229/Image_Products$/NovaSAR_01_13098_slc_200719_101727_HH_/NovaSAR_01_13098_slc_11_200719_101727_HH_1/metadata.xml', '-Poutput=/tmp/data/intermediate/NovaSAR_01_13098_slc_200719_101727_HH_tmp/NovaSAR_01_13098_slc_11_200719_101727_HH_1_ML_TC_TF.dim']\n"
     ]
    },
    {
     "name": "stdout",
     "output_type": "stream",
     "text": [
      "2020-11-17 22:34:58 Extracted to /tmp/data/intermediate/NovaSAR_01_13098_slc_200719_101727_HH_tmp/NovaSAR_01_13098_slc_200719_101727_HH/\n",
      "NovaSAR_01_13098_slc_11_200719_101727_HH_1\n",
      "/tmp/data/intermediate/NovaSAR_01_13098_slc_200719_101727_HH_tmp/NovaSAR_01_13098_slc_11_200719_101727_HH_1_ML_TC_TF.data/\n",
      "/tmp/data/intermediate/NovaSAR_01_13098_slc_200719_101727_HH_tmp/NovaSAR_01_13098_slc_11_200719_101727_HH_1_ML_TC_TF_cog/\n"
     ]
    },
    {
     "name": "stderr",
     "output_type": "stream",
     "text": [
      "INFO:snap_stderr:stderr:INFO: org.esa.snap.core.gpf.operators.tooladapter.ToolAdapterIO: Initializing external tool adapters\n",
      "INFO:snap_stderr:stderr:INFO: org.esa.s2tbx.dataio.gdal.GDALVersion: Incompatible GDAL 3.1.4 found on system. Internal GDAL 3.0.0 from distribution will be used.\n",
      "INFO:snap_stderr:stderr:INFO: org.esa.s2tbx.dataio.gdal.GDALVersion: Internal GDAL 3.0.0 set to be used by SNAP.\n",
      "INFO:snap_stderr:stderr:INFO: org.esa.snap.core.util.EngineVersionCheckActivator: Please check regularly for new updates for the best SNAP experience.\n",
      "INFO:snap_stderr:stderr:INFO: org.esa.s2tbx.dataio.gdal.GDALVersion: Internal GDAL 3.0.0 set to be used by SNAP.\n",
      "INFO:snap_stdout:Executing processing graph\n",
      "INFO:snap_stderr:stderr:INFO: org.hsqldb.persist.Logger: dataFileCache open start\n",
      "INFO:snap_stdout:....10%....20%....30%....40%....50%....60%....70%....80%....90% done.\n"
     ]
    },
    {
     "name": "stdout",
     "output_type": "stream",
     "text": [
      "/tmp/data/intermediate/NovaSAR_01_13098_slc_200719_101727_HH_tmp/NovaSAR_01_13098_slc_11_200719_101727_HH_1_ML_TC_TF_cog/NovaSAR_01_13098_slc_11_200719_101727_HH_1_Gamma0_Intensity_HH_db.tif\n",
      "2020-11-17 22:36:27 Starting conversion: /tmp/data/intermediate/NovaSAR_01_13098_slc_200719_101727_HH_tmp/NovaSAR_01_13098_slc_11_200719_101727_HH_1_ML_TC_TF.data/Gamma0_Intensity_HH_db.img.\n",
      "2020-11-17 22:36:33 Conversion complete: True.\n"
     ]
    },
    {
     "name": "stderr",
     "output_type": "stream",
     "text": [
      "DEBUG:root:running ['/opt/snap/bin/gpt', '/opt/notebooks/anc/novasar_slc_tf_tc.xml', '-Pinput=/tmp/data/intermediate/NovaSAR_01_13098_slc_200719_101727_HH_tmp/NovaSAR_01_13098_slc_200719_101727_HH/SV229/Image_Products$/NovaSAR_01_13098_slc_200719_101727_HH_/NovaSAR_01_13098_slc_11_200719_101731_HH_2/metadata.xml', '-Poutput=/tmp/data/intermediate/NovaSAR_01_13098_slc_200719_101727_HH_tmp/NovaSAR_01_13098_slc_11_200719_101731_HH_2_ML_TC_TF.dim']\n"
     ]
    },
    {
     "name": "stdout",
     "output_type": "stream",
     "text": [
      "NovaSAR_01_13098_slc_11_200719_101731_HH_2\n",
      "/tmp/data/intermediate/NovaSAR_01_13098_slc_200719_101727_HH_tmp/NovaSAR_01_13098_slc_11_200719_101731_HH_2_ML_TC_TF.data/\n",
      "/tmp/data/intermediate/NovaSAR_01_13098_slc_200719_101727_HH_tmp/NovaSAR_01_13098_slc_11_200719_101731_HH_2_ML_TC_TF_cog/\n"
     ]
    },
    {
     "name": "stderr",
     "output_type": "stream",
     "text": [
      "INFO:snap_stderr:stderr:INFO: org.esa.snap.core.gpf.operators.tooladapter.ToolAdapterIO: Initializing external tool adapters\n",
      "INFO:snap_stderr:stderr:INFO: org.esa.s2tbx.dataio.gdal.GDALVersion: Incompatible GDAL 3.1.4 found on system. Internal GDAL 3.0.0 from distribution will be used.\n",
      "INFO:snap_stderr:stderr:INFO: org.esa.s2tbx.dataio.gdal.GDALVersion: Internal GDAL 3.0.0 set to be used by SNAP.\n",
      "INFO:snap_stderr:stderr:INFO: org.esa.snap.core.util.EngineVersionCheckActivator: Please check regularly for new updates for the best SNAP experience.\n",
      "INFO:snap_stderr:stderr:INFO: org.esa.s2tbx.dataio.gdal.GDALVersion: Internal GDAL 3.0.0 set to be used by SNAP.\n",
      "INFO:snap_stdout:Executing processing graph\n",
      "INFO:snap_stderr:stderr:INFO: org.hsqldb.persist.Logger: dataFileCache open start\n",
      "INFO:snap_stdout:....10%....20%....30%....40%....50%....60%....70%....80%....90% done.\n"
     ]
    },
    {
     "name": "stdout",
     "output_type": "stream",
     "text": [
      "/tmp/data/intermediate/NovaSAR_01_13098_slc_200719_101727_HH_tmp/NovaSAR_01_13098_slc_11_200719_101731_HH_2_ML_TC_TF_cog/NovaSAR_01_13098_slc_11_200719_101731_HH_2_Gamma0_Intensity_HH_db.tif\n",
      "2020-11-17 22:38:56 Starting conversion: /tmp/data/intermediate/NovaSAR_01_13098_slc_200719_101727_HH_tmp/NovaSAR_01_13098_slc_11_200719_101731_HH_2_ML_TC_TF.data/Gamma0_Intensity_HH_db.img.\n",
      "2020-11-17 22:39:02 Conversion complete: True.\n"
     ]
    },
    {
     "name": "stderr",
     "output_type": "stream",
     "text": [
      "DEBUG:root:running ['/opt/snap/bin/gpt', '/opt/notebooks/anc/novasar_slc_tf_tc.xml', '-Pinput=/tmp/data/intermediate/NovaSAR_01_13098_slc_200719_101727_HH_tmp/NovaSAR_01_13098_slc_200719_101727_HH/SV229/Image_Products$/NovaSAR_01_13098_slc_200719_101727_HH_/NovaSAR_01_13098_slc_11_200719_101735_HH_3/metadata.xml', '-Poutput=/tmp/data/intermediate/NovaSAR_01_13098_slc_200719_101727_HH_tmp/NovaSAR_01_13098_slc_11_200719_101735_HH_3_ML_TC_TF.dim']\n"
     ]
    },
    {
     "name": "stdout",
     "output_type": "stream",
     "text": [
      "NovaSAR_01_13098_slc_11_200719_101735_HH_3\n",
      "/tmp/data/intermediate/NovaSAR_01_13098_slc_200719_101727_HH_tmp/NovaSAR_01_13098_slc_11_200719_101735_HH_3_ML_TC_TF.data/\n",
      "/tmp/data/intermediate/NovaSAR_01_13098_slc_200719_101727_HH_tmp/NovaSAR_01_13098_slc_11_200719_101735_HH_3_ML_TC_TF_cog/\n"
     ]
    },
    {
     "name": "stderr",
     "output_type": "stream",
     "text": [
      "INFO:snap_stderr:stderr:INFO: org.esa.snap.core.gpf.operators.tooladapter.ToolAdapterIO: Initializing external tool adapters\n",
      "INFO:snap_stderr:stderr:INFO: org.esa.s2tbx.dataio.gdal.GDALVersion: Incompatible GDAL 3.1.4 found on system. Internal GDAL 3.0.0 from distribution will be used.\n",
      "INFO:snap_stderr:stderr:INFO: org.esa.s2tbx.dataio.gdal.GDALVersion: Internal GDAL 3.0.0 set to be used by SNAP.\n",
      "INFO:snap_stderr:stderr:INFO: org.esa.snap.core.util.EngineVersionCheckActivator: Please check regularly for new updates for the best SNAP experience.\n",
      "INFO:snap_stderr:stderr:INFO: org.esa.s2tbx.dataio.gdal.GDALVersion: Internal GDAL 3.0.0 set to be used by SNAP.\n",
      "INFO:snap_stdout:Executing processing graph\n",
      "INFO:snap_stderr:stderr:INFO: org.hsqldb.persist.Logger: dataFileCache open start\n",
      "INFO:snap_stdout:....10%....20%....30%....40%....50%....60%....70%....80%....90% done.\n"
     ]
    },
    {
     "name": "stdout",
     "output_type": "stream",
     "text": [
      "/tmp/data/intermediate/NovaSAR_01_13098_slc_200719_101727_HH_tmp/NovaSAR_01_13098_slc_11_200719_101735_HH_3_ML_TC_TF_cog/NovaSAR_01_13098_slc_11_200719_101735_HH_3_Gamma0_Intensity_HH_db.tif\n",
      "2020-11-17 22:41:07 Starting conversion: /tmp/data/intermediate/NovaSAR_01_13098_slc_200719_101727_HH_tmp/NovaSAR_01_13098_slc_11_200719_101735_HH_3_ML_TC_TF.data/Gamma0_Intensity_HH_db.img.\n",
      "2020-11-17 22:41:13 Conversion complete: True.\n"
     ]
    },
    {
     "name": "stderr",
     "output_type": "stream",
     "text": [
      "DEBUG:root:running ['/opt/snap/bin/gpt', '/opt/notebooks/anc/novasar_slc_tf_tc.xml', '-Pinput=/tmp/data/intermediate/NovaSAR_01_13098_slc_200719_101727_HH_tmp/NovaSAR_01_13098_slc_200719_101727_HH/SV229/Image_Products$/NovaSAR_01_13098_slc_200719_101727_HH_/NovaSAR_01_13098_slc_11_200719_101739_HH_4/metadata.xml', '-Poutput=/tmp/data/intermediate/NovaSAR_01_13098_slc_200719_101727_HH_tmp/NovaSAR_01_13098_slc_11_200719_101739_HH_4_ML_TC_TF.dim']\n"
     ]
    },
    {
     "name": "stdout",
     "output_type": "stream",
     "text": [
      "NovaSAR_01_13098_slc_11_200719_101739_HH_4\n",
      "/tmp/data/intermediate/NovaSAR_01_13098_slc_200719_101727_HH_tmp/NovaSAR_01_13098_slc_11_200719_101739_HH_4_ML_TC_TF.data/\n",
      "/tmp/data/intermediate/NovaSAR_01_13098_slc_200719_101727_HH_tmp/NovaSAR_01_13098_slc_11_200719_101739_HH_4_ML_TC_TF_cog/\n"
     ]
    },
    {
     "name": "stderr",
     "output_type": "stream",
     "text": [
      "INFO:snap_stderr:stderr:INFO: org.esa.snap.core.gpf.operators.tooladapter.ToolAdapterIO: Initializing external tool adapters\n",
      "INFO:snap_stderr:stderr:INFO: org.esa.s2tbx.dataio.gdal.GDALVersion: Incompatible GDAL 3.1.4 found on system. Internal GDAL 3.0.0 from distribution will be used.\n",
      "INFO:snap_stderr:stderr:INFO: org.esa.s2tbx.dataio.gdal.GDALVersion: Internal GDAL 3.0.0 set to be used by SNAP.\n",
      "INFO:snap_stderr:stderr:INFO: org.esa.snap.core.util.EngineVersionCheckActivator: Please check regularly for new updates for the best SNAP experience.\n",
      "INFO:snap_stderr:stderr:INFO: org.esa.s2tbx.dataio.gdal.GDALVersion: Internal GDAL 3.0.0 set to be used by SNAP.\n",
      "INFO:snap_stdout:Executing processing graph\n",
      "INFO:snap_stderr:stderr:INFO: org.hsqldb.persist.Logger: dataFileCache open start\n",
      "INFO:snap_stdout:....10%....20%....30%....40%....50%....60%....70%....80%....90% done.\n"
     ]
    },
    {
     "name": "stdout",
     "output_type": "stream",
     "text": [
      "/tmp/data/intermediate/NovaSAR_01_13098_slc_200719_101727_HH_tmp/NovaSAR_01_13098_slc_11_200719_101739_HH_4_ML_TC_TF_cog/NovaSAR_01_13098_slc_11_200719_101739_HH_4_Gamma0_Intensity_HH_db.tif\n",
      "2020-11-17 22:43:38 Starting conversion: /tmp/data/intermediate/NovaSAR_01_13098_slc_200719_101727_HH_tmp/NovaSAR_01_13098_slc_11_200719_101739_HH_4_ML_TC_TF.data/Gamma0_Intensity_HH_db.img.\n",
      "2020-11-17 22:43:44 Conversion complete: True.\n"
     ]
    },
    {
     "name": "stderr",
     "output_type": "stream",
     "text": [
      "DEBUG:root:running ['/opt/snap/bin/gpt', '/opt/notebooks/anc/novasar_slc_tf_tc.xml', '-Pinput=/tmp/data/intermediate/NovaSAR_01_13098_slc_200719_101727_HH_tmp/NovaSAR_01_13098_slc_200719_101727_HH/SV229/Image_Products$/NovaSAR_01_13098_slc_200719_101727_HH_/NovaSAR_01_13098_slc_11_200719_101743_HH_5/metadata.xml', '-Poutput=/tmp/data/intermediate/NovaSAR_01_13098_slc_200719_101727_HH_tmp/NovaSAR_01_13098_slc_11_200719_101743_HH_5_ML_TC_TF.dim']\n"
     ]
    },
    {
     "name": "stdout",
     "output_type": "stream",
     "text": [
      "NovaSAR_01_13098_slc_11_200719_101743_HH_5\n",
      "/tmp/data/intermediate/NovaSAR_01_13098_slc_200719_101727_HH_tmp/NovaSAR_01_13098_slc_11_200719_101743_HH_5_ML_TC_TF.data/\n",
      "/tmp/data/intermediate/NovaSAR_01_13098_slc_200719_101727_HH_tmp/NovaSAR_01_13098_slc_11_200719_101743_HH_5_ML_TC_TF_cog/\n"
     ]
    },
    {
     "name": "stderr",
     "output_type": "stream",
     "text": [
      "INFO:snap_stderr:stderr:INFO: org.esa.snap.core.gpf.operators.tooladapter.ToolAdapterIO: Initializing external tool adapters\n",
      "INFO:snap_stderr:stderr:INFO: org.esa.s2tbx.dataio.gdal.GDALVersion: Incompatible GDAL 3.1.4 found on system. Internal GDAL 3.0.0 from distribution will be used.\n",
      "INFO:snap_stderr:stderr:INFO: org.esa.s2tbx.dataio.gdal.GDALVersion: Internal GDAL 3.0.0 set to be used by SNAP.\n",
      "INFO:snap_stderr:stderr:INFO: org.esa.snap.core.util.EngineVersionCheckActivator: Please check regularly for new updates for the best SNAP experience.\n",
      "INFO:snap_stderr:stderr:INFO: org.esa.s2tbx.dataio.gdal.GDALVersion: Internal GDAL 3.0.0 set to be used by SNAP.\n",
      "INFO:snap_stdout:Executing processing graph\n",
      "INFO:snap_stderr:stderr:INFO: org.hsqldb.persist.Logger: dataFileCache open start\n",
      "INFO:snap_stdout:....10%....20%....30%....40%....50%....60%....70%....80%....90% done.\n"
     ]
    },
    {
     "name": "stdout",
     "output_type": "stream",
     "text": [
      "/tmp/data/intermediate/NovaSAR_01_13098_slc_200719_101727_HH_tmp/NovaSAR_01_13098_slc_11_200719_101743_HH_5_ML_TC_TF_cog/NovaSAR_01_13098_slc_11_200719_101743_HH_5_Gamma0_Intensity_HH_db.tif\n",
      "2020-11-17 22:45:55 Starting conversion: /tmp/data/intermediate/NovaSAR_01_13098_slc_200719_101727_HH_tmp/NovaSAR_01_13098_slc_11_200719_101743_HH_5_ML_TC_TF.data/Gamma0_Intensity_HH_db.img.\n",
      "2020-11-17 22:46:01 Conversion complete: True.\n"
     ]
    },
    {
     "name": "stderr",
     "output_type": "stream",
     "text": [
      "DEBUG:root:running ['/opt/snap/bin/gpt', '/opt/notebooks/anc/novasar_slc_tf_tc.xml', '-Pinput=/tmp/data/intermediate/NovaSAR_01_13098_slc_200719_101727_HH_tmp/NovaSAR_01_13098_slc_200719_101727_HH/SV229/Image_Products$/NovaSAR_01_13098_slc_200719_101727_HH_/NovaSAR_01_13098_slc_11_200719_101747_HH_6/metadata.xml', '-Poutput=/tmp/data/intermediate/NovaSAR_01_13098_slc_200719_101727_HH_tmp/NovaSAR_01_13098_slc_11_200719_101747_HH_6_ML_TC_TF.dim']\n"
     ]
    },
    {
     "name": "stdout",
     "output_type": "stream",
     "text": [
      "NovaSAR_01_13098_slc_11_200719_101747_HH_6\n",
      "/tmp/data/intermediate/NovaSAR_01_13098_slc_200719_101727_HH_tmp/NovaSAR_01_13098_slc_11_200719_101747_HH_6_ML_TC_TF.data/\n",
      "/tmp/data/intermediate/NovaSAR_01_13098_slc_200719_101727_HH_tmp/NovaSAR_01_13098_slc_11_200719_101747_HH_6_ML_TC_TF_cog/\n"
     ]
    },
    {
     "name": "stderr",
     "output_type": "stream",
     "text": [
      "INFO:snap_stderr:stderr:INFO: org.esa.snap.core.gpf.operators.tooladapter.ToolAdapterIO: Initializing external tool adapters\n",
      "INFO:snap_stderr:stderr:INFO: org.esa.s2tbx.dataio.gdal.GDALVersion: Incompatible GDAL 3.1.4 found on system. Internal GDAL 3.0.0 from distribution will be used.\n",
      "INFO:snap_stderr:stderr:INFO: org.esa.s2tbx.dataio.gdal.GDALVersion: Internal GDAL 3.0.0 set to be used by SNAP.\n",
      "INFO:snap_stderr:stderr:INFO: org.esa.snap.core.util.EngineVersionCheckActivator: Please check regularly for new updates for the best SNAP experience.\n",
      "INFO:snap_stderr:stderr:INFO: org.esa.s2tbx.dataio.gdal.GDALVersion: Internal GDAL 3.0.0 set to be used by SNAP.\n",
      "INFO:snap_stdout:Executing processing graph\n",
      "INFO:snap_stderr:stderr:INFO: org.hsqldb.persist.Logger: dataFileCache open start\n",
      "INFO:snap_stdout:....10%....20%....30%....40%....50%....60%....70%....80%....90% done.\n"
     ]
    },
    {
     "name": "stdout",
     "output_type": "stream",
     "text": [
      "/tmp/data/intermediate/NovaSAR_01_13098_slc_200719_101727_HH_tmp/NovaSAR_01_13098_slc_11_200719_101747_HH_6_ML_TC_TF_cog/NovaSAR_01_13098_slc_11_200719_101747_HH_6_Gamma0_Intensity_HH_db.tif\n",
      "2020-11-17 22:48:28 Starting conversion: /tmp/data/intermediate/NovaSAR_01_13098_slc_200719_101727_HH_tmp/NovaSAR_01_13098_slc_11_200719_101747_HH_6_ML_TC_TF.data/Gamma0_Intensity_HH_db.img.\n",
      "2020-11-17 22:48:39 Conversion complete: True.\n"
     ]
    },
    {
     "name": "stderr",
     "output_type": "stream",
     "text": [
      "DEBUG:root:running ['/opt/snap/bin/gpt', '/opt/notebooks/anc/novasar_slc_tf_tc.xml', '-Pinput=/tmp/data/intermediate/NovaSAR_01_13098_slc_200719_101727_HH_tmp/NovaSAR_01_13098_slc_200719_101727_HH/SV229/Image_Products$/NovaSAR_01_13098_slc_200719_101727_HH_/NovaSAR_01_13098_slc_11_200719_101751_HH_7/metadata.xml', '-Poutput=/tmp/data/intermediate/NovaSAR_01_13098_slc_200719_101727_HH_tmp/NovaSAR_01_13098_slc_11_200719_101751_HH_7_ML_TC_TF.dim']\n"
     ]
    },
    {
     "name": "stdout",
     "output_type": "stream",
     "text": [
      "NovaSAR_01_13098_slc_11_200719_101751_HH_7\n",
      "/tmp/data/intermediate/NovaSAR_01_13098_slc_200719_101727_HH_tmp/NovaSAR_01_13098_slc_11_200719_101751_HH_7_ML_TC_TF.data/\n",
      "/tmp/data/intermediate/NovaSAR_01_13098_slc_200719_101727_HH_tmp/NovaSAR_01_13098_slc_11_200719_101751_HH_7_ML_TC_TF_cog/\n"
     ]
    },
    {
     "name": "stderr",
     "output_type": "stream",
     "text": [
      "INFO:snap_stderr:stderr:INFO: org.esa.snap.core.gpf.operators.tooladapter.ToolAdapterIO: Initializing external tool adapters\n",
      "INFO:snap_stderr:stderr:INFO: org.esa.s2tbx.dataio.gdal.GDALVersion: Incompatible GDAL 3.1.4 found on system. Internal GDAL 3.0.0 from distribution will be used.\n",
      "INFO:snap_stderr:stderr:INFO: org.esa.s2tbx.dataio.gdal.GDALVersion: Internal GDAL 3.0.0 set to be used by SNAP.\n",
      "INFO:snap_stderr:stderr:INFO: org.esa.snap.core.util.EngineVersionCheckActivator: Please check regularly for new updates for the best SNAP experience.\n",
      "INFO:snap_stderr:stderr:INFO: org.esa.s2tbx.dataio.gdal.GDALVersion: Internal GDAL 3.0.0 set to be used by SNAP.\n",
      "INFO:snap_stdout:Executing processing graph\n",
      "INFO:snap_stderr:stderr:INFO: org.hsqldb.persist.Logger: dataFileCache open start\n",
      "INFO:snap_stdout:....10%....20%....30%....40%....50%....60%....70%....80%....90% done.\n"
     ]
    },
    {
     "name": "stdout",
     "output_type": "stream",
     "text": [
      "/tmp/data/intermediate/NovaSAR_01_13098_slc_200719_101727_HH_tmp/NovaSAR_01_13098_slc_11_200719_101751_HH_7_ML_TC_TF_cog/NovaSAR_01_13098_slc_11_200719_101751_HH_7_Gamma0_Intensity_HH_db.tif\n",
      "2020-11-17 22:50:44 Starting conversion: /tmp/data/intermediate/NovaSAR_01_13098_slc_200719_101727_HH_tmp/NovaSAR_01_13098_slc_11_200719_101751_HH_7_ML_TC_TF.data/Gamma0_Intensity_HH_db.img.\n",
      "2020-11-17 22:50:50 Conversion complete: True.\n"
     ]
    },
    {
     "name": "stderr",
     "output_type": "stream",
     "text": [
      "DEBUG:root:running ['/opt/snap/bin/gpt', '/opt/notebooks/anc/novasar_slc_tf_tc.xml', '-Pinput=/tmp/data/intermediate/NovaSAR_01_13098_slc_200719_101727_HH_tmp/NovaSAR_01_13098_slc_200719_101727_HH/SV229/Image_Products$/NovaSAR_01_13098_slc_200719_101727_HH_/NovaSAR_01_13098_slc_11_200719_101755_HH_8/metadata.xml', '-Poutput=/tmp/data/intermediate/NovaSAR_01_13098_slc_200719_101727_HH_tmp/NovaSAR_01_13098_slc_11_200719_101755_HH_8_ML_TC_TF.dim']\n"
     ]
    },
    {
     "name": "stdout",
     "output_type": "stream",
     "text": [
      "NovaSAR_01_13098_slc_11_200719_101755_HH_8\n",
      "/tmp/data/intermediate/NovaSAR_01_13098_slc_200719_101727_HH_tmp/NovaSAR_01_13098_slc_11_200719_101755_HH_8_ML_TC_TF.data/\n",
      "/tmp/data/intermediate/NovaSAR_01_13098_slc_200719_101727_HH_tmp/NovaSAR_01_13098_slc_11_200719_101755_HH_8_ML_TC_TF_cog/\n"
     ]
    },
    {
     "name": "stderr",
     "output_type": "stream",
     "text": [
      "INFO:snap_stderr:stderr:INFO: org.esa.snap.core.gpf.operators.tooladapter.ToolAdapterIO: Initializing external tool adapters\n",
      "INFO:snap_stderr:stderr:INFO: org.esa.s2tbx.dataio.gdal.GDALVersion: Incompatible GDAL 3.1.4 found on system. Internal GDAL 3.0.0 from distribution will be used.\n",
      "INFO:snap_stderr:stderr:INFO: org.esa.s2tbx.dataio.gdal.GDALVersion: Internal GDAL 3.0.0 set to be used by SNAP.\n",
      "INFO:snap_stderr:stderr:INFO: org.esa.snap.core.util.EngineVersionCheckActivator: Please check regularly for new updates for the best SNAP experience.\n",
      "INFO:snap_stderr:stderr:INFO: org.esa.s2tbx.dataio.gdal.GDALVersion: Internal GDAL 3.0.0 set to be used by SNAP.\n",
      "INFO:snap_stdout:Executing processing graph\n",
      "INFO:snap_stderr:stderr:INFO: org.hsqldb.persist.Logger: dataFileCache open start\n",
      "INFO:snap_stdout:....10%....20%....30%....40%....50%....60%....70%....80%....90% done.\n"
     ]
    },
    {
     "name": "stdout",
     "output_type": "stream",
     "text": [
      "/tmp/data/intermediate/NovaSAR_01_13098_slc_200719_101727_HH_tmp/NovaSAR_01_13098_slc_11_200719_101755_HH_8_ML_TC_TF_cog/NovaSAR_01_13098_slc_11_200719_101755_HH_8_Gamma0_Intensity_HH_db.tif\n",
      "2020-11-17 22:53:01 Starting conversion: /tmp/data/intermediate/NovaSAR_01_13098_slc_200719_101727_HH_tmp/NovaSAR_01_13098_slc_11_200719_101755_HH_8_ML_TC_TF.data/Gamma0_Intensity_HH_db.img.\n",
      "2020-11-17 22:53:06 Conversion complete: True.\n"
     ]
    },
    {
     "name": "stderr",
     "output_type": "stream",
     "text": [
      "DEBUG:root:running ['/opt/snap/bin/gpt', '/opt/notebooks/anc/novasar_slc_tf_tc.xml', '-Pinput=/tmp/data/intermediate/NovaSAR_01_13098_slc_200719_101727_HH_tmp/NovaSAR_01_13098_slc_200719_101727_HH/SV229/Image_Products$/NovaSAR_01_13098_slc_200719_101727_HH_/NovaSAR_01_13098_slc_11_200719_101759_HH_9/metadata.xml', '-Poutput=/tmp/data/intermediate/NovaSAR_01_13098_slc_200719_101727_HH_tmp/NovaSAR_01_13098_slc_11_200719_101759_HH_9_ML_TC_TF.dim']\n"
     ]
    },
    {
     "name": "stdout",
     "output_type": "stream",
     "text": [
      "NovaSAR_01_13098_slc_11_200719_101759_HH_9\n",
      "/tmp/data/intermediate/NovaSAR_01_13098_slc_200719_101727_HH_tmp/NovaSAR_01_13098_slc_11_200719_101759_HH_9_ML_TC_TF.data/\n",
      "/tmp/data/intermediate/NovaSAR_01_13098_slc_200719_101727_HH_tmp/NovaSAR_01_13098_slc_11_200719_101759_HH_9_ML_TC_TF_cog/\n"
     ]
    },
    {
     "name": "stderr",
     "output_type": "stream",
     "text": [
      "INFO:snap_stderr:stderr:INFO: org.esa.snap.core.gpf.operators.tooladapter.ToolAdapterIO: Initializing external tool adapters\n",
      "INFO:snap_stderr:stderr:INFO: org.esa.s2tbx.dataio.gdal.GDALVersion: Incompatible GDAL 3.1.4 found on system. Internal GDAL 3.0.0 from distribution will be used.\n",
      "INFO:snap_stderr:stderr:INFO: org.esa.s2tbx.dataio.gdal.GDALVersion: Internal GDAL 3.0.0 set to be used by SNAP.\n",
      "INFO:snap_stderr:stderr:INFO: org.esa.snap.core.util.EngineVersionCheckActivator: Please check regularly for new updates for the best SNAP experience.\n",
      "INFO:snap_stderr:stderr:INFO: org.esa.s2tbx.dataio.gdal.GDALVersion: Internal GDAL 3.0.0 set to be used by SNAP.\n",
      "INFO:snap_stdout:Executing processing graph\n",
      "INFO:snap_stderr:stderr:INFO: org.hsqldb.persist.Logger: dataFileCache open start\n",
      "INFO:snap_stdout:....10%....20%....30%....40%....50%....60%....70%....80%....90% done.\n"
     ]
    },
    {
     "name": "stdout",
     "output_type": "stream",
     "text": [
      "/tmp/data/intermediate/NovaSAR_01_13098_slc_200719_101727_HH_tmp/NovaSAR_01_13098_slc_11_200719_101759_HH_9_ML_TC_TF_cog/NovaSAR_01_13098_slc_11_200719_101759_HH_9_Gamma0_Intensity_HH_db.tif\n",
      "2020-11-17 22:55:18 Starting conversion: /tmp/data/intermediate/NovaSAR_01_13098_slc_200719_101727_HH_tmp/NovaSAR_01_13098_slc_11_200719_101759_HH_9_ML_TC_TF.data/Gamma0_Intensity_HH_db.img.\n",
      "2020-11-17 22:55:23 Conversion complete: True.\n"
     ]
    },
    {
     "name": "stderr",
     "output_type": "stream",
     "text": [
      "DEBUG:root:running ['/opt/snap/bin/gpt', '/opt/notebooks/anc/novasar_slc_tf_tc.xml', '-Pinput=/tmp/data/intermediate/NovaSAR_01_13098_slc_200719_101727_HH_tmp/NovaSAR_01_13098_slc_200719_101727_HH/SV229/Image_Products$/NovaSAR_01_13098_slc_200719_101727_HH_/NovaSAR_01_13098_slc_11_200719_101803_HH_10/metadata.xml', '-Poutput=/tmp/data/intermediate/NovaSAR_01_13098_slc_200719_101727_HH_tmp/NovaSAR_01_13098_slc_11_200719_101803_HH_10_ML_TC_TF.dim']\n"
     ]
    },
    {
     "name": "stdout",
     "output_type": "stream",
     "text": [
      "NovaSAR_01_13098_slc_11_200719_101803_HH_10\n",
      "/tmp/data/intermediate/NovaSAR_01_13098_slc_200719_101727_HH_tmp/NovaSAR_01_13098_slc_11_200719_101803_HH_10_ML_TC_TF.data/\n",
      "/tmp/data/intermediate/NovaSAR_01_13098_slc_200719_101727_HH_tmp/NovaSAR_01_13098_slc_11_200719_101803_HH_10_ML_TC_TF_cog/\n"
     ]
    },
    {
     "name": "stderr",
     "output_type": "stream",
     "text": [
      "INFO:snap_stderr:stderr:INFO: org.esa.snap.core.gpf.operators.tooladapter.ToolAdapterIO: Initializing external tool adapters\n",
      "INFO:snap_stderr:stderr:INFO: org.esa.s2tbx.dataio.gdal.GDALVersion: Incompatible GDAL 3.1.4 found on system. Internal GDAL 3.0.0 from distribution will be used.\n",
      "INFO:snap_stderr:stderr:INFO: org.esa.s2tbx.dataio.gdal.GDALVersion: Internal GDAL 3.0.0 set to be used by SNAP.\n",
      "INFO:snap_stderr:stderr:INFO: org.esa.snap.core.util.EngineVersionCheckActivator: Please check regularly for new updates for the best SNAP experience.\n",
      "INFO:snap_stderr:stderr:INFO: org.esa.s2tbx.dataio.gdal.GDALVersion: Internal GDAL 3.0.0 set to be used by SNAP.\n",
      "INFO:snap_stdout:Executing processing graph\n",
      "INFO:snap_stderr:stderr:INFO: org.hsqldb.persist.Logger: dataFileCache open start\n",
      "INFO:snap_stderr:stderr:INFO: org.esa.snap.core.dataop.dem.ElevationFile: http retrieving http://step.esa.int/auxdata/dem/SRTMGL1/N53W002.SRTMGL1.hgt.zip\n",
      "INFO:snap_stdout:....10%....20%....30%....40%....50%....60%....70%....80%....90% done.\n"
     ]
    },
    {
     "name": "stdout",
     "output_type": "stream",
     "text": [
      "/tmp/data/intermediate/NovaSAR_01_13098_slc_200719_101727_HH_tmp/NovaSAR_01_13098_slc_11_200719_101803_HH_10_ML_TC_TF_cog/NovaSAR_01_13098_slc_11_200719_101803_HH_10_Gamma0_Intensity_HH_db.tif\n",
      "2020-11-17 22:57:27 Starting conversion: /tmp/data/intermediate/NovaSAR_01_13098_slc_200719_101727_HH_tmp/NovaSAR_01_13098_slc_11_200719_101803_HH_10_ML_TC_TF.data/Gamma0_Intensity_HH_db.img.\n",
      "2020-11-17 22:57:37 Conversion complete: True.\n"
     ]
    },
    {
     "name": "stderr",
     "output_type": "stream",
     "text": [
      "DEBUG:root:running ['/opt/snap/bin/gpt', '/opt/notebooks/anc/novasar_slc_tf_tc.xml', '-Pinput=/tmp/data/intermediate/NovaSAR_01_13098_slc_200719_101727_HH_tmp/NovaSAR_01_13098_slc_200719_101727_HH/SV229/Image_Products$/NovaSAR_01_13098_slc_200719_101727_HH_/NovaSAR_01_13098_slc_11_200719_101807_HH_11/metadata.xml', '-Poutput=/tmp/data/intermediate/NovaSAR_01_13098_slc_200719_101727_HH_tmp/NovaSAR_01_13098_slc_11_200719_101807_HH_11_ML_TC_TF.dim']\n"
     ]
    },
    {
     "name": "stdout",
     "output_type": "stream",
     "text": [
      "NovaSAR_01_13098_slc_11_200719_101807_HH_11\n",
      "/tmp/data/intermediate/NovaSAR_01_13098_slc_200719_101727_HH_tmp/NovaSAR_01_13098_slc_11_200719_101807_HH_11_ML_TC_TF.data/\n",
      "/tmp/data/intermediate/NovaSAR_01_13098_slc_200719_101727_HH_tmp/NovaSAR_01_13098_slc_11_200719_101807_HH_11_ML_TC_TF_cog/\n"
     ]
    },
    {
     "name": "stderr",
     "output_type": "stream",
     "text": [
      "INFO:snap_stderr:stderr:INFO: org.esa.snap.core.gpf.operators.tooladapter.ToolAdapterIO: Initializing external tool adapters\n",
      "INFO:snap_stderr:stderr:INFO: org.esa.s2tbx.dataio.gdal.GDALVersion: Incompatible GDAL 3.1.4 found on system. Internal GDAL 3.0.0 from distribution will be used.\n",
      "INFO:snap_stderr:stderr:INFO: org.esa.s2tbx.dataio.gdal.GDALVersion: Internal GDAL 3.0.0 set to be used by SNAP.\n",
      "INFO:snap_stderr:stderr:INFO: org.esa.snap.core.util.EngineVersionCheckActivator: Please check regularly for new updates for the best SNAP experience.\n",
      "INFO:snap_stderr:stderr:INFO: org.esa.s2tbx.dataio.gdal.GDALVersion: Internal GDAL 3.0.0 set to be used by SNAP.\n",
      "INFO:snap_stdout:Executing processing graph\n",
      "INFO:snap_stderr:stderr:INFO: org.hsqldb.persist.Logger: dataFileCache open start\n",
      "INFO:snap_stderr:stderr:INFO: org.esa.snap.core.dataop.dem.ElevationFile: http retrieving http://step.esa.int/auxdata/dem/SRTMGL1/N53W003.SRTMGL1.hgt.zip\n",
      "INFO:snap_stderr:stderr:INFO: org.esa.snap.core.dataop.dem.ElevationFile: http retrieving http://step.esa.int/auxdata/dem/SRTMGL1/N52W003.SRTMGL1.hgt.zip\n",
      "INFO:snap_stdout:....10%....20%....30%....40%....50%....60%....70%....80%....90% done.\n"
     ]
    },
    {
     "name": "stdout",
     "output_type": "stream",
     "text": [
      "/tmp/data/intermediate/NovaSAR_01_13098_slc_200719_101727_HH_tmp/NovaSAR_01_13098_slc_11_200719_101807_HH_11_ML_TC_TF_cog/NovaSAR_01_13098_slc_11_200719_101807_HH_11_Gamma0_Intensity_HH_db.tif\n",
      "2020-11-17 22:59:44 Starting conversion: /tmp/data/intermediate/NovaSAR_01_13098_slc_200719_101727_HH_tmp/NovaSAR_01_13098_slc_11_200719_101807_HH_11_ML_TC_TF.data/Gamma0_Intensity_HH_db.img.\n",
      "2020-11-17 22:59:57 Conversion complete: True.\n"
     ]
    },
    {
     "name": "stderr",
     "output_type": "stream",
     "text": [
      "DEBUG:root:running ['/opt/snap/bin/gpt', '/opt/notebooks/anc/novasar_slc_tf_tc.xml', '-Pinput=/tmp/data/intermediate/NovaSAR_01_13098_slc_200719_101727_HH_tmp/NovaSAR_01_13098_slc_200719_101727_HH/SV229/Image_Products$/NovaSAR_01_13098_slc_200719_101727_HH_/NovaSAR_01_13098_slc_11_200719_101811_HH_12/metadata.xml', '-Poutput=/tmp/data/intermediate/NovaSAR_01_13098_slc_200719_101727_HH_tmp/NovaSAR_01_13098_slc_11_200719_101811_HH_12_ML_TC_TF.dim']\n"
     ]
    },
    {
     "name": "stdout",
     "output_type": "stream",
     "text": [
      "NovaSAR_01_13098_slc_11_200719_101811_HH_12\n",
      "/tmp/data/intermediate/NovaSAR_01_13098_slc_200719_101727_HH_tmp/NovaSAR_01_13098_slc_11_200719_101811_HH_12_ML_TC_TF.data/\n",
      "/tmp/data/intermediate/NovaSAR_01_13098_slc_200719_101727_HH_tmp/NovaSAR_01_13098_slc_11_200719_101811_HH_12_ML_TC_TF_cog/\n"
     ]
    },
    {
     "name": "stderr",
     "output_type": "stream",
     "text": [
      "INFO:snap_stderr:stderr:INFO: org.esa.snap.core.gpf.operators.tooladapter.ToolAdapterIO: Initializing external tool adapters\n",
      "INFO:snap_stderr:stderr:INFO: org.esa.s2tbx.dataio.gdal.GDALVersion: Incompatible GDAL 3.1.4 found on system. Internal GDAL 3.0.0 from distribution will be used.\n",
      "INFO:snap_stderr:stderr:INFO: org.esa.s2tbx.dataio.gdal.GDALVersion: Internal GDAL 3.0.0 set to be used by SNAP.\n",
      "INFO:snap_stderr:stderr:INFO: org.esa.snap.core.util.EngineVersionCheckActivator: Please check regularly for new updates for the best SNAP experience.\n",
      "INFO:snap_stderr:stderr:INFO: org.esa.s2tbx.dataio.gdal.GDALVersion: Internal GDAL 3.0.0 set to be used by SNAP.\n",
      "INFO:snap_stdout:Executing processing graph\n",
      "INFO:snap_stderr:stderr:INFO: org.hsqldb.persist.Logger: dataFileCache open start\n",
      "INFO:snap_stdout:....10%....20%....30%....40%....50%....60%....70%....80%....90% done.\n"
     ]
    },
    {
     "name": "stdout",
     "output_type": "stream",
     "text": [
      "/tmp/data/intermediate/NovaSAR_01_13098_slc_200719_101727_HH_tmp/NovaSAR_01_13098_slc_11_200719_101811_HH_12_ML_TC_TF_cog/NovaSAR_01_13098_slc_11_200719_101811_HH_12_Gamma0_Intensity_HH_db.tif\n",
      "2020-11-17 23:03:13 Starting conversion: /tmp/data/intermediate/NovaSAR_01_13098_slc_200719_101727_HH_tmp/NovaSAR_01_13098_slc_11_200719_101811_HH_12_ML_TC_TF.data/Gamma0_Intensity_HH_db.img.\n",
      "2020-11-17 23:03:27 Conversion complete: True.\n",
      "2020-11-17 23:04:20 Prepared NovaSAR_01_13098_slc_200719_101727_HH at novasar_uk_test/\n",
      "2020-11-17 23:04:20 Preparing NovaSAR_01_13081_slc_200718_232321_HH within /tmp/data/intermediate/NovaSAR_01_13081_slc_200718_232321_HH_tmp/\n"
     ]
    },
    {
     "name": "stderr",
     "output_type": "stream",
     "text": [
      "DEBUG:sedas_api:successful login.\n",
      "DEBUG:sedas_api:successful login.\n",
      "DEBUG:sedas_api:successful login.\n",
      "DEBUG:sedas_api:successful login.\n",
      "DEBUG:sedas_api:successful login.\n",
      "INFO:bulk_downloader:0 downloads pending, 0 downloads in progress, 0 requests pending\n",
      "INFO:bulk_downloader:2 active threads, 0 restarted.\n"
     ]
    },
    {
     "name": "stdout",
     "output_type": "stream",
     "text": [
      "2020-11-17 23:04:21 Downloading\n"
     ]
    },
    {
     "name": "stderr",
     "output_type": "stream",
     "text": [
      "DEBUG:bulk_downloader:1 downloads pending\n",
      "DEBUG:bulk_downloader:1 downloads pending\n",
      "INFO:bulk_downloader:downloading NovaSAR_01_13081_slc_200718_232321_HH to /tmp/data/intermediate/NovaSAR_01_13081_slc_200718_232321_HH_tmp/NovaSAR_01_13081_slc_200718_232321_HH.zip\n",
      "DEBUG:sedas_api:successful login.\n",
      "INFO:bulk_downloader:0 downloads pending, 1 downloads in progress, 0 requests pending\n",
      "INFO:bulk_downloader:2 active threads, 0 restarted.\n",
      "INFO:bulk_downloader:0 downloads pending, 1 downloads in progress, 0 requests pending\n",
      "INFO:bulk_downloader:2 active threads, 0 restarted.\n",
      "DEBUG:bulk_downloader:0 downloads pending\n",
      "DEBUG:bulk_downloader:monitor thread stopping\n"
     ]
    },
    {
     "name": "stdout",
     "output_type": "stream",
     "text": [
      "2020-11-17 23:04:36 Downloaded\n",
      "2020-11-17 23:04:36 Extracting /tmp/data/intermediate/NovaSAR_01_13081_slc_200718_232321_HH_tmp/NovaSAR_01_13081_slc_200718_232321_HH.zip\n"
     ]
    },
    {
     "name": "stderr",
     "output_type": "stream",
     "text": [
      "DEBUG:bulk_downloader:requests thread stopping\n",
      "DEBUG:root:running ['/opt/snap/bin/gpt', '/opt/notebooks/anc/novasar_slc_tf_tc.xml', '-Pinput=/tmp/data/intermediate/NovaSAR_01_13081_slc_200718_232321_HH_tmp/NovaSAR_01_13081_slc_200718_232321_HH/NovaSAR_01_13081_slc_11_200718_232321_HH/metadata.xml', '-Poutput=/tmp/data/intermediate/NovaSAR_01_13081_slc_200718_232321_HH_tmp/NovaSAR_01_13081_slc_11_200718_232321_HH_ML_TC_TF.dim']\n"
     ]
    },
    {
     "name": "stdout",
     "output_type": "stream",
     "text": [
      "2020-11-17 23:04:44 Extracted to /tmp/data/intermediate/NovaSAR_01_13081_slc_200718_232321_HH_tmp/NovaSAR_01_13081_slc_200718_232321_HH/\n",
      "NovaSAR_01_13081_slc_11_200718_232321_HH\n",
      "/tmp/data/intermediate/NovaSAR_01_13081_slc_200718_232321_HH_tmp/NovaSAR_01_13081_slc_11_200718_232321_HH_ML_TC_TF.data/\n",
      "/tmp/data/intermediate/NovaSAR_01_13081_slc_200718_232321_HH_tmp/NovaSAR_01_13081_slc_11_200718_232321_HH_ML_TC_TF_cog/\n"
     ]
    },
    {
     "name": "stderr",
     "output_type": "stream",
     "text": [
      "INFO:snap_stderr:stderr:INFO: org.esa.snap.core.gpf.operators.tooladapter.ToolAdapterIO: Initializing external tool adapters\n",
      "INFO:snap_stderr:stderr:INFO: org.esa.s2tbx.dataio.gdal.GDALVersion: Incompatible GDAL 3.1.4 found on system. Internal GDAL 3.0.0 from distribution will be used.\n",
      "INFO:snap_stderr:stderr:INFO: org.esa.s2tbx.dataio.gdal.GDALVersion: Internal GDAL 3.0.0 set to be used by SNAP.\n",
      "INFO:snap_stderr:stderr:INFO: org.esa.snap.core.util.EngineVersionCheckActivator: Please check regularly for new updates for the best SNAP experience.\n",
      "INFO:snap_stderr:stderr:INFO: org.esa.s2tbx.dataio.gdal.GDALVersion: Internal GDAL 3.0.0 set to be used by SNAP.\n",
      "INFO:snap_stdout:Executing processing graph\n",
      "INFO:snap_stderr:stderr:INFO: org.hsqldb.persist.Logger: dataFileCache open start\n",
      "INFO:snap_stdout:....10%....20%....30%....40%....50%....60%....70%....80%....90% done.\n"
     ]
    },
    {
     "name": "stdout",
     "output_type": "stream",
     "text": [
      "/tmp/data/intermediate/NovaSAR_01_13081_slc_200718_232321_HH_tmp/NovaSAR_01_13081_slc_11_200718_232321_HH_ML_TC_TF_cog/NovaSAR_01_13081_slc_11_200718_232321_HH_Gamma0_Intensity_HH_db.tif\n",
      "2020-11-17 23:07:02 Starting conversion: /tmp/data/intermediate/NovaSAR_01_13081_slc_200718_232321_HH_tmp/NovaSAR_01_13081_slc_11_200718_232321_HH_ML_TC_TF.data/Gamma0_Intensity_HH_db.img.\n",
      "2020-11-17 23:07:09 Conversion complete: True.\n"
     ]
    },
    {
     "name": "stderr",
     "output_type": "stream",
     "text": [
      "DEBUG:sedas_api:successful login.\n"
     ]
    },
    {
     "name": "stdout",
     "output_type": "stream",
     "text": [
      "2020-11-17 23:07:51 Prepared NovaSAR_01_13081_slc_200718_232321_HH at novasar_uk_test/\n",
      "2020-11-17 23:07:51 Preparing NovaSAR_01_12891_slc_11_200712_224901_HH_3 within /tmp/data/intermediate/NovaSAR_01_12891_slc_11_200712_224901_HH_3_tmp/\n"
     ]
    },
    {
     "name": "stderr",
     "output_type": "stream",
     "text": [
      "DEBUG:sedas_api:successful login.\n",
      "DEBUG:sedas_api:successful login.\n",
      "DEBUG:sedas_api:successful login.\n",
      "DEBUG:sedas_api:successful login.\n",
      "INFO:bulk_downloader:0 downloads pending, 0 downloads in progress, 0 requests pending\n",
      "INFO:bulk_downloader:2 active threads, 0 restarted.\n"
     ]
    },
    {
     "name": "stdout",
     "output_type": "stream",
     "text": [
      "2020-11-17 23:07:52 Downloading\n"
     ]
    },
    {
     "name": "stderr",
     "output_type": "stream",
     "text": [
      "DEBUG:bulk_downloader:1 downloads pending\n",
      "INFO:bulk_downloader:downloading NovaSAR_01_12891_slc_11_200712_224901_HH_3 to /tmp/data/intermediate/NovaSAR_01_12891_slc_11_200712_224901_HH_3_tmp/NovaSAR_01_12891_slc_11_200712_224901_HH_3.zip\n",
      "DEBUG:bulk_downloader:0 downloads pending\n",
      "DEBUG:sedas_api:successful login.\n",
      "INFO:bulk_downloader:0 downloads pending, 1 downloads in progress, 0 requests pending\n",
      "INFO:bulk_downloader:2 active threads, 0 restarted.\n",
      "INFO:bulk_downloader:0 downloads pending, 1 downloads in progress, 0 requests pending\n",
      "INFO:bulk_downloader:2 active threads, 0 restarted.\n",
      "INFO:bulk_downloader:0 downloads pending, 1 downloads in progress, 0 requests pending\n",
      "INFO:bulk_downloader:2 active threads, 0 restarted.\n",
      "INFO:bulk_downloader:0 downloads pending, 1 downloads in progress, 0 requests pending\n",
      "INFO:bulk_downloader:2 active threads, 0 restarted.\n",
      "DEBUG:bulk_downloader:0 downloads pending\n",
      "DEBUG:bulk_downloader:monitor thread stopping\n"
     ]
    },
    {
     "name": "stdout",
     "output_type": "stream",
     "text": [
      "2020-11-17 23:08:17 Downloaded\n",
      "2020-11-17 23:08:17 Extracting /tmp/data/intermediate/NovaSAR_01_12891_slc_11_200712_224901_HH_3_tmp/NovaSAR_01_12891_slc_11_200712_224901_HH_3.zip\n"
     ]
    },
    {
     "name": "stderr",
     "output_type": "stream",
     "text": [
      "DEBUG:bulk_downloader:requests thread stopping\n",
      "DEBUG:root:running ['/opt/snap/bin/gpt', '/opt/notebooks/anc/novasar_slc_tf_tc.xml', '-Pinput=/tmp/data/intermediate/NovaSAR_01_12891_slc_11_200712_224901_HH_3_tmp/NovaSAR_01_12891_slc_11_200712_224901_HH_3/NovaSAR_01_12891_slc_11_200712_224901_HH_3/metadata.xml', '-Poutput=/tmp/data/intermediate/NovaSAR_01_12891_slc_11_200712_224901_HH_3_tmp/NovaSAR_01_12891_slc_11_200712_224901_HH_3_ML_TC_TF.dim']\n"
     ]
    },
    {
     "name": "stdout",
     "output_type": "stream",
     "text": [
      "2020-11-17 23:08:33 Extracted to /tmp/data/intermediate/NovaSAR_01_12891_slc_11_200712_224901_HH_3_tmp/NovaSAR_01_12891_slc_11_200712_224901_HH_3/\n",
      "NovaSAR_01_12891_slc_11_200712_224901_HH_3\n",
      "/tmp/data/intermediate/NovaSAR_01_12891_slc_11_200712_224901_HH_3_tmp/NovaSAR_01_12891_slc_11_200712_224901_HH_3_ML_TC_TF.data/\n",
      "/tmp/data/intermediate/NovaSAR_01_12891_slc_11_200712_224901_HH_3_tmp/NovaSAR_01_12891_slc_11_200712_224901_HH_3_ML_TC_TF_cog/\n"
     ]
    },
    {
     "name": "stderr",
     "output_type": "stream",
     "text": [
      "INFO:snap_stderr:stderr:INFO: org.esa.snap.core.gpf.operators.tooladapter.ToolAdapterIO: Initializing external tool adapters\n",
      "INFO:snap_stderr:stderr:INFO: org.esa.s2tbx.dataio.gdal.GDALVersion: Incompatible GDAL 3.1.4 found on system. Internal GDAL 3.0.0 from distribution will be used.\n",
      "INFO:snap_stderr:stderr:INFO: org.esa.s2tbx.dataio.gdal.GDALVersion: Internal GDAL 3.0.0 set to be used by SNAP.\n",
      "INFO:snap_stderr:stderr:INFO: org.esa.snap.core.util.EngineVersionCheckActivator: Please check regularly for new updates for the best SNAP experience.\n",
      "INFO:snap_stderr:stderr:INFO: org.esa.s2tbx.dataio.gdal.GDALVersion: Internal GDAL 3.0.0 set to be used by SNAP.\n",
      "INFO:snap_stdout:Executing processing graph\n",
      "INFO:snap_stderr:stderr:INFO: org.hsqldb.persist.Logger: dataFileCache open start\n",
      "INFO:snap_stdout:....10%....20%....30%....40%....50%....60%....70%....80%....90% done.\n"
     ]
    },
    {
     "name": "stdout",
     "output_type": "stream",
     "text": [
      "/tmp/data/intermediate/NovaSAR_01_12891_slc_11_200712_224901_HH_3_tmp/NovaSAR_01_12891_slc_11_200712_224901_HH_3_ML_TC_TF_cog/NovaSAR_01_12891_slc_11_200712_224901_HH_3_Gamma0_Intensity_HH_db.tif\n",
      "2020-11-17 23:11:32 Starting conversion: /tmp/data/intermediate/NovaSAR_01_12891_slc_11_200712_224901_HH_3_tmp/NovaSAR_01_12891_slc_11_200712_224901_HH_3_ML_TC_TF.data/Gamma0_Intensity_HH_db.img.\n",
      "2020-11-17 23:11:42 Conversion complete: True.\n"
     ]
    },
    {
     "name": "stderr",
     "output_type": "stream",
     "text": [
      "DEBUG:sedas_api:successful login.\n"
     ]
    },
    {
     "name": "stdout",
     "output_type": "stream",
     "text": [
      "2020-11-17 23:12:45 Prepared NovaSAR_01_12891_slc_11_200712_224901_HH_3 at novasar_uk_test/\n",
      "2020-11-17 23:12:45 Preparing NovaSAR_01_12891_slc_11_200712_224856_HH_2 within /tmp/data/intermediate/NovaSAR_01_12891_slc_11_200712_224856_HH_2_tmp/\n"
     ]
    },
    {
     "name": "stderr",
     "output_type": "stream",
     "text": [
      "DEBUG:sedas_api:successful login.\n",
      "DEBUG:sedas_api:successful login.\n",
      "DEBUG:sedas_api:successful login.\n",
      "DEBUG:sedas_api:successful login.\n",
      "INFO:bulk_downloader:0 downloads pending, 0 downloads in progress, 0 requests pending\n",
      "INFO:bulk_downloader:2 active threads, 0 restarted.\n"
     ]
    },
    {
     "name": "stdout",
     "output_type": "stream",
     "text": [
      "2020-11-17 23:12:46 Downloading\n"
     ]
    },
    {
     "name": "stderr",
     "output_type": "stream",
     "text": [
      "DEBUG:bulk_downloader:1 downloads pending\n",
      "DEBUG:bulk_downloader:1 downloads pending\n",
      "INFO:bulk_downloader:downloading NovaSAR_01_12891_slc_11_200712_224856_HH_2 to /tmp/data/intermediate/NovaSAR_01_12891_slc_11_200712_224856_HH_2_tmp/NovaSAR_01_12891_slc_11_200712_224856_HH_2.zip\n",
      "DEBUG:sedas_api:successful login.\n",
      "INFO:bulk_downloader:0 downloads pending, 1 downloads in progress, 0 requests pending\n",
      "INFO:bulk_downloader:2 active threads, 0 restarted.\n",
      "INFO:bulk_downloader:0 downloads pending, 1 downloads in progress, 0 requests pending\n",
      "INFO:bulk_downloader:2 active threads, 0 restarted.\n",
      "DEBUG:bulk_downloader:0 downloads pending\n",
      "DEBUG:bulk_downloader:monitor thread stopping\n"
     ]
    },
    {
     "name": "stdout",
     "output_type": "stream",
     "text": [
      "2020-11-17 23:13:01 Downloaded\n",
      "2020-11-17 23:13:01 Extracting /tmp/data/intermediate/NovaSAR_01_12891_slc_11_200712_224856_HH_2_tmp/NovaSAR_01_12891_slc_11_200712_224856_HH_2.zip\n"
     ]
    },
    {
     "name": "stderr",
     "output_type": "stream",
     "text": [
      "DEBUG:bulk_downloader:requests thread stopping\n",
      "DEBUG:root:running ['/opt/snap/bin/gpt', '/opt/notebooks/anc/novasar_slc_tf_tc.xml', '-Pinput=/tmp/data/intermediate/NovaSAR_01_12891_slc_11_200712_224856_HH_2_tmp/NovaSAR_01_12891_slc_11_200712_224856_HH_2/NovaSAR_01_12891_slc_11_200712_224856_HH_2/metadata.xml', '-Poutput=/tmp/data/intermediate/NovaSAR_01_12891_slc_11_200712_224856_HH_2_tmp/NovaSAR_01_12891_slc_11_200712_224856_HH_2_ML_TC_TF.dim']\n"
     ]
    },
    {
     "name": "stdout",
     "output_type": "stream",
     "text": [
      "2020-11-17 23:13:10 Extracted to /tmp/data/intermediate/NovaSAR_01_12891_slc_11_200712_224856_HH_2_tmp/NovaSAR_01_12891_slc_11_200712_224856_HH_2/\n",
      "NovaSAR_01_12891_slc_11_200712_224856_HH_2\n",
      "/tmp/data/intermediate/NovaSAR_01_12891_slc_11_200712_224856_HH_2_tmp/NovaSAR_01_12891_slc_11_200712_224856_HH_2_ML_TC_TF.data/\n",
      "/tmp/data/intermediate/NovaSAR_01_12891_slc_11_200712_224856_HH_2_tmp/NovaSAR_01_12891_slc_11_200712_224856_HH_2_ML_TC_TF_cog/\n"
     ]
    },
    {
     "name": "stderr",
     "output_type": "stream",
     "text": [
      "INFO:snap_stderr:stderr:INFO: org.esa.snap.core.gpf.operators.tooladapter.ToolAdapterIO: Initializing external tool adapters\n",
      "INFO:snap_stderr:stderr:INFO: org.esa.s2tbx.dataio.gdal.GDALVersion: Incompatible GDAL 3.1.4 found on system. Internal GDAL 3.0.0 from distribution will be used.\n",
      "INFO:snap_stderr:stderr:INFO: org.esa.s2tbx.dataio.gdal.GDALVersion: Internal GDAL 3.0.0 set to be used by SNAP.\n",
      "INFO:snap_stderr:stderr:INFO: org.esa.snap.core.util.EngineVersionCheckActivator: Please check regularly for new updates for the best SNAP experience.\n",
      "INFO:snap_stderr:stderr:INFO: org.esa.s2tbx.dataio.gdal.GDALVersion: Internal GDAL 3.0.0 set to be used by SNAP.\n",
      "INFO:snap_stdout:Executing processing graph\n",
      "INFO:snap_stderr:stderr:INFO: org.hsqldb.persist.Logger: dataFileCache open start\n",
      "INFO:snap_stdout:....10%....20%....30%....40%....50%....60%....70%....80%....90% done.\n"
     ]
    },
    {
     "name": "stdout",
     "output_type": "stream",
     "text": [
      "/tmp/data/intermediate/NovaSAR_01_12891_slc_11_200712_224856_HH_2_tmp/NovaSAR_01_12891_slc_11_200712_224856_HH_2_ML_TC_TF_cog/NovaSAR_01_12891_slc_11_200712_224856_HH_2_Gamma0_Intensity_HH_db.tif\n",
      "2020-11-17 23:15:08 Starting conversion: /tmp/data/intermediate/NovaSAR_01_12891_slc_11_200712_224856_HH_2_tmp/NovaSAR_01_12891_slc_11_200712_224856_HH_2_ML_TC_TF.data/Gamma0_Intensity_HH_db.img.\n",
      "2020-11-17 23:15:14 Conversion complete: True.\n"
     ]
    },
    {
     "name": "stderr",
     "output_type": "stream",
     "text": [
      "DEBUG:sedas_api:successful login.\n"
     ]
    },
    {
     "name": "stdout",
     "output_type": "stream",
     "text": [
      "2020-11-17 23:15:49 Prepared NovaSAR_01_12891_slc_11_200712_224856_HH_2 at novasar_uk_test/\n",
      "2020-11-17 23:15:49 Preparing NovaSAR_01_12891_slc_11_200712_224852_HH_1 within /tmp/data/intermediate/NovaSAR_01_12891_slc_11_200712_224852_HH_1_tmp/\n"
     ]
    },
    {
     "name": "stderr",
     "output_type": "stream",
     "text": [
      "DEBUG:sedas_api:successful login.\n",
      "DEBUG:sedas_api:successful login.\n",
      "DEBUG:sedas_api:successful login.\n",
      "DEBUG:sedas_api:successful login.\n",
      "INFO:bulk_downloader:0 downloads pending, 0 downloads in progress, 0 requests pending\n",
      "INFO:bulk_downloader:2 active threads, 0 restarted.\n"
     ]
    },
    {
     "name": "stdout",
     "output_type": "stream",
     "text": [
      "2020-11-17 23:15:50 Downloading\n"
     ]
    },
    {
     "name": "stderr",
     "output_type": "stream",
     "text": [
      "DEBUG:bulk_downloader:1 downloads pending\n",
      "DEBUG:bulk_downloader:1 downloads pending\n",
      "INFO:bulk_downloader:downloading NovaSAR_01_12891_slc_11_200712_224852_HH_1 to /tmp/data/intermediate/NovaSAR_01_12891_slc_11_200712_224852_HH_1_tmp/NovaSAR_01_12891_slc_11_200712_224852_HH_1.zip\n",
      "DEBUG:sedas_api:successful login.\n",
      "INFO:bulk_downloader:0 downloads pending, 1 downloads in progress, 0 requests pending\n",
      "INFO:bulk_downloader:2 active threads, 0 restarted.\n",
      "INFO:bulk_downloader:0 downloads pending, 1 downloads in progress, 0 requests pending\n",
      "INFO:bulk_downloader:2 active threads, 0 restarted.\n",
      "DEBUG:bulk_downloader:0 downloads pending\n",
      "DEBUG:bulk_downloader:requests thread stopping\n",
      "DEBUG:bulk_downloader:monitor thread stopping\n"
     ]
    },
    {
     "name": "stdout",
     "output_type": "stream",
     "text": [
      "2020-11-17 23:16:05 Downloaded\n",
      "2020-11-17 23:16:05 Extracting /tmp/data/intermediate/NovaSAR_01_12891_slc_11_200712_224852_HH_1_tmp/NovaSAR_01_12891_slc_11_200712_224852_HH_1.zip\n"
     ]
    },
    {
     "name": "stderr",
     "output_type": "stream",
     "text": [
      "DEBUG:root:running ['/opt/snap/bin/gpt', '/opt/notebooks/anc/novasar_slc_tf_tc.xml', '-Pinput=/tmp/data/intermediate/NovaSAR_01_12891_slc_11_200712_224852_HH_1_tmp/NovaSAR_01_12891_slc_11_200712_224852_HH_1/NovaSAR_01_12891_slc_11_200712_224852_HH_1/metadata.xml', '-Poutput=/tmp/data/intermediate/NovaSAR_01_12891_slc_11_200712_224852_HH_1_tmp/NovaSAR_01_12891_slc_11_200712_224852_HH_1_ML_TC_TF.dim']\n"
     ]
    },
    {
     "name": "stdout",
     "output_type": "stream",
     "text": [
      "2020-11-17 23:16:13 Extracted to /tmp/data/intermediate/NovaSAR_01_12891_slc_11_200712_224852_HH_1_tmp/NovaSAR_01_12891_slc_11_200712_224852_HH_1/\n",
      "NovaSAR_01_12891_slc_11_200712_224852_HH_1\n",
      "/tmp/data/intermediate/NovaSAR_01_12891_slc_11_200712_224852_HH_1_tmp/NovaSAR_01_12891_slc_11_200712_224852_HH_1_ML_TC_TF.data/\n",
      "/tmp/data/intermediate/NovaSAR_01_12891_slc_11_200712_224852_HH_1_tmp/NovaSAR_01_12891_slc_11_200712_224852_HH_1_ML_TC_TF_cog/\n"
     ]
    },
    {
     "name": "stderr",
     "output_type": "stream",
     "text": [
      "INFO:snap_stderr:stderr:INFO: org.esa.snap.core.gpf.operators.tooladapter.ToolAdapterIO: Initializing external tool adapters\n",
      "INFO:snap_stderr:stderr:INFO: org.esa.s2tbx.dataio.gdal.GDALVersion: Incompatible GDAL 3.1.4 found on system. Internal GDAL 3.0.0 from distribution will be used.\n",
      "INFO:snap_stderr:stderr:INFO: org.esa.s2tbx.dataio.gdal.GDALVersion: Internal GDAL 3.0.0 set to be used by SNAP.\n",
      "INFO:snap_stderr:stderr:INFO: org.esa.snap.core.util.EngineVersionCheckActivator: Please check regularly for new updates for the best SNAP experience.\n",
      "INFO:snap_stderr:stderr:INFO: org.esa.s2tbx.dataio.gdal.GDALVersion: Internal GDAL 3.0.0 set to be used by SNAP.\n",
      "INFO:snap_stdout:Executing processing graph\n",
      "INFO:snap_stderr:stderr:INFO: org.hsqldb.persist.Logger: dataFileCache open start\n",
      "INFO:snap_stdout:....10%....20%....30%....40%....50%....60%....70%....80%....90% done.\n"
     ]
    },
    {
     "name": "stdout",
     "output_type": "stream",
     "text": [
      "/tmp/data/intermediate/NovaSAR_01_12891_slc_11_200712_224852_HH_1_tmp/NovaSAR_01_12891_slc_11_200712_224852_HH_1_ML_TC_TF_cog/NovaSAR_01_12891_slc_11_200712_224852_HH_1_Gamma0_Intensity_HH_db.tif\n",
      "2020-11-17 23:18:07 Starting conversion: /tmp/data/intermediate/NovaSAR_01_12891_slc_11_200712_224852_HH_1_tmp/NovaSAR_01_12891_slc_11_200712_224852_HH_1_ML_TC_TF.data/Gamma0_Intensity_HH_db.img.\n",
      "2020-11-17 23:18:13 Conversion complete: True.\n"
     ]
    },
    {
     "name": "stderr",
     "output_type": "stream",
     "text": [
      "DEBUG:sedas_api:successful login.\n"
     ]
    },
    {
     "name": "stdout",
     "output_type": "stream",
     "text": [
      "2020-11-17 23:18:48 Prepared NovaSAR_01_12891_slc_11_200712_224852_HH_1 at novasar_uk_test/\n",
      "2020-11-17 23:18:48 Preparing NovaSAR_01_12891_slc_200712_224852_HH within /tmp/data/intermediate/NovaSAR_01_12891_slc_200712_224852_HH_tmp/\n"
     ]
    },
    {
     "name": "stderr",
     "output_type": "stream",
     "text": [
      "DEBUG:sedas_api:successful login.\n",
      "DEBUG:sedas_api:successful login.\n",
      "DEBUG:sedas_api:successful login.\n",
      "DEBUG:sedas_api:successful login.\n",
      "INFO:bulk_downloader:0 downloads pending, 0 downloads in progress, 0 requests pending\n",
      "INFO:bulk_downloader:2 active threads, 0 restarted.\n"
     ]
    },
    {
     "name": "stdout",
     "output_type": "stream",
     "text": [
      "2020-11-17 23:18:49 Downloading\n"
     ]
    },
    {
     "name": "stderr",
     "output_type": "stream",
     "text": [
      "DEBUG:bulk_downloader:1 downloads pending\n",
      "DEBUG:bulk_downloader:1 downloads pending\n",
      "INFO:bulk_downloader:downloading NovaSAR_01_12891_slc_200712_224852_HH to /tmp/data/intermediate/NovaSAR_01_12891_slc_200712_224852_HH_tmp/NovaSAR_01_12891_slc_200712_224852_HH.zip\n",
      "DEBUG:sedas_api:successful login.\n",
      "INFO:bulk_downloader:0 downloads pending, 1 downloads in progress, 0 requests pending\n",
      "INFO:bulk_downloader:2 active threads, 0 restarted.\n",
      "INFO:bulk_downloader:0 downloads pending, 1 downloads in progress, 0 requests pending\n",
      "INFO:bulk_downloader:2 active threads, 0 restarted.\n",
      "INFO:bulk_downloader:0 downloads pending, 1 downloads in progress, 0 requests pending\n",
      "INFO:bulk_downloader:2 active threads, 0 restarted.\n",
      "INFO:bulk_downloader:0 downloads pending, 1 downloads in progress, 0 requests pending\n",
      "INFO:bulk_downloader:2 active threads, 0 restarted.\n",
      "INFO:bulk_downloader:0 downloads pending, 1 downloads in progress, 0 requests pending\n",
      "INFO:bulk_downloader:2 active threads, 0 restarted.\n",
      "INFO:bulk_downloader:0 downloads pending, 1 downloads in progress, 0 requests pending\n",
      "INFO:bulk_downloader:2 active threads, 0 restarted.\n",
      "INFO:bulk_downloader:0 downloads pending, 1 downloads in progress, 0 requests pending\n",
      "INFO:bulk_downloader:2 active threads, 0 restarted.\n",
      "INFO:bulk_downloader:0 downloads pending, 1 downloads in progress, 0 requests pending\n",
      "INFO:bulk_downloader:2 active threads, 0 restarted.\n",
      "DEBUG:bulk_downloader:0 downloads pending\n",
      "DEBUG:bulk_downloader:requests thread stopping\n",
      "DEBUG:bulk_downloader:monitor thread stopping\n"
     ]
    },
    {
     "name": "stdout",
     "output_type": "stream",
     "text": [
      "2020-11-17 23:19:34 Downloaded\n",
      "2020-11-17 23:19:34 Extracting /tmp/data/intermediate/NovaSAR_01_12891_slc_200712_224852_HH_tmp/NovaSAR_01_12891_slc_200712_224852_HH.zip\n"
     ]
    },
    {
     "name": "stderr",
     "output_type": "stream",
     "text": [
      "DEBUG:root:running ['/opt/snap/bin/gpt', '/opt/notebooks/anc/novasar_slc_tf_tc.xml', '-Pinput=/tmp/data/intermediate/NovaSAR_01_12891_slc_200712_224852_HH_tmp/NovaSAR_01_12891_slc_200712_224852_HH/SV229/Image_Products$/NovaSAR_01_12891_slc_200712_224852_HH_/NovaSAR_01_12891_slc_11_200712_224852_HH_1/metadata.xml', '-Poutput=/tmp/data/intermediate/NovaSAR_01_12891_slc_200712_224852_HH_tmp/NovaSAR_01_12891_slc_11_200712_224852_HH_1_ML_TC_TF.dim']\n"
     ]
    },
    {
     "name": "stdout",
     "output_type": "stream",
     "text": [
      "2020-11-17 23:20:04 Extracted to /tmp/data/intermediate/NovaSAR_01_12891_slc_200712_224852_HH_tmp/NovaSAR_01_12891_slc_200712_224852_HH/\n",
      "NovaSAR_01_12891_slc_11_200712_224852_HH_1\n",
      "/tmp/data/intermediate/NovaSAR_01_12891_slc_200712_224852_HH_tmp/NovaSAR_01_12891_slc_11_200712_224852_HH_1_ML_TC_TF.data/\n",
      "/tmp/data/intermediate/NovaSAR_01_12891_slc_200712_224852_HH_tmp/NovaSAR_01_12891_slc_11_200712_224852_HH_1_ML_TC_TF_cog/\n"
     ]
    },
    {
     "name": "stderr",
     "output_type": "stream",
     "text": [
      "INFO:snap_stderr:stderr:INFO: org.esa.snap.core.gpf.operators.tooladapter.ToolAdapterIO: Initializing external tool adapters\n",
      "INFO:snap_stderr:stderr:INFO: org.esa.s2tbx.dataio.gdal.GDALVersion: Incompatible GDAL 3.1.4 found on system. Internal GDAL 3.0.0 from distribution will be used.\n",
      "INFO:snap_stderr:stderr:INFO: org.esa.s2tbx.dataio.gdal.GDALVersion: Internal GDAL 3.0.0 set to be used by SNAP.\n",
      "INFO:snap_stderr:stderr:INFO: org.esa.snap.core.util.EngineVersionCheckActivator: Please check regularly for new updates for the best SNAP experience.\n",
      "INFO:snap_stderr:stderr:INFO: org.esa.s2tbx.dataio.gdal.GDALVersion: Internal GDAL 3.0.0 set to be used by SNAP.\n",
      "INFO:snap_stdout:Executing processing graph\n",
      "INFO:snap_stderr:stderr:INFO: org.hsqldb.persist.Logger: dataFileCache open start\n",
      "INFO:snap_stdout:....10%....20%....30%....40%....50%....60%....70%....80%....90% done.\n"
     ]
    },
    {
     "name": "stdout",
     "output_type": "stream",
     "text": [
      "/tmp/data/intermediate/NovaSAR_01_12891_slc_200712_224852_HH_tmp/NovaSAR_01_12891_slc_11_200712_224852_HH_1_ML_TC_TF_cog/NovaSAR_01_12891_slc_11_200712_224852_HH_1_Gamma0_Intensity_HH_db.tif\n",
      "2020-11-17 23:22:01 Starting conversion: /tmp/data/intermediate/NovaSAR_01_12891_slc_200712_224852_HH_tmp/NovaSAR_01_12891_slc_11_200712_224852_HH_1_ML_TC_TF.data/Gamma0_Intensity_HH_db.img.\n",
      "2020-11-17 23:22:07 Conversion complete: True.\n"
     ]
    },
    {
     "name": "stderr",
     "output_type": "stream",
     "text": [
      "DEBUG:root:running ['/opt/snap/bin/gpt', '/opt/notebooks/anc/novasar_slc_tf_tc.xml', '-Pinput=/tmp/data/intermediate/NovaSAR_01_12891_slc_200712_224852_HH_tmp/NovaSAR_01_12891_slc_200712_224852_HH/SV229/Image_Products$/NovaSAR_01_12891_slc_200712_224852_HH_/NovaSAR_01_12891_slc_11_200712_224856_HH_2/metadata.xml', '-Poutput=/tmp/data/intermediate/NovaSAR_01_12891_slc_200712_224852_HH_tmp/NovaSAR_01_12891_slc_11_200712_224856_HH_2_ML_TC_TF.dim']\n"
     ]
    },
    {
     "name": "stdout",
     "output_type": "stream",
     "text": [
      "NovaSAR_01_12891_slc_11_200712_224856_HH_2\n",
      "/tmp/data/intermediate/NovaSAR_01_12891_slc_200712_224852_HH_tmp/NovaSAR_01_12891_slc_11_200712_224856_HH_2_ML_TC_TF.data/\n",
      "/tmp/data/intermediate/NovaSAR_01_12891_slc_200712_224852_HH_tmp/NovaSAR_01_12891_slc_11_200712_224856_HH_2_ML_TC_TF_cog/\n"
     ]
    },
    {
     "name": "stderr",
     "output_type": "stream",
     "text": [
      "INFO:snap_stderr:stderr:INFO: org.esa.snap.core.gpf.operators.tooladapter.ToolAdapterIO: Initializing external tool adapters\n",
      "INFO:snap_stderr:stderr:INFO: org.esa.s2tbx.dataio.gdal.GDALVersion: Incompatible GDAL 3.1.4 found on system. Internal GDAL 3.0.0 from distribution will be used.\n",
      "INFO:snap_stderr:stderr:INFO: org.esa.s2tbx.dataio.gdal.GDALVersion: Internal GDAL 3.0.0 set to be used by SNAP.\n",
      "INFO:snap_stderr:stderr:INFO: org.esa.snap.core.util.EngineVersionCheckActivator: Please check regularly for new updates for the best SNAP experience.\n",
      "INFO:snap_stderr:stderr:INFO: org.esa.s2tbx.dataio.gdal.GDALVersion: Internal GDAL 3.0.0 set to be used by SNAP.\n",
      "INFO:snap_stdout:Executing processing graph\n",
      "INFO:snap_stderr:stderr:INFO: org.hsqldb.persist.Logger: dataFileCache open start\n",
      "INFO:snap_stdout:....10%....20%....30%....40%....50%....60%....70%....80%....90% done.\n"
     ]
    },
    {
     "name": "stdout",
     "output_type": "stream",
     "text": [
      "/tmp/data/intermediate/NovaSAR_01_12891_slc_200712_224852_HH_tmp/NovaSAR_01_12891_slc_11_200712_224856_HH_2_ML_TC_TF_cog/NovaSAR_01_12891_slc_11_200712_224856_HH_2_Gamma0_Intensity_HH_db.tif\n",
      "2020-11-17 23:24:38 Starting conversion: /tmp/data/intermediate/NovaSAR_01_12891_slc_200712_224852_HH_tmp/NovaSAR_01_12891_slc_11_200712_224856_HH_2_ML_TC_TF.data/Gamma0_Intensity_HH_db.img.\n",
      "2020-11-17 23:24:44 Conversion complete: True.\n"
     ]
    },
    {
     "name": "stderr",
     "output_type": "stream",
     "text": [
      "DEBUG:root:running ['/opt/snap/bin/gpt', '/opt/notebooks/anc/novasar_slc_tf_tc.xml', '-Pinput=/tmp/data/intermediate/NovaSAR_01_12891_slc_200712_224852_HH_tmp/NovaSAR_01_12891_slc_200712_224852_HH/SV229/Image_Products$/NovaSAR_01_12891_slc_200712_224852_HH_/NovaSAR_01_12891_slc_11_200712_224901_HH_3/metadata.xml', '-Poutput=/tmp/data/intermediate/NovaSAR_01_12891_slc_200712_224852_HH_tmp/NovaSAR_01_12891_slc_11_200712_224901_HH_3_ML_TC_TF.dim']\n"
     ]
    },
    {
     "name": "stdout",
     "output_type": "stream",
     "text": [
      "NovaSAR_01_12891_slc_11_200712_224901_HH_3\n",
      "/tmp/data/intermediate/NovaSAR_01_12891_slc_200712_224852_HH_tmp/NovaSAR_01_12891_slc_11_200712_224901_HH_3_ML_TC_TF.data/\n",
      "/tmp/data/intermediate/NovaSAR_01_12891_slc_200712_224852_HH_tmp/NovaSAR_01_12891_slc_11_200712_224901_HH_3_ML_TC_TF_cog/\n"
     ]
    },
    {
     "name": "stderr",
     "output_type": "stream",
     "text": [
      "INFO:snap_stderr:stderr:INFO: org.esa.snap.core.gpf.operators.tooladapter.ToolAdapterIO: Initializing external tool adapters\n",
      "INFO:snap_stderr:stderr:INFO: org.esa.s2tbx.dataio.gdal.GDALVersion: Incompatible GDAL 3.1.4 found on system. Internal GDAL 3.0.0 from distribution will be used.\n",
      "INFO:snap_stderr:stderr:INFO: org.esa.s2tbx.dataio.gdal.GDALVersion: Internal GDAL 3.0.0 set to be used by SNAP.\n",
      "INFO:snap_stderr:stderr:INFO: org.esa.snap.core.util.EngineVersionCheckActivator: Please check regularly for new updates for the best SNAP experience.\n",
      "INFO:snap_stderr:stderr:INFO: org.esa.s2tbx.dataio.gdal.GDALVersion: Internal GDAL 3.0.0 set to be used by SNAP.\n",
      "INFO:snap_stdout:Executing processing graph\n",
      "INFO:snap_stderr:stderr:INFO: org.hsqldb.persist.Logger: dataFileCache open start\n",
      "INFO:snap_stdout:....10%....20%....30%....40%....50%....60%....70%....80%....90% done.\n"
     ]
    },
    {
     "name": "stdout",
     "output_type": "stream",
     "text": [
      "/tmp/data/intermediate/NovaSAR_01_12891_slc_200712_224852_HH_tmp/NovaSAR_01_12891_slc_11_200712_224901_HH_3_ML_TC_TF_cog/NovaSAR_01_12891_slc_11_200712_224901_HH_3_Gamma0_Intensity_HH_db.tif\n",
      "2020-11-17 23:28:16 Starting conversion: /tmp/data/intermediate/NovaSAR_01_12891_slc_200712_224852_HH_tmp/NovaSAR_01_12891_slc_11_200712_224901_HH_3_ML_TC_TF.data/Gamma0_Intensity_HH_db.img.\n",
      "2020-11-17 23:28:26 Conversion complete: True.\n",
      "2020-11-17 23:29:28 Prepared NovaSAR_01_12891_slc_200712_224852_HH at novasar_uk_test/\n",
      "2020-11-17 23:29:28 Preparing NovaSAR_01_12772_slc_200707_235524_HH within /tmp/data/intermediate/NovaSAR_01_12772_slc_200707_235524_HH_tmp/\n"
     ]
    },
    {
     "name": "stderr",
     "output_type": "stream",
     "text": [
      "DEBUG:sedas_api:successful login.\n",
      "DEBUG:sedas_api:successful login.\n",
      "DEBUG:sedas_api:successful login.\n",
      "DEBUG:sedas_api:successful login.\n",
      "DEBUG:sedas_api:successful login.\n",
      "INFO:bulk_downloader:0 downloads pending, 0 downloads in progress, 0 requests pending\n",
      "INFO:bulk_downloader:2 active threads, 0 restarted.\n"
     ]
    },
    {
     "name": "stdout",
     "output_type": "stream",
     "text": [
      "2020-11-17 23:29:29 Downloading\n"
     ]
    },
    {
     "name": "stderr",
     "output_type": "stream",
     "text": [
      "DEBUG:bulk_downloader:1 downloads pending\n",
      "DEBUG:bulk_downloader:1 downloads pending\n",
      "INFO:bulk_downloader:downloading NovaSAR_01_12772_slc_200707_235524_HH to /tmp/data/intermediate/NovaSAR_01_12772_slc_200707_235524_HH_tmp/NovaSAR_01_12772_slc_200707_235524_HH.zip\n",
      "DEBUG:sedas_api:successful login.\n",
      "INFO:bulk_downloader:0 downloads pending, 1 downloads in progress, 0 requests pending\n",
      "INFO:bulk_downloader:2 active threads, 0 restarted.\n",
      "INFO:bulk_downloader:0 downloads pending, 1 downloads in progress, 0 requests pending\n",
      "INFO:bulk_downloader:2 active threads, 0 restarted.\n",
      "INFO:bulk_downloader:0 downloads pending, 1 downloads in progress, 0 requests pending\n",
      "INFO:bulk_downloader:2 active threads, 0 restarted.\n",
      "DEBUG:bulk_downloader:monitor thread stopping\n",
      "DEBUG:bulk_downloader:0 downloads pending\n"
     ]
    },
    {
     "name": "stdout",
     "output_type": "stream",
     "text": [
      "2020-11-17 23:29:49 Downloaded\n",
      "2020-11-17 23:29:49 Extracting /tmp/data/intermediate/NovaSAR_01_12772_slc_200707_235524_HH_tmp/NovaSAR_01_12772_slc_200707_235524_HH.zip\n"
     ]
    },
    {
     "name": "stderr",
     "output_type": "stream",
     "text": [
      "DEBUG:bulk_downloader:requests thread stopping\n",
      "DEBUG:root:running ['/opt/snap/bin/gpt', '/opt/notebooks/anc/novasar_slc_tf_tc.xml', '-Pinput=/tmp/data/intermediate/NovaSAR_01_12772_slc_200707_235524_HH_tmp/NovaSAR_01_12772_slc_200707_235524_HH/SV229/Image_Products$/NovaSAR_01_12772_slc_200707_235524_HH_/NovaSAR_01_12772_slc_11_200707_235524_HH/metadata.xml', '-Poutput=/tmp/data/intermediate/NovaSAR_01_12772_slc_200707_235524_HH_tmp/NovaSAR_01_12772_slc_11_200707_235524_HH_ML_TC_TF.dim']\n"
     ]
    },
    {
     "name": "stdout",
     "output_type": "stream",
     "text": [
      "2020-11-17 23:30:03 Extracted to /tmp/data/intermediate/NovaSAR_01_12772_slc_200707_235524_HH_tmp/NovaSAR_01_12772_slc_200707_235524_HH/\n",
      "NovaSAR_01_12772_slc_11_200707_235524_HH\n",
      "/tmp/data/intermediate/NovaSAR_01_12772_slc_200707_235524_HH_tmp/NovaSAR_01_12772_slc_11_200707_235524_HH_ML_TC_TF.data/\n",
      "/tmp/data/intermediate/NovaSAR_01_12772_slc_200707_235524_HH_tmp/NovaSAR_01_12772_slc_11_200707_235524_HH_ML_TC_TF_cog/\n"
     ]
    },
    {
     "name": "stderr",
     "output_type": "stream",
     "text": [
      "INFO:snap_stderr:stderr:INFO: org.esa.snap.core.gpf.operators.tooladapter.ToolAdapterIO: Initializing external tool adapters\n",
      "INFO:snap_stderr:stderr:INFO: org.esa.s2tbx.dataio.gdal.GDALVersion: Incompatible GDAL 3.1.4 found on system. Internal GDAL 3.0.0 from distribution will be used.\n",
      "INFO:snap_stderr:stderr:INFO: org.esa.s2tbx.dataio.gdal.GDALVersion: Internal GDAL 3.0.0 set to be used by SNAP.\n",
      "INFO:snap_stderr:stderr:INFO: org.esa.snap.core.util.EngineVersionCheckActivator: Please check regularly for new updates for the best SNAP experience.\n",
      "INFO:snap_stderr:stderr:INFO: org.esa.s2tbx.dataio.gdal.GDALVersion: Internal GDAL 3.0.0 set to be used by SNAP.\n",
      "INFO:snap_stdout:Executing processing graph\n",
      "INFO:snap_stderr:stderr:INFO: org.hsqldb.persist.Logger: dataFileCache open start\n",
      "INFO:snap_stderr:stderr:INFO: org.esa.snap.core.dataop.dem.ElevationFile: http retrieving http://step.esa.int/auxdata/dem/SRTMGL1/N53W007.SRTMGL1.hgt.zip\n",
      "INFO:snap_stdout:....10%....20%....30%....40%....50%....60%....70%....80%....90% done.\n"
     ]
    },
    {
     "name": "stdout",
     "output_type": "stream",
     "text": [
      "/tmp/data/intermediate/NovaSAR_01_12772_slc_200707_235524_HH_tmp/NovaSAR_01_12772_slc_11_200707_235524_HH_ML_TC_TF_cog/NovaSAR_01_12772_slc_11_200707_235524_HH_Gamma0_Intensity_HH_db.tif\n",
      "2020-11-17 23:35:09 Starting conversion: /tmp/data/intermediate/NovaSAR_01_12772_slc_200707_235524_HH_tmp/NovaSAR_01_12772_slc_11_200707_235524_HH_ML_TC_TF.data/Gamma0_Intensity_HH_db.img.\n",
      "2020-11-17 23:35:18 Conversion complete: True.\n"
     ]
    },
    {
     "name": "stderr",
     "output_type": "stream",
     "text": [
      "DEBUG:sedas_api:successful login.\n"
     ]
    },
    {
     "name": "stdout",
     "output_type": "stream",
     "text": [
      "2020-11-17 23:36:08 Prepared NovaSAR_01_12772_slc_200707_235524_HH at novasar_uk_test/\n",
      "2020-11-17 23:36:08 Preparing NovaSAR_01_12729_slc_200706_103817_HH within /tmp/data/intermediate/NovaSAR_01_12729_slc_200706_103817_HH_tmp/\n"
     ]
    },
    {
     "name": "stderr",
     "output_type": "stream",
     "text": [
      "DEBUG:sedas_api:successful login.\n",
      "DEBUG:sedas_api:successful login.\n",
      "DEBUG:sedas_api:successful login.\n",
      "DEBUG:sedas_api:successful login.\n",
      "INFO:bulk_downloader:0 downloads pending, 0 downloads in progress, 0 requests pending\n",
      "INFO:bulk_downloader:2 active threads, 0 restarted.\n"
     ]
    },
    {
     "name": "stdout",
     "output_type": "stream",
     "text": [
      "2020-11-17 23:36:09 Downloading\n"
     ]
    },
    {
     "name": "stderr",
     "output_type": "stream",
     "text": [
      "DEBUG:bulk_downloader:1 downloads pending\n",
      "DEBUG:bulk_downloader:1 downloads pending\n",
      "INFO:bulk_downloader:downloading NovaSAR_01_12729_slc_200706_103817_HH to /tmp/data/intermediate/NovaSAR_01_12729_slc_200706_103817_HH_tmp/NovaSAR_01_12729_slc_200706_103817_HH.zip\n",
      "DEBUG:sedas_api:successful login.\n",
      "INFO:bulk_downloader:0 downloads pending, 1 downloads in progress, 0 requests pending\n",
      "INFO:bulk_downloader:2 active threads, 0 restarted.\n",
      "INFO:bulk_downloader:0 downloads pending, 1 downloads in progress, 0 requests pending\n",
      "INFO:bulk_downloader:2 active threads, 0 restarted.\n",
      "DEBUG:bulk_downloader:0 downloads pending\n",
      "DEBUG:bulk_downloader:monitor thread stopping\n"
     ]
    },
    {
     "name": "stdout",
     "output_type": "stream",
     "text": [
      "2020-11-17 23:36:24 Downloaded\n",
      "2020-11-17 23:36:24 Extracting /tmp/data/intermediate/NovaSAR_01_12729_slc_200706_103817_HH_tmp/NovaSAR_01_12729_slc_200706_103817_HH.zip\n"
     ]
    },
    {
     "name": "stderr",
     "output_type": "stream",
     "text": [
      "DEBUG:bulk_downloader:requests thread stopping\n",
      "DEBUG:root:running ['/opt/snap/bin/gpt', '/opt/notebooks/anc/novasar_slc_tf_tc.xml', '-Pinput=/tmp/data/intermediate/NovaSAR_01_12729_slc_200706_103817_HH_tmp/NovaSAR_01_12729_slc_200706_103817_HH/NovaSAR_01_12729_slc_11_200706_103817_HH/metadata.xml', '-Poutput=/tmp/data/intermediate/NovaSAR_01_12729_slc_200706_103817_HH_tmp/NovaSAR_01_12729_slc_11_200706_103817_HH_ML_TC_TF.dim']\n"
     ]
    },
    {
     "name": "stdout",
     "output_type": "stream",
     "text": [
      "2020-11-17 23:36:31 Extracted to /tmp/data/intermediate/NovaSAR_01_12729_slc_200706_103817_HH_tmp/NovaSAR_01_12729_slc_200706_103817_HH/\n",
      "NovaSAR_01_12729_slc_11_200706_103817_HH\n",
      "/tmp/data/intermediate/NovaSAR_01_12729_slc_200706_103817_HH_tmp/NovaSAR_01_12729_slc_11_200706_103817_HH_ML_TC_TF.data/\n",
      "/tmp/data/intermediate/NovaSAR_01_12729_slc_200706_103817_HH_tmp/NovaSAR_01_12729_slc_11_200706_103817_HH_ML_TC_TF_cog/\n"
     ]
    },
    {
     "name": "stderr",
     "output_type": "stream",
     "text": [
      "INFO:snap_stderr:stderr:INFO: org.esa.snap.core.gpf.operators.tooladapter.ToolAdapterIO: Initializing external tool adapters\n",
      "INFO:snap_stderr:stderr:INFO: org.esa.s2tbx.dataio.gdal.GDALVersion: Incompatible GDAL 3.1.4 found on system. Internal GDAL 3.0.0 from distribution will be used.\n",
      "INFO:snap_stderr:stderr:INFO: org.esa.s2tbx.dataio.gdal.GDALVersion: Internal GDAL 3.0.0 set to be used by SNAP.\n",
      "INFO:snap_stderr:stderr:INFO: org.esa.snap.core.util.EngineVersionCheckActivator: Please check regularly for new updates for the best SNAP experience.\n",
      "INFO:snap_stderr:stderr:INFO: org.esa.s2tbx.dataio.gdal.GDALVersion: Internal GDAL 3.0.0 set to be used by SNAP.\n",
      "INFO:snap_stdout:Executing processing graph\n",
      "INFO:snap_stderr:stderr:INFO: org.hsqldb.persist.Logger: dataFileCache open start\n",
      "INFO:snap_stderr:stderr:INFO: org.esa.snap.core.dataop.dem.ElevationFile: http retrieving http://step.esa.int/auxdata/dem/SRTMGL1/N50W007.SRTMGL1.hgt.zip\n",
      "INFO:snap_stderr:stderr:WARNING: org.esa.snap.core.dataop.dem.ElevationFile: http error:http://step.esa.int/auxdata/dem/SRTMGL1/N50W007.SRTMGL1.hgt.zip on http://step.esa.int/auxdata/dem/SRTMGL1/N50W007.SRTMGL1.hgt.zip\n",
      "INFO:snap_stderr:stderr:INFO: org.esa.snap.core.dataop.dem.ElevationFile: http retrieving http://step.esa.int/auxdata/dem/SRTMGL1/N50W007.SRTMGL1.hgt.zip\n",
      "INFO:snap_stderr:stderr:WARNING: org.esa.snap.core.dataop.dem.ElevationFile: http error:http://step.esa.int/auxdata/dem/SRTMGL1/N50W007.SRTMGL1.hgt.zip on http://step.esa.int/auxdata/dem/SRTMGL1/N50W007.SRTMGL1.hgt.zip\n",
      "INFO:snap_stderr:stderr:INFO: org.esa.snap.core.dataop.dem.ElevationFile: http retrieving http://step.esa.int/auxdata/dem/SRTMGL1/N49W007.SRTMGL1.hgt.zip\n",
      "INFO:snap_stdout:....10%....20%....30%....40%....50%....60%....70%....80%....90% done.\n"
     ]
    },
    {
     "name": "stdout",
     "output_type": "stream",
     "text": [
      "/tmp/data/intermediate/NovaSAR_01_12729_slc_200706_103817_HH_tmp/NovaSAR_01_12729_slc_11_200706_103817_HH_ML_TC_TF_cog/NovaSAR_01_12729_slc_11_200706_103817_HH_Gamma0_Intensity_HH_db.tif\n",
      "2020-11-17 23:37:44 Starting conversion: /tmp/data/intermediate/NovaSAR_01_12729_slc_200706_103817_HH_tmp/NovaSAR_01_12729_slc_11_200706_103817_HH_ML_TC_TF.data/Gamma0_Intensity_HH_db.img.\n",
      "2020-11-17 23:37:49 Conversion complete: True.\n"
     ]
    },
    {
     "name": "stderr",
     "output_type": "stream",
     "text": [
      "DEBUG:sedas_api:successful login.\n"
     ]
    },
    {
     "name": "stdout",
     "output_type": "stream",
     "text": [
      "2020-11-17 23:38:18 Prepared NovaSAR_01_12729_slc_200706_103817_HH at novasar_uk_test/\n",
      "2020-11-17 23:38:18 Preparing NovaSAR_01_12702_slc_200705_103232_HH within /tmp/data/intermediate/NovaSAR_01_12702_slc_200705_103232_HH_tmp/\n"
     ]
    },
    {
     "name": "stderr",
     "output_type": "stream",
     "text": [
      "DEBUG:sedas_api:successful login.\n",
      "DEBUG:sedas_api:successful login.\n",
      "DEBUG:sedas_api:successful login.\n",
      "DEBUG:sedas_api:successful login.\n",
      "INFO:bulk_downloader:0 downloads pending, 0 downloads in progress, 0 requests pending\n",
      "INFO:bulk_downloader:2 active threads, 0 restarted.\n"
     ]
    },
    {
     "name": "stdout",
     "output_type": "stream",
     "text": [
      "2020-11-17 23:38:19 Downloading\n"
     ]
    },
    {
     "name": "stderr",
     "output_type": "stream",
     "text": [
      "DEBUG:bulk_downloader:1 downloads pending\n",
      "INFO:bulk_downloader:downloading NovaSAR_01_12702_slc_200705_103232_HH to /tmp/data/intermediate/NovaSAR_01_12702_slc_200705_103232_HH_tmp/NovaSAR_01_12702_slc_200705_103232_HH.zip\n",
      "DEBUG:bulk_downloader:0 downloads pending\n",
      "DEBUG:sedas_api:successful login.\n",
      "INFO:bulk_downloader:0 downloads pending, 1 downloads in progress, 0 requests pending\n",
      "INFO:bulk_downloader:2 active threads, 0 restarted.\n",
      "INFO:bulk_downloader:0 downloads pending, 1 downloads in progress, 0 requests pending\n",
      "INFO:bulk_downloader:2 active threads, 0 restarted.\n",
      "INFO:bulk_downloader:0 downloads pending, 1 downloads in progress, 0 requests pending\n",
      "INFO:bulk_downloader:2 active threads, 0 restarted.\n",
      "INFO:bulk_downloader:0 downloads pending, 1 downloads in progress, 0 requests pending\n",
      "INFO:bulk_downloader:2 active threads, 0 restarted.\n",
      "DEBUG:bulk_downloader:monitor thread stopping\n",
      "DEBUG:bulk_downloader:0 downloads pending\n"
     ]
    },
    {
     "name": "stdout",
     "output_type": "stream",
     "text": [
      "2020-11-17 23:38:44 Downloaded\n",
      "2020-11-17 23:38:44 Extracting /tmp/data/intermediate/NovaSAR_01_12702_slc_200705_103232_HH_tmp/NovaSAR_01_12702_slc_200705_103232_HH.zip\n"
     ]
    },
    {
     "name": "stderr",
     "output_type": "stream",
     "text": [
      "DEBUG:bulk_downloader:requests thread stopping\n",
      "DEBUG:root:running ['/opt/snap/bin/gpt', '/opt/notebooks/anc/novasar_slc_tf_tc.xml', '-Pinput=/tmp/data/intermediate/NovaSAR_01_12702_slc_200705_103232_HH_tmp/NovaSAR_01_12702_slc_200705_103232_HH/NovaSAR_01_12702_slc_11_200705_103232_HH/metadata.xml', '-Poutput=/tmp/data/intermediate/NovaSAR_01_12702_slc_200705_103232_HH_tmp/NovaSAR_01_12702_slc_11_200705_103232_HH_ML_TC_TF.dim']\n"
     ]
    },
    {
     "name": "stdout",
     "output_type": "stream",
     "text": [
      "2020-11-17 23:38:57 Extracted to /tmp/data/intermediate/NovaSAR_01_12702_slc_200705_103232_HH_tmp/NovaSAR_01_12702_slc_200705_103232_HH/\n",
      "NovaSAR_01_12702_slc_11_200705_103232_HH\n",
      "/tmp/data/intermediate/NovaSAR_01_12702_slc_200705_103232_HH_tmp/NovaSAR_01_12702_slc_11_200705_103232_HH_ML_TC_TF.data/\n",
      "/tmp/data/intermediate/NovaSAR_01_12702_slc_200705_103232_HH_tmp/NovaSAR_01_12702_slc_11_200705_103232_HH_ML_TC_TF_cog/\n"
     ]
    },
    {
     "name": "stderr",
     "output_type": "stream",
     "text": [
      "INFO:snap_stderr:stderr:INFO: org.esa.snap.core.gpf.operators.tooladapter.ToolAdapterIO: Initializing external tool adapters\n",
      "INFO:snap_stderr:stderr:INFO: org.esa.s2tbx.dataio.gdal.GDALVersion: Incompatible GDAL 3.1.4 found on system. Internal GDAL 3.0.0 from distribution will be used.\n",
      "INFO:snap_stderr:stderr:INFO: org.esa.s2tbx.dataio.gdal.GDALVersion: Internal GDAL 3.0.0 set to be used by SNAP.\n",
      "INFO:snap_stderr:stderr:INFO: org.esa.snap.core.util.EngineVersionCheckActivator: Please check regularly for new updates for the best SNAP experience.\n",
      "INFO:snap_stderr:stderr:INFO: org.esa.s2tbx.dataio.gdal.GDALVersion: Internal GDAL 3.0.0 set to be used by SNAP.\n",
      "INFO:snap_stdout:Executing processing graph\n",
      "INFO:snap_stderr:stderr:INFO: org.hsqldb.persist.Logger: dataFileCache open start\n",
      "INFO:snap_stderr:stderr:INFO: org.esa.snap.core.dataop.dem.ElevationFile: http retrieving http://step.esa.int/auxdata/dem/SRTMGL1/N50W007.SRTMGL1.hgt.zip\n",
      "INFO:snap_stderr:stderr:WARNING: org.esa.snap.core.dataop.dem.ElevationFile: http error:http://step.esa.int/auxdata/dem/SRTMGL1/N50W007.SRTMGL1.hgt.zip on http://step.esa.int/auxdata/dem/SRTMGL1/N50W007.SRTMGL1.hgt.zip\n",
      "INFO:snap_stderr:stderr:INFO: org.esa.snap.core.dataop.dem.ElevationFile: http retrieving http://step.esa.int/auxdata/dem/SRTMGL1/N50W007.SRTMGL1.hgt.zip\n",
      "INFO:snap_stderr:stderr:WARNING: org.esa.snap.core.dataop.dem.ElevationFile: http error:http://step.esa.int/auxdata/dem/SRTMGL1/N50W007.SRTMGL1.hgt.zip on http://step.esa.int/auxdata/dem/SRTMGL1/N50W007.SRTMGL1.hgt.zip\n",
      "INFO:snap_stdout:....10%....20%....30%....40%....50%....60%....70%....80%....90% done.\n"
     ]
    },
    {
     "name": "stdout",
     "output_type": "stream",
     "text": [
      "/tmp/data/intermediate/NovaSAR_01_12702_slc_200705_103232_HH_tmp/NovaSAR_01_12702_slc_11_200705_103232_HH_ML_TC_TF_cog/NovaSAR_01_12702_slc_11_200705_103232_HH_Gamma0_Intensity_HH_db.tif\n",
      "2020-11-17 23:42:19 Starting conversion: /tmp/data/intermediate/NovaSAR_01_12702_slc_200705_103232_HH_tmp/NovaSAR_01_12702_slc_11_200705_103232_HH_ML_TC_TF.data/Gamma0_Intensity_HH_db.img.\n",
      "2020-11-17 23:42:32 Conversion complete: True.\n"
     ]
    },
    {
     "name": "stderr",
     "output_type": "stream",
     "text": [
      "DEBUG:sedas_api:successful login.\n"
     ]
    },
    {
     "name": "stdout",
     "output_type": "stream",
     "text": [
      "2020-11-17 23:43:16 Prepared NovaSAR_01_12702_slc_200705_103232_HH at novasar_uk_test/\n",
      "2020-11-17 23:43:16 Preparing NovaSAR_01_12676_slc_11_200704_102744_HH_3 within /tmp/data/intermediate/NovaSAR_01_12676_slc_11_200704_102744_HH_3_tmp/\n"
     ]
    },
    {
     "name": "stderr",
     "output_type": "stream",
     "text": [
      "DEBUG:sedas_api:successful login.\n",
      "DEBUG:sedas_api:successful login.\n",
      "DEBUG:sedas_api:successful login.\n",
      "DEBUG:sedas_api:successful login.\n",
      "INFO:bulk_downloader:0 downloads pending, 0 downloads in progress, 0 requests pending\n",
      "INFO:bulk_downloader:2 active threads, 0 restarted.\n"
     ]
    },
    {
     "name": "stdout",
     "output_type": "stream",
     "text": [
      "2020-11-17 23:43:17 Downloading\n"
     ]
    },
    {
     "name": "stderr",
     "output_type": "stream",
     "text": [
      "DEBUG:bulk_downloader:1 downloads pending\n",
      "DEBUG:bulk_downloader:1 downloads pending\n",
      "INFO:bulk_downloader:downloading NovaSAR_01_12676_slc_11_200704_102744_HH_3 to /tmp/data/intermediate/NovaSAR_01_12676_slc_11_200704_102744_HH_3_tmp/NovaSAR_01_12676_slc_11_200704_102744_HH_3.zip\n",
      "DEBUG:sedas_api:successful login.\n",
      "INFO:bulk_downloader:0 downloads pending, 1 downloads in progress, 0 requests pending\n",
      "INFO:bulk_downloader:2 active threads, 0 restarted.\n",
      "INFO:bulk_downloader:0 downloads pending, 1 downloads in progress, 0 requests pending\n",
      "INFO:bulk_downloader:2 active threads, 0 restarted.\n",
      "INFO:bulk_downloader:0 downloads pending, 1 downloads in progress, 0 requests pending\n",
      "INFO:bulk_downloader:2 active threads, 0 restarted.\n",
      "DEBUG:bulk_downloader:0 downloads pending\n",
      "DEBUG:bulk_downloader:monitor thread stopping\n"
     ]
    },
    {
     "name": "stdout",
     "output_type": "stream",
     "text": [
      "2020-11-17 23:43:38 Downloaded\n",
      "2020-11-17 23:43:38 Extracting /tmp/data/intermediate/NovaSAR_01_12676_slc_11_200704_102744_HH_3_tmp/NovaSAR_01_12676_slc_11_200704_102744_HH_3.zip\n"
     ]
    },
    {
     "name": "stderr",
     "output_type": "stream",
     "text": [
      "DEBUG:bulk_downloader:requests thread stopping\n",
      "DEBUG:root:running ['/opt/snap/bin/gpt', '/opt/notebooks/anc/novasar_slc_tf_tc.xml', '-Pinput=/tmp/data/intermediate/NovaSAR_01_12676_slc_11_200704_102744_HH_3_tmp/NovaSAR_01_12676_slc_11_200704_102744_HH_3/NovaSAR_01_12676_slc_11_200704_102744_HH_3/metadata.xml', '-Poutput=/tmp/data/intermediate/NovaSAR_01_12676_slc_11_200704_102744_HH_3_tmp/NovaSAR_01_12676_slc_11_200704_102744_HH_3_ML_TC_TF.dim']\n"
     ]
    },
    {
     "name": "stdout",
     "output_type": "stream",
     "text": [
      "2020-11-17 23:43:48 Extracted to /tmp/data/intermediate/NovaSAR_01_12676_slc_11_200704_102744_HH_3_tmp/NovaSAR_01_12676_slc_11_200704_102744_HH_3/\n",
      "NovaSAR_01_12676_slc_11_200704_102744_HH_3\n",
      "/tmp/data/intermediate/NovaSAR_01_12676_slc_11_200704_102744_HH_3_tmp/NovaSAR_01_12676_slc_11_200704_102744_HH_3_ML_TC_TF.data/\n",
      "/tmp/data/intermediate/NovaSAR_01_12676_slc_11_200704_102744_HH_3_tmp/NovaSAR_01_12676_slc_11_200704_102744_HH_3_ML_TC_TF_cog/\n"
     ]
    },
    {
     "name": "stderr",
     "output_type": "stream",
     "text": [
      "INFO:snap_stderr:stderr:INFO: org.esa.snap.core.gpf.operators.tooladapter.ToolAdapterIO: Initializing external tool adapters\n",
      "INFO:snap_stderr:stderr:INFO: org.esa.s2tbx.dataio.gdal.GDALVersion: Incompatible GDAL 3.1.4 found on system. Internal GDAL 3.0.0 from distribution will be used.\n",
      "INFO:snap_stderr:stderr:INFO: org.esa.s2tbx.dataio.gdal.GDALVersion: Internal GDAL 3.0.0 set to be used by SNAP.\n",
      "INFO:snap_stderr:stderr:INFO: org.esa.snap.core.util.EngineVersionCheckActivator: Please check regularly for new updates for the best SNAP experience.\n",
      "INFO:snap_stderr:stderr:INFO: org.esa.s2tbx.dataio.gdal.GDALVersion: Internal GDAL 3.0.0 set to be used by SNAP.\n",
      "INFO:snap_stdout:Executing processing graph\n",
      "INFO:snap_stderr:stderr:INFO: org.hsqldb.persist.Logger: dataFileCache open start\n",
      "INFO:snap_stdout:....10%....20%....30%....40%....50%....60%....70%....80%....90% done.\n"
     ]
    },
    {
     "name": "stdout",
     "output_type": "stream",
     "text": [
      "/tmp/data/intermediate/NovaSAR_01_12676_slc_11_200704_102744_HH_3_tmp/NovaSAR_01_12676_slc_11_200704_102744_HH_3_ML_TC_TF_cog/NovaSAR_01_12676_slc_11_200704_102744_HH_3_Gamma0_Intensity_HH_db.tif\n",
      "2020-11-17 23:49:10 Starting conversion: /tmp/data/intermediate/NovaSAR_01_12676_slc_11_200704_102744_HH_3_tmp/NovaSAR_01_12676_slc_11_200704_102744_HH_3_ML_TC_TF.data/Gamma0_Intensity_HH_db.img.\n",
      "2020-11-17 23:49:16 Conversion complete: True.\n",
      "2020-11-17 23:49:55 Prepared NovaSAR_01_12676_slc_11_200704_102744_HH_3 at novasar_uk_test/\n",
      "2020-11-17 23:49:55 Preparing NovaSAR_01_12676_slc_11_200704_102740_HH_2 within /tmp/data/intermediate/NovaSAR_01_12676_slc_11_200704_102740_HH_2_tmp/\n"
     ]
    },
    {
     "name": "stderr",
     "output_type": "stream",
     "text": [
      "DEBUG:sedas_api:successful login.\n",
      "DEBUG:sedas_api:successful login.\n",
      "DEBUG:sedas_api:successful login.\n",
      "DEBUG:sedas_api:successful login.\n",
      "DEBUG:sedas_api:successful login.\n",
      "INFO:bulk_downloader:0 downloads pending, 0 downloads in progress, 0 requests pending\n",
      "INFO:bulk_downloader:2 active threads, 0 restarted.\n"
     ]
    },
    {
     "name": "stdout",
     "output_type": "stream",
     "text": [
      "2020-11-17 23:49:56 Downloading\n"
     ]
    },
    {
     "name": "stderr",
     "output_type": "stream",
     "text": [
      "DEBUG:bulk_downloader:1 downloads pending\n",
      "DEBUG:bulk_downloader:1 downloads pending\n",
      "INFO:bulk_downloader:downloading NovaSAR_01_12676_slc_11_200704_102740_HH_2 to /tmp/data/intermediate/NovaSAR_01_12676_slc_11_200704_102740_HH_2_tmp/NovaSAR_01_12676_slc_11_200704_102740_HH_2.zip\n",
      "DEBUG:sedas_api:successful login.\n",
      "INFO:bulk_downloader:0 downloads pending, 1 downloads in progress, 0 requests pending\n",
      "INFO:bulk_downloader:2 active threads, 0 restarted.\n",
      "INFO:bulk_downloader:0 downloads pending, 1 downloads in progress, 0 requests pending\n",
      "INFO:bulk_downloader:2 active threads, 0 restarted.\n",
      "INFO:bulk_downloader:0 downloads pending, 1 downloads in progress, 0 requests pending\n",
      "INFO:bulk_downloader:2 active threads, 0 restarted.\n",
      "DEBUG:bulk_downloader:0 downloads pending\n",
      "DEBUG:bulk_downloader:monitor thread stopping\n"
     ]
    },
    {
     "name": "stdout",
     "output_type": "stream",
     "text": [
      "2020-11-17 23:50:16 Downloaded\n",
      "2020-11-17 23:50:16 Extracting /tmp/data/intermediate/NovaSAR_01_12676_slc_11_200704_102740_HH_2_tmp/NovaSAR_01_12676_slc_11_200704_102740_HH_2.zip\n"
     ]
    },
    {
     "name": "stderr",
     "output_type": "stream",
     "text": [
      "DEBUG:bulk_downloader:requests thread stopping\n",
      "DEBUG:root:running ['/opt/snap/bin/gpt', '/opt/notebooks/anc/novasar_slc_tf_tc.xml', '-Pinput=/tmp/data/intermediate/NovaSAR_01_12676_slc_11_200704_102740_HH_2_tmp/NovaSAR_01_12676_slc_11_200704_102740_HH_2/NovaSAR_01_12676_slc_11_200704_102740_HH_2/metadata.xml', '-Poutput=/tmp/data/intermediate/NovaSAR_01_12676_slc_11_200704_102740_HH_2_tmp/NovaSAR_01_12676_slc_11_200704_102740_HH_2_ML_TC_TF.dim']\n"
     ]
    },
    {
     "name": "stdout",
     "output_type": "stream",
     "text": [
      "2020-11-17 23:50:25 Extracted to /tmp/data/intermediate/NovaSAR_01_12676_slc_11_200704_102740_HH_2_tmp/NovaSAR_01_12676_slc_11_200704_102740_HH_2/\n",
      "NovaSAR_01_12676_slc_11_200704_102740_HH_2\n",
      "/tmp/data/intermediate/NovaSAR_01_12676_slc_11_200704_102740_HH_2_tmp/NovaSAR_01_12676_slc_11_200704_102740_HH_2_ML_TC_TF.data/\n",
      "/tmp/data/intermediate/NovaSAR_01_12676_slc_11_200704_102740_HH_2_tmp/NovaSAR_01_12676_slc_11_200704_102740_HH_2_ML_TC_TF_cog/\n"
     ]
    },
    {
     "name": "stderr",
     "output_type": "stream",
     "text": [
      "INFO:snap_stderr:stderr:INFO: org.esa.snap.core.gpf.operators.tooladapter.ToolAdapterIO: Initializing external tool adapters\n",
      "INFO:snap_stderr:stderr:INFO: org.esa.s2tbx.dataio.gdal.GDALVersion: Incompatible GDAL 3.1.4 found on system. Internal GDAL 3.0.0 from distribution will be used.\n",
      "INFO:snap_stderr:stderr:INFO: org.esa.s2tbx.dataio.gdal.GDALVersion: Internal GDAL 3.0.0 set to be used by SNAP.\n",
      "INFO:snap_stderr:stderr:INFO: org.esa.snap.core.util.EngineVersionCheckActivator: Please check regularly for new updates for the best SNAP experience.\n",
      "INFO:snap_stderr:stderr:INFO: org.esa.s2tbx.dataio.gdal.GDALVersion: Internal GDAL 3.0.0 set to be used by SNAP.\n",
      "INFO:snap_stdout:Executing processing graph\n",
      "INFO:snap_stderr:stderr:INFO: org.hsqldb.persist.Logger: dataFileCache open start\n",
      "INFO:snap_stderr:stderr:INFO: org.esa.snap.core.dataop.dem.ElevationFile: http retrieving http://step.esa.int/auxdata/dem/SRTMGL1/N53W006.SRTMGL1.hgt.zip\n",
      "INFO:snap_stdout:....10%....20%....30%....40%....50%....60%....70%....80%....90% done.\n"
     ]
    },
    {
     "name": "stdout",
     "output_type": "stream",
     "text": [
      "/tmp/data/intermediate/NovaSAR_01_12676_slc_11_200704_102740_HH_2_tmp/NovaSAR_01_12676_slc_11_200704_102740_HH_2_ML_TC_TF_cog/NovaSAR_01_12676_slc_11_200704_102740_HH_2_Gamma0_Intensity_HH_db.tif\n",
      "2020-11-17 23:54:39 Starting conversion: /tmp/data/intermediate/NovaSAR_01_12676_slc_11_200704_102740_HH_2_tmp/NovaSAR_01_12676_slc_11_200704_102740_HH_2_ML_TC_TF.data/Gamma0_Intensity_HH_db.img.\n",
      "2020-11-17 23:54:45 Conversion complete: True.\n"
     ]
    },
    {
     "name": "stderr",
     "output_type": "stream",
     "text": [
      "DEBUG:sedas_api:successful login.\n"
     ]
    },
    {
     "name": "stdout",
     "output_type": "stream",
     "text": [
      "2020-11-17 23:55:24 Prepared NovaSAR_01_12676_slc_11_200704_102740_HH_2 at novasar_uk_test/\n",
      "2020-11-17 23:55:24 Preparing NovaSAR_01_12676_slc_11_200704_102737_HH_1 within /tmp/data/intermediate/NovaSAR_01_12676_slc_11_200704_102737_HH_1_tmp/\n"
     ]
    },
    {
     "name": "stderr",
     "output_type": "stream",
     "text": [
      "DEBUG:sedas_api:successful login.\n",
      "DEBUG:sedas_api:successful login.\n",
      "DEBUG:sedas_api:successful login.\n",
      "DEBUG:sedas_api:successful login.\n",
      "INFO:bulk_downloader:0 downloads pending, 0 downloads in progress, 0 requests pending\n",
      "INFO:bulk_downloader:2 active threads, 0 restarted.\n"
     ]
    },
    {
     "name": "stdout",
     "output_type": "stream",
     "text": [
      "2020-11-17 23:55:25 Downloading\n"
     ]
    },
    {
     "name": "stderr",
     "output_type": "stream",
     "text": [
      "DEBUG:bulk_downloader:1 downloads pending\n",
      "DEBUG:bulk_downloader:1 downloads pending\n",
      "INFO:bulk_downloader:downloading NovaSAR_01_12676_slc_11_200704_102737_HH_1 to /tmp/data/intermediate/NovaSAR_01_12676_slc_11_200704_102737_HH_1_tmp/NovaSAR_01_12676_slc_11_200704_102737_HH_1.zip\n",
      "DEBUG:sedas_api:successful login.\n",
      "INFO:bulk_downloader:0 downloads pending, 1 downloads in progress, 0 requests pending\n",
      "INFO:bulk_downloader:2 active threads, 0 restarted.\n",
      "INFO:bulk_downloader:0 downloads pending, 1 downloads in progress, 0 requests pending\n",
      "INFO:bulk_downloader:2 active threads, 0 restarted.\n",
      "INFO:bulk_downloader:0 downloads pending, 1 downloads in progress, 0 requests pending\n",
      "INFO:bulk_downloader:2 active threads, 0 restarted.\n",
      "DEBUG:bulk_downloader:0 downloads pending\n",
      "DEBUG:bulk_downloader:monitor thread stopping\n"
     ]
    },
    {
     "name": "stdout",
     "output_type": "stream",
     "text": [
      "2020-11-17 23:55:45 Downloaded\n",
      "2020-11-17 23:55:45 Extracting /tmp/data/intermediate/NovaSAR_01_12676_slc_11_200704_102737_HH_1_tmp/NovaSAR_01_12676_slc_11_200704_102737_HH_1.zip\n"
     ]
    },
    {
     "name": "stderr",
     "output_type": "stream",
     "text": [
      "DEBUG:bulk_downloader:requests thread stopping\n",
      "DEBUG:root:running ['/opt/snap/bin/gpt', '/opt/notebooks/anc/novasar_slc_tf_tc.xml', '-Pinput=/tmp/data/intermediate/NovaSAR_01_12676_slc_11_200704_102737_HH_1_tmp/NovaSAR_01_12676_slc_11_200704_102737_HH_1/NovaSAR_01_12676_slc_11_200704_102737_HH_1/metadata.xml', '-Poutput=/tmp/data/intermediate/NovaSAR_01_12676_slc_11_200704_102737_HH_1_tmp/NovaSAR_01_12676_slc_11_200704_102737_HH_1_ML_TC_TF.dim']\n"
     ]
    },
    {
     "name": "stdout",
     "output_type": "stream",
     "text": [
      "2020-11-17 23:55:55 Extracted to /tmp/data/intermediate/NovaSAR_01_12676_slc_11_200704_102737_HH_1_tmp/NovaSAR_01_12676_slc_11_200704_102737_HH_1/\n",
      "NovaSAR_01_12676_slc_11_200704_102737_HH_1\n",
      "/tmp/data/intermediate/NovaSAR_01_12676_slc_11_200704_102737_HH_1_tmp/NovaSAR_01_12676_slc_11_200704_102737_HH_1_ML_TC_TF.data/\n",
      "/tmp/data/intermediate/NovaSAR_01_12676_slc_11_200704_102737_HH_1_tmp/NovaSAR_01_12676_slc_11_200704_102737_HH_1_ML_TC_TF_cog/\n"
     ]
    },
    {
     "name": "stderr",
     "output_type": "stream",
     "text": [
      "INFO:snap_stderr:stderr:INFO: org.esa.snap.core.gpf.operators.tooladapter.ToolAdapterIO: Initializing external tool adapters\n",
      "INFO:snap_stderr:stderr:INFO: org.esa.s2tbx.dataio.gdal.GDALVersion: Incompatible GDAL 3.1.4 found on system. Internal GDAL 3.0.0 from distribution will be used.\n",
      "INFO:snap_stderr:stderr:INFO: org.esa.s2tbx.dataio.gdal.GDALVersion: Internal GDAL 3.0.0 set to be used by SNAP.\n",
      "INFO:snap_stderr:stderr:INFO: org.esa.snap.core.util.EngineVersionCheckActivator: Please check regularly for new updates for the best SNAP experience.\n",
      "INFO:snap_stderr:stderr:INFO: org.esa.s2tbx.dataio.gdal.GDALVersion: Internal GDAL 3.0.0 set to be used by SNAP.\n",
      "INFO:snap_stdout:Executing processing graph\n",
      "INFO:snap_stderr:stderr:INFO: org.hsqldb.persist.Logger: dataFileCache open start\n",
      "INFO:snap_stdout:....10%....20%....30%....40%....50%....60%....70%....80%....90% done.\n"
     ]
    },
    {
     "name": "stdout",
     "output_type": "stream",
     "text": [
      "/tmp/data/intermediate/NovaSAR_01_12676_slc_11_200704_102737_HH_1_tmp/NovaSAR_01_12676_slc_11_200704_102737_HH_1_ML_TC_TF_cog/NovaSAR_01_12676_slc_11_200704_102737_HH_1_Gamma0_Intensity_HH_db.tif\n",
      "2020-11-18 00:01:40 Starting conversion: /tmp/data/intermediate/NovaSAR_01_12676_slc_11_200704_102737_HH_1_tmp/NovaSAR_01_12676_slc_11_200704_102737_HH_1_ML_TC_TF.data/Gamma0_Intensity_HH_db.img.\n",
      "2020-11-18 00:01:51 Conversion complete: True.\n"
     ]
    },
    {
     "name": "stderr",
     "output_type": "stream",
     "text": [
      "DEBUG:sedas_api:successful login.\n"
     ]
    },
    {
     "name": "stdout",
     "output_type": "stream",
     "text": [
      "2020-11-18 00:02:30 Prepared NovaSAR_01_12676_slc_11_200704_102737_HH_1 at novasar_uk_test/\n",
      "2020-11-18 00:02:30 Preparing NovaSAR_01_12676_slc_200704_102737_HH within /tmp/data/intermediate/NovaSAR_01_12676_slc_200704_102737_HH_tmp/\n"
     ]
    },
    {
     "name": "stderr",
     "output_type": "stream",
     "text": [
      "DEBUG:sedas_api:successful login.\n",
      "DEBUG:sedas_api:successful login.\n",
      "DEBUG:sedas_api:successful login.\n",
      "DEBUG:sedas_api:successful login.\n",
      "INFO:bulk_downloader:0 downloads pending, 0 downloads in progress, 0 requests pending\n",
      "INFO:bulk_downloader:2 active threads, 0 restarted.\n"
     ]
    },
    {
     "name": "stdout",
     "output_type": "stream",
     "text": [
      "2020-11-18 00:02:31 Downloading\n"
     ]
    },
    {
     "name": "stderr",
     "output_type": "stream",
     "text": [
      "DEBUG:bulk_downloader:1 downloads pending\n",
      "DEBUG:bulk_downloader:1 downloads pending\n",
      "INFO:bulk_downloader:downloading NovaSAR_01_12676_slc_200704_102737_HH to /tmp/data/intermediate/NovaSAR_01_12676_slc_200704_102737_HH_tmp/NovaSAR_01_12676_slc_200704_102737_HH.zip\n",
      "DEBUG:sedas_api:successful login.\n",
      "INFO:bulk_downloader:0 downloads pending, 1 downloads in progress, 0 requests pending\n",
      "INFO:bulk_downloader:2 active threads, 0 restarted.\n",
      "INFO:bulk_downloader:0 downloads pending, 1 downloads in progress, 0 requests pending\n",
      "INFO:bulk_downloader:2 active threads, 0 restarted.\n",
      "INFO:bulk_downloader:0 downloads pending, 1 downloads in progress, 0 requests pending\n",
      "INFO:bulk_downloader:2 active threads, 0 restarted.\n",
      "INFO:bulk_downloader:0 downloads pending, 1 downloads in progress, 0 requests pending\n",
      "INFO:bulk_downloader:2 active threads, 0 restarted.\n",
      "INFO:bulk_downloader:0 downloads pending, 1 downloads in progress, 0 requests pending\n",
      "INFO:bulk_downloader:2 active threads, 0 restarted.\n",
      "INFO:bulk_downloader:0 downloads pending, 1 downloads in progress, 0 requests pending\n",
      "INFO:bulk_downloader:2 active threads, 0 restarted.\n",
      "INFO:bulk_downloader:0 downloads pending, 1 downloads in progress, 0 requests pending\n",
      "INFO:bulk_downloader:2 active threads, 0 restarted.\n",
      "INFO:bulk_downloader:0 downloads pending, 1 downloads in progress, 0 requests pending\n",
      "INFO:bulk_downloader:2 active threads, 0 restarted.\n",
      "DEBUG:bulk_downloader:0 downloads pending\n",
      "DEBUG:bulk_downloader:monitor thread stopping\n"
     ]
    },
    {
     "name": "stdout",
     "output_type": "stream",
     "text": [
      "2020-11-18 00:03:16 Downloaded\n",
      "2020-11-18 00:03:16 Extracting /tmp/data/intermediate/NovaSAR_01_12676_slc_200704_102737_HH_tmp/NovaSAR_01_12676_slc_200704_102737_HH.zip\n"
     ]
    },
    {
     "name": "stderr",
     "output_type": "stream",
     "text": [
      "DEBUG:bulk_downloader:requests thread stopping\n",
      "DEBUG:root:running ['/opt/snap/bin/gpt', '/opt/notebooks/anc/novasar_slc_tf_tc.xml', '-Pinput=/tmp/data/intermediate/NovaSAR_01_12676_slc_200704_102737_HH_tmp/NovaSAR_01_12676_slc_200704_102737_HH/SV229/Image_Products$/NovaSAR_01_12676_slc_200704_102737_HH_/NovaSAR_01_12676_slc_11_200704_102737_HH_1/metadata.xml', '-Poutput=/tmp/data/intermediate/NovaSAR_01_12676_slc_200704_102737_HH_tmp/NovaSAR_01_12676_slc_11_200704_102737_HH_1_ML_TC_TF.dim']\n"
     ]
    },
    {
     "name": "stdout",
     "output_type": "stream",
     "text": [
      "2020-11-18 00:03:44 Extracted to /tmp/data/intermediate/NovaSAR_01_12676_slc_200704_102737_HH_tmp/NovaSAR_01_12676_slc_200704_102737_HH/\n",
      "NovaSAR_01_12676_slc_11_200704_102737_HH_1\n",
      "/tmp/data/intermediate/NovaSAR_01_12676_slc_200704_102737_HH_tmp/NovaSAR_01_12676_slc_11_200704_102737_HH_1_ML_TC_TF.data/\n",
      "/tmp/data/intermediate/NovaSAR_01_12676_slc_200704_102737_HH_tmp/NovaSAR_01_12676_slc_11_200704_102737_HH_1_ML_TC_TF_cog/\n"
     ]
    },
    {
     "name": "stderr",
     "output_type": "stream",
     "text": [
      "INFO:snap_stderr:stderr:INFO: org.esa.snap.core.gpf.operators.tooladapter.ToolAdapterIO: Initializing external tool adapters\n",
      "INFO:snap_stderr:stderr:INFO: org.esa.s2tbx.dataio.gdal.GDALVersion: Incompatible GDAL 3.1.4 found on system. Internal GDAL 3.0.0 from distribution will be used.\n",
      "INFO:snap_stderr:stderr:INFO: org.esa.s2tbx.dataio.gdal.GDALVersion: Internal GDAL 3.0.0 set to be used by SNAP.\n",
      "INFO:snap_stderr:stderr:INFO: org.esa.snap.core.util.EngineVersionCheckActivator: Please check regularly for new updates for the best SNAP experience.\n",
      "INFO:snap_stderr:stderr:INFO: org.esa.s2tbx.dataio.gdal.GDALVersion: Internal GDAL 3.0.0 set to be used by SNAP.\n",
      "INFO:snap_stdout:Executing processing graph\n",
      "INFO:snap_stderr:stderr:INFO: org.hsqldb.persist.Logger: dataFileCache open start\n",
      "INFO:snap_stdout:....10%....20%....30%....40%....50%....60%....70%....80%....90% done.\n"
     ]
    },
    {
     "name": "stdout",
     "output_type": "stream",
     "text": [
      "/tmp/data/intermediate/NovaSAR_01_12676_slc_200704_102737_HH_tmp/NovaSAR_01_12676_slc_11_200704_102737_HH_1_ML_TC_TF_cog/NovaSAR_01_12676_slc_11_200704_102737_HH_1_Gamma0_Intensity_HH_db.tif\n",
      "2020-11-18 00:09:28 Starting conversion: /tmp/data/intermediate/NovaSAR_01_12676_slc_200704_102737_HH_tmp/NovaSAR_01_12676_slc_11_200704_102737_HH_1_ML_TC_TF.data/Gamma0_Intensity_HH_db.img.\n",
      "2020-11-18 00:09:39 Conversion complete: True.\n"
     ]
    },
    {
     "name": "stderr",
     "output_type": "stream",
     "text": [
      "DEBUG:root:running ['/opt/snap/bin/gpt', '/opt/notebooks/anc/novasar_slc_tf_tc.xml', '-Pinput=/tmp/data/intermediate/NovaSAR_01_12676_slc_200704_102737_HH_tmp/NovaSAR_01_12676_slc_200704_102737_HH/SV229/Image_Products$/NovaSAR_01_12676_slc_200704_102737_HH_/NovaSAR_01_12676_slc_11_200704_102740_HH_2/metadata.xml', '-Poutput=/tmp/data/intermediate/NovaSAR_01_12676_slc_200704_102737_HH_tmp/NovaSAR_01_12676_slc_11_200704_102740_HH_2_ML_TC_TF.dim']\n"
     ]
    },
    {
     "name": "stdout",
     "output_type": "stream",
     "text": [
      "NovaSAR_01_12676_slc_11_200704_102740_HH_2\n",
      "/tmp/data/intermediate/NovaSAR_01_12676_slc_200704_102737_HH_tmp/NovaSAR_01_12676_slc_11_200704_102740_HH_2_ML_TC_TF.data/\n",
      "/tmp/data/intermediate/NovaSAR_01_12676_slc_200704_102737_HH_tmp/NovaSAR_01_12676_slc_11_200704_102740_HH_2_ML_TC_TF_cog/\n"
     ]
    },
    {
     "name": "stderr",
     "output_type": "stream",
     "text": [
      "INFO:snap_stderr:stderr:INFO: org.esa.snap.core.gpf.operators.tooladapter.ToolAdapterIO: Initializing external tool adapters\n",
      "INFO:snap_stderr:stderr:INFO: org.esa.s2tbx.dataio.gdal.GDALVersion: Incompatible GDAL 3.1.4 found on system. Internal GDAL 3.0.0 from distribution will be used.\n",
      "INFO:snap_stderr:stderr:INFO: org.esa.s2tbx.dataio.gdal.GDALVersion: Internal GDAL 3.0.0 set to be used by SNAP.\n",
      "INFO:snap_stderr:stderr:INFO: org.esa.snap.core.util.EngineVersionCheckActivator: Please check regularly for new updates for the best SNAP experience.\n",
      "INFO:snap_stderr:stderr:INFO: org.esa.s2tbx.dataio.gdal.GDALVersion: Internal GDAL 3.0.0 set to be used by SNAP.\n",
      "INFO:snap_stdout:Executing processing graph\n",
      "INFO:snap_stderr:stderr:INFO: org.hsqldb.persist.Logger: dataFileCache open start\n",
      "INFO:snap_stdout:....10%....20%....30%....40%....50%....60%....70%....80%....90% done.\n"
     ]
    },
    {
     "name": "stdout",
     "output_type": "stream",
     "text": [
      "/tmp/data/intermediate/NovaSAR_01_12676_slc_200704_102737_HH_tmp/NovaSAR_01_12676_slc_11_200704_102740_HH_2_ML_TC_TF_cog/NovaSAR_01_12676_slc_11_200704_102740_HH_2_Gamma0_Intensity_HH_db.tif\n",
      "2020-11-18 00:14:28 Starting conversion: /tmp/data/intermediate/NovaSAR_01_12676_slc_200704_102737_HH_tmp/NovaSAR_01_12676_slc_11_200704_102740_HH_2_ML_TC_TF.data/Gamma0_Intensity_HH_db.img.\n",
      "2020-11-18 00:14:35 Conversion complete: True.\n"
     ]
    },
    {
     "name": "stderr",
     "output_type": "stream",
     "text": [
      "DEBUG:root:running ['/opt/snap/bin/gpt', '/opt/notebooks/anc/novasar_slc_tf_tc.xml', '-Pinput=/tmp/data/intermediate/NovaSAR_01_12676_slc_200704_102737_HH_tmp/NovaSAR_01_12676_slc_200704_102737_HH/SV229/Image_Products$/NovaSAR_01_12676_slc_200704_102737_HH_/NovaSAR_01_12676_slc_11_200704_102744_HH_3/metadata.xml', '-Poutput=/tmp/data/intermediate/NovaSAR_01_12676_slc_200704_102737_HH_tmp/NovaSAR_01_12676_slc_11_200704_102744_HH_3_ML_TC_TF.dim']\n"
     ]
    },
    {
     "name": "stdout",
     "output_type": "stream",
     "text": [
      "NovaSAR_01_12676_slc_11_200704_102744_HH_3\n",
      "/tmp/data/intermediate/NovaSAR_01_12676_slc_200704_102737_HH_tmp/NovaSAR_01_12676_slc_11_200704_102744_HH_3_ML_TC_TF.data/\n",
      "/tmp/data/intermediate/NovaSAR_01_12676_slc_200704_102737_HH_tmp/NovaSAR_01_12676_slc_11_200704_102744_HH_3_ML_TC_TF_cog/\n"
     ]
    },
    {
     "name": "stderr",
     "output_type": "stream",
     "text": [
      "INFO:snap_stderr:stderr:INFO: org.esa.snap.core.gpf.operators.tooladapter.ToolAdapterIO: Initializing external tool adapters\n",
      "INFO:snap_stderr:stderr:INFO: org.esa.s2tbx.dataio.gdal.GDALVersion: Incompatible GDAL 3.1.4 found on system. Internal GDAL 3.0.0 from distribution will be used.\n",
      "INFO:snap_stderr:stderr:INFO: org.esa.s2tbx.dataio.gdal.GDALVersion: Internal GDAL 3.0.0 set to be used by SNAP.\n",
      "INFO:snap_stderr:stderr:INFO: org.esa.snap.core.util.EngineVersionCheckActivator: Please check regularly for new updates for the best SNAP experience.\n",
      "INFO:snap_stderr:stderr:INFO: org.esa.s2tbx.dataio.gdal.GDALVersion: Internal GDAL 3.0.0 set to be used by SNAP.\n",
      "INFO:snap_stdout:Executing processing graph\n",
      "INFO:snap_stderr:stderr:INFO: org.hsqldb.persist.Logger: dataFileCache open start\n",
      "INFO:snap_stdout:....10%....20%....30%....40%....50%....60%....70%....80%....90% done.\n"
     ]
    },
    {
     "name": "stdout",
     "output_type": "stream",
     "text": [
      "/tmp/data/intermediate/NovaSAR_01_12676_slc_200704_102737_HH_tmp/NovaSAR_01_12676_slc_11_200704_102744_HH_3_ML_TC_TF_cog/NovaSAR_01_12676_slc_11_200704_102744_HH_3_Gamma0_Intensity_HH_db.tif\n",
      "2020-11-18 00:20:35 Starting conversion: /tmp/data/intermediate/NovaSAR_01_12676_slc_200704_102737_HH_tmp/NovaSAR_01_12676_slc_11_200704_102744_HH_3_ML_TC_TF.data/Gamma0_Intensity_HH_db.img.\n",
      "2020-11-18 00:20:41 Conversion complete: True.\n",
      "2020-11-18 00:21:19 Prepared NovaSAR_01_12676_slc_200704_102737_HH at novasar_uk_test/\n",
      "2020-11-18 00:21:19 Preparing NovaSAR_01_12650_slc_11_200703_102234_HH_2 within /tmp/data/intermediate/NovaSAR_01_12650_slc_11_200703_102234_HH_2_tmp/\n"
     ]
    },
    {
     "name": "stderr",
     "output_type": "stream",
     "text": [
      "DEBUG:sedas_api:successful login.\n",
      "DEBUG:sedas_api:successful login.\n",
      "DEBUG:sedas_api:successful login.\n",
      "DEBUG:sedas_api:successful login.\n",
      "DEBUG:sedas_api:successful login.\n",
      "INFO:bulk_downloader:0 downloads pending, 0 downloads in progress, 0 requests pending\n",
      "INFO:bulk_downloader:2 active threads, 0 restarted.\n"
     ]
    },
    {
     "name": "stdout",
     "output_type": "stream",
     "text": [
      "2020-11-18 00:21:20 Downloading\n"
     ]
    },
    {
     "name": "stderr",
     "output_type": "stream",
     "text": [
      "DEBUG:bulk_downloader:1 downloads pending\n",
      "DEBUG:bulk_downloader:1 downloads pending\n",
      "INFO:bulk_downloader:downloading NovaSAR_01_12650_slc_11_200703_102234_HH_2 to /tmp/data/intermediate/NovaSAR_01_12650_slc_11_200703_102234_HH_2_tmp/NovaSAR_01_12650_slc_11_200703_102234_HH_2.zip\n",
      "DEBUG:sedas_api:successful login.\n",
      "INFO:bulk_downloader:0 downloads pending, 1 downloads in progress, 0 requests pending\n",
      "INFO:bulk_downloader:2 active threads, 0 restarted.\n",
      "INFO:bulk_downloader:0 downloads pending, 1 downloads in progress, 0 requests pending\n",
      "INFO:bulk_downloader:2 active threads, 0 restarted.\n",
      "INFO:bulk_downloader:0 downloads pending, 1 downloads in progress, 0 requests pending\n",
      "INFO:bulk_downloader:2 active threads, 0 restarted.\n",
      "INFO:bulk_downloader:0 downloads pending, 1 downloads in progress, 0 requests pending\n",
      "INFO:bulk_downloader:2 active threads, 0 restarted.\n",
      "DEBUG:bulk_downloader:0 downloads pending\n",
      "DEBUG:bulk_downloader:requests thread stopping\n",
      "DEBUG:bulk_downloader:monitor thread stopping\n"
     ]
    },
    {
     "name": "stdout",
     "output_type": "stream",
     "text": [
      "2020-11-18 00:21:45 Downloaded\n",
      "2020-11-18 00:21:45 Extracting /tmp/data/intermediate/NovaSAR_01_12650_slc_11_200703_102234_HH_2_tmp/NovaSAR_01_12650_slc_11_200703_102234_HH_2.zip\n"
     ]
    },
    {
     "name": "stderr",
     "output_type": "stream",
     "text": [
      "DEBUG:root:running ['/opt/snap/bin/gpt', '/opt/notebooks/anc/novasar_slc_tf_tc.xml', '-Pinput=/tmp/data/intermediate/NovaSAR_01_12650_slc_11_200703_102234_HH_2_tmp/NovaSAR_01_12650_slc_11_200703_102234_HH_2/NovaSAR_01_12650_slc_11_200703_102234_HH_2/metadata.xml', '-Poutput=/tmp/data/intermediate/NovaSAR_01_12650_slc_11_200703_102234_HH_2_tmp/NovaSAR_01_12650_slc_11_200703_102234_HH_2_ML_TC_TF.dim']\n"
     ]
    },
    {
     "name": "stdout",
     "output_type": "stream",
     "text": [
      "2020-11-18 00:22:00 Extracted to /tmp/data/intermediate/NovaSAR_01_12650_slc_11_200703_102234_HH_2_tmp/NovaSAR_01_12650_slc_11_200703_102234_HH_2/\n",
      "NovaSAR_01_12650_slc_11_200703_102234_HH_2\n",
      "/tmp/data/intermediate/NovaSAR_01_12650_slc_11_200703_102234_HH_2_tmp/NovaSAR_01_12650_slc_11_200703_102234_HH_2_ML_TC_TF.data/\n",
      "/tmp/data/intermediate/NovaSAR_01_12650_slc_11_200703_102234_HH_2_tmp/NovaSAR_01_12650_slc_11_200703_102234_HH_2_ML_TC_TF_cog/\n"
     ]
    },
    {
     "name": "stderr",
     "output_type": "stream",
     "text": [
      "INFO:snap_stderr:stderr:INFO: org.esa.snap.core.gpf.operators.tooladapter.ToolAdapterIO: Initializing external tool adapters\n",
      "INFO:snap_stderr:stderr:INFO: org.esa.s2tbx.dataio.gdal.GDALVersion: Incompatible GDAL 3.1.4 found on system. Internal GDAL 3.0.0 from distribution will be used.\n",
      "INFO:snap_stderr:stderr:INFO: org.esa.s2tbx.dataio.gdal.GDALVersion: Internal GDAL 3.0.0 set to be used by SNAP.\n",
      "INFO:snap_stderr:stderr:INFO: org.esa.snap.core.util.EngineVersionCheckActivator: Please check regularly for new updates for the best SNAP experience.\n",
      "INFO:snap_stderr:stderr:INFO: org.esa.s2tbx.dataio.gdal.GDALVersion: Internal GDAL 3.0.0 set to be used by SNAP.\n",
      "INFO:snap_stdout:Executing processing graph\n",
      "INFO:snap_stderr:stderr:INFO: org.hsqldb.persist.Logger: dataFileCache open start\n",
      "INFO:snap_stderr:stderr:INFO: org.esa.snap.core.dataop.dem.ElevationFile: http retrieving http://step.esa.int/auxdata/dem/SRTMGL1/N56W005.SRTMGL1.hgt.zip\n",
      "INFO:snap_stderr:stderr:INFO: org.esa.snap.core.dataop.dem.ElevationFile: http retrieving http://step.esa.int/auxdata/dem/SRTMGL1/N56W006.SRTMGL1.hgt.zip\n",
      "INFO:snap_stderr:stderr:INFO: org.esa.snap.core.dataop.dem.ElevationFile: http retrieving http://step.esa.int/auxdata/dem/SRTMGL1/N55W005.SRTMGL1.hgt.zip\n",
      "INFO:snap_stderr:stderr:INFO: org.esa.snap.core.dataop.dem.ElevationFile: http retrieving http://step.esa.int/auxdata/dem/SRTMGL1/N55W006.SRTMGL1.hgt.zip\n",
      "INFO:snap_stdout:....10%....20%....30%....40%....50%....60%....70%....80%....90% done.\n"
     ]
    },
    {
     "name": "stdout",
     "output_type": "stream",
     "text": [
      "/tmp/data/intermediate/NovaSAR_01_12650_slc_11_200703_102234_HH_2_tmp/NovaSAR_01_12650_slc_11_200703_102234_HH_2_ML_TC_TF_cog/NovaSAR_01_12650_slc_11_200703_102234_HH_2_Gamma0_Intensity_HH_db.tif\n",
      "2020-11-18 00:27:29 Starting conversion: /tmp/data/intermediate/NovaSAR_01_12650_slc_11_200703_102234_HH_2_tmp/NovaSAR_01_12650_slc_11_200703_102234_HH_2_ML_TC_TF.data/Gamma0_Intensity_HH_db.img.\n",
      "2020-11-18 00:27:40 Conversion complete: True.\n"
     ]
    },
    {
     "name": "stderr",
     "output_type": "stream",
     "text": [
      "DEBUG:sedas_api:successful login.\n"
     ]
    },
    {
     "name": "stdout",
     "output_type": "stream",
     "text": [
      "2020-11-18 00:28:50 Prepared NovaSAR_01_12650_slc_11_200703_102234_HH_2 at novasar_uk_test/\n",
      "2020-11-18 00:28:50 Preparing NovaSAR_01_12650_slc_200703_102230_HH within /tmp/data/intermediate/NovaSAR_01_12650_slc_200703_102230_HH_tmp/\n"
     ]
    },
    {
     "name": "stderr",
     "output_type": "stream",
     "text": [
      "DEBUG:sedas_api:successful login.\n",
      "DEBUG:sedas_api:successful login.\n",
      "DEBUG:sedas_api:successful login.\n",
      "DEBUG:sedas_api:successful login.\n",
      "INFO:bulk_downloader:0 downloads pending, 0 downloads in progress, 0 requests pending\n",
      "INFO:bulk_downloader:2 active threads, 0 restarted.\n"
     ]
    },
    {
     "name": "stdout",
     "output_type": "stream",
     "text": [
      "2020-11-18 00:28:51 Downloading\n"
     ]
    },
    {
     "name": "stderr",
     "output_type": "stream",
     "text": [
      "DEBUG:bulk_downloader:1 downloads pending\n",
      "DEBUG:bulk_downloader:1 downloads pending\n",
      "INFO:bulk_downloader:downloading NovaSAR_01_12650_slc_200703_102230_HH to /tmp/data/intermediate/NovaSAR_01_12650_slc_200703_102230_HH_tmp/NovaSAR_01_12650_slc_200703_102230_HH.zip\n",
      "DEBUG:sedas_api:successful login.\n",
      "INFO:bulk_downloader:0 downloads pending, 1 downloads in progress, 0 requests pending\n",
      "INFO:bulk_downloader:2 active threads, 0 restarted.\n",
      "INFO:bulk_downloader:0 downloads pending, 1 downloads in progress, 0 requests pending\n",
      "INFO:bulk_downloader:2 active threads, 0 restarted.\n",
      "INFO:bulk_downloader:0 downloads pending, 1 downloads in progress, 0 requests pending\n",
      "INFO:bulk_downloader:2 active threads, 0 restarted.\n",
      "INFO:bulk_downloader:0 downloads pending, 1 downloads in progress, 0 requests pending\n",
      "INFO:bulk_downloader:2 active threads, 0 restarted.\n",
      "INFO:bulk_downloader:0 downloads pending, 1 downloads in progress, 0 requests pending\n",
      "INFO:bulk_downloader:2 active threads, 0 restarted.\n",
      "INFO:bulk_downloader:0 downloads pending, 1 downloads in progress, 0 requests pending\n",
      "INFO:bulk_downloader:2 active threads, 0 restarted.\n",
      "INFO:bulk_downloader:0 downloads pending, 1 downloads in progress, 0 requests pending\n",
      "INFO:bulk_downloader:2 active threads, 0 restarted.\n",
      "DEBUG:bulk_downloader:0 downloads pending\n",
      "DEBUG:bulk_downloader:monitor thread stopping\n"
     ]
    },
    {
     "name": "stdout",
     "output_type": "stream",
     "text": [
      "2020-11-18 00:29:31 Downloaded\n",
      "2020-11-18 00:29:31 Extracting /tmp/data/intermediate/NovaSAR_01_12650_slc_200703_102230_HH_tmp/NovaSAR_01_12650_slc_200703_102230_HH.zip\n"
     ]
    },
    {
     "name": "stderr",
     "output_type": "stream",
     "text": [
      "DEBUG:bulk_downloader:requests thread stopping\n",
      "DEBUG:root:running ['/opt/snap/bin/gpt', '/opt/notebooks/anc/novasar_slc_tf_tc.xml', '-Pinput=/tmp/data/intermediate/NovaSAR_01_12650_slc_200703_102230_HH_tmp/NovaSAR_01_12650_slc_200703_102230_HH/SV229/Image_Products$/NovaSAR_01_12650_slc_200703_102230_HH_/NovaSAR_01_12650_slc_11_200703_102230_HH_1/metadata.xml', '-Poutput=/tmp/data/intermediate/NovaSAR_01_12650_slc_200703_102230_HH_tmp/NovaSAR_01_12650_slc_11_200703_102230_HH_1_ML_TC_TF.dim']\n"
     ]
    },
    {
     "name": "stdout",
     "output_type": "stream",
     "text": [
      "2020-11-18 00:29:57 Extracted to /tmp/data/intermediate/NovaSAR_01_12650_slc_200703_102230_HH_tmp/NovaSAR_01_12650_slc_200703_102230_HH/\n",
      "NovaSAR_01_12650_slc_11_200703_102230_HH_1\n",
      "/tmp/data/intermediate/NovaSAR_01_12650_slc_200703_102230_HH_tmp/NovaSAR_01_12650_slc_11_200703_102230_HH_1_ML_TC_TF.data/\n",
      "/tmp/data/intermediate/NovaSAR_01_12650_slc_200703_102230_HH_tmp/NovaSAR_01_12650_slc_11_200703_102230_HH_1_ML_TC_TF_cog/\n"
     ]
    },
    {
     "name": "stderr",
     "output_type": "stream",
     "text": [
      "INFO:snap_stderr:stderr:INFO: org.esa.snap.core.gpf.operators.tooladapter.ToolAdapterIO: Initializing external tool adapters\n",
      "INFO:snap_stderr:stderr:INFO: org.esa.s2tbx.dataio.gdal.GDALVersion: Incompatible GDAL 3.1.4 found on system. Internal GDAL 3.0.0 from distribution will be used.\n",
      "INFO:snap_stderr:stderr:INFO: org.esa.s2tbx.dataio.gdal.GDALVersion: Internal GDAL 3.0.0 set to be used by SNAP.\n",
      "INFO:snap_stderr:stderr:INFO: org.esa.snap.core.util.EngineVersionCheckActivator: Please check regularly for new updates for the best SNAP experience.\n",
      "INFO:snap_stderr:stderr:INFO: org.esa.s2tbx.dataio.gdal.GDALVersion: Internal GDAL 3.0.0 set to be used by SNAP.\n",
      "INFO:snap_stdout:Executing processing graph\n",
      "INFO:snap_stderr:stderr:INFO: org.hsqldb.persist.Logger: dataFileCache open start\n",
      "INFO:snap_stdout:....10%....20%....30%....40%....50%....60%....70%....80%....90% done.\n"
     ]
    },
    {
     "name": "stdout",
     "output_type": "stream",
     "text": [
      "/tmp/data/intermediate/NovaSAR_01_12650_slc_200703_102230_HH_tmp/NovaSAR_01_12650_slc_11_200703_102230_HH_1_ML_TC_TF_cog/NovaSAR_01_12650_slc_11_200703_102230_HH_1_Gamma0_Intensity_HH_db.tif\n",
      "2020-11-18 00:34:35 Starting conversion: /tmp/data/intermediate/NovaSAR_01_12650_slc_200703_102230_HH_tmp/NovaSAR_01_12650_slc_11_200703_102230_HH_1_ML_TC_TF.data/Gamma0_Intensity_HH_db.img.\n",
      "2020-11-18 00:34:45 Conversion complete: True.\n"
     ]
    },
    {
     "name": "stderr",
     "output_type": "stream",
     "text": [
      "DEBUG:root:running ['/opt/snap/bin/gpt', '/opt/notebooks/anc/novasar_slc_tf_tc.xml', '-Pinput=/tmp/data/intermediate/NovaSAR_01_12650_slc_200703_102230_HH_tmp/NovaSAR_01_12650_slc_200703_102230_HH/SV229/Image_Products$/NovaSAR_01_12650_slc_200703_102230_HH_/NovaSAR_01_12650_slc_11_200703_102234_HH_2/metadata.xml', '-Poutput=/tmp/data/intermediate/NovaSAR_01_12650_slc_200703_102230_HH_tmp/NovaSAR_01_12650_slc_11_200703_102234_HH_2_ML_TC_TF.dim']\n"
     ]
    },
    {
     "name": "stdout",
     "output_type": "stream",
     "text": [
      "NovaSAR_01_12650_slc_11_200703_102234_HH_2\n",
      "/tmp/data/intermediate/NovaSAR_01_12650_slc_200703_102230_HH_tmp/NovaSAR_01_12650_slc_11_200703_102234_HH_2_ML_TC_TF.data/\n",
      "/tmp/data/intermediate/NovaSAR_01_12650_slc_200703_102230_HH_tmp/NovaSAR_01_12650_slc_11_200703_102234_HH_2_ML_TC_TF_cog/\n"
     ]
    },
    {
     "name": "stderr",
     "output_type": "stream",
     "text": [
      "INFO:snap_stderr:stderr:INFO: org.esa.snap.core.gpf.operators.tooladapter.ToolAdapterIO: Initializing external tool adapters\n",
      "INFO:snap_stderr:stderr:INFO: org.esa.s2tbx.dataio.gdal.GDALVersion: Incompatible GDAL 3.1.4 found on system. Internal GDAL 3.0.0 from distribution will be used.\n",
      "INFO:snap_stderr:stderr:INFO: org.esa.s2tbx.dataio.gdal.GDALVersion: Internal GDAL 3.0.0 set to be used by SNAP.\n",
      "INFO:snap_stderr:stderr:INFO: org.esa.snap.core.util.EngineVersionCheckActivator: Please check regularly for new updates for the best SNAP experience.\n",
      "INFO:snap_stderr:stderr:INFO: org.esa.s2tbx.dataio.gdal.GDALVersion: Internal GDAL 3.0.0 set to be used by SNAP.\n",
      "INFO:snap_stdout:Executing processing graph\n",
      "INFO:snap_stderr:stderr:INFO: org.hsqldb.persist.Logger: dataFileCache open start\n",
      "INFO:snap_stdout:....10%....20%....30%....40%....50%....60%....70%....80%....90% done.\n"
     ]
    },
    {
     "name": "stdout",
     "output_type": "stream",
     "text": [
      "/tmp/data/intermediate/NovaSAR_01_12650_slc_200703_102230_HH_tmp/NovaSAR_01_12650_slc_11_200703_102234_HH_2_ML_TC_TF_cog/NovaSAR_01_12650_slc_11_200703_102234_HH_2_Gamma0_Intensity_HH_db.tif\n",
      "2020-11-18 00:41:20 Starting conversion: /tmp/data/intermediate/NovaSAR_01_12650_slc_200703_102230_HH_tmp/NovaSAR_01_12650_slc_11_200703_102234_HH_2_ML_TC_TF.data/Gamma0_Intensity_HH_db.img.\n",
      "2020-11-18 00:41:31 Conversion complete: True.\n",
      "2020-11-18 00:42:39 Prepared NovaSAR_01_12650_slc_200703_102230_HH at novasar_uk_test/\n",
      "2020-11-18 00:42:39 Preparing NovaSAR_01_12650_slc_11_200703_102230_HH_1 within /tmp/data/intermediate/NovaSAR_01_12650_slc_11_200703_102230_HH_1_tmp/\n"
     ]
    },
    {
     "name": "stderr",
     "output_type": "stream",
     "text": [
      "DEBUG:sedas_api:successful login.\n",
      "DEBUG:sedas_api:successful login.\n",
      "DEBUG:sedas_api:successful login.\n",
      "DEBUG:sedas_api:successful login.\n",
      "DEBUG:sedas_api:successful login.\n",
      "INFO:bulk_downloader:0 downloads pending, 0 downloads in progress, 0 requests pending\n",
      "INFO:bulk_downloader:2 active threads, 0 restarted.\n"
     ]
    },
    {
     "name": "stdout",
     "output_type": "stream",
     "text": [
      "2020-11-18 00:42:41 Downloading\n"
     ]
    },
    {
     "name": "stderr",
     "output_type": "stream",
     "text": [
      "DEBUG:bulk_downloader:1 downloads pending\n",
      "INFO:bulk_downloader:downloading NovaSAR_01_12650_slc_11_200703_102230_HH_1 to /tmp/data/intermediate/NovaSAR_01_12650_slc_11_200703_102230_HH_1_tmp/NovaSAR_01_12650_slc_11_200703_102230_HH_1.zip\n",
      "DEBUG:bulk_downloader:0 downloads pending\n",
      "DEBUG:sedas_api:successful login.\n",
      "INFO:bulk_downloader:0 downloads pending, 1 downloads in progress, 0 requests pending\n",
      "INFO:bulk_downloader:2 active threads, 0 restarted.\n",
      "INFO:bulk_downloader:0 downloads pending, 1 downloads in progress, 0 requests pending\n",
      "INFO:bulk_downloader:2 active threads, 0 restarted.\n",
      "INFO:bulk_downloader:0 downloads pending, 1 downloads in progress, 0 requests pending\n",
      "INFO:bulk_downloader:2 active threads, 0 restarted.\n",
      "DEBUG:bulk_downloader:0 downloads pending\n",
      "DEBUG:bulk_downloader:monitor thread stopping\n"
     ]
    },
    {
     "name": "stdout",
     "output_type": "stream",
     "text": [
      "2020-11-18 00:43:01 Downloaded\n",
      "2020-11-18 00:43:01 Extracting /tmp/data/intermediate/NovaSAR_01_12650_slc_11_200703_102230_HH_1_tmp/NovaSAR_01_12650_slc_11_200703_102230_HH_1.zip\n"
     ]
    },
    {
     "name": "stderr",
     "output_type": "stream",
     "text": [
      "DEBUG:bulk_downloader:requests thread stopping\n",
      "DEBUG:root:running ['/opt/snap/bin/gpt', '/opt/notebooks/anc/novasar_slc_tf_tc.xml', '-Pinput=/tmp/data/intermediate/NovaSAR_01_12650_slc_11_200703_102230_HH_1_tmp/NovaSAR_01_12650_slc_11_200703_102230_HH_1/NovaSAR_01_12650_slc_11_200703_102230_HH_1/metadata.xml', '-Poutput=/tmp/data/intermediate/NovaSAR_01_12650_slc_11_200703_102230_HH_1_tmp/NovaSAR_01_12650_slc_11_200703_102230_HH_1_ML_TC_TF.dim']\n"
     ]
    },
    {
     "name": "stdout",
     "output_type": "stream",
     "text": [
      "2020-11-18 00:43:11 Extracted to /tmp/data/intermediate/NovaSAR_01_12650_slc_11_200703_102230_HH_1_tmp/NovaSAR_01_12650_slc_11_200703_102230_HH_1/\n",
      "NovaSAR_01_12650_slc_11_200703_102230_HH_1\n",
      "/tmp/data/intermediate/NovaSAR_01_12650_slc_11_200703_102230_HH_1_tmp/NovaSAR_01_12650_slc_11_200703_102230_HH_1_ML_TC_TF.data/\n",
      "/tmp/data/intermediate/NovaSAR_01_12650_slc_11_200703_102230_HH_1_tmp/NovaSAR_01_12650_slc_11_200703_102230_HH_1_ML_TC_TF_cog/\n"
     ]
    },
    {
     "name": "stderr",
     "output_type": "stream",
     "text": [
      "INFO:snap_stderr:stderr:INFO: org.esa.snap.core.gpf.operators.tooladapter.ToolAdapterIO: Initializing external tool adapters\n",
      "INFO:snap_stderr:stderr:INFO: org.esa.s2tbx.dataio.gdal.GDALVersion: Incompatible GDAL 3.1.4 found on system. Internal GDAL 3.0.0 from distribution will be used.\n",
      "INFO:snap_stderr:stderr:INFO: org.esa.s2tbx.dataio.gdal.GDALVersion: Internal GDAL 3.0.0 set to be used by SNAP.\n",
      "INFO:snap_stderr:stderr:INFO: org.esa.snap.core.util.EngineVersionCheckActivator: Please check regularly for new updates for the best SNAP experience.\n",
      "INFO:snap_stderr:stderr:INFO: org.esa.s2tbx.dataio.gdal.GDALVersion: Internal GDAL 3.0.0 set to be used by SNAP.\n",
      "INFO:snap_stdout:Executing processing graph\n",
      "INFO:snap_stderr:stderr:INFO: org.hsqldb.persist.Logger: dataFileCache open start\n",
      "INFO:snap_stdout:....10%....20%....30%....40%....50%....60%....70%....80%....90% done.\n"
     ]
    },
    {
     "name": "stdout",
     "output_type": "stream",
     "text": [
      "/tmp/data/intermediate/NovaSAR_01_12650_slc_11_200703_102230_HH_1_tmp/NovaSAR_01_12650_slc_11_200703_102230_HH_1_ML_TC_TF_cog/NovaSAR_01_12650_slc_11_200703_102230_HH_1_Gamma0_Intensity_HH_db.tif\n",
      "2020-11-18 00:47:48 Starting conversion: /tmp/data/intermediate/NovaSAR_01_12650_slc_11_200703_102230_HH_1_tmp/NovaSAR_01_12650_slc_11_200703_102230_HH_1_ML_TC_TF.data/Gamma0_Intensity_HH_db.img.\n",
      "2020-11-18 00:47:57 Conversion complete: True.\n"
     ]
    },
    {
     "name": "stderr",
     "output_type": "stream",
     "text": [
      "DEBUG:sedas_api:successful login.\n"
     ]
    },
    {
     "name": "stdout",
     "output_type": "stream",
     "text": [
      "2020-11-18 00:48:49 Prepared NovaSAR_01_12650_slc_11_200703_102230_HH_1 at novasar_uk_test/\n",
      "2020-11-18 00:48:49 Preparing NovaSAR_01_12628_slc_11_200702_101528_HH_4 within /tmp/data/intermediate/NovaSAR_01_12628_slc_11_200702_101528_HH_4_tmp/\n"
     ]
    },
    {
     "name": "stderr",
     "output_type": "stream",
     "text": [
      "DEBUG:sedas_api:successful login.\n",
      "DEBUG:sedas_api:successful login.\n",
      "DEBUG:sedas_api:successful login.\n",
      "DEBUG:sedas_api:successful login.\n",
      "INFO:bulk_downloader:0 downloads pending, 0 downloads in progress, 0 requests pending\n",
      "INFO:bulk_downloader:2 active threads, 0 restarted.\n"
     ]
    },
    {
     "name": "stdout",
     "output_type": "stream",
     "text": [
      "2020-11-18 00:48:50 Downloading\n"
     ]
    },
    {
     "name": "stderr",
     "output_type": "stream",
     "text": [
      "DEBUG:bulk_downloader:1 downloads pending\n",
      "DEBUG:bulk_downloader:1 downloads pending\n",
      "INFO:bulk_downloader:downloading NovaSAR_01_12628_slc_11_200702_101528_HH_4 to /tmp/data/intermediate/NovaSAR_01_12628_slc_11_200702_101528_HH_4_tmp/NovaSAR_01_12628_slc_11_200702_101528_HH_4.zip\n",
      "DEBUG:sedas_api:successful login.\n",
      "INFO:bulk_downloader:0 downloads pending, 1 downloads in progress, 0 requests pending\n",
      "INFO:bulk_downloader:2 active threads, 0 restarted.\n",
      "INFO:bulk_downloader:0 downloads pending, 1 downloads in progress, 0 requests pending\n",
      "INFO:bulk_downloader:2 active threads, 0 restarted.\n",
      "INFO:bulk_downloader:0 downloads pending, 1 downloads in progress, 0 requests pending\n",
      "INFO:bulk_downloader:2 active threads, 0 restarted.\n",
      "INFO:bulk_downloader:0 downloads pending, 1 downloads in progress, 0 requests pending\n",
      "INFO:bulk_downloader:2 active threads, 0 restarted.\n",
      "INFO:bulk_downloader:0 downloads pending, 1 downloads in progress, 0 requests pending\n",
      "INFO:bulk_downloader:2 active threads, 0 restarted.\n",
      "DEBUG:bulk_downloader:0 downloads pending\n",
      "DEBUG:bulk_downloader:requests thread stopping\n",
      "DEBUG:bulk_downloader:monitor thread stopping\n"
     ]
    },
    {
     "name": "stdout",
     "output_type": "stream",
     "text": [
      "2020-11-18 00:49:20 Downloaded\n",
      "2020-11-18 00:49:20 Extracting /tmp/data/intermediate/NovaSAR_01_12628_slc_11_200702_101528_HH_4_tmp/NovaSAR_01_12628_slc_11_200702_101528_HH_4.zip\n"
     ]
    },
    {
     "name": "stderr",
     "output_type": "stream",
     "text": [
      "DEBUG:root:running ['/opt/snap/bin/gpt', '/opt/notebooks/anc/novasar_slc_tf_tc.xml', '-Pinput=/tmp/data/intermediate/NovaSAR_01_12628_slc_11_200702_101528_HH_4_tmp/NovaSAR_01_12628_slc_11_200702_101528_HH_4/NovaSAR_01_12628_slc_11_200702_101528_HH_4/metadata.xml', '-Poutput=/tmp/data/intermediate/NovaSAR_01_12628_slc_11_200702_101528_HH_4_tmp/NovaSAR_01_12628_slc_11_200702_101528_HH_4_ML_TC_TF.dim']\n"
     ]
    },
    {
     "name": "stdout",
     "output_type": "stream",
     "text": [
      "2020-11-18 00:49:37 Extracted to /tmp/data/intermediate/NovaSAR_01_12628_slc_11_200702_101528_HH_4_tmp/NovaSAR_01_12628_slc_11_200702_101528_HH_4/\n",
      "NovaSAR_01_12628_slc_11_200702_101528_HH_4\n",
      "/tmp/data/intermediate/NovaSAR_01_12628_slc_11_200702_101528_HH_4_tmp/NovaSAR_01_12628_slc_11_200702_101528_HH_4_ML_TC_TF.data/\n",
      "/tmp/data/intermediate/NovaSAR_01_12628_slc_11_200702_101528_HH_4_tmp/NovaSAR_01_12628_slc_11_200702_101528_HH_4_ML_TC_TF_cog/\n"
     ]
    },
    {
     "name": "stderr",
     "output_type": "stream",
     "text": [
      "INFO:snap_stderr:stderr:INFO: org.esa.snap.core.gpf.operators.tooladapter.ToolAdapterIO: Initializing external tool adapters\n",
      "INFO:snap_stderr:stderr:INFO: org.esa.s2tbx.dataio.gdal.GDALVersion: Incompatible GDAL 3.1.4 found on system. Internal GDAL 3.0.0 from distribution will be used.\n",
      "INFO:snap_stderr:stderr:INFO: org.esa.s2tbx.dataio.gdal.GDALVersion: Internal GDAL 3.0.0 set to be used by SNAP.\n",
      "INFO:snap_stderr:stderr:INFO: org.esa.snap.core.util.EngineVersionCheckActivator: Please check regularly for new updates for the best SNAP experience.\n",
      "INFO:snap_stderr:stderr:INFO: org.esa.s2tbx.dataio.gdal.GDALVersion: Internal GDAL 3.0.0 set to be used by SNAP.\n",
      "INFO:snap_stdout:Executing processing graph\n",
      "INFO:snap_stderr:stderr:INFO: org.hsqldb.persist.Logger: dataFileCache open start\n",
      "INFO:snap_stderr:stderr:INFO: org.esa.snap.core.dataop.dem.ElevationFile: http retrieving http://step.esa.int/auxdata/dem/SRTMGL1/N51W003.SRTMGL1.hgt.zip\n",
      "INFO:snap_stdout:....10%....20%....30%....40%....50%....60%....70%....80%....90% done.\n"
     ]
    },
    {
     "name": "stdout",
     "output_type": "stream",
     "text": [
      "/tmp/data/intermediate/NovaSAR_01_12628_slc_11_200702_101528_HH_4_tmp/NovaSAR_01_12628_slc_11_200702_101528_HH_4_ML_TC_TF_cog/NovaSAR_01_12628_slc_11_200702_101528_HH_4_Gamma0_Intensity_HH_db.tif\n",
      "2020-11-18 00:55:15 Starting conversion: /tmp/data/intermediate/NovaSAR_01_12628_slc_11_200702_101528_HH_4_tmp/NovaSAR_01_12628_slc_11_200702_101528_HH_4_ML_TC_TF.data/Gamma0_Intensity_HH_db.img.\n",
      "2020-11-18 00:55:27 Conversion complete: True.\n",
      "2020-11-18 00:56:41 Prepared NovaSAR_01_12628_slc_11_200702_101528_HH_4 at novasar_uk_test/\n",
      "2020-11-18 00:56:41 Preparing NovaSAR_01_12628_slc_11_200702_101524_HH_3 within /tmp/data/intermediate/NovaSAR_01_12628_slc_11_200702_101524_HH_3_tmp/\n"
     ]
    },
    {
     "name": "stderr",
     "output_type": "stream",
     "text": [
      "DEBUG:sedas_api:successful login.\n",
      "DEBUG:sedas_api:successful login.\n",
      "DEBUG:sedas_api:successful login.\n",
      "DEBUG:sedas_api:successful login.\n",
      "DEBUG:sedas_api:successful login.\n",
      "INFO:bulk_downloader:0 downloads pending, 0 downloads in progress, 0 requests pending\n",
      "INFO:bulk_downloader:2 active threads, 0 restarted.\n"
     ]
    },
    {
     "name": "stdout",
     "output_type": "stream",
     "text": [
      "2020-11-18 00:56:42 Downloading\n"
     ]
    },
    {
     "name": "stderr",
     "output_type": "stream",
     "text": [
      "DEBUG:bulk_downloader:1 downloads pending\n",
      "INFO:bulk_downloader:downloading NovaSAR_01_12628_slc_11_200702_101524_HH_3 to /tmp/data/intermediate/NovaSAR_01_12628_slc_11_200702_101524_HH_3_tmp/NovaSAR_01_12628_slc_11_200702_101524_HH_3.zip\n",
      "DEBUG:bulk_downloader:0 downloads pending\n",
      "DEBUG:sedas_api:successful login.\n",
      "INFO:bulk_downloader:0 downloads pending, 1 downloads in progress, 0 requests pending\n",
      "INFO:bulk_downloader:2 active threads, 0 restarted.\n",
      "INFO:bulk_downloader:0 downloads pending, 1 downloads in progress, 0 requests pending\n",
      "INFO:bulk_downloader:2 active threads, 0 restarted.\n",
      "INFO:bulk_downloader:0 downloads pending, 1 downloads in progress, 0 requests pending\n",
      "INFO:bulk_downloader:2 active threads, 0 restarted.\n",
      "DEBUG:bulk_downloader:0 downloads pending\n",
      "DEBUG:bulk_downloader:requests thread stopping\n",
      "DEBUG:bulk_downloader:monitor thread stopping\n"
     ]
    },
    {
     "name": "stdout",
     "output_type": "stream",
     "text": [
      "2020-11-18 00:57:02 Downloaded\n",
      "2020-11-18 00:57:02 Extracting /tmp/data/intermediate/NovaSAR_01_12628_slc_11_200702_101524_HH_3_tmp/NovaSAR_01_12628_slc_11_200702_101524_HH_3.zip\n"
     ]
    },
    {
     "name": "stderr",
     "output_type": "stream",
     "text": [
      "DEBUG:root:running ['/opt/snap/bin/gpt', '/opt/notebooks/anc/novasar_slc_tf_tc.xml', '-Pinput=/tmp/data/intermediate/NovaSAR_01_12628_slc_11_200702_101524_HH_3_tmp/NovaSAR_01_12628_slc_11_200702_101524_HH_3/NovaSAR_01_12628_slc_11_200702_101524_HH_3/metadata.xml', '-Poutput=/tmp/data/intermediate/NovaSAR_01_12628_slc_11_200702_101524_HH_3_tmp/NovaSAR_01_12628_slc_11_200702_101524_HH_3_ML_TC_TF.dim']\n"
     ]
    },
    {
     "name": "stdout",
     "output_type": "stream",
     "text": [
      "2020-11-18 00:57:15 Extracted to /tmp/data/intermediate/NovaSAR_01_12628_slc_11_200702_101524_HH_3_tmp/NovaSAR_01_12628_slc_11_200702_101524_HH_3/\n",
      "NovaSAR_01_12628_slc_11_200702_101524_HH_3\n",
      "/tmp/data/intermediate/NovaSAR_01_12628_slc_11_200702_101524_HH_3_tmp/NovaSAR_01_12628_slc_11_200702_101524_HH_3_ML_TC_TF.data/\n",
      "/tmp/data/intermediate/NovaSAR_01_12628_slc_11_200702_101524_HH_3_tmp/NovaSAR_01_12628_slc_11_200702_101524_HH_3_ML_TC_TF_cog/\n"
     ]
    },
    {
     "name": "stderr",
     "output_type": "stream",
     "text": [
      "INFO:snap_stderr:stderr:INFO: org.esa.snap.core.gpf.operators.tooladapter.ToolAdapterIO: Initializing external tool adapters\n",
      "INFO:snap_stderr:stderr:INFO: org.esa.s2tbx.dataio.gdal.GDALVersion: Incompatible GDAL 3.1.4 found on system. Internal GDAL 3.0.0 from distribution will be used.\n",
      "INFO:snap_stderr:stderr:INFO: org.esa.s2tbx.dataio.gdal.GDALVersion: Internal GDAL 3.0.0 set to be used by SNAP.\n",
      "INFO:snap_stderr:stderr:INFO: org.esa.snap.core.util.EngineVersionCheckActivator: Please check regularly for new updates for the best SNAP experience.\n",
      "INFO:snap_stderr:stderr:INFO: org.esa.s2tbx.dataio.gdal.GDALVersion: Internal GDAL 3.0.0 set to be used by SNAP.\n",
      "INFO:snap_stdout:Executing processing graph\n",
      "INFO:snap_stderr:stderr:INFO: org.hsqldb.persist.Logger: dataFileCache open start\n",
      "INFO:snap_stdout:....10%....20%....30%....40%....50%....60%....70%....80%....90% done.\n"
     ]
    },
    {
     "name": "stdout",
     "output_type": "stream",
     "text": [
      "/tmp/data/intermediate/NovaSAR_01_12628_slc_11_200702_101524_HH_3_tmp/NovaSAR_01_12628_slc_11_200702_101524_HH_3_ML_TC_TF_cog/NovaSAR_01_12628_slc_11_200702_101524_HH_3_Gamma0_Intensity_HH_db.tif\n",
      "2020-11-18 01:00:47 Starting conversion: /tmp/data/intermediate/NovaSAR_01_12628_slc_11_200702_101524_HH_3_tmp/NovaSAR_01_12628_slc_11_200702_101524_HH_3_ML_TC_TF.data/Gamma0_Intensity_HH_db.img.\n",
      "2020-11-18 01:00:54 Conversion complete: True.\n",
      "2020-11-18 01:01:41 Prepared NovaSAR_01_12628_slc_11_200702_101524_HH_3 at novasar_uk_test/\n",
      "2020-11-18 01:01:41 Preparing NovaSAR_01_12628_slc_11_200702_101520_HH_2 within /tmp/data/intermediate/NovaSAR_01_12628_slc_11_200702_101520_HH_2_tmp/\n"
     ]
    },
    {
     "name": "stderr",
     "output_type": "stream",
     "text": [
      "DEBUG:sedas_api:successful login.\n",
      "DEBUG:sedas_api:successful login.\n",
      "DEBUG:sedas_api:successful login.\n",
      "DEBUG:sedas_api:successful login.\n",
      "DEBUG:sedas_api:successful login.\n",
      "INFO:bulk_downloader:0 downloads pending, 0 downloads in progress, 0 requests pending\n",
      "INFO:bulk_downloader:2 active threads, 0 restarted.\n"
     ]
    },
    {
     "name": "stdout",
     "output_type": "stream",
     "text": [
      "2020-11-18 01:01:42 Downloading\n"
     ]
    },
    {
     "name": "stderr",
     "output_type": "stream",
     "text": [
      "DEBUG:bulk_downloader:1 downloads pending\n",
      "DEBUG:bulk_downloader:1 downloads pending\n",
      "INFO:bulk_downloader:downloading NovaSAR_01_12628_slc_11_200702_101520_HH_2 to /tmp/data/intermediate/NovaSAR_01_12628_slc_11_200702_101520_HH_2_tmp/NovaSAR_01_12628_slc_11_200702_101520_HH_2.zip\n",
      "DEBUG:sedas_api:successful login.\n",
      "INFO:bulk_downloader:0 downloads pending, 1 downloads in progress, 0 requests pending\n",
      "INFO:bulk_downloader:2 active threads, 0 restarted.\n",
      "INFO:bulk_downloader:0 downloads pending, 1 downloads in progress, 0 requests pending\n",
      "INFO:bulk_downloader:2 active threads, 0 restarted.\n",
      "INFO:bulk_downloader:0 downloads pending, 1 downloads in progress, 0 requests pending\n",
      "INFO:bulk_downloader:2 active threads, 0 restarted.\n",
      "DEBUG:bulk_downloader:0 downloads pending\n",
      "DEBUG:bulk_downloader:monitor thread stopping\n"
     ]
    },
    {
     "name": "stdout",
     "output_type": "stream",
     "text": [
      "2020-11-18 01:02:02 Downloaded\n",
      "2020-11-18 01:02:02 Extracting /tmp/data/intermediate/NovaSAR_01_12628_slc_11_200702_101520_HH_2_tmp/NovaSAR_01_12628_slc_11_200702_101520_HH_2.zip\n"
     ]
    },
    {
     "name": "stderr",
     "output_type": "stream",
     "text": [
      "DEBUG:bulk_downloader:requests thread stopping\n",
      "DEBUG:root:running ['/opt/snap/bin/gpt', '/opt/notebooks/anc/novasar_slc_tf_tc.xml', '-Pinput=/tmp/data/intermediate/NovaSAR_01_12628_slc_11_200702_101520_HH_2_tmp/NovaSAR_01_12628_slc_11_200702_101520_HH_2/NovaSAR_01_12628_slc_11_200702_101520_HH_2/metadata.xml', '-Poutput=/tmp/data/intermediate/NovaSAR_01_12628_slc_11_200702_101520_HH_2_tmp/NovaSAR_01_12628_slc_11_200702_101520_HH_2_ML_TC_TF.dim']\n"
     ]
    },
    {
     "name": "stdout",
     "output_type": "stream",
     "text": [
      "2020-11-18 01:02:14 Extracted to /tmp/data/intermediate/NovaSAR_01_12628_slc_11_200702_101520_HH_2_tmp/NovaSAR_01_12628_slc_11_200702_101520_HH_2/\n",
      "NovaSAR_01_12628_slc_11_200702_101520_HH_2\n",
      "/tmp/data/intermediate/NovaSAR_01_12628_slc_11_200702_101520_HH_2_tmp/NovaSAR_01_12628_slc_11_200702_101520_HH_2_ML_TC_TF.data/\n",
      "/tmp/data/intermediate/NovaSAR_01_12628_slc_11_200702_101520_HH_2_tmp/NovaSAR_01_12628_slc_11_200702_101520_HH_2_ML_TC_TF_cog/\n"
     ]
    },
    {
     "name": "stderr",
     "output_type": "stream",
     "text": [
      "INFO:snap_stderr:stderr:INFO: org.esa.snap.core.gpf.operators.tooladapter.ToolAdapterIO: Initializing external tool adapters\n",
      "INFO:snap_stderr:stderr:INFO: org.esa.s2tbx.dataio.gdal.GDALVersion: Incompatible GDAL 3.1.4 found on system. Internal GDAL 3.0.0 from distribution will be used.\n",
      "INFO:snap_stderr:stderr:INFO: org.esa.s2tbx.dataio.gdal.GDALVersion: Internal GDAL 3.0.0 set to be used by SNAP.\n",
      "INFO:snap_stderr:stderr:INFO: org.esa.snap.core.util.EngineVersionCheckActivator: Please check regularly for new updates for the best SNAP experience.\n",
      "INFO:snap_stderr:stderr:INFO: org.esa.s2tbx.dataio.gdal.GDALVersion: Internal GDAL 3.0.0 set to be used by SNAP.\n",
      "INFO:snap_stdout:Executing processing graph\n",
      "INFO:snap_stderr:stderr:INFO: org.hsqldb.persist.Logger: dataFileCache open start\n",
      "INFO:snap_stdout:....10%....20%....30%....40%....50%....60%....70%....80%....90% done.\n"
     ]
    },
    {
     "name": "stdout",
     "output_type": "stream",
     "text": [
      "/tmp/data/intermediate/NovaSAR_01_12628_slc_11_200702_101520_HH_2_tmp/NovaSAR_01_12628_slc_11_200702_101520_HH_2_ML_TC_TF_cog/NovaSAR_01_12628_slc_11_200702_101520_HH_2_Gamma0_Intensity_HH_db.tif\n",
      "2020-11-18 01:05:57 Starting conversion: /tmp/data/intermediate/NovaSAR_01_12628_slc_11_200702_101520_HH_2_tmp/NovaSAR_01_12628_slc_11_200702_101520_HH_2_ML_TC_TF.data/Gamma0_Intensity_HH_db.img.\n",
      "2020-11-18 01:06:04 Conversion complete: True.\n",
      "2020-11-18 01:06:50 Prepared NovaSAR_01_12628_slc_11_200702_101520_HH_2 at novasar_uk_test/\n",
      "2020-11-18 01:06:50 Preparing NovaSAR_01_12628_slc_200702_101516_HH within /tmp/data/intermediate/NovaSAR_01_12628_slc_200702_101516_HH_tmp/\n"
     ]
    },
    {
     "name": "stderr",
     "output_type": "stream",
     "text": [
      "DEBUG:sedas_api:successful login.\n",
      "DEBUG:sedas_api:successful login.\n",
      "DEBUG:sedas_api:successful login.\n",
      "DEBUG:sedas_api:successful login.\n",
      "DEBUG:sedas_api:successful login.\n",
      "INFO:bulk_downloader:0 downloads pending, 0 downloads in progress, 0 requests pending\n",
      "INFO:bulk_downloader:2 active threads, 0 restarted.\n"
     ]
    },
    {
     "name": "stdout",
     "output_type": "stream",
     "text": [
      "2020-11-18 01:06:52 Downloading\n"
     ]
    },
    {
     "name": "stderr",
     "output_type": "stream",
     "text": [
      "DEBUG:bulk_downloader:1 downloads pending\n",
      "INFO:bulk_downloader:downloading NovaSAR_01_12628_slc_200702_101516_HH to /tmp/data/intermediate/NovaSAR_01_12628_slc_200702_101516_HH_tmp/NovaSAR_01_12628_slc_200702_101516_HH.zip\n",
      "DEBUG:bulk_downloader:0 downloads pending\n",
      "DEBUG:sedas_api:successful login.\n",
      "INFO:bulk_downloader:0 downloads pending, 1 downloads in progress, 0 requests pending\n",
      "INFO:bulk_downloader:2 active threads, 0 restarted.\n",
      "INFO:bulk_downloader:0 downloads pending, 1 downloads in progress, 0 requests pending\n",
      "INFO:bulk_downloader:2 active threads, 0 restarted.\n",
      "INFO:bulk_downloader:0 downloads pending, 1 downloads in progress, 0 requests pending\n",
      "INFO:bulk_downloader:2 active threads, 0 restarted.\n",
      "INFO:bulk_downloader:0 downloads pending, 1 downloads in progress, 0 requests pending\n",
      "INFO:bulk_downloader:2 active threads, 0 restarted.\n",
      "INFO:bulk_downloader:0 downloads pending, 1 downloads in progress, 0 requests pending\n",
      "INFO:bulk_downloader:2 active threads, 0 restarted.\n",
      "INFO:bulk_downloader:0 downloads pending, 1 downloads in progress, 0 requests pending\n",
      "INFO:bulk_downloader:2 active threads, 0 restarted.\n",
      "INFO:bulk_downloader:0 downloads pending, 1 downloads in progress, 0 requests pending\n",
      "INFO:bulk_downloader:2 active threads, 0 restarted.\n",
      "INFO:bulk_downloader:0 downloads pending, 1 downloads in progress, 0 requests pending\n",
      "INFO:bulk_downloader:2 active threads, 0 restarted.\n",
      "INFO:bulk_downloader:0 downloads pending, 1 downloads in progress, 0 requests pending\n",
      "INFO:bulk_downloader:2 active threads, 0 restarted.\n",
      "INFO:bulk_downloader:0 downloads pending, 1 downloads in progress, 0 requests pending\n",
      "INFO:bulk_downloader:2 active threads, 0 restarted.\n",
      "INFO:bulk_downloader:0 downloads pending, 1 downloads in progress, 0 requests pending\n",
      "INFO:bulk_downloader:2 active threads, 0 restarted.\n",
      "INFO:bulk_downloader:0 downloads pending, 1 downloads in progress, 0 requests pending\n",
      "INFO:bulk_downloader:2 active threads, 0 restarted.\n",
      "INFO:bulk_downloader:0 downloads pending, 1 downloads in progress, 0 requests pending\n",
      "INFO:bulk_downloader:2 active threads, 0 restarted.\n",
      "INFO:bulk_downloader:0 downloads pending, 1 downloads in progress, 0 requests pending\n",
      "INFO:bulk_downloader:2 active threads, 0 restarted.\n",
      "DEBUG:bulk_downloader:monitor thread stopping\n"
     ]
    },
    {
     "name": "stdout",
     "output_type": "stream",
     "text": [
      "2020-11-18 01:08:07 Downloaded\n",
      "2020-11-18 01:08:07 Extracting /tmp/data/intermediate/NovaSAR_01_12628_slc_200702_101516_HH_tmp/NovaSAR_01_12628_slc_200702_101516_HH.zip\n"
     ]
    },
    {
     "name": "stderr",
     "output_type": "stream",
     "text": [
      "DEBUG:bulk_downloader:0 downloads pending\n",
      "DEBUG:bulk_downloader:requests thread stopping\n",
      "DEBUG:root:running ['/opt/snap/bin/gpt', '/opt/notebooks/anc/novasar_slc_tf_tc.xml', '-Pinput=/tmp/data/intermediate/NovaSAR_01_12628_slc_200702_101516_HH_tmp/NovaSAR_01_12628_slc_200702_101516_HH/SV229/Image_Products$/NovaSAR_01_12628_slc_200702_101516_HH_/NovaSAR_01_12628_slc_11_200702_101516_HH_1/metadata.xml', '-Poutput=/tmp/data/intermediate/NovaSAR_01_12628_slc_200702_101516_HH_tmp/NovaSAR_01_12628_slc_11_200702_101516_HH_1_ML_TC_TF.dim']\n"
     ]
    },
    {
     "name": "stdout",
     "output_type": "stream",
     "text": [
      "2020-11-18 01:08:57 Extracted to /tmp/data/intermediate/NovaSAR_01_12628_slc_200702_101516_HH_tmp/NovaSAR_01_12628_slc_200702_101516_HH/\n",
      "NovaSAR_01_12628_slc_11_200702_101516_HH_1\n",
      "/tmp/data/intermediate/NovaSAR_01_12628_slc_200702_101516_HH_tmp/NovaSAR_01_12628_slc_11_200702_101516_HH_1_ML_TC_TF.data/\n",
      "/tmp/data/intermediate/NovaSAR_01_12628_slc_200702_101516_HH_tmp/NovaSAR_01_12628_slc_11_200702_101516_HH_1_ML_TC_TF_cog/\n"
     ]
    },
    {
     "name": "stderr",
     "output_type": "stream",
     "text": [
      "INFO:snap_stderr:stderr:INFO: org.esa.snap.core.gpf.operators.tooladapter.ToolAdapterIO: Initializing external tool adapters\n",
      "INFO:snap_stderr:stderr:INFO: org.esa.s2tbx.dataio.gdal.GDALVersion: Incompatible GDAL 3.1.4 found on system. Internal GDAL 3.0.0 from distribution will be used.\n",
      "INFO:snap_stderr:stderr:INFO: org.esa.s2tbx.dataio.gdal.GDALVersion: Internal GDAL 3.0.0 set to be used by SNAP.\n",
      "INFO:snap_stderr:stderr:INFO: org.esa.snap.core.util.EngineVersionCheckActivator: Please check regularly for new updates for the best SNAP experience.\n",
      "INFO:snap_stderr:stderr:INFO: org.esa.s2tbx.dataio.gdal.GDALVersion: Internal GDAL 3.0.0 set to be used by SNAP.\n",
      "INFO:snap_stdout:Executing processing graph\n",
      "INFO:snap_stderr:stderr:INFO: org.hsqldb.persist.Logger: dataFileCache open start\n",
      "INFO:snap_stdout:....10%....20%....30%....40%....50%....60%....70%....80%....90% done.\n"
     ]
    },
    {
     "name": "stdout",
     "output_type": "stream",
     "text": [
      "/tmp/data/intermediate/NovaSAR_01_12628_slc_200702_101516_HH_tmp/NovaSAR_01_12628_slc_11_200702_101516_HH_1_ML_TC_TF_cog/NovaSAR_01_12628_slc_11_200702_101516_HH_1_Gamma0_Intensity_HH_db.tif\n",
      "2020-11-18 01:12:30 Starting conversion: /tmp/data/intermediate/NovaSAR_01_12628_slc_200702_101516_HH_tmp/NovaSAR_01_12628_slc_11_200702_101516_HH_1_ML_TC_TF.data/Gamma0_Intensity_HH_db.img.\n",
      "2020-11-18 01:12:42 Conversion complete: True.\n"
     ]
    },
    {
     "name": "stderr",
     "output_type": "stream",
     "text": [
      "DEBUG:root:running ['/opt/snap/bin/gpt', '/opt/notebooks/anc/novasar_slc_tf_tc.xml', '-Pinput=/tmp/data/intermediate/NovaSAR_01_12628_slc_200702_101516_HH_tmp/NovaSAR_01_12628_slc_200702_101516_HH/SV229/Image_Products$/NovaSAR_01_12628_slc_200702_101516_HH_/NovaSAR_01_12628_slc_11_200702_101520_HH_2/metadata.xml', '-Poutput=/tmp/data/intermediate/NovaSAR_01_12628_slc_200702_101516_HH_tmp/NovaSAR_01_12628_slc_11_200702_101520_HH_2_ML_TC_TF.dim']\n"
     ]
    },
    {
     "name": "stdout",
     "output_type": "stream",
     "text": [
      "NovaSAR_01_12628_slc_11_200702_101520_HH_2\n",
      "/tmp/data/intermediate/NovaSAR_01_12628_slc_200702_101516_HH_tmp/NovaSAR_01_12628_slc_11_200702_101520_HH_2_ML_TC_TF.data/\n",
      "/tmp/data/intermediate/NovaSAR_01_12628_slc_200702_101516_HH_tmp/NovaSAR_01_12628_slc_11_200702_101520_HH_2_ML_TC_TF_cog/\n"
     ]
    },
    {
     "name": "stderr",
     "output_type": "stream",
     "text": [
      "INFO:snap_stderr:stderr:INFO: org.esa.snap.core.gpf.operators.tooladapter.ToolAdapterIO: Initializing external tool adapters\n",
      "INFO:snap_stderr:stderr:INFO: org.esa.s2tbx.dataio.gdal.GDALVersion: Incompatible GDAL 3.1.4 found on system. Internal GDAL 3.0.0 from distribution will be used.\n",
      "INFO:snap_stderr:stderr:INFO: org.esa.s2tbx.dataio.gdal.GDALVersion: Internal GDAL 3.0.0 set to be used by SNAP.\n",
      "INFO:snap_stderr:stderr:INFO: org.esa.snap.core.util.EngineVersionCheckActivator: Please check regularly for new updates for the best SNAP experience.\n",
      "INFO:snap_stderr:stderr:INFO: org.esa.s2tbx.dataio.gdal.GDALVersion: Internal GDAL 3.0.0 set to be used by SNAP.\n",
      "INFO:snap_stdout:Executing processing graph\n",
      "INFO:snap_stderr:stderr:INFO: org.hsqldb.persist.Logger: dataFileCache open start\n",
      "INFO:snap_stdout:....10%....20%....30%....40%....50%....60%....70%....80%....90% done.\n"
     ]
    },
    {
     "name": "stdout",
     "output_type": "stream",
     "text": [
      "/tmp/data/intermediate/NovaSAR_01_12628_slc_200702_101516_HH_tmp/NovaSAR_01_12628_slc_11_200702_101520_HH_2_ML_TC_TF_cog/NovaSAR_01_12628_slc_11_200702_101520_HH_2_Gamma0_Intensity_HH_db.tif\n",
      "2020-11-18 01:17:12 Starting conversion: /tmp/data/intermediate/NovaSAR_01_12628_slc_200702_101516_HH_tmp/NovaSAR_01_12628_slc_11_200702_101520_HH_2_ML_TC_TF.data/Gamma0_Intensity_HH_db.img.\n",
      "2020-11-18 01:17:19 Conversion complete: True.\n"
     ]
    },
    {
     "name": "stderr",
     "output_type": "stream",
     "text": [
      "DEBUG:root:running ['/opt/snap/bin/gpt', '/opt/notebooks/anc/novasar_slc_tf_tc.xml', '-Pinput=/tmp/data/intermediate/NovaSAR_01_12628_slc_200702_101516_HH_tmp/NovaSAR_01_12628_slc_200702_101516_HH/SV229/Image_Products$/NovaSAR_01_12628_slc_200702_101516_HH_/NovaSAR_01_12628_slc_11_200702_101524_HH_3/metadata.xml', '-Poutput=/tmp/data/intermediate/NovaSAR_01_12628_slc_200702_101516_HH_tmp/NovaSAR_01_12628_slc_11_200702_101524_HH_3_ML_TC_TF.dim']\n"
     ]
    },
    {
     "name": "stdout",
     "output_type": "stream",
     "text": [
      "NovaSAR_01_12628_slc_11_200702_101524_HH_3\n",
      "/tmp/data/intermediate/NovaSAR_01_12628_slc_200702_101516_HH_tmp/NovaSAR_01_12628_slc_11_200702_101524_HH_3_ML_TC_TF.data/\n",
      "/tmp/data/intermediate/NovaSAR_01_12628_slc_200702_101516_HH_tmp/NovaSAR_01_12628_slc_11_200702_101524_HH_3_ML_TC_TF_cog/\n"
     ]
    },
    {
     "name": "stderr",
     "output_type": "stream",
     "text": [
      "INFO:snap_stderr:stderr:INFO: org.esa.snap.core.gpf.operators.tooladapter.ToolAdapterIO: Initializing external tool adapters\n",
      "INFO:snap_stderr:stderr:INFO: org.esa.s2tbx.dataio.gdal.GDALVersion: Incompatible GDAL 3.1.4 found on system. Internal GDAL 3.0.0 from distribution will be used.\n",
      "INFO:snap_stderr:stderr:INFO: org.esa.s2tbx.dataio.gdal.GDALVersion: Internal GDAL 3.0.0 set to be used by SNAP.\n",
      "INFO:snap_stderr:stderr:INFO: org.esa.snap.core.util.EngineVersionCheckActivator: Please check regularly for new updates for the best SNAP experience.\n",
      "INFO:snap_stderr:stderr:INFO: org.esa.s2tbx.dataio.gdal.GDALVersion: Internal GDAL 3.0.0 set to be used by SNAP.\n",
      "INFO:snap_stdout:Executing processing graph\n",
      "INFO:snap_stderr:stderr:INFO: org.hsqldb.persist.Logger: dataFileCache open start\n",
      "INFO:snap_stdout:....10%....20%....30%....40%....50%....60%....70%....80%....90% done.\n"
     ]
    },
    {
     "name": "stdout",
     "output_type": "stream",
     "text": [
      "/tmp/data/intermediate/NovaSAR_01_12628_slc_200702_101516_HH_tmp/NovaSAR_01_12628_slc_11_200702_101524_HH_3_ML_TC_TF_cog/NovaSAR_01_12628_slc_11_200702_101524_HH_3_Gamma0_Intensity_HH_db.tif\n",
      "2020-11-18 01:21:38 Starting conversion: /tmp/data/intermediate/NovaSAR_01_12628_slc_200702_101516_HH_tmp/NovaSAR_01_12628_slc_11_200702_101524_HH_3_ML_TC_TF.data/Gamma0_Intensity_HH_db.img.\n",
      "2020-11-18 01:21:45 Conversion complete: True.\n"
     ]
    },
    {
     "name": "stderr",
     "output_type": "stream",
     "text": [
      "DEBUG:root:running ['/opt/snap/bin/gpt', '/opt/notebooks/anc/novasar_slc_tf_tc.xml', '-Pinput=/tmp/data/intermediate/NovaSAR_01_12628_slc_200702_101516_HH_tmp/NovaSAR_01_12628_slc_200702_101516_HH/SV229/Image_Products$/NovaSAR_01_12628_slc_200702_101516_HH_/NovaSAR_01_12628_slc_11_200702_101528_HH_4/metadata.xml', '-Poutput=/tmp/data/intermediate/NovaSAR_01_12628_slc_200702_101516_HH_tmp/NovaSAR_01_12628_slc_11_200702_101528_HH_4_ML_TC_TF.dim']\n"
     ]
    },
    {
     "name": "stdout",
     "output_type": "stream",
     "text": [
      "NovaSAR_01_12628_slc_11_200702_101528_HH_4\n",
      "/tmp/data/intermediate/NovaSAR_01_12628_slc_200702_101516_HH_tmp/NovaSAR_01_12628_slc_11_200702_101528_HH_4_ML_TC_TF.data/\n",
      "/tmp/data/intermediate/NovaSAR_01_12628_slc_200702_101516_HH_tmp/NovaSAR_01_12628_slc_11_200702_101528_HH_4_ML_TC_TF_cog/\n"
     ]
    },
    {
     "name": "stderr",
     "output_type": "stream",
     "text": [
      "INFO:snap_stderr:stderr:INFO: org.esa.snap.core.gpf.operators.tooladapter.ToolAdapterIO: Initializing external tool adapters\n",
      "INFO:snap_stderr:stderr:INFO: org.esa.s2tbx.dataio.gdal.GDALVersion: Incompatible GDAL 3.1.4 found on system. Internal GDAL 3.0.0 from distribution will be used.\n",
      "INFO:snap_stderr:stderr:INFO: org.esa.s2tbx.dataio.gdal.GDALVersion: Internal GDAL 3.0.0 set to be used by SNAP.\n",
      "INFO:snap_stderr:stderr:INFO: org.esa.snap.core.util.EngineVersionCheckActivator: Please check regularly for new updates for the best SNAP experience.\n",
      "INFO:snap_stderr:stderr:INFO: org.esa.s2tbx.dataio.gdal.GDALVersion: Internal GDAL 3.0.0 set to be used by SNAP.\n",
      "INFO:snap_stdout:Executing processing graph\n",
      "INFO:snap_stderr:stderr:INFO: org.hsqldb.persist.Logger: dataFileCache open start\n",
      "INFO:snap_stdout:....10%....20%....30%....40%....50%....60%....70%....80%....90% done.\n"
     ]
    },
    {
     "name": "stdout",
     "output_type": "stream",
     "text": [
      "/tmp/data/intermediate/NovaSAR_01_12628_slc_200702_101516_HH_tmp/NovaSAR_01_12628_slc_11_200702_101528_HH_4_ML_TC_TF_cog/NovaSAR_01_12628_slc_11_200702_101528_HH_4_Gamma0_Intensity_HH_db.tif\n",
      "2020-11-18 01:28:06 Starting conversion: /tmp/data/intermediate/NovaSAR_01_12628_slc_200702_101516_HH_tmp/NovaSAR_01_12628_slc_11_200702_101528_HH_4_ML_TC_TF.data/Gamma0_Intensity_HH_db.img.\n",
      "2020-11-18 01:28:18 Conversion complete: True.\n",
      "2020-11-18 01:29:33 Prepared NovaSAR_01_12628_slc_200702_101516_HH at novasar_uk_test/\n",
      "2020-11-18 01:29:33 Preparing NovaSAR_01_12628_slc_11_200702_101516_HH_1 within /tmp/data/intermediate/NovaSAR_01_12628_slc_11_200702_101516_HH_1_tmp/\n"
     ]
    },
    {
     "name": "stderr",
     "output_type": "stream",
     "text": [
      "DEBUG:sedas_api:successful login.\n",
      "DEBUG:sedas_api:successful login.\n",
      "DEBUG:sedas_api:successful login.\n",
      "DEBUG:sedas_api:successful login.\n",
      "DEBUG:sedas_api:successful login.\n",
      "INFO:bulk_downloader:0 downloads pending, 0 downloads in progress, 0 requests pending\n",
      "INFO:bulk_downloader:2 active threads, 0 restarted.\n"
     ]
    },
    {
     "name": "stdout",
     "output_type": "stream",
     "text": [
      "2020-11-18 01:29:34 Downloading\n"
     ]
    },
    {
     "name": "stderr",
     "output_type": "stream",
     "text": [
      "DEBUG:bulk_downloader:1 downloads pending\n",
      "DEBUG:bulk_downloader:1 downloads pending\n",
      "INFO:bulk_downloader:downloading NovaSAR_01_12628_slc_11_200702_101516_HH_1 to /tmp/data/intermediate/NovaSAR_01_12628_slc_11_200702_101516_HH_1_tmp/NovaSAR_01_12628_slc_11_200702_101516_HH_1.zip\n",
      "DEBUG:sedas_api:successful login.\n",
      "INFO:bulk_downloader:0 downloads pending, 1 downloads in progress, 0 requests pending\n",
      "INFO:bulk_downloader:2 active threads, 0 restarted.\n",
      "INFO:bulk_downloader:0 downloads pending, 1 downloads in progress, 0 requests pending\n",
      "INFO:bulk_downloader:2 active threads, 0 restarted.\n",
      "INFO:bulk_downloader:0 downloads pending, 1 downloads in progress, 0 requests pending\n",
      "INFO:bulk_downloader:2 active threads, 0 restarted.\n",
      "DEBUG:bulk_downloader:0 downloads pending\n",
      "DEBUG:bulk_downloader:monitor thread stopping\n"
     ]
    },
    {
     "name": "stdout",
     "output_type": "stream",
     "text": [
      "2020-11-18 01:29:54 Downloaded\n",
      "2020-11-18 01:29:54 Extracting /tmp/data/intermediate/NovaSAR_01_12628_slc_11_200702_101516_HH_1_tmp/NovaSAR_01_12628_slc_11_200702_101516_HH_1.zip\n"
     ]
    },
    {
     "name": "stderr",
     "output_type": "stream",
     "text": [
      "DEBUG:bulk_downloader:requests thread stopping\n",
      "DEBUG:root:running ['/opt/snap/bin/gpt', '/opt/notebooks/anc/novasar_slc_tf_tc.xml', '-Pinput=/tmp/data/intermediate/NovaSAR_01_12628_slc_11_200702_101516_HH_1_tmp/NovaSAR_01_12628_slc_11_200702_101516_HH_1/NovaSAR_01_12628_slc_11_200702_101516_HH_1/metadata.xml', '-Poutput=/tmp/data/intermediate/NovaSAR_01_12628_slc_11_200702_101516_HH_1_tmp/NovaSAR_01_12628_slc_11_200702_101516_HH_1_ML_TC_TF.dim']\n"
     ]
    },
    {
     "name": "stdout",
     "output_type": "stream",
     "text": [
      "2020-11-18 01:30:06 Extracted to /tmp/data/intermediate/NovaSAR_01_12628_slc_11_200702_101516_HH_1_tmp/NovaSAR_01_12628_slc_11_200702_101516_HH_1/\n",
      "NovaSAR_01_12628_slc_11_200702_101516_HH_1\n",
      "/tmp/data/intermediate/NovaSAR_01_12628_slc_11_200702_101516_HH_1_tmp/NovaSAR_01_12628_slc_11_200702_101516_HH_1_ML_TC_TF.data/\n",
      "/tmp/data/intermediate/NovaSAR_01_12628_slc_11_200702_101516_HH_1_tmp/NovaSAR_01_12628_slc_11_200702_101516_HH_1_ML_TC_TF_cog/\n"
     ]
    },
    {
     "name": "stderr",
     "output_type": "stream",
     "text": [
      "INFO:snap_stderr:stderr:INFO: org.esa.snap.core.gpf.operators.tooladapter.ToolAdapterIO: Initializing external tool adapters\n",
      "INFO:snap_stderr:stderr:INFO: org.esa.s2tbx.dataio.gdal.GDALVersion: Incompatible GDAL 3.1.4 found on system. Internal GDAL 3.0.0 from distribution will be used.\n",
      "INFO:snap_stderr:stderr:INFO: org.esa.s2tbx.dataio.gdal.GDALVersion: Internal GDAL 3.0.0 set to be used by SNAP.\n",
      "INFO:snap_stderr:stderr:INFO: org.esa.snap.core.util.EngineVersionCheckActivator: Please check regularly for new updates for the best SNAP experience.\n",
      "INFO:snap_stderr:stderr:INFO: org.esa.s2tbx.dataio.gdal.GDALVersion: Internal GDAL 3.0.0 set to be used by SNAP.\n",
      "INFO:snap_stdout:Executing processing graph\n",
      "INFO:snap_stderr:stderr:INFO: org.hsqldb.persist.Logger: dataFileCache open start\n",
      "INFO:snap_stdout:....10%....20%....30%....40%....50%....60%....70%....80%....90% done.\n"
     ]
    },
    {
     "name": "stdout",
     "output_type": "stream",
     "text": [
      "/tmp/data/intermediate/NovaSAR_01_12628_slc_11_200702_101516_HH_1_tmp/NovaSAR_01_12628_slc_11_200702_101516_HH_1_ML_TC_TF_cog/NovaSAR_01_12628_slc_11_200702_101516_HH_1_Gamma0_Intensity_HH_db.tif\n",
      "2020-11-18 01:33:32 Starting conversion: /tmp/data/intermediate/NovaSAR_01_12628_slc_11_200702_101516_HH_1_tmp/NovaSAR_01_12628_slc_11_200702_101516_HH_1_ML_TC_TF.data/Gamma0_Intensity_HH_db.img.\n",
      "2020-11-18 01:33:45 Conversion complete: True.\n"
     ]
    },
    {
     "name": "stderr",
     "output_type": "stream",
     "text": [
      "DEBUG:sedas_api:successful login.\n"
     ]
    },
    {
     "name": "stdout",
     "output_type": "stream",
     "text": [
      "2020-11-18 01:34:28 Prepared NovaSAR_01_12628_slc_11_200702_101516_HH_1 at novasar_uk_test/\n",
      "2020-11-18 01:34:28 Preparing NovaSAR_01_12619_slc_11_200701_232014_HH_2 within /tmp/data/intermediate/NovaSAR_01_12619_slc_11_200701_232014_HH_2_tmp/\n"
     ]
    },
    {
     "name": "stderr",
     "output_type": "stream",
     "text": [
      "DEBUG:sedas_api:successful login.\n",
      "DEBUG:sedas_api:successful login.\n",
      "DEBUG:sedas_api:successful login.\n",
      "DEBUG:sedas_api:successful login.\n",
      "INFO:bulk_downloader:0 downloads pending, 0 downloads in progress, 0 requests pending\n",
      "INFO:bulk_downloader:2 active threads, 0 restarted.\n"
     ]
    },
    {
     "name": "stdout",
     "output_type": "stream",
     "text": [
      "2020-11-18 01:34:29 Downloading\n"
     ]
    },
    {
     "name": "stderr",
     "output_type": "stream",
     "text": [
      "DEBUG:bulk_downloader:1 downloads pending\n",
      "DEBUG:bulk_downloader:1 downloads pending\n",
      "INFO:bulk_downloader:downloading NovaSAR_01_12619_slc_11_200701_232014_HH_2 to /tmp/data/intermediate/NovaSAR_01_12619_slc_11_200701_232014_HH_2_tmp/NovaSAR_01_12619_slc_11_200701_232014_HH_2.zip\n",
      "DEBUG:sedas_api:successful login.\n",
      "INFO:bulk_downloader:0 downloads pending, 1 downloads in progress, 0 requests pending\n",
      "INFO:bulk_downloader:2 active threads, 0 restarted.\n",
      "INFO:bulk_downloader:0 downloads pending, 1 downloads in progress, 0 requests pending\n",
      "INFO:bulk_downloader:2 active threads, 0 restarted.\n",
      "INFO:bulk_downloader:0 downloads pending, 1 downloads in progress, 0 requests pending\n",
      "INFO:bulk_downloader:2 active threads, 0 restarted.\n",
      "DEBUG:bulk_downloader:0 downloads pending\n",
      "DEBUG:bulk_downloader:monitor thread stopping\n"
     ]
    },
    {
     "name": "stdout",
     "output_type": "stream",
     "text": [
      "2020-11-18 01:34:49 Downloaded\n",
      "2020-11-18 01:34:49 Extracting /tmp/data/intermediate/NovaSAR_01_12619_slc_11_200701_232014_HH_2_tmp/NovaSAR_01_12619_slc_11_200701_232014_HH_2.zip\n"
     ]
    },
    {
     "name": "stderr",
     "output_type": "stream",
     "text": [
      "DEBUG:bulk_downloader:requests thread stopping\n",
      "DEBUG:root:running ['/opt/snap/bin/gpt', '/opt/notebooks/anc/novasar_slc_tf_tc.xml', '-Pinput=/tmp/data/intermediate/NovaSAR_01_12619_slc_11_200701_232014_HH_2_tmp/NovaSAR_01_12619_slc_11_200701_232014_HH_2/NovaSAR_01_12619_slc_11_200701_232014_HH_2/metadata.xml', '-Poutput=/tmp/data/intermediate/NovaSAR_01_12619_slc_11_200701_232014_HH_2_tmp/NovaSAR_01_12619_slc_11_200701_232014_HH_2_ML_TC_TF.dim']\n"
     ]
    },
    {
     "name": "stdout",
     "output_type": "stream",
     "text": [
      "2020-11-18 01:35:00 Extracted to /tmp/data/intermediate/NovaSAR_01_12619_slc_11_200701_232014_HH_2_tmp/NovaSAR_01_12619_slc_11_200701_232014_HH_2/\n",
      "NovaSAR_01_12619_slc_11_200701_232014_HH_2\n",
      "/tmp/data/intermediate/NovaSAR_01_12619_slc_11_200701_232014_HH_2_tmp/NovaSAR_01_12619_slc_11_200701_232014_HH_2_ML_TC_TF.data/\n",
      "/tmp/data/intermediate/NovaSAR_01_12619_slc_11_200701_232014_HH_2_tmp/NovaSAR_01_12619_slc_11_200701_232014_HH_2_ML_TC_TF_cog/\n"
     ]
    },
    {
     "name": "stderr",
     "output_type": "stream",
     "text": [
      "INFO:snap_stderr:stderr:INFO: org.esa.snap.core.gpf.operators.tooladapter.ToolAdapterIO: Initializing external tool adapters\n",
      "INFO:snap_stderr:stderr:INFO: org.esa.s2tbx.dataio.gdal.GDALVersion: Incompatible GDAL 3.1.4 found on system. Internal GDAL 3.0.0 from distribution will be used.\n",
      "INFO:snap_stderr:stderr:INFO: org.esa.s2tbx.dataio.gdal.GDALVersion: Internal GDAL 3.0.0 set to be used by SNAP.\n",
      "INFO:snap_stderr:stderr:INFO: org.esa.snap.core.util.EngineVersionCheckActivator: Please check regularly for new updates for the best SNAP experience.\n",
      "INFO:snap_stderr:stderr:INFO: org.esa.s2tbx.dataio.gdal.GDALVersion: Internal GDAL 3.0.0 set to be used by SNAP.\n",
      "INFO:snap_stdout:Executing processing graph\n",
      "INFO:snap_stderr:stderr:INFO: org.hsqldb.persist.Logger: dataFileCache open start\n",
      "INFO:snap_stdout:....10%....20%....30%....40%....50%....60%....70%....80%....90% done.\n"
     ]
    },
    {
     "name": "stdout",
     "output_type": "stream",
     "text": [
      "/tmp/data/intermediate/NovaSAR_01_12619_slc_11_200701_232014_HH_2_tmp/NovaSAR_01_12619_slc_11_200701_232014_HH_2_ML_TC_TF_cog/NovaSAR_01_12619_slc_11_200701_232014_HH_2_Gamma0_Intensity_HH_db.tif\n",
      "2020-11-18 01:37:43 Starting conversion: /tmp/data/intermediate/NovaSAR_01_12619_slc_11_200701_232014_HH_2_tmp/NovaSAR_01_12619_slc_11_200701_232014_HH_2_ML_TC_TF.data/Gamma0_Intensity_HH_db.img.\n",
      "2020-11-18 01:37:51 Conversion complete: True.\n"
     ]
    },
    {
     "name": "stderr",
     "output_type": "stream",
     "text": [
      "DEBUG:sedas_api:successful login.\n"
     ]
    },
    {
     "name": "stdout",
     "output_type": "stream",
     "text": [
      "2020-11-18 01:38:47 Prepared NovaSAR_01_12619_slc_11_200701_232014_HH_2 at novasar_uk_test/\n",
      "2020-11-18 01:38:47 Preparing NovaSAR_01_12619_slc_200701_232010_HH within /tmp/data/intermediate/NovaSAR_01_12619_slc_200701_232010_HH_tmp/\n"
     ]
    },
    {
     "name": "stderr",
     "output_type": "stream",
     "text": [
      "DEBUG:sedas_api:successful login.\n",
      "DEBUG:sedas_api:successful login.\n",
      "DEBUG:sedas_api:successful login.\n",
      "DEBUG:sedas_api:successful login.\n",
      "INFO:bulk_downloader:0 downloads pending, 0 downloads in progress, 0 requests pending\n",
      "INFO:bulk_downloader:2 active threads, 0 restarted.\n"
     ]
    },
    {
     "name": "stdout",
     "output_type": "stream",
     "text": [
      "2020-11-18 01:38:48 Downloading\n"
     ]
    },
    {
     "name": "stderr",
     "output_type": "stream",
     "text": [
      "DEBUG:bulk_downloader:1 downloads pending\n",
      "DEBUG:bulk_downloader:1 downloads pending\n",
      "INFO:bulk_downloader:downloading NovaSAR_01_12619_slc_200701_232010_HH to /tmp/data/intermediate/NovaSAR_01_12619_slc_200701_232010_HH_tmp/NovaSAR_01_12619_slc_200701_232010_HH.zip\n",
      "DEBUG:sedas_api:successful login.\n",
      "INFO:bulk_downloader:0 downloads pending, 1 downloads in progress, 0 requests pending\n",
      "INFO:bulk_downloader:2 active threads, 0 restarted.\n",
      "INFO:bulk_downloader:0 downloads pending, 1 downloads in progress, 0 requests pending\n",
      "INFO:bulk_downloader:2 active threads, 0 restarted.\n",
      "INFO:bulk_downloader:0 downloads pending, 1 downloads in progress, 0 requests pending\n",
      "INFO:bulk_downloader:2 active threads, 0 restarted.\n",
      "INFO:bulk_downloader:0 downloads pending, 1 downloads in progress, 0 requests pending\n",
      "INFO:bulk_downloader:2 active threads, 0 restarted.\n",
      "INFO:bulk_downloader:0 downloads pending, 1 downloads in progress, 0 requests pending\n",
      "INFO:bulk_downloader:2 active threads, 0 restarted.\n",
      "DEBUG:bulk_downloader:0 downloads pending\n",
      "DEBUG:bulk_downloader:monitor thread stopping\n"
     ]
    },
    {
     "name": "stdout",
     "output_type": "stream",
     "text": [
      "2020-11-18 01:39:18 Downloaded\n",
      "2020-11-18 01:39:18 Extracting /tmp/data/intermediate/NovaSAR_01_12619_slc_200701_232010_HH_tmp/NovaSAR_01_12619_slc_200701_232010_HH.zip\n"
     ]
    },
    {
     "name": "stderr",
     "output_type": "stream",
     "text": [
      "DEBUG:bulk_downloader:requests thread stopping\n",
      "DEBUG:root:running ['/opt/snap/bin/gpt', '/opt/notebooks/anc/novasar_slc_tf_tc.xml', '-Pinput=/tmp/data/intermediate/NovaSAR_01_12619_slc_200701_232010_HH_tmp/NovaSAR_01_12619_slc_200701_232010_HH/SV229/Image_Products$/NovaSAR_01_12619_slc_200701_232010_HH_/NovaSAR_01_12619_slc_11_200701_232010_HH_1/metadata.xml', '-Poutput=/tmp/data/intermediate/NovaSAR_01_12619_slc_200701_232010_HH_tmp/NovaSAR_01_12619_slc_11_200701_232010_HH_1_ML_TC_TF.dim']\n"
     ]
    },
    {
     "name": "stdout",
     "output_type": "stream",
     "text": [
      "2020-11-18 01:39:39 Extracted to /tmp/data/intermediate/NovaSAR_01_12619_slc_200701_232010_HH_tmp/NovaSAR_01_12619_slc_200701_232010_HH/\n",
      "NovaSAR_01_12619_slc_11_200701_232010_HH_1\n",
      "/tmp/data/intermediate/NovaSAR_01_12619_slc_200701_232010_HH_tmp/NovaSAR_01_12619_slc_11_200701_232010_HH_1_ML_TC_TF.data/\n",
      "/tmp/data/intermediate/NovaSAR_01_12619_slc_200701_232010_HH_tmp/NovaSAR_01_12619_slc_11_200701_232010_HH_1_ML_TC_TF_cog/\n"
     ]
    },
    {
     "name": "stderr",
     "output_type": "stream",
     "text": [
      "INFO:snap_stderr:stderr:INFO: org.esa.snap.core.gpf.operators.tooladapter.ToolAdapterIO: Initializing external tool adapters\n",
      "INFO:snap_stderr:stderr:INFO: org.esa.s2tbx.dataio.gdal.GDALVersion: Incompatible GDAL 3.1.4 found on system. Internal GDAL 3.0.0 from distribution will be used.\n",
      "INFO:snap_stderr:stderr:INFO: org.esa.s2tbx.dataio.gdal.GDALVersion: Internal GDAL 3.0.0 set to be used by SNAP.\n",
      "INFO:snap_stderr:stderr:INFO: org.esa.snap.core.util.EngineVersionCheckActivator: Please check regularly for new updates for the best SNAP experience.\n",
      "INFO:snap_stderr:stderr:INFO: org.esa.s2tbx.dataio.gdal.GDALVersion: Internal GDAL 3.0.0 set to be used by SNAP.\n",
      "INFO:snap_stdout:Executing processing graph\n",
      "INFO:snap_stderr:stderr:INFO: org.hsqldb.persist.Logger: dataFileCache open start\n",
      "INFO:snap_stdout:....10%....20%....30%....40%....50%....60%....70%....80%....90% done.\n"
     ]
    },
    {
     "name": "stdout",
     "output_type": "stream",
     "text": [
      "/tmp/data/intermediate/NovaSAR_01_12619_slc_200701_232010_HH_tmp/NovaSAR_01_12619_slc_11_200701_232010_HH_1_ML_TC_TF_cog/NovaSAR_01_12619_slc_11_200701_232010_HH_1_Gamma0_Intensity_HH_db.tif\n",
      "2020-11-18 01:42:06 Starting conversion: /tmp/data/intermediate/NovaSAR_01_12619_slc_200701_232010_HH_tmp/NovaSAR_01_12619_slc_11_200701_232010_HH_1_ML_TC_TF.data/Gamma0_Intensity_HH_db.img.\n",
      "2020-11-18 01:42:12 Conversion complete: True.\n"
     ]
    },
    {
     "name": "stderr",
     "output_type": "stream",
     "text": [
      "DEBUG:root:running ['/opt/snap/bin/gpt', '/opt/notebooks/anc/novasar_slc_tf_tc.xml', '-Pinput=/tmp/data/intermediate/NovaSAR_01_12619_slc_200701_232010_HH_tmp/NovaSAR_01_12619_slc_200701_232010_HH/SV229/Image_Products$/NovaSAR_01_12619_slc_200701_232010_HH_/NovaSAR_01_12619_slc_11_200701_232014_HH_2/metadata.xml', '-Poutput=/tmp/data/intermediate/NovaSAR_01_12619_slc_200701_232010_HH_tmp/NovaSAR_01_12619_slc_11_200701_232014_HH_2_ML_TC_TF.dim']\n"
     ]
    },
    {
     "name": "stdout",
     "output_type": "stream",
     "text": [
      "NovaSAR_01_12619_slc_11_200701_232014_HH_2\n",
      "/tmp/data/intermediate/NovaSAR_01_12619_slc_200701_232010_HH_tmp/NovaSAR_01_12619_slc_11_200701_232014_HH_2_ML_TC_TF.data/\n",
      "/tmp/data/intermediate/NovaSAR_01_12619_slc_200701_232010_HH_tmp/NovaSAR_01_12619_slc_11_200701_232014_HH_2_ML_TC_TF_cog/\n"
     ]
    },
    {
     "name": "stderr",
     "output_type": "stream",
     "text": [
      "INFO:snap_stderr:stderr:INFO: org.esa.snap.core.gpf.operators.tooladapter.ToolAdapterIO: Initializing external tool adapters\n",
      "INFO:snap_stderr:stderr:INFO: org.esa.s2tbx.dataio.gdal.GDALVersion: Incompatible GDAL 3.1.4 found on system. Internal GDAL 3.0.0 from distribution will be used.\n",
      "INFO:snap_stderr:stderr:INFO: org.esa.s2tbx.dataio.gdal.GDALVersion: Internal GDAL 3.0.0 set to be used by SNAP.\n",
      "INFO:snap_stderr:stderr:INFO: org.esa.snap.core.util.EngineVersionCheckActivator: Please check regularly for new updates for the best SNAP experience.\n",
      "INFO:snap_stderr:stderr:INFO: org.esa.s2tbx.dataio.gdal.GDALVersion: Internal GDAL 3.0.0 set to be used by SNAP.\n",
      "INFO:snap_stdout:Executing processing graph\n",
      "INFO:snap_stderr:stderr:INFO: org.hsqldb.persist.Logger: dataFileCache open start\n",
      "INFO:snap_stdout:....10%....20%....30%....40%....50%....60%....70%....80%....90% done.\n"
     ]
    },
    {
     "name": "stdout",
     "output_type": "stream",
     "text": [
      "/tmp/data/intermediate/NovaSAR_01_12619_slc_200701_232010_HH_tmp/NovaSAR_01_12619_slc_11_200701_232014_HH_2_ML_TC_TF_cog/NovaSAR_01_12619_slc_11_200701_232014_HH_2_Gamma0_Intensity_HH_db.tif\n",
      "2020-11-18 01:45:40 Starting conversion: /tmp/data/intermediate/NovaSAR_01_12619_slc_200701_232010_HH_tmp/NovaSAR_01_12619_slc_11_200701_232014_HH_2_ML_TC_TF.data/Gamma0_Intensity_HH_db.img.\n",
      "2020-11-18 01:45:48 Conversion complete: True.\n",
      "2020-11-18 01:46:41 Prepared NovaSAR_01_12619_slc_200701_232010_HH at novasar_uk_test/\n",
      "2020-11-18 01:46:41 Preparing NovaSAR_01_12619_slc_11_200701_232010_HH_1 within /tmp/data/intermediate/NovaSAR_01_12619_slc_11_200701_232010_HH_1_tmp/\n"
     ]
    },
    {
     "name": "stderr",
     "output_type": "stream",
     "text": [
      "DEBUG:sedas_api:successful login.\n",
      "DEBUG:sedas_api:successful login.\n",
      "DEBUG:sedas_api:successful login.\n",
      "DEBUG:sedas_api:successful login.\n",
      "DEBUG:sedas_api:successful login.\n",
      "INFO:bulk_downloader:0 downloads pending, 0 downloads in progress, 0 requests pending\n",
      "INFO:bulk_downloader:2 active threads, 0 restarted.\n"
     ]
    },
    {
     "name": "stdout",
     "output_type": "stream",
     "text": [
      "2020-11-18 01:46:42 Downloading\n"
     ]
    },
    {
     "name": "stderr",
     "output_type": "stream",
     "text": [
      "DEBUG:bulk_downloader:1 downloads pending\n",
      "DEBUG:bulk_downloader:1 downloads pending\n",
      "INFO:bulk_downloader:downloading NovaSAR_01_12619_slc_11_200701_232010_HH_1 to /tmp/data/intermediate/NovaSAR_01_12619_slc_11_200701_232010_HH_1_tmp/NovaSAR_01_12619_slc_11_200701_232010_HH_1.zip\n",
      "DEBUG:sedas_api:successful login.\n",
      "INFO:bulk_downloader:0 downloads pending, 1 downloads in progress, 0 requests pending\n",
      "INFO:bulk_downloader:2 active threads, 0 restarted.\n",
      "INFO:bulk_downloader:0 downloads pending, 1 downloads in progress, 0 requests pending\n",
      "INFO:bulk_downloader:2 active threads, 0 restarted.\n",
      "DEBUG:bulk_downloader:0 downloads pending\n",
      "DEBUG:bulk_downloader:requests thread stopping\n",
      "DEBUG:bulk_downloader:monitor thread stopping\n"
     ]
    },
    {
     "name": "stdout",
     "output_type": "stream",
     "text": [
      "2020-11-18 01:46:58 Downloaded\n",
      "2020-11-18 01:46:58 Extracting /tmp/data/intermediate/NovaSAR_01_12619_slc_11_200701_232010_HH_1_tmp/NovaSAR_01_12619_slc_11_200701_232010_HH_1.zip\n"
     ]
    },
    {
     "name": "stderr",
     "output_type": "stream",
     "text": [
      "DEBUG:root:running ['/opt/snap/bin/gpt', '/opt/notebooks/anc/novasar_slc_tf_tc.xml', '-Pinput=/tmp/data/intermediate/NovaSAR_01_12619_slc_11_200701_232010_HH_1_tmp/NovaSAR_01_12619_slc_11_200701_232010_HH_1/NovaSAR_01_12619_slc_11_200701_232010_HH_1/metadata.xml', '-Poutput=/tmp/data/intermediate/NovaSAR_01_12619_slc_11_200701_232010_HH_1_tmp/NovaSAR_01_12619_slc_11_200701_232010_HH_1_ML_TC_TF.dim']\n"
     ]
    },
    {
     "name": "stdout",
     "output_type": "stream",
     "text": [
      "2020-11-18 01:47:06 Extracted to /tmp/data/intermediate/NovaSAR_01_12619_slc_11_200701_232010_HH_1_tmp/NovaSAR_01_12619_slc_11_200701_232010_HH_1/\n",
      "NovaSAR_01_12619_slc_11_200701_232010_HH_1\n",
      "/tmp/data/intermediate/NovaSAR_01_12619_slc_11_200701_232010_HH_1_tmp/NovaSAR_01_12619_slc_11_200701_232010_HH_1_ML_TC_TF.data/\n",
      "/tmp/data/intermediate/NovaSAR_01_12619_slc_11_200701_232010_HH_1_tmp/NovaSAR_01_12619_slc_11_200701_232010_HH_1_ML_TC_TF_cog/\n"
     ]
    },
    {
     "name": "stderr",
     "output_type": "stream",
     "text": [
      "INFO:snap_stderr:stderr:INFO: org.esa.snap.core.gpf.operators.tooladapter.ToolAdapterIO: Initializing external tool adapters\n",
      "INFO:snap_stderr:stderr:INFO: org.esa.s2tbx.dataio.gdal.GDALVersion: Incompatible GDAL 3.1.4 found on system. Internal GDAL 3.0.0 from distribution will be used.\n",
      "INFO:snap_stderr:stderr:INFO: org.esa.s2tbx.dataio.gdal.GDALVersion: Internal GDAL 3.0.0 set to be used by SNAP.\n",
      "INFO:snap_stderr:stderr:INFO: org.esa.snap.core.util.EngineVersionCheckActivator: Please check regularly for new updates for the best SNAP experience.\n",
      "INFO:snap_stderr:stderr:INFO: org.esa.s2tbx.dataio.gdal.GDALVersion: Internal GDAL 3.0.0 set to be used by SNAP.\n",
      "INFO:snap_stdout:Executing processing graph\n",
      "INFO:snap_stderr:stderr:INFO: org.hsqldb.persist.Logger: dataFileCache open start\n",
      "INFO:snap_stdout:....10%....20%....30%....40%....50%....60%....70%....80%....90% done.\n"
     ]
    },
    {
     "name": "stdout",
     "output_type": "stream",
     "text": [
      "/tmp/data/intermediate/NovaSAR_01_12619_slc_11_200701_232010_HH_1_tmp/NovaSAR_01_12619_slc_11_200701_232010_HH_1_ML_TC_TF_cog/NovaSAR_01_12619_slc_11_200701_232010_HH_1_Gamma0_Intensity_HH_db.tif\n",
      "2020-11-18 01:49:34 Starting conversion: /tmp/data/intermediate/NovaSAR_01_12619_slc_11_200701_232010_HH_1_tmp/NovaSAR_01_12619_slc_11_200701_232010_HH_1_ML_TC_TF.data/Gamma0_Intensity_HH_db.img.\n",
      "2020-11-18 01:49:40 Conversion complete: True.\n"
     ]
    },
    {
     "name": "stderr",
     "output_type": "stream",
     "text": [
      "DEBUG:sedas_api:successful login.\n"
     ]
    },
    {
     "name": "stdout",
     "output_type": "stream",
     "text": [
      "2020-11-18 01:50:24 Prepared NovaSAR_01_12619_slc_11_200701_232010_HH_1 at novasar_uk_test/\n",
      "2020-11-18 01:50:24 Preparing NovaSAR_01_12588_slc_11_200630_231443_HH_2 within /tmp/data/intermediate/NovaSAR_01_12588_slc_11_200630_231443_HH_2_tmp/\n"
     ]
    },
    {
     "name": "stderr",
     "output_type": "stream",
     "text": [
      "DEBUG:sedas_api:successful login.\n",
      "DEBUG:sedas_api:successful login.\n",
      "DEBUG:sedas_api:successful login.\n",
      "DEBUG:sedas_api:successful login.\n",
      "INFO:bulk_downloader:0 downloads pending, 0 downloads in progress, 0 requests pending\n",
      "INFO:bulk_downloader:2 active threads, 0 restarted.\n"
     ]
    },
    {
     "name": "stdout",
     "output_type": "stream",
     "text": [
      "2020-11-18 01:50:25 Downloading\n"
     ]
    },
    {
     "name": "stderr",
     "output_type": "stream",
     "text": [
      "DEBUG:bulk_downloader:1 downloads pending\n",
      "DEBUG:bulk_downloader:1 downloads pending\n",
      "INFO:bulk_downloader:downloading NovaSAR_01_12588_slc_11_200630_231443_HH_2 to /tmp/data/intermediate/NovaSAR_01_12588_slc_11_200630_231443_HH_2_tmp/NovaSAR_01_12588_slc_11_200630_231443_HH_2.zip\n",
      "DEBUG:sedas_api:successful login.\n",
      "INFO:bulk_downloader:0 downloads pending, 1 downloads in progress, 0 requests pending\n",
      "INFO:bulk_downloader:2 active threads, 0 restarted.\n",
      "INFO:bulk_downloader:0 downloads pending, 1 downloads in progress, 0 requests pending\n",
      "INFO:bulk_downloader:2 active threads, 0 restarted.\n",
      "INFO:bulk_downloader:0 downloads pending, 1 downloads in progress, 0 requests pending\n",
      "INFO:bulk_downloader:2 active threads, 0 restarted.\n",
      "INFO:bulk_downloader:0 downloads pending, 1 downloads in progress, 0 requests pending\n",
      "INFO:bulk_downloader:2 active threads, 0 restarted.\n",
      "INFO:bulk_downloader:0 downloads pending, 1 downloads in progress, 0 requests pending\n",
      "INFO:bulk_downloader:2 active threads, 0 restarted.\n",
      "DEBUG:bulk_downloader:0 downloads pending\n",
      "DEBUG:bulk_downloader:monitor thread stopping\n"
     ]
    },
    {
     "name": "stdout",
     "output_type": "stream",
     "text": [
      "2020-11-18 01:50:55 Downloaded\n",
      "2020-11-18 01:50:55 Extracting /tmp/data/intermediate/NovaSAR_01_12588_slc_11_200630_231443_HH_2_tmp/NovaSAR_01_12588_slc_11_200630_231443_HH_2.zip\n"
     ]
    },
    {
     "name": "stderr",
     "output_type": "stream",
     "text": [
      "DEBUG:bulk_downloader:requests thread stopping\n",
      "DEBUG:root:running ['/opt/snap/bin/gpt', '/opt/notebooks/anc/novasar_slc_tf_tc.xml', '-Pinput=/tmp/data/intermediate/NovaSAR_01_12588_slc_11_200630_231443_HH_2_tmp/NovaSAR_01_12588_slc_11_200630_231443_HH_2/NovaSAR_01_12588_slc_11_200630_231443_HH_2/metadata.xml', '-Poutput=/tmp/data/intermediate/NovaSAR_01_12588_slc_11_200630_231443_HH_2_tmp/NovaSAR_01_12588_slc_11_200630_231443_HH_2_ML_TC_TF.dim']\n"
     ]
    },
    {
     "name": "stdout",
     "output_type": "stream",
     "text": [
      "2020-11-18 01:51:15 Extracted to /tmp/data/intermediate/NovaSAR_01_12588_slc_11_200630_231443_HH_2_tmp/NovaSAR_01_12588_slc_11_200630_231443_HH_2/\n",
      "NovaSAR_01_12588_slc_11_200630_231443_HH_2\n",
      "/tmp/data/intermediate/NovaSAR_01_12588_slc_11_200630_231443_HH_2_tmp/NovaSAR_01_12588_slc_11_200630_231443_HH_2_ML_TC_TF.data/\n",
      "/tmp/data/intermediate/NovaSAR_01_12588_slc_11_200630_231443_HH_2_tmp/NovaSAR_01_12588_slc_11_200630_231443_HH_2_ML_TC_TF_cog/\n"
     ]
    },
    {
     "name": "stderr",
     "output_type": "stream",
     "text": [
      "INFO:snap_stderr:stderr:INFO: org.esa.snap.core.gpf.operators.tooladapter.ToolAdapterIO: Initializing external tool adapters\n",
      "INFO:snap_stderr:stderr:INFO: org.esa.s2tbx.dataio.gdal.GDALVersion: Incompatible GDAL 3.1.4 found on system. Internal GDAL 3.0.0 from distribution will be used.\n",
      "INFO:snap_stderr:stderr:INFO: org.esa.s2tbx.dataio.gdal.GDALVersion: Internal GDAL 3.0.0 set to be used by SNAP.\n",
      "INFO:snap_stderr:stderr:INFO: org.esa.snap.core.util.EngineVersionCheckActivator: Please check regularly for new updates for the best SNAP experience.\n",
      "INFO:snap_stderr:stderr:INFO: org.esa.s2tbx.dataio.gdal.GDALVersion: Internal GDAL 3.0.0 set to be used by SNAP.\n",
      "INFO:snap_stdout:Executing processing graph\n",
      "INFO:snap_stderr:stderr:INFO: org.hsqldb.persist.Logger: dataFileCache open start\n",
      "INFO:snap_stderr:stderr:INFO: org.esa.snap.core.dataop.dem.ElevationFile: http retrieving http://step.esa.int/auxdata/dem/SRTMGL1/N54W004.SRTMGL1.hgt.zip\n",
      "INFO:snap_stderr:stderr:INFO: org.esa.snap.core.dataop.dem.ElevationFile: http retrieving http://step.esa.int/auxdata/dem/SRTMGL1/N54W003.SRTMGL1.hgt.zip\n",
      "INFO:snap_stdout:....10%....20%....30%....40%....50%....60%....70%....80%....90% done.\n"
     ]
    },
    {
     "name": "stdout",
     "output_type": "stream",
     "text": [
      "/tmp/data/intermediate/NovaSAR_01_12588_slc_11_200630_231443_HH_2_tmp/NovaSAR_01_12588_slc_11_200630_231443_HH_2_ML_TC_TF_cog/NovaSAR_01_12588_slc_11_200630_231443_HH_2_Gamma0_Intensity_HH_db.tif\n",
      "2020-11-18 01:58:05 Starting conversion: /tmp/data/intermediate/NovaSAR_01_12588_slc_11_200630_231443_HH_2_tmp/NovaSAR_01_12588_slc_11_200630_231443_HH_2_ML_TC_TF.data/Gamma0_Intensity_HH_db.img.\n",
      "2020-11-18 01:58:18 Conversion complete: True.\n"
     ]
    },
    {
     "name": "stderr",
     "output_type": "stream",
     "text": [
      "DEBUG:sedas_api:successful login.\n"
     ]
    },
    {
     "name": "stdout",
     "output_type": "stream",
     "text": [
      "2020-11-18 01:59:46 Prepared NovaSAR_01_12588_slc_11_200630_231443_HH_2 at novasar_uk_test/\n",
      "2020-11-18 01:59:46 Preparing NovaSAR_01_12588_slc_200630_231438_HH within /tmp/data/intermediate/NovaSAR_01_12588_slc_200630_231438_HH_tmp/\n"
     ]
    },
    {
     "name": "stderr",
     "output_type": "stream",
     "text": [
      "DEBUG:sedas_api:successful login.\n",
      "DEBUG:sedas_api:successful login.\n",
      "DEBUG:sedas_api:successful login.\n",
      "DEBUG:sedas_api:successful login.\n",
      "INFO:bulk_downloader:0 downloads pending, 0 downloads in progress, 0 requests pending\n",
      "INFO:bulk_downloader:2 active threads, 0 restarted.\n"
     ]
    },
    {
     "name": "stdout",
     "output_type": "stream",
     "text": [
      "2020-11-18 01:59:47 Downloading\n"
     ]
    },
    {
     "name": "stderr",
     "output_type": "stream",
     "text": [
      "DEBUG:bulk_downloader:1 downloads pending\n",
      "DEBUG:bulk_downloader:1 downloads pending\n",
      "INFO:bulk_downloader:downloading NovaSAR_01_12588_slc_200630_231438_HH to /tmp/data/intermediate/NovaSAR_01_12588_slc_200630_231438_HH_tmp/NovaSAR_01_12588_slc_200630_231438_HH.zip\n",
      "DEBUG:sedas_api:successful login.\n",
      "INFO:bulk_downloader:0 downloads pending, 1 downloads in progress, 0 requests pending\n",
      "INFO:bulk_downloader:2 active threads, 0 restarted.\n",
      "INFO:bulk_downloader:0 downloads pending, 1 downloads in progress, 0 requests pending\n",
      "INFO:bulk_downloader:2 active threads, 0 restarted.\n",
      "INFO:bulk_downloader:0 downloads pending, 1 downloads in progress, 0 requests pending\n",
      "INFO:bulk_downloader:2 active threads, 0 restarted.\n",
      "INFO:bulk_downloader:0 downloads pending, 1 downloads in progress, 0 requests pending\n",
      "INFO:bulk_downloader:2 active threads, 0 restarted.\n",
      "INFO:bulk_downloader:0 downloads pending, 1 downloads in progress, 0 requests pending\n",
      "INFO:bulk_downloader:2 active threads, 0 restarted.\n",
      "INFO:bulk_downloader:0 downloads pending, 1 downloads in progress, 0 requests pending\n",
      "INFO:bulk_downloader:2 active threads, 0 restarted.\n",
      "INFO:bulk_downloader:0 downloads pending, 1 downloads in progress, 0 requests pending\n",
      "INFO:bulk_downloader:2 active threads, 0 restarted.\n",
      "INFO:bulk_downloader:0 downloads pending, 1 downloads in progress, 0 requests pending\n",
      "INFO:bulk_downloader:2 active threads, 0 restarted.\n",
      "INFO:bulk_downloader:0 downloads pending, 1 downloads in progress, 0 requests pending\n",
      "INFO:bulk_downloader:2 active threads, 0 restarted.\n",
      "DEBUG:bulk_downloader:0 downloads pending\n",
      "DEBUG:bulk_downloader:requests thread stopping\n",
      "DEBUG:bulk_downloader:monitor thread stopping\n"
     ]
    },
    {
     "name": "stdout",
     "output_type": "stream",
     "text": [
      "2020-11-18 02:00:37 Downloaded\n",
      "2020-11-18 02:00:37 Extracting /tmp/data/intermediate/NovaSAR_01_12588_slc_200630_231438_HH_tmp/NovaSAR_01_12588_slc_200630_231438_HH.zip\n"
     ]
    },
    {
     "name": "stderr",
     "output_type": "stream",
     "text": [
      "DEBUG:root:running ['/opt/snap/bin/gpt', '/opt/notebooks/anc/novasar_slc_tf_tc.xml', '-Pinput=/tmp/data/intermediate/NovaSAR_01_12588_slc_200630_231438_HH_tmp/NovaSAR_01_12588_slc_200630_231438_HH/SV229/Image_Products$/NovaSAR_01_12588_slc_200630_231438_HH_/NovaSAR_01_12588_slc_11_200630_231438_HH_1/metadata.xml', '-Poutput=/tmp/data/intermediate/NovaSAR_01_12588_slc_200630_231438_HH_tmp/NovaSAR_01_12588_slc_11_200630_231438_HH_1_ML_TC_TF.dim']\n"
     ]
    },
    {
     "name": "stdout",
     "output_type": "stream",
     "text": [
      "2020-11-18 02:01:11 Extracted to /tmp/data/intermediate/NovaSAR_01_12588_slc_200630_231438_HH_tmp/NovaSAR_01_12588_slc_200630_231438_HH/\n",
      "NovaSAR_01_12588_slc_11_200630_231438_HH_1\n",
      "/tmp/data/intermediate/NovaSAR_01_12588_slc_200630_231438_HH_tmp/NovaSAR_01_12588_slc_11_200630_231438_HH_1_ML_TC_TF.data/\n",
      "/tmp/data/intermediate/NovaSAR_01_12588_slc_200630_231438_HH_tmp/NovaSAR_01_12588_slc_11_200630_231438_HH_1_ML_TC_TF_cog/\n"
     ]
    },
    {
     "name": "stderr",
     "output_type": "stream",
     "text": [
      "INFO:snap_stderr:stderr:INFO: org.esa.snap.core.gpf.operators.tooladapter.ToolAdapterIO: Initializing external tool adapters\n",
      "INFO:snap_stderr:stderr:INFO: org.esa.s2tbx.dataio.gdal.GDALVersion: Incompatible GDAL 3.1.4 found on system. Internal GDAL 3.0.0 from distribution will be used.\n",
      "INFO:snap_stderr:stderr:INFO: org.esa.s2tbx.dataio.gdal.GDALVersion: Internal GDAL 3.0.0 set to be used by SNAP.\n",
      "INFO:snap_stderr:stderr:INFO: org.esa.snap.core.util.EngineVersionCheckActivator: Please check regularly for new updates for the best SNAP experience.\n",
      "INFO:snap_stderr:stderr:INFO: org.esa.s2tbx.dataio.gdal.GDALVersion: Internal GDAL 3.0.0 set to be used by SNAP.\n",
      "INFO:snap_stdout:Executing processing graph\n",
      "INFO:snap_stderr:stderr:INFO: org.hsqldb.persist.Logger: dataFileCache open start\n",
      "INFO:snap_stderr:stderr:INFO: org.esa.snap.core.dataop.dem.ElevationFile: http retrieving http://step.esa.int/auxdata/dem/SRTMGL1/N55W003.SRTMGL1.hgt.zip\n",
      "INFO:snap_stdout:....10%....20%....30%....40%....50%....60%....70%....80%....90% done.\n"
     ]
    },
    {
     "name": "stdout",
     "output_type": "stream",
     "text": [
      "/tmp/data/intermediate/NovaSAR_01_12588_slc_200630_231438_HH_tmp/NovaSAR_01_12588_slc_11_200630_231438_HH_1_ML_TC_TF_cog/NovaSAR_01_12588_slc_11_200630_231438_HH_1_Gamma0_Intensity_HH_db.tif\n",
      "2020-11-18 02:06:02 Starting conversion: /tmp/data/intermediate/NovaSAR_01_12588_slc_200630_231438_HH_tmp/NovaSAR_01_12588_slc_11_200630_231438_HH_1_ML_TC_TF.data/Gamma0_Intensity_HH_db.img.\n",
      "2020-11-18 02:06:11 Conversion complete: True.\n"
     ]
    },
    {
     "name": "stderr",
     "output_type": "stream",
     "text": [
      "DEBUG:root:running ['/opt/snap/bin/gpt', '/opt/notebooks/anc/novasar_slc_tf_tc.xml', '-Pinput=/tmp/data/intermediate/NovaSAR_01_12588_slc_200630_231438_HH_tmp/NovaSAR_01_12588_slc_200630_231438_HH/SV229/Image_Products$/NovaSAR_01_12588_slc_200630_231438_HH_/NovaSAR_01_12588_slc_11_200630_231443_HH_2/metadata.xml', '-Poutput=/tmp/data/intermediate/NovaSAR_01_12588_slc_200630_231438_HH_tmp/NovaSAR_01_12588_slc_11_200630_231443_HH_2_ML_TC_TF.dim']\n"
     ]
    },
    {
     "name": "stdout",
     "output_type": "stream",
     "text": [
      "NovaSAR_01_12588_slc_11_200630_231443_HH_2\n",
      "/tmp/data/intermediate/NovaSAR_01_12588_slc_200630_231438_HH_tmp/NovaSAR_01_12588_slc_11_200630_231443_HH_2_ML_TC_TF.data/\n",
      "/tmp/data/intermediate/NovaSAR_01_12588_slc_200630_231438_HH_tmp/NovaSAR_01_12588_slc_11_200630_231443_HH_2_ML_TC_TF_cog/\n"
     ]
    },
    {
     "name": "stderr",
     "output_type": "stream",
     "text": [
      "INFO:snap_stderr:stderr:INFO: org.esa.snap.core.gpf.operators.tooladapter.ToolAdapterIO: Initializing external tool adapters\n",
      "INFO:snap_stderr:stderr:INFO: org.esa.s2tbx.dataio.gdal.GDALVersion: Incompatible GDAL 3.1.4 found on system. Internal GDAL 3.0.0 from distribution will be used.\n",
      "INFO:snap_stderr:stderr:INFO: org.esa.s2tbx.dataio.gdal.GDALVersion: Internal GDAL 3.0.0 set to be used by SNAP.\n",
      "INFO:snap_stderr:stderr:INFO: org.esa.snap.core.util.EngineVersionCheckActivator: Please check regularly for new updates for the best SNAP experience.\n",
      "INFO:snap_stderr:stderr:INFO: org.esa.s2tbx.dataio.gdal.GDALVersion: Internal GDAL 3.0.0 set to be used by SNAP.\n",
      "INFO:snap_stdout:Executing processing graph\n",
      "INFO:snap_stderr:stderr:INFO: org.hsqldb.persist.Logger: dataFileCache open start\n",
      "INFO:snap_stdout:....10%....20%....30%....40%....50%....60%....70%....80%....90% done.\n"
     ]
    },
    {
     "name": "stdout",
     "output_type": "stream",
     "text": [
      "/tmp/data/intermediate/NovaSAR_01_12588_slc_200630_231438_HH_tmp/NovaSAR_01_12588_slc_11_200630_231443_HH_2_ML_TC_TF_cog/NovaSAR_01_12588_slc_11_200630_231443_HH_2_Gamma0_Intensity_HH_db.tif\n",
      "2020-11-18 02:14:00 Starting conversion: /tmp/data/intermediate/NovaSAR_01_12588_slc_200630_231438_HH_tmp/NovaSAR_01_12588_slc_11_200630_231443_HH_2_ML_TC_TF.data/Gamma0_Intensity_HH_db.img.\n",
      "2020-11-18 02:14:14 Conversion complete: True.\n",
      "2020-11-18 02:15:37 Prepared NovaSAR_01_12588_slc_200630_231438_HH at novasar_uk_test/\n",
      "2020-11-18 02:15:37 Preparing NovaSAR_01_12588_slc_11_200630_231438_HH_1 within /tmp/data/intermediate/NovaSAR_01_12588_slc_11_200630_231438_HH_1_tmp/\n"
     ]
    },
    {
     "name": "stderr",
     "output_type": "stream",
     "text": [
      "DEBUG:sedas_api:successful login.\n",
      "DEBUG:sedas_api:successful login.\n",
      "DEBUG:sedas_api:successful login.\n",
      "DEBUG:sedas_api:successful login.\n",
      "DEBUG:sedas_api:successful login.\n",
      "INFO:bulk_downloader:0 downloads pending, 0 downloads in progress, 0 requests pending\n",
      "INFO:bulk_downloader:2 active threads, 0 restarted.\n"
     ]
    },
    {
     "name": "stdout",
     "output_type": "stream",
     "text": [
      "2020-11-18 02:15:39 Downloading\n"
     ]
    },
    {
     "name": "stderr",
     "output_type": "stream",
     "text": [
      "DEBUG:bulk_downloader:1 downloads pending\n",
      "DEBUG:bulk_downloader:1 downloads pending\n",
      "INFO:bulk_downloader:downloading NovaSAR_01_12588_slc_11_200630_231438_HH_1 to /tmp/data/intermediate/NovaSAR_01_12588_slc_11_200630_231438_HH_1_tmp/NovaSAR_01_12588_slc_11_200630_231438_HH_1.zip\n",
      "DEBUG:sedas_api:successful login.\n",
      "INFO:bulk_downloader:0 downloads pending, 1 downloads in progress, 0 requests pending\n",
      "INFO:bulk_downloader:2 active threads, 0 restarted.\n",
      "INFO:bulk_downloader:0 downloads pending, 1 downloads in progress, 0 requests pending\n",
      "INFO:bulk_downloader:2 active threads, 0 restarted.\n",
      "INFO:bulk_downloader:0 downloads pending, 1 downloads in progress, 0 requests pending\n",
      "INFO:bulk_downloader:2 active threads, 0 restarted.\n",
      "DEBUG:bulk_downloader:monitor thread stopping\n",
      "DEBUG:bulk_downloader:0 downloads pending\n"
     ]
    },
    {
     "name": "stdout",
     "output_type": "stream",
     "text": [
      "2020-11-18 02:15:59 Downloaded\n",
      "2020-11-18 02:15:59 Extracting /tmp/data/intermediate/NovaSAR_01_12588_slc_11_200630_231438_HH_1_tmp/NovaSAR_01_12588_slc_11_200630_231438_HH_1.zip\n"
     ]
    },
    {
     "name": "stderr",
     "output_type": "stream",
     "text": [
      "DEBUG:bulk_downloader:requests thread stopping\n",
      "DEBUG:root:running ['/opt/snap/bin/gpt', '/opt/notebooks/anc/novasar_slc_tf_tc.xml', '-Pinput=/tmp/data/intermediate/NovaSAR_01_12588_slc_11_200630_231438_HH_1_tmp/NovaSAR_01_12588_slc_11_200630_231438_HH_1/NovaSAR_01_12588_slc_11_200630_231438_HH_1/metadata.xml', '-Poutput=/tmp/data/intermediate/NovaSAR_01_12588_slc_11_200630_231438_HH_1_tmp/NovaSAR_01_12588_slc_11_200630_231438_HH_1_ML_TC_TF.dim']\n"
     ]
    },
    {
     "name": "stdout",
     "output_type": "stream",
     "text": [
      "2020-11-18 02:16:14 Extracted to /tmp/data/intermediate/NovaSAR_01_12588_slc_11_200630_231438_HH_1_tmp/NovaSAR_01_12588_slc_11_200630_231438_HH_1/\n",
      "NovaSAR_01_12588_slc_11_200630_231438_HH_1\n",
      "/tmp/data/intermediate/NovaSAR_01_12588_slc_11_200630_231438_HH_1_tmp/NovaSAR_01_12588_slc_11_200630_231438_HH_1_ML_TC_TF.data/\n",
      "/tmp/data/intermediate/NovaSAR_01_12588_slc_11_200630_231438_HH_1_tmp/NovaSAR_01_12588_slc_11_200630_231438_HH_1_ML_TC_TF_cog/\n"
     ]
    },
    {
     "name": "stderr",
     "output_type": "stream",
     "text": [
      "INFO:snap_stderr:stderr:INFO: org.esa.snap.core.gpf.operators.tooladapter.ToolAdapterIO: Initializing external tool adapters\n",
      "INFO:snap_stderr:stderr:INFO: org.esa.s2tbx.dataio.gdal.GDALVersion: Incompatible GDAL 3.1.4 found on system. Internal GDAL 3.0.0 from distribution will be used.\n",
      "INFO:snap_stderr:stderr:INFO: org.esa.s2tbx.dataio.gdal.GDALVersion: Internal GDAL 3.0.0 set to be used by SNAP.\n",
      "INFO:snap_stderr:stderr:INFO: org.esa.snap.core.util.EngineVersionCheckActivator: Please check regularly for new updates for the best SNAP experience.\n",
      "INFO:snap_stderr:stderr:INFO: org.esa.s2tbx.dataio.gdal.GDALVersion: Internal GDAL 3.0.0 set to be used by SNAP.\n",
      "INFO:snap_stdout:Executing processing graph\n",
      "INFO:snap_stderr:stderr:INFO: org.hsqldb.persist.Logger: dataFileCache open start\n",
      "INFO:snap_stdout:....10%....20%....30%....40%....50%....60%....70%....80%....90% done.\n"
     ]
    },
    {
     "name": "stdout",
     "output_type": "stream",
     "text": [
      "/tmp/data/intermediate/NovaSAR_01_12588_slc_11_200630_231438_HH_1_tmp/NovaSAR_01_12588_slc_11_200630_231438_HH_1_ML_TC_TF_cog/NovaSAR_01_12588_slc_11_200630_231438_HH_1_Gamma0_Intensity_HH_db.tif\n",
      "2020-11-18 02:20:58 Starting conversion: /tmp/data/intermediate/NovaSAR_01_12588_slc_11_200630_231438_HH_1_tmp/NovaSAR_01_12588_slc_11_200630_231438_HH_1_ML_TC_TF.data/Gamma0_Intensity_HH_db.img.\n",
      "2020-11-18 02:21:07 Conversion complete: True.\n"
     ]
    },
    {
     "name": "stderr",
     "output_type": "stream",
     "text": [
      "DEBUG:sedas_api:successful login.\n"
     ]
    },
    {
     "name": "stdout",
     "output_type": "stream",
     "text": [
      "2020-11-18 02:21:59 Prepared NovaSAR_01_12588_slc_11_200630_231438_HH_1 at novasar_uk_test/\n",
      "2020-11-18 02:21:59 Preparing NovaSAR_01_12547_slc_200629_095854_HH within /tmp/data/intermediate/NovaSAR_01_12547_slc_200629_095854_HH_tmp/\n"
     ]
    },
    {
     "name": "stderr",
     "output_type": "stream",
     "text": [
      "DEBUG:sedas_api:successful login.\n",
      "DEBUG:sedas_api:successful login.\n",
      "DEBUG:sedas_api:successful login.\n",
      "DEBUG:sedas_api:successful login.\n",
      "INFO:bulk_downloader:0 downloads pending, 0 downloads in progress, 0 requests pending\n",
      "INFO:bulk_downloader:2 active threads, 0 restarted.\n"
     ]
    },
    {
     "name": "stdout",
     "output_type": "stream",
     "text": [
      "2020-11-18 02:22:00 Downloading\n"
     ]
    },
    {
     "name": "stderr",
     "output_type": "stream",
     "text": [
      "DEBUG:bulk_downloader:1 downloads pending\n",
      "DEBUG:bulk_downloader:1 downloads pending\n",
      "INFO:bulk_downloader:downloading NovaSAR_01_12547_slc_200629_095854_HH to /tmp/data/intermediate/NovaSAR_01_12547_slc_200629_095854_HH_tmp/NovaSAR_01_12547_slc_200629_095854_HH.zip\n",
      "DEBUG:sedas_api:successful login.\n",
      "INFO:bulk_downloader:0 downloads pending, 1 downloads in progress, 0 requests pending\n",
      "INFO:bulk_downloader:2 active threads, 0 restarted.\n",
      "INFO:bulk_downloader:0 downloads pending, 1 downloads in progress, 0 requests pending\n",
      "INFO:bulk_downloader:2 active threads, 0 restarted.\n",
      "INFO:bulk_downloader:0 downloads pending, 1 downloads in progress, 0 requests pending\n",
      "INFO:bulk_downloader:2 active threads, 0 restarted.\n",
      "INFO:bulk_downloader:0 downloads pending, 1 downloads in progress, 0 requests pending\n",
      "INFO:bulk_downloader:2 active threads, 0 restarted.\n",
      "INFO:bulk_downloader:0 downloads pending, 1 downloads in progress, 0 requests pending\n",
      "INFO:bulk_downloader:2 active threads, 0 restarted.\n",
      "DEBUG:bulk_downloader:0 downloads pending\n",
      "DEBUG:bulk_downloader:requests thread stopping\n",
      "DEBUG:bulk_downloader:monitor thread stopping\n"
     ]
    },
    {
     "name": "stdout",
     "output_type": "stream",
     "text": [
      "2020-11-18 02:22:30 Downloaded\n",
      "2020-11-18 02:22:30 Extracting /tmp/data/intermediate/NovaSAR_01_12547_slc_200629_095854_HH_tmp/NovaSAR_01_12547_slc_200629_095854_HH.zip\n"
     ]
    },
    {
     "name": "stderr",
     "output_type": "stream",
     "text": [
      "DEBUG:root:running ['/opt/snap/bin/gpt', '/opt/notebooks/anc/novasar_slc_tf_tc.xml', '-Pinput=/tmp/data/intermediate/NovaSAR_01_12547_slc_200629_095854_HH_tmp/NovaSAR_01_12547_slc_200629_095854_HH/SV229/Image_Products$/NovaSAR_01_12547_slc_200629_095854_HH_/NovaSAR_01_12547_slc_11_200629_095854_HH_1/metadata.xml', '-Poutput=/tmp/data/intermediate/NovaSAR_01_12547_slc_200629_095854_HH_tmp/NovaSAR_01_12547_slc_11_200629_095854_HH_1_ML_TC_TF.dim']\n"
     ]
    },
    {
     "name": "stdout",
     "output_type": "stream",
     "text": [
      "2020-11-18 02:22:48 Extracted to /tmp/data/intermediate/NovaSAR_01_12547_slc_200629_095854_HH_tmp/NovaSAR_01_12547_slc_200629_095854_HH/\n",
      "NovaSAR_01_12547_slc_11_200629_095854_HH_1\n",
      "/tmp/data/intermediate/NovaSAR_01_12547_slc_200629_095854_HH_tmp/NovaSAR_01_12547_slc_11_200629_095854_HH_1_ML_TC_TF.data/\n",
      "/tmp/data/intermediate/NovaSAR_01_12547_slc_200629_095854_HH_tmp/NovaSAR_01_12547_slc_11_200629_095854_HH_1_ML_TC_TF_cog/\n"
     ]
    },
    {
     "name": "stderr",
     "output_type": "stream",
     "text": [
      "INFO:snap_stderr:stderr:INFO: org.esa.snap.core.gpf.operators.tooladapter.ToolAdapterIO: Initializing external tool adapters\n",
      "INFO:snap_stderr:stderr:INFO: org.esa.s2tbx.dataio.gdal.GDALVersion: Incompatible GDAL 3.1.4 found on system. Internal GDAL 3.0.0 from distribution will be used.\n",
      "INFO:snap_stderr:stderr:INFO: org.esa.s2tbx.dataio.gdal.GDALVersion: Internal GDAL 3.0.0 set to be used by SNAP.\n",
      "INFO:snap_stderr:stderr:INFO: org.esa.snap.core.util.EngineVersionCheckActivator: Please check regularly for new updates for the best SNAP experience.\n",
      "INFO:snap_stderr:stderr:INFO: org.esa.s2tbx.dataio.gdal.GDALVersion: Internal GDAL 3.0.0 set to be used by SNAP.\n",
      "INFO:snap_stdout:Executing processing graph\n",
      "INFO:snap_stderr:stderr:INFO: org.hsqldb.persist.Logger: dataFileCache open start\n",
      "INFO:snap_stderr:stderr:INFO: org.esa.snap.core.dataop.dem.ElevationFile: http retrieving http://step.esa.int/auxdata/dem/SRTMGL1/N52W007.SRTMGL1.hgt.zip\n",
      "INFO:snap_stdout:....10%....20%....30%....40%....50%....60%....70%....80%....90% done.\n"
     ]
    },
    {
     "name": "stdout",
     "output_type": "stream",
     "text": [
      "/tmp/data/intermediate/NovaSAR_01_12547_slc_200629_095854_HH_tmp/NovaSAR_01_12547_slc_11_200629_095854_HH_1_ML_TC_TF_cog/NovaSAR_01_12547_slc_11_200629_095854_HH_1_Gamma0_Intensity_HH_db.tif\n",
      "2020-11-18 02:25:05 Starting conversion: /tmp/data/intermediate/NovaSAR_01_12547_slc_200629_095854_HH_tmp/NovaSAR_01_12547_slc_11_200629_095854_HH_1_ML_TC_TF.data/Gamma0_Intensity_HH_db.img.\n",
      "2020-11-18 02:25:12 Conversion complete: True.\n"
     ]
    },
    {
     "name": "stderr",
     "output_type": "stream",
     "text": [
      "DEBUG:root:running ['/opt/snap/bin/gpt', '/opt/notebooks/anc/novasar_slc_tf_tc.xml', '-Pinput=/tmp/data/intermediate/NovaSAR_01_12547_slc_200629_095854_HH_tmp/NovaSAR_01_12547_slc_200629_095854_HH/SV229/Image_Products$/NovaSAR_01_12547_slc_200629_095854_HH_/NovaSAR_01_12547_slc_11_200629_095858_HH_2/metadata.xml', '-Poutput=/tmp/data/intermediate/NovaSAR_01_12547_slc_200629_095854_HH_tmp/NovaSAR_01_12547_slc_11_200629_095858_HH_2_ML_TC_TF.dim']\n"
     ]
    },
    {
     "name": "stdout",
     "output_type": "stream",
     "text": [
      "NovaSAR_01_12547_slc_11_200629_095858_HH_2\n",
      "/tmp/data/intermediate/NovaSAR_01_12547_slc_200629_095854_HH_tmp/NovaSAR_01_12547_slc_11_200629_095858_HH_2_ML_TC_TF.data/\n",
      "/tmp/data/intermediate/NovaSAR_01_12547_slc_200629_095854_HH_tmp/NovaSAR_01_12547_slc_11_200629_095858_HH_2_ML_TC_TF_cog/\n"
     ]
    },
    {
     "name": "stderr",
     "output_type": "stream",
     "text": [
      "INFO:snap_stderr:stderr:INFO: org.esa.snap.core.gpf.operators.tooladapter.ToolAdapterIO: Initializing external tool adapters\n",
      "INFO:snap_stderr:stderr:INFO: org.esa.s2tbx.dataio.gdal.GDALVersion: Incompatible GDAL 3.1.4 found on system. Internal GDAL 3.0.0 from distribution will be used.\n",
      "INFO:snap_stderr:stderr:INFO: org.esa.s2tbx.dataio.gdal.GDALVersion: Internal GDAL 3.0.0 set to be used by SNAP.\n",
      "INFO:snap_stderr:stderr:INFO: org.esa.snap.core.util.EngineVersionCheckActivator: Please check regularly for new updates for the best SNAP experience.\n",
      "INFO:snap_stderr:stderr:INFO: org.esa.s2tbx.dataio.gdal.GDALVersion: Internal GDAL 3.0.0 set to be used by SNAP.\n",
      "INFO:snap_stdout:Executing processing graph\n",
      "INFO:snap_stderr:stderr:INFO: org.hsqldb.persist.Logger: dataFileCache open start\n",
      "INFO:snap_stdout:....10%....20%....30%....40%....50%....60%....70%....80%....90% done.\n"
     ]
    },
    {
     "name": "stdout",
     "output_type": "stream",
     "text": [
      "/tmp/data/intermediate/NovaSAR_01_12547_slc_200629_095854_HH_tmp/NovaSAR_01_12547_slc_11_200629_095858_HH_2_ML_TC_TF_cog/NovaSAR_01_12547_slc_11_200629_095858_HH_2_Gamma0_Intensity_HH_db.tif\n",
      "2020-11-18 02:28:54 Starting conversion: /tmp/data/intermediate/NovaSAR_01_12547_slc_200629_095854_HH_tmp/NovaSAR_01_12547_slc_11_200629_095858_HH_2_ML_TC_TF.data/Gamma0_Intensity_HH_db.img.\n",
      "2020-11-18 02:29:04 Conversion complete: True.\n"
     ]
    },
    {
     "name": "stderr",
     "output_type": "stream",
     "text": [
      "DEBUG:sedas_api:successful login.\n"
     ]
    },
    {
     "name": "stdout",
     "output_type": "stream",
     "text": [
      "2020-11-18 02:30:00 Prepared NovaSAR_01_12547_slc_200629_095854_HH at novasar_uk_test/\n",
      "2020-11-18 02:30:00 Preparing NovaSAR_01_12520_slc_200628_095221_HH within /tmp/data/intermediate/NovaSAR_01_12520_slc_200628_095221_HH_tmp/\n"
     ]
    },
    {
     "name": "stderr",
     "output_type": "stream",
     "text": [
      "DEBUG:sedas_api:successful login.\n",
      "DEBUG:sedas_api:successful login.\n",
      "DEBUG:sedas_api:successful login.\n",
      "DEBUG:sedas_api:successful login.\n",
      "INFO:bulk_downloader:0 downloads pending, 0 downloads in progress, 0 requests pending\n",
      "INFO:bulk_downloader:2 active threads, 0 restarted.\n"
     ]
    },
    {
     "name": "stdout",
     "output_type": "stream",
     "text": [
      "2020-11-18 02:30:02 Downloading\n"
     ]
    },
    {
     "name": "stderr",
     "output_type": "stream",
     "text": [
      "DEBUG:bulk_downloader:1 downloads pending\n",
      "DEBUG:bulk_downloader:1 downloads pending\n",
      "INFO:bulk_downloader:downloading NovaSAR_01_12520_slc_200628_095221_HH to /tmp/data/intermediate/NovaSAR_01_12520_slc_200628_095221_HH_tmp/NovaSAR_01_12520_slc_200628_095221_HH.zip\n",
      "DEBUG:sedas_api:successful login.\n",
      "INFO:bulk_downloader:0 downloads pending, 1 downloads in progress, 0 requests pending\n",
      "INFO:bulk_downloader:2 active threads, 0 restarted.\n",
      "INFO:bulk_downloader:0 downloads pending, 1 downloads in progress, 0 requests pending\n",
      "INFO:bulk_downloader:2 active threads, 0 restarted.\n",
      "INFO:bulk_downloader:0 downloads pending, 1 downloads in progress, 0 requests pending\n",
      "INFO:bulk_downloader:2 active threads, 0 restarted.\n",
      "INFO:bulk_downloader:0 downloads pending, 1 downloads in progress, 0 requests pending\n",
      "INFO:bulk_downloader:2 active threads, 0 restarted.\n",
      "INFO:bulk_downloader:0 downloads pending, 1 downloads in progress, 0 requests pending\n",
      "INFO:bulk_downloader:2 active threads, 0 restarted.\n",
      "INFO:bulk_downloader:0 downloads pending, 1 downloads in progress, 0 requests pending\n",
      "INFO:bulk_downloader:2 active threads, 0 restarted.\n",
      "INFO:bulk_downloader:0 downloads pending, 1 downloads in progress, 0 requests pending\n",
      "INFO:bulk_downloader:2 active threads, 0 restarted.\n",
      "INFO:bulk_downloader:0 downloads pending, 1 downloads in progress, 0 requests pending\n",
      "INFO:bulk_downloader:2 active threads, 0 restarted.\n",
      "INFO:bulk_downloader:0 downloads pending, 1 downloads in progress, 0 requests pending\n",
      "INFO:bulk_downloader:2 active threads, 0 restarted.\n",
      "INFO:bulk_downloader:0 downloads pending, 1 downloads in progress, 0 requests pending\n",
      "INFO:bulk_downloader:2 active threads, 0 restarted.\n",
      "INFO:bulk_downloader:0 downloads pending, 1 downloads in progress, 0 requests pending\n",
      "INFO:bulk_downloader:2 active threads, 0 restarted.\n",
      "INFO:bulk_downloader:0 downloads pending, 1 downloads in progress, 0 requests pending\n",
      "INFO:bulk_downloader:2 active threads, 0 restarted.\n",
      "INFO:bulk_downloader:0 downloads pending, 1 downloads in progress, 0 requests pending\n",
      "INFO:bulk_downloader:2 active threads, 0 restarted.\n",
      "INFO:bulk_downloader:0 downloads pending, 1 downloads in progress, 0 requests pending\n",
      "INFO:bulk_downloader:2 active threads, 0 restarted.\n",
      "INFO:bulk_downloader:0 downloads pending, 1 downloads in progress, 0 requests pending\n",
      "INFO:bulk_downloader:2 active threads, 0 restarted.\n",
      "INFO:bulk_downloader:0 downloads pending, 1 downloads in progress, 0 requests pending\n",
      "INFO:bulk_downloader:2 active threads, 0 restarted.\n",
      "INFO:bulk_downloader:0 downloads pending, 1 downloads in progress, 0 requests pending\n",
      "INFO:bulk_downloader:2 active threads, 0 restarted.\n",
      "INFO:bulk_downloader:0 downloads pending, 1 downloads in progress, 0 requests pending\n",
      "INFO:bulk_downloader:2 active threads, 0 restarted.\n",
      "INFO:bulk_downloader:0 downloads pending, 1 downloads in progress, 0 requests pending\n",
      "INFO:bulk_downloader:2 active threads, 0 restarted.\n",
      "INFO:bulk_downloader:0 downloads pending, 1 downloads in progress, 0 requests pending\n",
      "INFO:bulk_downloader:2 active threads, 0 restarted.\n",
      "DEBUG:bulk_downloader:0 downloads pending\n",
      "DEBUG:bulk_downloader:monitor thread stopping\n"
     ]
    },
    {
     "name": "stdout",
     "output_type": "stream",
     "text": [
      "2020-11-18 02:31:47 Downloaded\n",
      "2020-11-18 02:31:47 Extracting /tmp/data/intermediate/NovaSAR_01_12520_slc_200628_095221_HH_tmp/NovaSAR_01_12520_slc_200628_095221_HH.zip\n"
     ]
    },
    {
     "name": "stderr",
     "output_type": "stream",
     "text": [
      "DEBUG:bulk_downloader:requests thread stopping\n",
      "DEBUG:root:running ['/opt/snap/bin/gpt', '/opt/notebooks/anc/novasar_slc_tf_tc.xml', '-Pinput=/tmp/data/intermediate/NovaSAR_01_12520_slc_200628_095221_HH_tmp/NovaSAR_01_12520_slc_200628_095221_HH/SV229/Image_Products$/NovaSAR_01_12520_slc_200628_095221_HH_/NovaSAR_01_12520_slc_11_200628_095221_HH_1/metadata.xml', '-Poutput=/tmp/data/intermediate/NovaSAR_01_12520_slc_200628_095221_HH_tmp/NovaSAR_01_12520_slc_11_200628_095221_HH_1_ML_TC_TF.dim']\n"
     ]
    },
    {
     "name": "stdout",
     "output_type": "stream",
     "text": [
      "2020-11-18 02:32:59 Extracted to /tmp/data/intermediate/NovaSAR_01_12520_slc_200628_095221_HH_tmp/NovaSAR_01_12520_slc_200628_095221_HH/\n",
      "NovaSAR_01_12520_slc_11_200628_095221_HH_1\n",
      "/tmp/data/intermediate/NovaSAR_01_12520_slc_200628_095221_HH_tmp/NovaSAR_01_12520_slc_11_200628_095221_HH_1_ML_TC_TF.data/\n",
      "/tmp/data/intermediate/NovaSAR_01_12520_slc_200628_095221_HH_tmp/NovaSAR_01_12520_slc_11_200628_095221_HH_1_ML_TC_TF_cog/\n"
     ]
    },
    {
     "name": "stderr",
     "output_type": "stream",
     "text": [
      "INFO:snap_stderr:stderr:INFO: org.esa.snap.core.gpf.operators.tooladapter.ToolAdapterIO: Initializing external tool adapters\n",
      "INFO:snap_stderr:stderr:INFO: org.esa.s2tbx.dataio.gdal.GDALVersion: Incompatible GDAL 3.1.4 found on system. Internal GDAL 3.0.0 from distribution will be used.\n",
      "INFO:snap_stderr:stderr:INFO: org.esa.s2tbx.dataio.gdal.GDALVersion: Internal GDAL 3.0.0 set to be used by SNAP.\n",
      "INFO:snap_stderr:stderr:INFO: org.esa.snap.core.util.EngineVersionCheckActivator: Please check regularly for new updates for the best SNAP experience.\n",
      "INFO:snap_stderr:stderr:INFO: org.esa.s2tbx.dataio.gdal.GDALVersion: Internal GDAL 3.0.0 set to be used by SNAP.\n",
      "INFO:snap_stdout:Executing processing graph\n",
      "INFO:snap_stderr:stderr:INFO: org.hsqldb.persist.Logger: dataFileCache open start\n",
      "INFO:snap_stdout:....10%....20%....30%....40%....50%....60%....70%....80%....90% done.\n"
     ]
    },
    {
     "name": "stdout",
     "output_type": "stream",
     "text": [
      "/tmp/data/intermediate/NovaSAR_01_12520_slc_200628_095221_HH_tmp/NovaSAR_01_12520_slc_11_200628_095221_HH_1_ML_TC_TF_cog/NovaSAR_01_12520_slc_11_200628_095221_HH_1_Gamma0_Intensity_HH_db.tif\n",
      "2020-11-18 02:36:58 Starting conversion: /tmp/data/intermediate/NovaSAR_01_12520_slc_200628_095221_HH_tmp/NovaSAR_01_12520_slc_11_200628_095221_HH_1_ML_TC_TF.data/Gamma0_Intensity_HH_db.img.\n",
      "2020-11-18 02:37:05 Conversion complete: True.\n"
     ]
    },
    {
     "name": "stderr",
     "output_type": "stream",
     "text": [
      "DEBUG:root:running ['/opt/snap/bin/gpt', '/opt/notebooks/anc/novasar_slc_tf_tc.xml', '-Pinput=/tmp/data/intermediate/NovaSAR_01_12520_slc_200628_095221_HH_tmp/NovaSAR_01_12520_slc_200628_095221_HH/SV229/Image_Products$/NovaSAR_01_12520_slc_200628_095221_HH_/NovaSAR_01_12520_slc_11_200628_095224_HH_2/metadata.xml', '-Poutput=/tmp/data/intermediate/NovaSAR_01_12520_slc_200628_095221_HH_tmp/NovaSAR_01_12520_slc_11_200628_095224_HH_2_ML_TC_TF.dim']\n"
     ]
    },
    {
     "name": "stdout",
     "output_type": "stream",
     "text": [
      "NovaSAR_01_12520_slc_11_200628_095224_HH_2\n",
      "/tmp/data/intermediate/NovaSAR_01_12520_slc_200628_095221_HH_tmp/NovaSAR_01_12520_slc_11_200628_095224_HH_2_ML_TC_TF.data/\n",
      "/tmp/data/intermediate/NovaSAR_01_12520_slc_200628_095221_HH_tmp/NovaSAR_01_12520_slc_11_200628_095224_HH_2_ML_TC_TF_cog/\n"
     ]
    },
    {
     "name": "stderr",
     "output_type": "stream",
     "text": [
      "INFO:snap_stderr:stderr:INFO: org.esa.snap.core.gpf.operators.tooladapter.ToolAdapterIO: Initializing external tool adapters\n",
      "INFO:snap_stderr:stderr:INFO: org.esa.s2tbx.dataio.gdal.GDALVersion: Incompatible GDAL 3.1.4 found on system. Internal GDAL 3.0.0 from distribution will be used.\n",
      "INFO:snap_stderr:stderr:INFO: org.esa.s2tbx.dataio.gdal.GDALVersion: Internal GDAL 3.0.0 set to be used by SNAP.\n",
      "INFO:snap_stderr:stderr:INFO: org.esa.snap.core.util.EngineVersionCheckActivator: Please check regularly for new updates for the best SNAP experience.\n",
      "INFO:snap_stderr:stderr:INFO: org.esa.s2tbx.dataio.gdal.GDALVersion: Internal GDAL 3.0.0 set to be used by SNAP.\n",
      "INFO:snap_stdout:Executing processing graph\n",
      "INFO:snap_stderr:stderr:INFO: org.hsqldb.persist.Logger: dataFileCache open start\n",
      "INFO:snap_stdout:....10%....20%....30%....40%....50%....60%....70%....80%....90% done.\n"
     ]
    },
    {
     "name": "stdout",
     "output_type": "stream",
     "text": [
      "/tmp/data/intermediate/NovaSAR_01_12520_slc_200628_095221_HH_tmp/NovaSAR_01_12520_slc_11_200628_095224_HH_2_ML_TC_TF_cog/NovaSAR_01_12520_slc_11_200628_095224_HH_2_Gamma0_Intensity_HH_db.tif\n",
      "2020-11-18 02:43:21 Starting conversion: /tmp/data/intermediate/NovaSAR_01_12520_slc_200628_095221_HH_tmp/NovaSAR_01_12520_slc_11_200628_095224_HH_2_ML_TC_TF.data/Gamma0_Intensity_HH_db.img.\n",
      "2020-11-18 02:43:28 Conversion complete: True.\n"
     ]
    },
    {
     "name": "stderr",
     "output_type": "stream",
     "text": [
      "DEBUG:root:running ['/opt/snap/bin/gpt', '/opt/notebooks/anc/novasar_slc_tf_tc.xml', '-Pinput=/tmp/data/intermediate/NovaSAR_01_12520_slc_200628_095221_HH_tmp/NovaSAR_01_12520_slc_200628_095221_HH/SV229/Image_Products$/NovaSAR_01_12520_slc_200628_095221_HH_/NovaSAR_01_12520_slc_11_200628_095228_HH_3/metadata.xml', '-Poutput=/tmp/data/intermediate/NovaSAR_01_12520_slc_200628_095221_HH_tmp/NovaSAR_01_12520_slc_11_200628_095228_HH_3_ML_TC_TF.dim']\n"
     ]
    },
    {
     "name": "stdout",
     "output_type": "stream",
     "text": [
      "NovaSAR_01_12520_slc_11_200628_095228_HH_3\n",
      "/tmp/data/intermediate/NovaSAR_01_12520_slc_200628_095221_HH_tmp/NovaSAR_01_12520_slc_11_200628_095228_HH_3_ML_TC_TF.data/\n",
      "/tmp/data/intermediate/NovaSAR_01_12520_slc_200628_095221_HH_tmp/NovaSAR_01_12520_slc_11_200628_095228_HH_3_ML_TC_TF_cog/\n"
     ]
    },
    {
     "name": "stderr",
     "output_type": "stream",
     "text": [
      "INFO:snap_stderr:stderr:INFO: org.esa.snap.core.gpf.operators.tooladapter.ToolAdapterIO: Initializing external tool adapters\n",
      "INFO:snap_stderr:stderr:INFO: org.esa.s2tbx.dataio.gdal.GDALVersion: Incompatible GDAL 3.1.4 found on system. Internal GDAL 3.0.0 from distribution will be used.\n",
      "INFO:snap_stderr:stderr:INFO: org.esa.s2tbx.dataio.gdal.GDALVersion: Internal GDAL 3.0.0 set to be used by SNAP.\n",
      "INFO:snap_stderr:stderr:INFO: org.esa.snap.core.util.EngineVersionCheckActivator: Please check regularly for new updates for the best SNAP experience.\n",
      "INFO:snap_stderr:stderr:INFO: org.esa.s2tbx.dataio.gdal.GDALVersion: Internal GDAL 3.0.0 set to be used by SNAP.\n",
      "INFO:snap_stdout:Executing processing graph\n",
      "INFO:snap_stderr:stderr:INFO: org.hsqldb.persist.Logger: dataFileCache open start\n",
      "INFO:snap_stdout:....10%....20%....30%....40%....50%....60%....70%....80%....90% done.\n"
     ]
    },
    {
     "name": "stdout",
     "output_type": "stream",
     "text": [
      "/tmp/data/intermediate/NovaSAR_01_12520_slc_200628_095221_HH_tmp/NovaSAR_01_12520_slc_11_200628_095228_HH_3_ML_TC_TF_cog/NovaSAR_01_12520_slc_11_200628_095228_HH_3_Gamma0_Intensity_HH_db.tif\n",
      "2020-11-18 02:48:18 Starting conversion: /tmp/data/intermediate/NovaSAR_01_12520_slc_200628_095221_HH_tmp/NovaSAR_01_12520_slc_11_200628_095228_HH_3_ML_TC_TF.data/Gamma0_Intensity_HH_db.img.\n",
      "2020-11-18 02:48:25 Conversion complete: True.\n"
     ]
    },
    {
     "name": "stderr",
     "output_type": "stream",
     "text": [
      "DEBUG:root:running ['/opt/snap/bin/gpt', '/opt/notebooks/anc/novasar_slc_tf_tc.xml', '-Pinput=/tmp/data/intermediate/NovaSAR_01_12520_slc_200628_095221_HH_tmp/NovaSAR_01_12520_slc_200628_095221_HH/SV229/Image_Products$/NovaSAR_01_12520_slc_200628_095221_HH_/NovaSAR_01_12520_slc_11_200628_095232_HH_4/metadata.xml', '-Poutput=/tmp/data/intermediate/NovaSAR_01_12520_slc_200628_095221_HH_tmp/NovaSAR_01_12520_slc_11_200628_095232_HH_4_ML_TC_TF.dim']\n"
     ]
    },
    {
     "name": "stdout",
     "output_type": "stream",
     "text": [
      "NovaSAR_01_12520_slc_11_200628_095232_HH_4\n",
      "/tmp/data/intermediate/NovaSAR_01_12520_slc_200628_095221_HH_tmp/NovaSAR_01_12520_slc_11_200628_095232_HH_4_ML_TC_TF.data/\n",
      "/tmp/data/intermediate/NovaSAR_01_12520_slc_200628_095221_HH_tmp/NovaSAR_01_12520_slc_11_200628_095232_HH_4_ML_TC_TF_cog/\n"
     ]
    },
    {
     "name": "stderr",
     "output_type": "stream",
     "text": [
      "INFO:snap_stderr:stderr:INFO: org.esa.snap.core.gpf.operators.tooladapter.ToolAdapterIO: Initializing external tool adapters\n",
      "INFO:snap_stderr:stderr:INFO: org.esa.s2tbx.dataio.gdal.GDALVersion: Incompatible GDAL 3.1.4 found on system. Internal GDAL 3.0.0 from distribution will be used.\n",
      "INFO:snap_stderr:stderr:INFO: org.esa.s2tbx.dataio.gdal.GDALVersion: Internal GDAL 3.0.0 set to be used by SNAP.\n",
      "INFO:snap_stderr:stderr:INFO: org.esa.snap.core.util.EngineVersionCheckActivator: Please check regularly for new updates for the best SNAP experience.\n",
      "INFO:snap_stderr:stderr:INFO: org.esa.s2tbx.dataio.gdal.GDALVersion: Internal GDAL 3.0.0 set to be used by SNAP.\n",
      "INFO:snap_stdout:Executing processing graph\n",
      "INFO:snap_stderr:stderr:INFO: org.hsqldb.persist.Logger: dataFileCache open start\n",
      "INFO:snap_stdout:....10%....20%....30%....40%....50%....60%....70%....80%....90% done.\n"
     ]
    },
    {
     "name": "stdout",
     "output_type": "stream",
     "text": [
      "/tmp/data/intermediate/NovaSAR_01_12520_slc_200628_095221_HH_tmp/NovaSAR_01_12520_slc_11_200628_095232_HH_4_ML_TC_TF_cog/NovaSAR_01_12520_slc_11_200628_095232_HH_4_Gamma0_Intensity_HH_db.tif\n",
      "2020-11-18 02:53:32 Starting conversion: /tmp/data/intermediate/NovaSAR_01_12520_slc_200628_095221_HH_tmp/NovaSAR_01_12520_slc_11_200628_095232_HH_4_ML_TC_TF.data/Gamma0_Intensity_HH_db.img.\n",
      "2020-11-18 02:53:39 Conversion complete: True.\n"
     ]
    },
    {
     "name": "stderr",
     "output_type": "stream",
     "text": [
      "DEBUG:root:running ['/opt/snap/bin/gpt', '/opt/notebooks/anc/novasar_slc_tf_tc.xml', '-Pinput=/tmp/data/intermediate/NovaSAR_01_12520_slc_200628_095221_HH_tmp/NovaSAR_01_12520_slc_200628_095221_HH/SV229/Image_Products$/NovaSAR_01_12520_slc_200628_095221_HH_/NovaSAR_01_12520_slc_11_200628_095235_HH_5/metadata.xml', '-Poutput=/tmp/data/intermediate/NovaSAR_01_12520_slc_200628_095221_HH_tmp/NovaSAR_01_12520_slc_11_200628_095235_HH_5_ML_TC_TF.dim']\n"
     ]
    },
    {
     "name": "stdout",
     "output_type": "stream",
     "text": [
      "NovaSAR_01_12520_slc_11_200628_095235_HH_5\n",
      "/tmp/data/intermediate/NovaSAR_01_12520_slc_200628_095221_HH_tmp/NovaSAR_01_12520_slc_11_200628_095235_HH_5_ML_TC_TF.data/\n",
      "/tmp/data/intermediate/NovaSAR_01_12520_slc_200628_095221_HH_tmp/NovaSAR_01_12520_slc_11_200628_095235_HH_5_ML_TC_TF_cog/\n"
     ]
    },
    {
     "name": "stderr",
     "output_type": "stream",
     "text": [
      "INFO:snap_stderr:stderr:INFO: org.esa.snap.core.gpf.operators.tooladapter.ToolAdapterIO: Initializing external tool adapters\n",
      "INFO:snap_stderr:stderr:INFO: org.esa.s2tbx.dataio.gdal.GDALVersion: Incompatible GDAL 3.1.4 found on system. Internal GDAL 3.0.0 from distribution will be used.\n",
      "INFO:snap_stderr:stderr:INFO: org.esa.s2tbx.dataio.gdal.GDALVersion: Internal GDAL 3.0.0 set to be used by SNAP.\n",
      "INFO:snap_stderr:stderr:INFO: org.esa.snap.core.util.EngineVersionCheckActivator: Please check regularly for new updates for the best SNAP experience.\n",
      "INFO:snap_stderr:stderr:INFO: org.esa.s2tbx.dataio.gdal.GDALVersion: Internal GDAL 3.0.0 set to be used by SNAP.\n",
      "INFO:snap_stdout:Executing processing graph\n",
      "INFO:snap_stderr:stderr:INFO: org.hsqldb.persist.Logger: dataFileCache open start\n",
      "INFO:snap_stdout:....10%....20%....30%....40%....50%....60%....70%....80%....90% done.\n"
     ]
    },
    {
     "name": "stdout",
     "output_type": "stream",
     "text": [
      "/tmp/data/intermediate/NovaSAR_01_12520_slc_200628_095221_HH_tmp/NovaSAR_01_12520_slc_11_200628_095235_HH_5_ML_TC_TF_cog/NovaSAR_01_12520_slc_11_200628_095235_HH_5_Gamma0_Intensity_HH_db.tif\n",
      "2020-11-18 02:58:52 Starting conversion: /tmp/data/intermediate/NovaSAR_01_12520_slc_200628_095221_HH_tmp/NovaSAR_01_12520_slc_11_200628_095235_HH_5_ML_TC_TF.data/Gamma0_Intensity_HH_db.img.\n",
      "2020-11-18 02:58:59 Conversion complete: True.\n"
     ]
    },
    {
     "name": "stderr",
     "output_type": "stream",
     "text": [
      "DEBUG:root:running ['/opt/snap/bin/gpt', '/opt/notebooks/anc/novasar_slc_tf_tc.xml', '-Pinput=/tmp/data/intermediate/NovaSAR_01_12520_slc_200628_095221_HH_tmp/NovaSAR_01_12520_slc_200628_095221_HH/SV229/Image_Products$/NovaSAR_01_12520_slc_200628_095221_HH_/NovaSAR_01_12520_slc_11_200628_095239_HH_6/metadata.xml', '-Poutput=/tmp/data/intermediate/NovaSAR_01_12520_slc_200628_095221_HH_tmp/NovaSAR_01_12520_slc_11_200628_095239_HH_6_ML_TC_TF.dim']\n"
     ]
    },
    {
     "name": "stdout",
     "output_type": "stream",
     "text": [
      "NovaSAR_01_12520_slc_11_200628_095239_HH_6\n",
      "/tmp/data/intermediate/NovaSAR_01_12520_slc_200628_095221_HH_tmp/NovaSAR_01_12520_slc_11_200628_095239_HH_6_ML_TC_TF.data/\n",
      "/tmp/data/intermediate/NovaSAR_01_12520_slc_200628_095221_HH_tmp/NovaSAR_01_12520_slc_11_200628_095239_HH_6_ML_TC_TF_cog/\n"
     ]
    },
    {
     "name": "stderr",
     "output_type": "stream",
     "text": [
      "INFO:snap_stderr:stderr:INFO: org.esa.snap.core.gpf.operators.tooladapter.ToolAdapterIO: Initializing external tool adapters\n",
      "INFO:snap_stderr:stderr:INFO: org.esa.s2tbx.dataio.gdal.GDALVersion: Incompatible GDAL 3.1.4 found on system. Internal GDAL 3.0.0 from distribution will be used.\n",
      "INFO:snap_stderr:stderr:INFO: org.esa.s2tbx.dataio.gdal.GDALVersion: Internal GDAL 3.0.0 set to be used by SNAP.\n",
      "INFO:snap_stderr:stderr:INFO: org.esa.snap.core.util.EngineVersionCheckActivator: Please check regularly for new updates for the best SNAP experience.\n",
      "INFO:snap_stderr:stderr:INFO: org.esa.s2tbx.dataio.gdal.GDALVersion: Internal GDAL 3.0.0 set to be used by SNAP.\n",
      "INFO:snap_stdout:Executing processing graph\n",
      "INFO:snap_stderr:stderr:INFO: org.hsqldb.persist.Logger: dataFileCache open start\n",
      "INFO:snap_stdout:....10%....20%....30%....40%....50%....60%....70%....80%....90% done.\n"
     ]
    },
    {
     "name": "stdout",
     "output_type": "stream",
     "text": [
      "/tmp/data/intermediate/NovaSAR_01_12520_slc_200628_095221_HH_tmp/NovaSAR_01_12520_slc_11_200628_095239_HH_6_ML_TC_TF_cog/NovaSAR_01_12520_slc_11_200628_095239_HH_6_Gamma0_Intensity_HH_db.tif\n",
      "2020-11-18 03:08:52 Starting conversion: /tmp/data/intermediate/NovaSAR_01_12520_slc_200628_095221_HH_tmp/NovaSAR_01_12520_slc_11_200628_095239_HH_6_ML_TC_TF.data/Gamma0_Intensity_HH_db.img.\n",
      "2020-11-18 03:09:04 Conversion complete: True.\n",
      "2020-11-18 03:10:21 Prepared NovaSAR_01_12520_slc_200628_095221_HH at novasar_uk_test/\n",
      "2020-11-18 03:10:21 Preparing NovaSAR_01_12507_slc_11_200627_225816_HH_3 within /tmp/data/intermediate/NovaSAR_01_12507_slc_11_200627_225816_HH_3_tmp/\n"
     ]
    },
    {
     "name": "stderr",
     "output_type": "stream",
     "text": [
      "DEBUG:sedas_api:successful login.\n",
      "DEBUG:sedas_api:successful login.\n",
      "DEBUG:sedas_api:successful login.\n",
      "DEBUG:sedas_api:successful login.\n",
      "DEBUG:sedas_api:successful login.\n",
      "INFO:bulk_downloader:0 downloads pending, 0 downloads in progress, 0 requests pending\n",
      "INFO:bulk_downloader:2 active threads, 0 restarted.\n"
     ]
    },
    {
     "name": "stdout",
     "output_type": "stream",
     "text": [
      "2020-11-18 03:10:22 Downloading\n"
     ]
    },
    {
     "name": "stderr",
     "output_type": "stream",
     "text": [
      "DEBUG:bulk_downloader:1 downloads pending\n",
      "INFO:bulk_downloader:downloading NovaSAR_01_12507_slc_11_200627_225816_HH_3 to /tmp/data/intermediate/NovaSAR_01_12507_slc_11_200627_225816_HH_3_tmp/NovaSAR_01_12507_slc_11_200627_225816_HH_3.zip\n",
      "DEBUG:bulk_downloader:0 downloads pending\n",
      "DEBUG:sedas_api:successful login.\n",
      "INFO:bulk_downloader:0 downloads pending, 1 downloads in progress, 0 requests pending\n",
      "INFO:bulk_downloader:2 active threads, 0 restarted.\n",
      "INFO:bulk_downloader:0 downloads pending, 1 downloads in progress, 0 requests pending\n",
      "INFO:bulk_downloader:2 active threads, 0 restarted.\n",
      "INFO:bulk_downloader:0 downloads pending, 1 downloads in progress, 0 requests pending\n",
      "INFO:bulk_downloader:2 active threads, 0 restarted.\n",
      "DEBUG:bulk_downloader:0 downloads pending\n",
      "DEBUG:bulk_downloader:monitor thread stopping\n"
     ]
    },
    {
     "name": "stdout",
     "output_type": "stream",
     "text": [
      "2020-11-18 03:10:42 Downloaded\n",
      "2020-11-18 03:10:42 Extracting /tmp/data/intermediate/NovaSAR_01_12507_slc_11_200627_225816_HH_3_tmp/NovaSAR_01_12507_slc_11_200627_225816_HH_3.zip\n"
     ]
    },
    {
     "name": "stderr",
     "output_type": "stream",
     "text": [
      "DEBUG:bulk_downloader:requests thread stopping\n",
      "DEBUG:root:running ['/opt/snap/bin/gpt', '/opt/notebooks/anc/novasar_slc_tf_tc.xml', '-Pinput=/tmp/data/intermediate/NovaSAR_01_12507_slc_11_200627_225816_HH_3_tmp/NovaSAR_01_12507_slc_11_200627_225816_HH_3/NovaSAR_01_12507_slc_11_200627_225816_HH_3/metadata.xml', '-Poutput=/tmp/data/intermediate/NovaSAR_01_12507_slc_11_200627_225816_HH_3_tmp/NovaSAR_01_12507_slc_11_200627_225816_HH_3_ML_TC_TF.dim']\n"
     ]
    },
    {
     "name": "stdout",
     "output_type": "stream",
     "text": [
      "2020-11-18 03:10:55 Extracted to /tmp/data/intermediate/NovaSAR_01_12507_slc_11_200627_225816_HH_3_tmp/NovaSAR_01_12507_slc_11_200627_225816_HH_3/\n",
      "NovaSAR_01_12507_slc_11_200627_225816_HH_3\n",
      "/tmp/data/intermediate/NovaSAR_01_12507_slc_11_200627_225816_HH_3_tmp/NovaSAR_01_12507_slc_11_200627_225816_HH_3_ML_TC_TF.data/\n",
      "/tmp/data/intermediate/NovaSAR_01_12507_slc_11_200627_225816_HH_3_tmp/NovaSAR_01_12507_slc_11_200627_225816_HH_3_ML_TC_TF_cog/\n"
     ]
    },
    {
     "name": "stderr",
     "output_type": "stream",
     "text": [
      "INFO:snap_stderr:stderr:INFO: org.esa.snap.core.gpf.operators.tooladapter.ToolAdapterIO: Initializing external tool adapters\n",
      "INFO:snap_stderr:stderr:INFO: org.esa.s2tbx.dataio.gdal.GDALVersion: Incompatible GDAL 3.1.4 found on system. Internal GDAL 3.0.0 from distribution will be used.\n",
      "INFO:snap_stderr:stderr:INFO: org.esa.s2tbx.dataio.gdal.GDALVersion: Internal GDAL 3.0.0 set to be used by SNAP.\n",
      "INFO:snap_stderr:stderr:INFO: org.esa.snap.core.util.EngineVersionCheckActivator: Please check regularly for new updates for the best SNAP experience.\n",
      "INFO:snap_stderr:stderr:INFO: org.esa.s2tbx.dataio.gdal.GDALVersion: Internal GDAL 3.0.0 set to be used by SNAP.\n",
      "INFO:snap_stdout:Executing processing graph\n",
      "INFO:snap_stderr:stderr:INFO: org.hsqldb.persist.Logger: dataFileCache open start\n",
      "INFO:snap_stdout:....10%....20%....30%....40%....50%....60%....70%....80%....90% done.\n"
     ]
    },
    {
     "name": "stdout",
     "output_type": "stream",
     "text": [
      "/tmp/data/intermediate/NovaSAR_01_12507_slc_11_200627_225816_HH_3_tmp/NovaSAR_01_12507_slc_11_200627_225816_HH_3_ML_TC_TF_cog/NovaSAR_01_12507_slc_11_200627_225816_HH_3_Gamma0_Intensity_HH_db.tif\n",
      "2020-11-18 03:14:08 Starting conversion: /tmp/data/intermediate/NovaSAR_01_12507_slc_11_200627_225816_HH_3_tmp/NovaSAR_01_12507_slc_11_200627_225816_HH_3_ML_TC_TF.data/Gamma0_Intensity_HH_db.img.\n",
      "2020-11-18 03:14:17 Conversion complete: True.\n"
     ]
    },
    {
     "name": "stderr",
     "output_type": "stream",
     "text": [
      "DEBUG:sedas_api:successful login.\n"
     ]
    },
    {
     "name": "stdout",
     "output_type": "stream",
     "text": [
      "2020-11-18 03:15:14 Prepared NovaSAR_01_12507_slc_11_200627_225816_HH_3 at novasar_uk_test/\n",
      "2020-11-18 03:15:14 Preparing NovaSAR_01_12507_slc_11_200627_225813_HH_2 within /tmp/data/intermediate/NovaSAR_01_12507_slc_11_200627_225813_HH_2_tmp/\n"
     ]
    },
    {
     "name": "stderr",
     "output_type": "stream",
     "text": [
      "DEBUG:sedas_api:successful login.\n",
      "DEBUG:sedas_api:successful login.\n",
      "DEBUG:sedas_api:successful login.\n",
      "DEBUG:sedas_api:successful login.\n",
      "INFO:bulk_downloader:0 downloads pending, 0 downloads in progress, 0 requests pending\n",
      "INFO:bulk_downloader:2 active threads, 0 restarted.\n"
     ]
    },
    {
     "name": "stdout",
     "output_type": "stream",
     "text": [
      "2020-11-18 03:15:15 Downloading\n"
     ]
    },
    {
     "name": "stderr",
     "output_type": "stream",
     "text": [
      "DEBUG:bulk_downloader:1 downloads pending\n",
      "DEBUG:bulk_downloader:1 downloads pending\n",
      "INFO:bulk_downloader:downloading NovaSAR_01_12507_slc_11_200627_225813_HH_2 to /tmp/data/intermediate/NovaSAR_01_12507_slc_11_200627_225813_HH_2_tmp/NovaSAR_01_12507_slc_11_200627_225813_HH_2.zip\n",
      "DEBUG:sedas_api:successful login.\n",
      "INFO:bulk_downloader:0 downloads pending, 1 downloads in progress, 0 requests pending\n",
      "INFO:bulk_downloader:2 active threads, 0 restarted.\n",
      "INFO:bulk_downloader:0 downloads pending, 1 downloads in progress, 0 requests pending\n",
      "INFO:bulk_downloader:2 active threads, 0 restarted.\n",
      "DEBUG:bulk_downloader:0 downloads pending\n",
      "DEBUG:bulk_downloader:monitor thread stopping\n"
     ]
    },
    {
     "name": "stdout",
     "output_type": "stream",
     "text": [
      "2020-11-18 03:15:30 Downloaded\n",
      "2020-11-18 03:15:30 Extracting /tmp/data/intermediate/NovaSAR_01_12507_slc_11_200627_225813_HH_2_tmp/NovaSAR_01_12507_slc_11_200627_225813_HH_2.zip\n"
     ]
    },
    {
     "name": "stderr",
     "output_type": "stream",
     "text": [
      "DEBUG:bulk_downloader:requests thread stopping\n",
      "DEBUG:root:running ['/opt/snap/bin/gpt', '/opt/notebooks/anc/novasar_slc_tf_tc.xml', '-Pinput=/tmp/data/intermediate/NovaSAR_01_12507_slc_11_200627_225813_HH_2_tmp/NovaSAR_01_12507_slc_11_200627_225813_HH_2/NovaSAR_01_12507_slc_11_200627_225813_HH_2/metadata.xml', '-Poutput=/tmp/data/intermediate/NovaSAR_01_12507_slc_11_200627_225813_HH_2_tmp/NovaSAR_01_12507_slc_11_200627_225813_HH_2_ML_TC_TF.dim']\n"
     ]
    },
    {
     "name": "stdout",
     "output_type": "stream",
     "text": [
      "2020-11-18 03:15:38 Extracted to /tmp/data/intermediate/NovaSAR_01_12507_slc_11_200627_225813_HH_2_tmp/NovaSAR_01_12507_slc_11_200627_225813_HH_2/\n",
      "NovaSAR_01_12507_slc_11_200627_225813_HH_2\n",
      "/tmp/data/intermediate/NovaSAR_01_12507_slc_11_200627_225813_HH_2_tmp/NovaSAR_01_12507_slc_11_200627_225813_HH_2_ML_TC_TF.data/\n",
      "/tmp/data/intermediate/NovaSAR_01_12507_slc_11_200627_225813_HH_2_tmp/NovaSAR_01_12507_slc_11_200627_225813_HH_2_ML_TC_TF_cog/\n"
     ]
    },
    {
     "name": "stderr",
     "output_type": "stream",
     "text": [
      "INFO:snap_stderr:stderr:INFO: org.esa.snap.core.gpf.operators.tooladapter.ToolAdapterIO: Initializing external tool adapters\n",
      "INFO:snap_stderr:stderr:INFO: org.esa.s2tbx.dataio.gdal.GDALVersion: Incompatible GDAL 3.1.4 found on system. Internal GDAL 3.0.0 from distribution will be used.\n",
      "INFO:snap_stderr:stderr:INFO: org.esa.s2tbx.dataio.gdal.GDALVersion: Internal GDAL 3.0.0 set to be used by SNAP.\n",
      "INFO:snap_stderr:stderr:INFO: org.esa.snap.core.util.EngineVersionCheckActivator: Please check regularly for new updates for the best SNAP experience.\n",
      "INFO:snap_stderr:stderr:INFO: org.esa.s2tbx.dataio.gdal.GDALVersion: Internal GDAL 3.0.0 set to be used by SNAP.\n",
      "INFO:snap_stdout:Executing processing graph\n",
      "INFO:snap_stderr:stderr:INFO: org.hsqldb.persist.Logger: dataFileCache open start\n",
      "INFO:snap_stderr:stderr:INFO: org.esa.snap.core.dataop.dem.ElevationFile: http retrieving http://step.esa.int/auxdata/dem/SRTMGL1/N51E000.SRTMGL1.hgt.zip\n",
      "INFO:snap_stdout:....10%....20%....30%....40%....50%....60%....70%....80%....90% done.\n"
     ]
    },
    {
     "name": "stdout",
     "output_type": "stream",
     "text": [
      "/tmp/data/intermediate/NovaSAR_01_12507_slc_11_200627_225813_HH_2_tmp/NovaSAR_01_12507_slc_11_200627_225813_HH_2_ML_TC_TF_cog/NovaSAR_01_12507_slc_11_200627_225813_HH_2_Gamma0_Intensity_HH_db.tif\n",
      "2020-11-18 03:17:45 Starting conversion: /tmp/data/intermediate/NovaSAR_01_12507_slc_11_200627_225813_HH_2_tmp/NovaSAR_01_12507_slc_11_200627_225813_HH_2_ML_TC_TF.data/Gamma0_Intensity_HH_db.img.\n",
      "2020-11-18 03:17:51 Conversion complete: True.\n"
     ]
    },
    {
     "name": "stderr",
     "output_type": "stream",
     "text": [
      "DEBUG:sedas_api:successful login.\n"
     ]
    },
    {
     "name": "stdout",
     "output_type": "stream",
     "text": [
      "2020-11-18 03:18:24 Prepared NovaSAR_01_12507_slc_11_200627_225813_HH_2 at novasar_uk_test/\n",
      "2020-11-18 03:18:24 Preparing NovaSAR_01_12507_slc_200627_225809_HH within /tmp/data/intermediate/NovaSAR_01_12507_slc_200627_225809_HH_tmp/\n"
     ]
    },
    {
     "name": "stderr",
     "output_type": "stream",
     "text": [
      "DEBUG:sedas_api:successful login.\n",
      "DEBUG:sedas_api:successful login.\n",
      "DEBUG:sedas_api:successful login.\n",
      "DEBUG:sedas_api:successful login.\n",
      "INFO:bulk_downloader:0 downloads pending, 0 downloads in progress, 0 requests pending\n",
      "INFO:bulk_downloader:2 active threads, 0 restarted.\n"
     ]
    },
    {
     "name": "stdout",
     "output_type": "stream",
     "text": [
      "2020-11-18 03:18:25 Downloading\n"
     ]
    },
    {
     "name": "stderr",
     "output_type": "stream",
     "text": [
      "DEBUG:bulk_downloader:1 downloads pending\n",
      "DEBUG:bulk_downloader:1 downloads pending\n",
      "INFO:bulk_downloader:downloading NovaSAR_01_12507_slc_200627_225809_HH to /tmp/data/intermediate/NovaSAR_01_12507_slc_200627_225809_HH_tmp/NovaSAR_01_12507_slc_200627_225809_HH.zip\n",
      "DEBUG:sedas_api:successful login.\n",
      "INFO:bulk_downloader:0 downloads pending, 1 downloads in progress, 0 requests pending\n",
      "INFO:bulk_downloader:2 active threads, 0 restarted.\n",
      "INFO:bulk_downloader:0 downloads pending, 1 downloads in progress, 0 requests pending\n",
      "INFO:bulk_downloader:2 active threads, 0 restarted.\n",
      "INFO:bulk_downloader:0 downloads pending, 1 downloads in progress, 0 requests pending\n",
      "INFO:bulk_downloader:2 active threads, 0 restarted.\n",
      "INFO:bulk_downloader:0 downloads pending, 1 downloads in progress, 0 requests pending\n",
      "INFO:bulk_downloader:2 active threads, 0 restarted.\n",
      "INFO:bulk_downloader:0 downloads pending, 1 downloads in progress, 0 requests pending\n",
      "INFO:bulk_downloader:2 active threads, 0 restarted.\n",
      "INFO:bulk_downloader:0 downloads pending, 1 downloads in progress, 0 requests pending\n",
      "INFO:bulk_downloader:2 active threads, 0 restarted.\n",
      "INFO:bulk_downloader:0 downloads pending, 1 downloads in progress, 0 requests pending\n",
      "INFO:bulk_downloader:2 active threads, 0 restarted.\n",
      "INFO:bulk_downloader:0 downloads pending, 1 downloads in progress, 0 requests pending\n",
      "INFO:bulk_downloader:2 active threads, 0 restarted.\n",
      "DEBUG:bulk_downloader:0 downloads pending\n",
      "DEBUG:bulk_downloader:monitor thread stopping\n"
     ]
    },
    {
     "name": "stdout",
     "output_type": "stream",
     "text": [
      "2020-11-18 03:19:10 Downloaded\n",
      "2020-11-18 03:19:10 Extracting /tmp/data/intermediate/NovaSAR_01_12507_slc_200627_225809_HH_tmp/NovaSAR_01_12507_slc_200627_225809_HH.zip\n"
     ]
    },
    {
     "name": "stderr",
     "output_type": "stream",
     "text": [
      "DEBUG:bulk_downloader:requests thread stopping\n",
      "DEBUG:root:running ['/opt/snap/bin/gpt', '/opt/notebooks/anc/novasar_slc_tf_tc.xml', '-Pinput=/tmp/data/intermediate/NovaSAR_01_12507_slc_200627_225809_HH_tmp/NovaSAR_01_12507_slc_200627_225809_HH/SV229/Image_Products$/NovaSAR_01_12507_slc_200627_225809_HH_/NovaSAR_01_12507_slc_11_200627_225809_HH_1/metadata.xml', '-Poutput=/tmp/data/intermediate/NovaSAR_01_12507_slc_200627_225809_HH_tmp/NovaSAR_01_12507_slc_11_200627_225809_HH_1_ML_TC_TF.dim']\n"
     ]
    },
    {
     "name": "stdout",
     "output_type": "stream",
     "text": [
      "2020-11-18 03:19:38 Extracted to /tmp/data/intermediate/NovaSAR_01_12507_slc_200627_225809_HH_tmp/NovaSAR_01_12507_slc_200627_225809_HH/\n",
      "NovaSAR_01_12507_slc_11_200627_225809_HH_1\n",
      "/tmp/data/intermediate/NovaSAR_01_12507_slc_200627_225809_HH_tmp/NovaSAR_01_12507_slc_11_200627_225809_HH_1_ML_TC_TF.data/\n",
      "/tmp/data/intermediate/NovaSAR_01_12507_slc_200627_225809_HH_tmp/NovaSAR_01_12507_slc_11_200627_225809_HH_1_ML_TC_TF_cog/\n"
     ]
    },
    {
     "name": "stderr",
     "output_type": "stream",
     "text": [
      "INFO:snap_stderr:stderr:INFO: org.esa.snap.core.gpf.operators.tooladapter.ToolAdapterIO: Initializing external tool adapters\n",
      "INFO:snap_stderr:stderr:INFO: org.esa.s2tbx.dataio.gdal.GDALVersion: Incompatible GDAL 3.1.4 found on system. Internal GDAL 3.0.0 from distribution will be used.\n",
      "INFO:snap_stderr:stderr:INFO: org.esa.s2tbx.dataio.gdal.GDALVersion: Internal GDAL 3.0.0 set to be used by SNAP.\n",
      "INFO:snap_stderr:stderr:INFO: org.esa.snap.core.util.EngineVersionCheckActivator: Please check regularly for new updates for the best SNAP experience.\n",
      "INFO:snap_stderr:stderr:INFO: org.esa.s2tbx.dataio.gdal.GDALVersion: Internal GDAL 3.0.0 set to be used by SNAP.\n",
      "INFO:snap_stdout:Executing processing graph\n",
      "INFO:snap_stderr:stderr:INFO: org.hsqldb.persist.Logger: dataFileCache open start\n",
      "INFO:snap_stdout:....10%....20%....30%....40%....50%....60%....70%....80%....90% done.\n"
     ]
    },
    {
     "name": "stdout",
     "output_type": "stream",
     "text": [
      "/tmp/data/intermediate/NovaSAR_01_12507_slc_200627_225809_HH_tmp/NovaSAR_01_12507_slc_11_200627_225809_HH_1_ML_TC_TF_cog/NovaSAR_01_12507_slc_11_200627_225809_HH_1_Gamma0_Intensity_HH_db.tif\n",
      "2020-11-18 03:21:48 Starting conversion: /tmp/data/intermediate/NovaSAR_01_12507_slc_200627_225809_HH_tmp/NovaSAR_01_12507_slc_11_200627_225809_HH_1_ML_TC_TF.data/Gamma0_Intensity_HH_db.img.\n",
      "2020-11-18 03:21:54 Conversion complete: True.\n"
     ]
    },
    {
     "name": "stderr",
     "output_type": "stream",
     "text": [
      "DEBUG:root:running ['/opt/snap/bin/gpt', '/opt/notebooks/anc/novasar_slc_tf_tc.xml', '-Pinput=/tmp/data/intermediate/NovaSAR_01_12507_slc_200627_225809_HH_tmp/NovaSAR_01_12507_slc_200627_225809_HH/SV229/Image_Products$/NovaSAR_01_12507_slc_200627_225809_HH_/NovaSAR_01_12507_slc_11_200627_225813_HH_2/metadata.xml', '-Poutput=/tmp/data/intermediate/NovaSAR_01_12507_slc_200627_225809_HH_tmp/NovaSAR_01_12507_slc_11_200627_225813_HH_2_ML_TC_TF.dim']\n"
     ]
    },
    {
     "name": "stdout",
     "output_type": "stream",
     "text": [
      "NovaSAR_01_12507_slc_11_200627_225813_HH_2\n",
      "/tmp/data/intermediate/NovaSAR_01_12507_slc_200627_225809_HH_tmp/NovaSAR_01_12507_slc_11_200627_225813_HH_2_ML_TC_TF.data/\n",
      "/tmp/data/intermediate/NovaSAR_01_12507_slc_200627_225809_HH_tmp/NovaSAR_01_12507_slc_11_200627_225813_HH_2_ML_TC_TF_cog/\n"
     ]
    },
    {
     "name": "stderr",
     "output_type": "stream",
     "text": [
      "INFO:snap_stderr:stderr:INFO: org.esa.snap.core.gpf.operators.tooladapter.ToolAdapterIO: Initializing external tool adapters\n",
      "INFO:snap_stderr:stderr:INFO: org.esa.s2tbx.dataio.gdal.GDALVersion: Incompatible GDAL 3.1.4 found on system. Internal GDAL 3.0.0 from distribution will be used.\n",
      "INFO:snap_stderr:stderr:INFO: org.esa.s2tbx.dataio.gdal.GDALVersion: Internal GDAL 3.0.0 set to be used by SNAP.\n",
      "INFO:snap_stderr:stderr:INFO: org.esa.snap.core.util.EngineVersionCheckActivator: Please check regularly for new updates for the best SNAP experience.\n",
      "INFO:snap_stderr:stderr:INFO: org.esa.s2tbx.dataio.gdal.GDALVersion: Internal GDAL 3.0.0 set to be used by SNAP.\n",
      "INFO:snap_stdout:Executing processing graph\n",
      "INFO:snap_stderr:stderr:INFO: org.hsqldb.persist.Logger: dataFileCache open start\n",
      "INFO:snap_stdout:....10%....20%....30%....40%....50%....60%....70%....80%....90% done.\n"
     ]
    },
    {
     "name": "stdout",
     "output_type": "stream",
     "text": [
      "/tmp/data/intermediate/NovaSAR_01_12507_slc_200627_225809_HH_tmp/NovaSAR_01_12507_slc_11_200627_225813_HH_2_ML_TC_TF_cog/NovaSAR_01_12507_slc_11_200627_225813_HH_2_Gamma0_Intensity_HH_db.tif\n",
      "2020-11-18 03:24:34 Starting conversion: /tmp/data/intermediate/NovaSAR_01_12507_slc_200627_225809_HH_tmp/NovaSAR_01_12507_slc_11_200627_225813_HH_2_ML_TC_TF.data/Gamma0_Intensity_HH_db.img.\n",
      "2020-11-18 03:24:40 Conversion complete: True.\n"
     ]
    },
    {
     "name": "stderr",
     "output_type": "stream",
     "text": [
      "DEBUG:root:running ['/opt/snap/bin/gpt', '/opt/notebooks/anc/novasar_slc_tf_tc.xml', '-Pinput=/tmp/data/intermediate/NovaSAR_01_12507_slc_200627_225809_HH_tmp/NovaSAR_01_12507_slc_200627_225809_HH/SV229/Image_Products$/NovaSAR_01_12507_slc_200627_225809_HH_/NovaSAR_01_12507_slc_11_200627_225816_HH_3/metadata.xml', '-Poutput=/tmp/data/intermediate/NovaSAR_01_12507_slc_200627_225809_HH_tmp/NovaSAR_01_12507_slc_11_200627_225816_HH_3_ML_TC_TF.dim']\n"
     ]
    },
    {
     "name": "stdout",
     "output_type": "stream",
     "text": [
      "NovaSAR_01_12507_slc_11_200627_225816_HH_3\n",
      "/tmp/data/intermediate/NovaSAR_01_12507_slc_200627_225809_HH_tmp/NovaSAR_01_12507_slc_11_200627_225816_HH_3_ML_TC_TF.data/\n",
      "/tmp/data/intermediate/NovaSAR_01_12507_slc_200627_225809_HH_tmp/NovaSAR_01_12507_slc_11_200627_225816_HH_3_ML_TC_TF_cog/\n"
     ]
    },
    {
     "name": "stderr",
     "output_type": "stream",
     "text": [
      "INFO:snap_stderr:stderr:INFO: org.esa.snap.core.gpf.operators.tooladapter.ToolAdapterIO: Initializing external tool adapters\n",
      "INFO:snap_stderr:stderr:INFO: org.esa.s2tbx.dataio.gdal.GDALVersion: Incompatible GDAL 3.1.4 found on system. Internal GDAL 3.0.0 from distribution will be used.\n",
      "INFO:snap_stderr:stderr:INFO: org.esa.s2tbx.dataio.gdal.GDALVersion: Internal GDAL 3.0.0 set to be used by SNAP.\n",
      "INFO:snap_stderr:stderr:INFO: org.esa.snap.core.util.EngineVersionCheckActivator: Please check regularly for new updates for the best SNAP experience.\n",
      "INFO:snap_stderr:stderr:INFO: org.esa.s2tbx.dataio.gdal.GDALVersion: Internal GDAL 3.0.0 set to be used by SNAP.\n",
      "INFO:snap_stdout:Executing processing graph\n",
      "INFO:snap_stderr:stderr:INFO: org.hsqldb.persist.Logger: dataFileCache open start\n",
      "INFO:snap_stdout:....10%....20%....30%....40%....50%....60%....70%....80%....90% done.\n"
     ]
    },
    {
     "name": "stdout",
     "output_type": "stream",
     "text": [
      "/tmp/data/intermediate/NovaSAR_01_12507_slc_200627_225809_HH_tmp/NovaSAR_01_12507_slc_11_200627_225816_HH_3_ML_TC_TF_cog/NovaSAR_01_12507_slc_11_200627_225816_HH_3_Gamma0_Intensity_HH_db.tif\n",
      "2020-11-18 03:28:27 Starting conversion: /tmp/data/intermediate/NovaSAR_01_12507_slc_200627_225809_HH_tmp/NovaSAR_01_12507_slc_11_200627_225816_HH_3_ML_TC_TF.data/Gamma0_Intensity_HH_db.img.\n",
      "2020-11-18 03:28:36 Conversion complete: True.\n",
      "2020-11-18 03:29:33 Prepared NovaSAR_01_12507_slc_200627_225809_HH at novasar_uk_test/\n",
      "2020-11-18 03:29:33 Preparing NovaSAR_01_12507_slc_11_200627_225809_HH_1 within /tmp/data/intermediate/NovaSAR_01_12507_slc_11_200627_225809_HH_1_tmp/\n"
     ]
    },
    {
     "name": "stderr",
     "output_type": "stream",
     "text": [
      "DEBUG:sedas_api:successful login.\n",
      "DEBUG:sedas_api:successful login.\n",
      "DEBUG:sedas_api:successful login.\n",
      "DEBUG:sedas_api:successful login.\n",
      "DEBUG:sedas_api:successful login.\n",
      "INFO:bulk_downloader:0 downloads pending, 0 downloads in progress, 0 requests pending\n",
      "INFO:bulk_downloader:2 active threads, 0 restarted.\n"
     ]
    },
    {
     "name": "stdout",
     "output_type": "stream",
     "text": [
      "2020-11-18 03:29:34 Downloading\n"
     ]
    },
    {
     "name": "stderr",
     "output_type": "stream",
     "text": [
      "DEBUG:bulk_downloader:1 downloads pending\n",
      "INFO:bulk_downloader:downloading NovaSAR_01_12507_slc_11_200627_225809_HH_1 to /tmp/data/intermediate/NovaSAR_01_12507_slc_11_200627_225809_HH_1_tmp/NovaSAR_01_12507_slc_11_200627_225809_HH_1.zip\n",
      "DEBUG:bulk_downloader:0 downloads pending\n",
      "DEBUG:sedas_api:successful login.\n",
      "INFO:bulk_downloader:0 downloads pending, 1 downloads in progress, 0 requests pending\n",
      "INFO:bulk_downloader:2 active threads, 0 restarted.\n",
      "INFO:bulk_downloader:0 downloads pending, 1 downloads in progress, 0 requests pending\n",
      "INFO:bulk_downloader:2 active threads, 0 restarted.\n",
      "DEBUG:bulk_downloader:0 downloads pending\n",
      "DEBUG:bulk_downloader:monitor thread stopping\n"
     ]
    },
    {
     "name": "stdout",
     "output_type": "stream",
     "text": [
      "2020-11-18 03:29:49 Downloaded\n",
      "2020-11-18 03:29:49 Extracting /tmp/data/intermediate/NovaSAR_01_12507_slc_11_200627_225809_HH_1_tmp/NovaSAR_01_12507_slc_11_200627_225809_HH_1.zip\n"
     ]
    },
    {
     "name": "stderr",
     "output_type": "stream",
     "text": [
      "DEBUG:bulk_downloader:requests thread stopping\n",
      "DEBUG:root:running ['/opt/snap/bin/gpt', '/opt/notebooks/anc/novasar_slc_tf_tc.xml', '-Pinput=/tmp/data/intermediate/NovaSAR_01_12507_slc_11_200627_225809_HH_1_tmp/NovaSAR_01_12507_slc_11_200627_225809_HH_1/NovaSAR_01_12507_slc_11_200627_225809_HH_1/metadata.xml', '-Poutput=/tmp/data/intermediate/NovaSAR_01_12507_slc_11_200627_225809_HH_1_tmp/NovaSAR_01_12507_slc_11_200627_225809_HH_1_ML_TC_TF.dim']\n"
     ]
    },
    {
     "name": "stdout",
     "output_type": "stream",
     "text": [
      "2020-11-18 03:29:57 Extracted to /tmp/data/intermediate/NovaSAR_01_12507_slc_11_200627_225809_HH_1_tmp/NovaSAR_01_12507_slc_11_200627_225809_HH_1/\n",
      "NovaSAR_01_12507_slc_11_200627_225809_HH_1\n",
      "/tmp/data/intermediate/NovaSAR_01_12507_slc_11_200627_225809_HH_1_tmp/NovaSAR_01_12507_slc_11_200627_225809_HH_1_ML_TC_TF.data/\n",
      "/tmp/data/intermediate/NovaSAR_01_12507_slc_11_200627_225809_HH_1_tmp/NovaSAR_01_12507_slc_11_200627_225809_HH_1_ML_TC_TF_cog/\n"
     ]
    },
    {
     "name": "stderr",
     "output_type": "stream",
     "text": [
      "INFO:snap_stderr:stderr:INFO: org.esa.snap.core.gpf.operators.tooladapter.ToolAdapterIO: Initializing external tool adapters\n",
      "INFO:snap_stderr:stderr:INFO: org.esa.s2tbx.dataio.gdal.GDALVersion: Incompatible GDAL 3.1.4 found on system. Internal GDAL 3.0.0 from distribution will be used.\n",
      "INFO:snap_stderr:stderr:INFO: org.esa.s2tbx.dataio.gdal.GDALVersion: Internal GDAL 3.0.0 set to be used by SNAP.\n",
      "INFO:snap_stderr:stderr:INFO: org.esa.snap.core.util.EngineVersionCheckActivator: Please check regularly for new updates for the best SNAP experience.\n",
      "INFO:snap_stderr:stderr:INFO: org.esa.s2tbx.dataio.gdal.GDALVersion: Internal GDAL 3.0.0 set to be used by SNAP.\n",
      "INFO:snap_stdout:Executing processing graph\n",
      "INFO:snap_stderr:stderr:INFO: org.hsqldb.persist.Logger: dataFileCache open start\n",
      "INFO:snap_stdout:....10%....20%....30%....40%....50%....60%....70%....80%....90% done.\n"
     ]
    },
    {
     "name": "stdout",
     "output_type": "stream",
     "text": [
      "/tmp/data/intermediate/NovaSAR_01_12507_slc_11_200627_225809_HH_1_tmp/NovaSAR_01_12507_slc_11_200627_225809_HH_1_ML_TC_TF_cog/NovaSAR_01_12507_slc_11_200627_225809_HH_1_Gamma0_Intensity_HH_db.tif\n",
      "2020-11-18 03:32:07 Starting conversion: /tmp/data/intermediate/NovaSAR_01_12507_slc_11_200627_225809_HH_1_tmp/NovaSAR_01_12507_slc_11_200627_225809_HH_1_ML_TC_TF.data/Gamma0_Intensity_HH_db.img.\n",
      "2020-11-18 03:32:12 Conversion complete: True.\n"
     ]
    },
    {
     "name": "stderr",
     "output_type": "stream",
     "text": [
      "DEBUG:sedas_api:successful login.\n"
     ]
    },
    {
     "name": "stdout",
     "output_type": "stream",
     "text": [
      "2020-11-18 03:32:48 Prepared NovaSAR_01_12507_slc_11_200627_225809_HH_1 at novasar_uk_test/\n",
      "2020-11-18 03:32:48 Preparing NovaSAR_01_12478_slc_11_200626_225234_HH_2 within /tmp/data/intermediate/NovaSAR_01_12478_slc_11_200626_225234_HH_2_tmp/\n"
     ]
    },
    {
     "name": "stderr",
     "output_type": "stream",
     "text": [
      "DEBUG:sedas_api:successful login.\n",
      "DEBUG:sedas_api:successful login.\n",
      "DEBUG:sedas_api:successful login.\n",
      "DEBUG:sedas_api:successful login.\n",
      "INFO:bulk_downloader:0 downloads pending, 0 downloads in progress, 0 requests pending\n",
      "INFO:bulk_downloader:2 active threads, 0 restarted.\n"
     ]
    },
    {
     "name": "stdout",
     "output_type": "stream",
     "text": [
      "2020-11-18 03:32:49 Downloading\n"
     ]
    },
    {
     "name": "stderr",
     "output_type": "stream",
     "text": [
      "DEBUG:bulk_downloader:1 downloads pending\n",
      "DEBUG:bulk_downloader:1 downloads pending\n",
      "INFO:bulk_downloader:downloading NovaSAR_01_12478_slc_11_200626_225234_HH_2 to /tmp/data/intermediate/NovaSAR_01_12478_slc_11_200626_225234_HH_2_tmp/NovaSAR_01_12478_slc_11_200626_225234_HH_2.zip\n",
      "DEBUG:sedas_api:successful login.\n",
      "INFO:bulk_downloader:0 downloads pending, 1 downloads in progress, 0 requests pending\n",
      "INFO:bulk_downloader:2 active threads, 0 restarted.\n",
      "INFO:bulk_downloader:0 downloads pending, 1 downloads in progress, 0 requests pending\n",
      "INFO:bulk_downloader:2 active threads, 0 restarted.\n",
      "INFO:bulk_downloader:0 downloads pending, 1 downloads in progress, 0 requests pending\n",
      "INFO:bulk_downloader:2 active threads, 0 restarted.\n",
      "INFO:bulk_downloader:0 downloads pending, 1 downloads in progress, 0 requests pending\n",
      "INFO:bulk_downloader:2 active threads, 0 restarted.\n",
      "DEBUG:bulk_downloader:0 downloads pending\n",
      "DEBUG:bulk_downloader:monitor thread stopping\n"
     ]
    },
    {
     "name": "stdout",
     "output_type": "stream",
     "text": [
      "2020-11-18 03:33:14 Downloaded\n",
      "2020-11-18 03:33:14 Extracting /tmp/data/intermediate/NovaSAR_01_12478_slc_11_200626_225234_HH_2_tmp/NovaSAR_01_12478_slc_11_200626_225234_HH_2.zip\n"
     ]
    },
    {
     "name": "stderr",
     "output_type": "stream",
     "text": [
      "DEBUG:bulk_downloader:requests thread stopping\n",
      "DEBUG:root:running ['/opt/snap/bin/gpt', '/opt/notebooks/anc/novasar_slc_tf_tc.xml', '-Pinput=/tmp/data/intermediate/NovaSAR_01_12478_slc_11_200626_225234_HH_2_tmp/NovaSAR_01_12478_slc_11_200626_225234_HH_2/NovaSAR_01_12478_slc_11_200626_225234_HH_2/metadata.xml', '-Poutput=/tmp/data/intermediate/NovaSAR_01_12478_slc_11_200626_225234_HH_2_tmp/NovaSAR_01_12478_slc_11_200626_225234_HH_2_ML_TC_TF.dim']\n"
     ]
    },
    {
     "name": "stdout",
     "output_type": "stream",
     "text": [
      "2020-11-18 03:33:28 Extracted to /tmp/data/intermediate/NovaSAR_01_12478_slc_11_200626_225234_HH_2_tmp/NovaSAR_01_12478_slc_11_200626_225234_HH_2/\n",
      "NovaSAR_01_12478_slc_11_200626_225234_HH_2\n",
      "/tmp/data/intermediate/NovaSAR_01_12478_slc_11_200626_225234_HH_2_tmp/NovaSAR_01_12478_slc_11_200626_225234_HH_2_ML_TC_TF.data/\n",
      "/tmp/data/intermediate/NovaSAR_01_12478_slc_11_200626_225234_HH_2_tmp/NovaSAR_01_12478_slc_11_200626_225234_HH_2_ML_TC_TF_cog/\n"
     ]
    },
    {
     "name": "stderr",
     "output_type": "stream",
     "text": [
      "INFO:snap_stderr:stderr:INFO: org.esa.snap.core.gpf.operators.tooladapter.ToolAdapterIO: Initializing external tool adapters\n",
      "INFO:snap_stderr:stderr:INFO: org.esa.s2tbx.dataio.gdal.GDALVersion: Incompatible GDAL 3.1.4 found on system. Internal GDAL 3.0.0 from distribution will be used.\n",
      "INFO:snap_stderr:stderr:INFO: org.esa.s2tbx.dataio.gdal.GDALVersion: Internal GDAL 3.0.0 set to be used by SNAP.\n",
      "INFO:snap_stderr:stderr:INFO: org.esa.snap.core.util.EngineVersionCheckActivator: Please check regularly for new updates for the best SNAP experience.\n",
      "INFO:snap_stderr:stderr:INFO: org.esa.s2tbx.dataio.gdal.GDALVersion: Internal GDAL 3.0.0 set to be used by SNAP.\n",
      "INFO:snap_stdout:Executing processing graph\n",
      "INFO:snap_stderr:stderr:INFO: org.hsqldb.persist.Logger: dataFileCache open start\n",
      "INFO:snap_stdout:....10%....20%....30%....40%....50%....60%....70%....80%....90% done.\n"
     ]
    },
    {
     "name": "stdout",
     "output_type": "stream",
     "text": [
      "/tmp/data/intermediate/NovaSAR_01_12478_slc_11_200626_225234_HH_2_tmp/NovaSAR_01_12478_slc_11_200626_225234_HH_2_ML_TC_TF_cog/NovaSAR_01_12478_slc_11_200626_225234_HH_2_Gamma0_Intensity_HH_db.tif\n",
      "2020-11-18 03:37:52 Starting conversion: /tmp/data/intermediate/NovaSAR_01_12478_slc_11_200626_225234_HH_2_tmp/NovaSAR_01_12478_slc_11_200626_225234_HH_2_ML_TC_TF.data/Gamma0_Intensity_HH_db.img.\n",
      "2020-11-18 03:38:01 Conversion complete: True.\n"
     ]
    },
    {
     "name": "stderr",
     "output_type": "stream",
     "text": [
      "DEBUG:sedas_api:successful login.\n"
     ]
    },
    {
     "name": "stdout",
     "output_type": "stream",
     "text": [
      "2020-11-18 03:38:56 Prepared NovaSAR_01_12478_slc_11_200626_225234_HH_2 at novasar_uk_test/\n",
      "2020-11-18 03:38:56 Preparing NovaSAR_01_12478_slc_11_200626_225229_HH_1 within /tmp/data/intermediate/NovaSAR_01_12478_slc_11_200626_225229_HH_1_tmp/\n"
     ]
    },
    {
     "name": "stderr",
     "output_type": "stream",
     "text": [
      "DEBUG:sedas_api:successful login.\n",
      "DEBUG:sedas_api:successful login.\n",
      "DEBUG:sedas_api:successful login.\n",
      "DEBUG:sedas_api:successful login.\n",
      "INFO:bulk_downloader:0 downloads pending, 0 downloads in progress, 0 requests pending\n",
      "INFO:bulk_downloader:2 active threads, 0 restarted.\n"
     ]
    },
    {
     "name": "stdout",
     "output_type": "stream",
     "text": [
      "2020-11-18 03:38:57 Downloading\n"
     ]
    },
    {
     "name": "stderr",
     "output_type": "stream",
     "text": [
      "DEBUG:bulk_downloader:1 downloads pending\n",
      "DEBUG:bulk_downloader:1 downloads pending\n",
      "INFO:bulk_downloader:downloading NovaSAR_01_12478_slc_11_200626_225229_HH_1 to /tmp/data/intermediate/NovaSAR_01_12478_slc_11_200626_225229_HH_1_tmp/NovaSAR_01_12478_slc_11_200626_225229_HH_1.zip\n",
      "DEBUG:sedas_api:successful login.\n",
      "INFO:bulk_downloader:0 downloads pending, 1 downloads in progress, 0 requests pending\n",
      "INFO:bulk_downloader:2 active threads, 0 restarted.\n",
      "INFO:bulk_downloader:0 downloads pending, 1 downloads in progress, 0 requests pending\n",
      "INFO:bulk_downloader:2 active threads, 0 restarted.\n",
      "INFO:bulk_downloader:0 downloads pending, 1 downloads in progress, 0 requests pending\n",
      "INFO:bulk_downloader:2 active threads, 0 restarted.\n",
      "DEBUG:bulk_downloader:monitor thread stopping\n"
     ]
    },
    {
     "name": "stdout",
     "output_type": "stream",
     "text": [
      "2020-11-18 03:39:17 Downloaded\n",
      "2020-11-18 03:39:17 Extracting /tmp/data/intermediate/NovaSAR_01_12478_slc_11_200626_225229_HH_1_tmp/NovaSAR_01_12478_slc_11_200626_225229_HH_1.zip\n"
     ]
    },
    {
     "name": "stderr",
     "output_type": "stream",
     "text": [
      "DEBUG:bulk_downloader:0 downloads pending\n",
      "DEBUG:bulk_downloader:requests thread stopping\n",
      "DEBUG:root:running ['/opt/snap/bin/gpt', '/opt/notebooks/anc/novasar_slc_tf_tc.xml', '-Pinput=/tmp/data/intermediate/NovaSAR_01_12478_slc_11_200626_225229_HH_1_tmp/NovaSAR_01_12478_slc_11_200626_225229_HH_1/NovaSAR_01_12478_slc_11_200626_225229_HH_1/metadata.xml', '-Poutput=/tmp/data/intermediate/NovaSAR_01_12478_slc_11_200626_225229_HH_1_tmp/NovaSAR_01_12478_slc_11_200626_225229_HH_1_ML_TC_TF.dim']\n"
     ]
    },
    {
     "name": "stdout",
     "output_type": "stream",
     "text": [
      "2020-11-18 03:39:30 Extracted to /tmp/data/intermediate/NovaSAR_01_12478_slc_11_200626_225229_HH_1_tmp/NovaSAR_01_12478_slc_11_200626_225229_HH_1/\n",
      "NovaSAR_01_12478_slc_11_200626_225229_HH_1\n",
      "/tmp/data/intermediate/NovaSAR_01_12478_slc_11_200626_225229_HH_1_tmp/NovaSAR_01_12478_slc_11_200626_225229_HH_1_ML_TC_TF.data/\n",
      "/tmp/data/intermediate/NovaSAR_01_12478_slc_11_200626_225229_HH_1_tmp/NovaSAR_01_12478_slc_11_200626_225229_HH_1_ML_TC_TF_cog/\n"
     ]
    },
    {
     "name": "stderr",
     "output_type": "stream",
     "text": [
      "INFO:snap_stderr:stderr:INFO: org.esa.snap.core.gpf.operators.tooladapter.ToolAdapterIO: Initializing external tool adapters\n",
      "INFO:snap_stderr:stderr:INFO: org.esa.s2tbx.dataio.gdal.GDALVersion: Incompatible GDAL 3.1.4 found on system. Internal GDAL 3.0.0 from distribution will be used.\n",
      "INFO:snap_stderr:stderr:INFO: org.esa.s2tbx.dataio.gdal.GDALVersion: Internal GDAL 3.0.0 set to be used by SNAP.\n",
      "INFO:snap_stderr:stderr:INFO: org.esa.snap.core.util.EngineVersionCheckActivator: Please check regularly for new updates for the best SNAP experience.\n",
      "INFO:snap_stderr:stderr:INFO: org.esa.s2tbx.dataio.gdal.GDALVersion: Internal GDAL 3.0.0 set to be used by SNAP.\n",
      "INFO:snap_stdout:Executing processing graph\n",
      "INFO:snap_stderr:stderr:INFO: org.hsqldb.persist.Logger: dataFileCache open start\n",
      "INFO:snap_stdout:....10%....20%....30%....40%....50%....60%....70%....80%....90% done.\n"
     ]
    },
    {
     "name": "stdout",
     "output_type": "stream",
     "text": [
      "/tmp/data/intermediate/NovaSAR_01_12478_slc_11_200626_225229_HH_1_tmp/NovaSAR_01_12478_slc_11_200626_225229_HH_1_ML_TC_TF_cog/NovaSAR_01_12478_slc_11_200626_225229_HH_1_Gamma0_Intensity_HH_db.tif\n",
      "2020-11-18 03:43:23 Starting conversion: /tmp/data/intermediate/NovaSAR_01_12478_slc_11_200626_225229_HH_1_tmp/NovaSAR_01_12478_slc_11_200626_225229_HH_1_ML_TC_TF.data/Gamma0_Intensity_HH_db.img.\n",
      "2020-11-18 03:43:35 Conversion complete: True.\n"
     ]
    },
    {
     "name": "stderr",
     "output_type": "stream",
     "text": [
      "DEBUG:sedas_api:successful login.\n"
     ]
    },
    {
     "name": "stdout",
     "output_type": "stream",
     "text": [
      "2020-11-18 03:44:24 Prepared NovaSAR_01_12478_slc_11_200626_225229_HH_1 at novasar_uk_test/\n",
      "2020-11-18 03:44:24 Preparing NovaSAR_01_12478_slc_200626_225229_HH within /tmp/data/intermediate/NovaSAR_01_12478_slc_200626_225229_HH_tmp/\n"
     ]
    },
    {
     "name": "stderr",
     "output_type": "stream",
     "text": [
      "DEBUG:sedas_api:successful login.\n",
      "DEBUG:sedas_api:successful login.\n",
      "DEBUG:sedas_api:successful login.\n",
      "DEBUG:sedas_api:successful login.\n",
      "INFO:bulk_downloader:0 downloads pending, 0 downloads in progress, 0 requests pending\n",
      "INFO:bulk_downloader:2 active threads, 0 restarted.\n"
     ]
    },
    {
     "name": "stdout",
     "output_type": "stream",
     "text": [
      "2020-11-18 03:44:25 Downloading\n"
     ]
    },
    {
     "name": "stderr",
     "output_type": "stream",
     "text": [
      "DEBUG:bulk_downloader:1 downloads pending\n",
      "DEBUG:bulk_downloader:1 downloads pending\n",
      "INFO:bulk_downloader:downloading NovaSAR_01_12478_slc_200626_225229_HH to /tmp/data/intermediate/NovaSAR_01_12478_slc_200626_225229_HH_tmp/NovaSAR_01_12478_slc_200626_225229_HH.zip\n",
      "DEBUG:sedas_api:successful login.\n",
      "INFO:bulk_downloader:0 downloads pending, 1 downloads in progress, 0 requests pending\n",
      "INFO:bulk_downloader:2 active threads, 0 restarted.\n",
      "INFO:bulk_downloader:0 downloads pending, 1 downloads in progress, 0 requests pending\n",
      "INFO:bulk_downloader:2 active threads, 0 restarted.\n",
      "INFO:bulk_downloader:0 downloads pending, 1 downloads in progress, 0 requests pending\n",
      "INFO:bulk_downloader:2 active threads, 0 restarted.\n",
      "INFO:bulk_downloader:0 downloads pending, 1 downloads in progress, 0 requests pending\n",
      "INFO:bulk_downloader:2 active threads, 0 restarted.\n",
      "INFO:bulk_downloader:0 downloads pending, 1 downloads in progress, 0 requests pending\n",
      "INFO:bulk_downloader:2 active threads, 0 restarted.\n",
      "INFO:bulk_downloader:0 downloads pending, 1 downloads in progress, 0 requests pending\n",
      "INFO:bulk_downloader:2 active threads, 0 restarted.\n",
      "INFO:bulk_downloader:0 downloads pending, 1 downloads in progress, 0 requests pending\n",
      "INFO:bulk_downloader:2 active threads, 0 restarted.\n",
      "DEBUG:bulk_downloader:0 downloads pending\n",
      "DEBUG:bulk_downloader:monitor thread stopping\n"
     ]
    },
    {
     "name": "stdout",
     "output_type": "stream",
     "text": [
      "2020-11-18 03:45:05 Downloaded\n",
      "2020-11-18 03:45:05 Extracting /tmp/data/intermediate/NovaSAR_01_12478_slc_200626_225229_HH_tmp/NovaSAR_01_12478_slc_200626_225229_HH.zip\n"
     ]
    },
    {
     "name": "stderr",
     "output_type": "stream",
     "text": [
      "DEBUG:bulk_downloader:requests thread stopping\n",
      "DEBUG:root:running ['/opt/snap/bin/gpt', '/opt/notebooks/anc/novasar_slc_tf_tc.xml', '-Pinput=/tmp/data/intermediate/NovaSAR_01_12478_slc_200626_225229_HH_tmp/NovaSAR_01_12478_slc_200626_225229_HH/SV229/Image_Products$/NovaSAR_01_12478_slc_200626_225229_HH_/NovaSAR_01_12478_slc_11_200626_225229_HH_1/metadata.xml', '-Poutput=/tmp/data/intermediate/NovaSAR_01_12478_slc_200626_225229_HH_tmp/NovaSAR_01_12478_slc_11_200626_225229_HH_1_ML_TC_TF.dim']\n"
     ]
    },
    {
     "name": "stdout",
     "output_type": "stream",
     "text": [
      "2020-11-18 03:45:32 Extracted to /tmp/data/intermediate/NovaSAR_01_12478_slc_200626_225229_HH_tmp/NovaSAR_01_12478_slc_200626_225229_HH/\n",
      "NovaSAR_01_12478_slc_11_200626_225229_HH_1\n",
      "/tmp/data/intermediate/NovaSAR_01_12478_slc_200626_225229_HH_tmp/NovaSAR_01_12478_slc_11_200626_225229_HH_1_ML_TC_TF.data/\n",
      "/tmp/data/intermediate/NovaSAR_01_12478_slc_200626_225229_HH_tmp/NovaSAR_01_12478_slc_11_200626_225229_HH_1_ML_TC_TF_cog/\n"
     ]
    },
    {
     "name": "stderr",
     "output_type": "stream",
     "text": [
      "INFO:snap_stderr:stderr:INFO: org.esa.snap.core.gpf.operators.tooladapter.ToolAdapterIO: Initializing external tool adapters\n",
      "INFO:snap_stderr:stderr:INFO: org.esa.s2tbx.dataio.gdal.GDALVersion: Incompatible GDAL 3.1.4 found on system. Internal GDAL 3.0.0 from distribution will be used.\n",
      "INFO:snap_stderr:stderr:INFO: org.esa.s2tbx.dataio.gdal.GDALVersion: Internal GDAL 3.0.0 set to be used by SNAP.\n",
      "INFO:snap_stderr:stderr:INFO: org.esa.snap.core.util.EngineVersionCheckActivator: Please check regularly for new updates for the best SNAP experience.\n",
      "INFO:snap_stderr:stderr:INFO: org.esa.s2tbx.dataio.gdal.GDALVersion: Internal GDAL 3.0.0 set to be used by SNAP.\n",
      "INFO:snap_stdout:Executing processing graph\n",
      "INFO:snap_stderr:stderr:INFO: org.hsqldb.persist.Logger: dataFileCache open start\n",
      "INFO:snap_stdout:....10%....20%....30%....40%....50%....60%....70%....80%....90% done.\n"
     ]
    },
    {
     "name": "stdout",
     "output_type": "stream",
     "text": [
      "/tmp/data/intermediate/NovaSAR_01_12478_slc_200626_225229_HH_tmp/NovaSAR_01_12478_slc_11_200626_225229_HH_1_ML_TC_TF_cog/NovaSAR_01_12478_slc_11_200626_225229_HH_1_Gamma0_Intensity_HH_db.tif\n",
      "2020-11-18 03:49:37 Starting conversion: /tmp/data/intermediate/NovaSAR_01_12478_slc_200626_225229_HH_tmp/NovaSAR_01_12478_slc_11_200626_225229_HH_1_ML_TC_TF.data/Gamma0_Intensity_HH_db.img.\n",
      "2020-11-18 03:49:45 Conversion complete: True.\n"
     ]
    },
    {
     "name": "stderr",
     "output_type": "stream",
     "text": [
      "DEBUG:root:running ['/opt/snap/bin/gpt', '/opt/notebooks/anc/novasar_slc_tf_tc.xml', '-Pinput=/tmp/data/intermediate/NovaSAR_01_12478_slc_200626_225229_HH_tmp/NovaSAR_01_12478_slc_200626_225229_HH/SV229/Image_Products$/NovaSAR_01_12478_slc_200626_225229_HH_/NovaSAR_01_12478_slc_11_200626_225234_HH_2/metadata.xml', '-Poutput=/tmp/data/intermediate/NovaSAR_01_12478_slc_200626_225229_HH_tmp/NovaSAR_01_12478_slc_11_200626_225234_HH_2_ML_TC_TF.dim']\n"
     ]
    },
    {
     "name": "stdout",
     "output_type": "stream",
     "text": [
      "NovaSAR_01_12478_slc_11_200626_225234_HH_2\n",
      "/tmp/data/intermediate/NovaSAR_01_12478_slc_200626_225229_HH_tmp/NovaSAR_01_12478_slc_11_200626_225234_HH_2_ML_TC_TF.data/\n",
      "/tmp/data/intermediate/NovaSAR_01_12478_slc_200626_225229_HH_tmp/NovaSAR_01_12478_slc_11_200626_225234_HH_2_ML_TC_TF_cog/\n"
     ]
    },
    {
     "name": "stderr",
     "output_type": "stream",
     "text": [
      "INFO:snap_stderr:stderr:INFO: org.esa.snap.core.gpf.operators.tooladapter.ToolAdapterIO: Initializing external tool adapters\n",
      "INFO:snap_stderr:stderr:INFO: org.esa.s2tbx.dataio.gdal.GDALVersion: Incompatible GDAL 3.1.4 found on system. Internal GDAL 3.0.0 from distribution will be used.\n",
      "INFO:snap_stderr:stderr:INFO: org.esa.s2tbx.dataio.gdal.GDALVersion: Internal GDAL 3.0.0 set to be used by SNAP.\n",
      "INFO:snap_stderr:stderr:INFO: org.esa.snap.core.util.EngineVersionCheckActivator: Please check regularly for new updates for the best SNAP experience.\n",
      "INFO:snap_stderr:stderr:INFO: org.esa.s2tbx.dataio.gdal.GDALVersion: Internal GDAL 3.0.0 set to be used by SNAP.\n",
      "INFO:snap_stdout:Executing processing graph\n",
      "INFO:snap_stderr:stderr:INFO: org.hsqldb.persist.Logger: dataFileCache open start\n",
      "INFO:snap_stdout:....10%....20%....30%....40%....50%....60%....70%....80%....90% done.\n"
     ]
    },
    {
     "name": "stdout",
     "output_type": "stream",
     "text": [
      "/tmp/data/intermediate/NovaSAR_01_12478_slc_200626_225229_HH_tmp/NovaSAR_01_12478_slc_11_200626_225234_HH_2_ML_TC_TF_cog/NovaSAR_01_12478_slc_11_200626_225234_HH_2_Gamma0_Intensity_HH_db.tif\n",
      "2020-11-18 03:54:59 Starting conversion: /tmp/data/intermediate/NovaSAR_01_12478_slc_200626_225229_HH_tmp/NovaSAR_01_12478_slc_11_200626_225234_HH_2_ML_TC_TF.data/Gamma0_Intensity_HH_db.img.\n",
      "2020-11-18 03:55:13 Conversion complete: True.\n",
      "2020-11-18 03:56:07 Prepared NovaSAR_01_12478_slc_200626_225229_HH at novasar_uk_test/\n",
      "2020-11-18 03:56:07 Preparing NovaSAR_01_12211_slc_11_200616_101857_HH_2 within /tmp/data/intermediate/NovaSAR_01_12211_slc_11_200616_101857_HH_2_tmp/\n"
     ]
    },
    {
     "name": "stderr",
     "output_type": "stream",
     "text": [
      "DEBUG:sedas_api:successful login.\n",
      "DEBUG:sedas_api:successful login.\n",
      "DEBUG:sedas_api:successful login.\n",
      "DEBUG:sedas_api:successful login.\n",
      "DEBUG:sedas_api:successful login.\n",
      "INFO:bulk_downloader:0 downloads pending, 0 downloads in progress, 0 requests pending\n",
      "INFO:bulk_downloader:2 active threads, 0 restarted.\n"
     ]
    },
    {
     "name": "stdout",
     "output_type": "stream",
     "text": [
      "2020-11-18 03:56:08 Downloading\n"
     ]
    },
    {
     "name": "stderr",
     "output_type": "stream",
     "text": [
      "DEBUG:bulk_downloader:1 downloads pending\n",
      "DEBUG:bulk_downloader:1 downloads pending\n",
      "INFO:bulk_downloader:downloading NovaSAR_01_12211_slc_11_200616_101857_HH_2 to /tmp/data/intermediate/NovaSAR_01_12211_slc_11_200616_101857_HH_2_tmp/NovaSAR_01_12211_slc_11_200616_101857_HH_2.zip\n",
      "DEBUG:sedas_api:successful login.\n",
      "INFO:bulk_downloader:0 downloads pending, 1 downloads in progress, 0 requests pending\n",
      "INFO:bulk_downloader:2 active threads, 0 restarted.\n",
      "INFO:bulk_downloader:0 downloads pending, 1 downloads in progress, 0 requests pending\n",
      "INFO:bulk_downloader:2 active threads, 0 restarted.\n",
      "INFO:bulk_downloader:0 downloads pending, 1 downloads in progress, 0 requests pending\n",
      "INFO:bulk_downloader:2 active threads, 0 restarted.\n",
      "DEBUG:bulk_downloader:0 downloads pending\n",
      "DEBUG:bulk_downloader:monitor thread stopping\n"
     ]
    },
    {
     "name": "stdout",
     "output_type": "stream",
     "text": [
      "2020-11-18 03:56:28 Downloaded\n",
      "2020-11-18 03:56:28 Extracting /tmp/data/intermediate/NovaSAR_01_12211_slc_11_200616_101857_HH_2_tmp/NovaSAR_01_12211_slc_11_200616_101857_HH_2.zip\n"
     ]
    },
    {
     "name": "stderr",
     "output_type": "stream",
     "text": [
      "DEBUG:bulk_downloader:requests thread stopping\n",
      "DEBUG:root:running ['/opt/snap/bin/gpt', '/opt/notebooks/anc/novasar_slc_tf_tc.xml', '-Pinput=/tmp/data/intermediate/NovaSAR_01_12211_slc_11_200616_101857_HH_2_tmp/NovaSAR_01_12211_slc_11_200616_101857_HH_2/NovaSAR_01_12211_slc_11_200616_101857_HH_2/metadata.xml', '-Poutput=/tmp/data/intermediate/NovaSAR_01_12211_slc_11_200616_101857_HH_2_tmp/NovaSAR_01_12211_slc_11_200616_101857_HH_2_ML_TC_TF.dim']\n"
     ]
    },
    {
     "name": "stdout",
     "output_type": "stream",
     "text": [
      "2020-11-18 03:56:39 Extracted to /tmp/data/intermediate/NovaSAR_01_12211_slc_11_200616_101857_HH_2_tmp/NovaSAR_01_12211_slc_11_200616_101857_HH_2/\n",
      "NovaSAR_01_12211_slc_11_200616_101857_HH_2\n",
      "/tmp/data/intermediate/NovaSAR_01_12211_slc_11_200616_101857_HH_2_tmp/NovaSAR_01_12211_slc_11_200616_101857_HH_2_ML_TC_TF.data/\n",
      "/tmp/data/intermediate/NovaSAR_01_12211_slc_11_200616_101857_HH_2_tmp/NovaSAR_01_12211_slc_11_200616_101857_HH_2_ML_TC_TF_cog/\n"
     ]
    },
    {
     "name": "stderr",
     "output_type": "stream",
     "text": [
      "INFO:snap_stderr:stderr:INFO: org.esa.snap.core.gpf.operators.tooladapter.ToolAdapterIO: Initializing external tool adapters\n",
      "INFO:snap_stderr:stderr:INFO: org.esa.s2tbx.dataio.gdal.GDALVersion: Incompatible GDAL 3.1.4 found on system. Internal GDAL 3.0.0 from distribution will be used.\n",
      "INFO:snap_stderr:stderr:INFO: org.esa.s2tbx.dataio.gdal.GDALVersion: Internal GDAL 3.0.0 set to be used by SNAP.\n",
      "INFO:snap_stderr:stderr:INFO: org.esa.snap.core.util.EngineVersionCheckActivator: Please check regularly for new updates for the best SNAP experience.\n",
      "INFO:snap_stderr:stderr:INFO: org.esa.s2tbx.dataio.gdal.GDALVersion: Internal GDAL 3.0.0 set to be used by SNAP.\n",
      "INFO:snap_stdout:Executing processing graph\n",
      "INFO:snap_stderr:stderr:INFO: org.hsqldb.persist.Logger: dataFileCache open start\n",
      "INFO:snap_stdout:....10%....20%....30%....40%....50%....60%....70%....80%....90% done.\n"
     ]
    },
    {
     "name": "stdout",
     "output_type": "stream",
     "text": [
      "/tmp/data/intermediate/NovaSAR_01_12211_slc_11_200616_101857_HH_2_tmp/NovaSAR_01_12211_slc_11_200616_101857_HH_2_ML_TC_TF_cog/NovaSAR_01_12211_slc_11_200616_101857_HH_2_Gamma0_Intensity_HH_db.tif\n",
      "2020-11-18 03:59:18 Starting conversion: /tmp/data/intermediate/NovaSAR_01_12211_slc_11_200616_101857_HH_2_tmp/NovaSAR_01_12211_slc_11_200616_101857_HH_2_ML_TC_TF.data/Gamma0_Intensity_HH_db.img.\n",
      "2020-11-18 03:59:25 Conversion complete: True.\n"
     ]
    },
    {
     "name": "stderr",
     "output_type": "stream",
     "text": [
      "DEBUG:sedas_api:successful login.\n"
     ]
    },
    {
     "name": "stdout",
     "output_type": "stream",
     "text": [
      "2020-11-18 04:00:04 Prepared NovaSAR_01_12211_slc_11_200616_101857_HH_2 at novasar_uk_test/\n",
      "2020-11-18 04:00:04 Preparing NovaSAR_01_12211_slc_11_200616_101852_HH_1 within /tmp/data/intermediate/NovaSAR_01_12211_slc_11_200616_101852_HH_1_tmp/\n"
     ]
    },
    {
     "name": "stderr",
     "output_type": "stream",
     "text": [
      "DEBUG:sedas_api:successful login.\n",
      "DEBUG:sedas_api:successful login.\n",
      "DEBUG:sedas_api:successful login.\n",
      "DEBUG:sedas_api:successful login.\n",
      "INFO:bulk_downloader:0 downloads pending, 0 downloads in progress, 0 requests pending\n",
      "INFO:bulk_downloader:2 active threads, 0 restarted.\n"
     ]
    },
    {
     "name": "stdout",
     "output_type": "stream",
     "text": [
      "2020-11-18 04:00:05 Downloading\n"
     ]
    },
    {
     "name": "stderr",
     "output_type": "stream",
     "text": [
      "DEBUG:bulk_downloader:1 downloads pending\n",
      "DEBUG:bulk_downloader:1 downloads pending\n",
      "INFO:bulk_downloader:downloading NovaSAR_01_12211_slc_11_200616_101852_HH_1 to /tmp/data/intermediate/NovaSAR_01_12211_slc_11_200616_101852_HH_1_tmp/NovaSAR_01_12211_slc_11_200616_101852_HH_1.zip\n",
      "DEBUG:sedas_api:successful login.\n",
      "INFO:bulk_downloader:0 downloads pending, 1 downloads in progress, 0 requests pending\n",
      "INFO:bulk_downloader:2 active threads, 0 restarted.\n",
      "INFO:bulk_downloader:0 downloads pending, 1 downloads in progress, 0 requests pending\n",
      "INFO:bulk_downloader:2 active threads, 0 restarted.\n",
      "DEBUG:bulk_downloader:0 downloads pending\n",
      "DEBUG:bulk_downloader:monitor thread stopping\n"
     ]
    },
    {
     "name": "stdout",
     "output_type": "stream",
     "text": [
      "2020-11-18 04:00:20 Downloaded\n",
      "2020-11-18 04:00:20 Extracting /tmp/data/intermediate/NovaSAR_01_12211_slc_11_200616_101852_HH_1_tmp/NovaSAR_01_12211_slc_11_200616_101852_HH_1.zip\n"
     ]
    },
    {
     "name": "stderr",
     "output_type": "stream",
     "text": [
      "DEBUG:bulk_downloader:requests thread stopping\n",
      "DEBUG:root:running ['/opt/snap/bin/gpt', '/opt/notebooks/anc/novasar_slc_tf_tc.xml', '-Pinput=/tmp/data/intermediate/NovaSAR_01_12211_slc_11_200616_101852_HH_1_tmp/NovaSAR_01_12211_slc_11_200616_101852_HH_1/NovaSAR_01_12211_slc_11_200616_101852_HH_1/metadata.xml', '-Poutput=/tmp/data/intermediate/NovaSAR_01_12211_slc_11_200616_101852_HH_1_tmp/NovaSAR_01_12211_slc_11_200616_101852_HH_1_ML_TC_TF.dim']\n"
     ]
    },
    {
     "name": "stdout",
     "output_type": "stream",
     "text": [
      "2020-11-18 04:00:28 Extracted to /tmp/data/intermediate/NovaSAR_01_12211_slc_11_200616_101852_HH_1_tmp/NovaSAR_01_12211_slc_11_200616_101852_HH_1/\n",
      "NovaSAR_01_12211_slc_11_200616_101852_HH_1\n",
      "/tmp/data/intermediate/NovaSAR_01_12211_slc_11_200616_101852_HH_1_tmp/NovaSAR_01_12211_slc_11_200616_101852_HH_1_ML_TC_TF.data/\n",
      "/tmp/data/intermediate/NovaSAR_01_12211_slc_11_200616_101852_HH_1_tmp/NovaSAR_01_12211_slc_11_200616_101852_HH_1_ML_TC_TF_cog/\n"
     ]
    },
    {
     "name": "stderr",
     "output_type": "stream",
     "text": [
      "INFO:snap_stderr:stderr:INFO: org.esa.snap.core.gpf.operators.tooladapter.ToolAdapterIO: Initializing external tool adapters\n",
      "INFO:snap_stderr:stderr:INFO: org.esa.s2tbx.dataio.gdal.GDALVersion: Incompatible GDAL 3.1.4 found on system. Internal GDAL 3.0.0 from distribution will be used.\n",
      "INFO:snap_stderr:stderr:INFO: org.esa.s2tbx.dataio.gdal.GDALVersion: Internal GDAL 3.0.0 set to be used by SNAP.\n",
      "INFO:snap_stderr:stderr:INFO: org.esa.snap.core.util.EngineVersionCheckActivator: Please check regularly for new updates for the best SNAP experience.\n",
      "INFO:snap_stderr:stderr:INFO: org.esa.s2tbx.dataio.gdal.GDALVersion: Internal GDAL 3.0.0 set to be used by SNAP.\n",
      "INFO:snap_stdout:Executing processing graph\n",
      "INFO:snap_stderr:stderr:INFO: org.hsqldb.persist.Logger: dataFileCache open start\n",
      "INFO:snap_stdout:....10%....20%....30%....40%....50%....60%....70%....80%....90% done.\n"
     ]
    },
    {
     "name": "stdout",
     "output_type": "stream",
     "text": [
      "/tmp/data/intermediate/NovaSAR_01_12211_slc_11_200616_101852_HH_1_tmp/NovaSAR_01_12211_slc_11_200616_101852_HH_1_ML_TC_TF_cog/NovaSAR_01_12211_slc_11_200616_101852_HH_1_Gamma0_Intensity_HH_db.tif\n",
      "2020-11-18 04:02:03 Starting conversion: /tmp/data/intermediate/NovaSAR_01_12211_slc_11_200616_101852_HH_1_tmp/NovaSAR_01_12211_slc_11_200616_101852_HH_1_ML_TC_TF.data/Gamma0_Intensity_HH_db.img.\n",
      "2020-11-18 04:02:09 Conversion complete: True.\n"
     ]
    },
    {
     "name": "stderr",
     "output_type": "stream",
     "text": [
      "DEBUG:sedas_api:successful login.\n"
     ]
    },
    {
     "name": "stdout",
     "output_type": "stream",
     "text": [
      "2020-11-18 04:02:44 Prepared NovaSAR_01_12211_slc_11_200616_101852_HH_1 at novasar_uk_test/\n",
      "2020-11-18 04:02:44 Preparing NovaSAR_01_12211_slc_200616_101852_HH within /tmp/data/intermediate/NovaSAR_01_12211_slc_200616_101852_HH_tmp/\n"
     ]
    },
    {
     "name": "stderr",
     "output_type": "stream",
     "text": [
      "DEBUG:sedas_api:successful login.\n",
      "DEBUG:sedas_api:successful login.\n",
      "DEBUG:sedas_api:successful login.\n",
      "DEBUG:sedas_api:successful login.\n",
      "INFO:bulk_downloader:0 downloads pending, 0 downloads in progress, 0 requests pending\n",
      "INFO:bulk_downloader:2 active threads, 0 restarted.\n"
     ]
    },
    {
     "name": "stdout",
     "output_type": "stream",
     "text": [
      "2020-11-18 04:02:45 Downloading\n"
     ]
    },
    {
     "name": "stderr",
     "output_type": "stream",
     "text": [
      "DEBUG:bulk_downloader:1 downloads pending\n",
      "DEBUG:bulk_downloader:1 downloads pending\n",
      "INFO:bulk_downloader:downloading NovaSAR_01_12211_slc_200616_101852_HH to /tmp/data/intermediate/NovaSAR_01_12211_slc_200616_101852_HH_tmp/NovaSAR_01_12211_slc_200616_101852_HH.zip\n",
      "DEBUG:sedas_api:successful login.\n",
      "INFO:bulk_downloader:0 downloads pending, 1 downloads in progress, 0 requests pending\n",
      "INFO:bulk_downloader:2 active threads, 0 restarted.\n",
      "INFO:bulk_downloader:0 downloads pending, 1 downloads in progress, 0 requests pending\n",
      "INFO:bulk_downloader:2 active threads, 0 restarted.\n",
      "INFO:bulk_downloader:0 downloads pending, 1 downloads in progress, 0 requests pending\n",
      "INFO:bulk_downloader:2 active threads, 0 restarted.\n",
      "INFO:bulk_downloader:0 downloads pending, 1 downloads in progress, 0 requests pending\n",
      "INFO:bulk_downloader:2 active threads, 0 restarted.\n",
      "INFO:bulk_downloader:0 downloads pending, 1 downloads in progress, 0 requests pending\n",
      "INFO:bulk_downloader:2 active threads, 0 restarted.\n",
      "DEBUG:bulk_downloader:0 downloads pending\n",
      "DEBUG:bulk_downloader:monitor thread stopping\n"
     ]
    },
    {
     "name": "stdout",
     "output_type": "stream",
     "text": [
      "2020-11-18 04:03:15 Downloaded\n",
      "2020-11-18 04:03:15 Extracting /tmp/data/intermediate/NovaSAR_01_12211_slc_200616_101852_HH_tmp/NovaSAR_01_12211_slc_200616_101852_HH.zip\n"
     ]
    },
    {
     "name": "stderr",
     "output_type": "stream",
     "text": [
      "DEBUG:bulk_downloader:requests thread stopping\n",
      "DEBUG:root:running ['/opt/snap/bin/gpt', '/opt/notebooks/anc/novasar_slc_tf_tc.xml', '-Pinput=/tmp/data/intermediate/NovaSAR_01_12211_slc_200616_101852_HH_tmp/NovaSAR_01_12211_slc_200616_101852_HH/SV229/Image_Products$/NovaSAR_01_12211_slc_200616_101852_HH_/NovaSAR_01_12211_slc_11_200616_101852_HH_1/metadata.xml', '-Poutput=/tmp/data/intermediate/NovaSAR_01_12211_slc_200616_101852_HH_tmp/NovaSAR_01_12211_slc_11_200616_101852_HH_1_ML_TC_TF.dim']\n"
     ]
    },
    {
     "name": "stdout",
     "output_type": "stream",
     "text": [
      "2020-11-18 04:03:34 Extracted to /tmp/data/intermediate/NovaSAR_01_12211_slc_200616_101852_HH_tmp/NovaSAR_01_12211_slc_200616_101852_HH/\n",
      "NovaSAR_01_12211_slc_11_200616_101852_HH_1\n",
      "/tmp/data/intermediate/NovaSAR_01_12211_slc_200616_101852_HH_tmp/NovaSAR_01_12211_slc_11_200616_101852_HH_1_ML_TC_TF.data/\n",
      "/tmp/data/intermediate/NovaSAR_01_12211_slc_200616_101852_HH_tmp/NovaSAR_01_12211_slc_11_200616_101852_HH_1_ML_TC_TF_cog/\n"
     ]
    },
    {
     "name": "stderr",
     "output_type": "stream",
     "text": [
      "INFO:snap_stderr:stderr:INFO: org.esa.snap.core.gpf.operators.tooladapter.ToolAdapterIO: Initializing external tool adapters\n",
      "INFO:snap_stderr:stderr:INFO: org.esa.s2tbx.dataio.gdal.GDALVersion: Incompatible GDAL 3.1.4 found on system. Internal GDAL 3.0.0 from distribution will be used.\n",
      "INFO:snap_stderr:stderr:INFO: org.esa.s2tbx.dataio.gdal.GDALVersion: Internal GDAL 3.0.0 set to be used by SNAP.\n",
      "INFO:snap_stderr:stderr:INFO: org.esa.snap.core.util.EngineVersionCheckActivator: Please check regularly for new updates for the best SNAP experience.\n",
      "INFO:snap_stderr:stderr:INFO: org.esa.s2tbx.dataio.gdal.GDALVersion: Internal GDAL 3.0.0 set to be used by SNAP.\n",
      "INFO:snap_stdout:Executing processing graph\n",
      "INFO:snap_stderr:stderr:INFO: org.hsqldb.persist.Logger: dataFileCache open start\n",
      "INFO:snap_stdout:....10%....20%....30%....40%....50%....60%....70%....80%....90% done.\n"
     ]
    },
    {
     "name": "stdout",
     "output_type": "stream",
     "text": [
      "/tmp/data/intermediate/NovaSAR_01_12211_slc_200616_101852_HH_tmp/NovaSAR_01_12211_slc_11_200616_101852_HH_1_ML_TC_TF_cog/NovaSAR_01_12211_slc_11_200616_101852_HH_1_Gamma0_Intensity_HH_db.tif\n",
      "2020-11-18 04:05:10 Starting conversion: /tmp/data/intermediate/NovaSAR_01_12211_slc_200616_101852_HH_tmp/NovaSAR_01_12211_slc_11_200616_101852_HH_1_ML_TC_TF.data/Gamma0_Intensity_HH_db.img.\n",
      "2020-11-18 04:05:16 Conversion complete: True.\n"
     ]
    },
    {
     "name": "stderr",
     "output_type": "stream",
     "text": [
      "DEBUG:root:running ['/opt/snap/bin/gpt', '/opt/notebooks/anc/novasar_slc_tf_tc.xml', '-Pinput=/tmp/data/intermediate/NovaSAR_01_12211_slc_200616_101852_HH_tmp/NovaSAR_01_12211_slc_200616_101852_HH/SV229/Image_Products$/NovaSAR_01_12211_slc_200616_101852_HH_/NovaSAR_01_12211_slc_11_200616_101857_HH_2/metadata.xml', '-Poutput=/tmp/data/intermediate/NovaSAR_01_12211_slc_200616_101852_HH_tmp/NovaSAR_01_12211_slc_11_200616_101857_HH_2_ML_TC_TF.dim']\n"
     ]
    },
    {
     "name": "stdout",
     "output_type": "stream",
     "text": [
      "NovaSAR_01_12211_slc_11_200616_101857_HH_2\n",
      "/tmp/data/intermediate/NovaSAR_01_12211_slc_200616_101852_HH_tmp/NovaSAR_01_12211_slc_11_200616_101857_HH_2_ML_TC_TF.data/\n",
      "/tmp/data/intermediate/NovaSAR_01_12211_slc_200616_101852_HH_tmp/NovaSAR_01_12211_slc_11_200616_101857_HH_2_ML_TC_TF_cog/\n"
     ]
    },
    {
     "name": "stderr",
     "output_type": "stream",
     "text": [
      "INFO:snap_stderr:stderr:INFO: org.esa.snap.core.gpf.operators.tooladapter.ToolAdapterIO: Initializing external tool adapters\n",
      "INFO:snap_stderr:stderr:INFO: org.esa.s2tbx.dataio.gdal.GDALVersion: Incompatible GDAL 3.1.4 found on system. Internal GDAL 3.0.0 from distribution will be used.\n",
      "INFO:snap_stderr:stderr:INFO: org.esa.s2tbx.dataio.gdal.GDALVersion: Internal GDAL 3.0.0 set to be used by SNAP.\n",
      "INFO:snap_stderr:stderr:INFO: org.esa.snap.core.util.EngineVersionCheckActivator: Please check regularly for new updates for the best SNAP experience.\n",
      "INFO:snap_stderr:stderr:INFO: org.esa.s2tbx.dataio.gdal.GDALVersion: Internal GDAL 3.0.0 set to be used by SNAP.\n",
      "INFO:snap_stdout:Executing processing graph\n",
      "INFO:snap_stderr:stderr:INFO: org.hsqldb.persist.Logger: dataFileCache open start\n",
      "INFO:snap_stdout:....10%....20%....30%....40%....50%....60%....70%....80%....90% done.\n"
     ]
    },
    {
     "name": "stdout",
     "output_type": "stream",
     "text": [
      "/tmp/data/intermediate/NovaSAR_01_12211_slc_200616_101852_HH_tmp/NovaSAR_01_12211_slc_11_200616_101857_HH_2_ML_TC_TF_cog/NovaSAR_01_12211_slc_11_200616_101857_HH_2_Gamma0_Intensity_HH_db.tif\n",
      "2020-11-18 04:08:28 Starting conversion: /tmp/data/intermediate/NovaSAR_01_12211_slc_200616_101852_HH_tmp/NovaSAR_01_12211_slc_11_200616_101857_HH_2_ML_TC_TF.data/Gamma0_Intensity_HH_db.img.\n",
      "2020-11-18 04:08:35 Conversion complete: True.\n"
     ]
    },
    {
     "name": "stderr",
     "output_type": "stream",
     "text": [
      "DEBUG:sedas_api:successful login.\n"
     ]
    },
    {
     "name": "stdout",
     "output_type": "stream",
     "text": [
      "2020-11-18 04:09:15 Prepared NovaSAR_01_12211_slc_200616_101852_HH at novasar_uk_test/\n",
      "2020-11-18 04:09:15 Preparing NovaSAR_01_12184_slc_200615_101308_HH within /tmp/data/intermediate/NovaSAR_01_12184_slc_200615_101308_HH_tmp/\n"
     ]
    },
    {
     "name": "stderr",
     "output_type": "stream",
     "text": [
      "DEBUG:sedas_api:successful login.\n",
      "DEBUG:sedas_api:successful login.\n",
      "DEBUG:sedas_api:successful login.\n",
      "DEBUG:sedas_api:successful login.\n",
      "INFO:bulk_downloader:0 downloads pending, 0 downloads in progress, 0 requests pending\n",
      "INFO:bulk_downloader:2 active threads, 0 restarted.\n"
     ]
    },
    {
     "name": "stdout",
     "output_type": "stream",
     "text": [
      "2020-11-18 04:09:16 Downloading\n"
     ]
    },
    {
     "name": "stderr",
     "output_type": "stream",
     "text": [
      "DEBUG:bulk_downloader:1 downloads pending\n",
      "DEBUG:bulk_downloader:1 downloads pending\n",
      "INFO:bulk_downloader:downloading NovaSAR_01_12184_slc_200615_101308_HH to /tmp/data/intermediate/NovaSAR_01_12184_slc_200615_101308_HH_tmp/NovaSAR_01_12184_slc_200615_101308_HH.zip\n",
      "DEBUG:sedas_api:successful login.\n",
      "INFO:bulk_downloader:0 downloads pending, 1 downloads in progress, 0 requests pending\n",
      "INFO:bulk_downloader:2 active threads, 0 restarted.\n",
      "INFO:bulk_downloader:0 downloads pending, 1 downloads in progress, 0 requests pending\n",
      "INFO:bulk_downloader:2 active threads, 0 restarted.\n",
      "INFO:bulk_downloader:0 downloads pending, 1 downloads in progress, 0 requests pending\n",
      "INFO:bulk_downloader:2 active threads, 0 restarted.\n",
      "INFO:bulk_downloader:0 downloads pending, 1 downloads in progress, 0 requests pending\n",
      "INFO:bulk_downloader:2 active threads, 0 restarted.\n",
      "INFO:bulk_downloader:0 downloads pending, 1 downloads in progress, 0 requests pending\n",
      "INFO:bulk_downloader:2 active threads, 0 restarted.\n",
      "DEBUG:bulk_downloader:0 downloads pending\n",
      "DEBUG:bulk_downloader:requests thread stopping\n",
      "DEBUG:bulk_downloader:monitor thread stopping\n"
     ]
    },
    {
     "name": "stdout",
     "output_type": "stream",
     "text": [
      "2020-11-18 04:09:46 Downloaded\n",
      "2020-11-18 04:09:46 Extracting /tmp/data/intermediate/NovaSAR_01_12184_slc_200615_101308_HH_tmp/NovaSAR_01_12184_slc_200615_101308_HH.zip\n"
     ]
    },
    {
     "name": "stderr",
     "output_type": "stream",
     "text": [
      "DEBUG:root:running ['/opt/snap/bin/gpt', '/opt/notebooks/anc/novasar_slc_tf_tc.xml', '-Pinput=/tmp/data/intermediate/NovaSAR_01_12184_slc_200615_101308_HH_tmp/NovaSAR_01_12184_slc_200615_101308_HH/NovaSAR_01_12184_slc_11_200615_101308_HH/metadata.xml', '-Poutput=/tmp/data/intermediate/NovaSAR_01_12184_slc_200615_101308_HH_tmp/NovaSAR_01_12184_slc_11_200615_101308_HH_ML_TC_TF.dim']\n"
     ]
    },
    {
     "name": "stdout",
     "output_type": "stream",
     "text": [
      "2020-11-18 04:10:04 Extracted to /tmp/data/intermediate/NovaSAR_01_12184_slc_200615_101308_HH_tmp/NovaSAR_01_12184_slc_200615_101308_HH/\n",
      "NovaSAR_01_12184_slc_11_200615_101308_HH\n",
      "/tmp/data/intermediate/NovaSAR_01_12184_slc_200615_101308_HH_tmp/NovaSAR_01_12184_slc_11_200615_101308_HH_ML_TC_TF.data/\n",
      "/tmp/data/intermediate/NovaSAR_01_12184_slc_200615_101308_HH_tmp/NovaSAR_01_12184_slc_11_200615_101308_HH_ML_TC_TF_cog/\n"
     ]
    },
    {
     "name": "stderr",
     "output_type": "stream",
     "text": [
      "INFO:snap_stderr:stderr:INFO: org.esa.snap.core.gpf.operators.tooladapter.ToolAdapterIO: Initializing external tool adapters\n",
      "INFO:snap_stderr:stderr:INFO: org.esa.s2tbx.dataio.gdal.GDALVersion: Incompatible GDAL 3.1.4 found on system. Internal GDAL 3.0.0 from distribution will be used.\n",
      "INFO:snap_stderr:stderr:INFO: org.esa.s2tbx.dataio.gdal.GDALVersion: Internal GDAL 3.0.0 set to be used by SNAP.\n",
      "INFO:snap_stderr:stderr:INFO: org.esa.snap.core.util.EngineVersionCheckActivator: Please check regularly for new updates for the best SNAP experience.\n",
      "INFO:snap_stderr:stderr:INFO: org.esa.s2tbx.dataio.gdal.GDALVersion: Internal GDAL 3.0.0 set to be used by SNAP.\n",
      "INFO:snap_stdout:Executing processing graph\n",
      "INFO:snap_stderr:stderr:INFO: org.hsqldb.persist.Logger: dataFileCache open start\n",
      "INFO:snap_stdout:....10%....20%....30%....40%....50%....60%....70%....80%....90% done.\n"
     ]
    },
    {
     "name": "stdout",
     "output_type": "stream",
     "text": [
      "/tmp/data/intermediate/NovaSAR_01_12184_slc_200615_101308_HH_tmp/NovaSAR_01_12184_slc_11_200615_101308_HH_ML_TC_TF_cog/NovaSAR_01_12184_slc_11_200615_101308_HH_Gamma0_Intensity_HH_db.tif\n",
      "2020-11-18 04:16:13 Starting conversion: /tmp/data/intermediate/NovaSAR_01_12184_slc_200615_101308_HH_tmp/NovaSAR_01_12184_slc_11_200615_101308_HH_ML_TC_TF.data/Gamma0_Intensity_HH_db.img.\n",
      "2020-11-18 04:16:25 Conversion complete: True.\n",
      "2020-11-18 04:17:36 Prepared NovaSAR_01_12184_slc_200615_101308_HH at novasar_uk_test/\n",
      "2020-11-18 04:17:36 Preparing NovaSAR_01_11454_slc_200506_224624_HH within /tmp/data/intermediate/NovaSAR_01_11454_slc_200506_224624_HH_tmp/\n"
     ]
    },
    {
     "name": "stderr",
     "output_type": "stream",
     "text": [
      "DEBUG:sedas_api:successful login.\n",
      "DEBUG:sedas_api:successful login.\n",
      "DEBUG:sedas_api:successful login.\n",
      "DEBUG:sedas_api:successful login.\n",
      "DEBUG:sedas_api:successful login.\n",
      "INFO:bulk_downloader:0 downloads pending, 0 downloads in progress, 0 requests pending\n",
      "INFO:bulk_downloader:2 active threads, 0 restarted.\n"
     ]
    },
    {
     "name": "stdout",
     "output_type": "stream",
     "text": [
      "2020-11-18 04:17:37 Downloading\n"
     ]
    },
    {
     "name": "stderr",
     "output_type": "stream",
     "text": [
      "DEBUG:bulk_downloader:1 downloads pending\n",
      "DEBUG:bulk_downloader:1 downloads pending\n",
      "INFO:bulk_downloader:downloading NovaSAR_01_11454_slc_200506_224624_HH to /tmp/data/intermediate/NovaSAR_01_11454_slc_200506_224624_HH_tmp/NovaSAR_01_11454_slc_200506_224624_HH.zip\n",
      "DEBUG:sedas_api:successful login.\n",
      "INFO:bulk_downloader:0 downloads pending, 1 downloads in progress, 0 requests pending\n",
      "INFO:bulk_downloader:2 active threads, 0 restarted.\n",
      "INFO:bulk_downloader:0 downloads pending, 1 downloads in progress, 0 requests pending\n",
      "INFO:bulk_downloader:2 active threads, 0 restarted.\n",
      "INFO:bulk_downloader:0 downloads pending, 1 downloads in progress, 0 requests pending\n",
      "INFO:bulk_downloader:2 active threads, 0 restarted.\n",
      "INFO:bulk_downloader:0 downloads pending, 1 downloads in progress, 0 requests pending\n",
      "INFO:bulk_downloader:2 active threads, 0 restarted.\n",
      "INFO:bulk_downloader:0 downloads pending, 1 downloads in progress, 0 requests pending\n",
      "INFO:bulk_downloader:2 active threads, 0 restarted.\n",
      "INFO:bulk_downloader:0 downloads pending, 1 downloads in progress, 0 requests pending\n",
      "INFO:bulk_downloader:2 active threads, 0 restarted.\n",
      "INFO:bulk_downloader:0 downloads pending, 1 downloads in progress, 0 requests pending\n",
      "INFO:bulk_downloader:2 active threads, 0 restarted.\n",
      "INFO:bulk_downloader:0 downloads pending, 1 downloads in progress, 0 requests pending\n",
      "INFO:bulk_downloader:2 active threads, 0 restarted.\n",
      "INFO:bulk_downloader:0 downloads pending, 1 downloads in progress, 0 requests pending\n",
      "INFO:bulk_downloader:2 active threads, 0 restarted.\n",
      "INFO:bulk_downloader:0 downloads pending, 1 downloads in progress, 0 requests pending\n",
      "INFO:bulk_downloader:2 active threads, 0 restarted.\n",
      "INFO:bulk_downloader:0 downloads pending, 1 downloads in progress, 0 requests pending\n",
      "INFO:bulk_downloader:2 active threads, 0 restarted.\n",
      "INFO:bulk_downloader:0 downloads pending, 1 downloads in progress, 0 requests pending\n",
      "INFO:bulk_downloader:2 active threads, 0 restarted.\n",
      "DEBUG:bulk_downloader:0 downloads pending\n",
      "DEBUG:bulk_downloader:monitor thread stopping\n"
     ]
    },
    {
     "name": "stdout",
     "output_type": "stream",
     "text": [
      "2020-11-18 04:18:42 Downloaded\n",
      "2020-11-18 04:18:42 Extracting /tmp/data/intermediate/NovaSAR_01_11454_slc_200506_224624_HH_tmp/NovaSAR_01_11454_slc_200506_224624_HH.zip\n"
     ]
    },
    {
     "name": "stderr",
     "output_type": "stream",
     "text": [
      "DEBUG:bulk_downloader:requests thread stopping\n",
      "DEBUG:root:running ['/opt/snap/bin/gpt', '/opt/notebooks/anc/novasar_slc_tf_tc.xml', '-Pinput=/tmp/data/intermediate/NovaSAR_01_11454_slc_200506_224624_HH_tmp/NovaSAR_01_11454_slc_200506_224624_HH/SV229/Image_Products$/NovaSAR_01_11454_slc_200506_224624_HH_/NovaSAR_01_11454_slc_11_200506_224624_HH_1/metadata.xml', '-Poutput=/tmp/data/intermediate/NovaSAR_01_11454_slc_200506_224624_HH_tmp/NovaSAR_01_11454_slc_11_200506_224624_HH_1_ML_TC_TF.dim']\n"
     ]
    },
    {
     "name": "stdout",
     "output_type": "stream",
     "text": [
      "2020-11-18 04:19:26 Extracted to /tmp/data/intermediate/NovaSAR_01_11454_slc_200506_224624_HH_tmp/NovaSAR_01_11454_slc_200506_224624_HH/\n",
      "NovaSAR_01_11454_slc_11_200506_224624_HH_1\n",
      "/tmp/data/intermediate/NovaSAR_01_11454_slc_200506_224624_HH_tmp/NovaSAR_01_11454_slc_11_200506_224624_HH_1_ML_TC_TF.data/\n",
      "/tmp/data/intermediate/NovaSAR_01_11454_slc_200506_224624_HH_tmp/NovaSAR_01_11454_slc_11_200506_224624_HH_1_ML_TC_TF_cog/\n"
     ]
    },
    {
     "name": "stderr",
     "output_type": "stream",
     "text": [
      "INFO:snap_stderr:stderr:INFO: org.esa.snap.core.gpf.operators.tooladapter.ToolAdapterIO: Initializing external tool adapters\n",
      "INFO:snap_stderr:stderr:INFO: org.esa.s2tbx.dataio.gdal.GDALVersion: Incompatible GDAL 3.1.4 found on system. Internal GDAL 3.0.0 from distribution will be used.\n",
      "INFO:snap_stderr:stderr:INFO: org.esa.s2tbx.dataio.gdal.GDALVersion: Internal GDAL 3.0.0 set to be used by SNAP.\n",
      "INFO:snap_stderr:stderr:INFO: org.esa.snap.core.util.EngineVersionCheckActivator: Please check regularly for new updates for the best SNAP experience.\n",
      "INFO:snap_stderr:stderr:INFO: org.esa.s2tbx.dataio.gdal.GDALVersion: Internal GDAL 3.0.0 set to be used by SNAP.\n",
      "INFO:snap_stdout:Executing processing graph\n",
      "INFO:snap_stderr:stderr:INFO: org.hsqldb.persist.Logger: dataFileCache open start\n",
      "INFO:snap_stderr:stderr:INFO: org.esa.snap.core.dataop.dem.ElevationFile: http retrieving http://step.esa.int/auxdata/dem/SRTMGL1/N49E002.SRTMGL1.hgt.zip\n",
      "INFO:snap_stdout:....10%....20%....30%....40%....50%....60%....70%....80%....90% done.\n"
     ]
    },
    {
     "name": "stdout",
     "output_type": "stream",
     "text": [
      "/tmp/data/intermediate/NovaSAR_01_11454_slc_200506_224624_HH_tmp/NovaSAR_01_11454_slc_11_200506_224624_HH_1_ML_TC_TF_cog/NovaSAR_01_11454_slc_11_200506_224624_HH_1_Gamma0_Intensity_HH_db.tif\n",
      "2020-11-18 04:22:53 Starting conversion: /tmp/data/intermediate/NovaSAR_01_11454_slc_200506_224624_HH_tmp/NovaSAR_01_11454_slc_11_200506_224624_HH_1_ML_TC_TF.data/Gamma0_Intensity_HH_db.img.\n",
      "2020-11-18 04:23:01 Conversion complete: True.\n"
     ]
    },
    {
     "name": "stderr",
     "output_type": "stream",
     "text": [
      "DEBUG:root:running ['/opt/snap/bin/gpt', '/opt/notebooks/anc/novasar_slc_tf_tc.xml', '-Pinput=/tmp/data/intermediate/NovaSAR_01_11454_slc_200506_224624_HH_tmp/NovaSAR_01_11454_slc_200506_224624_HH/SV229/Image_Products$/NovaSAR_01_11454_slc_200506_224624_HH_/NovaSAR_01_11454_slc_11_200506_224629_HH_2/metadata.xml', '-Poutput=/tmp/data/intermediate/NovaSAR_01_11454_slc_200506_224624_HH_tmp/NovaSAR_01_11454_slc_11_200506_224629_HH_2_ML_TC_TF.dim']\n"
     ]
    },
    {
     "name": "stdout",
     "output_type": "stream",
     "text": [
      "NovaSAR_01_11454_slc_11_200506_224629_HH_2\n",
      "/tmp/data/intermediate/NovaSAR_01_11454_slc_200506_224624_HH_tmp/NovaSAR_01_11454_slc_11_200506_224629_HH_2_ML_TC_TF.data/\n",
      "/tmp/data/intermediate/NovaSAR_01_11454_slc_200506_224624_HH_tmp/NovaSAR_01_11454_slc_11_200506_224629_HH_2_ML_TC_TF_cog/\n"
     ]
    },
    {
     "name": "stderr",
     "output_type": "stream",
     "text": [
      "INFO:snap_stderr:stderr:INFO: org.esa.snap.core.gpf.operators.tooladapter.ToolAdapterIO: Initializing external tool adapters\n",
      "INFO:snap_stderr:stderr:INFO: org.esa.s2tbx.dataio.gdal.GDALVersion: Incompatible GDAL 3.1.4 found on system. Internal GDAL 3.0.0 from distribution will be used.\n",
      "INFO:snap_stderr:stderr:INFO: org.esa.s2tbx.dataio.gdal.GDALVersion: Internal GDAL 3.0.0 set to be used by SNAP.\n",
      "INFO:snap_stderr:stderr:INFO: org.esa.snap.core.util.EngineVersionCheckActivator: Please check regularly for new updates for the best SNAP experience.\n",
      "INFO:snap_stderr:stderr:INFO: org.esa.s2tbx.dataio.gdal.GDALVersion: Internal GDAL 3.0.0 set to be used by SNAP.\n",
      "INFO:snap_stdout:Executing processing graph\n",
      "INFO:snap_stderr:stderr:INFO: org.hsqldb.persist.Logger: dataFileCache open start\n",
      "INFO:snap_stderr:stderr:INFO: org.esa.snap.core.dataop.dem.ElevationFile: http retrieving http://step.esa.int/auxdata/dem/SRTMGL1/N48E002.SRTMGL1.hgt.zip\n",
      "INFO:snap_stdout:....10%....20%....30%....40%....50%....60%....70%....80%....90% done.\n"
     ]
    },
    {
     "name": "stdout",
     "output_type": "stream",
     "text": [
      "/tmp/data/intermediate/NovaSAR_01_11454_slc_200506_224624_HH_tmp/NovaSAR_01_11454_slc_11_200506_224629_HH_2_ML_TC_TF_cog/NovaSAR_01_11454_slc_11_200506_224629_HH_2_Gamma0_Intensity_HH_db.tif\n",
      "2020-11-18 04:27:11 Starting conversion: /tmp/data/intermediate/NovaSAR_01_11454_slc_200506_224624_HH_tmp/NovaSAR_01_11454_slc_11_200506_224629_HH_2_ML_TC_TF.data/Gamma0_Intensity_HH_db.img.\n",
      "2020-11-18 04:27:18 Conversion complete: True.\n"
     ]
    },
    {
     "name": "stderr",
     "output_type": "stream",
     "text": [
      "DEBUG:root:running ['/opt/snap/bin/gpt', '/opt/notebooks/anc/novasar_slc_tf_tc.xml', '-Pinput=/tmp/data/intermediate/NovaSAR_01_11454_slc_200506_224624_HH_tmp/NovaSAR_01_11454_slc_200506_224624_HH/SV229/Image_Products$/NovaSAR_01_11454_slc_200506_224624_HH_/NovaSAR_01_11454_slc_11_200506_224633_HH_3/metadata.xml', '-Poutput=/tmp/data/intermediate/NovaSAR_01_11454_slc_200506_224624_HH_tmp/NovaSAR_01_11454_slc_11_200506_224633_HH_3_ML_TC_TF.dim']\n"
     ]
    },
    {
     "name": "stdout",
     "output_type": "stream",
     "text": [
      "NovaSAR_01_11454_slc_11_200506_224633_HH_3\n",
      "/tmp/data/intermediate/NovaSAR_01_11454_slc_200506_224624_HH_tmp/NovaSAR_01_11454_slc_11_200506_224633_HH_3_ML_TC_TF.data/\n",
      "/tmp/data/intermediate/NovaSAR_01_11454_slc_200506_224624_HH_tmp/NovaSAR_01_11454_slc_11_200506_224633_HH_3_ML_TC_TF_cog/\n"
     ]
    },
    {
     "name": "stderr",
     "output_type": "stream",
     "text": [
      "INFO:snap_stderr:stderr:INFO: org.esa.snap.core.gpf.operators.tooladapter.ToolAdapterIO: Initializing external tool adapters\n",
      "INFO:snap_stderr:stderr:INFO: org.esa.s2tbx.dataio.gdal.GDALVersion: Incompatible GDAL 3.1.4 found on system. Internal GDAL 3.0.0 from distribution will be used.\n",
      "INFO:snap_stderr:stderr:INFO: org.esa.s2tbx.dataio.gdal.GDALVersion: Internal GDAL 3.0.0 set to be used by SNAP.\n",
      "INFO:snap_stderr:stderr:INFO: org.esa.snap.core.util.EngineVersionCheckActivator: Please check regularly for new updates for the best SNAP experience.\n",
      "INFO:snap_stderr:stderr:INFO: org.esa.s2tbx.dataio.gdal.GDALVersion: Internal GDAL 3.0.0 set to be used by SNAP.\n",
      "INFO:snap_stdout:Executing processing graph\n",
      "INFO:snap_stderr:stderr:INFO: org.hsqldb.persist.Logger: dataFileCache open start\n",
      "INFO:snap_stdout:....10%....20%....30%....40%....50%....60%....70%....80%....90% done.\n"
     ]
    },
    {
     "name": "stdout",
     "output_type": "stream",
     "text": [
      "/tmp/data/intermediate/NovaSAR_01_11454_slc_200506_224624_HH_tmp/NovaSAR_01_11454_slc_11_200506_224633_HH_3_ML_TC_TF_cog/NovaSAR_01_11454_slc_11_200506_224633_HH_3_Gamma0_Intensity_HH_db.tif\n",
      "2020-11-18 04:32:06 Starting conversion: /tmp/data/intermediate/NovaSAR_01_11454_slc_200506_224624_HH_tmp/NovaSAR_01_11454_slc_11_200506_224633_HH_3_ML_TC_TF.data/Gamma0_Intensity_HH_db.img.\n",
      "2020-11-18 04:32:15 Conversion complete: True.\n",
      "2020-11-18 04:33:09 Prepared NovaSAR_01_11454_slc_200506_224624_HH at novasar_uk_test/\n",
      "2020-11-18 04:33:09 Preparing NovaSAR_01_11183_slc_200417_000118_HH within /tmp/data/intermediate/NovaSAR_01_11183_slc_200417_000118_HH_tmp/\n"
     ]
    },
    {
     "name": "stderr",
     "output_type": "stream",
     "text": [
      "DEBUG:sedas_api:successful login.\n",
      "DEBUG:sedas_api:successful login.\n",
      "DEBUG:sedas_api:successful login.\n",
      "DEBUG:sedas_api:successful login.\n",
      "DEBUG:sedas_api:successful login.\n",
      "INFO:bulk_downloader:0 downloads pending, 0 downloads in progress, 0 requests pending\n",
      "INFO:bulk_downloader:2 active threads, 0 restarted.\n"
     ]
    },
    {
     "name": "stdout",
     "output_type": "stream",
     "text": [
      "2020-11-18 04:33:10 Downloading\n"
     ]
    },
    {
     "name": "stderr",
     "output_type": "stream",
     "text": [
      "DEBUG:bulk_downloader:1 downloads pending\n",
      "DEBUG:bulk_downloader:1 downloads pending\n",
      "INFO:bulk_downloader:downloading NovaSAR_01_11183_slc_200417_000118_HH to /tmp/data/intermediate/NovaSAR_01_11183_slc_200417_000118_HH_tmp/NovaSAR_01_11183_slc_200417_000118_HH.zip\n",
      "DEBUG:sedas_api:successful login.\n",
      "INFO:bulk_downloader:0 downloads pending, 1 downloads in progress, 0 requests pending\n",
      "INFO:bulk_downloader:2 active threads, 0 restarted.\n",
      "INFO:bulk_downloader:0 downloads pending, 1 downloads in progress, 0 requests pending\n",
      "INFO:bulk_downloader:2 active threads, 0 restarted.\n",
      "INFO:bulk_downloader:0 downloads pending, 1 downloads in progress, 0 requests pending\n",
      "INFO:bulk_downloader:2 active threads, 0 restarted.\n",
      "INFO:bulk_downloader:0 downloads pending, 1 downloads in progress, 0 requests pending\n",
      "INFO:bulk_downloader:2 active threads, 0 restarted.\n",
      "INFO:bulk_downloader:0 downloads pending, 1 downloads in progress, 0 requests pending\n",
      "INFO:bulk_downloader:2 active threads, 0 restarted.\n",
      "DEBUG:bulk_downloader:0 downloads pending\n",
      "DEBUG:bulk_downloader:monitor thread stopping\n"
     ]
    },
    {
     "name": "stdout",
     "output_type": "stream",
     "text": [
      "2020-11-18 04:33:40 Downloaded\n",
      "2020-11-18 04:33:40 Extracting /tmp/data/intermediate/NovaSAR_01_11183_slc_200417_000118_HH_tmp/NovaSAR_01_11183_slc_200417_000118_HH.zip\n"
     ]
    },
    {
     "name": "stderr",
     "output_type": "stream",
     "text": [
      "DEBUG:bulk_downloader:requests thread stopping\n",
      "DEBUG:root:running ['/opt/snap/bin/gpt', '/opt/notebooks/anc/novasar_slc_tf_tc.xml', '-Pinput=/tmp/data/intermediate/NovaSAR_01_11183_slc_200417_000118_HH_tmp/NovaSAR_01_11183_slc_200417_000118_HH/SV229/Image_Products$/NovaSAR_01_11183_slc_200417_000118_HH_/NovaSAR_01_11183_slc_11_200417_000118_HH_1/metadata.xml', '-Poutput=/tmp/data/intermediate/NovaSAR_01_11183_slc_200417_000118_HH_tmp/NovaSAR_01_11183_slc_11_200417_000118_HH_1_ML_TC_TF.dim']\n"
     ]
    },
    {
     "name": "stdout",
     "output_type": "stream",
     "text": [
      "2020-11-18 04:34:01 Extracted to /tmp/data/intermediate/NovaSAR_01_11183_slc_200417_000118_HH_tmp/NovaSAR_01_11183_slc_200417_000118_HH/\n",
      "NovaSAR_01_11183_slc_11_200417_000118_HH_1\n",
      "/tmp/data/intermediate/NovaSAR_01_11183_slc_200417_000118_HH_tmp/NovaSAR_01_11183_slc_11_200417_000118_HH_1_ML_TC_TF.data/\n",
      "/tmp/data/intermediate/NovaSAR_01_11183_slc_200417_000118_HH_tmp/NovaSAR_01_11183_slc_11_200417_000118_HH_1_ML_TC_TF_cog/\n"
     ]
    },
    {
     "name": "stderr",
     "output_type": "stream",
     "text": [
      "INFO:snap_stderr:stderr:INFO: org.esa.snap.core.gpf.operators.tooladapter.ToolAdapterIO: Initializing external tool adapters\n",
      "INFO:snap_stderr:stderr:INFO: org.esa.s2tbx.dataio.gdal.GDALVersion: Incompatible GDAL 3.1.4 found on system. Internal GDAL 3.0.0 from distribution will be used.\n",
      "INFO:snap_stderr:stderr:INFO: org.esa.s2tbx.dataio.gdal.GDALVersion: Internal GDAL 3.0.0 set to be used by SNAP.\n",
      "INFO:snap_stderr:stderr:INFO: org.esa.snap.core.util.EngineVersionCheckActivator: Please check regularly for new updates for the best SNAP experience.\n",
      "INFO:snap_stderr:stderr:INFO: org.esa.s2tbx.dataio.gdal.GDALVersion: Internal GDAL 3.0.0 set to be used by SNAP.\n",
      "INFO:snap_stdout:Executing processing graph\n",
      "INFO:snap_stderr:stderr:INFO: org.hsqldb.persist.Logger: dataFileCache open start\n",
      "INFO:snap_stderr:stderr:INFO: org.esa.snap.core.dataop.dem.ElevationFile: http retrieving http://step.esa.int/auxdata/dem/SRTMGL1/N54W006.SRTMGL1.hgt.zip\n",
      "INFO:snap_stdout:....10%....20%....30%....40%....50%....60%....70%....80%....90% done.\n"
     ]
    },
    {
     "name": "stdout",
     "output_type": "stream",
     "text": [
      "/tmp/data/intermediate/NovaSAR_01_11183_slc_200417_000118_HH_tmp/NovaSAR_01_11183_slc_11_200417_000118_HH_1_ML_TC_TF_cog/NovaSAR_01_11183_slc_11_200417_000118_HH_1_Gamma0_Intensity_HH_db.tif\n",
      "2020-11-18 04:36:17 Starting conversion: /tmp/data/intermediate/NovaSAR_01_11183_slc_200417_000118_HH_tmp/NovaSAR_01_11183_slc_11_200417_000118_HH_1_ML_TC_TF.data/Gamma0_Intensity_HH_db.img.\n",
      "2020-11-18 04:36:23 Conversion complete: True.\n"
     ]
    },
    {
     "name": "stderr",
     "output_type": "stream",
     "text": [
      "DEBUG:root:running ['/opt/snap/bin/gpt', '/opt/notebooks/anc/novasar_slc_tf_tc.xml', '-Pinput=/tmp/data/intermediate/NovaSAR_01_11183_slc_200417_000118_HH_tmp/NovaSAR_01_11183_slc_200417_000118_HH/SV229/Image_Products$/NovaSAR_01_11183_slc_200417_000118_HH_/NovaSAR_01_11183_slc_11_200417_000122_HH_2/metadata.xml', '-Poutput=/tmp/data/intermediate/NovaSAR_01_11183_slc_200417_000118_HH_tmp/NovaSAR_01_11183_slc_11_200417_000122_HH_2_ML_TC_TF.dim']\n"
     ]
    },
    {
     "name": "stdout",
     "output_type": "stream",
     "text": [
      "NovaSAR_01_11183_slc_11_200417_000122_HH_2\n",
      "/tmp/data/intermediate/NovaSAR_01_11183_slc_200417_000118_HH_tmp/NovaSAR_01_11183_slc_11_200417_000122_HH_2_ML_TC_TF.data/\n",
      "/tmp/data/intermediate/NovaSAR_01_11183_slc_200417_000118_HH_tmp/NovaSAR_01_11183_slc_11_200417_000122_HH_2_ML_TC_TF_cog/\n"
     ]
    },
    {
     "name": "stderr",
     "output_type": "stream",
     "text": [
      "INFO:snap_stderr:stderr:INFO: org.esa.snap.core.gpf.operators.tooladapter.ToolAdapterIO: Initializing external tool adapters\n",
      "INFO:snap_stderr:stderr:INFO: org.esa.s2tbx.dataio.gdal.GDALVersion: Incompatible GDAL 3.1.4 found on system. Internal GDAL 3.0.0 from distribution will be used.\n",
      "INFO:snap_stderr:stderr:INFO: org.esa.s2tbx.dataio.gdal.GDALVersion: Internal GDAL 3.0.0 set to be used by SNAP.\n",
      "INFO:snap_stderr:stderr:INFO: org.esa.snap.core.util.EngineVersionCheckActivator: Please check regularly for new updates for the best SNAP experience.\n",
      "INFO:snap_stderr:stderr:INFO: org.esa.s2tbx.dataio.gdal.GDALVersion: Internal GDAL 3.0.0 set to be used by SNAP.\n",
      "INFO:snap_stdout:Executing processing graph\n",
      "INFO:snap_stderr:stderr:INFO: org.hsqldb.persist.Logger: dataFileCache open start\n",
      "INFO:snap_stderr:stderr:INFO: org.esa.snap.core.dataop.dem.ElevationFile: http retrieving http://step.esa.int/auxdata/dem/SRTMGL1/N54W007.SRTMGL1.hgt.zip\n",
      "INFO:snap_stdout:....10%....20%....30%....40%....50%....60%....70%....80%....90% done.\n"
     ]
    },
    {
     "name": "stdout",
     "output_type": "stream",
     "text": [
      "/tmp/data/intermediate/NovaSAR_01_11183_slc_200417_000118_HH_tmp/NovaSAR_01_11183_slc_11_200417_000122_HH_2_ML_TC_TF_cog/NovaSAR_01_11183_slc_11_200417_000122_HH_2_Gamma0_Intensity_HH_db.tif\n",
      "2020-11-18 04:41:49 Starting conversion: /tmp/data/intermediate/NovaSAR_01_11183_slc_200417_000118_HH_tmp/NovaSAR_01_11183_slc_11_200417_000122_HH_2_ML_TC_TF.data/Gamma0_Intensity_HH_db.img.\n",
      "2020-11-18 04:42:07 Conversion complete: True.\n"
     ]
    },
    {
     "name": "stderr",
     "output_type": "stream",
     "text": [
      "DEBUG:sedas_api:successful login.\n"
     ]
    },
    {
     "name": "stdout",
     "output_type": "stream",
     "text": [
      "2020-11-18 04:43:28 Prepared NovaSAR_01_11183_slc_200417_000118_HH at novasar_uk_test/\n",
      "2020-11-18 04:43:28 Preparing NovaSAR_01_11109_slc_200410_232727_HH within /tmp/data/intermediate/NovaSAR_01_11109_slc_200410_232727_HH_tmp/\n"
     ]
    },
    {
     "name": "stderr",
     "output_type": "stream",
     "text": [
      "DEBUG:sedas_api:successful login.\n",
      "DEBUG:sedas_api:successful login.\n",
      "DEBUG:sedas_api:successful login.\n",
      "DEBUG:sedas_api:successful login.\n",
      "INFO:bulk_downloader:0 downloads pending, 0 downloads in progress, 0 requests pending\n",
      "INFO:bulk_downloader:2 active threads, 0 restarted.\n"
     ]
    },
    {
     "name": "stdout",
     "output_type": "stream",
     "text": [
      "2020-11-18 04:43:29 Downloading\n"
     ]
    },
    {
     "name": "stderr",
     "output_type": "stream",
     "text": [
      "DEBUG:bulk_downloader:1 downloads pending\n",
      "DEBUG:bulk_downloader:1 downloads pending\n",
      "INFO:bulk_downloader:downloading NovaSAR_01_11109_slc_200410_232727_HH to /tmp/data/intermediate/NovaSAR_01_11109_slc_200410_232727_HH_tmp/NovaSAR_01_11109_slc_200410_232727_HH.zip\n",
      "DEBUG:sedas_api:successful login.\n",
      "INFO:bulk_downloader:0 downloads pending, 1 downloads in progress, 0 requests pending\n",
      "INFO:bulk_downloader:2 active threads, 0 restarted.\n",
      "INFO:bulk_downloader:0 downloads pending, 1 downloads in progress, 0 requests pending\n",
      "INFO:bulk_downloader:2 active threads, 0 restarted.\n",
      "INFO:bulk_downloader:0 downloads pending, 1 downloads in progress, 0 requests pending\n",
      "INFO:bulk_downloader:2 active threads, 0 restarted.\n",
      "INFO:bulk_downloader:0 downloads pending, 1 downloads in progress, 0 requests pending\n",
      "INFO:bulk_downloader:2 active threads, 0 restarted.\n",
      "INFO:bulk_downloader:0 downloads pending, 1 downloads in progress, 0 requests pending\n",
      "INFO:bulk_downloader:2 active threads, 0 restarted.\n",
      "INFO:bulk_downloader:0 downloads pending, 1 downloads in progress, 0 requests pending\n",
      "INFO:bulk_downloader:2 active threads, 0 restarted.\n",
      "INFO:bulk_downloader:0 downloads pending, 1 downloads in progress, 0 requests pending\n",
      "INFO:bulk_downloader:2 active threads, 0 restarted.\n",
      "INFO:bulk_downloader:0 downloads pending, 1 downloads in progress, 0 requests pending\n",
      "INFO:bulk_downloader:2 active threads, 0 restarted.\n",
      "INFO:bulk_downloader:0 downloads pending, 1 downloads in progress, 0 requests pending\n",
      "INFO:bulk_downloader:2 active threads, 0 restarted.\n",
      "INFO:bulk_downloader:0 downloads pending, 1 downloads in progress, 0 requests pending\n",
      "INFO:bulk_downloader:2 active threads, 0 restarted.\n",
      "INFO:bulk_downloader:0 downloads pending, 1 downloads in progress, 0 requests pending\n",
      "INFO:bulk_downloader:2 active threads, 0 restarted.\n",
      "INFO:bulk_downloader:0 downloads pending, 1 downloads in progress, 0 requests pending\n",
      "INFO:bulk_downloader:2 active threads, 0 restarted.\n",
      "INFO:bulk_downloader:0 downloads pending, 1 downloads in progress, 0 requests pending\n",
      "INFO:bulk_downloader:2 active threads, 0 restarted.\n",
      "INFO:bulk_downloader:0 downloads pending, 1 downloads in progress, 0 requests pending\n",
      "INFO:bulk_downloader:2 active threads, 0 restarted.\n",
      "DEBUG:bulk_downloader:0 downloads pending\n",
      "DEBUG:bulk_downloader:monitor thread stopping\n"
     ]
    },
    {
     "name": "stdout",
     "output_type": "stream",
     "text": [
      "2020-11-18 04:44:44 Downloaded\n",
      "2020-11-18 04:44:44 Extracting /tmp/data/intermediate/NovaSAR_01_11109_slc_200410_232727_HH_tmp/NovaSAR_01_11109_slc_200410_232727_HH.zip\n"
     ]
    },
    {
     "name": "stderr",
     "output_type": "stream",
     "text": [
      "DEBUG:bulk_downloader:requests thread stopping\n",
      "DEBUG:root:running ['/opt/snap/bin/gpt', '/opt/notebooks/anc/novasar_slc_tf_tc.xml', '-Pinput=/tmp/data/intermediate/NovaSAR_01_11109_slc_200410_232727_HH_tmp/NovaSAR_01_11109_slc_200410_232727_HH/SV229/Image_Products$/NovaSAR_01_11109_slc_200410_232727_HH_/NovaSAR_01_11109_slc_11_200410_232727_HH_1/metadata.xml', '-Poutput=/tmp/data/intermediate/NovaSAR_01_11109_slc_200410_232727_HH_tmp/NovaSAR_01_11109_slc_11_200410_232727_HH_1_ML_TC_TF.dim']\n"
     ]
    },
    {
     "name": "stdout",
     "output_type": "stream",
     "text": [
      "2020-11-18 04:45:32 Extracted to /tmp/data/intermediate/NovaSAR_01_11109_slc_200410_232727_HH_tmp/NovaSAR_01_11109_slc_200410_232727_HH/\n",
      "NovaSAR_01_11109_slc_11_200410_232727_HH_1\n",
      "/tmp/data/intermediate/NovaSAR_01_11109_slc_200410_232727_HH_tmp/NovaSAR_01_11109_slc_11_200410_232727_HH_1_ML_TC_TF.data/\n",
      "/tmp/data/intermediate/NovaSAR_01_11109_slc_200410_232727_HH_tmp/NovaSAR_01_11109_slc_11_200410_232727_HH_1_ML_TC_TF_cog/\n"
     ]
    },
    {
     "name": "stderr",
     "output_type": "stream",
     "text": [
      "INFO:snap_stderr:stderr:INFO: org.esa.snap.core.gpf.operators.tooladapter.ToolAdapterIO: Initializing external tool adapters\n",
      "INFO:snap_stderr:stderr:INFO: org.esa.s2tbx.dataio.gdal.GDALVersion: Incompatible GDAL 3.1.4 found on system. Internal GDAL 3.0.0 from distribution will be used.\n",
      "INFO:snap_stderr:stderr:INFO: org.esa.s2tbx.dataio.gdal.GDALVersion: Internal GDAL 3.0.0 set to be used by SNAP.\n",
      "INFO:snap_stderr:stderr:INFO: org.esa.snap.core.util.EngineVersionCheckActivator: Please check regularly for new updates for the best SNAP experience.\n",
      "INFO:snap_stderr:stderr:INFO: org.esa.s2tbx.dataio.gdal.GDALVersion: Internal GDAL 3.0.0 set to be used by SNAP.\n",
      "INFO:snap_stdout:Executing processing graph\n",
      "INFO:snap_stderr:stderr:INFO: org.hsqldb.persist.Logger: dataFileCache open start\n",
      "INFO:snap_stdout:....10%....20%....30%....40%....50%....60%....70%....80%....90% done.\n"
     ]
    },
    {
     "name": "stdout",
     "output_type": "stream",
     "text": [
      "/tmp/data/intermediate/NovaSAR_01_11109_slc_200410_232727_HH_tmp/NovaSAR_01_11109_slc_11_200410_232727_HH_1_ML_TC_TF_cog/NovaSAR_01_11109_slc_11_200410_232727_HH_1_Gamma0_Intensity_HH_db.tif\n",
      "2020-11-18 04:49:32 Starting conversion: /tmp/data/intermediate/NovaSAR_01_11109_slc_200410_232727_HH_tmp/NovaSAR_01_11109_slc_11_200410_232727_HH_1_ML_TC_TF.data/Gamma0_Intensity_HH_db.img.\n",
      "2020-11-18 04:49:48 Conversion complete: True.\n"
     ]
    },
    {
     "name": "stderr",
     "output_type": "stream",
     "text": [
      "DEBUG:root:running ['/opt/snap/bin/gpt', '/opt/notebooks/anc/novasar_slc_tf_tc.xml', '-Pinput=/tmp/data/intermediate/NovaSAR_01_11109_slc_200410_232727_HH_tmp/NovaSAR_01_11109_slc_200410_232727_HH/SV229/Image_Products$/NovaSAR_01_11109_slc_200410_232727_HH_/NovaSAR_01_11109_slc_11_200410_232732_HH_2/metadata.xml', '-Poutput=/tmp/data/intermediate/NovaSAR_01_11109_slc_200410_232727_HH_tmp/NovaSAR_01_11109_slc_11_200410_232732_HH_2_ML_TC_TF.dim']\n"
     ]
    },
    {
     "name": "stdout",
     "output_type": "stream",
     "text": [
      "NovaSAR_01_11109_slc_11_200410_232732_HH_2\n",
      "/tmp/data/intermediate/NovaSAR_01_11109_slc_200410_232727_HH_tmp/NovaSAR_01_11109_slc_11_200410_232732_HH_2_ML_TC_TF.data/\n",
      "/tmp/data/intermediate/NovaSAR_01_11109_slc_200410_232727_HH_tmp/NovaSAR_01_11109_slc_11_200410_232732_HH_2_ML_TC_TF_cog/\n"
     ]
    },
    {
     "name": "stderr",
     "output_type": "stream",
     "text": [
      "INFO:snap_stderr:stderr:INFO: org.esa.snap.core.gpf.operators.tooladapter.ToolAdapterIO: Initializing external tool adapters\n",
      "INFO:snap_stderr:stderr:INFO: org.esa.s2tbx.dataio.gdal.GDALVersion: Incompatible GDAL 3.1.4 found on system. Internal GDAL 3.0.0 from distribution will be used.\n",
      "INFO:snap_stderr:stderr:INFO: org.esa.s2tbx.dataio.gdal.GDALVersion: Internal GDAL 3.0.0 set to be used by SNAP.\n",
      "INFO:snap_stderr:stderr:INFO: org.esa.snap.core.util.EngineVersionCheckActivator: Please check regularly for new updates for the best SNAP experience.\n",
      "INFO:snap_stderr:stderr:INFO: org.esa.s2tbx.dataio.gdal.GDALVersion: Internal GDAL 3.0.0 set to be used by SNAP.\n",
      "INFO:snap_stdout:Executing processing graph\n",
      "INFO:snap_stderr:stderr:INFO: org.hsqldb.persist.Logger: dataFileCache open start\n",
      "INFO:snap_stdout:....10%....20%....30%....40%....50%....60%....70%....80%....90% done.\n"
     ]
    },
    {
     "name": "stdout",
     "output_type": "stream",
     "text": [
      "/tmp/data/intermediate/NovaSAR_01_11109_slc_200410_232727_HH_tmp/NovaSAR_01_11109_slc_11_200410_232732_HH_2_ML_TC_TF_cog/NovaSAR_01_11109_slc_11_200410_232732_HH_2_Gamma0_Intensity_HH_db.tif\n",
      "2020-11-18 04:55:04 Starting conversion: /tmp/data/intermediate/NovaSAR_01_11109_slc_200410_232727_HH_tmp/NovaSAR_01_11109_slc_11_200410_232732_HH_2_ML_TC_TF.data/Gamma0_Intensity_HH_db.img.\n",
      "2020-11-18 04:55:13 Conversion complete: True.\n"
     ]
    },
    {
     "name": "stderr",
     "output_type": "stream",
     "text": [
      "DEBUG:root:running ['/opt/snap/bin/gpt', '/opt/notebooks/anc/novasar_slc_tf_tc.xml', '-Pinput=/tmp/data/intermediate/NovaSAR_01_11109_slc_200410_232727_HH_tmp/NovaSAR_01_11109_slc_200410_232727_HH/SV229/Image_Products$/NovaSAR_01_11109_slc_200410_232727_HH_/NovaSAR_01_11109_slc_11_200410_232737_HH_3/metadata.xml', '-Poutput=/tmp/data/intermediate/NovaSAR_01_11109_slc_200410_232727_HH_tmp/NovaSAR_01_11109_slc_11_200410_232737_HH_3_ML_TC_TF.dim']\n"
     ]
    },
    {
     "name": "stdout",
     "output_type": "stream",
     "text": [
      "NovaSAR_01_11109_slc_11_200410_232737_HH_3\n",
      "/tmp/data/intermediate/NovaSAR_01_11109_slc_200410_232727_HH_tmp/NovaSAR_01_11109_slc_11_200410_232737_HH_3_ML_TC_TF.data/\n",
      "/tmp/data/intermediate/NovaSAR_01_11109_slc_200410_232727_HH_tmp/NovaSAR_01_11109_slc_11_200410_232737_HH_3_ML_TC_TF_cog/\n"
     ]
    },
    {
     "name": "stderr",
     "output_type": "stream",
     "text": [
      "INFO:snap_stderr:stderr:INFO: org.esa.snap.core.gpf.operators.tooladapter.ToolAdapterIO: Initializing external tool adapters\n",
      "INFO:snap_stderr:stderr:INFO: org.esa.s2tbx.dataio.gdal.GDALVersion: Incompatible GDAL 3.1.4 found on system. Internal GDAL 3.0.0 from distribution will be used.\n",
      "INFO:snap_stderr:stderr:INFO: org.esa.s2tbx.dataio.gdal.GDALVersion: Internal GDAL 3.0.0 set to be used by SNAP.\n",
      "INFO:snap_stderr:stderr:INFO: org.esa.snap.core.util.EngineVersionCheckActivator: Please check regularly for new updates for the best SNAP experience.\n",
      "INFO:snap_stderr:stderr:INFO: org.esa.s2tbx.dataio.gdal.GDALVersion: Internal GDAL 3.0.0 set to be used by SNAP.\n",
      "INFO:snap_stdout:Executing processing graph\n",
      "INFO:snap_stderr:stderr:INFO: org.hsqldb.persist.Logger: dataFileCache open start\n",
      "INFO:snap_stdout:....10%....20%....30%....40%....50%....60%....70%....80%....90% done.\n"
     ]
    },
    {
     "name": "stdout",
     "output_type": "stream",
     "text": [
      "/tmp/data/intermediate/NovaSAR_01_11109_slc_200410_232727_HH_tmp/NovaSAR_01_11109_slc_11_200410_232737_HH_3_ML_TC_TF_cog/NovaSAR_01_11109_slc_11_200410_232737_HH_3_Gamma0_Intensity_HH_db.tif\n",
      "2020-11-18 05:04:07 Starting conversion: /tmp/data/intermediate/NovaSAR_01_11109_slc_200410_232727_HH_tmp/NovaSAR_01_11109_slc_11_200410_232737_HH_3_ML_TC_TF.data/Gamma0_Intensity_HH_db.img.\n",
      "2020-11-18 05:04:28 Conversion complete: True.\n",
      "2020-11-18 05:06:19 Prepared NovaSAR_01_11109_slc_200410_232727_HH at novasar_uk_test/\n",
      "2020-11-18 05:06:19 Preparing NovaSAR_01_10387_slc_200307_101114_HH within /tmp/data/intermediate/NovaSAR_01_10387_slc_200307_101114_HH_tmp/\n"
     ]
    },
    {
     "name": "stderr",
     "output_type": "stream",
     "text": [
      "DEBUG:sedas_api:successful login.\n",
      "DEBUG:sedas_api:successful login.\n",
      "DEBUG:sedas_api:successful login.\n",
      "DEBUG:sedas_api:successful login.\n",
      "DEBUG:sedas_api:successful login.\n",
      "INFO:bulk_downloader:0 downloads pending, 0 downloads in progress, 0 requests pending\n",
      "INFO:bulk_downloader:2 active threads, 0 restarted.\n"
     ]
    },
    {
     "name": "stdout",
     "output_type": "stream",
     "text": [
      "2020-11-18 05:06:20 Downloading\n"
     ]
    },
    {
     "name": "stderr",
     "output_type": "stream",
     "text": [
      "DEBUG:bulk_downloader:1 downloads pending\n",
      "DEBUG:bulk_downloader:1 downloads pending\n",
      "INFO:bulk_downloader:downloading NovaSAR_01_10387_slc_200307_101114_HH to /tmp/data/intermediate/NovaSAR_01_10387_slc_200307_101114_HH_tmp/NovaSAR_01_10387_slc_200307_101114_HH.zip\n",
      "DEBUG:sedas_api:successful login.\n",
      "INFO:bulk_downloader:0 downloads pending, 1 downloads in progress, 0 requests pending\n",
      "INFO:bulk_downloader:2 active threads, 0 restarted.\n",
      "INFO:bulk_downloader:0 downloads pending, 1 downloads in progress, 0 requests pending\n",
      "INFO:bulk_downloader:2 active threads, 0 restarted.\n",
      "INFO:bulk_downloader:0 downloads pending, 1 downloads in progress, 0 requests pending\n",
      "INFO:bulk_downloader:2 active threads, 0 restarted.\n",
      "INFO:bulk_downloader:0 downloads pending, 1 downloads in progress, 0 requests pending\n",
      "INFO:bulk_downloader:2 active threads, 0 restarted.\n",
      "INFO:bulk_downloader:0 downloads pending, 1 downloads in progress, 0 requests pending\n",
      "INFO:bulk_downloader:2 active threads, 0 restarted.\n",
      "INFO:bulk_downloader:0 downloads pending, 1 downloads in progress, 0 requests pending\n",
      "INFO:bulk_downloader:2 active threads, 0 restarted.\n",
      "INFO:bulk_downloader:0 downloads pending, 1 downloads in progress, 0 requests pending\n",
      "INFO:bulk_downloader:2 active threads, 0 restarted.\n",
      "INFO:bulk_downloader:0 downloads pending, 1 downloads in progress, 0 requests pending\n",
      "INFO:bulk_downloader:2 active threads, 0 restarted.\n",
      "INFO:bulk_downloader:0 downloads pending, 1 downloads in progress, 0 requests pending\n",
      "INFO:bulk_downloader:2 active threads, 0 restarted.\n",
      "INFO:bulk_downloader:0 downloads pending, 1 downloads in progress, 0 requests pending\n",
      "INFO:bulk_downloader:2 active threads, 0 restarted.\n",
      "INFO:bulk_downloader:0 downloads pending, 1 downloads in progress, 0 requests pending\n",
      "INFO:bulk_downloader:2 active threads, 0 restarted.\n",
      "INFO:bulk_downloader:0 downloads pending, 1 downloads in progress, 0 requests pending\n",
      "INFO:bulk_downloader:2 active threads, 0 restarted.\n",
      "INFO:bulk_downloader:0 downloads pending, 1 downloads in progress, 0 requests pending\n",
      "INFO:bulk_downloader:2 active threads, 0 restarted.\n",
      "INFO:bulk_downloader:0 downloads pending, 1 downloads in progress, 0 requests pending\n",
      "INFO:bulk_downloader:2 active threads, 0 restarted.\n",
      "INFO:bulk_downloader:0 downloads pending, 1 downloads in progress, 0 requests pending\n",
      "INFO:bulk_downloader:2 active threads, 0 restarted.\n",
      "INFO:bulk_downloader:0 downloads pending, 1 downloads in progress, 0 requests pending\n",
      "INFO:bulk_downloader:2 active threads, 0 restarted.\n",
      "INFO:bulk_downloader:0 downloads pending, 1 downloads in progress, 0 requests pending\n",
      "INFO:bulk_downloader:2 active threads, 0 restarted.\n",
      "DEBUG:bulk_downloader:0 downloads pending\n",
      "DEBUG:bulk_downloader:requests thread stopping\n",
      "DEBUG:bulk_downloader:monitor thread stopping\n"
     ]
    },
    {
     "name": "stdout",
     "output_type": "stream",
     "text": [
      "2020-11-18 05:07:50 Downloaded\n",
      "2020-11-18 05:07:50 Extracting /tmp/data/intermediate/NovaSAR_01_10387_slc_200307_101114_HH_tmp/NovaSAR_01_10387_slc_200307_101114_HH.zip\n"
     ]
    },
    {
     "name": "stderr",
     "output_type": "stream",
     "text": [
      "DEBUG:root:running ['/opt/snap/bin/gpt', '/opt/notebooks/anc/novasar_slc_tf_tc.xml', '-Pinput=/tmp/data/intermediate/NovaSAR_01_10387_slc_200307_101114_HH_tmp/NovaSAR_01_10387_slc_200307_101114_HH/SV229/Image_Products$/NovaSAR_01_10387_slc_200307_101114_HH_/NovaSAR_01_10387_slc_11_200307_101114_HH_1/metadata.xml', '-Poutput=/tmp/data/intermediate/NovaSAR_01_10387_slc_200307_101114_HH_tmp/NovaSAR_01_10387_slc_11_200307_101114_HH_1_ML_TC_TF.dim']\n"
     ]
    },
    {
     "name": "stdout",
     "output_type": "stream",
     "text": [
      "2020-11-18 05:08:47 Extracted to /tmp/data/intermediate/NovaSAR_01_10387_slc_200307_101114_HH_tmp/NovaSAR_01_10387_slc_200307_101114_HH/\n",
      "NovaSAR_01_10387_slc_11_200307_101114_HH_1\n",
      "/tmp/data/intermediate/NovaSAR_01_10387_slc_200307_101114_HH_tmp/NovaSAR_01_10387_slc_11_200307_101114_HH_1_ML_TC_TF.data/\n",
      "/tmp/data/intermediate/NovaSAR_01_10387_slc_200307_101114_HH_tmp/NovaSAR_01_10387_slc_11_200307_101114_HH_1_ML_TC_TF_cog/\n"
     ]
    },
    {
     "name": "stderr",
     "output_type": "stream",
     "text": [
      "INFO:snap_stderr:stderr:INFO: org.esa.snap.core.gpf.operators.tooladapter.ToolAdapterIO: Initializing external tool adapters\n",
      "INFO:snap_stderr:stderr:INFO: org.esa.s2tbx.dataio.gdal.GDALVersion: Incompatible GDAL 3.1.4 found on system. Internal GDAL 3.0.0 from distribution will be used.\n",
      "INFO:snap_stderr:stderr:INFO: org.esa.s2tbx.dataio.gdal.GDALVersion: Internal GDAL 3.0.0 set to be used by SNAP.\n",
      "INFO:snap_stderr:stderr:INFO: org.esa.snap.core.util.EngineVersionCheckActivator: Please check regularly for new updates for the best SNAP experience.\n",
      "INFO:snap_stderr:stderr:INFO: org.esa.s2tbx.dataio.gdal.GDALVersion: Internal GDAL 3.0.0 set to be used by SNAP.\n",
      "INFO:snap_stdout:Executing processing graph\n",
      "INFO:snap_stderr:stderr:INFO: org.hsqldb.persist.Logger: dataFileCache open start\n",
      "INFO:snap_stdout:....10%....20%....30%....40%....50%....60%....70%....80%....90% done.\n"
     ]
    },
    {
     "name": "stdout",
     "output_type": "stream",
     "text": [
      "/tmp/data/intermediate/NovaSAR_01_10387_slc_200307_101114_HH_tmp/NovaSAR_01_10387_slc_11_200307_101114_HH_1_ML_TC_TF_cog/NovaSAR_01_10387_slc_11_200307_101114_HH_1_Gamma0_Intensity_HH_db.tif\n",
      "2020-11-18 05:11:54 Starting conversion: /tmp/data/intermediate/NovaSAR_01_10387_slc_200307_101114_HH_tmp/NovaSAR_01_10387_slc_11_200307_101114_HH_1_ML_TC_TF.data/Gamma0_Intensity_HH_db.img.\n",
      "2020-11-18 05:12:01 Conversion complete: True.\n"
     ]
    },
    {
     "name": "stderr",
     "output_type": "stream",
     "text": [
      "DEBUG:root:running ['/opt/snap/bin/gpt', '/opt/notebooks/anc/novasar_slc_tf_tc.xml', '-Pinput=/tmp/data/intermediate/NovaSAR_01_10387_slc_200307_101114_HH_tmp/NovaSAR_01_10387_slc_200307_101114_HH/SV229/Image_Products$/NovaSAR_01_10387_slc_200307_101114_HH_/NovaSAR_01_10387_slc_11_200307_101118_HH_2/metadata.xml', '-Poutput=/tmp/data/intermediate/NovaSAR_01_10387_slc_200307_101114_HH_tmp/NovaSAR_01_10387_slc_11_200307_101118_HH_2_ML_TC_TF.dim']\n"
     ]
    },
    {
     "name": "stdout",
     "output_type": "stream",
     "text": [
      "NovaSAR_01_10387_slc_11_200307_101118_HH_2\n",
      "/tmp/data/intermediate/NovaSAR_01_10387_slc_200307_101114_HH_tmp/NovaSAR_01_10387_slc_11_200307_101118_HH_2_ML_TC_TF.data/\n",
      "/tmp/data/intermediate/NovaSAR_01_10387_slc_200307_101114_HH_tmp/NovaSAR_01_10387_slc_11_200307_101118_HH_2_ML_TC_TF_cog/\n"
     ]
    },
    {
     "name": "stderr",
     "output_type": "stream",
     "text": [
      "INFO:snap_stderr:stderr:INFO: org.esa.snap.core.gpf.operators.tooladapter.ToolAdapterIO: Initializing external tool adapters\n",
      "INFO:snap_stderr:stderr:INFO: org.esa.s2tbx.dataio.gdal.GDALVersion: Incompatible GDAL 3.1.4 found on system. Internal GDAL 3.0.0 from distribution will be used.\n",
      "INFO:snap_stderr:stderr:INFO: org.esa.s2tbx.dataio.gdal.GDALVersion: Internal GDAL 3.0.0 set to be used by SNAP.\n",
      "INFO:snap_stderr:stderr:INFO: org.esa.snap.core.util.EngineVersionCheckActivator: Please check regularly for new updates for the best SNAP experience.\n",
      "INFO:snap_stderr:stderr:INFO: org.esa.s2tbx.dataio.gdal.GDALVersion: Internal GDAL 3.0.0 set to be used by SNAP.\n",
      "INFO:snap_stdout:Executing processing graph\n",
      "INFO:snap_stderr:stderr:INFO: org.hsqldb.persist.Logger: dataFileCache open start\n",
      "INFO:snap_stdout:....10%....20%....30%....40%....50%....60%....70%....80%....90% done.\n"
     ]
    },
    {
     "name": "stdout",
     "output_type": "stream",
     "text": [
      "/tmp/data/intermediate/NovaSAR_01_10387_slc_200307_101114_HH_tmp/NovaSAR_01_10387_slc_11_200307_101118_HH_2_ML_TC_TF_cog/NovaSAR_01_10387_slc_11_200307_101118_HH_2_Gamma0_Intensity_HH_db.tif\n",
      "2020-11-18 05:15:55 Starting conversion: /tmp/data/intermediate/NovaSAR_01_10387_slc_200307_101114_HH_tmp/NovaSAR_01_10387_slc_11_200307_101118_HH_2_ML_TC_TF.data/Gamma0_Intensity_HH_db.img.\n",
      "2020-11-18 05:16:02 Conversion complete: True.\n"
     ]
    },
    {
     "name": "stderr",
     "output_type": "stream",
     "text": [
      "DEBUG:root:running ['/opt/snap/bin/gpt', '/opt/notebooks/anc/novasar_slc_tf_tc.xml', '-Pinput=/tmp/data/intermediate/NovaSAR_01_10387_slc_200307_101114_HH_tmp/NovaSAR_01_10387_slc_200307_101114_HH/SV229/Image_Products$/NovaSAR_01_10387_slc_200307_101114_HH_/NovaSAR_01_10387_slc_11_200307_101122_HH_3/metadata.xml', '-Poutput=/tmp/data/intermediate/NovaSAR_01_10387_slc_200307_101114_HH_tmp/NovaSAR_01_10387_slc_11_200307_101122_HH_3_ML_TC_TF.dim']\n"
     ]
    },
    {
     "name": "stdout",
     "output_type": "stream",
     "text": [
      "NovaSAR_01_10387_slc_11_200307_101122_HH_3\n",
      "/tmp/data/intermediate/NovaSAR_01_10387_slc_200307_101114_HH_tmp/NovaSAR_01_10387_slc_11_200307_101122_HH_3_ML_TC_TF.data/\n",
      "/tmp/data/intermediate/NovaSAR_01_10387_slc_200307_101114_HH_tmp/NovaSAR_01_10387_slc_11_200307_101122_HH_3_ML_TC_TF_cog/\n"
     ]
    },
    {
     "name": "stderr",
     "output_type": "stream",
     "text": [
      "INFO:snap_stderr:stderr:INFO: org.esa.snap.core.gpf.operators.tooladapter.ToolAdapterIO: Initializing external tool adapters\n",
      "INFO:snap_stderr:stderr:INFO: org.esa.s2tbx.dataio.gdal.GDALVersion: Incompatible GDAL 3.1.4 found on system. Internal GDAL 3.0.0 from distribution will be used.\n",
      "INFO:snap_stderr:stderr:INFO: org.esa.s2tbx.dataio.gdal.GDALVersion: Internal GDAL 3.0.0 set to be used by SNAP.\n",
      "INFO:snap_stderr:stderr:INFO: org.esa.snap.core.util.EngineVersionCheckActivator: Please check regularly for new updates for the best SNAP experience.\n",
      "INFO:snap_stderr:stderr:INFO: org.esa.s2tbx.dataio.gdal.GDALVersion: Internal GDAL 3.0.0 set to be used by SNAP.\n",
      "INFO:snap_stdout:Executing processing graph\n",
      "INFO:snap_stderr:stderr:INFO: org.hsqldb.persist.Logger: dataFileCache open start\n",
      "INFO:snap_stdout:....10%....20%....30%....40%....50%....60%....70%....80%....90% done.\n"
     ]
    },
    {
     "name": "stdout",
     "output_type": "stream",
     "text": [
      "/tmp/data/intermediate/NovaSAR_01_10387_slc_200307_101114_HH_tmp/NovaSAR_01_10387_slc_11_200307_101122_HH_3_ML_TC_TF_cog/NovaSAR_01_10387_slc_11_200307_101122_HH_3_Gamma0_Intensity_HH_db.tif\n",
      "2020-11-18 05:21:02 Starting conversion: /tmp/data/intermediate/NovaSAR_01_10387_slc_200307_101114_HH_tmp/NovaSAR_01_10387_slc_11_200307_101122_HH_3_ML_TC_TF.data/Gamma0_Intensity_HH_db.img.\n",
      "2020-11-18 05:21:09 Conversion complete: True.\n"
     ]
    },
    {
     "name": "stderr",
     "output_type": "stream",
     "text": [
      "DEBUG:root:running ['/opt/snap/bin/gpt', '/opt/notebooks/anc/novasar_slc_tf_tc.xml', '-Pinput=/tmp/data/intermediate/NovaSAR_01_10387_slc_200307_101114_HH_tmp/NovaSAR_01_10387_slc_200307_101114_HH/SV229/Image_Products$/NovaSAR_01_10387_slc_200307_101114_HH_/NovaSAR_01_10387_slc_11_200307_101127_HH_4/metadata.xml', '-Poutput=/tmp/data/intermediate/NovaSAR_01_10387_slc_200307_101114_HH_tmp/NovaSAR_01_10387_slc_11_200307_101127_HH_4_ML_TC_TF.dim']\n"
     ]
    },
    {
     "name": "stdout",
     "output_type": "stream",
     "text": [
      "NovaSAR_01_10387_slc_11_200307_101127_HH_4\n",
      "/tmp/data/intermediate/NovaSAR_01_10387_slc_200307_101114_HH_tmp/NovaSAR_01_10387_slc_11_200307_101127_HH_4_ML_TC_TF.data/\n",
      "/tmp/data/intermediate/NovaSAR_01_10387_slc_200307_101114_HH_tmp/NovaSAR_01_10387_slc_11_200307_101127_HH_4_ML_TC_TF_cog/\n"
     ]
    },
    {
     "name": "stderr",
     "output_type": "stream",
     "text": [
      "INFO:snap_stderr:stderr:INFO: org.esa.snap.core.gpf.operators.tooladapter.ToolAdapterIO: Initializing external tool adapters\n",
      "INFO:snap_stderr:stderr:INFO: org.esa.s2tbx.dataio.gdal.GDALVersion: Incompatible GDAL 3.1.4 found on system. Internal GDAL 3.0.0 from distribution will be used.\n",
      "INFO:snap_stderr:stderr:INFO: org.esa.s2tbx.dataio.gdal.GDALVersion: Internal GDAL 3.0.0 set to be used by SNAP.\n",
      "INFO:snap_stderr:stderr:INFO: org.esa.snap.core.util.EngineVersionCheckActivator: Please check regularly for new updates for the best SNAP experience.\n",
      "INFO:snap_stderr:stderr:INFO: org.esa.s2tbx.dataio.gdal.GDALVersion: Internal GDAL 3.0.0 set to be used by SNAP.\n",
      "INFO:snap_stdout:Executing processing graph\n",
      "INFO:snap_stderr:stderr:INFO: org.hsqldb.persist.Logger: dataFileCache open start\n",
      "INFO:snap_stdout:....10%....20%....30%....40%....50%....60%....70%....80%....90% done.\n"
     ]
    },
    {
     "name": "stdout",
     "output_type": "stream",
     "text": [
      "/tmp/data/intermediate/NovaSAR_01_10387_slc_200307_101114_HH_tmp/NovaSAR_01_10387_slc_11_200307_101127_HH_4_ML_TC_TF_cog/NovaSAR_01_10387_slc_11_200307_101127_HH_4_Gamma0_Intensity_HH_db.tif\n",
      "2020-11-18 05:28:17 Starting conversion: /tmp/data/intermediate/NovaSAR_01_10387_slc_200307_101114_HH_tmp/NovaSAR_01_10387_slc_11_200307_101127_HH_4_ML_TC_TF.data/Gamma0_Intensity_HH_db.img.\n",
      "2020-11-18 05:28:32 Conversion complete: True.\n",
      "2020-11-18 05:30:05 Prepared NovaSAR_01_10387_slc_200307_101114_HH at novasar_uk_test/\n",
      "2020-11-18 05:30:05 Preparing NovaSAR_01_10135_slc_200215_094557_HH within /tmp/data/intermediate/NovaSAR_01_10135_slc_200215_094557_HH_tmp/\n"
     ]
    },
    {
     "name": "stderr",
     "output_type": "stream",
     "text": [
      "DEBUG:sedas_api:successful login.\n",
      "DEBUG:sedas_api:successful login.\n",
      "DEBUG:sedas_api:successful login.\n",
      "DEBUG:sedas_api:successful login.\n",
      "DEBUG:sedas_api:successful login.\n",
      "INFO:bulk_downloader:0 downloads pending, 0 downloads in progress, 0 requests pending\n",
      "INFO:bulk_downloader:2 active threads, 0 restarted.\n"
     ]
    },
    {
     "name": "stdout",
     "output_type": "stream",
     "text": [
      "2020-11-18 05:30:06 Downloading\n"
     ]
    },
    {
     "name": "stderr",
     "output_type": "stream",
     "text": [
      "DEBUG:bulk_downloader:1 downloads pending\n",
      "DEBUG:bulk_downloader:1 downloads pending\n",
      "INFO:bulk_downloader:downloading NovaSAR_01_10135_slc_200215_094557_HH to /tmp/data/intermediate/NovaSAR_01_10135_slc_200215_094557_HH_tmp/NovaSAR_01_10135_slc_200215_094557_HH.zip\n",
      "DEBUG:sedas_api:successful login.\n",
      "INFO:bulk_downloader:0 downloads pending, 1 downloads in progress, 0 requests pending\n",
      "INFO:bulk_downloader:2 active threads, 0 restarted.\n",
      "INFO:bulk_downloader:0 downloads pending, 1 downloads in progress, 0 requests pending\n",
      "INFO:bulk_downloader:2 active threads, 0 restarted.\n",
      "INFO:bulk_downloader:0 downloads pending, 1 downloads in progress, 0 requests pending\n",
      "INFO:bulk_downloader:2 active threads, 0 restarted.\n",
      "INFO:bulk_downloader:0 downloads pending, 1 downloads in progress, 0 requests pending\n",
      "INFO:bulk_downloader:2 active threads, 0 restarted.\n",
      "INFO:bulk_downloader:0 downloads pending, 1 downloads in progress, 0 requests pending\n",
      "INFO:bulk_downloader:2 active threads, 0 restarted.\n",
      "INFO:bulk_downloader:0 downloads pending, 1 downloads in progress, 0 requests pending\n",
      "INFO:bulk_downloader:2 active threads, 0 restarted.\n",
      "INFO:bulk_downloader:0 downloads pending, 1 downloads in progress, 0 requests pending\n",
      "INFO:bulk_downloader:2 active threads, 0 restarted.\n",
      "DEBUG:bulk_downloader:0 downloads pending\n",
      "DEBUG:bulk_downloader:requests thread stopping\n",
      "DEBUG:bulk_downloader:monitor thread stopping\n"
     ]
    },
    {
     "name": "stdout",
     "output_type": "stream",
     "text": [
      "2020-11-18 05:30:46 Downloaded\n",
      "2020-11-18 05:30:46 Extracting /tmp/data/intermediate/NovaSAR_01_10135_slc_200215_094557_HH_tmp/NovaSAR_01_10135_slc_200215_094557_HH.zip\n"
     ]
    },
    {
     "name": "stderr",
     "output_type": "stream",
     "text": [
      "DEBUG:root:running ['/opt/snap/bin/gpt', '/opt/notebooks/anc/novasar_slc_tf_tc.xml', '-Pinput=/tmp/data/intermediate/NovaSAR_01_10135_slc_200215_094557_HH_tmp/NovaSAR_01_10135_slc_200215_094557_HH/SV229/Image_Products$/NovaSAR_01_10135_slc_200215_094557_HH_/NovaSAR_01_10135_slc_11_200215_094557_HH_1/metadata.xml', '-Poutput=/tmp/data/intermediate/NovaSAR_01_10135_slc_200215_094557_HH_tmp/NovaSAR_01_10135_slc_11_200215_094557_HH_1_ML_TC_TF.dim']\n"
     ]
    },
    {
     "name": "stdout",
     "output_type": "stream",
     "text": [
      "2020-11-18 05:31:11 Extracted to /tmp/data/intermediate/NovaSAR_01_10135_slc_200215_094557_HH_tmp/NovaSAR_01_10135_slc_200215_094557_HH/\n",
      "NovaSAR_01_10135_slc_11_200215_094557_HH_1\n",
      "/tmp/data/intermediate/NovaSAR_01_10135_slc_200215_094557_HH_tmp/NovaSAR_01_10135_slc_11_200215_094557_HH_1_ML_TC_TF.data/\n",
      "/tmp/data/intermediate/NovaSAR_01_10135_slc_200215_094557_HH_tmp/NovaSAR_01_10135_slc_11_200215_094557_HH_1_ML_TC_TF_cog/\n"
     ]
    },
    {
     "name": "stderr",
     "output_type": "stream",
     "text": [
      "INFO:snap_stderr:stderr:INFO: org.esa.snap.core.gpf.operators.tooladapter.ToolAdapterIO: Initializing external tool adapters\n",
      "INFO:snap_stderr:stderr:INFO: org.esa.s2tbx.dataio.gdal.GDALVersion: Incompatible GDAL 3.1.4 found on system. Internal GDAL 3.0.0 from distribution will be used.\n",
      "INFO:snap_stderr:stderr:INFO: org.esa.s2tbx.dataio.gdal.GDALVersion: Internal GDAL 3.0.0 set to be used by SNAP.\n",
      "INFO:snap_stderr:stderr:INFO: org.esa.snap.core.util.EngineVersionCheckActivator: Please check regularly for new updates for the best SNAP experience.\n",
      "INFO:snap_stderr:stderr:INFO: org.esa.s2tbx.dataio.gdal.GDALVersion: Internal GDAL 3.0.0 set to be used by SNAP.\n",
      "INFO:snap_stdout:Executing processing graph\n",
      "INFO:snap_stderr:stderr:INFO: org.hsqldb.persist.Logger: dataFileCache open start\n",
      "INFO:snap_stdout:....10%....20%....30%....40%....50%....60%....70%....80%....90% done.\n"
     ]
    },
    {
     "name": "stdout",
     "output_type": "stream",
     "text": [
      "/tmp/data/intermediate/NovaSAR_01_10135_slc_200215_094557_HH_tmp/NovaSAR_01_10135_slc_11_200215_094557_HH_1_ML_TC_TF_cog/NovaSAR_01_10135_slc_11_200215_094557_HH_1_Gamma0_Intensity_HH_db.tif\n",
      "2020-11-18 05:34:28 Starting conversion: /tmp/data/intermediate/NovaSAR_01_10135_slc_200215_094557_HH_tmp/NovaSAR_01_10135_slc_11_200215_094557_HH_1_ML_TC_TF.data/Gamma0_Intensity_HH_db.img.\n",
      "2020-11-18 05:34:35 Conversion complete: True.\n"
     ]
    },
    {
     "name": "stderr",
     "output_type": "stream",
     "text": [
      "DEBUG:root:running ['/opt/snap/bin/gpt', '/opt/notebooks/anc/novasar_slc_tf_tc.xml', '-Pinput=/tmp/data/intermediate/NovaSAR_01_10135_slc_200215_094557_HH_tmp/NovaSAR_01_10135_slc_200215_094557_HH/SV229/Image_Products$/NovaSAR_01_10135_slc_200215_094557_HH_/NovaSAR_01_10135_slc_11_200215_094601_HH_2/metadata.xml', '-Poutput=/tmp/data/intermediate/NovaSAR_01_10135_slc_200215_094557_HH_tmp/NovaSAR_01_10135_slc_11_200215_094601_HH_2_ML_TC_TF.dim']\n"
     ]
    },
    {
     "name": "stdout",
     "output_type": "stream",
     "text": [
      "NovaSAR_01_10135_slc_11_200215_094601_HH_2\n",
      "/tmp/data/intermediate/NovaSAR_01_10135_slc_200215_094557_HH_tmp/NovaSAR_01_10135_slc_11_200215_094601_HH_2_ML_TC_TF.data/\n",
      "/tmp/data/intermediate/NovaSAR_01_10135_slc_200215_094557_HH_tmp/NovaSAR_01_10135_slc_11_200215_094601_HH_2_ML_TC_TF_cog/\n"
     ]
    },
    {
     "name": "stderr",
     "output_type": "stream",
     "text": [
      "INFO:snap_stderr:stderr:INFO: org.esa.snap.core.gpf.operators.tooladapter.ToolAdapterIO: Initializing external tool adapters\n",
      "INFO:snap_stderr:stderr:INFO: org.esa.s2tbx.dataio.gdal.GDALVersion: Incompatible GDAL 3.1.4 found on system. Internal GDAL 3.0.0 from distribution will be used.\n",
      "INFO:snap_stderr:stderr:INFO: org.esa.s2tbx.dataio.gdal.GDALVersion: Internal GDAL 3.0.0 set to be used by SNAP.\n",
      "INFO:snap_stderr:stderr:INFO: org.esa.snap.core.util.EngineVersionCheckActivator: Please check regularly for new updates for the best SNAP experience.\n",
      "INFO:snap_stderr:stderr:INFO: org.esa.s2tbx.dataio.gdal.GDALVersion: Internal GDAL 3.0.0 set to be used by SNAP.\n",
      "INFO:snap_stdout:Executing processing graph\n",
      "INFO:snap_stderr:stderr:INFO: org.hsqldb.persist.Logger: dataFileCache open start\n",
      "INFO:snap_stdout:....10%....20%....30%....40%....50%....60%....70%....80%....90% done.\n"
     ]
    },
    {
     "name": "stdout",
     "output_type": "stream",
     "text": [
      "/tmp/data/intermediate/NovaSAR_01_10135_slc_200215_094557_HH_tmp/NovaSAR_01_10135_slc_11_200215_094601_HH_2_ML_TC_TF_cog/NovaSAR_01_10135_slc_11_200215_094601_HH_2_Gamma0_Intensity_HH_db.tif\n",
      "2020-11-18 05:39:23 Starting conversion: /tmp/data/intermediate/NovaSAR_01_10135_slc_200215_094557_HH_tmp/NovaSAR_01_10135_slc_11_200215_094601_HH_2_ML_TC_TF.data/Gamma0_Intensity_HH_db.img.\n",
      "2020-11-18 05:39:31 Conversion complete: True.\n"
     ]
    },
    {
     "name": "stderr",
     "output_type": "stream",
     "text": [
      "DEBUG:sedas_api:successful login.\n"
     ]
    },
    {
     "name": "stdout",
     "output_type": "stream",
     "text": [
      "2020-11-18 05:40:20 Prepared NovaSAR_01_10135_slc_200215_094557_HH at novasar_uk_test/\n",
      "2020-11-18 05:40:20 Preparing NovaSAR_01_9669_slc_200130_095029_HH within /tmp/data/intermediate/NovaSAR_01_9669_slc_200130_095029_HH_tmp/\n"
     ]
    },
    {
     "name": "stderr",
     "output_type": "stream",
     "text": [
      "DEBUG:sedas_api:successful login.\n",
      "DEBUG:sedas_api:successful login.\n",
      "DEBUG:sedas_api:successful login.\n",
      "DEBUG:sedas_api:successful login.\n",
      "INFO:bulk_downloader:0 downloads pending, 0 downloads in progress, 0 requests pending\n",
      "INFO:bulk_downloader:2 active threads, 0 restarted.\n"
     ]
    },
    {
     "name": "stdout",
     "output_type": "stream",
     "text": [
      "2020-11-18 05:40:21 Downloading\n"
     ]
    },
    {
     "name": "stderr",
     "output_type": "stream",
     "text": [
      "DEBUG:bulk_downloader:1 downloads pending\n",
      "DEBUG:bulk_downloader:1 downloads pending\n",
      "INFO:bulk_downloader:downloading NovaSAR_01_9669_slc_200130_095029_HH to /tmp/data/intermediate/NovaSAR_01_9669_slc_200130_095029_HH_tmp/NovaSAR_01_9669_slc_200130_095029_HH.zip\n",
      "DEBUG:sedas_api:successful login.\n",
      "INFO:bulk_downloader:0 downloads pending, 1 downloads in progress, 0 requests pending\n",
      "INFO:bulk_downloader:2 active threads, 0 restarted.\n",
      "INFO:bulk_downloader:0 downloads pending, 1 downloads in progress, 0 requests pending\n",
      "INFO:bulk_downloader:2 active threads, 0 restarted.\n",
      "INFO:bulk_downloader:0 downloads pending, 1 downloads in progress, 0 requests pending\n",
      "INFO:bulk_downloader:2 active threads, 0 restarted.\n",
      "INFO:bulk_downloader:0 downloads pending, 1 downloads in progress, 0 requests pending\n",
      "INFO:bulk_downloader:2 active threads, 0 restarted.\n",
      "INFO:bulk_downloader:0 downloads pending, 1 downloads in progress, 0 requests pending\n",
      "INFO:bulk_downloader:2 active threads, 0 restarted.\n",
      "INFO:bulk_downloader:0 downloads pending, 1 downloads in progress, 0 requests pending\n",
      "INFO:bulk_downloader:2 active threads, 0 restarted.\n",
      "INFO:bulk_downloader:0 downloads pending, 1 downloads in progress, 0 requests pending\n",
      "INFO:bulk_downloader:2 active threads, 0 restarted.\n",
      "INFO:bulk_downloader:0 downloads pending, 1 downloads in progress, 0 requests pending\n",
      "INFO:bulk_downloader:2 active threads, 0 restarted.\n",
      "INFO:bulk_downloader:0 downloads pending, 1 downloads in progress, 0 requests pending\n",
      "INFO:bulk_downloader:2 active threads, 0 restarted.\n",
      "INFO:bulk_downloader:0 downloads pending, 1 downloads in progress, 0 requests pending\n",
      "INFO:bulk_downloader:2 active threads, 0 restarted.\n",
      "DEBUG:bulk_downloader:0 downloads pending\n",
      "DEBUG:bulk_downloader:requests thread stopping\n",
      "DEBUG:bulk_downloader:monitor thread stopping\n"
     ]
    },
    {
     "name": "stdout",
     "output_type": "stream",
     "text": [
      "2020-11-18 05:41:16 Downloaded\n",
      "2020-11-18 05:41:16 Extracting /tmp/data/intermediate/NovaSAR_01_9669_slc_200130_095029_HH_tmp/NovaSAR_01_9669_slc_200130_095029_HH.zip\n"
     ]
    },
    {
     "name": "stderr",
     "output_type": "stream",
     "text": [
      "DEBUG:root:running ['/opt/snap/bin/gpt', '/opt/notebooks/anc/novasar_slc_tf_tc.xml', '-Pinput=/tmp/data/intermediate/NovaSAR_01_9669_slc_200130_095029_HH_tmp/NovaSAR_01_9669_slc_200130_095029_HH/SV229/Image_Products$/NovaSAR_01_9669_slc_200130_095029_HH_/NovaSAR_01_9669_slc_11_200130_095029_HH_1/metadata.xml', '-Poutput=/tmp/data/intermediate/NovaSAR_01_9669_slc_200130_095029_HH_tmp/NovaSAR_01_9669_slc_11_200130_095029_HH_1_ML_TC_TF.dim']\n"
     ]
    },
    {
     "name": "stdout",
     "output_type": "stream",
     "text": [
      "2020-11-18 05:41:57 Extracted to /tmp/data/intermediate/NovaSAR_01_9669_slc_200130_095029_HH_tmp/NovaSAR_01_9669_slc_200130_095029_HH/\n",
      "NovaSAR_01_9669_slc_11_200130_095029_HH_1\n",
      "/tmp/data/intermediate/NovaSAR_01_9669_slc_200130_095029_HH_tmp/NovaSAR_01_9669_slc_11_200130_095029_HH_1_ML_TC_TF.data/\n",
      "/tmp/data/intermediate/NovaSAR_01_9669_slc_200130_095029_HH_tmp/NovaSAR_01_9669_slc_11_200130_095029_HH_1_ML_TC_TF_cog/\n"
     ]
    },
    {
     "name": "stderr",
     "output_type": "stream",
     "text": [
      "INFO:snap_stderr:stderr:INFO: org.esa.snap.core.gpf.operators.tooladapter.ToolAdapterIO: Initializing external tool adapters\n",
      "INFO:snap_stderr:stderr:INFO: org.esa.s2tbx.dataio.gdal.GDALVersion: Incompatible GDAL 3.1.4 found on system. Internal GDAL 3.0.0 from distribution will be used.\n",
      "INFO:snap_stderr:stderr:INFO: org.esa.s2tbx.dataio.gdal.GDALVersion: Internal GDAL 3.0.0 set to be used by SNAP.\n",
      "INFO:snap_stderr:stderr:INFO: org.esa.snap.core.util.EngineVersionCheckActivator: Please check regularly for new updates for the best SNAP experience.\n",
      "INFO:snap_stderr:stderr:INFO: org.esa.s2tbx.dataio.gdal.GDALVersion: Internal GDAL 3.0.0 set to be used by SNAP.\n",
      "INFO:snap_stdout:Executing processing graph\n",
      "INFO:snap_stderr:stderr:INFO: org.hsqldb.persist.Logger: dataFileCache open start\n",
      "INFO:snap_stderr:stderr:INFO: org.esa.snap.core.dataop.dem.ElevationFile: http retrieving http://step.esa.int/auxdata/dem/SRTMGL1/N53W005.SRTMGL1.hgt.zip\n",
      "INFO:snap_stdout:....10%....20%....30%....40%....50%....60%....70%....80%....90% done.\n"
     ]
    },
    {
     "name": "stdout",
     "output_type": "stream",
     "text": [
      "/tmp/data/intermediate/NovaSAR_01_9669_slc_200130_095029_HH_tmp/NovaSAR_01_9669_slc_11_200130_095029_HH_1_ML_TC_TF_cog/NovaSAR_01_9669_slc_11_200130_095029_HH_1_Gamma0_Intensity_HH_db.tif\n",
      "2020-11-18 05:43:43 Starting conversion: /tmp/data/intermediate/NovaSAR_01_9669_slc_200130_095029_HH_tmp/NovaSAR_01_9669_slc_11_200130_095029_HH_1_ML_TC_TF.data/Gamma0_Intensity_HH_db.img.\n",
      "2020-11-18 05:43:49 Conversion complete: True.\n"
     ]
    },
    {
     "name": "stderr",
     "output_type": "stream",
     "text": [
      "DEBUG:root:running ['/opt/snap/bin/gpt', '/opt/notebooks/anc/novasar_slc_tf_tc.xml', '-Pinput=/tmp/data/intermediate/NovaSAR_01_9669_slc_200130_095029_HH_tmp/NovaSAR_01_9669_slc_200130_095029_HH/SV229/Image_Products$/NovaSAR_01_9669_slc_200130_095029_HH_/NovaSAR_01_9669_slc_11_200130_095033_HH_2/metadata.xml', '-Poutput=/tmp/data/intermediate/NovaSAR_01_9669_slc_200130_095029_HH_tmp/NovaSAR_01_9669_slc_11_200130_095033_HH_2_ML_TC_TF.dim']\n"
     ]
    },
    {
     "name": "stdout",
     "output_type": "stream",
     "text": [
      "NovaSAR_01_9669_slc_11_200130_095033_HH_2\n",
      "/tmp/data/intermediate/NovaSAR_01_9669_slc_200130_095029_HH_tmp/NovaSAR_01_9669_slc_11_200130_095033_HH_2_ML_TC_TF.data/\n",
      "/tmp/data/intermediate/NovaSAR_01_9669_slc_200130_095029_HH_tmp/NovaSAR_01_9669_slc_11_200130_095033_HH_2_ML_TC_TF_cog/\n"
     ]
    },
    {
     "name": "stderr",
     "output_type": "stream",
     "text": [
      "INFO:snap_stderr:stderr:INFO: org.esa.snap.core.gpf.operators.tooladapter.ToolAdapterIO: Initializing external tool adapters\n",
      "INFO:snap_stderr:stderr:INFO: org.esa.s2tbx.dataio.gdal.GDALVersion: Incompatible GDAL 3.1.4 found on system. Internal GDAL 3.0.0 from distribution will be used.\n",
      "INFO:snap_stderr:stderr:INFO: org.esa.s2tbx.dataio.gdal.GDALVersion: Internal GDAL 3.0.0 set to be used by SNAP.\n",
      "INFO:snap_stderr:stderr:INFO: org.esa.snap.core.util.EngineVersionCheckActivator: Please check regularly for new updates for the best SNAP experience.\n",
      "INFO:snap_stderr:stderr:INFO: org.esa.s2tbx.dataio.gdal.GDALVersion: Internal GDAL 3.0.0 set to be used by SNAP.\n",
      "INFO:snap_stdout:Executing processing graph\n",
      "INFO:snap_stderr:stderr:INFO: org.hsqldb.persist.Logger: dataFileCache open start\n",
      "INFO:snap_stderr:stderr:INFO: org.esa.snap.core.dataop.dem.ElevationFile: http retrieving http://step.esa.int/auxdata/dem/SRTMGL1/N54W005.SRTMGL1.hgt.zip\n",
      "INFO:snap_stdout:....10%....20%....30%....40%....50%....60%....70%....80%....90% done.\n"
     ]
    },
    {
     "name": "stdout",
     "output_type": "stream",
     "text": [
      "/tmp/data/intermediate/NovaSAR_01_9669_slc_200130_095029_HH_tmp/NovaSAR_01_9669_slc_11_200130_095033_HH_2_ML_TC_TF_cog/NovaSAR_01_9669_slc_11_200130_095033_HH_2_Gamma0_Intensity_HH_db.tif\n",
      "2020-11-18 05:46:24 Starting conversion: /tmp/data/intermediate/NovaSAR_01_9669_slc_200130_095029_HH_tmp/NovaSAR_01_9669_slc_11_200130_095033_HH_2_ML_TC_TF.data/Gamma0_Intensity_HH_db.img.\n",
      "2020-11-18 05:46:30 Conversion complete: True.\n"
     ]
    },
    {
     "name": "stderr",
     "output_type": "stream",
     "text": [
      "DEBUG:root:running ['/opt/snap/bin/gpt', '/opt/notebooks/anc/novasar_slc_tf_tc.xml', '-Pinput=/tmp/data/intermediate/NovaSAR_01_9669_slc_200130_095029_HH_tmp/NovaSAR_01_9669_slc_200130_095029_HH/SV229/Image_Products$/NovaSAR_01_9669_slc_200130_095029_HH_/NovaSAR_01_9669_slc_11_200130_095036_HH_3/metadata.xml', '-Poutput=/tmp/data/intermediate/NovaSAR_01_9669_slc_200130_095029_HH_tmp/NovaSAR_01_9669_slc_11_200130_095036_HH_3_ML_TC_TF.dim']\n"
     ]
    },
    {
     "name": "stdout",
     "output_type": "stream",
     "text": [
      "NovaSAR_01_9669_slc_11_200130_095036_HH_3\n",
      "/tmp/data/intermediate/NovaSAR_01_9669_slc_200130_095029_HH_tmp/NovaSAR_01_9669_slc_11_200130_095036_HH_3_ML_TC_TF.data/\n",
      "/tmp/data/intermediate/NovaSAR_01_9669_slc_200130_095029_HH_tmp/NovaSAR_01_9669_slc_11_200130_095036_HH_3_ML_TC_TF_cog/\n"
     ]
    },
    {
     "name": "stderr",
     "output_type": "stream",
     "text": [
      "INFO:snap_stderr:stderr:INFO: org.esa.snap.core.gpf.operators.tooladapter.ToolAdapterIO: Initializing external tool adapters\n",
      "INFO:snap_stderr:stderr:INFO: org.esa.s2tbx.dataio.gdal.GDALVersion: Incompatible GDAL 3.1.4 found on system. Internal GDAL 3.0.0 from distribution will be used.\n",
      "INFO:snap_stderr:stderr:INFO: org.esa.s2tbx.dataio.gdal.GDALVersion: Internal GDAL 3.0.0 set to be used by SNAP.\n",
      "INFO:snap_stderr:stderr:INFO: org.esa.snap.core.util.EngineVersionCheckActivator: Please check regularly for new updates for the best SNAP experience.\n",
      "INFO:snap_stderr:stderr:INFO: org.esa.s2tbx.dataio.gdal.GDALVersion: Internal GDAL 3.0.0 set to be used by SNAP.\n",
      "INFO:snap_stdout:Executing processing graph\n",
      "INFO:snap_stderr:stderr:INFO: org.hsqldb.persist.Logger: dataFileCache open start\n",
      "INFO:snap_stdout:....10%....20%....30%....40%....50%....60%....70%....80%....90% done.\n"
     ]
    },
    {
     "name": "stdout",
     "output_type": "stream",
     "text": [
      "/tmp/data/intermediate/NovaSAR_01_9669_slc_200130_095029_HH_tmp/NovaSAR_01_9669_slc_11_200130_095036_HH_3_ML_TC_TF_cog/NovaSAR_01_9669_slc_11_200130_095036_HH_3_Gamma0_Intensity_HH_db.tif\n",
      "2020-11-18 05:49:06 Starting conversion: /tmp/data/intermediate/NovaSAR_01_9669_slc_200130_095029_HH_tmp/NovaSAR_01_9669_slc_11_200130_095036_HH_3_ML_TC_TF.data/Gamma0_Intensity_HH_db.img.\n",
      "2020-11-18 05:49:13 Conversion complete: True.\n"
     ]
    },
    {
     "name": "stderr",
     "output_type": "stream",
     "text": [
      "DEBUG:root:running ['/opt/snap/bin/gpt', '/opt/notebooks/anc/novasar_slc_tf_tc.xml', '-Pinput=/tmp/data/intermediate/NovaSAR_01_9669_slc_200130_095029_HH_tmp/NovaSAR_01_9669_slc_200130_095029_HH/SV229/Image_Products$/NovaSAR_01_9669_slc_200130_095029_HH_/NovaSAR_01_9669_slc_11_200130_095040_HH_4/metadata.xml', '-Poutput=/tmp/data/intermediate/NovaSAR_01_9669_slc_200130_095029_HH_tmp/NovaSAR_01_9669_slc_11_200130_095040_HH_4_ML_TC_TF.dim']\n"
     ]
    },
    {
     "name": "stdout",
     "output_type": "stream",
     "text": [
      "NovaSAR_01_9669_slc_11_200130_095040_HH_4\n",
      "/tmp/data/intermediate/NovaSAR_01_9669_slc_200130_095029_HH_tmp/NovaSAR_01_9669_slc_11_200130_095040_HH_4_ML_TC_TF.data/\n",
      "/tmp/data/intermediate/NovaSAR_01_9669_slc_200130_095029_HH_tmp/NovaSAR_01_9669_slc_11_200130_095040_HH_4_ML_TC_TF_cog/\n"
     ]
    },
    {
     "name": "stderr",
     "output_type": "stream",
     "text": [
      "INFO:snap_stderr:stderr:INFO: org.esa.snap.core.gpf.operators.tooladapter.ToolAdapterIO: Initializing external tool adapters\n",
      "INFO:snap_stderr:stderr:INFO: org.esa.s2tbx.dataio.gdal.GDALVersion: Incompatible GDAL 3.1.4 found on system. Internal GDAL 3.0.0 from distribution will be used.\n",
      "INFO:snap_stderr:stderr:INFO: org.esa.s2tbx.dataio.gdal.GDALVersion: Internal GDAL 3.0.0 set to be used by SNAP.\n",
      "INFO:snap_stderr:stderr:INFO: org.esa.snap.core.util.EngineVersionCheckActivator: Please check regularly for new updates for the best SNAP experience.\n",
      "INFO:snap_stderr:stderr:INFO: org.esa.s2tbx.dataio.gdal.GDALVersion: Internal GDAL 3.0.0 set to be used by SNAP.\n",
      "INFO:snap_stdout:Executing processing graph\n",
      "INFO:snap_stderr:stderr:INFO: org.hsqldb.persist.Logger: dataFileCache open start\n",
      "INFO:snap_stdout:....10%....20%....30%....40%....50%....60%....70%....80%....90% done.\n"
     ]
    },
    {
     "name": "stdout",
     "output_type": "stream",
     "text": [
      "/tmp/data/intermediate/NovaSAR_01_9669_slc_200130_095029_HH_tmp/NovaSAR_01_9669_slc_11_200130_095040_HH_4_ML_TC_TF_cog/NovaSAR_01_9669_slc_11_200130_095040_HH_4_Gamma0_Intensity_HH_db.tif\n",
      "2020-11-18 05:51:43 Starting conversion: /tmp/data/intermediate/NovaSAR_01_9669_slc_200130_095029_HH_tmp/NovaSAR_01_9669_slc_11_200130_095040_HH_4_ML_TC_TF.data/Gamma0_Intensity_HH_db.img.\n",
      "2020-11-18 05:51:50 Conversion complete: True.\n"
     ]
    },
    {
     "name": "stderr",
     "output_type": "stream",
     "text": [
      "DEBUG:root:running ['/opt/snap/bin/gpt', '/opt/notebooks/anc/novasar_slc_tf_tc.xml', '-Pinput=/tmp/data/intermediate/NovaSAR_01_9669_slc_200130_095029_HH_tmp/NovaSAR_01_9669_slc_200130_095029_HH/SV229/Image_Products$/NovaSAR_01_9669_slc_200130_095029_HH_/NovaSAR_01_9669_slc_11_200130_095044_HH_5/metadata.xml', '-Poutput=/tmp/data/intermediate/NovaSAR_01_9669_slc_200130_095029_HH_tmp/NovaSAR_01_9669_slc_11_200130_095044_HH_5_ML_TC_TF.dim']\n"
     ]
    },
    {
     "name": "stdout",
     "output_type": "stream",
     "text": [
      "NovaSAR_01_9669_slc_11_200130_095044_HH_5\n",
      "/tmp/data/intermediate/NovaSAR_01_9669_slc_200130_095029_HH_tmp/NovaSAR_01_9669_slc_11_200130_095044_HH_5_ML_TC_TF.data/\n",
      "/tmp/data/intermediate/NovaSAR_01_9669_slc_200130_095029_HH_tmp/NovaSAR_01_9669_slc_11_200130_095044_HH_5_ML_TC_TF_cog/\n"
     ]
    },
    {
     "name": "stderr",
     "output_type": "stream",
     "text": [
      "INFO:snap_stderr:stderr:INFO: org.esa.snap.core.gpf.operators.tooladapter.ToolAdapterIO: Initializing external tool adapters\n",
      "INFO:snap_stderr:stderr:INFO: org.esa.s2tbx.dataio.gdal.GDALVersion: Incompatible GDAL 3.1.4 found on system. Internal GDAL 3.0.0 from distribution will be used.\n",
      "INFO:snap_stderr:stderr:INFO: org.esa.s2tbx.dataio.gdal.GDALVersion: Internal GDAL 3.0.0 set to be used by SNAP.\n",
      "INFO:snap_stderr:stderr:INFO: org.esa.snap.core.util.EngineVersionCheckActivator: Please check regularly for new updates for the best SNAP experience.\n",
      "INFO:snap_stderr:stderr:INFO: org.esa.s2tbx.dataio.gdal.GDALVersion: Internal GDAL 3.0.0 set to be used by SNAP.\n",
      "INFO:snap_stdout:Executing processing graph\n",
      "INFO:snap_stderr:stderr:INFO: org.hsqldb.persist.Logger: dataFileCache open start\n",
      "INFO:snap_stdout:....10%....20%....30%....40%....50%....60%....70%....80%....90% done.\n"
     ]
    },
    {
     "name": "stdout",
     "output_type": "stream",
     "text": [
      "/tmp/data/intermediate/NovaSAR_01_9669_slc_200130_095029_HH_tmp/NovaSAR_01_9669_slc_11_200130_095044_HH_5_ML_TC_TF_cog/NovaSAR_01_9669_slc_11_200130_095044_HH_5_Gamma0_Intensity_HH_db.tif\n",
      "2020-11-18 05:54:29 Starting conversion: /tmp/data/intermediate/NovaSAR_01_9669_slc_200130_095029_HH_tmp/NovaSAR_01_9669_slc_11_200130_095044_HH_5_ML_TC_TF.data/Gamma0_Intensity_HH_db.img.\n",
      "2020-11-18 05:54:35 Conversion complete: True.\n",
      "2020-11-18 05:55:15 Prepared NovaSAR_01_9669_slc_200130_095029_HH at novasar_uk_test/\n",
      "2020-11-18 05:55:15 Preparing NovaSAR_01_9629_slc_200129_094345_HH within /tmp/data/intermediate/NovaSAR_01_9629_slc_200129_094345_HH_tmp/\n"
     ]
    },
    {
     "name": "stderr",
     "output_type": "stream",
     "text": [
      "DEBUG:sedas_api:successful login.\n",
      "DEBUG:sedas_api:successful login.\n",
      "DEBUG:sedas_api:successful login.\n",
      "DEBUG:sedas_api:successful login.\n",
      "DEBUG:sedas_api:successful login.\n",
      "INFO:bulk_downloader:0 downloads pending, 0 downloads in progress, 0 requests pending\n",
      "INFO:bulk_downloader:2 active threads, 0 restarted.\n"
     ]
    },
    {
     "name": "stdout",
     "output_type": "stream",
     "text": [
      "2020-11-18 05:55:16 Downloading\n"
     ]
    },
    {
     "name": "stderr",
     "output_type": "stream",
     "text": [
      "DEBUG:bulk_downloader:1 downloads pending\n",
      "DEBUG:bulk_downloader:1 downloads pending\n",
      "INFO:bulk_downloader:downloading NovaSAR_01_9629_slc_200129_094345_HH to /tmp/data/intermediate/NovaSAR_01_9629_slc_200129_094345_HH_tmp/NovaSAR_01_9629_slc_200129_094345_HH.zip\n",
      "DEBUG:sedas_api:successful login.\n",
      "INFO:bulk_downloader:0 downloads pending, 1 downloads in progress, 0 requests pending\n",
      "INFO:bulk_downloader:2 active threads, 0 restarted.\n",
      "INFO:bulk_downloader:0 downloads pending, 1 downloads in progress, 0 requests pending\n",
      "INFO:bulk_downloader:2 active threads, 0 restarted.\n",
      "INFO:bulk_downloader:0 downloads pending, 1 downloads in progress, 0 requests pending\n",
      "INFO:bulk_downloader:2 active threads, 0 restarted.\n",
      "INFO:bulk_downloader:0 downloads pending, 1 downloads in progress, 0 requests pending\n",
      "INFO:bulk_downloader:2 active threads, 0 restarted.\n",
      "INFO:bulk_downloader:0 downloads pending, 1 downloads in progress, 0 requests pending\n",
      "INFO:bulk_downloader:2 active threads, 0 restarted.\n",
      "INFO:bulk_downloader:0 downloads pending, 1 downloads in progress, 0 requests pending\n",
      "INFO:bulk_downloader:2 active threads, 0 restarted.\n",
      "INFO:bulk_downloader:0 downloads pending, 1 downloads in progress, 0 requests pending\n",
      "INFO:bulk_downloader:2 active threads, 0 restarted.\n",
      "INFO:bulk_downloader:0 downloads pending, 1 downloads in progress, 0 requests pending\n",
      "INFO:bulk_downloader:2 active threads, 0 restarted.\n",
      "INFO:bulk_downloader:0 downloads pending, 1 downloads in progress, 0 requests pending\n",
      "INFO:bulk_downloader:2 active threads, 0 restarted.\n",
      "INFO:bulk_downloader:0 downloads pending, 1 downloads in progress, 0 requests pending\n",
      "INFO:bulk_downloader:2 active threads, 0 restarted.\n",
      "INFO:bulk_downloader:0 downloads pending, 1 downloads in progress, 0 requests pending\n",
      "INFO:bulk_downloader:2 active threads, 0 restarted.\n",
      "DEBUG:bulk_downloader:requests thread stopping\n",
      "DEBUG:bulk_downloader:monitor thread stopping\n"
     ]
    },
    {
     "name": "stdout",
     "output_type": "stream",
     "text": [
      "2020-11-18 05:56:17 Downloaded\n",
      "2020-11-18 05:56:17 Extracting /tmp/data/intermediate/NovaSAR_01_9629_slc_200129_094345_HH_tmp/NovaSAR_01_9629_slc_200129_094345_HH.zip\n"
     ]
    },
    {
     "name": "stderr",
     "output_type": "stream",
     "text": [
      "DEBUG:bulk_downloader:0 downloads pending\n",
      "DEBUG:root:running ['/opt/snap/bin/gpt', '/opt/notebooks/anc/novasar_slc_tf_tc.xml', '-Pinput=/tmp/data/intermediate/NovaSAR_01_9629_slc_200129_094345_HH_tmp/NovaSAR_01_9629_slc_200129_094345_HH/SV229/Image_Products$/NovaSAR_01_9629_slc_200129_094345_HH_/NovaSAR_01_9629_slc_11_200129_094345_HH_1/metadata.xml', '-Poutput=/tmp/data/intermediate/NovaSAR_01_9629_slc_200129_094345_HH_tmp/NovaSAR_01_9629_slc_11_200129_094345_HH_1_ML_TC_TF.dim']\n"
     ]
    },
    {
     "name": "stdout",
     "output_type": "stream",
     "text": [
      "2020-11-18 05:57:00 Extracted to /tmp/data/intermediate/NovaSAR_01_9629_slc_200129_094345_HH_tmp/NovaSAR_01_9629_slc_200129_094345_HH/\n",
      "NovaSAR_01_9629_slc_11_200129_094345_HH_1\n",
      "/tmp/data/intermediate/NovaSAR_01_9629_slc_200129_094345_HH_tmp/NovaSAR_01_9629_slc_11_200129_094345_HH_1_ML_TC_TF.data/\n",
      "/tmp/data/intermediate/NovaSAR_01_9629_slc_200129_094345_HH_tmp/NovaSAR_01_9629_slc_11_200129_094345_HH_1_ML_TC_TF_cog/\n"
     ]
    },
    {
     "name": "stderr",
     "output_type": "stream",
     "text": [
      "INFO:snap_stderr:stderr:INFO: org.esa.snap.core.gpf.operators.tooladapter.ToolAdapterIO: Initializing external tool adapters\n",
      "INFO:snap_stderr:stderr:INFO: org.esa.s2tbx.dataio.gdal.GDALVersion: Incompatible GDAL 3.1.4 found on system. Internal GDAL 3.0.0 from distribution will be used.\n",
      "INFO:snap_stderr:stderr:INFO: org.esa.s2tbx.dataio.gdal.GDALVersion: Internal GDAL 3.0.0 set to be used by SNAP.\n",
      "INFO:snap_stderr:stderr:INFO: org.esa.snap.core.util.EngineVersionCheckActivator: Please check regularly for new updates for the best SNAP experience.\n",
      "INFO:snap_stderr:stderr:INFO: org.esa.s2tbx.dataio.gdal.GDALVersion: Internal GDAL 3.0.0 set to be used by SNAP.\n",
      "INFO:snap_stdout:Executing processing graph\n",
      "INFO:snap_stderr:stderr:INFO: org.hsqldb.persist.Logger: dataFileCache open start\n",
      "INFO:snap_stdout:....10%....20%....30%....40%....50%....60%....70%....80%....90% done.\n"
     ]
    },
    {
     "name": "stdout",
     "output_type": "stream",
     "text": [
      "/tmp/data/intermediate/NovaSAR_01_9629_slc_200129_094345_HH_tmp/NovaSAR_01_9629_slc_11_200129_094345_HH_1_ML_TC_TF_cog/NovaSAR_01_9629_slc_11_200129_094345_HH_1_Gamma0_Intensity_HH_db.tif\n",
      "2020-11-18 06:00:41 Starting conversion: /tmp/data/intermediate/NovaSAR_01_9629_slc_200129_094345_HH_tmp/NovaSAR_01_9629_slc_11_200129_094345_HH_1_ML_TC_TF.data/Gamma0_Intensity_HH_db.img.\n",
      "2020-11-18 06:00:50 Conversion complete: True.\n"
     ]
    },
    {
     "name": "stderr",
     "output_type": "stream",
     "text": [
      "DEBUG:root:running ['/opt/snap/bin/gpt', '/opt/notebooks/anc/novasar_slc_tf_tc.xml', '-Pinput=/tmp/data/intermediate/NovaSAR_01_9629_slc_200129_094345_HH_tmp/NovaSAR_01_9629_slc_200129_094345_HH/SV229/Image_Products$/NovaSAR_01_9629_slc_200129_094345_HH_/NovaSAR_01_9629_slc_11_200129_094350_HH_2/metadata.xml', '-Poutput=/tmp/data/intermediate/NovaSAR_01_9629_slc_200129_094345_HH_tmp/NovaSAR_01_9629_slc_11_200129_094350_HH_2_ML_TC_TF.dim']\n"
     ]
    },
    {
     "name": "stdout",
     "output_type": "stream",
     "text": [
      "NovaSAR_01_9629_slc_11_200129_094350_HH_2\n",
      "/tmp/data/intermediate/NovaSAR_01_9629_slc_200129_094345_HH_tmp/NovaSAR_01_9629_slc_11_200129_094350_HH_2_ML_TC_TF.data/\n",
      "/tmp/data/intermediate/NovaSAR_01_9629_slc_200129_094345_HH_tmp/NovaSAR_01_9629_slc_11_200129_094350_HH_2_ML_TC_TF_cog/\n"
     ]
    },
    {
     "name": "stderr",
     "output_type": "stream",
     "text": [
      "INFO:snap_stderr:stderr:INFO: org.esa.snap.core.gpf.operators.tooladapter.ToolAdapterIO: Initializing external tool adapters\n",
      "INFO:snap_stderr:stderr:INFO: org.esa.s2tbx.dataio.gdal.GDALVersion: Incompatible GDAL 3.1.4 found on system. Internal GDAL 3.0.0 from distribution will be used.\n",
      "INFO:snap_stderr:stderr:INFO: org.esa.s2tbx.dataio.gdal.GDALVersion: Internal GDAL 3.0.0 set to be used by SNAP.\n",
      "INFO:snap_stderr:stderr:INFO: org.esa.snap.core.util.EngineVersionCheckActivator: Please check regularly for new updates for the best SNAP experience.\n",
      "INFO:snap_stderr:stderr:INFO: org.esa.s2tbx.dataio.gdal.GDALVersion: Internal GDAL 3.0.0 set to be used by SNAP.\n",
      "INFO:snap_stdout:Executing processing graph\n",
      "INFO:snap_stderr:stderr:INFO: org.hsqldb.persist.Logger: dataFileCache open start\n",
      "INFO:snap_stdout:....10%....20%....30%....40%....50%....60%....70%....80%....90% done.\n"
     ]
    },
    {
     "name": "stdout",
     "output_type": "stream",
     "text": [
      "/tmp/data/intermediate/NovaSAR_01_9629_slc_200129_094345_HH_tmp/NovaSAR_01_9629_slc_11_200129_094350_HH_2_ML_TC_TF_cog/NovaSAR_01_9629_slc_11_200129_094350_HH_2_Gamma0_Intensity_HH_db.tif\n",
      "2020-11-18 06:05:19 Starting conversion: /tmp/data/intermediate/NovaSAR_01_9629_slc_200129_094345_HH_tmp/NovaSAR_01_9629_slc_11_200129_094350_HH_2_ML_TC_TF.data/Gamma0_Intensity_HH_db.img.\n",
      "2020-11-18 06:05:27 Conversion complete: True.\n"
     ]
    },
    {
     "name": "stderr",
     "output_type": "stream",
     "text": [
      "DEBUG:root:running ['/opt/snap/bin/gpt', '/opt/notebooks/anc/novasar_slc_tf_tc.xml', '-Pinput=/tmp/data/intermediate/NovaSAR_01_9629_slc_200129_094345_HH_tmp/NovaSAR_01_9629_slc_200129_094345_HH/SV229/Image_Products$/NovaSAR_01_9629_slc_200129_094345_HH_/NovaSAR_01_9629_slc_11_200129_094354_HH_3/metadata.xml', '-Poutput=/tmp/data/intermediate/NovaSAR_01_9629_slc_200129_094345_HH_tmp/NovaSAR_01_9629_slc_11_200129_094354_HH_3_ML_TC_TF.dim']\n"
     ]
    },
    {
     "name": "stdout",
     "output_type": "stream",
     "text": [
      "NovaSAR_01_9629_slc_11_200129_094354_HH_3\n",
      "/tmp/data/intermediate/NovaSAR_01_9629_slc_200129_094345_HH_tmp/NovaSAR_01_9629_slc_11_200129_094354_HH_3_ML_TC_TF.data/\n",
      "/tmp/data/intermediate/NovaSAR_01_9629_slc_200129_094345_HH_tmp/NovaSAR_01_9629_slc_11_200129_094354_HH_3_ML_TC_TF_cog/\n"
     ]
    },
    {
     "name": "stderr",
     "output_type": "stream",
     "text": [
      "INFO:snap_stderr:stderr:INFO: org.esa.snap.core.gpf.operators.tooladapter.ToolAdapterIO: Initializing external tool adapters\n",
      "INFO:snap_stderr:stderr:INFO: org.esa.s2tbx.dataio.gdal.GDALVersion: Incompatible GDAL 3.1.4 found on system. Internal GDAL 3.0.0 from distribution will be used.\n",
      "INFO:snap_stderr:stderr:INFO: org.esa.s2tbx.dataio.gdal.GDALVersion: Internal GDAL 3.0.0 set to be used by SNAP.\n",
      "INFO:snap_stderr:stderr:INFO: org.esa.snap.core.util.EngineVersionCheckActivator: Please check regularly for new updates for the best SNAP experience.\n",
      "INFO:snap_stderr:stderr:INFO: org.esa.s2tbx.dataio.gdal.GDALVersion: Internal GDAL 3.0.0 set to be used by SNAP.\n",
      "INFO:snap_stdout:Executing processing graph\n",
      "INFO:snap_stderr:stderr:INFO: org.hsqldb.persist.Logger: dataFileCache open start\n",
      "INFO:snap_stdout:....10%....20%....30%....40%....50%....60%....70%....80%....90% done.\n"
     ]
    },
    {
     "name": "stdout",
     "output_type": "stream",
     "text": [
      "/tmp/data/intermediate/NovaSAR_01_9629_slc_200129_094345_HH_tmp/NovaSAR_01_9629_slc_11_200129_094354_HH_3_ML_TC_TF_cog/NovaSAR_01_9629_slc_11_200129_094354_HH_3_Gamma0_Intensity_HH_db.tif\n",
      "2020-11-18 06:11:34 Starting conversion: /tmp/data/intermediate/NovaSAR_01_9629_slc_200129_094345_HH_tmp/NovaSAR_01_9629_slc_11_200129_094354_HH_3_ML_TC_TF.data/Gamma0_Intensity_HH_db.img.\n",
      "2020-11-18 06:11:45 Conversion complete: True.\n",
      "2020-11-18 06:12:54 Prepared NovaSAR_01_9629_slc_200129_094345_HH at novasar_uk_test/\n"
     ]
    }
   ],
   "source": [
    "for supplierId in res[(res.productType == 'SLC') & (res.polarisation == 'HH')].supplierId.values[:]:\n",
    "    \n",
    "    if supplierId not in done:\n",
    "        prep_novasar(supplierId)"
   ]
  },
  {
   "cell_type": "code",
   "execution_count": null,
   "metadata": {},
   "outputs": [],
   "source": []
  },
  {
   "cell_type": "code",
   "execution_count": null,
   "metadata": {},
   "outputs": [],
   "source": []
  },
  {
   "cell_type": "code",
   "execution_count": null,
   "metadata": {},
   "outputs": [],
   "source": []
  },
  {
   "cell_type": "code",
   "execution_count": null,
   "metadata": {},
   "outputs": [],
   "source": []
  },
  {
   "cell_type": "code",
   "execution_count": null,
   "metadata": {},
   "outputs": [],
   "source": []
  },
  {
   "cell_type": "code",
   "execution_count": null,
   "metadata": {},
   "outputs": [
    {
     "name": "stderr",
     "output_type": "stream",
     "text": [
      "DEBUG:sedas_api:successful login.\n"
     ]
    },
    {
     "name": "stdout",
     "output_type": "stream",
     "text": [
      "2020-11-17 16:25:03 Preparing NovaSAR_01_14295_slc_200823_233848_HH within /tmp/data/intermediate_test/NovaSAR_01_14295_slc_200823_233848_HH_tmp/\n"
     ]
    },
    {
     "name": "stderr",
     "output_type": "stream",
     "text": [
      "DEBUG:sedas_api:successful login.\n",
      "DEBUG:sedas_api:successful login.\n",
      "DEBUG:sedas_api:successful login.\n",
      "DEBUG:sedas_api:successful login.\n",
      "INFO:bulk_downloader:0 downloads pending, 0 downloads in progress, 0 requests pending\n",
      "INFO:bulk_downloader:2 active threads, 0 restarted.\n"
     ]
    },
    {
     "name": "stdout",
     "output_type": "stream",
     "text": [
      "2020-11-17 16:25:04 Downloading\n"
     ]
    },
    {
     "name": "stderr",
     "output_type": "stream",
     "text": [
      "DEBUG:bulk_downloader:1 downloads pending\n",
      "DEBUG:bulk_downloader:1 downloads pending\n",
      "INFO:bulk_downloader:downloading NovaSAR_01_14295_slc_200823_233848_HH to /tmp/data/intermediate_test/NovaSAR_01_14295_slc_200823_233848_HH_tmp/NovaSAR_01_14295_slc_200823_233848_HH.zip\n",
      "DEBUG:sedas_api:successful login.\n",
      "INFO:bulk_downloader:0 downloads pending, 1 downloads in progress, 0 requests pending\n",
      "INFO:bulk_downloader:2 active threads, 0 restarted.\n",
      "INFO:bulk_downloader:0 downloads pending, 1 downloads in progress, 0 requests pending\n",
      "INFO:bulk_downloader:2 active threads, 0 restarted.\n",
      "INFO:bulk_downloader:0 downloads pending, 1 downloads in progress, 0 requests pending\n",
      "INFO:bulk_downloader:2 active threads, 0 restarted.\n",
      "INFO:bulk_downloader:0 downloads pending, 1 downloads in progress, 0 requests pending\n",
      "INFO:bulk_downloader:2 active threads, 0 restarted.\n",
      "INFO:bulk_downloader:0 downloads pending, 1 downloads in progress, 0 requests pending\n",
      "INFO:bulk_downloader:2 active threads, 0 restarted.\n",
      "INFO:bulk_downloader:0 downloads pending, 1 downloads in progress, 0 requests pending\n",
      "INFO:bulk_downloader:2 active threads, 0 restarted.\n",
      "INFO:bulk_downloader:0 downloads pending, 1 downloads in progress, 0 requests pending\n",
      "INFO:bulk_downloader:2 active threads, 0 restarted.\n",
      "INFO:bulk_downloader:0 downloads pending, 1 downloads in progress, 0 requests pending\n",
      "INFO:bulk_downloader:2 active threads, 0 restarted.\n",
      "INFO:bulk_downloader:0 downloads pending, 1 downloads in progress, 0 requests pending\n",
      "INFO:bulk_downloader:2 active threads, 0 restarted.\n",
      "INFO:bulk_downloader:0 downloads pending, 1 downloads in progress, 0 requests pending\n",
      "INFO:bulk_downloader:2 active threads, 0 restarted.\n",
      "INFO:bulk_downloader:0 downloads pending, 1 downloads in progress, 0 requests pending\n",
      "INFO:bulk_downloader:2 active threads, 0 restarted.\n",
      "INFO:bulk_downloader:0 downloads pending, 1 downloads in progress, 0 requests pending\n",
      "INFO:bulk_downloader:2 active threads, 0 restarted.\n",
      "INFO:bulk_downloader:0 downloads pending, 1 downloads in progress, 0 requests pending\n",
      "INFO:bulk_downloader:2 active threads, 0 restarted.\n",
      "INFO:bulk_downloader:0 downloads pending, 1 downloads in progress, 0 requests pending\n",
      "INFO:bulk_downloader:2 active threads, 0 restarted.\n",
      "INFO:bulk_downloader:0 downloads pending, 1 downloads in progress, 0 requests pending\n",
      "INFO:bulk_downloader:2 active threads, 0 restarted.\n",
      "INFO:bulk_downloader:0 downloads pending, 1 downloads in progress, 0 requests pending\n",
      "INFO:bulk_downloader:2 active threads, 0 restarted.\n",
      "DEBUG:bulk_downloader:0 downloads pending\n",
      "DEBUG:bulk_downloader:monitor thread stopping\n"
     ]
    },
    {
     "name": "stdout",
     "output_type": "stream",
     "text": [
      "2020-11-17 16:26:29 Downloaded\n",
      "2020-11-17 16:26:29 Extracting /tmp/data/intermediate_test/NovaSAR_01_14295_slc_200823_233848_HH_tmp/NovaSAR_01_14295_slc_200823_233848_HH.zip\n"
     ]
    },
    {
     "name": "stderr",
     "output_type": "stream",
     "text": [
      "DEBUG:bulk_downloader:requests thread stopping\n",
      "DEBUG:root:running ['/opt/snap/bin/gpt', '/opt/notebooks/anc/novasar_slc_tc.xml', '-Pinput=/tmp/data/intermediate_test/NovaSAR_01_14295_slc_200823_233848_HH_tmp/NovaSAR_01_14295_slc_200823_233848_HH/SV229/Image_Products$/NovaSAR_01_14295_slc_200823_233848_HH_/NovaSAR_01_14295_slc_11_200823_233848_HH_1/metadata.xml', '-Poutput=/tmp/data/intermediate_test/NovaSAR_01_14295_slc_200823_233848_HH_tmp/NovaSAR_01_14295_slc_11_200823_233848_HH_1_ML_TC_TF.dim']\n"
     ]
    },
    {
     "name": "stdout",
     "output_type": "stream",
     "text": [
      "2020-11-17 16:27:26 Extracted to /tmp/data/intermediate_test/NovaSAR_01_14295_slc_200823_233848_HH_tmp/NovaSAR_01_14295_slc_200823_233848_HH/\n",
      "NovaSAR_01_14295_slc_11_200823_233848_HH_1\n",
      "/tmp/data/intermediate_test/NovaSAR_01_14295_slc_200823_233848_HH_tmp/NovaSAR_01_14295_slc_11_200823_233848_HH_1_ML_TC_TF.data/\n",
      "/tmp/data/intermediate_test/NovaSAR_01_14295_slc_200823_233848_HH_tmp/NovaSAR_01_14295_slc_11_200823_233848_HH_1_ML_TC_TF_cog/\n"
     ]
    },
    {
     "name": "stderr",
     "output_type": "stream",
     "text": [
      "INFO:snap_stderr:stderr:INFO: org.esa.snap.core.gpf.operators.tooladapter.ToolAdapterIO: Initializing external tool adapters\n",
      "INFO:snap_stderr:stderr:INFO: org.esa.s2tbx.dataio.gdal.GDALVersion: Incompatible GDAL 3.1.4 found on system. Internal GDAL 3.0.0 from distribution will be used.\n",
      "INFO:snap_stderr:stderr:INFO: org.esa.s2tbx.dataio.gdal.GDALVersion: Internal GDAL 3.0.0 set to be used by SNAP.\n",
      "INFO:snap_stderr:stderr:INFO: org.esa.snap.core.util.EngineVersionCheckActivator: Please check regularly for new updates for the best SNAP experience.\n",
      "INFO:snap_stderr:stderr:INFO: org.esa.s2tbx.dataio.gdal.GDALVersion: Internal GDAL 3.0.0 set to be used by SNAP.\n",
      "INFO:snap_stdout:Executing processing graph\n",
      "INFO:snap_stderr:stderr:INFO: org.hsqldb.persist.Logger: dataFileCache open start\n",
      "INFO:snap_stdout:....10%....20%....30%....40%....50%....60%....70%....80%....90% done.\n"
     ]
    },
    {
     "name": "stdout",
     "output_type": "stream",
     "text": [
      "/tmp/data/intermediate_test/NovaSAR_01_14295_slc_200823_233848_HH_tmp/NovaSAR_01_14295_slc_11_200823_233848_HH_1_ML_TC_TF_cog/NovaSAR_01_14295_slc_11_200823_233848_HH_1_Intensity_HH_db.tif\n",
      "2020-11-17 16:27:45 Starting conversion: /tmp/data/intermediate_test/NovaSAR_01_14295_slc_200823_233848_HH_tmp/NovaSAR_01_14295_slc_11_200823_233848_HH_1_ML_TC_TF.data/Intensity_HH_db.img.\n",
      "2020-11-17 16:27:51 Conversion complete: True.\n"
     ]
    },
    {
     "name": "stderr",
     "output_type": "stream",
     "text": [
      "DEBUG:root:running ['/opt/snap/bin/gpt', '/opt/notebooks/anc/novasar_slc_tc.xml', '-Pinput=/tmp/data/intermediate_test/NovaSAR_01_14295_slc_200823_233848_HH_tmp/NovaSAR_01_14295_slc_200823_233848_HH/SV229/Image_Products$/NovaSAR_01_14295_slc_200823_233848_HH_/NovaSAR_01_14295_slc_11_200823_233852_HH_2/metadata.xml', '-Poutput=/tmp/data/intermediate_test/NovaSAR_01_14295_slc_200823_233848_HH_tmp/NovaSAR_01_14295_slc_11_200823_233852_HH_2_ML_TC_TF.dim']\n"
     ]
    },
    {
     "name": "stdout",
     "output_type": "stream",
     "text": [
      "NovaSAR_01_14295_slc_11_200823_233852_HH_2\n",
      "/tmp/data/intermediate_test/NovaSAR_01_14295_slc_200823_233848_HH_tmp/NovaSAR_01_14295_slc_11_200823_233852_HH_2_ML_TC_TF.data/\n",
      "/tmp/data/intermediate_test/NovaSAR_01_14295_slc_200823_233848_HH_tmp/NovaSAR_01_14295_slc_11_200823_233852_HH_2_ML_TC_TF_cog/\n"
     ]
    },
    {
     "name": "stderr",
     "output_type": "stream",
     "text": [
      "INFO:snap_stderr:stderr:INFO: org.esa.snap.core.gpf.operators.tooladapter.ToolAdapterIO: Initializing external tool adapters\n",
      "INFO:snap_stderr:stderr:INFO: org.esa.s2tbx.dataio.gdal.GDALVersion: Incompatible GDAL 3.1.4 found on system. Internal GDAL 3.0.0 from distribution will be used.\n",
      "INFO:snap_stderr:stderr:INFO: org.esa.s2tbx.dataio.gdal.GDALVersion: Internal GDAL 3.0.0 set to be used by SNAP.\n",
      "INFO:snap_stderr:stderr:INFO: org.esa.snap.core.util.EngineVersionCheckActivator: Please check regularly for new updates for the best SNAP experience.\n",
      "INFO:snap_stderr:stderr:INFO: org.esa.s2tbx.dataio.gdal.GDALVersion: Internal GDAL 3.0.0 set to be used by SNAP.\n",
      "INFO:snap_stdout:Executing processing graph\n",
      "INFO:snap_stderr:stderr:INFO: org.hsqldb.persist.Logger: dataFileCache open start\n",
      "INFO:snap_stderr:stderr:INFO: org.esa.snap.core.dataop.dem.ElevationFile: http retrieving http://step.esa.int/auxdata/dem/SRTMGL1/N51W002.SRTMGL1.hgt.zip\n",
      "INFO:snap_stderr:stderr:INFO: org.esa.snap.core.dataop.dem.ElevationFile: http retrieving http://step.esa.int/auxdata/dem/SRTMGL1/N51W001.SRTMGL1.hgt.zip\n",
      "INFO:snap_stdout:....10%....20%....30%....40%....50%....60%....70%....80%....90% done.\n"
     ]
    },
    {
     "name": "stdout",
     "output_type": "stream",
     "text": [
      "/tmp/data/intermediate_test/NovaSAR_01_14295_slc_200823_233848_HH_tmp/NovaSAR_01_14295_slc_11_200823_233852_HH_2_ML_TC_TF_cog/NovaSAR_01_14295_slc_11_200823_233852_HH_2_Intensity_HH_db.tif\n",
      "2020-11-17 16:28:49 Starting conversion: /tmp/data/intermediate_test/NovaSAR_01_14295_slc_200823_233848_HH_tmp/NovaSAR_01_14295_slc_11_200823_233852_HH_2_ML_TC_TF.data/Intensity_HH_db.img.\n",
      "2020-11-17 16:28:55 Conversion complete: True.\n"
     ]
    },
    {
     "name": "stderr",
     "output_type": "stream",
     "text": [
      "DEBUG:root:running ['/opt/snap/bin/gpt', '/opt/notebooks/anc/novasar_slc_tc.xml', '-Pinput=/tmp/data/intermediate_test/NovaSAR_01_14295_slc_200823_233848_HH_tmp/NovaSAR_01_14295_slc_200823_233848_HH/SV229/Image_Products$/NovaSAR_01_14295_slc_200823_233848_HH_/NovaSAR_01_14295_slc_11_200823_233856_HH_3/metadata.xml', '-Poutput=/tmp/data/intermediate_test/NovaSAR_01_14295_slc_200823_233848_HH_tmp/NovaSAR_01_14295_slc_11_200823_233856_HH_3_ML_TC_TF.dim']\n"
     ]
    },
    {
     "name": "stdout",
     "output_type": "stream",
     "text": [
      "NovaSAR_01_14295_slc_11_200823_233856_HH_3\n",
      "/tmp/data/intermediate_test/NovaSAR_01_14295_slc_200823_233848_HH_tmp/NovaSAR_01_14295_slc_11_200823_233856_HH_3_ML_TC_TF.data/\n",
      "/tmp/data/intermediate_test/NovaSAR_01_14295_slc_200823_233848_HH_tmp/NovaSAR_01_14295_slc_11_200823_233856_HH_3_ML_TC_TF_cog/\n"
     ]
    },
    {
     "name": "stderr",
     "output_type": "stream",
     "text": [
      "INFO:snap_stderr:stderr:INFO: org.esa.snap.core.gpf.operators.tooladapter.ToolAdapterIO: Initializing external tool adapters\n",
      "INFO:snap_stderr:stderr:INFO: org.esa.s2tbx.dataio.gdal.GDALVersion: Incompatible GDAL 3.1.4 found on system. Internal GDAL 3.0.0 from distribution will be used.\n",
      "INFO:snap_stderr:stderr:INFO: org.esa.s2tbx.dataio.gdal.GDALVersion: Internal GDAL 3.0.0 set to be used by SNAP.\n",
      "INFO:snap_stderr:stderr:INFO: org.esa.snap.core.util.EngineVersionCheckActivator: Please check regularly for new updates for the best SNAP experience.\n",
      "INFO:snap_stderr:stderr:INFO: org.esa.s2tbx.dataio.gdal.GDALVersion: Internal GDAL 3.0.0 set to be used by SNAP.\n",
      "INFO:snap_stdout:Executing processing graph\n",
      "INFO:snap_stderr:stderr:INFO: org.hsqldb.persist.Logger: dataFileCache open start\n",
      "INFO:snap_stdout:....10%....20%....30%....40%....50%....60%....70%....80%....90% done.\n"
     ]
    },
    {
     "name": "stdout",
     "output_type": "stream",
     "text": [
      "/tmp/data/intermediate_test/NovaSAR_01_14295_slc_200823_233848_HH_tmp/NovaSAR_01_14295_slc_11_200823_233856_HH_3_ML_TC_TF_cog/NovaSAR_01_14295_slc_11_200823_233856_HH_3_Intensity_HH_db.tif\n",
      "2020-11-17 16:29:51 Starting conversion: /tmp/data/intermediate_test/NovaSAR_01_14295_slc_200823_233848_HH_tmp/NovaSAR_01_14295_slc_11_200823_233856_HH_3_ML_TC_TF.data/Intensity_HH_db.img.\n",
      "2020-11-17 16:29:57 Conversion complete: True.\n"
     ]
    },
    {
     "name": "stderr",
     "output_type": "stream",
     "text": [
      "DEBUG:root:running ['/opt/snap/bin/gpt', '/opt/notebooks/anc/novasar_slc_tc.xml', '-Pinput=/tmp/data/intermediate_test/NovaSAR_01_14295_slc_200823_233848_HH_tmp/NovaSAR_01_14295_slc_200823_233848_HH/SV229/Image_Products$/NovaSAR_01_14295_slc_200823_233848_HH_/NovaSAR_01_14295_slc_11_200823_233900_HH_4/metadata.xml', '-Poutput=/tmp/data/intermediate_test/NovaSAR_01_14295_slc_200823_233848_HH_tmp/NovaSAR_01_14295_slc_11_200823_233900_HH_4_ML_TC_TF.dim']\n"
     ]
    },
    {
     "name": "stdout",
     "output_type": "stream",
     "text": [
      "NovaSAR_01_14295_slc_11_200823_233900_HH_4\n",
      "/tmp/data/intermediate_test/NovaSAR_01_14295_slc_200823_233848_HH_tmp/NovaSAR_01_14295_slc_11_200823_233900_HH_4_ML_TC_TF.data/\n",
      "/tmp/data/intermediate_test/NovaSAR_01_14295_slc_200823_233848_HH_tmp/NovaSAR_01_14295_slc_11_200823_233900_HH_4_ML_TC_TF_cog/\n"
     ]
    },
    {
     "name": "stderr",
     "output_type": "stream",
     "text": [
      "INFO:snap_stderr:stderr:INFO: org.esa.snap.core.gpf.operators.tooladapter.ToolAdapterIO: Initializing external tool adapters\n",
      "INFO:snap_stderr:stderr:INFO: org.esa.s2tbx.dataio.gdal.GDALVersion: Incompatible GDAL 3.1.4 found on system. Internal GDAL 3.0.0 from distribution will be used.\n",
      "INFO:snap_stderr:stderr:INFO: org.esa.s2tbx.dataio.gdal.GDALVersion: Internal GDAL 3.0.0 set to be used by SNAP.\n",
      "INFO:snap_stderr:stderr:INFO: org.esa.snap.core.util.EngineVersionCheckActivator: Please check regularly for new updates for the best SNAP experience.\n",
      "INFO:snap_stderr:stderr:INFO: org.esa.s2tbx.dataio.gdal.GDALVersion: Internal GDAL 3.0.0 set to be used by SNAP.\n",
      "INFO:snap_stdout:Executing processing graph\n",
      "INFO:snap_stderr:stderr:INFO: org.hsqldb.persist.Logger: dataFileCache open start\n",
      "INFO:snap_stdout:....10%....20%....30%....40%....50%....60%....70%....80%....90% done.\n"
     ]
    },
    {
     "name": "stdout",
     "output_type": "stream",
     "text": [
      "/tmp/data/intermediate_test/NovaSAR_01_14295_slc_200823_233848_HH_tmp/NovaSAR_01_14295_slc_11_200823_233900_HH_4_ML_TC_TF_cog/NovaSAR_01_14295_slc_11_200823_233900_HH_4_Intensity_HH_db.tif\n",
      "2020-11-17 16:30:59 Starting conversion: /tmp/data/intermediate_test/NovaSAR_01_14295_slc_200823_233848_HH_tmp/NovaSAR_01_14295_slc_11_200823_233900_HH_4_ML_TC_TF.data/Intensity_HH_db.img.\n",
      "2020-11-17 16:31:07 Conversion complete: True.\n"
     ]
    },
    {
     "name": "stderr",
     "output_type": "stream",
     "text": [
      "DEBUG:root:running ['/opt/snap/bin/gpt', '/opt/notebooks/anc/novasar_slc_tc.xml', '-Pinput=/tmp/data/intermediate_test/NovaSAR_01_14295_slc_200823_233848_HH_tmp/NovaSAR_01_14295_slc_200823_233848_HH/SV229/Image_Products$/NovaSAR_01_14295_slc_200823_233848_HH_/NovaSAR_01_14295_slc_11_200823_233904_HH_5/metadata.xml', '-Poutput=/tmp/data/intermediate_test/NovaSAR_01_14295_slc_200823_233848_HH_tmp/NovaSAR_01_14295_slc_11_200823_233904_HH_5_ML_TC_TF.dim']\n"
     ]
    },
    {
     "name": "stdout",
     "output_type": "stream",
     "text": [
      "NovaSAR_01_14295_slc_11_200823_233904_HH_5\n",
      "/tmp/data/intermediate_test/NovaSAR_01_14295_slc_200823_233848_HH_tmp/NovaSAR_01_14295_slc_11_200823_233904_HH_5_ML_TC_TF.data/\n",
      "/tmp/data/intermediate_test/NovaSAR_01_14295_slc_200823_233848_HH_tmp/NovaSAR_01_14295_slc_11_200823_233904_HH_5_ML_TC_TF_cog/\n"
     ]
    },
    {
     "name": "stderr",
     "output_type": "stream",
     "text": [
      "INFO:snap_stderr:stderr:INFO: org.esa.snap.core.gpf.operators.tooladapter.ToolAdapterIO: Initializing external tool adapters\n",
      "INFO:snap_stderr:stderr:INFO: org.esa.s2tbx.dataio.gdal.GDALVersion: Incompatible GDAL 3.1.4 found on system. Internal GDAL 3.0.0 from distribution will be used.\n",
      "INFO:snap_stderr:stderr:INFO: org.esa.s2tbx.dataio.gdal.GDALVersion: Internal GDAL 3.0.0 set to be used by SNAP.\n",
      "INFO:snap_stderr:stderr:INFO: org.esa.snap.core.util.EngineVersionCheckActivator: Please check regularly for new updates for the best SNAP experience.\n",
      "INFO:snap_stderr:stderr:INFO: org.esa.s2tbx.dataio.gdal.GDALVersion: Internal GDAL 3.0.0 set to be used by SNAP.\n",
      "INFO:snap_stdout:Executing processing graph\n",
      "INFO:snap_stderr:stderr:INFO: org.hsqldb.persist.Logger: dataFileCache open start\n",
      "INFO:snap_stdout:....10%....20%....30%....40%....50%....60%....70%....80%....90% done.\n"
     ]
    },
    {
     "name": "stdout",
     "output_type": "stream",
     "text": [
      "/tmp/data/intermediate_test/NovaSAR_01_14295_slc_200823_233848_HH_tmp/NovaSAR_01_14295_slc_11_200823_233904_HH_5_ML_TC_TF_cog/NovaSAR_01_14295_slc_11_200823_233904_HH_5_Intensity_HH_db.tif\n",
      "2020-11-17 16:32:05 Starting conversion: /tmp/data/intermediate_test/NovaSAR_01_14295_slc_200823_233848_HH_tmp/NovaSAR_01_14295_slc_11_200823_233904_HH_5_ML_TC_TF.data/Intensity_HH_db.img.\n",
      "2020-11-17 16:32:11 Conversion complete: True.\n"
     ]
    },
    {
     "name": "stderr",
     "output_type": "stream",
     "text": [
      "DEBUG:root:running ['/opt/snap/bin/gpt', '/opt/notebooks/anc/novasar_slc_tc.xml', '-Pinput=/tmp/data/intermediate_test/NovaSAR_01_14295_slc_200823_233848_HH_tmp/NovaSAR_01_14295_slc_200823_233848_HH/SV229/Image_Products$/NovaSAR_01_14295_slc_200823_233848_HH_/NovaSAR_01_14295_slc_11_200823_233908_HH_6/metadata.xml', '-Poutput=/tmp/data/intermediate_test/NovaSAR_01_14295_slc_200823_233848_HH_tmp/NovaSAR_01_14295_slc_11_200823_233908_HH_6_ML_TC_TF.dim']\n"
     ]
    },
    {
     "name": "stdout",
     "output_type": "stream",
     "text": [
      "NovaSAR_01_14295_slc_11_200823_233908_HH_6\n",
      "/tmp/data/intermediate_test/NovaSAR_01_14295_slc_200823_233848_HH_tmp/NovaSAR_01_14295_slc_11_200823_233908_HH_6_ML_TC_TF.data/\n",
      "/tmp/data/intermediate_test/NovaSAR_01_14295_slc_200823_233848_HH_tmp/NovaSAR_01_14295_slc_11_200823_233908_HH_6_ML_TC_TF_cog/\n"
     ]
    },
    {
     "name": "stderr",
     "output_type": "stream",
     "text": [
      "INFO:snap_stderr:stderr:INFO: org.esa.snap.core.gpf.operators.tooladapter.ToolAdapterIO: Initializing external tool adapters\n",
      "INFO:snap_stderr:stderr:INFO: org.esa.s2tbx.dataio.gdal.GDALVersion: Incompatible GDAL 3.1.4 found on system. Internal GDAL 3.0.0 from distribution will be used.\n",
      "INFO:snap_stderr:stderr:INFO: org.esa.s2tbx.dataio.gdal.GDALVersion: Internal GDAL 3.0.0 set to be used by SNAP.\n",
      "INFO:snap_stderr:stderr:INFO: org.esa.snap.core.util.EngineVersionCheckActivator: Please check regularly for new updates for the best SNAP experience.\n",
      "INFO:snap_stderr:stderr:INFO: org.esa.s2tbx.dataio.gdal.GDALVersion: Internal GDAL 3.0.0 set to be used by SNAP.\n",
      "INFO:snap_stdout:Executing processing graph\n",
      "INFO:snap_stderr:stderr:INFO: org.hsqldb.persist.Logger: dataFileCache open start\n",
      "INFO:snap_stderr:stderr:INFO: org.esa.snap.core.dataop.dem.ElevationFile: http retrieving http://step.esa.int/auxdata/dem/SRTMGL1/N50W002.SRTMGL1.hgt.zip\n",
      "INFO:snap_stdout:....10%....20%....30%....40%....50%....60%....70%....80%....90% done.\n"
     ]
    },
    {
     "name": "stdout",
     "output_type": "stream",
     "text": [
      "/tmp/data/intermediate_test/NovaSAR_01_14295_slc_200823_233848_HH_tmp/NovaSAR_01_14295_slc_11_200823_233908_HH_6_ML_TC_TF_cog/NovaSAR_01_14295_slc_11_200823_233908_HH_6_Intensity_HH_db.tif\n",
      "2020-11-17 16:33:13 Starting conversion: /tmp/data/intermediate_test/NovaSAR_01_14295_slc_200823_233848_HH_tmp/NovaSAR_01_14295_slc_11_200823_233908_HH_6_ML_TC_TF.data/Intensity_HH_db.img.\n",
      "2020-11-17 16:33:19 Conversion complete: True.\n"
     ]
    },
    {
     "name": "stderr",
     "output_type": "stream",
     "text": [
      "DEBUG:root:running ['/opt/snap/bin/gpt', '/opt/notebooks/anc/novasar_slc_tc.xml', '-Pinput=/tmp/data/intermediate_test/NovaSAR_01_14295_slc_200823_233848_HH_tmp/NovaSAR_01_14295_slc_200823_233848_HH/SV229/Image_Products$/NovaSAR_01_14295_slc_200823_233848_HH_/NovaSAR_01_14295_slc_11_200823_233912_HH_7/metadata.xml', '-Poutput=/tmp/data/intermediate_test/NovaSAR_01_14295_slc_200823_233848_HH_tmp/NovaSAR_01_14295_slc_11_200823_233912_HH_7_ML_TC_TF.dim']\n"
     ]
    },
    {
     "name": "stdout",
     "output_type": "stream",
     "text": [
      "NovaSAR_01_14295_slc_11_200823_233912_HH_7\n",
      "/tmp/data/intermediate_test/NovaSAR_01_14295_slc_200823_233848_HH_tmp/NovaSAR_01_14295_slc_11_200823_233912_HH_7_ML_TC_TF.data/\n",
      "/tmp/data/intermediate_test/NovaSAR_01_14295_slc_200823_233848_HH_tmp/NovaSAR_01_14295_slc_11_200823_233912_HH_7_ML_TC_TF_cog/\n"
     ]
    },
    {
     "name": "stderr",
     "output_type": "stream",
     "text": [
      "INFO:snap_stderr:stderr:INFO: org.esa.snap.core.gpf.operators.tooladapter.ToolAdapterIO: Initializing external tool adapters\n",
      "INFO:snap_stderr:stderr:INFO: org.esa.s2tbx.dataio.gdal.GDALVersion: Incompatible GDAL 3.1.4 found on system. Internal GDAL 3.0.0 from distribution will be used.\n",
      "INFO:snap_stderr:stderr:INFO: org.esa.s2tbx.dataio.gdal.GDALVersion: Internal GDAL 3.0.0 set to be used by SNAP.\n",
      "INFO:snap_stderr:stderr:INFO: org.esa.snap.core.util.EngineVersionCheckActivator: Please check regularly for new updates for the best SNAP experience.\n",
      "INFO:snap_stderr:stderr:INFO: org.esa.s2tbx.dataio.gdal.GDALVersion: Internal GDAL 3.0.0 set to be used by SNAP.\n",
      "INFO:snap_stdout:Executing processing graph\n",
      "INFO:snap_stderr:stderr:INFO: org.hsqldb.persist.Logger: dataFileCache open start\n",
      "INFO:snap_stdout:....10%....20%....30%....40%....50%....60%....70%....80%....90% done.\n"
     ]
    },
    {
     "name": "stdout",
     "output_type": "stream",
     "text": [
      "/tmp/data/intermediate_test/NovaSAR_01_14295_slc_200823_233848_HH_tmp/NovaSAR_01_14295_slc_11_200823_233912_HH_7_ML_TC_TF_cog/NovaSAR_01_14295_slc_11_200823_233912_HH_7_Intensity_HH_db.tif\n",
      "2020-11-17 16:34:16 Starting conversion: /tmp/data/intermediate_test/NovaSAR_01_14295_slc_200823_233848_HH_tmp/NovaSAR_01_14295_slc_11_200823_233912_HH_7_ML_TC_TF.data/Intensity_HH_db.img.\n",
      "2020-11-17 16:34:22 Conversion complete: True.\n"
     ]
    },
    {
     "name": "stderr",
     "output_type": "stream",
     "text": [
      "DEBUG:root:running ['/opt/snap/bin/gpt', '/opt/notebooks/anc/novasar_slc_tc.xml', '-Pinput=/tmp/data/intermediate_test/NovaSAR_01_14295_slc_200823_233848_HH_tmp/NovaSAR_01_14295_slc_200823_233848_HH/SV229/Image_Products$/NovaSAR_01_14295_slc_200823_233848_HH_/NovaSAR_01_14295_slc_11_200823_233916_HH_8/metadata.xml', '-Poutput=/tmp/data/intermediate_test/NovaSAR_01_14295_slc_200823_233848_HH_tmp/NovaSAR_01_14295_slc_11_200823_233916_HH_8_ML_TC_TF.dim']\n"
     ]
    },
    {
     "name": "stdout",
     "output_type": "stream",
     "text": [
      "NovaSAR_01_14295_slc_11_200823_233916_HH_8\n",
      "/tmp/data/intermediate_test/NovaSAR_01_14295_slc_200823_233848_HH_tmp/NovaSAR_01_14295_slc_11_200823_233916_HH_8_ML_TC_TF.data/\n",
      "/tmp/data/intermediate_test/NovaSAR_01_14295_slc_200823_233848_HH_tmp/NovaSAR_01_14295_slc_11_200823_233916_HH_8_ML_TC_TF_cog/\n"
     ]
    },
    {
     "name": "stderr",
     "output_type": "stream",
     "text": [
      "INFO:snap_stderr:stderr:INFO: org.esa.snap.core.gpf.operators.tooladapter.ToolAdapterIO: Initializing external tool adapters\n",
      "INFO:snap_stderr:stderr:INFO: org.esa.s2tbx.dataio.gdal.GDALVersion: Incompatible GDAL 3.1.4 found on system. Internal GDAL 3.0.0 from distribution will be used.\n",
      "INFO:snap_stderr:stderr:INFO: org.esa.s2tbx.dataio.gdal.GDALVersion: Internal GDAL 3.0.0 set to be used by SNAP.\n",
      "INFO:snap_stderr:stderr:INFO: org.esa.snap.core.util.EngineVersionCheckActivator: Please check regularly for new updates for the best SNAP experience.\n",
      "INFO:snap_stderr:stderr:INFO: org.esa.s2tbx.dataio.gdal.GDALVersion: Internal GDAL 3.0.0 set to be used by SNAP.\n",
      "INFO:snap_stdout:Executing processing graph\n",
      "INFO:snap_stderr:stderr:INFO: org.hsqldb.persist.Logger: dataFileCache open start\n",
      "INFO:snap_stderr:stderr:INFO: org.esa.snap.core.dataop.dem.ElevationFile: http retrieving http://step.esa.int/auxdata/dem/SRTMGL1/N50W003.SRTMGL1.hgt.zip\n",
      "INFO:snap_stdout:....10%....20%....30%....40%....50%....60%....70%....80%....90% done.\n"
     ]
    },
    {
     "name": "stdout",
     "output_type": "stream",
     "text": [
      "/tmp/data/intermediate_test/NovaSAR_01_14295_slc_200823_233848_HH_tmp/NovaSAR_01_14295_slc_11_200823_233916_HH_8_ML_TC_TF_cog/NovaSAR_01_14295_slc_11_200823_233916_HH_8_Intensity_HH_db.tif\n",
      "2020-11-17 16:35:27 Starting conversion: /tmp/data/intermediate_test/NovaSAR_01_14295_slc_200823_233848_HH_tmp/NovaSAR_01_14295_slc_11_200823_233916_HH_8_ML_TC_TF.data/Intensity_HH_db.img.\n",
      "2020-11-17 16:35:39 Conversion complete: True.\n",
      "2020-11-17 16:36:47 Prepared NovaSAR_01_14295_slc_200823_233848_HH at novasar_uk_test/\n"
     ]
    }
   ],
   "source": [
    "prep_novasar('NovaSAR_01_14295_slc_200823_233848_HH')"
   ]
  },
  {
   "cell_type": "markdown",
   "metadata": {},
   "source": [
    "\n",
    "## Export"
   ]
  },
  {
   "cell_type": "code",
   "execution_count": null,
   "metadata": {},
   "outputs": [
    {
     "name": "stdout",
     "output_type": "stream",
     "text": [
      "Converted 1_prep_utils.ipynb.\n",
      "Converted 2_prep_novasar.ipynb.\n"
     ]
    }
   ],
   "source": [
    "#hide\n",
    "from nbdev.export import notebook2script; notebook2script()"
   ]
  },
  {
   "cell_type": "code",
   "execution_count": null,
   "metadata": {},
   "outputs": [],
   "source": []
  }
 ],
 "metadata": {
  "kernelspec": {
   "display_name": "Python 3",
   "language": "python",
   "name": "python3"
  }
 },
 "nbformat": 4,
 "nbformat_minor": 4
}
