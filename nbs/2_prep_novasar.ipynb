{
 "cells": [
  {
   "cell_type": "code",
   "execution_count": 1,
   "metadata": {},
   "outputs": [],
   "source": [
    "#default_exp prep_novasar"
   ]
  },
  {
   "cell_type": "markdown",
   "metadata": {},
   "source": [
    "# Prep NovaSAR\n",
    "\n",
    "> Data preparation for NovaSAR acquisitions. SLC to dB for Gamma0."
   ]
  },
  {
   "cell_type": "code",
   "execution_count": 4,
   "metadata": {},
   "outputs": [
    {
     "name": "stdout",
     "output_type": "stream",
     "text": [
      "The autoreload extension is already loaded. To reload it, use:\n",
      "  %reload_ext autoreload\n"
     ]
    }
   ],
   "source": [
    "#hide\n",
    "%load_ext autoreload\n",
    "%autoreload 2"
   ]
  },
  {
   "cell_type": "code",
   "execution_count": 5,
   "metadata": {},
   "outputs": [],
   "source": [
    "#hide\n",
    "from nbdev.showdoc import *"
   ]
  },
  {
   "cell_type": "code",
   "execution_count": 15,
   "metadata": {},
   "outputs": [],
   "source": [
    "#export\n",
    "import os\n",
    "import time\n",
    "from glob import glob\n",
    "import shutil\n",
    "\n",
    "from ard_workflows.prep_utils import sedas_client, sedas_download, sedas_extract\n",
    "from ard_workflows.prep_utils import run_snap_command, setup_logging\n",
    "from ard_workflows.prep_utils import convert2cog, s3_upload_dir"
   ]
  },
  {
   "cell_type": "code",
   "execution_count": 7,
   "metadata": {},
   "outputs": [],
   "source": [
    "import pandas as pd"
   ]
  },
  {
   "cell_type": "markdown",
   "metadata": {},
   "source": [
    "notes\n",
    "- default dem of auto-downloading srtm 1-arc sec\n",
    "- ML+TC+TF default (and currently only) workflow\n",
    "- gamma0\n",
    "- explode sub-scenes to scenes\n",
    "- no compression on cog\n",
    "- copy original metadata, but not outmetadata"
   ]
  },
  {
   "cell_type": "code",
   "execution_count": 18,
   "metadata": {},
   "outputs": [],
   "source": [
    "#export\n",
    "def prep_novasar(sedas_supplierId, inter_dir=\"/tmp/data/intermediate/\", \n",
    "                  s3_bucket=\"public-eo-data\", s3_dir=\"novasar_uk_test/\"):\n",
    "    \"\"\"\n",
    "    Prepare a Sedas-hosted NovaSAR .zip scene(/strip) by suppliedId into a flavour of ARD\n",
    "    using SNAP and upload output COGs to Catapult object storage. \n",
    "    \"\"\"\n",
    "    try:\n",
    "        snap_gpt = os.environ['SNAP_GPT']\n",
    "        novasar_process = os.environ['NOVASAR_PROCESS']\n",
    "        root = setup_logging()\n",
    "\n",
    "        inter_dir = f\"{inter_dir}{sedas_supplierId}_tmp/\"\n",
    "        os.makedirs(inter_dir, exist_ok=True)\n",
    "        master_scene_name = sedas_supplierId\n",
    "        down_zip = f\"{inter_dir}{master_scene_name}.zip\"\n",
    "        master_scene_dir = f\"{down_zip[:-4]}/\"\n",
    "        \n",
    "        \n",
    "        print(f\"{time.strftime('%Y-%m-%d %H:%M:%S')} Preparing {master_scene_name} within {inter_dir}\")\n",
    "        # find & download\n",
    "        sedas_scene_res = sedas_client().search_product(sedas_supplierId)[0]\n",
    "        sedas_download([sedas_scene_res], inter_dir)\n",
    "        sedas_extract(down_zip, master_scene_dir)\n",
    "\n",
    "        scenes_metadata = glob(f\"{inter_dir}**/*metadata.xml\", recursive=True)\n",
    "        \n",
    "        for scene_metadata in scenes_metadata:\n",
    "            \n",
    "            scene_name = scene_metadata.split('/')[-2]\n",
    "            print(scene_name)\n",
    "            \n",
    "            out_dim = f\"{inter_dir}{scene_name}_ML_TC_TF.dim\"\n",
    "            out_dimdir = f\"{out_dim[:-4]}.data/\"\n",
    "            print(out_dimdir)\n",
    "            \n",
    "            out_cog_dir = f\"{out_dimdir.replace('.data','_cog')}\"\n",
    "            os.makedirs(out_cog_dir, exist_ok=True)\n",
    "            print(out_cog_dir)\n",
    "            \n",
    "            cmd = [snap_gpt, novasar_process, f\"-Pinput={scene_metadata}\", f\"-Poutput={out_dim}\"]\n",
    "            run_snap_command(cmd)\n",
    "            \n",
    "            scene_bands = glob(f\"{out_dimdir}**/*.img\", recursive=True)\n",
    "            for band_path in scene_bands:\n",
    "                out_cog = f\"{out_cog_dir}{scene_name}_{os.path.basename(band_path)[:-4]}.tif\"\n",
    "                print(out_cog)\n",
    "                convert2cog(band_path, out_cog, 1)\n",
    "            \n",
    "            shutil.copy(scene_metadata, f\"{out_cog_dir}original_metadata.xml\")\n",
    "            shutil.copy(out_dim, f\"{out_cog_dir}process_metadata.dim\")\n",
    "            \n",
    "            # upload\n",
    "            s3_upload_dir(out_cog_dir, s3_bucket, s3_dir)\n",
    "        print(f\"{time.strftime('%Y-%m-%d %H:%M:%S')} Prepared {master_scene_name} at {s3_dir}\")\n",
    "#         clean_up(inter_dir) \n",
    "    except Exception as e:\n",
    "        print(f\"{time.strftime('%Y-%m-%d %H:%M:%S')} Failed with {e}\")    \n",
    "#         clean_up(inter_dir)"
   ]
  },
  {
   "cell_type": "code",
   "execution_count": 17,
   "metadata": {},
   "outputs": [
    {
     "name": "stderr",
     "output_type": "stream",
     "text": [
      "DEBUG:sedas_api:successful login.\n"
     ]
    },
    {
     "name": "stdout",
     "output_type": "stream",
     "text": [
      "2020-11-17 16:25:03 Preparing NovaSAR_01_14295_slc_200823_233848_HH within /tmp/data/intermediate_test/NovaSAR_01_14295_slc_200823_233848_HH_tmp/\n"
     ]
    },
    {
     "name": "stderr",
     "output_type": "stream",
     "text": [
      "DEBUG:sedas_api:successful login.\n",
      "DEBUG:sedas_api:successful login.\n",
      "DEBUG:sedas_api:successful login.\n",
      "DEBUG:sedas_api:successful login.\n",
      "INFO:bulk_downloader:0 downloads pending, 0 downloads in progress, 0 requests pending\n",
      "INFO:bulk_downloader:2 active threads, 0 restarted.\n"
     ]
    },
    {
     "name": "stdout",
     "output_type": "stream",
     "text": [
      "2020-11-17 16:25:04 Downloading\n"
     ]
    },
    {
     "name": "stderr",
     "output_type": "stream",
     "text": [
      "DEBUG:bulk_downloader:1 downloads pending\n",
      "DEBUG:bulk_downloader:1 downloads pending\n",
      "INFO:bulk_downloader:downloading NovaSAR_01_14295_slc_200823_233848_HH to /tmp/data/intermediate_test/NovaSAR_01_14295_slc_200823_233848_HH_tmp/NovaSAR_01_14295_slc_200823_233848_HH.zip\n",
      "DEBUG:sedas_api:successful login.\n",
      "INFO:bulk_downloader:0 downloads pending, 1 downloads in progress, 0 requests pending\n",
      "INFO:bulk_downloader:2 active threads, 0 restarted.\n",
      "INFO:bulk_downloader:0 downloads pending, 1 downloads in progress, 0 requests pending\n",
      "INFO:bulk_downloader:2 active threads, 0 restarted.\n",
      "INFO:bulk_downloader:0 downloads pending, 1 downloads in progress, 0 requests pending\n",
      "INFO:bulk_downloader:2 active threads, 0 restarted.\n",
      "INFO:bulk_downloader:0 downloads pending, 1 downloads in progress, 0 requests pending\n",
      "INFO:bulk_downloader:2 active threads, 0 restarted.\n",
      "INFO:bulk_downloader:0 downloads pending, 1 downloads in progress, 0 requests pending\n",
      "INFO:bulk_downloader:2 active threads, 0 restarted.\n",
      "INFO:bulk_downloader:0 downloads pending, 1 downloads in progress, 0 requests pending\n",
      "INFO:bulk_downloader:2 active threads, 0 restarted.\n",
      "INFO:bulk_downloader:0 downloads pending, 1 downloads in progress, 0 requests pending\n",
      "INFO:bulk_downloader:2 active threads, 0 restarted.\n",
      "INFO:bulk_downloader:0 downloads pending, 1 downloads in progress, 0 requests pending\n",
      "INFO:bulk_downloader:2 active threads, 0 restarted.\n",
      "INFO:bulk_downloader:0 downloads pending, 1 downloads in progress, 0 requests pending\n",
      "INFO:bulk_downloader:2 active threads, 0 restarted.\n",
      "INFO:bulk_downloader:0 downloads pending, 1 downloads in progress, 0 requests pending\n",
      "INFO:bulk_downloader:2 active threads, 0 restarted.\n",
      "INFO:bulk_downloader:0 downloads pending, 1 downloads in progress, 0 requests pending\n",
      "INFO:bulk_downloader:2 active threads, 0 restarted.\n",
      "INFO:bulk_downloader:0 downloads pending, 1 downloads in progress, 0 requests pending\n",
      "INFO:bulk_downloader:2 active threads, 0 restarted.\n",
      "INFO:bulk_downloader:0 downloads pending, 1 downloads in progress, 0 requests pending\n",
      "INFO:bulk_downloader:2 active threads, 0 restarted.\n",
      "INFO:bulk_downloader:0 downloads pending, 1 downloads in progress, 0 requests pending\n",
      "INFO:bulk_downloader:2 active threads, 0 restarted.\n",
      "INFO:bulk_downloader:0 downloads pending, 1 downloads in progress, 0 requests pending\n",
      "INFO:bulk_downloader:2 active threads, 0 restarted.\n",
      "INFO:bulk_downloader:0 downloads pending, 1 downloads in progress, 0 requests pending\n",
      "INFO:bulk_downloader:2 active threads, 0 restarted.\n",
      "DEBUG:bulk_downloader:0 downloads pending\n",
      "DEBUG:bulk_downloader:monitor thread stopping\n"
     ]
    },
    {
     "name": "stdout",
     "output_type": "stream",
     "text": [
      "2020-11-17 16:26:29 Downloaded\n",
      "2020-11-17 16:26:29 Extracting /tmp/data/intermediate_test/NovaSAR_01_14295_slc_200823_233848_HH_tmp/NovaSAR_01_14295_slc_200823_233848_HH.zip\n"
     ]
    },
    {
     "name": "stderr",
     "output_type": "stream",
     "text": [
      "DEBUG:bulk_downloader:requests thread stopping\n",
      "DEBUG:root:running ['/opt/snap/bin/gpt', '/opt/notebooks/anc/novasar_slc_tc.xml', '-Pinput=/tmp/data/intermediate_test/NovaSAR_01_14295_slc_200823_233848_HH_tmp/NovaSAR_01_14295_slc_200823_233848_HH/SV229/Image_Products$/NovaSAR_01_14295_slc_200823_233848_HH_/NovaSAR_01_14295_slc_11_200823_233848_HH_1/metadata.xml', '-Poutput=/tmp/data/intermediate_test/NovaSAR_01_14295_slc_200823_233848_HH_tmp/NovaSAR_01_14295_slc_11_200823_233848_HH_1_ML_TC_TF.dim']\n"
     ]
    },
    {
     "name": "stdout",
     "output_type": "stream",
     "text": [
      "2020-11-17 16:27:26 Extracted to /tmp/data/intermediate_test/NovaSAR_01_14295_slc_200823_233848_HH_tmp/NovaSAR_01_14295_slc_200823_233848_HH/\n",
      "NovaSAR_01_14295_slc_11_200823_233848_HH_1\n",
      "/tmp/data/intermediate_test/NovaSAR_01_14295_slc_200823_233848_HH_tmp/NovaSAR_01_14295_slc_11_200823_233848_HH_1_ML_TC_TF.data/\n",
      "/tmp/data/intermediate_test/NovaSAR_01_14295_slc_200823_233848_HH_tmp/NovaSAR_01_14295_slc_11_200823_233848_HH_1_ML_TC_TF_cog/\n"
     ]
    },
    {
     "name": "stderr",
     "output_type": "stream",
     "text": [
      "INFO:snap_stderr:stderr:INFO: org.esa.snap.core.gpf.operators.tooladapter.ToolAdapterIO: Initializing external tool adapters\n",
      "INFO:snap_stderr:stderr:INFO: org.esa.s2tbx.dataio.gdal.GDALVersion: Incompatible GDAL 3.1.4 found on system. Internal GDAL 3.0.0 from distribution will be used.\n",
      "INFO:snap_stderr:stderr:INFO: org.esa.s2tbx.dataio.gdal.GDALVersion: Internal GDAL 3.0.0 set to be used by SNAP.\n",
      "INFO:snap_stderr:stderr:INFO: org.esa.snap.core.util.EngineVersionCheckActivator: Please check regularly for new updates for the best SNAP experience.\n",
      "INFO:snap_stderr:stderr:INFO: org.esa.s2tbx.dataio.gdal.GDALVersion: Internal GDAL 3.0.0 set to be used by SNAP.\n",
      "INFO:snap_stdout:Executing processing graph\n",
      "INFO:snap_stderr:stderr:INFO: org.hsqldb.persist.Logger: dataFileCache open start\n",
      "INFO:snap_stdout:....10%....20%....30%....40%....50%....60%....70%....80%....90% done.\n"
     ]
    },
    {
     "name": "stdout",
     "output_type": "stream",
     "text": [
      "/tmp/data/intermediate_test/NovaSAR_01_14295_slc_200823_233848_HH_tmp/NovaSAR_01_14295_slc_11_200823_233848_HH_1_ML_TC_TF_cog/NovaSAR_01_14295_slc_11_200823_233848_HH_1_Intensity_HH_db.tif\n",
      "2020-11-17 16:27:45 Starting conversion: /tmp/data/intermediate_test/NovaSAR_01_14295_slc_200823_233848_HH_tmp/NovaSAR_01_14295_slc_11_200823_233848_HH_1_ML_TC_TF.data/Intensity_HH_db.img.\n",
      "2020-11-17 16:27:51 Conversion complete: True.\n"
     ]
    },
    {
     "name": "stderr",
     "output_type": "stream",
     "text": [
      "DEBUG:root:running ['/opt/snap/bin/gpt', '/opt/notebooks/anc/novasar_slc_tc.xml', '-Pinput=/tmp/data/intermediate_test/NovaSAR_01_14295_slc_200823_233848_HH_tmp/NovaSAR_01_14295_slc_200823_233848_HH/SV229/Image_Products$/NovaSAR_01_14295_slc_200823_233848_HH_/NovaSAR_01_14295_slc_11_200823_233852_HH_2/metadata.xml', '-Poutput=/tmp/data/intermediate_test/NovaSAR_01_14295_slc_200823_233848_HH_tmp/NovaSAR_01_14295_slc_11_200823_233852_HH_2_ML_TC_TF.dim']\n"
     ]
    },
    {
     "name": "stdout",
     "output_type": "stream",
     "text": [
      "NovaSAR_01_14295_slc_11_200823_233852_HH_2\n",
      "/tmp/data/intermediate_test/NovaSAR_01_14295_slc_200823_233848_HH_tmp/NovaSAR_01_14295_slc_11_200823_233852_HH_2_ML_TC_TF.data/\n",
      "/tmp/data/intermediate_test/NovaSAR_01_14295_slc_200823_233848_HH_tmp/NovaSAR_01_14295_slc_11_200823_233852_HH_2_ML_TC_TF_cog/\n"
     ]
    },
    {
     "name": "stderr",
     "output_type": "stream",
     "text": [
      "INFO:snap_stderr:stderr:INFO: org.esa.snap.core.gpf.operators.tooladapter.ToolAdapterIO: Initializing external tool adapters\n",
      "INFO:snap_stderr:stderr:INFO: org.esa.s2tbx.dataio.gdal.GDALVersion: Incompatible GDAL 3.1.4 found on system. Internal GDAL 3.0.0 from distribution will be used.\n",
      "INFO:snap_stderr:stderr:INFO: org.esa.s2tbx.dataio.gdal.GDALVersion: Internal GDAL 3.0.0 set to be used by SNAP.\n",
      "INFO:snap_stderr:stderr:INFO: org.esa.snap.core.util.EngineVersionCheckActivator: Please check regularly for new updates for the best SNAP experience.\n",
      "INFO:snap_stderr:stderr:INFO: org.esa.s2tbx.dataio.gdal.GDALVersion: Internal GDAL 3.0.0 set to be used by SNAP.\n",
      "INFO:snap_stdout:Executing processing graph\n",
      "INFO:snap_stderr:stderr:INFO: org.hsqldb.persist.Logger: dataFileCache open start\n",
      "INFO:snap_stderr:stderr:INFO: org.esa.snap.core.dataop.dem.ElevationFile: http retrieving http://step.esa.int/auxdata/dem/SRTMGL1/N51W002.SRTMGL1.hgt.zip\n",
      "INFO:snap_stderr:stderr:INFO: org.esa.snap.core.dataop.dem.ElevationFile: http retrieving http://step.esa.int/auxdata/dem/SRTMGL1/N51W001.SRTMGL1.hgt.zip\n",
      "INFO:snap_stdout:....10%....20%....30%....40%....50%....60%....70%....80%....90% done.\n"
     ]
    },
    {
     "name": "stdout",
     "output_type": "stream",
     "text": [
      "/tmp/data/intermediate_test/NovaSAR_01_14295_slc_200823_233848_HH_tmp/NovaSAR_01_14295_slc_11_200823_233852_HH_2_ML_TC_TF_cog/NovaSAR_01_14295_slc_11_200823_233852_HH_2_Intensity_HH_db.tif\n",
      "2020-11-17 16:28:49 Starting conversion: /tmp/data/intermediate_test/NovaSAR_01_14295_slc_200823_233848_HH_tmp/NovaSAR_01_14295_slc_11_200823_233852_HH_2_ML_TC_TF.data/Intensity_HH_db.img.\n",
      "2020-11-17 16:28:55 Conversion complete: True.\n"
     ]
    },
    {
     "name": "stderr",
     "output_type": "stream",
     "text": [
      "DEBUG:root:running ['/opt/snap/bin/gpt', '/opt/notebooks/anc/novasar_slc_tc.xml', '-Pinput=/tmp/data/intermediate_test/NovaSAR_01_14295_slc_200823_233848_HH_tmp/NovaSAR_01_14295_slc_200823_233848_HH/SV229/Image_Products$/NovaSAR_01_14295_slc_200823_233848_HH_/NovaSAR_01_14295_slc_11_200823_233856_HH_3/metadata.xml', '-Poutput=/tmp/data/intermediate_test/NovaSAR_01_14295_slc_200823_233848_HH_tmp/NovaSAR_01_14295_slc_11_200823_233856_HH_3_ML_TC_TF.dim']\n"
     ]
    },
    {
     "name": "stdout",
     "output_type": "stream",
     "text": [
      "NovaSAR_01_14295_slc_11_200823_233856_HH_3\n",
      "/tmp/data/intermediate_test/NovaSAR_01_14295_slc_200823_233848_HH_tmp/NovaSAR_01_14295_slc_11_200823_233856_HH_3_ML_TC_TF.data/\n",
      "/tmp/data/intermediate_test/NovaSAR_01_14295_slc_200823_233848_HH_tmp/NovaSAR_01_14295_slc_11_200823_233856_HH_3_ML_TC_TF_cog/\n"
     ]
    },
    {
     "name": "stderr",
     "output_type": "stream",
     "text": [
      "INFO:snap_stderr:stderr:INFO: org.esa.snap.core.gpf.operators.tooladapter.ToolAdapterIO: Initializing external tool adapters\n",
      "INFO:snap_stderr:stderr:INFO: org.esa.s2tbx.dataio.gdal.GDALVersion: Incompatible GDAL 3.1.4 found on system. Internal GDAL 3.0.0 from distribution will be used.\n",
      "INFO:snap_stderr:stderr:INFO: org.esa.s2tbx.dataio.gdal.GDALVersion: Internal GDAL 3.0.0 set to be used by SNAP.\n",
      "INFO:snap_stderr:stderr:INFO: org.esa.snap.core.util.EngineVersionCheckActivator: Please check regularly for new updates for the best SNAP experience.\n",
      "INFO:snap_stderr:stderr:INFO: org.esa.s2tbx.dataio.gdal.GDALVersion: Internal GDAL 3.0.0 set to be used by SNAP.\n",
      "INFO:snap_stdout:Executing processing graph\n",
      "INFO:snap_stderr:stderr:INFO: org.hsqldb.persist.Logger: dataFileCache open start\n",
      "INFO:snap_stdout:....10%....20%....30%....40%....50%....60%....70%....80%....90% done.\n"
     ]
    },
    {
     "name": "stdout",
     "output_type": "stream",
     "text": [
      "/tmp/data/intermediate_test/NovaSAR_01_14295_slc_200823_233848_HH_tmp/NovaSAR_01_14295_slc_11_200823_233856_HH_3_ML_TC_TF_cog/NovaSAR_01_14295_slc_11_200823_233856_HH_3_Intensity_HH_db.tif\n",
      "2020-11-17 16:29:51 Starting conversion: /tmp/data/intermediate_test/NovaSAR_01_14295_slc_200823_233848_HH_tmp/NovaSAR_01_14295_slc_11_200823_233856_HH_3_ML_TC_TF.data/Intensity_HH_db.img.\n",
      "2020-11-17 16:29:57 Conversion complete: True.\n"
     ]
    },
    {
     "name": "stderr",
     "output_type": "stream",
     "text": [
      "DEBUG:root:running ['/opt/snap/bin/gpt', '/opt/notebooks/anc/novasar_slc_tc.xml', '-Pinput=/tmp/data/intermediate_test/NovaSAR_01_14295_slc_200823_233848_HH_tmp/NovaSAR_01_14295_slc_200823_233848_HH/SV229/Image_Products$/NovaSAR_01_14295_slc_200823_233848_HH_/NovaSAR_01_14295_slc_11_200823_233900_HH_4/metadata.xml', '-Poutput=/tmp/data/intermediate_test/NovaSAR_01_14295_slc_200823_233848_HH_tmp/NovaSAR_01_14295_slc_11_200823_233900_HH_4_ML_TC_TF.dim']\n"
     ]
    },
    {
     "name": "stdout",
     "output_type": "stream",
     "text": [
      "NovaSAR_01_14295_slc_11_200823_233900_HH_4\n",
      "/tmp/data/intermediate_test/NovaSAR_01_14295_slc_200823_233848_HH_tmp/NovaSAR_01_14295_slc_11_200823_233900_HH_4_ML_TC_TF.data/\n",
      "/tmp/data/intermediate_test/NovaSAR_01_14295_slc_200823_233848_HH_tmp/NovaSAR_01_14295_slc_11_200823_233900_HH_4_ML_TC_TF_cog/\n"
     ]
    },
    {
     "name": "stderr",
     "output_type": "stream",
     "text": [
      "INFO:snap_stderr:stderr:INFO: org.esa.snap.core.gpf.operators.tooladapter.ToolAdapterIO: Initializing external tool adapters\n",
      "INFO:snap_stderr:stderr:INFO: org.esa.s2tbx.dataio.gdal.GDALVersion: Incompatible GDAL 3.1.4 found on system. Internal GDAL 3.0.0 from distribution will be used.\n",
      "INFO:snap_stderr:stderr:INFO: org.esa.s2tbx.dataio.gdal.GDALVersion: Internal GDAL 3.0.0 set to be used by SNAP.\n",
      "INFO:snap_stderr:stderr:INFO: org.esa.snap.core.util.EngineVersionCheckActivator: Please check regularly for new updates for the best SNAP experience.\n",
      "INFO:snap_stderr:stderr:INFO: org.esa.s2tbx.dataio.gdal.GDALVersion: Internal GDAL 3.0.0 set to be used by SNAP.\n",
      "INFO:snap_stdout:Executing processing graph\n",
      "INFO:snap_stderr:stderr:INFO: org.hsqldb.persist.Logger: dataFileCache open start\n",
      "INFO:snap_stdout:....10%....20%....30%....40%....50%....60%....70%....80%....90% done.\n"
     ]
    },
    {
     "name": "stdout",
     "output_type": "stream",
     "text": [
      "/tmp/data/intermediate_test/NovaSAR_01_14295_slc_200823_233848_HH_tmp/NovaSAR_01_14295_slc_11_200823_233900_HH_4_ML_TC_TF_cog/NovaSAR_01_14295_slc_11_200823_233900_HH_4_Intensity_HH_db.tif\n",
      "2020-11-17 16:30:59 Starting conversion: /tmp/data/intermediate_test/NovaSAR_01_14295_slc_200823_233848_HH_tmp/NovaSAR_01_14295_slc_11_200823_233900_HH_4_ML_TC_TF.data/Intensity_HH_db.img.\n",
      "2020-11-17 16:31:07 Conversion complete: True.\n"
     ]
    },
    {
     "name": "stderr",
     "output_type": "stream",
     "text": [
      "DEBUG:root:running ['/opt/snap/bin/gpt', '/opt/notebooks/anc/novasar_slc_tc.xml', '-Pinput=/tmp/data/intermediate_test/NovaSAR_01_14295_slc_200823_233848_HH_tmp/NovaSAR_01_14295_slc_200823_233848_HH/SV229/Image_Products$/NovaSAR_01_14295_slc_200823_233848_HH_/NovaSAR_01_14295_slc_11_200823_233904_HH_5/metadata.xml', '-Poutput=/tmp/data/intermediate_test/NovaSAR_01_14295_slc_200823_233848_HH_tmp/NovaSAR_01_14295_slc_11_200823_233904_HH_5_ML_TC_TF.dim']\n"
     ]
    },
    {
     "name": "stdout",
     "output_type": "stream",
     "text": [
      "NovaSAR_01_14295_slc_11_200823_233904_HH_5\n",
      "/tmp/data/intermediate_test/NovaSAR_01_14295_slc_200823_233848_HH_tmp/NovaSAR_01_14295_slc_11_200823_233904_HH_5_ML_TC_TF.data/\n",
      "/tmp/data/intermediate_test/NovaSAR_01_14295_slc_200823_233848_HH_tmp/NovaSAR_01_14295_slc_11_200823_233904_HH_5_ML_TC_TF_cog/\n"
     ]
    },
    {
     "name": "stderr",
     "output_type": "stream",
     "text": [
      "INFO:snap_stderr:stderr:INFO: org.esa.snap.core.gpf.operators.tooladapter.ToolAdapterIO: Initializing external tool adapters\n",
      "INFO:snap_stderr:stderr:INFO: org.esa.s2tbx.dataio.gdal.GDALVersion: Incompatible GDAL 3.1.4 found on system. Internal GDAL 3.0.0 from distribution will be used.\n",
      "INFO:snap_stderr:stderr:INFO: org.esa.s2tbx.dataio.gdal.GDALVersion: Internal GDAL 3.0.0 set to be used by SNAP.\n",
      "INFO:snap_stderr:stderr:INFO: org.esa.snap.core.util.EngineVersionCheckActivator: Please check regularly for new updates for the best SNAP experience.\n",
      "INFO:snap_stderr:stderr:INFO: org.esa.s2tbx.dataio.gdal.GDALVersion: Internal GDAL 3.0.0 set to be used by SNAP.\n",
      "INFO:snap_stdout:Executing processing graph\n",
      "INFO:snap_stderr:stderr:INFO: org.hsqldb.persist.Logger: dataFileCache open start\n",
      "INFO:snap_stdout:....10%....20%....30%....40%....50%....60%....70%....80%....90% done.\n"
     ]
    },
    {
     "name": "stdout",
     "output_type": "stream",
     "text": [
      "/tmp/data/intermediate_test/NovaSAR_01_14295_slc_200823_233848_HH_tmp/NovaSAR_01_14295_slc_11_200823_233904_HH_5_ML_TC_TF_cog/NovaSAR_01_14295_slc_11_200823_233904_HH_5_Intensity_HH_db.tif\n",
      "2020-11-17 16:32:05 Starting conversion: /tmp/data/intermediate_test/NovaSAR_01_14295_slc_200823_233848_HH_tmp/NovaSAR_01_14295_slc_11_200823_233904_HH_5_ML_TC_TF.data/Intensity_HH_db.img.\n",
      "2020-11-17 16:32:11 Conversion complete: True.\n"
     ]
    },
    {
     "name": "stderr",
     "output_type": "stream",
     "text": [
      "DEBUG:root:running ['/opt/snap/bin/gpt', '/opt/notebooks/anc/novasar_slc_tc.xml', '-Pinput=/tmp/data/intermediate_test/NovaSAR_01_14295_slc_200823_233848_HH_tmp/NovaSAR_01_14295_slc_200823_233848_HH/SV229/Image_Products$/NovaSAR_01_14295_slc_200823_233848_HH_/NovaSAR_01_14295_slc_11_200823_233908_HH_6/metadata.xml', '-Poutput=/tmp/data/intermediate_test/NovaSAR_01_14295_slc_200823_233848_HH_tmp/NovaSAR_01_14295_slc_11_200823_233908_HH_6_ML_TC_TF.dim']\n"
     ]
    },
    {
     "name": "stdout",
     "output_type": "stream",
     "text": [
      "NovaSAR_01_14295_slc_11_200823_233908_HH_6\n",
      "/tmp/data/intermediate_test/NovaSAR_01_14295_slc_200823_233848_HH_tmp/NovaSAR_01_14295_slc_11_200823_233908_HH_6_ML_TC_TF.data/\n",
      "/tmp/data/intermediate_test/NovaSAR_01_14295_slc_200823_233848_HH_tmp/NovaSAR_01_14295_slc_11_200823_233908_HH_6_ML_TC_TF_cog/\n"
     ]
    },
    {
     "name": "stderr",
     "output_type": "stream",
     "text": [
      "INFO:snap_stderr:stderr:INFO: org.esa.snap.core.gpf.operators.tooladapter.ToolAdapterIO: Initializing external tool adapters\n",
      "INFO:snap_stderr:stderr:INFO: org.esa.s2tbx.dataio.gdal.GDALVersion: Incompatible GDAL 3.1.4 found on system. Internal GDAL 3.0.0 from distribution will be used.\n",
      "INFO:snap_stderr:stderr:INFO: org.esa.s2tbx.dataio.gdal.GDALVersion: Internal GDAL 3.0.0 set to be used by SNAP.\n",
      "INFO:snap_stderr:stderr:INFO: org.esa.snap.core.util.EngineVersionCheckActivator: Please check regularly for new updates for the best SNAP experience.\n",
      "INFO:snap_stderr:stderr:INFO: org.esa.s2tbx.dataio.gdal.GDALVersion: Internal GDAL 3.0.0 set to be used by SNAP.\n",
      "INFO:snap_stdout:Executing processing graph\n",
      "INFO:snap_stderr:stderr:INFO: org.hsqldb.persist.Logger: dataFileCache open start\n",
      "INFO:snap_stderr:stderr:INFO: org.esa.snap.core.dataop.dem.ElevationFile: http retrieving http://step.esa.int/auxdata/dem/SRTMGL1/N50W002.SRTMGL1.hgt.zip\n",
      "INFO:snap_stdout:....10%....20%....30%....40%....50%....60%....70%....80%....90% done.\n"
     ]
    },
    {
     "name": "stdout",
     "output_type": "stream",
     "text": [
      "/tmp/data/intermediate_test/NovaSAR_01_14295_slc_200823_233848_HH_tmp/NovaSAR_01_14295_slc_11_200823_233908_HH_6_ML_TC_TF_cog/NovaSAR_01_14295_slc_11_200823_233908_HH_6_Intensity_HH_db.tif\n",
      "2020-11-17 16:33:13 Starting conversion: /tmp/data/intermediate_test/NovaSAR_01_14295_slc_200823_233848_HH_tmp/NovaSAR_01_14295_slc_11_200823_233908_HH_6_ML_TC_TF.data/Intensity_HH_db.img.\n",
      "2020-11-17 16:33:19 Conversion complete: True.\n"
     ]
    },
    {
     "name": "stderr",
     "output_type": "stream",
     "text": [
      "DEBUG:root:running ['/opt/snap/bin/gpt', '/opt/notebooks/anc/novasar_slc_tc.xml', '-Pinput=/tmp/data/intermediate_test/NovaSAR_01_14295_slc_200823_233848_HH_tmp/NovaSAR_01_14295_slc_200823_233848_HH/SV229/Image_Products$/NovaSAR_01_14295_slc_200823_233848_HH_/NovaSAR_01_14295_slc_11_200823_233912_HH_7/metadata.xml', '-Poutput=/tmp/data/intermediate_test/NovaSAR_01_14295_slc_200823_233848_HH_tmp/NovaSAR_01_14295_slc_11_200823_233912_HH_7_ML_TC_TF.dim']\n"
     ]
    },
    {
     "name": "stdout",
     "output_type": "stream",
     "text": [
      "NovaSAR_01_14295_slc_11_200823_233912_HH_7\n",
      "/tmp/data/intermediate_test/NovaSAR_01_14295_slc_200823_233848_HH_tmp/NovaSAR_01_14295_slc_11_200823_233912_HH_7_ML_TC_TF.data/\n",
      "/tmp/data/intermediate_test/NovaSAR_01_14295_slc_200823_233848_HH_tmp/NovaSAR_01_14295_slc_11_200823_233912_HH_7_ML_TC_TF_cog/\n"
     ]
    },
    {
     "name": "stderr",
     "output_type": "stream",
     "text": [
      "INFO:snap_stderr:stderr:INFO: org.esa.snap.core.gpf.operators.tooladapter.ToolAdapterIO: Initializing external tool adapters\n",
      "INFO:snap_stderr:stderr:INFO: org.esa.s2tbx.dataio.gdal.GDALVersion: Incompatible GDAL 3.1.4 found on system. Internal GDAL 3.0.0 from distribution will be used.\n",
      "INFO:snap_stderr:stderr:INFO: org.esa.s2tbx.dataio.gdal.GDALVersion: Internal GDAL 3.0.0 set to be used by SNAP.\n",
      "INFO:snap_stderr:stderr:INFO: org.esa.snap.core.util.EngineVersionCheckActivator: Please check regularly for new updates for the best SNAP experience.\n",
      "INFO:snap_stderr:stderr:INFO: org.esa.s2tbx.dataio.gdal.GDALVersion: Internal GDAL 3.0.0 set to be used by SNAP.\n",
      "INFO:snap_stdout:Executing processing graph\n",
      "INFO:snap_stderr:stderr:INFO: org.hsqldb.persist.Logger: dataFileCache open start\n",
      "INFO:snap_stdout:....10%....20%....30%....40%....50%....60%....70%....80%....90% done.\n"
     ]
    },
    {
     "name": "stdout",
     "output_type": "stream",
     "text": [
      "/tmp/data/intermediate_test/NovaSAR_01_14295_slc_200823_233848_HH_tmp/NovaSAR_01_14295_slc_11_200823_233912_HH_7_ML_TC_TF_cog/NovaSAR_01_14295_slc_11_200823_233912_HH_7_Intensity_HH_db.tif\n",
      "2020-11-17 16:34:16 Starting conversion: /tmp/data/intermediate_test/NovaSAR_01_14295_slc_200823_233848_HH_tmp/NovaSAR_01_14295_slc_11_200823_233912_HH_7_ML_TC_TF.data/Intensity_HH_db.img.\n",
      "2020-11-17 16:34:22 Conversion complete: True.\n"
     ]
    },
    {
     "name": "stderr",
     "output_type": "stream",
     "text": [
      "DEBUG:root:running ['/opt/snap/bin/gpt', '/opt/notebooks/anc/novasar_slc_tc.xml', '-Pinput=/tmp/data/intermediate_test/NovaSAR_01_14295_slc_200823_233848_HH_tmp/NovaSAR_01_14295_slc_200823_233848_HH/SV229/Image_Products$/NovaSAR_01_14295_slc_200823_233848_HH_/NovaSAR_01_14295_slc_11_200823_233916_HH_8/metadata.xml', '-Poutput=/tmp/data/intermediate_test/NovaSAR_01_14295_slc_200823_233848_HH_tmp/NovaSAR_01_14295_slc_11_200823_233916_HH_8_ML_TC_TF.dim']\n"
     ]
    },
    {
     "name": "stdout",
     "output_type": "stream",
     "text": [
      "NovaSAR_01_14295_slc_11_200823_233916_HH_8\n",
      "/tmp/data/intermediate_test/NovaSAR_01_14295_slc_200823_233848_HH_tmp/NovaSAR_01_14295_slc_11_200823_233916_HH_8_ML_TC_TF.data/\n",
      "/tmp/data/intermediate_test/NovaSAR_01_14295_slc_200823_233848_HH_tmp/NovaSAR_01_14295_slc_11_200823_233916_HH_8_ML_TC_TF_cog/\n"
     ]
    },
    {
     "name": "stderr",
     "output_type": "stream",
     "text": [
      "INFO:snap_stderr:stderr:INFO: org.esa.snap.core.gpf.operators.tooladapter.ToolAdapterIO: Initializing external tool adapters\n",
      "INFO:snap_stderr:stderr:INFO: org.esa.s2tbx.dataio.gdal.GDALVersion: Incompatible GDAL 3.1.4 found on system. Internal GDAL 3.0.0 from distribution will be used.\n",
      "INFO:snap_stderr:stderr:INFO: org.esa.s2tbx.dataio.gdal.GDALVersion: Internal GDAL 3.0.0 set to be used by SNAP.\n",
      "INFO:snap_stderr:stderr:INFO: org.esa.snap.core.util.EngineVersionCheckActivator: Please check regularly for new updates for the best SNAP experience.\n",
      "INFO:snap_stderr:stderr:INFO: org.esa.s2tbx.dataio.gdal.GDALVersion: Internal GDAL 3.0.0 set to be used by SNAP.\n",
      "INFO:snap_stdout:Executing processing graph\n",
      "INFO:snap_stderr:stderr:INFO: org.hsqldb.persist.Logger: dataFileCache open start\n",
      "INFO:snap_stderr:stderr:INFO: org.esa.snap.core.dataop.dem.ElevationFile: http retrieving http://step.esa.int/auxdata/dem/SRTMGL1/N50W003.SRTMGL1.hgt.zip\n",
      "INFO:snap_stdout:....10%....20%....30%....40%....50%....60%....70%....80%....90% done.\n"
     ]
    },
    {
     "name": "stdout",
     "output_type": "stream",
     "text": [
      "/tmp/data/intermediate_test/NovaSAR_01_14295_slc_200823_233848_HH_tmp/NovaSAR_01_14295_slc_11_200823_233916_HH_8_ML_TC_TF_cog/NovaSAR_01_14295_slc_11_200823_233916_HH_8_Intensity_HH_db.tif\n",
      "2020-11-17 16:35:27 Starting conversion: /tmp/data/intermediate_test/NovaSAR_01_14295_slc_200823_233848_HH_tmp/NovaSAR_01_14295_slc_11_200823_233916_HH_8_ML_TC_TF.data/Intensity_HH_db.img.\n",
      "2020-11-17 16:35:39 Conversion complete: True.\n",
      "2020-11-17 16:36:47 Prepared NovaSAR_01_14295_slc_200823_233848_HH at novasar_uk_test/\n"
     ]
    }
   ],
   "source": [
    "prep_novasar('NovaSAR_01_14295_slc_200823_233848_HH')"
   ]
  },
  {
   "cell_type": "markdown",
   "metadata": {},
   "source": [
    "\n",
    "## Export"
   ]
  },
  {
   "cell_type": "code",
   "execution_count": 19,
   "metadata": {},
   "outputs": [
    {
     "name": "stdout",
     "output_type": "stream",
     "text": [
      "Converted 1_prep_utils.ipynb.\n",
      "Converted 2_prep_novasar.ipynb.\n"
     ]
    }
   ],
   "source": [
    "#hide\n",
    "from nbdev.export import notebook2script; notebook2script()"
   ]
  },
  {
   "cell_type": "code",
   "execution_count": null,
   "metadata": {},
   "outputs": [],
   "source": []
  }
 ],
 "metadata": {
  "kernelspec": {
   "display_name": "Python 3",
   "language": "python",
   "name": "python3"
  },
  "language_info": {
   "codemirror_mode": {
    "name": "ipython",
    "version": 3
   },
   "file_extension": ".py",
   "mimetype": "text/x-python",
   "name": "python",
   "nbconvert_exporter": "python",
   "pygments_lexer": "ipython3",
   "version": "3.7.9"
  }
 },
 "nbformat": 4,
 "nbformat_minor": 4
}
