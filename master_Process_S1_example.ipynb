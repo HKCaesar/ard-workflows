{
 "cells": [
  {
   "cell_type": "code",
   "execution_count": 1,
   "metadata": {},
   "outputs": [],
   "source": [
    "%load_ext autoreload\n",
    "%autoreload 2\n",
    "# %matplotlib inline"
   ]
  },
  {
   "cell_type": "markdown",
   "metadata": {},
   "source": [
    "## Master Template for processing each dataset\n",
    "- Sentinel-1 (in order of priority)\n",
    " - **SLC via ASF using IPP Colombia**: in testing\n",
    " - **GRD via ASF using PyroSAR S1 Paper**: under development"
   ]
  },
  {
   "cell_type": "code",
   "execution_count": 3,
   "metadata": {},
   "outputs": [],
   "source": [
    "import glob\n",
    "import shutil\n",
    "from datetime import datetime\n",
    "import pandas as pd\n",
    "import time\n",
    "import tqdm\n",
    "import os\n",
    "\n",
    "from subprocess import Popen, PIPE, STDOUT\n",
    "\n",
    "from utils.prepS1 import prepareS1"
   ]
  },
  {
   "cell_type": "code",
   "execution_count": 4,
   "metadata": {},
   "outputs": [
    {
     "name": "stdout",
     "output_type": "stream",
     "text": [
      "AWS_ACCESS_KEY_ID : True\n",
      "AWS_SECRET_ACCESS_KEY : True\n",
      "AWS_S3_ENDPOINT : False\n",
      "COPERNICUS_USERNAME : True\n",
      "COPERNICUS_PWD : True\n",
      "S1_PROCESS_P1A : True\n",
      "S1_PROCESS_P2A : True\n",
      "S1_PROCESS_P3A : True\n",
      "S1_PROCESS_P4A : True\n",
      "SNAP_GPT : True\n",
      "ASF_USERNAME : True\n",
      "ASF_PWD : True\n"
     ]
    }
   ],
   "source": [
    "source_envars = ['AWS_ACCESS_KEY_ID','AWS_SECRET_ACCESS_KEY','AWS_S3_ENDPOINT','COPERNICUS_USERNAME','COPERNICUS_PWD',\n",
    "                'S1_PROCESS_P1A','S1_PROCESS_P2A','S1_PROCESS_P3A','S1_PROCESS_P4A','SNAP_GPT','ASF_USERNAME','ASF_PWD']\n",
    "for var in source_envars:\n",
    "    print(var,':',os.getenv(var)!=None)"
   ]
  },
  {
   "cell_type": "code",
   "execution_count": 10,
   "metadata": {},
   "outputs": [],
   "source": [
    "des_scenes_list = ['S1B_IW_SLC__1SDV_20190831T073944_20190831T074019_017826_0218C3_FFCE',\n",
    "                   'S1B_IW_SLC__1SDV_20190831T073916_20190831T073946_017826_0218C3_9DD8',\n",
    "                   'S1B_IW_SLC__1SDV_20190819T073943_20190819T074019_017651_021350_1E4A',\n",
    "                   'S1B_IW_SLC__1SDV_20190819T073916_20190819T073946_017651_021350_2701',\n",
    "                   'S1B_IW_SLC__1SDV_20190807T073943_20190807T074018_017476_020DDA_5CB6', \n",
    "                   'S1B_IW_SLC__1SDV_20190807T073915_20190807T073945_017476_020DDA_25DF', \n",
    "                   'S1B_IW_SLC__1SDV_20190726T073942_20190726T074017_017301_020896_1308']\n",
    "des_scenes_list = [\n",
    "    \"S1A_IW_GRDH_1SDV_20190912T151117_20190912T151142_028990_0349C6_D777\",\n",
    "    \"S1A_IW_GRDH_1SDV_20190912T151142_20190912T151207_028990_0349C6_D342\",\n",
    "    \"S1A_IW_GRDH_1SDV_20190912T151052_20190912T151117_028990_0349C6_D2E2\",\n",
    "    \"S1B_IW_GRDH_1SDV_20190911T151824_20190911T151849_017992_021DEF_EAF6\",\n",
    "    \"S1B_IW_GRDH_1SDV_20190911T151849_20190911T151914_017992_021DEF_A83B\"\n",
    "]\n",
    "\n",
    "\n",
    "test = [\n",
    "    'S1A_IW_GRDH_1SDV_20191025T064008_20191025T064044_029611_035F2D_0B2A',\n",
    "    'S1A_IW_GRDH_1SDV_20191013T064008_20191013T064044_029436_035929_1DCF',\n",
    "    'S1A_IW_GRDH_1SDV_20191001T064008_20191001T064044_029261_035324_C74C'\n",
    "]"
   ]
  },
  {
   "cell_type": "code",
   "execution_count": 5,
   "metadata": {},
   "outputs": [],
   "source": [
    "err = ['S1A_IW_GRDH_1SSV_20160506T174027_20160506T174050_011141_010CE4_FBE7']"
   ]
  },
  {
   "cell_type": "code",
   "execution_count": 6,
   "metadata": {},
   "outputs": [
    {
     "ename": "KeyError",
     "evalue": "'S1_PROCESS_P1'",
     "output_type": "error",
     "traceback": [
      "\u001b[0;31m---------------------------------------------------------------------------\u001b[0m",
      "\u001b[0;31mKeyError\u001b[0m                                  Traceback (most recent call last)",
      "\u001b[0;32m<ipython-input-6-899e8b456f60>\u001b[0m in \u001b[0;36m<module>\u001b[0;34m\u001b[0m\n\u001b[1;32m      1\u001b[0m \u001b[0;32mfor\u001b[0m \u001b[0ms\u001b[0m \u001b[0;32min\u001b[0m \u001b[0merr\u001b[0m\u001b[0;34m[\u001b[0m\u001b[0;34m:\u001b[0m\u001b[0;36m1\u001b[0m\u001b[0;34m]\u001b[0m\u001b[0;34m:\u001b[0m\u001b[0;34m\u001b[0m\u001b[0;34m\u001b[0m\u001b[0m\n\u001b[1;32m      2\u001b[0m \u001b[0;31m#     print(s)\u001b[0m\u001b[0;34m\u001b[0m\u001b[0;34m\u001b[0m\u001b[0;34m\u001b[0m\u001b[0m\n\u001b[0;32m----> 3\u001b[0;31m     \u001b[0mprepareS1\u001b[0m\u001b[0;34m(\u001b[0m\u001b[0ms\u001b[0m\u001b[0;34m,\u001b[0m \u001b[0ms3_dir\u001b[0m\u001b[0;34m=\u001b[0m\u001b[0;34m'fiji/tom/sentinel1_testing/'\u001b[0m\u001b[0;34m,\u001b[0m \u001b[0minter_dir\u001b[0m\u001b[0;34m=\u001b[0m\u001b[0;34m'../data/S1_ARD/'\u001b[0m\u001b[0;34m)\u001b[0m\u001b[0;34m\u001b[0m\u001b[0;34m\u001b[0m\u001b[0m\n\u001b[0m",
      "\u001b[0;32m/home/dataprep/ard-workflows/utils/prepS1.py\u001b[0m in \u001b[0;36mprepareS1\u001b[0;34m(in_scene, s3_bucket, s3_dir, inter_dir, source)\u001b[0m\n\u001b[1;32m    327\u001b[0m \u001b[0;34m\u001b[0m\u001b[0m\n\u001b[1;32m    328\u001b[0m     \u001b[0msnap_gpt\u001b[0m \u001b[0;34m=\u001b[0m \u001b[0mos\u001b[0m\u001b[0;34m.\u001b[0m\u001b[0menviron\u001b[0m\u001b[0;34m[\u001b[0m\u001b[0;34m'SNAP_GPT'\u001b[0m\u001b[0;34m]\u001b[0m\u001b[0;34m\u001b[0m\u001b[0;34m\u001b[0m\u001b[0m\n\u001b[0;32m--> 329\u001b[0;31m     \u001b[0mint_graph_1\u001b[0m \u001b[0;34m=\u001b[0m \u001b[0mos\u001b[0m\u001b[0;34m.\u001b[0m\u001b[0menviron\u001b[0m\u001b[0;34m[\u001b[0m\u001b[0;34m'S1_PROCESS_P1'\u001b[0m\u001b[0;34m]\u001b[0m  \u001b[0;31m# ENV VAR\u001b[0m\u001b[0;34m\u001b[0m\u001b[0;34m\u001b[0m\u001b[0m\n\u001b[0m\u001b[1;32m    330\u001b[0m     \u001b[0mint_graph_2\u001b[0m \u001b[0;34m=\u001b[0m \u001b[0mos\u001b[0m\u001b[0;34m.\u001b[0m\u001b[0menviron\u001b[0m\u001b[0;34m[\u001b[0m\u001b[0;34m'S1_PROCESS_P2'\u001b[0m\u001b[0;34m]\u001b[0m  \u001b[0;31m# ENV VAR\u001b[0m\u001b[0;34m\u001b[0m\u001b[0;34m\u001b[0m\u001b[0m\n\u001b[1;32m    331\u001b[0m \u001b[0;34m\u001b[0m\u001b[0m\n",
      "\u001b[0;32m/opt/conda/lib/python3.7/os.py\u001b[0m in \u001b[0;36m__getitem__\u001b[0;34m(self, key)\u001b[0m\n\u001b[1;32m    676\u001b[0m         \u001b[0;32mexcept\u001b[0m \u001b[0mKeyError\u001b[0m\u001b[0;34m:\u001b[0m\u001b[0;34m\u001b[0m\u001b[0;34m\u001b[0m\u001b[0m\n\u001b[1;32m    677\u001b[0m             \u001b[0;31m# raise KeyError with the original key value\u001b[0m\u001b[0;34m\u001b[0m\u001b[0;34m\u001b[0m\u001b[0;34m\u001b[0m\u001b[0m\n\u001b[0;32m--> 678\u001b[0;31m             \u001b[0;32mraise\u001b[0m \u001b[0mKeyError\u001b[0m\u001b[0;34m(\u001b[0m\u001b[0mkey\u001b[0m\u001b[0;34m)\u001b[0m \u001b[0;32mfrom\u001b[0m \u001b[0;32mNone\u001b[0m\u001b[0;34m\u001b[0m\u001b[0;34m\u001b[0m\u001b[0m\n\u001b[0m\u001b[1;32m    679\u001b[0m         \u001b[0;32mreturn\u001b[0m \u001b[0mself\u001b[0m\u001b[0;34m.\u001b[0m\u001b[0mdecodevalue\u001b[0m\u001b[0;34m(\u001b[0m\u001b[0mvalue\u001b[0m\u001b[0;34m)\u001b[0m\u001b[0;34m\u001b[0m\u001b[0;34m\u001b[0m\u001b[0m\n\u001b[1;32m    680\u001b[0m \u001b[0;34m\u001b[0m\u001b[0m\n",
      "\u001b[0;31mKeyError\u001b[0m: 'S1_PROCESS_P1'"
     ]
    }
   ],
   "source": [
    "\n",
    "for s in err[:1]:\n",
    "#     print(s)\n",
    "    prepareS1(s, s3_dir='fiji/tom/sentinel1_testing/', inter_dir='../data/S1_ARD/')"
   ]
  },
  {
   "cell_type": "code",
   "execution_count": null,
   "metadata": {},
   "outputs": [],
   "source": [
    "for url in urls:\n",
    "    \n",
    "    s3_name = url.plit('')[:]\n",
    "    \n",
    "    POpen(\"wget url down_path\")\n",
    "    \n",
    "    s3_single_upload(down_path)\n",
    "    \n",
    "    \n",
    "    "
   ]
  }
 ],
 "metadata": {
  "kernelspec": {
   "display_name": "Python 3",
   "language": "python",
   "name": "python3"
  },
  "language_info": {
   "codemirror_mode": {
    "name": "ipython",
    "version": 3
   },
   "file_extension": ".py",
   "mimetype": "text/x-python",
   "name": "python",
   "nbconvert_exporter": "python",
   "pygments_lexer": "ipython3",
   "version": "3.7.4"
  }
 },
 "nbformat": 4,
 "nbformat_minor": 4
}
