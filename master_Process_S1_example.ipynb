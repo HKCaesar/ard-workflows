{
 "cells": [
  {
   "cell_type": "code",
   "execution_count": 1,
   "metadata": {},
   "outputs": [],
   "source": [
    "%load_ext autoreload\n",
    "%autoreload 2\n",
    "%matplotlib inline"
   ]
  },
  {
   "cell_type": "markdown",
   "metadata": {},
   "source": [
    "## Master Template for processing each dataset\n",
    "- Sentinel-1 (in order of priority)\n",
    " - **SLC via ASF using IPP Colombia**: in testing\n",
    " - **GRD via ASF using PyroSAR S1 Paper**: under development"
   ]
  },
  {
   "cell_type": "code",
   "execution_count": 2,
   "metadata": {},
   "outputs": [],
   "source": [
    "import glob\n",
    "import shutil\n",
    "from datetime import datetime\n",
    "import pandas as pd\n",
    "import time\n",
    "import os\n",
    "\n",
    "from subprocess import Popen, PIPE, STDOUT\n",
    "\n",
    "from utils.prepS1 import prepareS1"
   ]
  },
  {
   "cell_type": "code",
   "execution_count": 3,
   "metadata": {},
   "outputs": [
    {
     "name": "stdout",
     "output_type": "stream",
     "text": [
      "16c353e3c1673eb9556e\n"
     ]
    }
   ],
   "source": [
    "os.environ['COPERNICUS_USERNAME']=\"...\"\n",
    "os.environ['COPERNICUS_PWD']=\"...\"\n",
    "\n",
    "os.environ['ASF_USERNAME']= str(pd.read_csv('../aws_creds.csv').ASF_USERNAME.values[0])\n",
    "os.environ['ASF_PWD']=str(pd.read_csv('../aws_creds.csv').ASF_PWD.values[0])\n",
    "os.environ['AWS_S3_ENDPOINT']= \"s3-uk-1.sa-catapult.co.uk\"\n",
    "\n",
    "os.environ['S1_PROCESS_P1'] = \"/home/tjones/IPP_Common_Sensing/ard-workflows-tj/utils/cs_s1_pt1_bnr_Orb_Cal_ML.xml\"\n",
    "os.environ['S1_PROCESS_P2A'] = \"/home/tjones/IPP_Common_Sensing/ard-workflows-tj/utils/cs_s1_pt2_TF_TC_dB_lsm_extdem.xml\"\n",
    "os.environ['S1_PROCESS_P2B'] = \"/home/tjones/IPP_Common_Sensing/ard-workflows-tj/utils/cs_s1_pt2_TF_TC_dB_lsm.xml\"\n",
    "os.environ['SNAP_GPT'] = \"/home/tjones/snap/bin/gpt\"\n",
    "\n",
    "os.environ['AWS_ACCESS_KEY_ID']= str(pd.read_csv('../aws_creds.csv').AWSAccessKeyId.values[0])\n",
    "os.environ['AWS_SECRET_ACCESS_KEY']= str(pd.read_csv('../aws_creds.csv').AWSSecretKey.values[0])\n",
    "print(os.environ['AWS_ACCESS_KEY_ID'])"
   ]
  },
  {
   "cell_type": "code",
   "execution_count": 4,
   "metadata": {},
   "outputs": [],
   "source": [
    "des_scenes_list = ['S1B_IW_SLC__1SDV_20190831T073944_20190831T074019_017826_0218C3_FFCE',\n",
    "                   'S1B_IW_SLC__1SDV_20190831T073916_20190831T073946_017826_0218C3_9DD8',\n",
    "                   'S1B_IW_SLC__1SDV_20190819T073943_20190819T074019_017651_021350_1E4A',\n",
    "                   'S1B_IW_SLC__1SDV_20190819T073916_20190819T073946_017651_021350_2701',\n",
    "                   'S1B_IW_SLC__1SDV_20190807T073943_20190807T074018_017476_020DDA_5CB6', \n",
    "                   'S1B_IW_SLC__1SDV_20190807T073915_20190807T073945_017476_020DDA_25DF', \n",
    "                   'S1B_IW_SLC__1SDV_20190726T073942_20190726T074017_017301_020896_1308']\n",
    "des_scenes_list = [\n",
    "    \"S1A_IW_GRDH_1SDV_20190912T151117_20190912T151142_028990_0349C6_D777\",\n",
    "    \"S1A_IW_GRDH_1SDV_20190912T151142_20190912T151207_028990_0349C6_D342\",\n",
    "    \"S1A_IW_GRDH_1SDV_20190912T151052_20190912T151117_028990_0349C6_D2E2\",\n",
    "    \"S1B_IW_GRDH_1SDV_20190911T151824_20190911T151849_017992_021DEF_EAF6\",\n",
    "    \"S1B_IW_GRDH_1SDV_20190911T151849_20190911T151914_017992_021DEF_A83B\"\n",
    "]\n",
    "\n",
    "\n",
    "test = [\n",
    "    'S1A_IW_GRDH_1SDV_20191025T064008_20191025T064044_029611_035F2D_0B2A',\n",
    "    'S1A_IW_GRDH_1SDV_20191013T064008_20191013T064044_029436_035929_1DCF',\n",
    "    'S1A_IW_GRDH_1SDV_20191001T064008_20191001T064044_029261_035324_C74C'\n",
    "]"
   ]
  },
  {
   "cell_type": "code",
   "execution_count": 8,
   "metadata": {},
   "outputs": [
    {
     "name": "stderr",
     "output_type": "stream",
     "text": [
      "INFO:root:S1A_IW_GRDH_1SDV_20191025T064008_20191025T064044_029611_035F2D_0B2A.SAFE S1A_IW_GRDH_1SDV_20191025T064008 Starting\n",
      "INFO:root:S1A_IW_GRDH_1SDV_20191025T064008_20191025T064044_029611_035F2D_0B2A.SAFE S1A_IW_GRDH_1SDV_20191025T064008 DOWNLOADING via ASF\n",
      "INFO:root:fetching: https://api.daac.asf.alaska.edu/services/search/param?granule_list=S1A_IW_GRDH_1SDV_20191025T064008_20191025T064044_029611_035F2D_0B2A&output=csv\n",
      "INFO:root:Extracting ASF scene: ../S1_ARD_3_timeout/S1A_IW_GRDH_1SDV_20191025T064008_tmp/S1A_IW_GRDH_1SDV_20191025T064008_20191025T064044_029611_035F2D_0B2A.zip\n",
      "INFO:root:S1A_IW_GRDH_1SDV_20191025T064008_20191025T064044_029611_035F2D_0B2A.SAFE S1A_IW_GRDH_1SDV_20191025T064008 DOWNLOADED via ASF\n",
      "INFO:root:['/home/tjones/snap/bin/gpt', '/home/tjones/IPP_Common_Sensing/ard-workflows-tj/utils/cs_s1_pt1_bnr_Orb_Cal_ML.xml', '-Pinput_grd=../S1_ARD_3_timeout/S1A_IW_GRDH_1SDV_20191025T064008_tmp/S1A_IW_GRDH_1SDV_20191025T064008_20191025T064044_029611_035F2D_0B2A.SAFE/manifest.safe', '-Poutput_ml=../S1_ARD_3_timeout/S1A_IW_GRDH_1SDV_20191025T064008_tmp/S1A_IW_GRDH_1SDV_20191025T064008_Orb_Cal_Deb_ML.dim']\n",
      "DEBUG:root:running ['/home/tjones/snap/bin/gpt', '/home/tjones/IPP_Common_Sensing/ard-workflows-tj/utils/cs_s1_pt1_bnr_Orb_Cal_ML.xml', '-Pinput_grd=../S1_ARD_3_timeout/S1A_IW_GRDH_1SDV_20191025T064008_tmp/S1A_IW_GRDH_1SDV_20191025T064008_20191025T064044_029611_035F2D_0B2A.SAFE/manifest.safe', '-Poutput_ml=../S1_ARD_3_timeout/S1A_IW_GRDH_1SDV_20191025T064008_tmp/S1A_IW_GRDH_1SDV_20191025T064008_Orb_Cal_Deb_ML.dim']\n",
      "INFO:snap_stderr:stderr:INFO: org.esa.snap.core.gpf.operators.tooladapter.ToolAdapterIO: Initializing external tool adapters\n",
      "INFO:snap_stderr:stderr:INFO: org.esa.snap.core.util.EngineVersionCheckActivator: Please check regularly for new updates for the best SNAP experience.\n",
      "INFO:snap_stdout:Executing processing graph\n",
      "INFO:snap_stderr:stderr:INFO: org.hsqldb.persist.Logger: dataFileCache open start\n",
      "INFO:snap_stdout:version = 3.1\n",
      "INFO:snap_stdout:....10%....20%....30%....40%....50%....60%....70%....80%....90% done.\n",
      "INFO:root:S1A_IW_GRDH_1SDV_20191025T064008_20191025T064044_029611_035F2D_0B2A.SAFE S1A_IW_GRDH_1SDV_20191025T064008 PROCESSED to MULTILOOK starting PT2\n",
      "DEBUG:root:Endpoint URL: http://s3-uk-1.sa-catapult.co.uk\n",
      "INFO:root:['/home/tjones/snap/bin/gpt', '/home/tjones/IPP_Common_Sensing/ard-workflows-tj/utils/cs_s1_pt2_TF_TC_dB_lsm_extdem.xml', '-Pinput_ml=../S1_ARD_3_timeout/S1A_IW_GRDH_1SDV_20191025T064008_tmp/S1A_IW_GRDH_1SDV_20191025T064008_Orb_Cal_Deb_ML.dim', '-Pext_dem=../S1_ARD_3_timeout/S1A_IW_GRDH_1SDV_20191025T064008_tmp/ext_dem.tif', '-Poutput_db=../S1_ARD_3_timeout/S1A_IW_GRDH_1SDV_20191025T064008_tmp/S1A_IW_GRDH_1SDV_20191025T064008_Orb_Cal_Deb_ML_TF_TC_dB.dim', '-Poutput_ls=../S1_ARD_3_timeout/S1A_IW_GRDH_1SDV_20191025T064008_tmp/S1A_IW_GRDH_1SDV_20191025T064008_Orb_Cal_Deb_ML_TF_TC_lsm.dim']\n",
      "DEBUG:root:running ['/home/tjones/snap/bin/gpt', '/home/tjones/IPP_Common_Sensing/ard-workflows-tj/utils/cs_s1_pt2_TF_TC_dB_lsm_extdem.xml', '-Pinput_ml=../S1_ARD_3_timeout/S1A_IW_GRDH_1SDV_20191025T064008_tmp/S1A_IW_GRDH_1SDV_20191025T064008_Orb_Cal_Deb_ML.dim', '-Pext_dem=../S1_ARD_3_timeout/S1A_IW_GRDH_1SDV_20191025T064008_tmp/ext_dem.tif', '-Poutput_db=../S1_ARD_3_timeout/S1A_IW_GRDH_1SDV_20191025T064008_tmp/S1A_IW_GRDH_1SDV_20191025T064008_Orb_Cal_Deb_ML_TF_TC_dB.dim', '-Poutput_ls=../S1_ARD_3_timeout/S1A_IW_GRDH_1SDV_20191025T064008_tmp/S1A_IW_GRDH_1SDV_20191025T064008_Orb_Cal_Deb_ML_TF_TC_lsm.dim']\n",
      "INFO:snap_stderr:stderr:INFO: org.esa.snap.core.gpf.operators.tooladapter.ToolAdapterIO: Initializing external tool adapters\n",
      "INFO:snap_stderr:stderr:INFO: org.esa.snap.core.util.EngineVersionCheckActivator: Please check regularly for new updates for the best SNAP experience.\n",
      "INFO:snap_stdout:Executing processing graph\n",
      "INFO:snap_stderr:stderr:INFO: org.hsqldb.persist.Logger: dataFileCache open start\n",
      "INFO:snap_stderr:stderr:INFO: org.hsqldb.persist.Logger: Database closed\n",
      "INFO:snap_stdout:....10%....20%....30%....40%....50%....60%....70%....80%....90% done.\n",
      "INFO:root:S1A_IW_GRDH_1SDV_20191025T064008_20191025T064044_029611_035F2D_0B2A.SAFE S1A_IW_GRDH_1SDV_20191025T064008 PROCESSED to dB + LSM\n",
      "INFO:root:S1A_IW_GRDH_1SDV_20191025T064008_20191025T064044_029611_035F2D_0B2A.SAFE S1A_IW_GRDH_1SDV_20191025T064008 Converting COGs\n",
      "INFO:root:converting ../S1_ARD_3_timeout/S1A_IW_GRDH_1SDV_20191025T064008_tmp/S1A_IW_GRDH_1SDV_20191025T064008_Orb_Cal_Deb_ML_TF_TC_dB.data/Gamma0_VH_db.img to cog at ../S1_ARD_3_timeout/S1A_IW_GRDH_1SDV_20191025T064008_tmp/S1A_IW_GRDH_1SDV_20191025T064008/S1A_IW_GRDH_1SDV_20191025T064008_Gamma0_VH_db.tif\n",
      "INFO:botocore.credentials:Found credentials in environment variables.\n",
      "INFO:root:converting ../S1_ARD_3_timeout/S1A_IW_GRDH_1SDV_20191025T064008_tmp/S1A_IW_GRDH_1SDV_20191025T064008_Orb_Cal_Deb_ML_TF_TC_dB.data/Gamma0_VV_db.img to cog at ../S1_ARD_3_timeout/S1A_IW_GRDH_1SDV_20191025T064008_tmp/S1A_IW_GRDH_1SDV_20191025T064008/S1A_IW_GRDH_1SDV_20191025T064008_Gamma0_VV_db.tif\n",
      "INFO:botocore.credentials:Found credentials in environment variables.\n",
      "INFO:root:converting ../S1_ARD_3_timeout/S1A_IW_GRDH_1SDV_20191025T064008_tmp/S1A_IW_GRDH_1SDV_20191025T064008_Orb_Cal_Deb_ML_TF_TC_lsm.data/LayoverShadow_MASK_VH.img to cog at ../S1_ARD_3_timeout/S1A_IW_GRDH_1SDV_20191025T064008_tmp/S1A_IW_GRDH_1SDV_20191025T064008/S1A_IW_GRDH_1SDV_20191025T064008_LayoverShadow_MASK_VH.tif\n",
      "INFO:botocore.credentials:Found credentials in environment variables.\n",
      "INFO:root:S1A_IW_GRDH_1SDV_20191025T064008_20191025T064044_029611_035F2D_0B2A.SAFE S1A_IW_GRDH_1SDV_20191025T064008 COGGED\n",
      "INFO:root:S1A_IW_GRDH_1SDV_20191025T064008_20191025T064044_029611_035F2D_0B2A.SAFE S1A_IW_GRDH_1SDV_20191025T064008 Copying original METADATA\n",
      "INFO:root:Copying original metadata file to cog dir: ../S1_ARD_3_timeout/S1A_IW_GRDH_1SDV_20191025T064008_tmp/S1A_IW_GRDH_1SDV_20191025T064008S1A_IW_GRDH_1SDV_20191025T064008_S1A_IW_GRDH_1SDV_20191025T064008_Orb_Cal_Deb_ML_TF_TC_dB.dim\n",
      "INFO:root:Copying original metadata file to cog dir: ../S1_ARD_3_timeout/S1A_IW_GRDH_1SDV_20191025T064008_tmp/S1A_IW_GRDH_1SDV_20191025T064008S1A_IW_GRDH_1SDV_20191025T064008_S1A_IW_GRDH_1SDV_20191025T064008_Orb_Cal_Deb_ML_TF_TC_lsm.dim\n",
      "INFO:root:S1A_IW_GRDH_1SDV_20191025T064008_20191025T064044_029611_035F2D_0B2A.SAFE S1A_IW_GRDH_1SDV_20191025T064008 COPIED original METADATA\n",
      "INFO:root:S1A_IW_GRDH_1SDV_20191025T064008_20191025T064044_029611_035F2D_0B2A.SAFE S1A_IW_GRDH_1SDV_20191025T064008 Creating dataset YAML\n",
      "INFO:root:Preparing scene S1A_IW_GRDH_1SDV_20191025T064008_tmp\n",
      "INFO:root:Scene path ../S1_ARD_3_timeout/S1A_IW_GRDH_1SDV_20191025T064008_tmp/S1A_IW_GRDH_1SDV_20191025T064008\n",
      "INFO:root:prod_path: ['../S1_ARD_3_timeout/S1A_IW_GRDH_1SDV_20191025T064008_tmp/S1A_IW_GRDH_1SDV_20191025T064008/S1A_IW_GRDH_1SDV_20191025T064008_Gamma0_VH_db.tif', '../S1_ARD_3_timeout/S1A_IW_GRDH_1SDV_20191025T064008_tmp/S1A_IW_GRDH_1SDV_20191025T064008/S1A_IW_GRDH_1SDV_20191025T064008_Gamma0_VV_db.tif', '../S1_ARD_3_timeout/S1A_IW_GRDH_1SDV_20191025T064008_tmp/S1A_IW_GRDH_1SDV_20191025T064008/S1A_IW_GRDH_1SDV_20191025T064008_LayoverShadow_MASK_VH.tif'], scene_name: S1A_IW_GRDH_1SDV_20191025T064008_tmp\n",
      "DEBUG:root:{'vh': {'path': 'S1A_IW_GRDH_1SDV_20191025T064008_LayoverShadow_MASK_VH.tif'}, 'vv': {'path': 'S1A_IW_GRDH_1SDV_20191025T064008_Gamma0_VV_db.tif'}}\n",
      "DEBUG:root:in get geometry ../S1_ARD_3_timeout/S1A_IW_GRDH_1SDV_20191025T064008_tmp/S1A_IW_GRDH_1SDV_20191025T064008/S1A_IW_GRDH_1SDV_20191025T064008_LayoverShadow_MASK_VH.tif\n",
      "INFO:botocore.credentials:Found credentials in environment variables.\n",
      "DEBUG:root:Created yaml: ../S1_ARD_3_timeout/S1A_IW_GRDH_1SDV_20191025T064008_tmp/S1A_IW_GRDH_1SDV_20191025T064008datacube-metadata.yaml\n",
      "INFO:root:S1A_IW_GRDH_1SDV_20191025T064008_20191025T064044_029611_035F2D_0B2A.SAFE S1A_IW_GRDH_1SDV_20191025T064008 Created original METADATA\n",
      "INFO:root:S1A_IW_GRDH_1SDV_20191025T064008_20191025T064044_029611_035F2D_0B2A.SAFE S1A_IW_GRDH_1SDV_20191025T064008 Uploading to S3 Bucket\n",
      "DEBUG:root:Endpoint URL: http://s3-uk-1.sa-catapult.co.uk\n",
      "INFO:root:Local source file: ../S1_ARD_3_timeout/S1A_IW_GRDH_1SDV_20191025T064008_tmp/S1A_IW_GRDH_1SDV_20191025T064008/S1A_IW_GRDH_1SDV_20191025T064008_Gamma0_VH_db.tif\n",
      "INFO:root:S3 target file: common_sensing/tom/sentinel_1_bespokedem/S1A_IW_GRDH_1SDV_20191025T064008/S1A_IW_GRDH_1SDV_20191025T064008_Gamma0_VH_db.tif\n",
      "INFO:root:Start: ../S1_ARD_3_timeout/S1A_IW_GRDH_1SDV_20191025T064008_tmp/S1A_IW_GRDH_1SDV_20191025T064008/S1A_IW_GRDH_1SDV_20191025T064008_Gamma0_VH_db.tif 2020-02-05 16:06:12\n",
      "INFO:root:Finish: ../S1_ARD_3_timeout/S1A_IW_GRDH_1SDV_20191025T064008_tmp/S1A_IW_GRDH_1SDV_20191025T064008/S1A_IW_GRDH_1SDV_20191025T064008_Gamma0_VH_db.tif 2020-02-05 16:07:10\n",
      "DEBUG:root:Endpoint URL: http://s3-uk-1.sa-catapult.co.uk\n",
      "INFO:root:Local source file: ../S1_ARD_3_timeout/S1A_IW_GRDH_1SDV_20191025T064008_tmp/S1A_IW_GRDH_1SDV_20191025T064008/S1A_IW_GRDH_1SDV_20191025T064008_Gamma0_VV_db.tif\n",
      "INFO:root:S3 target file: common_sensing/tom/sentinel_1_bespokedem/S1A_IW_GRDH_1SDV_20191025T064008/S1A_IW_GRDH_1SDV_20191025T064008_Gamma0_VV_db.tif\n",
      "INFO:root:Start: ../S1_ARD_3_timeout/S1A_IW_GRDH_1SDV_20191025T064008_tmp/S1A_IW_GRDH_1SDV_20191025T064008/S1A_IW_GRDH_1SDV_20191025T064008_Gamma0_VV_db.tif 2020-02-05 16:07:10\n",
      "INFO:root:Finish: ../S1_ARD_3_timeout/S1A_IW_GRDH_1SDV_20191025T064008_tmp/S1A_IW_GRDH_1SDV_20191025T064008/S1A_IW_GRDH_1SDV_20191025T064008_Gamma0_VV_db.tif 2020-02-05 16:08:10\n",
      "DEBUG:root:Endpoint URL: http://s3-uk-1.sa-catapult.co.uk\n",
      "INFO:root:Local source file: ../S1_ARD_3_timeout/S1A_IW_GRDH_1SDV_20191025T064008_tmp/S1A_IW_GRDH_1SDV_20191025T064008/S1A_IW_GRDH_1SDV_20191025T064008_LayoverShadow_MASK_VH.tif\n",
      "INFO:root:S3 target file: common_sensing/tom/sentinel_1_bespokedem/S1A_IW_GRDH_1SDV_20191025T064008/S1A_IW_GRDH_1SDV_20191025T064008_LayoverShadow_MASK_VH.tif\n",
      "INFO:root:Start: ../S1_ARD_3_timeout/S1A_IW_GRDH_1SDV_20191025T064008_tmp/S1A_IW_GRDH_1SDV_20191025T064008/S1A_IW_GRDH_1SDV_20191025T064008_LayoverShadow_MASK_VH.tif 2020-02-05 16:08:10\n",
      "INFO:root:Finish: ../S1_ARD_3_timeout/S1A_IW_GRDH_1SDV_20191025T064008_tmp/S1A_IW_GRDH_1SDV_20191025T064008/S1A_IW_GRDH_1SDV_20191025T064008_LayoverShadow_MASK_VH.tif 2020-02-05 16:08:10\n",
      "INFO:root:S1A_IW_GRDH_1SDV_20191025T064008_20191025T064044_029611_035F2D_0B2A.SAFE S1A_IW_GRDH_1SDV_20191025T064008 Uploaded to S3 Bucket\n"
     ]
    },
    {
     "name": "stdout",
     "output_type": "stream",
     "text": [
      "not boo\n"
     ]
    }
   ],
   "source": [
    "for s in test[:1]:\n",
    "#     print(s)\n",
    "    prepareS1(s, \n",
    "              ext_dem='common_sensing/ancillary_products/SRTM1Sec/SRTM30_Fiji_E.tif',\n",
    "              s3_bucket='public-eo-data', \n",
    "              s3_dir='common_sensing/tom/sentinel_1_bespokedem/', \n",
    "              inter_dir='../S1_ARD_3_timeout/')"
   ]
  },
  {
   "cell_type": "code",
   "execution_count": null,
   "metadata": {},
   "outputs": [],
   "source": [
    "for url in urls:\n",
    "    \n",
    "    s3_name = url.plit('')[:]\n",
    "    \n",
    "    POpen(\"wget url down_path\")\n",
    "    \n",
    "    s3_single_upload(down_path)\n",
    "    \n",
    "    \n",
    "    "
   ]
  }
 ],
 "metadata": {
  "kernelspec": {
   "display_name": "Python 3",
   "language": "python",
   "name": "python3"
  },
  "language_info": {
   "codemirror_mode": {
    "name": "ipython",
    "version": 3
   },
   "file_extension": ".py",
   "mimetype": "text/x-python",
   "name": "python",
   "nbconvert_exporter": "python",
   "pygments_lexer": "ipython3",
   "version": "3.6.10"
  }
 },
 "nbformat": 4,
 "nbformat_minor": 4
}
